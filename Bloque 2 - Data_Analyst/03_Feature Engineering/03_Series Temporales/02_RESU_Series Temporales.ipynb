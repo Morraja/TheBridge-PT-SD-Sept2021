{
 "cells": [
  {
   "cell_type": "markdown",
   "metadata": {
    "colab_type": "text",
    "id": "39hj0mbqVkTI"
   },
   "source": [
    "# Trabajando con series temporales"
   ]
  },
  {
   "cell_type": "markdown",
   "metadata": {
    "colab_type": "text",
    "id": "_6AiP6Z7VkTJ"
   },
   "source": [
    "Pandas se desarrolló con objetivo del modelado financiero, por lo que, como era de esperar, contiene un conjunto bastante extenso de herramientas para trabajar con fechas, horas y datos indexados por tiempo.\n",
    "Los datos de fecha y hora vienen tienen más de una representación:\n",
    "\n",
    "- **Marcas temporales** hacen referencia a momentos particulares en el tiempo (por ejemplo, July 4th, 2015 at 7:00am).\n",
    "- **Intervalos de tiempo** y **periodos** hacen referencia a un período de tiempo entre dos puntos determinados; por ejemplo, el año 2015. Los *periods* generalmente hacen referencia a un caso especial de intervalos de tiempo en los que cada intervalo tiene una duración uniforme y no se superpone (por ejemplo, períodos de 24 horas que comprenden días).\n",
    "- **Deltas temporales** o **duraciones** hacen referencia a un período de tiempo exacto (por ejemplo, una duración de 22.56 segundos).\n",
    "\n",
    "En esta sección, veremos cómo trabajar con cada uno de estos tipos de datos de fecha/hora en Pandas.\n",
    "\n",
    "Esto no será una guía completa de las herramientas de series de tiempo disponibles en Python o Pandas, sino mñas bien una descripción general de cómo podemos abordar el trabajo con series temporales.\n",
    "\n",
    "Comenzaremos con las herramientas para lidiar con fechas y horas en Python, antes de pasar más específicamente a las herramientas proporcionadas por Pandas.\n",
    "\n",
    "Después de enumerar algunos recursos más profundos, veremos algunos ejemplos breves de cómo trabajar con datos temporales en Pandas."
   ]
  },
  {
   "cell_type": "markdown",
   "metadata": {
    "colab_type": "text",
    "id": "rg2XTm_bVkTJ"
   },
   "source": [
    "## Fechas y horas en Pandas\n",
    "\n",
    "El mundo de Python tiene varias representaciones disponibles de fechas, horas, deltas e intervalos de tiempo.\n",
    "Si bien las herramientas de series temporales proporcionadas por Pandas tienden a ser las más útiles para las aplicaciones de ciencia de datos, es útil ver su relación con otros paquetes utilizados en Python."
   ]
  },
  {
   "cell_type": "markdown",
   "metadata": {
    "colab_type": "text",
    "id": "GUV2CpMRVkTK"
   },
   "source": [
    "### Fechas y horas nativas de Python: ``datetime`` y ``dateutil``\n",
    "\n",
    "Los objetos básicos de Python para trabajar con fechas y horas residen en el módulo built-in ``datetime``.\n",
    "Junto con el módulo de terceros ``dateutil``, podemos usarlos para realizar fácilmente una serie de funciones muy útiles con fechas y horas.\n",
    "Por ejemplo, podemos crear manualmente una fecha usando el tipo ``datetime``:"
   ]
  },
  {
   "cell_type": "code",
   "execution_count": 26,
   "metadata": {
    "colab": {
     "base_uri": "https://localhost:8080/",
     "height": 34
    },
    "colab_type": "code",
    "collapsed": false,
    "id": "m3T17dJ5VkTK",
    "jupyter": {
     "outputs_hidden": false
    },
    "outputId": "bfbc6773-55b0-4e98-ca14-6131c4d54ff4"
   },
   "outputs": [
    {
     "data": {
      "text/plain": [
       "datetime.datetime(2015, 7, 4, 0, 0)"
      ]
     },
     "execution_count": 26,
     "metadata": {},
     "output_type": "execute_result"
    }
   ],
   "source": [
    "from datetime import datetime\n",
    "datetime(year=2015, month=7, day=4)"
   ]
  },
  {
   "cell_type": "markdown",
   "metadata": {
    "colab_type": "text",
    "id": "fqhuoVOiVkTO"
   },
   "source": [
    "O, usando el módulo ``dateutil``, puedes convertir a fecha desde strings con varios formatos:"
   ]
  },
  {
   "cell_type": "code",
   "execution_count": 4,
   "metadata": {
    "colab": {
     "base_uri": "https://localhost:8080/",
     "height": 34
    },
    "colab_type": "code",
    "collapsed": false,
    "id": "QTd0fkyoVkTP",
    "jupyter": {
     "outputs_hidden": false
    },
    "outputId": "d11ab145-92c6-4621-e727-495f49217a4a"
   },
   "outputs": [
    {
     "data": {
      "text/plain": [
       "datetime.datetime(2015, 7, 4, 0, 0)"
      ]
     },
     "execution_count": 4,
     "metadata": {},
     "output_type": "execute_result"
    }
   ],
   "source": [
    "from dateutil import parser\n",
    "date = parser.parse(\"4th of July, 2015\")\n",
    "date"
   ]
  },
  {
   "cell_type": "markdown",
   "metadata": {},
   "source": [
    "Pero puede inferir muchos más:"
   ]
  },
  {
   "cell_type": "code",
   "execution_count": 5,
   "metadata": {},
   "outputs": [
    {
     "name": "stdout",
     "output_type": "stream",
     "text": [
      "2015-10-12 00:00:00\n",
      "2015-10-12 00:00:00\n",
      "2015-12-10 00:00:00\n"
     ]
    }
   ],
   "source": [
    "print(parser.parse(\"2015/10/12\"))\n",
    "print(parser.parse(\"2015-10-12\"))\n",
    "# Ojo, por defecto, en este formato interpreta mes-día-año\n",
    "print(parser.parse(\"12-10-2015\"))"
   ]
  },
  {
   "cell_type": "markdown",
   "metadata": {},
   "source": [
    "Incluso podría sacar el día de hoy, ahora mismo:"
   ]
  },
  {
   "cell_type": "code",
   "execution_count": 29,
   "metadata": {},
   "outputs": [
    {
     "data": {
      "text/plain": [
       "datetime.datetime(2020, 12, 16, 22, 7, 42, 458980)"
      ]
     },
     "execution_count": 29,
     "metadata": {},
     "output_type": "execute_result"
    }
   ],
   "source": [
    "date = datetime.now()\n",
    "date"
   ]
  },
  {
   "cell_type": "markdown",
   "metadata": {
    "colab_type": "text",
    "id": "Bw5SXOOjVkTR"
   },
   "source": [
    "Una vez que tenemos el objeto ``datetime``, podemos hacer cosas como imprimir el día de la semana:"
   ]
  },
  {
   "cell_type": "code",
   "execution_count": 30,
   "metadata": {
    "colab": {
     "base_uri": "https://localhost:8080/",
     "height": 34
    },
    "colab_type": "code",
    "collapsed": false,
    "id": "pt0oIZovVkTS",
    "jupyter": {
     "outputs_hidden": false
    },
    "outputId": "4c4f545c-d335-4535-c69a-ed472f781baa"
   },
   "outputs": [
    {
     "data": {
      "text/plain": [
       "'Wednesday'"
      ]
     },
     "execution_count": 30,
     "metadata": {},
     "output_type": "execute_result"
    }
   ],
   "source": [
    "date.strftime('%A')"
   ]
  },
  {
   "cell_type": "markdown",
   "metadata": {},
   "source": [
    "### EJERCICIO\n",
    "\n",
    "Interpreta las siguientes fechas y obtén qué día de la semana fue o va a ser (algunas las tendrás que interpretar tú y otras directamente):\n",
    "1. \"2020-09-15\"\n",
    "2. \"12th October, 1492\"\n",
    "3. 20 de Enero de 1999\n",
    "4. 7 de Marzo de 2077\n",
    "5. \"1512/02/01\"\n",
    "6. \"2021-05-22\""
   ]
  },
  {
   "cell_type": "code",
   "execution_count": 7,
   "metadata": {},
   "outputs": [
    {
     "name": "stdout",
     "output_type": "stream",
     "text": [
      "2020-09-15 00:00:00\n",
      "1492-10-12 00:00:00\n",
      "1999-01-20 00:00:00\n",
      "2077-03-07 00:00:00\n",
      "1512-02-01 00:00:00\n",
      "2021-05-22 00:00:00\n"
     ]
    }
   ],
   "source": [
    "print(parser.parse(\"2020-09-15\"))\n",
    "print(parser.parse(\"12th October, 1492\"))\n",
    "print(parser.parse(\"1999-01-20\"))\n",
    "print(parser.parse(\"2077-03-07\"))\n",
    "print(parser.parse(\"1512/02/01\"))\n",
    "print(parser.parse(\"2021-05-22\"))"
   ]
  },
  {
   "cell_type": "markdown",
   "metadata": {
    "colab_type": "text",
    "id": "TZL9eW3EVkTU"
   },
   "source": [
    "En la última línea, hemos usado uno de los códigos de formato de cadena estándar para imprimir fechas (``\"% A\"``), sobre el cual podemos leer en la [sección de strftime](https://docs.python.org/3/library/datetime.html#strftime-and-strptime-behavior) de la [documentación de Python](https://docs.python.org/3/library/datetime.html).\n",
    "\n",
    "La documentación de otras utilidades de fecha se puede encontrar en la [documentación en línea de dateutil](http://labix.org/python-dateutil).\n",
    "Un paquete relacionado a tener en cuenta es [``pytz``](http://pytz.sourceforge.net/), que contiene herramientas para trabajar con zonas horarias."
   ]
  },
  {
   "cell_type": "markdown",
   "metadata": {},
   "source": [
    "Pero no solo podemos hacer esto, sino que también podemos sumar y restar deltas temporales. Para ello, nos ayudaremos de ``relativedelta``, al cual le pasaremos los días, meses, años... que queramos utilizar en nuestra operación temporal.\n",
    "\n",
    "[Aquí](http://labix.org/python-dateutil#head-ba5ffd4df8111d1b83fc194b97ebecf837add454) puedes consultar más sobre este objeto. A continuación, algunos ejemplos:"
   ]
  },
  {
   "cell_type": "code",
   "execution_count": 24,
   "metadata": {},
   "outputs": [
    {
     "name": "stdout",
     "output_type": "stream",
     "text": [
      "2024-01-07 00:00:00\n",
      "1969-04-20 00:00:00\n",
      "1969-04-02 20:06:00\n"
     ]
    }
   ],
   "source": [
    "from dateutil.relativedelta import relativedelta\n",
    "\n",
    "# Restamos 8 días al 15 de enero de 2024:\n",
    "nueva_fecha = datetime(year=2024, month=1, day=15) - relativedelta(days=8)\n",
    "print(nueva_fecha)\n",
    "\n",
    "# Restamos 13 meses al 20 de mayo de 1970:\n",
    "nueva_fecha2 = datetime(year=1970, month=5, day=20) - relativedelta(months=13)\n",
    "print(nueva_fecha2)\n",
    "\n",
    "# Pero podemos juntar más cosas en una sola sentencia, y también funciona con horas:\n",
    "# Restamos 1 año, 48 días y 53 minutos al 20 de mayo de 1970 a las 20:59:00:\n",
    "nueva_fecha3 = datetime(year=1970, month=5, day=20, hour=20, minute=59, second=0) - relativedelta(years=1, days=48, minutes=53)\n",
    "print(nueva_fecha3)\n"
   ]
  },
  {
   "cell_type": "markdown",
   "metadata": {},
   "source": [
    "### EJERCICIO\n",
    "\n",
    "Utiliza las 4 primeras fechas del último ejercicio y calcula:\n",
    "1. Resta 24 días\n",
    "2. Suma 5 meses\n",
    "3. Suma 2 días y resta 4 meses\n",
    "4. Suma 1 año y 2 días\n",
    "\n",
    "Finalmente, utiliza la fecha y hora actual para calcular:\n",
    "1. Mes pasado\n",
    "2. Año pasado\n",
    "3. Hace 2 horas"
   ]
  },
  {
   "cell_type": "code",
   "execution_count": 73,
   "metadata": {},
   "outputs": [
    {
     "name": "stdout",
     "output_type": "stream",
     "text": [
      "2020-10-09 00:00:00\n",
      "1493-03-12 00:00:00\n",
      "1998-09-22 00:00:00\n",
      "2078-03-09 00:00:00\n"
     ]
    }
   ],
   "source": [
    "print(parser.parse(\"2020-09-15\") + relativedelta(days=24))\n",
    "print(parser.parse(\"12th October, 1492\") + relativedelta(months=5))\n",
    "print(parser.parse(\"1999-01-20\") + relativedelta(days=2, months=-4))\n",
    "print(parser.parse(\"2077-03-07\") + relativedelta(years=1, days=2))"
   ]
  },
  {
   "cell_type": "code",
   "execution_count": 74,
   "metadata": {},
   "outputs": [
    {
     "name": "stdout",
     "output_type": "stream",
     "text": [
      "2020-11-16 22:33:31.641439\n",
      "2019-12-16 22:33:31.641439\n",
      "2020-12-16 20:33:31.641439\n"
     ]
    }
   ],
   "source": [
    "print(datetime.now() - relativedelta(months=1))\n",
    "print(datetime.now() - relativedelta(years=1))\n",
    "print(datetime.now() - relativedelta(hours=2))"
   ]
  },
  {
   "cell_type": "markdown",
   "metadata": {},
   "source": [
    "Realmente, lo que hace ``relativedelta`` es crear un interfaz de manejo más sencillo sobre datetime (con el que podríamos trabajar directamente importando ``timedelta`` de ``datetime``), ya que, por defecto, datetime trabaja con la diferencia de fechas con días y segundos. Con ``relativedelta`` podemos utilizar meses y años para realizar operaciones con fechas.\n",
    "\n",
    "Por ello, si realizamos operaciones con funciones, obtenemos un objeto ``datetime.timedelta``:"
   ]
  },
  {
   "cell_type": "code",
   "execution_count": 75,
   "metadata": {},
   "outputs": [
    {
     "data": {
      "text/plain": [
       "datetime.timedelta(days=-222, seconds=61200)"
      ]
     },
     "execution_count": 75,
     "metadata": {},
     "output_type": "execute_result"
    }
   ],
   "source": [
    "a = datetime.now()\n",
    "b = datetime.now() - relativedelta(months=7, days=7, hours=7)\n",
    "\n",
    "b - a"
   ]
  },
  {
   "cell_type": "markdown",
   "metadata": {},
   "source": [
    "Por ello, mejor que trabajemos con ``relativedelta``, sin embargo, también podríamos trabajar con diferencias de fechas directamente, tal como hemos visto en el paso anterior. Por ejemplo, si queremos saber cuánto tiempo llevamos de clase:"
   ]
  },
  {
   "cell_type": "code",
   "execution_count": 76,
   "metadata": {},
   "outputs": [
    {
     "name": "stdout",
     "output_type": "stream",
     "text": [
      "-1 day, 4:28:32.426621\n"
     ]
    }
   ],
   "source": [
    "comienzo = datetime(year=2020, month=12, day=17, hour=18, minute=5)\n",
    "actual = datetime.now()\n",
    "\n",
    "tiempo_de_clase = actual - comienzo\n",
    "print(tiempo_de_clase)"
   ]
  },
  {
   "cell_type": "markdown",
   "metadata": {},
   "source": [
    "O podemos jugar con intervalos de tiempo en base a las fechas. Por ejemplo, si sabemos los días de comienzo y final de un evento que ha sucedido el año pasado, y queremos saber hasta cuándo durará el año que viene, suponiendo que lo han movido por culpa de la pandemia, podríamos hacer lo siguiente:"
   ]
  },
  {
   "cell_type": "code",
   "execution_count": 77,
   "metadata": {},
   "outputs": [
    {
     "name": "stdout",
     "output_type": "stream",
     "text": [
      "2021-09-09 00:00:00\n"
     ]
    }
   ],
   "source": [
    "comienzo_evento_pasado = datetime(year=2019, month=5, day=1)\n",
    "fin_evento_pasado = datetime(year=2019, month=6, day=12)\n",
    "\n",
    "comienzo_evento_next = datetime(year=2021, month=7, day=29)\n",
    "\n",
    "fin_evento_next = comienzo_evento_next + (fin_evento_pasado - comienzo_evento_pasado)\n",
    "\n",
    "print(fin_evento_next)"
   ]
  },
  {
   "cell_type": "markdown",
   "metadata": {},
   "source": [
    "El poder de ``datetime`` y ``dateutil`` radica en su flexibilidad y sintaxis sencilla: podemos usar estos objetos y sus métodos integrados para realizar fácilmente casi cualquier operación que nos pueda interesar.\n",
    "Donde fallan es cuando queremos trabajar con grandes conjuntos de fechas y horas:\n",
    "Así como las listas de variables numéricas de Python son subóptimas en comparación con los arrays numéricos de NumPy, las listas de objetos de fecha y hora de Python son subóptimas en comparación con los arrays tipados de fechas."
   ]
  },
  {
   "cell_type": "markdown",
   "metadata": {
    "colab_type": "text",
    "id": "BSPEPLCGVkTU"
   },
   "source": [
    "### Arrays tipados de fechas: ``datetime64`` de Numpy\n",
    "\n",
    "Las debilidades del formato de fecha y hora de Python inspiraron al equipo de NumPy a agregar un conjunto de tipos de datos de series temporales nativos a su propia librería.\n",
    "El dtype ``datetime64`` codifica las fechas como enteros de 64 bits y, por lo tanto, permite que losa rrays de fechas se representen de manera muy compacta.\n",
    "El ``datetime64`` requiere un formato de entrada muy específico:"
   ]
  },
  {
   "cell_type": "code",
   "execution_count": 78,
   "metadata": {
    "colab": {
     "base_uri": "https://localhost:8080/",
     "height": 34
    },
    "colab_type": "code",
    "collapsed": false,
    "id": "6YynSjAiVkTV",
    "jupyter": {
     "outputs_hidden": false
    },
    "outputId": "5bf3e5e8-71a4-4b18-f187-99cc4fd391fe"
   },
   "outputs": [
    {
     "data": {
      "text/plain": [
       "array('2015-07-04', dtype='datetime64[D]')"
      ]
     },
     "execution_count": 78,
     "metadata": {},
     "output_type": "execute_result"
    }
   ],
   "source": [
    "import numpy as np\n",
    "date = np.array('2015-07-04', dtype=np.datetime64)\n",
    "date"
   ]
  },
  {
   "cell_type": "markdown",
   "metadata": {
    "colab_type": "text",
    "id": "lRK7lO-UVkTX"
   },
   "source": [
    "Sin embargo, una vez que tengamos esta fecha formateada, podemos realizar rápidamente operaciones vectorizadas con ella:"
   ]
  },
  {
   "cell_type": "code",
   "execution_count": 79,
   "metadata": {
    "colab": {
     "base_uri": "https://localhost:8080/",
     "height": 86
    },
    "colab_type": "code",
    "collapsed": false,
    "id": "xpNxeO0sVkTX",
    "jupyter": {
     "outputs_hidden": false
    },
    "outputId": "a2f5c4e4-ed33-486c-8a41-fad7900219f0"
   },
   "outputs": [
    {
     "data": {
      "text/plain": [
       "array(['2015-07-04', '2015-07-05', '2015-07-06', '2015-07-07',\n",
       "       '2015-07-08', '2015-07-09', '2015-07-10', '2015-07-11',\n",
       "       '2015-07-12', '2015-07-13', '2015-07-14', '2015-07-15'],\n",
       "      dtype='datetime64[D]')"
      ]
     },
     "execution_count": 79,
     "metadata": {},
     "output_type": "execute_result"
    }
   ],
   "source": [
    "date + np.arange(12) # suma días"
   ]
  },
  {
   "cell_type": "markdown",
   "metadata": {
    "colab_type": "text",
    "id": "cTw12V1dVkTa"
   },
   "source": [
    "Gracias al tipado uniforme en los arrays de NumPy ``datetime64``, este tipo de operación se puede realizar mucho más rápido que si estuviéramos trabajando directamente con los objetos ``datetime`` de Python, especialmente a medida que los arrays se hacen más grandes.\n",
    "\n",
    "Un detalle de los objetos ``datetime64`` y ``timedelta64`` es que están construidos en una unidad de tiempo fundamental.\n",
    "Dado que el objeto ``datetime64`` está limitado a una precisión de 64 bits, el rango de tiempos codificables es $2^{64}$ veces esta unidad fundamental.\n",
    "En otras palabras, ``datetime64`` impone un trade-off entre la resolución de tiempo y el período de tiempo máximo.\n",
    "\n",
    "Por ejemplo, si deseas una resolución de tiempo de un nanosegundo, solo tiene suficiente información para codificar un rango de $2^{64}$ nanosegundos, que es algo menos de 600 años.\n",
    "NumPy inferirá la unidad deseada a partir de la entrada; por ejemplo, aquí hay una fecha a nivel de día:"
   ]
  },
  {
   "cell_type": "code",
   "execution_count": 80,
   "metadata": {
    "colab": {
     "base_uri": "https://localhost:8080/",
     "height": 34
    },
    "colab_type": "code",
    "collapsed": false,
    "id": "9Xb7R88GVkTa",
    "jupyter": {
     "outputs_hidden": false
    },
    "outputId": "1df43f9e-8115-4c4c-b160-173e1e0cac33"
   },
   "outputs": [
    {
     "data": {
      "text/plain": [
       "numpy.datetime64('2015-07-04')"
      ]
     },
     "execution_count": 80,
     "metadata": {},
     "output_type": "execute_result"
    }
   ],
   "source": [
    "np.datetime64('2015-07-04') # guarda hasta el día"
   ]
  },
  {
   "cell_type": "markdown",
   "metadata": {
    "colab_type": "text",
    "id": "DZWmriPLVkTd"
   },
   "source": [
    "Y aquí otra a nivel de minutos:"
   ]
  },
  {
   "cell_type": "code",
   "execution_count": 81,
   "metadata": {
    "colab": {
     "base_uri": "https://localhost:8080/",
     "height": 34
    },
    "colab_type": "code",
    "collapsed": false,
    "id": "9LN1EXA1VkTd",
    "jupyter": {
     "outputs_hidden": false
    },
    "outputId": "66ef0006-f820-4103-de61-f9eb98dec347"
   },
   "outputs": [
    {
     "data": {
      "text/plain": [
       "numpy.datetime64('2015-07-04T12:00')"
      ]
     },
     "execution_count": 81,
     "metadata": {},
     "output_type": "execute_result"
    }
   ],
   "source": [
    "np.datetime64('2015-07-04 12:00') # guarda hasta los minutos"
   ]
  },
  {
   "cell_type": "markdown",
   "metadata": {
    "colab_type": "text",
    "id": "1OeED8pPVkTf"
   },
   "source": [
    "Observa que la zona horaria se establece automáticamente como la hora local del ordenador que ejecuta el código.\n",
    "Puedes forzar cualquier unidad fundamental utilizando uno de los muchos códigos de formato; por ejemplo, aquí forzaremos un tiempo basado en nanosegundos:"
   ]
  },
  {
   "cell_type": "code",
   "execution_count": 82,
   "metadata": {
    "colab": {
     "base_uri": "https://localhost:8080/",
     "height": 34
    },
    "colab_type": "code",
    "collapsed": false,
    "id": "wu9ao2w1VkTf",
    "jupyter": {
     "outputs_hidden": false
    },
    "outputId": "f793da2e-a226-4f09-b3a0-41788f75e883"
   },
   "outputs": [
    {
     "data": {
      "text/plain": [
       "numpy.datetime64('2015-07-04T12:59:59.500000000')"
      ]
     },
     "execution_count": 82,
     "metadata": {},
     "output_type": "execute_result"
    }
   ],
   "source": [
    "np.datetime64('2015-07-04 12:59:59.50', 'ns') # fuerzo que se guarde en nanosegundos\n",
    "\n",
    "# la precisión de la variable datetime64 depende de hasta dónde se guarde el detalle de la fecha\n",
    "# a más detalle, menos periodo de tiempo abarcado"
   ]
  },
  {
   "cell_type": "markdown",
   "metadata": {
    "colab_type": "text",
    "id": "tbHCELHKVkTi"
   },
   "source": [
    "La siguiente tabla, extraída de la [docuemntación de datetime64 de NumPy](http://docs.scipy.org/doc/numpy/reference/arrays.datetime.html), enumera los códigos de formato disponibles junto con los períodos de tiempo relativos y absolutos que puede codificar:"
   ]
  },
  {
   "cell_type": "markdown",
   "metadata": {
    "colab_type": "text",
    "id": "6CMaenZhVkTi"
   },
   "source": [
    "|Code    | Meaning     | Time span (relative) | Time span (absolute)   |\n",
    "|--------|-------------|----------------------|------------------------|\n",
    "| ``Y``  | Year\t       | ± 9.2e18 years       | [9.2e18 BC, 9.2e18 AD] |\n",
    "| ``M``  | Month       | ± 7.6e17 years       | [7.6e17 BC, 7.6e17 AD] |\n",
    "| ``W``  | Week\t       | ± 1.7e17 years       | [1.7e17 BC, 1.7e17 AD] |\n",
    "| ``D``  | Day         | ± 2.5e16 years       | [2.5e16 BC, 2.5e16 AD] |\n",
    "| ``h``  | Hour        | ± 1.0e15 years       | [1.0e15 BC, 1.0e15 AD] |\n",
    "| ``m``  | Minute      | ± 1.7e13 years       | [1.7e13 BC, 1.7e13 AD] |\n",
    "| ``s``  | Second      | ± 2.9e12 years       | [ 2.9e9 BC, 2.9e9 AD]  |\n",
    "| ``ms`` | Millisecond | ± 2.9e9 years        | [ 2.9e6 BC, 2.9e6 AD]  |\n",
    "| ``us`` | Microsecond | ± 2.9e6 years        | [290301 BC, 294241 AD] |\n",
    "| ``ns`` | Nanosecond  | ± 292 years          | [ 1678 AD, 2262 AD]    |\n",
    "| ``ps`` | Picosecond  | ± 106 days           | [ 1969 AD, 1970 AD]    |\n",
    "| ``fs`` | Femtosecond | ± 2.6 hours          | [ 1969 AD, 1970 AD]    |\n",
    "| ``as`` | Attosecond  | ± 9.2 seconds        | [ 1969 AD, 1970 AD]    |"
   ]
  },
  {
   "cell_type": "markdown",
   "metadata": {
    "colab_type": "text",
    "id": "VMwy49qrVkTi"
   },
   "source": [
    "Para los tipos de datos que vemos en el mundo real, el valor predeterminado es ``datetime64[ns]``, ya que puede codificar un rango útil de fechas con una precisión adecuada.\n",
    "\n",
    "Finalmente, notaremos que si bien el tipo de datos ``datetime64`` aborda algunas de las deficiencias del tipo incorporado de Python ``datetime``, carece de muchos de los métodos y funciones convenientes proporcionados por ``datetime`` y ``dateutil``.\n",
    "Puede encontrar más información en la [documentación del datetime64 de NumPy](http://docs.scipy.org/doc/numpy/reference/arrays.datetime.html)."
   ]
  },
  {
   "cell_type": "markdown",
   "metadata": {},
   "source": [
    "### EJERCICIO\n",
    "\n",
    "Interpreta las siguientes fechas como ``datetime64`` según el periodo relativo que indique o que mejor se adapte:\n",
    "1. \"2020-09-15 00:00\"\n",
    "2. 12th October, 1492 (al nanosegundo)\n",
    "3. 20 de Enero de 1999 a las 15:24:10\n",
    "4. 7 de Marzo de 2077 01:01:01.00000001\n",
    "5. \"1512/02/01\" a las 23:00\n",
    "6. \"1512/02/01 23:30:10.00000034\"\n",
    "7. \"1512/02/01 23:30:10.00000034\" como segundos\n",
    "8. \"2021-05-22\" como microsegundos\n",
    "\n",
    "\n",
    "¿Has observado algo raro? ¿Entiendes por qué pasa?"
   ]
  },
  {
   "cell_type": "code",
   "execution_count": 90,
   "metadata": {},
   "outputs": [
    {
     "name": "stdout",
     "output_type": "stream",
     "text": [
      "2020-09-15T00:00\n",
      "2077-05-01T23:34:33.709551616\n",
      "1999-01-22T15:24:10\n",
      "2077-03-07T01:01:01.000000010\n",
      "1512-02-01T23:00\n",
      "2096-08-20T23:04:43.709551956\n",
      "1512-02-01T23:30:10\n",
      "2021-05-22T00:00:00.000000\n"
     ]
    }
   ],
   "source": [
    "print(np.datetime64(\"2020-09-15 00:00\"))\n",
    "print(np.datetime64(\"1492-10-12\", 'ns'))\n",
    "print(np.datetime64(\"1999-01-22 15:24:10\"))\n",
    "print(np.datetime64(\"2077-03-07 01:01:01.00000001\"))\n",
    "print(np.datetime64(\"1512-02-01 23:00\"))\n",
    "print(np.datetime64(\"1512-02-01 23:30:10.00000034\"))\n",
    "print(np.datetime64(\"1512-02-01 23:30:10.00000034\", \"s\"))\n",
    "print(np.datetime64(\"2021-05-22\", \"us\"))\n"
   ]
  },
  {
   "cell_type": "markdown",
   "metadata": {
    "colab_type": "text",
    "id": "kDYmV3uAVkTj"
   },
   "source": [
    "### Fechas y horas en Pandas: lo mejor de ambos mundos\n",
    "\n",
    "Pandas se basa en todas las herramientas que acabamos de comentar para proporcionar un objeto ``Timestamp``, que combina la facilidad de uso de ``datetime`` y ``dateutil`` con el almacenamiento eficiente y la interfaz vectorizada de ``numpy.datetime64``.\n",
    "\n",
    "A partir de un grupo de estos objetos de ``Timestamp``, Pandas puede construir un ``DatetimeIndex``, que se puede usar para indexar datos en un ``Series`` o ``DataFrame``; veremos muchos ejemplos de esto a continuación.\n",
    "\n",
    "Por ejemplo, podemos usar las herramientas de Pandas para repetir la demostración de arriba.\n",
    "Podemos analizar una fecha de cadena con formato flexible y usar códigos de formato para generar el día de la semana:"
   ]
  },
  {
   "cell_type": "code",
   "execution_count": 91,
   "metadata": {
    "colab": {
     "base_uri": "https://localhost:8080/",
     "height": 34
    },
    "colab_type": "code",
    "collapsed": false,
    "id": "-hpurSDqVkTj",
    "jupyter": {
     "outputs_hidden": false
    },
    "outputId": "20083292-1bbc-42fd-93f2-2c8b3fccd930"
   },
   "outputs": [
    {
     "data": {
      "text/plain": [
       "Timestamp('2015-07-04 00:00:00')"
      ]
     },
     "execution_count": 91,
     "metadata": {},
     "output_type": "execute_result"
    }
   ],
   "source": [
    "import pandas as pd\n",
    "date = pd.to_datetime(\"4th of July, 2015\")\n",
    "date"
   ]
  },
  {
   "cell_type": "code",
   "execution_count": 92,
   "metadata": {
    "colab": {
     "base_uri": "https://localhost:8080/",
     "height": 34
    },
    "colab_type": "code",
    "collapsed": false,
    "id": "NIY1t9zAVkTm",
    "jupyter": {
     "outputs_hidden": false
    },
    "outputId": "dcb4f161-ac22-4ef0-d191-f6ee7c9b68af"
   },
   "outputs": [
    {
     "data": {
      "text/plain": [
       "'Saturday'"
      ]
     },
     "execution_count": 92,
     "metadata": {},
     "output_type": "execute_result"
    }
   ],
   "source": [
    "date.strftime('%A')"
   ]
  },
  {
   "cell_type": "markdown",
   "metadata": {},
   "source": [
    "Si estamos con ``Timestamp`` y no con ``DatetimeIndex`` (es decir, que estamos con una fecha concreta y no con conjuntos de fechas), podemos utilizar el relativedelta:"
   ]
  },
  {
   "cell_type": "code",
   "execution_count": 142,
   "metadata": {},
   "outputs": [
    {
     "data": {
      "text/plain": [
       "Timestamp('2014-09-04 00:00:00')"
      ]
     },
     "execution_count": 142,
     "metadata": {},
     "output_type": "execute_result"
    }
   ],
   "source": [
    "date - relativedelta(months=10)"
   ]
  },
  {
   "cell_type": "markdown",
   "metadata": {
    "colab_type": "text",
    "id": "Jx5GL7WIVkTo"
   },
   "source": [
    "Con ello, podríamos hacer operaciones de conjuntos de datos basándonos en algo parecido a lo que hacíamos con las listas. Sin embargo, existe una forma de hacer operacinoes temporales al estilo de NumPy, y es con la función ``pd.to_timedelta``, tal como se ve a continuación:"
   ]
  },
  {
   "cell_type": "code",
   "execution_count": 121,
   "metadata": {
    "colab": {
     "base_uri": "https://localhost:8080/",
     "height": 86
    },
    "colab_type": "code",
    "collapsed": false,
    "id": "igNTs1nJVkTo",
    "jupyter": {
     "outputs_hidden": false
    },
    "outputId": "ffd4445e-853e-4318-aaf9-a90f252d7323"
   },
   "outputs": [
    {
     "data": {
      "text/plain": [
       "DatetimeIndex(['2015-07-04', '2015-07-05', '2015-07-06', '2015-07-07',\n",
       "               '2015-07-08', '2015-07-09', '2015-07-10', '2015-07-11',\n",
       "               '2015-07-12', '2015-07-13', '2015-07-14', '2015-07-15'],\n",
       "              dtype='datetime64[ns]', freq=None)"
      ]
     },
     "execution_count": 121,
     "metadata": {},
     "output_type": "execute_result"
    }
   ],
   "source": [
    "date + pd.to_timedelta(np.arange(12), 'd') # suma 12 días"
   ]
  },
  {
   "cell_type": "markdown",
   "metadata": {},
   "source": [
    "También podemos utilizar diferentes frecuencias, no solo diario, tal como indica esta tabla:\n",
    "\n",
    "| Code   | Description         |\n",
    "|--------|---------------------|\n",
    "| ``d``  | Calendar day        |\n",
    "| ``w``  | Weekly              |\n",
    "| ``h``  | Hours               |\n",
    "| ``T``  | Minutes             |\n",
    "| ``s``  | Seconds             |\n",
    "| ``l``  | Milliseonds         |\n",
    "| ``u``  | Microseconds        |\n",
    "| ``n``  | nanoseconds         |"
   ]
  },
  {
   "cell_type": "markdown",
   "metadata": {},
   "source": [
    "### EJERCICIO\n",
    "\n",
    "\n",
    "1. \n",
    "Ayudándote de la tabla anterior, crea una función que tome como parámetro:\n",
    " - fecha: un string con el formato de fecha \"YYYY-MM-DD\" (año-mes-día)\n",
    " - valor: un entero con el que se hará una operación sobre la fecha recibida\n",
    " - unidad: un string que valdrá cualquiera de los siguietnes strings: \"microsegundos\", \"milisegundos\", \"segundos\", \"minutos\", \"horas\", \"días\" o \"semanas\"\n",
    " - operación\": string que sea \"+\" o \"-\"\n",
    " \n",
    "La función deberá recoger un string con formato de fecha que debrá convertirse a tipo ``Timestamp``, tal como hemos visto con la función de Pandas. Después, se le sumará o restará \"valor\" con frecuencia \"unidad\", en función del parámetro \"operación\". Habrá que traducir el campo \"unidad\" a frecuencias entendibles por la función de Pandas.\n",
    "\n",
    "2. \n",
    "Modifica la función para aceptar una lista en el parámetro \"valor\", y que devuelva el DatetimeIndex correspondiente de hacer la operación con ese conjunto de fechas. Si quieres, puedes cambiar el nombre del parámetro a \"valores\" en lugar de \"valor\".\n"
   ]
  },
  {
   "cell_type": "code",
   "execution_count": 134,
   "metadata": {},
   "outputs": [
    {
     "data": {
      "text/plain": [
       "DatetimeIndex(['2015-07-04 00:00:00', '2015-07-04 00:00:01',\n",
       "               '2015-07-04 00:00:02', '2015-07-04 00:00:03',\n",
       "               '2015-07-04 00:00:04', '2015-07-04 00:00:05',\n",
       "               '2015-07-04 00:00:06', '2015-07-04 00:00:07',\n",
       "               '2015-07-04 00:00:08', '2015-07-04 00:00:09',\n",
       "               '2015-07-04 00:00:10', '2015-07-04 00:00:11'],\n",
       "              dtype='datetime64[ns]', freq=None)"
      ]
     },
     "execution_count": 134,
     "metadata": {},
     "output_type": "execute_result"
    }
   ],
   "source": [
    "date + pd.to_timedelta(np.arange(12), 's')"
   ]
  },
  {
   "cell_type": "code",
   "execution_count": 139,
   "metadata": {},
   "outputs": [
    {
     "data": {
      "text/plain": [
       "DatetimeIndex(['2020-10-11', '2019-06-09', '2020-12-06', '2019-12-01'], dtype='datetime64[ns]', freq=None)"
      ]
     },
     "execution_count": 139,
     "metadata": {},
     "output_type": "execute_result"
    }
   ],
   "source": [
    "def tiempea(fecha, valores=[0], unidad='segundos', operacion='+'):\n",
    "    map_unidades = {\"semanas\": 'w',\n",
    "                    \"dias\": 'd',\n",
    "                   \"horas\": 'h',\n",
    "                   \"minutos\": 't',\n",
    "                   \"segundos\": 's',\n",
    "                   \"milisegundos\": 'l',\n",
    "                   \"microsegundos\": 'u',\n",
    "                   \"nanosegundos\": 'n'}\n",
    "    \n",
    "    dt = pd.to_datetime(fecha)\n",
    "    \n",
    "    if operacion == '+':\n",
    "        return dt + pd.to_timedelta(valores, map_unidades[unidad])\n",
    "    elif operacion == '-':\n",
    "        return dt - pd.to_timedelta(valores, map_unidades[unidad])\n",
    "    else:\n",
    "        print(\"Operación no definida\")\n",
    "        return False\n",
    "    \n",
    "\n",
    "tiempea(\"2020-12-20\", valores=[10, 80, 2, 55], unidad='semanas', operacion='-')\n",
    "    "
   ]
  },
  {
   "cell_type": "markdown",
   "metadata": {},
   "source": [
    "### EJERCICIO\n",
    "\n",
    "Haz las siguientes operaciones y devuelve el día de la semana que fue esa fecha:\n",
    "\n",
    "1. \"2020-09-15\" + 15 días\n",
    "2. 20 de Enero de 1999 a las 15:24:10 + 2 minutos\n",
    "3. 7 de Marzo de 2077 01:01:01.00000001 - 1 año\n",
    "4. \"1512/02/01\" a las 23:00 + 5 nanosegundos\n",
    "5. \"1984-10-01\" - 370 semanas\n"
   ]
  },
  {
   "cell_type": "code",
   "execution_count": 141,
   "metadata": {},
   "outputs": [
    {
     "data": {
      "text/plain": [
       "'Saturday'"
      ]
     },
     "execution_count": 141,
     "metadata": {},
     "output_type": "execute_result"
    }
   ],
   "source": [
    "datetime.strftime((date + pd.to_timedelta(np.arange(3), 'm'))[-1], \"%A\")"
   ]
  },
  {
   "cell_type": "markdown",
   "metadata": {
    "colab_type": "text",
    "id": "FddBsAG_VkTq"
   },
   "source": [
    "En la siguiente sección, veremos más de cerca la manipulación de datos de series de tiempo con las herramientas proporcionadas por Pandas."
   ]
  },
  {
   "cell_type": "markdown",
   "metadata": {
    "colab_type": "text",
    "id": "YCDiBYBDVkTq"
   },
   "source": [
    "## Series temporales de Pandas: Indexando por tiempo\n",
    "\n",
    "Donde las herramientas de series temporales de Pandas se vuelven realmente útiles es cuando comenzamos a indexar datos por marcas temporales.\n",
    "Por ejemplo, podemos construir un objeto ``Series`` que tenga datos indexados por tiempo del siguiente modo:"
   ]
  },
  {
   "cell_type": "code",
   "execution_count": 143,
   "metadata": {
    "colab": {
     "base_uri": "https://localhost:8080/",
     "height": 103
    },
    "colab_type": "code",
    "collapsed": false,
    "id": "194oLXuXVkTr",
    "jupyter": {
     "outputs_hidden": false
    },
    "outputId": "4fd82729-7df9-4e9c-d94a-ebef098816d8"
   },
   "outputs": [
    {
     "data": {
      "text/plain": [
       "2014-07-04    0\n",
       "2014-08-04    1\n",
       "2015-07-04    2\n",
       "2015-08-04    3\n",
       "dtype: int64"
      ]
     },
     "execution_count": 143,
     "metadata": {},
     "output_type": "execute_result"
    }
   ],
   "source": [
    "index = pd.DatetimeIndex(['2014-07-04', '2014-08-04',\n",
    "                          '2015-07-04', '2015-08-04'])\n",
    "data = pd.Series([0, 1, 2, 3], index=index)\n",
    "data"
   ]
  },
  {
   "cell_type": "markdown",
   "metadata": {
    "colab_type": "text",
    "id": "d6eShUseVkTt"
   },
   "source": [
    "Ahora que tenemos estos datos en una ``Series``, podemos hacer uso de cualquiera de los patrones de indexación de las ``Series`` que discutimos en las secciones anteriores, pasando valores que se puedan convertir en fechas:"
   ]
  },
  {
   "cell_type": "code",
   "execution_count": 144,
   "metadata": {
    "colab": {
     "base_uri": "https://localhost:8080/",
     "height": 87
    },
    "colab_type": "code",
    "collapsed": false,
    "id": "nIqvs9uiVkTt",
    "jupyter": {
     "outputs_hidden": false
    },
    "outputId": "dd023173-dd6c-4ad9-b83e-25e735d3572a"
   },
   "outputs": [
    {
     "data": {
      "text/plain": [
       "2014-07-04    0\n",
       "2014-08-04    1\n",
       "2015-07-04    2\n",
       "dtype: int64"
      ]
     },
     "execution_count": 144,
     "metadata": {},
     "output_type": "execute_result"
    }
   ],
   "source": [
    "data['2014-07-04':'2015-07-04']"
   ]
  },
  {
   "cell_type": "markdown",
   "metadata": {
    "colab_type": "text",
    "id": "LV5fPY2zVkTv"
   },
   "source": [
    "Hay operaciones adicionales de indexación especiales exclusivas de las fechas, como pasar un año para obtener una porción de todos los datos de ese año:"
   ]
  },
  {
   "cell_type": "code",
   "execution_count": 145,
   "metadata": {
    "colab": {
     "base_uri": "https://localhost:8080/",
     "height": 69
    },
    "colab_type": "code",
    "collapsed": false,
    "id": "gYRiNBFqVkTv",
    "jupyter": {
     "outputs_hidden": false
    },
    "outputId": "80d4b1bc-7033-4d30-869f-c5c19174ddb5"
   },
   "outputs": [
    {
     "data": {
      "text/plain": [
       "2015-07-04    2\n",
       "2015-08-04    3\n",
       "dtype: int64"
      ]
     },
     "execution_count": 145,
     "metadata": {},
     "output_type": "execute_result"
    }
   ],
   "source": [
    "data['2015']"
   ]
  },
  {
   "cell_type": "markdown",
   "metadata": {
    "colab_type": "text",
    "id": "Eu8YjqLqVkTx"
   },
   "source": [
    "Más adelante, veremos ejemplos adicionales de la conveniencia de las fechas como índices.\n",
    "Pero antes, es interesante ver las estructuras de datos de series de tiempo disponibles."
   ]
  },
  {
   "cell_type": "markdown",
   "metadata": {
    "colab_type": "text",
    "id": "-eDiBHz7VkTy"
   },
   "source": [
    "## Estructuras de datos de series temporales en Pandas\n",
    "\n",
    "A continuación, presentaremos las estructuras de datos fundamentales de Pandas para trabajar con datos de series temporales:\n",
    "\n",
    "- Para *marcas temporales*, Pandas proporciona el tipo ``Timestamp``. Como se mencionó anteriormente, es esencialmente un reemplazo del ``datetime`` nativo de Python, pero se basa en el tipo de datos ``numpy.datetime64`` más eficiente. La estructura de índice asociada es `` DatetimeIndex ''.\n",
    "- Para *periodos de tiempo*, Pandas proporciona el tipo ``Period``. Esto codifica un intervalo de frecuencia fija basado en ``numpy.datetime64``. La estructura de índice asociada es ``PeriodIndex``.\n",
    "- Para *deltas de tiempo* o *duraciones*, Pandas proporciona el tipo ``Timedelta``. ``Timedelta`` es un reemplazo más eficiente para el tipo nativo de Python ``datetime.timedelta`` y se basa en ``numpy.timedelta64``. La estructura de índice asociada es ``TimedeltaIndex``."
   ]
  },
  {
   "cell_type": "markdown",
   "metadata": {
    "colab_type": "text",
    "id": "L21KeuAPVkTy"
   },
   "source": [
    "Lo más importante de estos objetos de fecha/hora son los objetos ``Timestamp`` y ``DatetimeIndex``.\n",
    "Si bien estos objetos se pueden invocar directamente instanciándolos desde su clase, es más común usar la función ``pd.to_datetime()``, que puede analizar una amplia variedad de formatos e inferirlos automáticamente.\n",
    "\n",
    "Pasar una sola fecha a ``pd.to_datetime()`` devuelve un ``Timestamp``; pasar una serie de fechas por defecto devuelve un ``DatetimeIndex``:"
   ]
  },
  {
   "cell_type": "code",
   "execution_count": 152,
   "metadata": {
    "colab": {
     "base_uri": "https://localhost:8080/",
     "height": 69
    },
    "colab_type": "code",
    "collapsed": false,
    "id": "MijsFC0PVkTy",
    "jupyter": {
     "outputs_hidden": false
    },
    "outputId": "85596cc1-6c92-4733-9428-3be2374fbaaa"
   },
   "outputs": [
    {
     "data": {
      "text/plain": [
       "DatetimeIndex(['2015-07-03', '2015-07-04', '2015-07-06', '2015-07-07',\n",
       "               '2015-07-08'],\n",
       "              dtype='datetime64[ns]', freq=None)"
      ]
     },
     "execution_count": 152,
     "metadata": {},
     "output_type": "execute_result"
    }
   ],
   "source": [
    "from datetime import datetime \n",
    "dates = pd.to_datetime([datetime(2015, 7, 3), '4th of July, 2015',\n",
    "                       '2015-Jul-6', '07-07-2015', '20150708'])\n",
    "dates\n",
    "\n",
    "# año mes día"
   ]
  },
  {
   "cell_type": "markdown",
   "metadata": {
    "colab_type": "text",
    "id": "S0H_dfZOVkT0"
   },
   "source": [
    "Cualquier ``DatetimeIndex`` puede ser convertido a ``PeriodIndex`` con la función ``to_period()`` añadiendo el código de la frecuencia. En este caso, usaremos ``'D'`` para indicar frecuencia diaria:"
   ]
  },
  {
   "cell_type": "code",
   "execution_count": 153,
   "metadata": {
    "colab": {
     "base_uri": "https://localhost:8080/",
     "height": 69
    },
    "colab_type": "code",
    "collapsed": false,
    "id": "BW6ILvNwVkT0",
    "jupyter": {
     "outputs_hidden": false
    },
    "outputId": "650f7c79-95a1-485b-94ce-e77544dd7366"
   },
   "outputs": [
    {
     "data": {
      "text/plain": [
       "PeriodIndex(['2015-07-03', '2015-07-04', '2015-07-06', '2015-07-07',\n",
       "             '2015-07-08'],\n",
       "            dtype='period[D]', freq='D')"
      ]
     },
     "execution_count": 153,
     "metadata": {},
     "output_type": "execute_result"
    }
   ],
   "source": [
    "dates.to_period('D')"
   ]
  },
  {
   "cell_type": "markdown",
   "metadata": {},
   "source": [
    "Fíjate que, si tenemos fechas diarias, utilizar una frecuencia no acorde con su distribución, como puede ser mensual, produce el mismo resultado si repetimos fechas del mismo mes:"
   ]
  },
  {
   "cell_type": "code",
   "execution_count": 155,
   "metadata": {},
   "outputs": [
    {
     "data": {
      "text/plain": [
       "PeriodIndex(['2015-07', '2015-07', '2015-07', '2015-07', '2015-07'], dtype='period[M]', freq='M')"
      ]
     },
     "execution_count": 155,
     "metadata": {},
     "output_type": "execute_result"
    }
   ],
   "source": [
    "dates.to_period('M')"
   ]
  },
  {
   "cell_type": "markdown",
   "metadata": {
    "colab_type": "text",
    "id": "JqpM8bUiVkT2"
   },
   "source": [
    "Los ``TimedeltaIndex`` aparecen, por ejemplo, cuando se restan dos fechas:"
   ]
  },
  {
   "cell_type": "code",
   "execution_count": 156,
   "metadata": {
    "colab": {
     "base_uri": "https://localhost:8080/",
     "height": 34
    },
    "colab_type": "code",
    "collapsed": false,
    "id": "cHGzM3l8VkT2",
    "jupyter": {
     "outputs_hidden": false
    },
    "outputId": "959c800e-c85c-4afd-b442-46211f89829e"
   },
   "outputs": [
    {
     "data": {
      "text/plain": [
       "TimedeltaIndex(['0 days', '1 days', '3 days', '4 days', '5 days'], dtype='timedelta64[ns]', freq=None)"
      ]
     },
     "execution_count": 156,
     "metadata": {},
     "output_type": "execute_result"
    }
   ],
   "source": [
    "dates - dates[0]"
   ]
  },
  {
   "cell_type": "markdown",
   "metadata": {},
   "source": [
    "### EJERCICIOS\n",
    "\n",
    "Ahora que ya hemos aprendido un poco más de esto, vamos a hacer ejercicios que realmente sirvan para algo:\n",
    "1. Lee el dataset de reseñas de yelp! (../../data/yelp_academic_dataset_review.csv)\n",
    "2. Quédate solo con las columnas \"stars\" y \"date\"\n",
    "3. Convierte la columna \"date\" en formato fecha\n",
    "4. Quédate con 1 registro por día y haz la media de stars\n",
    "5. ¿Cuál es la mayor diferencia de días sin registros?\n",
    "6. Vuelve al df original y crea un DatetimeIndex a partir de la columna 'date'. (Puede que no valga directamente con usar el ``Series``, sino que haya que tener los datos en cierto tipo de variable, mira el ejemplo)\n",
    "7. Créate, a partir de esa variable DatetimeIndex, una nueva variable PeriodIndex con frecuencia mensual, y asígnala a una nueva columna \"date_M\"\n",
    "8. Agrupa por esta variable y obtén el máximo, el mínimo y el total de \"stars\" por mes. ¿Qué mes ha sido el que más reseñas ha recibido?"
   ]
  },
  {
   "cell_type": "code",
   "execution_count": 168,
   "metadata": {},
   "outputs": [],
   "source": [
    "df = pd.read_csv(\"../../data/yelp_academic_dataset_review.csv\")[['stars', 'date']]\n",
    "df['date'] = pd.to_datetime(df['date'])\n",
    "df = df.groupby('date').agg({'stars': 'mean'})\n",
    "df = df.sort_index(ascending = True)"
   ]
  },
  {
   "cell_type": "code",
   "execution_count": 169,
   "metadata": {},
   "outputs": [
    {
     "data": {
      "text/plain": [
       "Timedelta('159 days 00:00:00')"
      ]
     },
     "execution_count": 169,
     "metadata": {},
     "output_type": "execute_result"
    }
   ],
   "source": [
    "diff = df.index[0] - df.index[0]\n",
    "diffs = []\n",
    "for i in range(1, len(df.index)):\n",
    "    aux_diff = df.index[i] - df.index[i-1]\n",
    "    if aux_diff > diff:\n",
    "        diff = aux_diff\n",
    "        diffs = [df.index[i-1], df.index[i]]\n",
    "diff"
   ]
  },
  {
   "cell_type": "code",
   "execution_count": 170,
   "metadata": {},
   "outputs": [
    {
     "data": {
      "text/plain": [
       "Timedelta('159 days 00:00:00')"
      ]
     },
     "execution_count": 170,
     "metadata": {},
     "output_type": "execute_result"
    }
   ],
   "source": [
    "# Otra opción para calcular las diferencias:\n",
    "fechas_1 = df.index[:-1]\n",
    "fechas_2 = df.index[1:]\n",
    "\n",
    "max_diff = max(fechas_2 - fechas_1)\n",
    "max_diff"
   ]
  },
  {
   "cell_type": "code",
   "execution_count": 171,
   "metadata": {},
   "outputs": [],
   "source": [
    "df = pd.read_csv(\"../../data/yelp_academic_dataset_review.csv\")[['stars', 'date']]\n",
    "dd = pd.to_datetime(df['date'].values)\n",
    "df['date_M'] = dd.to_period(\"M\")\n",
    "df_m = df.groupby(['date_M']).agg({'stars': ['max', 'min', 'count']})"
   ]
  },
  {
   "cell_type": "code",
   "execution_count": 175,
   "metadata": {},
   "outputs": [
    {
     "data": {
      "text/plain": [
       "Period('2012-01', 'M')"
      ]
     },
     "execution_count": 175,
     "metadata": {},
     "output_type": "execute_result"
    }
   ],
   "source": [
    "df_m.sort_values(by=[('stars', 'count')], ascending=False).index[0]"
   ]
  },
  {
   "cell_type": "markdown",
   "metadata": {
    "colab_type": "text",
    "id": "mds1iIpnVkT4"
   },
   "source": [
    "### Secuencias temporales: ``pd.date_range()``\n",
    "\n",
    "Para crer secuencias temporales, existen otros métodos más convenientes, para los que Pandas ofrece las siguientes funciones: ``pd.date_range()`` para marcas de tiempo, ``pd.period_range ()`` para períodos y ``pd.timedelta_range()`` para deltas de tiempo.\n",
    "\n",
    "Hemos visto que tanto ``range()`` de Python como ``np.arange()`` de NumPy generan una secuencia a partirde un punto de inicio, un punto final y un tamaño de paso (opcional).\n",
    "\n",
    "De manera similar, ``pd.date_range()`` acepta una fecha de inicio, una fecha de final y un código de frecuencia (opcional) para crear una secuencia regular de fechas.\n",
    "Por defecto, la frecuencia es de un día:"
   ]
  },
  {
   "cell_type": "code",
   "execution_count": 176,
   "metadata": {
    "colab": {
     "base_uri": "https://localhost:8080/",
     "height": 69
    },
    "colab_type": "code",
    "collapsed": false,
    "id": "CBBzyGBaVkT4",
    "jupyter": {
     "outputs_hidden": false
    },
    "outputId": "d6e0a13d-8c9a-4b54-af91-2745a6714b27"
   },
   "outputs": [
    {
     "data": {
      "text/plain": [
       "DatetimeIndex(['2015-07-03', '2015-07-04', '2015-07-05', '2015-07-06',\n",
       "               '2015-07-07', '2015-07-08', '2015-07-09', '2015-07-10'],\n",
       "              dtype='datetime64[ns]', freq='D')"
      ]
     },
     "execution_count": 176,
     "metadata": {},
     "output_type": "execute_result"
    }
   ],
   "source": [
    "pd.date_range('2015-07-03', '2015-07-10')"
   ]
  },
  {
   "cell_type": "markdown",
   "metadata": {
    "colab_type": "text",
    "id": "37-YtiJyVkT6"
   },
   "source": [
    "Alternativamente, el rango de fechas se puede especificar con un punto de inicio y un número de períodos, en lugar de un punto final:"
   ]
  },
  {
   "cell_type": "code",
   "execution_count": 178,
   "metadata": {
    "colab": {
     "base_uri": "https://localhost:8080/",
     "height": 69
    },
    "colab_type": "code",
    "collapsed": false,
    "id": "Nsr5QVUjVkT6",
    "jupyter": {
     "outputs_hidden": false
    },
    "outputId": "14f8906f-d654-4b2c-eb11-3c69247d511a"
   },
   "outputs": [
    {
     "data": {
      "text/plain": [
       "DatetimeIndex(['2015-07-03', '2015-07-04', '2015-07-05', '2015-07-06',\n",
       "               '2015-07-07', '2015-07-08', '2015-07-09', '2015-07-10'],\n",
       "              dtype='datetime64[ns]', freq='D')"
      ]
     },
     "execution_count": 178,
     "metadata": {},
     "output_type": "execute_result"
    }
   ],
   "source": [
    "pd.date_range('2015-07-03', periods=8) # 8 días"
   ]
  },
  {
   "cell_type": "markdown",
   "metadata": {
    "colab_type": "text",
    "id": "5G35rPaNVkT8"
   },
   "source": [
    "El espaciado se puede modificar alterando el argumento ``freq``, que por defecto es ``D`` (diario).\n",
    "Por ejemplo, si queremos crearnos un rango de marcas de tiempo por hora:"
   ]
  },
  {
   "cell_type": "code",
   "execution_count": 179,
   "metadata": {
    "colab": {
     "base_uri": "https://localhost:8080/",
     "height": 104
    },
    "colab_type": "code",
    "collapsed": false,
    "id": "p7S4ivGzVkT8",
    "jupyter": {
     "outputs_hidden": false
    },
    "outputId": "5fa94b74-b049-4ad4-8317-1c05d01634b9"
   },
   "outputs": [
    {
     "data": {
      "text/plain": [
       "DatetimeIndex(['2015-07-03 00:00:00', '2015-07-03 01:00:00',\n",
       "               '2015-07-03 02:00:00', '2015-07-03 03:00:00',\n",
       "               '2015-07-03 04:00:00', '2015-07-03 05:00:00',\n",
       "               '2015-07-03 06:00:00', '2015-07-03 07:00:00'],\n",
       "              dtype='datetime64[ns]', freq='H')"
      ]
     },
     "execution_count": 179,
     "metadata": {},
     "output_type": "execute_result"
    }
   ],
   "source": [
    "pd.date_range('2015-07-03', periods=8, freq='H') # 8 horas"
   ]
  },
  {
   "cell_type": "markdown",
   "metadata": {
    "colab_type": "text",
    "id": "G1ZoEA8PVkT9"
   },
   "source": [
    "Para crear secuencias regulares con valores ``Period`` o ``Timedelta``, podemos utilizar las funciones ``pd.period_range()`` y ``pd.timedelta_range()``, como se muestra en los siguientes ejemplos:"
   ]
  },
  {
   "cell_type": "code",
   "execution_count": 181,
   "metadata": {
    "colab": {
     "base_uri": "https://localhost:8080/",
     "height": 69
    },
    "colab_type": "code",
    "collapsed": false,
    "id": "XeJ3EdGjVkT-",
    "jupyter": {
     "outputs_hidden": false
    },
    "outputId": "91206377-a0fd-4227-99bd-889407460200"
   },
   "outputs": [
    {
     "data": {
      "text/plain": [
       "PeriodIndex(['2015-07', '2015-08', '2015-09', '2015-10', '2015-11', '2015-12',\n",
       "             '2016-01', '2016-02'],\n",
       "            dtype='period[M]', freq='M')"
      ]
     },
     "execution_count": 181,
     "metadata": {},
     "output_type": "execute_result"
    }
   ],
   "source": [
    "# Variando periodos de manera mensual:\n",
    "pd.period_range('2015-07', periods=8, freq='M') # 8 meses, de tipo periodo"
   ]
  },
  {
   "cell_type": "markdown",
   "metadata": {
    "colab_type": "text",
    "id": "snpbJGlbVkUA"
   },
   "source": [
    "And a sequence of durations increasing by an hour:"
   ]
  },
  {
   "cell_type": "code",
   "execution_count": 182,
   "metadata": {
    "colab": {
     "base_uri": "https://localhost:8080/",
     "height": 69
    },
    "colab_type": "code",
    "collapsed": false,
    "id": "61nFPzLAVkUA",
    "jupyter": {
     "outputs_hidden": false
    },
    "outputId": "06561a3c-9d8d-4803-fc3b-145e77df25b7"
   },
   "outputs": [
    {
     "data": {
      "text/plain": [
       "TimedeltaIndex(['00:00:00', '01:00:00', '02:00:00', '03:00:00', '04:00:00',\n",
       "                '05:00:00', '06:00:00', '07:00:00', '08:00:00', '09:00:00'],\n",
       "               dtype='timedelta64[ns]', freq='H')"
      ]
     },
     "execution_count": 182,
     "metadata": {},
     "output_type": "execute_result"
    }
   ],
   "source": [
    "# Variando timedeltas de manera horaria:\n",
    "pd.timedelta_range(0, periods=10, freq='H')"
   ]
  },
  {
   "cell_type": "markdown",
   "metadata": {
    "colab_type": "text",
    "id": "BSbceS4DVkUF"
   },
   "source": [
    "Todos estos métodos requieren una comprensión de los códigos de frecuencia de Pandas, que resumiremos en la siguiente sección."
   ]
  },
  {
   "cell_type": "markdown",
   "metadata": {
    "colab_type": "text",
    "id": "NrjUcHqJVkUF"
   },
   "source": [
    "## Frecuencias y Offsets\n",
    "\n",
    "Los conceptos de frecuencia y offset (temporal) son básicos para entender estas herramientas de series de tiempo de Pandas que estamos viendo.\n",
    "\n",
    "Así como hemos visto los códigos ``D`` (día) y ``H`` (hora), podemos usar dichos códigos para especificar cualquier espaciado de frecuencia deseado.\n",
    "La siguiente tabla resume los principales códigos disponibles:"
   ]
  },
  {
   "cell_type": "markdown",
   "metadata": {
    "colab_type": "text",
    "id": "NCfAVihAVkUF"
   },
   "source": [
    "| Code   | Description         | Code   | Description          |\n",
    "|--------|---------------------|--------|----------------------|\n",
    "| ``D``  | Calendar day        | ``B``  | Business day         |\n",
    "| ``W``  | Weekly              |        |                      |\n",
    "| ``M``  | Month end           | ``BM`` | Business month end   |\n",
    "| ``Q``  | Quarter end         | ``BQ`` | Business quarter end |\n",
    "| ``A``  | Year end            | ``BA`` | Business year end    |\n",
    "| ``H``  | Hours               | ``BH`` | Business hours       |\n",
    "| ``T``  | Minutes             |        |                      |\n",
    "| ``S``  | Seconds             |        |                      |\n",
    "| ``L``  | Milliseonds         |        |                      |\n",
    "| ``U``  | Microseconds        |        |                      |\n",
    "| ``N``  | nanoseconds         |        |                      |"
   ]
  },
  {
   "cell_type": "code",
   "execution_count": 189,
   "metadata": {
    "colab": {
     "base_uri": "https://localhost:8080/",
     "height": 69
    },
    "colab_type": "code",
    "collapsed": false,
    "id": "61nFPzLAVkUA",
    "jupyter": {
     "outputs_hidden": false
    },
    "outputId": "06561a3c-9d8d-4803-fc3b-145e77df25b7"
   },
   "outputs": [
    {
     "data": {
      "text/plain": [
       "PeriodIndex(['2015-07', '2015-08', '2015-09', '2015-10', '2015-11', '2015-12',\n",
       "             '2016-01', '2016-02'],\n",
       "            dtype='period[M]', freq='M')"
      ]
     },
     "execution_count": 189,
     "metadata": {},
     "output_type": "execute_result"
    }
   ],
   "source": [
    "# Variando periodos:\n",
    "pd.period_range('2015-07-01', periods=8, freq='M')"
   ]
  },
  {
   "cell_type": "code",
   "execution_count": 211,
   "metadata": {
    "colab": {
     "base_uri": "https://localhost:8080/",
     "height": 69
    },
    "colab_type": "code",
    "collapsed": false,
    "id": "61nFPzLAVkUA",
    "jupyter": {
     "outputs_hidden": false
    },
    "outputId": "06561a3c-9d8d-4803-fc3b-145e77df25b7"
   },
   "outputs": [
    {
     "data": {
      "text/plain": [
       "DatetimeIndex(['2020-03-31', '2020-06-30', '2020-09-30', '2020-12-31',\n",
       "               '2021-03-31', '2021-06-30', '2021-09-30', '2021-12-31',\n",
       "               '2022-03-31', '2022-06-30',\n",
       "               ...\n",
       "               '2080-03-29', '2080-06-28', '2080-09-30', '2080-12-31',\n",
       "               '2081-03-31', '2081-06-30', '2081-09-30', '2081-12-31',\n",
       "               '2082-03-31', '2082-06-30'],\n",
       "              dtype='datetime64[ns]', length=250, freq='BQ-DEC')"
      ]
     },
     "execution_count": 211,
     "metadata": {},
     "output_type": "execute_result"
    }
   ],
   "source": [
    "# Variando marcas de tiempo:\n",
    "pd.date_range(\"2020-1\", periods=250, freq='BQ')"
   ]
  },
  {
   "cell_type": "markdown",
   "metadata": {
    "colab_type": "text",
    "id": "W-Je7pQ4VkUG"
   },
   "source": [
    "Las frecuencias mensuales, trimestrales y anuales se marcan todas al final del período especificado.\n",
    "Al agregar el sufijo ``S`` a cualquiera de estos, hará que se devuelva la primera fecha de cada uno de ellos:"
   ]
  },
  {
   "cell_type": "markdown",
   "metadata": {
    "colab_type": "text",
    "id": "nLs88cVkVkUG"
   },
   "source": [
    "| Code    | Description            || Code    | Description            |\n",
    "|---------|------------------------||---------|------------------------|\n",
    "| ``MS``  | Month start            ||``BMS``  | Business month start   |\n",
    "| ``QS``  | Quarter start          ||``BQS``  | Business quarter start |\n",
    "| ``AS``  | Year start             ||``BAS``  | Business year start    |"
   ]
  },
  {
   "cell_type": "code",
   "execution_count": 216,
   "metadata": {},
   "outputs": [
    {
     "data": {
      "text/plain": [
       "DatetimeIndex(['2020-01-01', '2021-01-01', '2022-01-03', '2023-01-02',\n",
       "               '2024-01-01', '2025-01-01', '2026-01-01', '2027-01-01',\n",
       "               '2028-01-03', '2029-01-01', '2030-01-01', '2031-01-01',\n",
       "               '2032-01-01', '2033-01-03', '2034-01-02', '2035-01-01',\n",
       "               '2036-01-01', '2037-01-01', '2038-01-01', '2039-01-03'],\n",
       "              dtype='datetime64[ns]', freq='BAS-JAN')"
      ]
     },
     "execution_count": 216,
     "metadata": {},
     "output_type": "execute_result"
    }
   ],
   "source": [
    "# Sacando el primer día laborable del año a lo largo de los próximos 20 años:\n",
    "pd.date_range(\"2020-1\", periods=20, freq='BAS')"
   ]
  },
  {
   "cell_type": "markdown",
   "metadata": {
    "colab_type": "text",
    "id": "dJll0NcWVkUG"
   },
   "source": [
    "Además, podemos cambiar el mes utilizado para marcar cualquier código trimestral o anual agregando un código de mes de tres letras como sufijo:\n",
    "\n",
    "- ``Q-JAN``, ``BQ-FEB``, ``QS-MAR``, ``BQS-APR``, etc.\n",
    "- ``A-JAN``, ``BA-FEB``, ``AS-MAR``, ``BAS-APR``, etc.\n",
    "\n",
    "Del mismo modo, el día de la semana que se utiliza de referencia se puede modificar agregando un código de día de la semana de tres letras:\n",
    "\n",
    "- ``W-SUN``, ``W-MON``, ``W-TUE``, ``W-WED``, etc.\n",
    "\n",
    "Además de esto, los códigos se pueden combinar con números para especificar otras frecuencias.\n",
    "Por ejemplo, para una frecuencia de 2 horas 30 minutos, podemos combinar los códigos de hora (``H``) y minutos (``T``) de la siguiente manera:"
   ]
  },
  {
   "cell_type": "code",
   "execution_count": 222,
   "metadata": {
    "colab": {
     "base_uri": "https://localhost:8080/",
     "height": 69
    },
    "colab_type": "code",
    "collapsed": false,
    "id": "_R3q6aY5VkUH",
    "jupyter": {
     "outputs_hidden": false
    },
    "outputId": "a1ae90b7-cff5-4a15-a718-fab781030d27"
   },
   "outputs": [
    {
     "data": {
      "text/plain": [
       "TimedeltaIndex(['00:00:00', '02:30:00', '05:00:00', '07:30:00', '10:00:00',\n",
       "                '12:30:00', '15:00:00', '17:30:00', '20:00:00'],\n",
       "               dtype='timedelta64[ns]', freq='150T')"
      ]
     },
     "execution_count": 222,
     "metadata": {},
     "output_type": "execute_result"
    }
   ],
   "source": [
    "pd.timedelta_range(0, periods=9, freq=\"2H30T\") # tengo 9 timedelta separados 2H30T"
   ]
  },
  {
   "cell_type": "markdown",
   "metadata": {
    "colab_type": "text",
    "id": "9YXmLnZsVkUI"
   },
   "source": [
    "Todos estos códigos hacen referencia a instancias específicas de offsets de series temporales de Pandas, que se pueden encontrar en el módulo ``pd.tseries.offsets``.\n",
    "\n",
    "Por ejemplo, podemos crear un offset de día laborable directamente de la siguiente manera:"
   ]
  },
  {
   "cell_type": "code",
   "execution_count": 224,
   "metadata": {
    "colab": {
     "base_uri": "https://localhost:8080/",
     "height": 69
    },
    "colab_type": "code",
    "collapsed": false,
    "id": "gS9-arY7VkUI",
    "jupyter": {
     "outputs_hidden": false
    },
    "outputId": "c336756b-2cac-48b6-bf13-e06487978856"
   },
   "outputs": [
    {
     "data": {
      "text/plain": [
       "DatetimeIndex(['2015-07-01', '2015-07-02', '2015-07-03', '2015-07-06',\n",
       "               '2015-07-07'],\n",
       "              dtype='datetime64[ns]', freq='B')"
      ]
     },
     "execution_count": 224,
     "metadata": {},
     "output_type": "execute_result"
    }
   ],
   "source": [
    "from pandas.tseries.offsets import BDay\n",
    "pd.date_range('2015-07-01', periods=5, freq=BDay()) # me devuelve 5 business days seguidos"
   ]
  },
  {
   "cell_type": "markdown",
   "metadata": {
    "colab_type": "text",
    "id": "blfIUfNXVkUK"
   },
   "source": [
    "Si quieres profundizar sobre las frecuencias y los offsets, puedes acceder a la documentación de Pandas en la sección [DateOffset objects](https://pandas.pydata.org/pandas-docs/stable/user_guide/timeseries.html#dateoffset-objects)."
   ]
  },
  {
   "cell_type": "markdown",
   "metadata": {
    "colab_type": "text",
    "id": "sT4Kc3SVVkUL"
   },
   "source": [
    "## Remuestreo, desplazamiento y ventaneo\n",
    "\n",
    "La capacidad de utilizar fechas y horas como índices para organizar y acceder a los datos de forma intuitiva es una pieza importante de las herramientas de series temporales de Pandas.\n",
    "Los beneficios de los datos indexados en general (alineación automática durante las operaciones, slicing y acceso intuitivo de datos, etc.) siguen aplicando, y Pandas proporciona varias operaciones adicionales específicas de series de tiempo para trabajar con ellos.\n",
    "\n",
    "\n",
    "Echaremos un vistazo a algunos de ellos aquí, usando algunos datos de precios de acciones, por ejemplo.\n",
    "Debido a que Pandas se desarrolló principalmente en un contexto financiero, incluye algunas herramientas muy específicas para datos financieros.\n",
    "Por ejemplo, el paquete adjunto ``pandas-datareader`` (instalable a través de `` conda install pandas-datareader ``), sabe cómo importar datos financieros de varias fuentes disponibles, incluidas Yahoo Finance, Google Finance y otras.\n",
    "Aquí cargaremos el historial de precios de cierre de Google:"
   ]
  },
  {
   "cell_type": "code",
   "execution_count": 226,
   "metadata": {},
   "outputs": [
    {
     "name": "stdout",
     "output_type": "stream",
     "text": [
      "<class 'pandas.core.frame.DataFrame'>\n",
      "RangeIndex: 2518 entries, 0 to 2517\n",
      "Data columns (total 7 columns):\n",
      " #   Column     Non-Null Count  Dtype  \n",
      "---  ------     --------------  -----  \n",
      " 0   Date       2518 non-null   object \n",
      " 1   Open       2518 non-null   float64\n",
      " 2   High       2518 non-null   float64\n",
      " 3   Low        2518 non-null   float64\n",
      " 4   Close      2518 non-null   float64\n",
      " 5   Adj Close  2518 non-null   float64\n",
      " 6   Volume     2518 non-null   int64  \n",
      "dtypes: float64(5), int64(1), object(1)\n",
      "memory usage: 137.8+ KB\n"
     ]
    }
   ],
   "source": [
    "import pandas as pd \n",
    "\n",
    "goog = pd.read_csv('GOOG.csv')\n",
    "goog.info()\n",
    "goog['Date'] =  pd.to_datetime(goog['Date'])\n",
    "\n",
    "goog.set_index('Date', inplace=True)"
   ]
  },
  {
   "cell_type": "code",
   "execution_count": 227,
   "metadata": {
    "colab": {
     "base_uri": "https://localhost:8080/",
     "height": 450
    },
    "colab_type": "code",
    "id": "ZxqQwkINMt-O",
    "outputId": "f35ea031-d1ff-48e7-e272-ee601dfb477b"
   },
   "outputs": [
    {
     "data": {
      "text/html": [
       "<div>\n",
       "<style scoped>\n",
       "    .dataframe tbody tr th:only-of-type {\n",
       "        vertical-align: middle;\n",
       "    }\n",
       "\n",
       "    .dataframe tbody tr th {\n",
       "        vertical-align: top;\n",
       "    }\n",
       "\n",
       "    .dataframe thead th {\n",
       "        text-align: right;\n",
       "    }\n",
       "</style>\n",
       "<table border=\"1\" class=\"dataframe\">\n",
       "  <thead>\n",
       "    <tr style=\"text-align: right;\">\n",
       "      <th></th>\n",
       "      <th>Open</th>\n",
       "      <th>High</th>\n",
       "      <th>Low</th>\n",
       "      <th>Close</th>\n",
       "      <th>Adj Close</th>\n",
       "      <th>Volume</th>\n",
       "    </tr>\n",
       "    <tr>\n",
       "      <th>Date</th>\n",
       "      <th></th>\n",
       "      <th></th>\n",
       "      <th></th>\n",
       "      <th></th>\n",
       "      <th></th>\n",
       "      <th></th>\n",
       "    </tr>\n",
       "  </thead>\n",
       "  <tbody>\n",
       "    <tr>\n",
       "      <th>2010-01-04</th>\n",
       "      <td>312.304413</td>\n",
       "      <td>313.579620</td>\n",
       "      <td>310.954468</td>\n",
       "      <td>312.204773</td>\n",
       "      <td>312.204773</td>\n",
       "      <td>3927000</td>\n",
       "    </tr>\n",
       "    <tr>\n",
       "      <th>2010-01-05</th>\n",
       "      <td>312.418976</td>\n",
       "      <td>312.747742</td>\n",
       "      <td>309.609497</td>\n",
       "      <td>310.829926</td>\n",
       "      <td>310.829926</td>\n",
       "      <td>6031900</td>\n",
       "    </tr>\n",
       "    <tr>\n",
       "      <th>2010-01-06</th>\n",
       "      <td>311.761444</td>\n",
       "      <td>311.761444</td>\n",
       "      <td>302.047852</td>\n",
       "      <td>302.994293</td>\n",
       "      <td>302.994293</td>\n",
       "      <td>7987100</td>\n",
       "    </tr>\n",
       "    <tr>\n",
       "      <th>2010-01-07</th>\n",
       "      <td>303.562164</td>\n",
       "      <td>303.861053</td>\n",
       "      <td>295.218445</td>\n",
       "      <td>295.940735</td>\n",
       "      <td>295.940735</td>\n",
       "      <td>12876600</td>\n",
       "    </tr>\n",
       "    <tr>\n",
       "      <th>2010-01-08</th>\n",
       "      <td>294.894653</td>\n",
       "      <td>300.498657</td>\n",
       "      <td>293.455048</td>\n",
       "      <td>299.885956</td>\n",
       "      <td>299.885956</td>\n",
       "      <td>9483900</td>\n",
       "    </tr>\n",
       "    <tr>\n",
       "      <th>...</th>\n",
       "      <td>...</td>\n",
       "      <td>...</td>\n",
       "      <td>...</td>\n",
       "      <td>...</td>\n",
       "      <td>...</td>\n",
       "      <td>...</td>\n",
       "    </tr>\n",
       "    <tr>\n",
       "      <th>2019-12-27</th>\n",
       "      <td>1362.989990</td>\n",
       "      <td>1364.530029</td>\n",
       "      <td>1349.310059</td>\n",
       "      <td>1351.890015</td>\n",
       "      <td>1351.890015</td>\n",
       "      <td>1038400</td>\n",
       "    </tr>\n",
       "    <tr>\n",
       "      <th>2019-12-30</th>\n",
       "      <td>1350.000000</td>\n",
       "      <td>1353.000000</td>\n",
       "      <td>1334.020020</td>\n",
       "      <td>1336.140015</td>\n",
       "      <td>1336.140015</td>\n",
       "      <td>1050900</td>\n",
       "    </tr>\n",
       "    <tr>\n",
       "      <th>2019-12-31</th>\n",
       "      <td>1330.109985</td>\n",
       "      <td>1338.000000</td>\n",
       "      <td>1329.084961</td>\n",
       "      <td>1337.020020</td>\n",
       "      <td>1337.020020</td>\n",
       "      <td>961800</td>\n",
       "    </tr>\n",
       "    <tr>\n",
       "      <th>2020-01-02</th>\n",
       "      <td>1341.550049</td>\n",
       "      <td>1368.140015</td>\n",
       "      <td>1341.550049</td>\n",
       "      <td>1367.369995</td>\n",
       "      <td>1367.369995</td>\n",
       "      <td>1406600</td>\n",
       "    </tr>\n",
       "    <tr>\n",
       "      <th>2020-01-03</th>\n",
       "      <td>1347.859985</td>\n",
       "      <td>1372.500000</td>\n",
       "      <td>1345.543945</td>\n",
       "      <td>1360.660034</td>\n",
       "      <td>1360.660034</td>\n",
       "      <td>1186400</td>\n",
       "    </tr>\n",
       "  </tbody>\n",
       "</table>\n",
       "<p>2518 rows × 6 columns</p>\n",
       "</div>"
      ],
      "text/plain": [
       "                   Open         High          Low        Close    Adj Close  \\\n",
       "Date                                                                          \n",
       "2010-01-04   312.304413   313.579620   310.954468   312.204773   312.204773   \n",
       "2010-01-05   312.418976   312.747742   309.609497   310.829926   310.829926   \n",
       "2010-01-06   311.761444   311.761444   302.047852   302.994293   302.994293   \n",
       "2010-01-07   303.562164   303.861053   295.218445   295.940735   295.940735   \n",
       "2010-01-08   294.894653   300.498657   293.455048   299.885956   299.885956   \n",
       "...                 ...          ...          ...          ...          ...   \n",
       "2019-12-27  1362.989990  1364.530029  1349.310059  1351.890015  1351.890015   \n",
       "2019-12-30  1350.000000  1353.000000  1334.020020  1336.140015  1336.140015   \n",
       "2019-12-31  1330.109985  1338.000000  1329.084961  1337.020020  1337.020020   \n",
       "2020-01-02  1341.550049  1368.140015  1341.550049  1367.369995  1367.369995   \n",
       "2020-01-03  1347.859985  1372.500000  1345.543945  1360.660034  1360.660034   \n",
       "\n",
       "              Volume  \n",
       "Date                  \n",
       "2010-01-04   3927000  \n",
       "2010-01-05   6031900  \n",
       "2010-01-06   7987100  \n",
       "2010-01-07  12876600  \n",
       "2010-01-08   9483900  \n",
       "...              ...  \n",
       "2019-12-27   1038400  \n",
       "2019-12-30   1050900  \n",
       "2019-12-31    961800  \n",
       "2020-01-02   1406600  \n",
       "2020-01-03   1186400  \n",
       "\n",
       "[2518 rows x 6 columns]"
      ]
     },
     "execution_count": 227,
     "metadata": {},
     "output_type": "execute_result"
    }
   ],
   "source": [
    "goog"
   ]
  },
  {
   "cell_type": "markdown",
   "metadata": {
    "colab_type": "text",
    "id": "cvADoADKVkUM"
   },
   "source": [
    "Para simplificar, usaremos solo el precio de cierre:"
   ]
  },
  {
   "cell_type": "code",
   "execution_count": 228,
   "metadata": {
    "colab": {
     "base_uri": "https://localhost:8080/",
     "height": 244
    },
    "colab_type": "code",
    "id": "e-gSWt0AVkUN",
    "outputId": "d64431dc-8fb8-4cd6-9ac5-1a9cc57f6a7f"
   },
   "outputs": [
    {
     "data": {
      "text/plain": [
       "Date\n",
       "2010-01-04     312.204773\n",
       "2010-01-05     310.829926\n",
       "2010-01-06     302.994293\n",
       "2010-01-07     295.940735\n",
       "2010-01-08     299.885956\n",
       "                 ...     \n",
       "2019-12-27    1351.890015\n",
       "2019-12-30    1336.140015\n",
       "2019-12-31    1337.020020\n",
       "2020-01-02    1367.369995\n",
       "2020-01-03    1360.660034\n",
       "Name: Close, Length: 2518, dtype: float64"
      ]
     },
     "execution_count": 228,
     "metadata": {},
     "output_type": "execute_result"
    }
   ],
   "source": [
    "goog = goog['Close']\n",
    "goog"
   ]
  },
  {
   "cell_type": "markdown",
   "metadata": {
    "colab_type": "text",
    "id": "20TK9yGYVkUO"
   },
   "source": [
    "Podemos visualizar esto usando el método ``plot()``, para lo que teníamos que importar y realizar las configuraciones previas de Matplotlib:"
   ]
  },
  {
   "cell_type": "code",
   "execution_count": 236,
   "metadata": {
    "colab": {
     "base_uri": "https://localhost:8080/",
     "height": 72
    },
    "colab_type": "code",
    "collapsed": false,
    "id": "ryhoy576VkUO",
    "jupyter": {
     "outputs_hidden": false
    },
    "outputId": "264cf5ed-fd44-435d-db47-012b0a00d61c"
   },
   "outputs": [],
   "source": [
    "%matplotlib inline\n",
    "import matplotlib.pyplot as plt"
   ]
  },
  {
   "cell_type": "code",
   "execution_count": 237,
   "metadata": {
    "colab": {
     "base_uri": "https://localhost:8080/",
     "height": 521
    },
    "colab_type": "code",
    "collapsed": false,
    "id": "9_zVdmXnVkUQ",
    "jupyter": {
     "outputs_hidden": false
    },
    "outputId": "f7a2ba36-2cb2-4e60-ac51-bbaa7ee28b71"
   },
   "outputs": [
    {
     "data": {
      "image/png": "[encoded data removed]",
      "text/plain": [
       "<Figure size 864x648 with 1 Axes>"
      ]
     },
     "metadata": {
      "needs_background": "light"
     },
     "output_type": "display_data"
    }
   ],
   "source": [
    "goog.plot(figsize=(12,9));"
   ]
  },
  {
   "cell_type": "markdown",
   "metadata": {
    "colab_type": "text",
    "id": "WiM5xAh-VkUR"
   },
   "source": [
    "### Remuestreo y conversión de frecuencias\n",
    "\n",
    "Una necesidad común para las series de datos temporales es el remuestreo a una frecuencia mayor o menor.\n",
    "Esto se puede hacer usando el método ``resample()`` o el método ``asfreq()``, que es más simple.\n",
    "La principal diferencia entre los dos es que ``resample()`` es fundamentalmente una *agregación de datos*, mientras que ``asfreq()`` es una *selección de datos*.\n",
    "\n",
    "Esto lo veremos mejor con un ejemplo, así que echando un vistazo al precio de cierre de Google, será interesante comparar lo que devuelven los dos cuando bajamos la muestra de los datos con ambos métodos.\n",
    "\n",
    "En este caso, vamos a muestrear los datos al final del año comercial:"
   ]
  },
  {
   "cell_type": "code",
   "execution_count": 245,
   "metadata": {
    "colab": {
     "base_uri": "https://localhost:8080/",
     "height": 521
    },
    "colab_type": "code",
    "collapsed": false,
    "id": "mIHieOfYVkUR",
    "jupyter": {
     "outputs_hidden": false
    },
    "outputId": "4070b93e-6bdf-4757-b6a2-ab719ace2f72"
   },
   "outputs": [
    {
     "data": {
      "image/png": "[encoded data removed]",
      "text/plain": [
       "<Figure size 864x648 with 1 Axes>"
      ]
     },
     "metadata": {
      "needs_background": "light"
     },
     "output_type": "display_data"
    }
   ],
   "source": [
    "goog.plot(alpha=0.5, style='-',figsize=(12,9))\n",
    "goog.resample('BA').mean().plot(style=':') # con una función de agregación, la media, BA es final de año\n",
    "goog.asfreq('BA').plot(style='--'); # nos devolverá los valores de los puntos de fin de año (por lo que perderemos la info del resto de días)\n",
    "plt.legend(['input', 'resample', 'asfreq'],\n",
    "           loc='upper left');"
   ]
  },
  {
   "cell_type": "code",
   "execution_count": 246,
   "metadata": {
    "colab": {
     "base_uri": "https://localhost:8080/",
     "height": 244
    },
    "colab_type": "code",
    "id": "QEF--yB0P0QX",
    "outputId": "6d295cd5-13d6-42fe-8888-32a6f4673c30"
   },
   "outputs": [
    {
     "data": {
      "text/plain": [
       "Date\n",
       "2010-12-31     266.811472\n",
       "2011-12-30     283.424738\n",
       "2012-12-31     320.208021\n",
       "2013-12-31     440.470378\n",
       "2014-12-31     559.803290\n",
       "2015-12-31     602.005681\n",
       "2016-12-30     743.486707\n",
       "2017-12-29     921.780837\n",
       "2018-12-31    1113.225134\n",
       "2019-12-31    1188.393057\n",
       "2020-12-31    1364.015015\n",
       "Freq: BA-DEC, Name: Close, dtype: float64"
      ]
     },
     "execution_count": 246,
     "metadata": {},
     "output_type": "execute_result"
    }
   ],
   "source": [
    "goog.resample('BA').mean()"
   ]
  },
  {
   "cell_type": "code",
   "execution_count": 247,
   "metadata": {},
   "outputs": [
    {
     "data": {
      "text/plain": [
       "Date\n",
       "2010-12-31     295.875977\n",
       "2011-12-30     321.744019\n",
       "2012-12-31     352.369232\n",
       "2013-12-31     558.262512\n",
       "2014-12-31     524.958740\n",
       "2015-12-31     758.880005\n",
       "2016-12-30     771.820007\n",
       "2017-12-29    1046.400024\n",
       "2018-12-31    1035.609985\n",
       "2019-12-31    1337.020020\n",
       "Freq: BA-DEC, Name: Close, dtype: float64"
      ]
     },
     "execution_count": 247,
     "metadata": {},
     "output_type": "execute_result"
    }
   ],
   "source": [
    "goog.asfreq('BA')"
   ]
  },
  {
   "cell_type": "markdown",
   "metadata": {
    "colab_type": "text",
    "id": "eW4c049dVkUT"
   },
   "source": [
    "Fíjate que, en cada punto, ``resample`` devuelve la media del año completo, mientras que ``asfreq`` devuelve el valor al final del año (perdiendo info del resto de días del año)."
   ]
  },
  {
   "cell_type": "markdown",
   "metadata": {
    "colab_type": "text",
    "id": "BiJ4-uGeVkUU"
   },
   "source": [
    "Para hacer un muestreo a órdenes superiores, ``resample()`` y ``asfreq()`` son prácticamente equivalentes, aunque ``resample`` tiene muchas más opciones disponibles.\n",
    "\n",
    "En este caso, el valor predeterminado para ambos métodos es dejar vacíos los puntos muestreados hacia arriba, es decir, rellenados con valores NA.\n",
    "Al igual que con la función ``pd.fillna()``, ``asfreq()`` acepta un argumento de ``método`` para especificar cómo se imputan los valores.\n",
    "\n",
    "Ahora, vamos a volver a muestrear los datos de los días hábiles originales con una frecuencia diaria (es decir, incluidos los fines de semana):"
   ]
  },
  {
   "cell_type": "code",
   "execution_count": 251,
   "metadata": {
    "colab": {
     "base_uri": "https://localhost:8080/",
     "height": 308
    },
    "colab_type": "code",
    "collapsed": false,
    "id": "ymRsHqZNVkUU",
    "jupyter": {
     "outputs_hidden": false
    },
    "outputId": "ea201e72-b759-4251-c4fa-3ca7a0156d51"
   },
   "outputs": [
    {
     "data": {
      "image/png": "[encoded data removed]",
      "text/plain": [
       "<Figure size 432x288 with 2 Axes>"
      ]
     },
     "metadata": {
      "needs_background": "light"
     },
     "output_type": "display_data"
    }
   ],
   "source": [
    "fig, ax = plt.subplots(2, sharex=True)\n",
    "data = goog.iloc[:10] # 10 primeros elementos de la serie\n",
    "\n",
    "data.asfreq('D').plot(ax=ax[0], marker='o') # primer eje, con escala diaria, no sale el fin de semana\n",
    "\n",
    "data.asfreq('D', method='bfill').plot(ax=ax[1], style='-o')\n",
    "data.asfreq('D', method='ffill').plot(ax=ax[1], style='--o')\n",
    "ax[1].legend([\"back-fill\", \"forward-fill\"]);\n",
    "\n",
    "# ffill: rellenamos hacia adelante los nulos (es decir, con el valor que había antes del nulo), backfill / bfill: rellenamos hacia atrás (valor siguiente)"
   ]
  },
  {
   "cell_type": "markdown",
   "metadata": {
    "colab_type": "text",
    "id": "GiOGAY5EVkUV"
   },
   "source": [
    "La gráfica de arriba representa los datos predeterminados: los días no hábiles se dejan como valores NA y no aparecen en el gráfico.\n",
    "La gráfica inferior muestra las diferencias entre las dos estrategias para llenar los nulos: hacia adelante (ffill) y llenado hacia atrás (bfill)."
   ]
  },
  {
   "cell_type": "markdown",
   "metadata": {},
   "source": [
    "### EJERCICIOS\n",
    "\n",
    "### 1.\n",
    "Lee el fichero \"daily-minimum-temperatures.csv\" y remuestréalo para quedarte con los máximos de temperaturas por mes. Almacena este nuevo DataFrame resultante en una variable llamada ``df_temp``.\n",
    "\n",
    "Asegúrate de tener el campo temporal como índice antes de hacer cosas."
   ]
  },
  {
   "cell_type": "code",
   "execution_count": 262,
   "metadata": {},
   "outputs": [
    {
     "data": {
      "text/html": [
       "<div>\n",
       "<style scoped>\n",
       "    .dataframe tbody tr th:only-of-type {\n",
       "        vertical-align: middle;\n",
       "    }\n",
       "\n",
       "    .dataframe tbody tr th {\n",
       "        vertical-align: top;\n",
       "    }\n",
       "\n",
       "    .dataframe thead th {\n",
       "        text-align: right;\n",
       "    }\n",
       "</style>\n",
       "<table border=\"1\" class=\"dataframe\">\n",
       "  <thead>\n",
       "    <tr style=\"text-align: right;\">\n",
       "      <th></th>\n",
       "      <th>Temp</th>\n",
       "    </tr>\n",
       "    <tr>\n",
       "      <th>Date</th>\n",
       "      <th></th>\n",
       "    </tr>\n",
       "  </thead>\n",
       "  <tbody>\n",
       "    <tr>\n",
       "      <th>1981-01-31</th>\n",
       "      <td>17.712903</td>\n",
       "    </tr>\n",
       "    <tr>\n",
       "      <th>1981-02-28</th>\n",
       "      <td>17.678571</td>\n",
       "    </tr>\n",
       "    <tr>\n",
       "      <th>1981-03-31</th>\n",
       "      <td>13.500000</td>\n",
       "    </tr>\n",
       "    <tr>\n",
       "      <th>1981-04-30</th>\n",
       "      <td>12.356667</td>\n",
       "    </tr>\n",
       "    <tr>\n",
       "      <th>1981-05-31</th>\n",
       "      <td>9.490323</td>\n",
       "    </tr>\n",
       "    <tr>\n",
       "      <th>...</th>\n",
       "      <td>...</td>\n",
       "    </tr>\n",
       "    <tr>\n",
       "      <th>1990-08-31</th>\n",
       "      <td>7.825806</td>\n",
       "    </tr>\n",
       "    <tr>\n",
       "      <th>1990-09-30</th>\n",
       "      <td>9.166667</td>\n",
       "    </tr>\n",
       "    <tr>\n",
       "      <th>1990-10-31</th>\n",
       "      <td>11.345161</td>\n",
       "    </tr>\n",
       "    <tr>\n",
       "      <th>1990-11-30</th>\n",
       "      <td>12.656667</td>\n",
       "    </tr>\n",
       "    <tr>\n",
       "      <th>1990-12-31</th>\n",
       "      <td>14.367742</td>\n",
       "    </tr>\n",
       "  </tbody>\n",
       "</table>\n",
       "<p>120 rows × 1 columns</p>\n",
       "</div>"
      ],
      "text/plain": [
       "                 Temp\n",
       "Date                 \n",
       "1981-01-31  17.712903\n",
       "1981-02-28  17.678571\n",
       "1981-03-31  13.500000\n",
       "1981-04-30  12.356667\n",
       "1981-05-31   9.490323\n",
       "...               ...\n",
       "1990-08-31   7.825806\n",
       "1990-09-30   9.166667\n",
       "1990-10-31  11.345161\n",
       "1990-11-30  12.656667\n",
       "1990-12-31  14.367742\n",
       "\n",
       "[120 rows x 1 columns]"
      ]
     },
     "execution_count": 262,
     "metadata": {},
     "output_type": "execute_result"
    }
   ],
   "source": [
    "df = pd.read_csv(\"daily-minimum-temperatures.csv\")\n",
    "df['Date'] = pd.to_datetime(df['Date'])\n",
    "df = df.set_index(\"Date\")\n",
    "\n",
    "df_temp = df.resample(\"M\").mean()\n",
    "df_temp"
   ]
  },
  {
   "cell_type": "markdown",
   "metadata": {},
   "source": [
    "### 2.\n",
    "\n",
    "Ahora, remuestrea el DataFrame de la variable ``df_temp`` de nuevo como si fuera diario y rellena los nulos con el método que creas más conveniente:"
   ]
  },
  {
   "cell_type": "code",
   "execution_count": 266,
   "metadata": {},
   "outputs": [
    {
     "data": {
      "text/html": [
       "<div>\n",
       "<style scoped>\n",
       "    .dataframe tbody tr th:only-of-type {\n",
       "        vertical-align: middle;\n",
       "    }\n",
       "\n",
       "    .dataframe tbody tr th {\n",
       "        vertical-align: top;\n",
       "    }\n",
       "\n",
       "    .dataframe thead th {\n",
       "        text-align: right;\n",
       "    }\n",
       "</style>\n",
       "<table border=\"1\" class=\"dataframe\">\n",
       "  <thead>\n",
       "    <tr style=\"text-align: right;\">\n",
       "      <th></th>\n",
       "      <th>Temp</th>\n",
       "    </tr>\n",
       "    <tr>\n",
       "      <th>Date</th>\n",
       "      <th></th>\n",
       "    </tr>\n",
       "  </thead>\n",
       "  <tbody>\n",
       "    <tr>\n",
       "      <th>1981-01-31</th>\n",
       "      <td>17.712903</td>\n",
       "    </tr>\n",
       "    <tr>\n",
       "      <th>1981-02-01</th>\n",
       "      <td>17.678571</td>\n",
       "    </tr>\n",
       "    <tr>\n",
       "      <th>1981-02-02</th>\n",
       "      <td>17.678571</td>\n",
       "    </tr>\n",
       "    <tr>\n",
       "      <th>1981-02-03</th>\n",
       "      <td>17.678571</td>\n",
       "    </tr>\n",
       "    <tr>\n",
       "      <th>1981-02-04</th>\n",
       "      <td>17.678571</td>\n",
       "    </tr>\n",
       "    <tr>\n",
       "      <th>...</th>\n",
       "      <td>...</td>\n",
       "    </tr>\n",
       "    <tr>\n",
       "      <th>1990-12-27</th>\n",
       "      <td>14.367742</td>\n",
       "    </tr>\n",
       "    <tr>\n",
       "      <th>1990-12-28</th>\n",
       "      <td>14.367742</td>\n",
       "    </tr>\n",
       "    <tr>\n",
       "      <th>1990-12-29</th>\n",
       "      <td>14.367742</td>\n",
       "    </tr>\n",
       "    <tr>\n",
       "      <th>1990-12-30</th>\n",
       "      <td>14.367742</td>\n",
       "    </tr>\n",
       "    <tr>\n",
       "      <th>1990-12-31</th>\n",
       "      <td>14.367742</td>\n",
       "    </tr>\n",
       "  </tbody>\n",
       "</table>\n",
       "<p>3622 rows × 1 columns</p>\n",
       "</div>"
      ],
      "text/plain": [
       "                 Temp\n",
       "Date                 \n",
       "1981-01-31  17.712903\n",
       "1981-02-01  17.678571\n",
       "1981-02-02  17.678571\n",
       "1981-02-03  17.678571\n",
       "1981-02-04  17.678571\n",
       "...               ...\n",
       "1990-12-27  14.367742\n",
       "1990-12-28  14.367742\n",
       "1990-12-29  14.367742\n",
       "1990-12-30  14.367742\n",
       "1990-12-31  14.367742\n",
       "\n",
       "[3622 rows x 1 columns]"
      ]
     },
     "execution_count": 266,
     "metadata": {},
     "output_type": "execute_result"
    }
   ],
   "source": [
    "df_temp.asfreq('D', method='bfill')"
   ]
  },
  {
   "cell_type": "markdown",
   "metadata": {
    "colab_type": "text",
    "id": "uNMcE1Y8VkUW"
   },
   "source": [
    "### Desplazamentos de tiempo\n",
    "\n",
    "Otra operación específica bastante común con las series temporales es el desplazamiento de datos en el tiempo.\n",
    "Pandas tiene dos métodos estrechamente relacionados para ello: ``shift()`` y ``tshift()``\n",
    "\n",
    "En resumen, la diferencia entre ellos es que ``shift()`` *cambia los datos*, mientras que ``tshift()`` *cambia el índice*.\n",
    "En ambos casos, el cambio se especifica en múltiplos de la frecuencia.\n",
    "\n",
    "A continuación, tenemos un ejemplo de ``shift()`` y ``tshift()`` con 900 días: "
   ]
  },
  {
   "cell_type": "code",
   "execution_count": 253,
   "metadata": {
    "colab": {
     "base_uri": "https://localhost:8080/",
     "height": 285
    },
    "colab_type": "code",
    "collapsed": false,
    "id": "FuMl5qVyVkUW",
    "jupyter": {
     "outputs_hidden": false
    },
    "outputId": "b9062a01-a41c-4539-cb8a-dc1f6a2edf94"
   },
   "outputs": [
    {
     "data": {
      "image/png": "[encoded data removed]",
      "text/plain": [
       "<Figure size 720x720 with 3 Axes>"
      ]
     },
     "metadata": {
      "needs_background": "light"
     },
     "output_type": "display_data"
    }
   ],
   "source": [
    "fig, ax = plt.subplots(3, sharey=True, figsize=(10, 10))\n",
    "\n",
    "# apply a frequency to the data\n",
    "goog = goog.asfreq('D', method='pad') # pad es relleno\n",
    "\n",
    "goog.plot(ax=ax[0])\n",
    "goog.shift(900).plot(ax=ax[1])\n",
    "goog.tshift(900).plot(ax=ax[2])\n",
    "\n",
    "# legends and annotations\n",
    "local_max = pd.to_datetime('2007-11-05')\n",
    "offset = pd.Timedelta(900, 'D')\n",
    "\n",
    "ax[0].legend(['input'], loc=2)\n",
    "ax[0].get_xticklabels()[2].set(weight='heavy', color='red')\n",
    "ax[0].axvline(local_max, alpha=0.3, color='red')\n",
    "\n",
    "ax[1].legend(['shift(900)'], loc=2)\n",
    "ax[1].get_xticklabels()[2].set(weight='heavy', color='red')\n",
    "ax[1].axvline(local_max + offset, alpha=0.3, color='red')\n",
    "\n",
    "ax[2].legend(['tshift(900)'], loc=2)\n",
    "ax[2].get_xticklabels()[1].set(weight='heavy', color='red')\n",
    "ax[2].axvline(local_max + offset, alpha=0.3, color='red');"
   ]
  },
  {
   "cell_type": "markdown",
   "metadata": {
    "colab_type": "text",
    "id": "pf9ERBqJVkUY"
   },
   "source": [
    "Como puedes observar, ``shift(900)`` mueve los datos 900 días, eliminando parte del final del gráfico (y dejando los valores NA en el otro extremo), mientras que ``tshift(900)`` desplaza los valores del índice en 900 días, es decir, desplazamos todo y no perdemos información.\n",
    "\n",
    "Un contexto común para este tipo de desplazamiento es calcular las diferencias a lo largo del tiempo. Por ejemplo, usamos valores desplazados para calcular el retorno de la inversión de un año para las acciones de Google a lo largo del curso del dataset:"
   ]
  },
  {
   "cell_type": "code",
   "execution_count": 267,
   "metadata": {
    "colab": {
     "base_uri": "https://localhost:8080/",
     "height": 285
    },
    "colab_type": "code",
    "collapsed": false,
    "id": "aDMWJq8dVkUZ",
    "jupyter": {
     "outputs_hidden": false
    },
    "outputId": "71fd0def-8b05-44cb-e5e0-a97bb6e07b8d"
   },
   "outputs": [
    {
     "data": {
      "image/png": "[encoded data removed]",
      "text/plain": [
       "<Figure size 432x288 with 1 Axes>"
      ]
     },
     "metadata": {
      "needs_background": "light"
     },
     "output_type": "display_data"
    }
   ],
   "source": [
    "ROI = 100 * (goog.tshift(-365) / goog - 1)\n",
    "ROI.plot()\n",
    "plt.ylabel('% Return on Investment');"
   ]
  },
  {
   "cell_type": "markdown",
   "metadata": {
    "colab_type": "text",
    "id": "i6_F4ApHVkUa"
   },
   "source": [
    "Esto nos permite ver la tendencia general de las acciones de Google: hasta ahora, los momentos más rentables para invertir en Google han sido (como era de esperar, en retrospectiva) poco después de su salida a bolsa y en medio de la recesión de 2009."
   ]
  },
  {
   "cell_type": "markdown",
   "metadata": {
    "colab_type": "text",
    "id": "Zs71M2QSVkUb"
   },
   "source": [
    "### Ventanas temporales\n",
    "\n",
    "Las estadísticas temporales son un tercer tipo de operación específica de series temporales implementada por Pandas.\n",
    "Esto se puede lograr mediante el atributo ``rolling()`` de los objetos ``Series`` y ``DataFrame``, que devuelve una vista similar a la que vimos con la operación ``groupby``.\n",
    "Esta vista pone a disposición una serie de operaciones de agregación de forma predeterminada.\n",
    "\n",
    "Por ejemplo, podríamos calcular la media móvil centrada en un año y la desviación estándar de los precios de las acciones de Google:"
   ]
  },
  {
   "cell_type": "code",
   "execution_count": 272,
   "metadata": {
    "colab": {
     "base_uri": "https://localhost:8080/",
     "height": 521
    },
    "colab_type": "code",
    "collapsed": false,
    "id": "p2FjadbzVkUb",
    "jupyter": {
     "outputs_hidden": false
    },
    "outputId": "310711e6-1ee7-4937-88ac-decb6f5c5bc5"
   },
   "outputs": [
    {
     "data": {
      "image/png": "[encoded data removed]",
      "text/plain": [
       "<Figure size 864x648 with 1 Axes>"
      ]
     },
     "metadata": {
      "needs_background": "light"
     },
     "output_type": "display_data"
    }
   ],
   "source": [
    "rolling = goog.rolling(365, center=False)\n",
    "\n",
    "data = pd.DataFrame({'input': goog,\n",
    "                     'one-year rolling_mean': rolling.mean(),\n",
    "                     'one-year rolling_std': rolling.std()})\n",
    "ax = data.plot(style=['-', '--', ':'], figsize=(12,9))\n",
    "ax.lines[0].set_alpha(0.3)"
   ]
  },
  {
   "cell_type": "code",
   "execution_count": 282,
   "metadata": {
    "colab": {
     "base_uri": "https://localhost:8080/",
     "height": 521
    },
    "colab_type": "code",
    "collapsed": false,
    "id": "p2FjadbzVkUb",
    "jupyter": {
     "outputs_hidden": false
    },
    "outputId": "310711e6-1ee7-4937-88ac-decb6f5c5bc5"
   },
   "outputs": [
    {
     "data": {
      "image/png": "[encoded data removed]",
      "text/plain": [
       "<Figure size 720x360 with 1 Axes>"
      ]
     },
     "metadata": {
      "needs_background": "light"
     },
     "output_type": "display_data"
    }
   ],
   "source": [
    "# Si queremos pintarlo como la media y a los lados las desviaciones típicas, podríamos hacer algo así:\n",
    "\n",
    "rolling = goog.rolling(365)\n",
    "\n",
    "data = pd.DataFrame({'input': goog,\n",
    "                     'one-year rolling_mean': rolling.mean(),\n",
    "                     'one-year rolling_std_max': rolling.mean() + rolling.std(),\n",
    "                     'one-year rolling_std_min': rolling.mean() - rolling.std()})\n",
    "ax = data.plot(style=['-', '--', ':', ':'], figsize=(10,5))\n",
    "ax.lines[0].set_alpha(0.3)"
   ]
  },
  {
   "cell_type": "code",
   "execution_count": 278,
   "metadata": {
    "colab": {
     "base_uri": "https://localhost:8080/",
     "height": 34
    },
    "colab_type": "code",
    "id": "m22eGpUc__Nx",
    "outputId": "5decb452-9fc5-4802-cc26-446ac833b05f"
   },
   "outputs": [
    {
     "data": {
      "text/plain": [
       "Rolling [window=365,center=False,axis=0]"
      ]
     },
     "execution_count": 278,
     "metadata": {},
     "output_type": "execute_result"
    }
   ],
   "source": [
    "rolling"
   ]
  },
  {
   "cell_type": "markdown",
   "metadata": {
    "colab_type": "text",
    "id": "TpCENs-AVkUe"
   },
   "source": [
    "Al igual que con los groupby, los métodos ``aggregate()`` y ``apply()`` se pueden utilizar para cálculos continuos personalizados."
   ]
  },
  {
   "cell_type": "markdown",
   "metadata": {
    "colab_type": "text",
    "id": "lKv3wONgVkUe"
   },
   "source": [
    "## Más información\n",
    "\n",
    "En este notebook hemos visto algunas de las funcionalidades báiscas de las series temporales, pero puedes investigar mucho más en la sección [\"Time Series/Date\" section](http://pandas.pydata.org/pandas-docs/stable/timeseries.html) de la documentación online de Pandas."
   ]
  },
  {
   "cell_type": "code",
   "execution_count": null,
   "metadata": {},
   "outputs": [],
   "source": []
  }
 ],
 "metadata": {
  "colab": {
   "name": "1-TimeSeries.ipynb",
   "provenance": []
  },
  "kernelspec": {
   "display_name": "Python 3",
   "language": "python",
   "name": "python3"
  },
  "language_info": {
   "codemirror_mode": {
    "name": "ipython",
    "version": 3
   },
   "file_extension": ".py",
   "mimetype": "text/x-python",
   "name": "python",
   "nbconvert_exporter": "python",
   "pygments_lexer": "ipython3",
   "version": "3.8.3"
  }
 },
 "nbformat": 4,
 "nbformat_minor": 4
}
