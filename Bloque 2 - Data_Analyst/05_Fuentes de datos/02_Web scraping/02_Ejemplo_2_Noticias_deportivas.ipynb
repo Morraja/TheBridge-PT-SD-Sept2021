{
 "cells": [
  {
   "cell_type": "markdown",
   "metadata": {},
   "source": [
    "# Ejemplo Web scrapping 2: Noticias deportivas\n",
    "\n",
    "En este notebook vamos a ver otro ejemplo de web scrapping, este con noticias deportivas:\n",
    "\n",
    "## Importando librerías\n",
    "\n",
    "Al igual que en el notebook anterior, importamos lo necesario:"
   ]
  },
  {
   "cell_type": "code",
   "execution_count": 52,
   "metadata": {},
   "outputs": [],
   "source": [
    "from bs4 import BeautifulSoup\n",
    "from requests import get\n",
    "import pandas as pd\n",
    "import itertools\n",
    "import matplotlib.pyplot as plt\n",
    "import seaborn as sns\n",
    "sns.set()\n",
    "\n",
    "\n",
    "from urllib.request import urlopen"
   ]
  },
  {
   "cell_type": "markdown",
   "metadata": {},
   "source": [
    "Leemos la web:"
   ]
  },
  {
   "cell_type": "code",
   "execution_count": 56,
   "metadata": {},
   "outputs": [],
   "source": [
    "# Cabeceras:\n",
    "headers = ({'User-Agent':\n",
    "            'Mozilla/5.0 (Windows NT 6.1) AppleWebKit/537.36 (KHTML, like Gecko) Chrome/41.0.2228.0 Safari/537.36'})\n",
    "# url web a scrapear:\n",
    "marca = \"https://www.marca.com/\"\n",
    "\n",
    "response = get(marca, headers = headers)"
   ]
  },
  {
   "cell_type": "markdown",
   "metadata": {},
   "source": [
    "Hacemos el get:"
   ]
  },
  {
   "cell_type": "code",
   "execution_count": 57,
   "metadata": {},
   "outputs": [
    {
     "name": "stdout",
     "output_type": "stream",
     "text": [
      "<Response [200]>\n"
     ]
    }
   ],
   "source": [
    "print(response) # un 200 es una buena señal :D"
   ]
  },
  {
   "cell_type": "markdown",
   "metadata": {},
   "source": [
    "Todo bien, pasamos a sacar cosas:"
   ]
  },
  {
   "cell_type": "code",
   "execution_count": 60,
   "metadata": {},
   "outputs": [],
   "source": [
    "html_soup = BeautifulSoup(response.text, 'html.parser')"
   ]
  },
  {
   "cell_type": "markdown",
   "metadata": {},
   "source": [
    "Tras enalizar la web, nos hemos fijado que todas las noticias tienen etiquetas ``h2`` y clase ``mod-title``:"
   ]
  },
  {
   "cell_type": "code",
   "execution_count": 64,
   "metadata": {},
   "outputs": [
    {
     "data": {
      "text/plain": [
       "<h2 class=\"mod-title\" itemprop=\"headline\"><a href=\"https://www.marca.com/futbol/real-madrid/2021/01/21/600997a0e2704e87388b4585.html\" itemprop=\"url\" title=\"La charla de Zidane tras el bochorno: los jugadores esperaban otras palabras\"> La charla de Zidane tras el bochorno: los jugadores esperaban otras palabras\n",
       "</a></h2>"
      ]
     },
     "execution_count": 64,
     "metadata": {},
     "output_type": "execute_result"
    }
   ],
   "source": [
    "noticias = html_soup.find_all('h2', class_='mod-title')\n",
    "noticias[0]"
   ]
  },
  {
   "cell_type": "markdown",
   "metadata": {},
   "source": [
    "Dentro de cada una de ellas, tenemos que extraer, a su vez, el ``title`` de las ``a``:"
   ]
  },
  {
   "cell_type": "code",
   "execution_count": 73,
   "metadata": {},
   "outputs": [
    {
     "data": {
      "text/plain": [
       "'La charla de Zidane tras el bochorno: los jugadores esperaban otras palabras'"
      ]
     },
     "execution_count": 73,
     "metadata": {},
     "output_type": "execute_result"
    }
   ],
   "source": [
    "noticia_ejemplo = noticias[0].find_all(\"a\")[0]\n",
    "# Con el strip eliminamos todas aquellas cosas raras al comienzo y final del string:\n",
    "noticia_ejemplo.text.strip()"
   ]
  },
  {
   "cell_type": "markdown",
   "metadata": {},
   "source": [
    "También podemos sacar el enlace como:"
   ]
  },
  {
   "cell_type": "code",
   "execution_count": 76,
   "metadata": {},
   "outputs": [
    {
     "data": {
      "text/plain": [
       "'https://www.marca.com/futbol/real-madrid/2021/01/21/600997a0e2704e87388b4585.html'"
      ]
     },
     "execution_count": 76,
     "metadata": {},
     "output_type": "execute_result"
    }
   ],
   "source": [
    "noticia_ejemplo.get_attribute_list('href')[0]"
   ]
  },
  {
   "cell_type": "markdown",
   "metadata": {},
   "source": [
    "Ahora podemos acceder a ese link y extraer la información de la noticia en sí:"
   ]
  },
  {
   "cell_type": "code",
   "execution_count": 80,
   "metadata": {},
   "outputs": [
    {
     "data": {
      "text/plain": [
       "'Zidane sigue en el cargoReal Madrid en crisis, noticias de última horaNo llegó a dos minutos, sin ninguna palabra más alta que la otra, en la misma línea de su discurso ante la prensa tras el K.O. contra el Alcoyano. \"Esto no es una vergüenza\", señaló Zidane. Y apenas doce horas después, sin tiempo para dormir y descansar como se debe, continuó el mismo relato ante un vestuario sorprendido, donde había quienes esperaban, y deseaban, palabras más duras, una bronca para espabilar, reproches lógicos después de una eliminación ante un club cuyo presupuesto es menor que cualquier ficha del primer equipo.Zinedine apeló a la unidad, animó a los jugadores a salir de esta, después de dos malos partidos (un adjetivo generoso) y recalcó: \"Todos podemos dar un poco más\". Si bien la plantilla ya conoce a Zidane y saben que no es un entrenador de mano dura, sí se entendía en parte del grupo que era día para elevar el tono, huir del gris y no ahorrar calificativos. Agitar a un equipo que de los últimos cinco encuentros ha perdido dos (con sus respectivas eliminaciones en Supercopa y Copa), empatado dos (Elche y Pamplona) y ganado uno (Celta). Buscar una catarsis y tensar el ambiente. Pero todo lo contrario.En el vestuario la química con Zidane no es la misma que tiempo atrás. Ya tras su retorno nueve meses después de su salida el vestuario se encontró un entrenador más distante, no tan cercano. La temporada pasada acabó levantando la Liga tras el sprint final post confinamiento y ya se sabe que los títulos unen. Pero el desgaste de esta campaña se va acentuando. No es ningún secreto que los que no juegan no están contentos con Zidane, pero entre los que sí lo hacen no entienden algunas decisiones en cuanto a la gestión deportiva del equipo. Porque en apenas nos meses se pasó del \\'Marvin y Arribas\\' en Anoeta a blindarse con 14 jugadores y olvidarse de 10. ¿Resultado? El bochorno de Alcoy.Las imágenes de El Chiringuito de la prórroga evidencian un desgaste. Las piñas pasadas, símbolo de unión del grupo en las tres Champions seguidas, han dejado paso a escenas como la de El Collao. Una prórroga por delante y un entrenador que no une a sus jugadores, desperdigados antes de afrontar 30 minutos contra un Segunda B obligados a la victoria. No hubo mensaje común, como tampoco después del partido en el vestuario.Zidane prefirió esperar a la mañana siguiente para dirigirse a sus futbolistas... sin levantar la voz. Hay quien esperaba, y deseaba, un rapapolvo para tensionar y espabilar, a la altura de lo que supone para un club como el Madrid caer contra un Segunda B en la Copa a las primeras de cambio. \"Los jugadores lo han dado todo\", señaló en El Collao, y no contradijo esa versión ante la plantilla. El vídeo de la comparación entre lo que hubiera sucedido con Mourinho de caer contra un Segunda B y la reacción de Zidane tras el \\'Alcoyanazo\\' es el mejor resumen de dos maneras opuestas de gestionar un batacazo de los que dejan profundas cicatrices.'"
      ]
     },
     "execution_count": 80,
     "metadata": {},
     "output_type": "execute_result"
    }
   ],
   "source": [
    "url_2 = noticia_ejemplo.get_attribute_list('href')[0]\n",
    "\n",
    "response_2 = get(url_2, headers = headers)\n",
    "html_soup_2 = BeautifulSoup(response_2.text, 'html.parser')\n",
    "\n",
    "\n",
    "# for texto in html_soup_2.find_all(\"p\"):\n",
    "#     print(texto.text)\n",
    "\n",
    "# El texto que queremos está en los p y en los h3, pero también se nos está colando cosas que no nos resultan neceasrias, ¿cómo podemos proceder?\n",
    "# Pues leyendo todo junto (que estará en orden según la página) y quedándonos con el texto hasta que detectemos algo que nos haga parar.\n",
    "# En este caso, ese algo será cuando lleguemos a un texto 'h3' que diga \"Temas relaciondos\". A partir de ese momento, ya no nos interesan \n",
    "#ni los 'p' ni los 'h3'\n",
    "texto_noticia = html_soup_2.find_all([\"p\", \"h3\"])\n",
    "texto_noticia\n",
    "\n",
    "noticia_completa = []\n",
    "cont = 0\n",
    "for line in texto_noticia:\n",
    "    cont += 1\n",
    "    if line.text == 'Temas relacionados':\n",
    "        break\n",
    "    # Nos saltamos siempre las 2 primeras líneas:\n",
    "    if cont > 2:\n",
    "        noticia_completa.append(line.text.strip())\n",
    "\n",
    "# noticia_completa\n",
    "# Y lo juntamos todo en un solo texto:\n",
    "''.join(noticia_completa)"
   ]
  },
  {
   "cell_type": "code",
   "execution_count": 81,
   "metadata": {},
   "outputs": [
    {
     "data": {
      "text/plain": [
       "[<p class=\"edition-selector__menu-title\">Ediciones:</p>,\n",
       " <p class=\"tab-news-title js-newsTitle\">Futbol/real-madrid</p>,\n",
       " <p class=\"summary-lead second izquierda\"><i class=\"item-sumary-lead\"></i><a href=\"https://www.marca.com/futbol/real-madrid/2021/01/21/6009747be2704e682d8b45b0.html\">Zidane sigue en el cargo</a></p>,\n",
       " <p class=\"summary-lead second izquierda\"><i class=\"item-sumary-lead\"></i><a href=\"https://www.marca.com/futbol/real-madrid/2021/01/21/600984e2268e3e3f218b4580.html\">Real Madrid en crisis, noticias de última hora</a></p>,\n",
       " <p><span class=\"capital-letter\">N</span>o llegó a <strong>dos minutos</strong>, sin ninguna palabra más alta que la otra, en la misma línea de su discurso ante la prensa tras el K.O. contra el Alcoyano. <strong><a href=\"https://www.marca.com/futbol/copa-rey/2021/01/20/6008a46722601d163f8b45bd.html\" target=\"_blank\">\"Esto no es una vergüenza\", señaló Zidane.</a></strong> Y apenas doce horas después, sin tiempo para dormir y descansar como se debe, continuó el mismo relato <strong>ante un vestuario sorprendido</strong>, donde había quienes esperaban, <strong>y deseaban, palabras más duras,</strong> una bronca para espabilar, reproches lógicos después de una eliminación ante un club cuyo presupuesto es menor que cualquier ficha del primer equipo.</p>,\n",
       " <p><strong>Zinedine</strong> apeló a la unidad, animó a los jugadores a salir de esta, después de dos malos partidos (un adjetivo generoso) y recalcó: <strong>\"Todos podemos dar un poco más\".</strong> Si bien la plantilla ya conoce a Zidane y saben que no es un entrenador de mano dura, sí se entendía en parte del grupo que <strong>era día para elevar el tono,</strong> huir del gris y no ahorrar calificativos. Agitar a un equipo que de los últimos cinco encuentros ha perdido dos (con sus respectivas eliminaciones en <strong>Supercopa y Copa</strong>), empatado dos (<strong>Elche y Pamplona</strong>) y ganado uno (<strong>Celta</strong>). Buscar una catarsis y tensar el ambiente. Pero todo lo contrario. </p>,\n",
       " <p>En el vestuario la química con Zidane no es la misma que tiempo atrás. Ya tras su retorno nueve meses después de su salida <strong><a href=\"https://www.marca.com/futbol/real-madrid/2019/05/21/5ce17385468aeb6e038b4627.html\" target=\"_blank\">el vestuario se encontró un entrenador más distante, no tan cercano</a></strong>. La temporada pasada acabó levantando la Liga tras el sprint final post confinamiento <strong>y ya se sabe que los títulos unen</strong>. Pero el desgaste de esta campaña se va acentuando. No es ningún secreto que los que no juegan <strong><a href=\"https://www.marca.com/futbol/real-madrid/2021/01/21/6008868522601dc9678b461b.html\" target=\"_blank\">no están contentos con Zidane</a></strong>, pero entre los que sí lo hacen no entienden algunas decisiones en cuanto a la gestión deportiva del equipo. Porque en apenas nos meses se pasó del <strong>'Marvin y Arribas'</strong> en <strong>Anoeta</strong> a blindarse con 14 jugadores y olvidarse de 10. ¿Resultado? <strong>El bochorno de Alcoy. </strong></p>,\n",
       " <p><strong><a href=\"https://www.marca.com/futbol/copa-rey/2021/01/21/6008c624e2704e5e128b460a.html\" target=\"_blank\">Las imágenes de El Chiringuito de la prórroga</a></strong> evidencian un desgaste. Las piñas pasadas, símbolo de unión del grupo en las tres <strong>Champions</strong> seguidas, han dejado paso a escenas como la de <strong>El Collao</strong>. Una prórroga por delante y un entrenador que no une a sus jugadores, <strong>desperdigados antes de afrontar 30 minutos contra un Segunda B</strong> obligados a la victoria. No hubo mensaje común, como tampoco después del partido en el vestuario.</p>,\n",
       " <p>Zidane prefirió esperar a la mañana siguiente para dirigirse a sus futbolistas... sin levantar la voz. <strong>Hay quien esperaba, y deseaba, un rapapolvo para tensionar y espabilar,</strong> a la altura de lo que supone para un club como el Madrid caer contra un Segunda B en la Copa a las primeras de cambio. \"Los jugadores lo han dado todo\", señaló en El Collao, y no contradijo esa versión ante la plantilla. <strong><a href=\"https://www.marca.com/futbol/real-madrid/2021/01/21/60095977e2704e2da08b45d0.html\" target=\"_blank\">El vídeo de la comparación entre lo que hubiera sucedido con Mourinho</a></strong> de caer contra un Segunda B y la reacción de <strong>Zidane tras el 'Alcoyanazo'</strong> es el mejor resumen de dos maneras opuestas de gestionar un batacazo de los que dejan profundas cicatrices.</p>,\n",
       " <h3 class=\"list-header\"><span>Temas relacionados</span></h3>,\n",
       " <p class=\"nombre\">\n",
       " <img alt=\"\" src=\"https://e00-marca.uecdn.es/registro/v2/images/avatar/avatar.svg\">\n",
       " <span class=\"nombre_usuario\">albercolchonero</span>\n",
       " </img></p>,\n",
       " <p>Realmente, la culpa no se si es de Zidane. Un jugador del madrid tiene que ganar a un segunda B sin entrenador y casi sin zapatos.</p>,\n",
       " <p class=\"nombre\">\n",
       " <img alt=\"\" src=\"https://e00-marca.uecdn.es/registro/v2/images/avatar/avatar.svg\">\n",
       " <span class=\"nombre_usuario\">titosantialves</span>\n",
       " </img></p>,\n",
       " <p>Charla light .a hazard light no le gusta</p>,\n",
       " <p>© Enero\n",
       " 2021\n",
       " <span itemprop=\"name\">Unidad Editorial Información Deportiva, S.L.U. Todos los derechos reservados.</span></p>,\n",
       " <p>Síguenos en</p>]"
      ]
     },
     "execution_count": 81,
     "metadata": {},
     "output_type": "execute_result"
    }
   ],
   "source": [
    "texto_noticia"
   ]
  },
  {
   "cell_type": "markdown",
   "metadata": {},
   "source": [
    "Iteramos con esta condición. Y para combinarlo con lo otro, podríamos extraer todos los links a noticias y, posteriormente, extraer el texto de cada una de ellas:"
   ]
  },
  {
   "cell_type": "code",
   "execution_count": 82,
   "metadata": {},
   "outputs": [
    {
     "data": {
      "text/plain": [
       "'La charla de Zidane tras el bochorno: los jugadores esperaban otras palabras'"
      ]
     },
     "execution_count": 82,
     "metadata": {},
     "output_type": "execute_result"
    }
   ],
   "source": [
    "noticias[0].find_all(\"a\")[0].text.strip()"
   ]
  },
  {
   "cell_type": "code",
   "execution_count": 83,
   "metadata": {},
   "outputs": [],
   "source": [
    "# Leemos títulos de artículos y sus links y los guardamos:\n",
    "marca = \"https://www.marca.com/\"\n",
    "\n",
    "response = get(marca, headers = headers)\n",
    "\n",
    "html_soup = BeautifulSoup(response.text, 'html.parser')\n",
    "\n",
    "noticias = html_soup.find_all('h2', class_='mod-title')\n",
    "\n",
    "# Noticia a noticia para sacar links:\n",
    "textos = []\n",
    "links = []\n",
    "for noticia in noticias:\n",
    "    try:\n",
    "        text_noticia = noticia.find_all(\"a\")[0].text.strip()\n",
    "        link = noticia.find_all(\"a\")[0].get_attribute_list('href')[0]\n",
    "        \n",
    "        textos.append(text_noticia)\n",
    "        links.append(link)\n",
    "    except:\n",
    "        pass\n",
    "    \n",
    "# Una vez tenemos las noticias, iteramos por cada uno de sus enlaes:\n",
    "textos_noticias_completos = []\n",
    "for link in links:\n",
    "    response_2 = get(link, headers = headers)\n",
    "    html_soup_2 = BeautifulSoup(response_2.text, 'html.parser')\n",
    "    \n",
    "    texto_noticia = html_soup_2.find_all([\"p\", \"h3\"])\n",
    "    texto_noticia\n",
    "    noticia_completa = []\n",
    "    cont = 0\n",
    "    for line in texto_noticia:\n",
    "        cont += 1\n",
    "        if line.text == 'Temas relacionados':\n",
    "            break\n",
    "        # Nos saltamos siempre las 2 primeras líneas:\n",
    "        if cont > 2:\n",
    "            noticia_completa.append(line.text.strip())\n",
    "    \n",
    "    textos_noticias_completos.append(''.join(noticia_completa))"
   ]
  },
  {
   "cell_type": "markdown",
   "metadata": {},
   "source": [
    "Finalmente, nos creamos el dataframe con todo lo que tenemos.\n",
    "\n",
    "Importante, si vamos a manejar muchos datos (pero muchos muchos), será mejor ir creando el dataframe poco a poco (cada x llamadas) para no almacenar demasiada información duplicada al mismo tiempo."
   ]
  },
  {
   "cell_type": "code",
   "execution_count": 84,
   "metadata": {},
   "outputs": [],
   "source": [
    "cols = ['Título', 'Descripción', 'Enlace']\n",
    "\n",
    "noticias_deportivas = pd.DataFrame({'Título': textos,\n",
    "                                    'Descripción': textos_noticias_completos,\n",
    "                                    'Enlace': links})[cols]\n",
    "\n",
    "noticias_deportivas.to_excel('marca_noticias.xls', index=False)\n",
    "noticias_deportivas_df = pd.read_excel('marca_noticias.xls')"
   ]
  },
  {
   "cell_type": "code",
   "execution_count": 85,
   "metadata": {},
   "outputs": [
    {
     "data": {
      "text/html": [
       "<div>\n",
       "<style scoped>\n",
       "    .dataframe tbody tr th:only-of-type {\n",
       "        vertical-align: middle;\n",
       "    }\n",
       "\n",
       "    .dataframe tbody tr th {\n",
       "        vertical-align: top;\n",
       "    }\n",
       "\n",
       "    .dataframe thead th {\n",
       "        text-align: right;\n",
       "    }\n",
       "</style>\n",
       "<table border=\"1\" class=\"dataframe\">\n",
       "  <thead>\n",
       "    <tr style=\"text-align: right;\">\n",
       "      <th></th>\n",
       "      <th>Título</th>\n",
       "      <th>Descripción</th>\n",
       "      <th>Enlace</th>\n",
       "    </tr>\n",
       "  </thead>\n",
       "  <tbody>\n",
       "    <tr>\n",
       "      <th>0</th>\n",
       "      <td>La charla de Zidane tras el bochorno: los juga...</td>\n",
       "      <td>Zidane sigue en el cargoReal Madrid en crisis,...</td>\n",
       "      <td>https://www.marca.com/futbol/real-madrid/2021/...</td>\n",
       "    </tr>\n",
       "    <tr>\n",
       "      <th>1</th>\n",
       "      <td>Ya rueda el balón en Mestalla</td>\n",
       "      <td>Narrador:El Valencia carga el ataque por la ba...</td>\n",
       "      <td>https://www.marca.com/futbol/laliga-santander/...</td>\n",
       "    </tr>\n",
       "    <tr>\n",
       "      <th>2</th>\n",
       "      <td>Arranca el partido en Ibiza</td>\n",
       "      <td>Narrador:Buena acción individual de Lekue, lle...</td>\n",
       "      <td>https://www.marca.com/futbol/copa-del-rey/ibiz...</td>\n",
       "    </tr>\n",
       "    <tr>\n",
       "      <th>3</th>\n",
       "      <td>The Times desvela el borrador de la Superliga:...</td>\n",
       "      <td>Estos son los motivos por los que la FIFA ha e...</td>\n",
       "      <td>https://www.marca.com/futbol/champions-league/...</td>\n",
       "    </tr>\n",
       "    <tr>\n",
       "      <th>4</th>\n",
       "      <td>Juanfran: \"Que hablen mierda de mí, que se ría...</td>\n",
       "      <td>El Inter 'humilla' al Sao Paulo de Juanfran y ...</td>\n",
       "      <td>https://www.marca.com/futbol/america/2021/01/2...</td>\n",
       "    </tr>\n",
       "    <tr>\n",
       "      <th>5</th>\n",
       "      <td>Durísimo palo de FIFA a la Superliga para acab...</td>\n",
       "      <td>Reunión de Florentino con Agnelli en TurínPreg...</td>\n",
       "      <td>https://www.marca.com/futbol/futbol-internacio...</td>\n",
       "    </tr>\n",
       "    <tr>\n",
       "      <th>6</th>\n",
       "      <td>\"Fernando y Michael me metieron el amor por el...</td>\n",
       "      <td>Esteban Ocón, compañero de Fernando Alonso est...</td>\n",
       "      <td>https://www.marca.com/motor/rallies/2021/01/21...</td>\n",
       "    </tr>\n",
       "    <tr>\n",
       "      <th>7</th>\n",
       "      <td>\"Si se escapa un alarido es que marca el Alcoy...</td>\n",
       "      <td>Parodia playera del mítico calentamiento de Ma...</td>\n",
       "      <td>https://videos.marca.com/v/0_fd5229mr-premonic...</td>\n",
       "    </tr>\n",
       "    <tr>\n",
       "      <th>8</th>\n",
       "      <td>Así son las dos personas más guapas del mundo</td>\n",
       "      <td>NaN</td>\n",
       "      <td>https://www.marca.com/tiramillas/actualidad/al...</td>\n",
       "    </tr>\n",
       "    <tr>\n",
       "      <th>9</th>\n",
       "      <td>Se avecina revolución blanca: la estabilidad d...</td>\n",
       "      <td>Heurtel se libera del Barça... y apunta al Mad...</td>\n",
       "      <td>https://www.marca.com/baloncesto/acb/2021/01/2...</td>\n",
       "    </tr>\n",
       "    <tr>\n",
       "      <th>10</th>\n",
       "      <td>Pedro Cortés dimite como delegado de la selecc...</td>\n",
       "      <td>Pedro Cortés dimite de su cargo como delegado ...</td>\n",
       "      <td>https://www.marca.com/futbol/valencia/2021/01/...</td>\n",
       "    </tr>\n",
       "    <tr>\n",
       "      <th>11</th>\n",
       "      <td>El 'zasca' de Iturriaga al Rubius tras anuncia...</td>\n",
       "      <td>Iturriaga, los youtubers y Andorra: \"Eres mill...</td>\n",
       "      <td>https://videos.marca.com/index.php/v/0_h03o2yk...</td>\n",
       "    </tr>\n",
       "    <tr>\n",
       "      <th>12</th>\n",
       "      <td>¿Otro drama sin Ramos?</td>\n",
       "      <td>Zidane sigueLa crisis en el Madrid, en directo...</td>\n",
       "      <td>https://www.marca.com/futbol/real-madrid/2021/...</td>\n",
       "    </tr>\n",
       "    <tr>\n",
       "      <th>13</th>\n",
       "      <td>Los motivos por los que la FIFA ha emitido el ...</td>\n",
       "      <td>¿Por qué la FIFA hace un comunicado público co...</td>\n",
       "      <td>https://www.marca.com/futbol/futbol-internacio...</td>\n",
       "    </tr>\n",
       "    <tr>\n",
       "      <th>14</th>\n",
       "      <td>¿Qué jugadores quedan más señalados tras este ...</td>\n",
       "      <td>Dos títulos perdidos en seis díasReal Madrid: ...</td>\n",
       "      <td>https://www.marca.com/futbol/real-madrid/2021/...</td>\n",
       "    </tr>\n",
       "    <tr>\n",
       "      <th>15</th>\n",
       "      <td>Los jugadores del Barça prueban y eligen sus n...</td>\n",
       "      <td>FOTOGALERÍA: Messi, el gran ausente en la entr...</td>\n",
       "      <td>https://www.marca.com/coches-y-motos/coches/cu...</td>\n",
       "    </tr>\n",
       "    <tr>\n",
       "      <th>16</th>\n",
       "      <td>Los embajadores de LaLiga se retan en el Fanta...</td>\n",
       "      <td>Los embajadores de LaLiga se retan en el Fanta...</td>\n",
       "      <td>https://www.marca.com/laliga-fantasy/album/202...</td>\n",
       "    </tr>\n",
       "    <tr>\n",
       "      <th>17</th>\n",
       "      <td>Café: efectos sobre la salud que no sabías</td>\n",
       "      <td>Afiliados especialesVolver a NutriciónIsabel G...</td>\n",
       "      <td>https://cuidateplus.marca.com/alimentacion/nut...</td>\n",
       "    </tr>\n",
       "    <tr>\n",
       "      <th>18</th>\n",
       "      <td>Las mejores afeitadoras y maquinillas para no ...</td>\n",
       "      <td>Cremas antiedad: diez productos que tu cara lu...</td>\n",
       "      <td>https://www.marca.com/regalos-promociones/moda...</td>\n",
       "    </tr>\n",
       "    <tr>\n",
       "      <th>19</th>\n",
       "      <td>Dead by Dayligh, Resident Evil 2 y más juegos ...</td>\n",
       "      <td>Conviértete en un zurullo saltarín o en una mo...</td>\n",
       "      <td>https://www.marca.com/videojuegos/playstation/...</td>\n",
       "    </tr>\n",
       "    <tr>\n",
       "      <th>20</th>\n",
       "      <td>Los F1 de 2021 ya tienen nombre</td>\n",
       "      <td>Aún queda tiempo para que empiece el Mundial d...</td>\n",
       "      <td>https://www.marca.com/motor/formula1/2021/01/2...</td>\n",
       "    </tr>\n",
       "    <tr>\n",
       "      <th>21</th>\n",
       "      <td>Sainz, en una nube: \"Es increíble\"</td>\n",
       "      <td>\"No me sentó bien el fichaje de Carlos Sainz p...</td>\n",
       "      <td>https://www.marca.com/motor/formula1/2021/01/2...</td>\n",
       "    </tr>\n",
       "    <tr>\n",
       "      <th>22</th>\n",
       "      <td>Nostradamus Harden: ¡Ya vaticinó en 2012 lo qu...</td>\n",
       "      <td>NBA Cambio radical: James Harden ¿estaba gordo...</td>\n",
       "      <td>https://www.marca.com/baloncesto/nba/2021/01/2...</td>\n",
       "    </tr>\n",
       "    <tr>\n",
       "      <th>23</th>\n",
       "      <td>\"Estuve 20\" a 220 pulsaciones\"</td>\n",
       "      <td>El triste adiós de Fernando Barcelo: \"Tuve taq...</td>\n",
       "      <td>https://www.marca.com/ciclismo/2021/01/20/6008...</td>\n",
       "    </tr>\n",
       "    <tr>\n",
       "      <th>24</th>\n",
       "      <td>Arévalo y Malena Gracia: \"Jugamos a papá y mamá\"</td>\n",
       "      <td>Kiko Matamoros y Marta López: posible boda cer...</td>\n",
       "      <td>https://www.marca.com/tiramillas/television/20...</td>\n",
       "    </tr>\n",
       "    <tr>\n",
       "      <th>25</th>\n",
       "      <td>Monumental zasca de Russell Crowe a un tuitero...</td>\n",
       "      <td>La misteriosa visita de Russell Crowe a Puerto...</td>\n",
       "      <td>https://www.marca.com/tiramillas/cine/2021/01/...</td>\n",
       "    </tr>\n",
       "    <tr>\n",
       "      <th>26</th>\n",
       "      <td>Rosalía y Billie Eilish lanzan 'Lo vas a olvid...</td>\n",
       "      <td>El esperado documental de Martin Scorsese y Fr...</td>\n",
       "      <td>https://www.marca.com/tiramillas/series/2021/0...</td>\n",
       "    </tr>\n",
       "    <tr>\n",
       "      <th>27</th>\n",
       "      <td>El 'zasca' de de Ana Rosa Quintana a Laura Mad...</td>\n",
       "      <td>El 'zasca' del voluntario español de la vacuna...</td>\n",
       "      <td>https://www.marca.com/tiramillas/television/20...</td>\n",
       "    </tr>\n",
       "    <tr>\n",
       "      <th>28</th>\n",
       "      <td>El tibio \"no es una vergüenza\" de Zidane contr...</td>\n",
       "      <td>Parodia playera del mítico calentamiento de Ma...</td>\n",
       "      <td>https://videos.marca.com/v/0_hlmxtesl-el-tibio...</td>\n",
       "    </tr>\n",
       "    <tr>\n",
       "      <th>29</th>\n",
       "      <td>La canción de Cristobal Soria para cachondears...</td>\n",
       "      <td>Parodia playera del mítico calentamiento de Ma...</td>\n",
       "      <td>https://videos.marca.com/v/0_opb4uccm-asi-goza...</td>\n",
       "    </tr>\n",
       "    <tr>\n",
       "      <th>30</th>\n",
       "      <td>Lo que le faltaba a Madrid: un asteroide en ll...</td>\n",
       "      <td>Cuatro muertos tras la explosión de un edifici...</td>\n",
       "      <td>https://www.marca.com/tiramillas/actualidad/20...</td>\n",
       "    </tr>\n",
       "    <tr>\n",
       "      <th>31</th>\n",
       "      <td>El encierro de Carlos Alcaraz: \"Me decía a mí ...</td>\n",
       "      <td>Sigue encerrado en una habitación de hotel des...</td>\n",
       "      <td>https://www.marca.com/tenis/open-australia/202...</td>\n",
       "    </tr>\n",
       "    <tr>\n",
       "      <th>32</th>\n",
       "      <td>Espectacular debut en UFC de Umar, el primo de...</td>\n",
       "      <td>Khabib volverá a la UFC si McGregor hace algo ...</td>\n",
       "      <td>https://www.marca.com/combates-ufc/2021/01/21/...</td>\n",
       "    </tr>\n",
       "    <tr>\n",
       "      <th>33</th>\n",
       "      <td>María Taktouk, la hijastra influencer de Cesc ...</td>\n",
       "      <td>María Taktouk, la hijastra influencer de Cesc ...</td>\n",
       "      <td>https://www.marca.com/buzz/album/2021/01/20/60...</td>\n",
       "    </tr>\n",
       "    <tr>\n",
       "      <th>34</th>\n",
       "      <td>Un sacerdote quedó atrapado en la quinta plant...</td>\n",
       "      <td>Iturriaga, los youtubers y Andorra: \"Eres mill...</td>\n",
       "      <td>https://videos.marca.com/v/0_nr80ictg-un-sacer...</td>\n",
       "    </tr>\n",
       "  </tbody>\n",
       "</table>\n",
       "</div>"
      ],
      "text/plain": [
       "                                               Título  \\\n",
       "0   La charla de Zidane tras el bochorno: los juga...   \n",
       "1                       Ya rueda el balón en Mestalla   \n",
       "2                         Arranca el partido en Ibiza   \n",
       "3   The Times desvela el borrador de la Superliga:...   \n",
       "4   Juanfran: \"Que hablen mierda de mí, que se ría...   \n",
       "5   Durísimo palo de FIFA a la Superliga para acab...   \n",
       "6   \"Fernando y Michael me metieron el amor por el...   \n",
       "7   \"Si se escapa un alarido es que marca el Alcoy...   \n",
       "8       Así son las dos personas más guapas del mundo   \n",
       "9   Se avecina revolución blanca: la estabilidad d...   \n",
       "10  Pedro Cortés dimite como delegado de la selecc...   \n",
       "11  El 'zasca' de Iturriaga al Rubius tras anuncia...   \n",
       "12                             ¿Otro drama sin Ramos?   \n",
       "13  Los motivos por los que la FIFA ha emitido el ...   \n",
       "14  ¿Qué jugadores quedan más señalados tras este ...   \n",
       "15  Los jugadores del Barça prueban y eligen sus n...   \n",
       "16  Los embajadores de LaLiga se retan en el Fanta...   \n",
       "17         Café: efectos sobre la salud que no sabías   \n",
       "18  Las mejores afeitadoras y maquinillas para no ...   \n",
       "19  Dead by Dayligh, Resident Evil 2 y más juegos ...   \n",
       "20                    Los F1 de 2021 ya tienen nombre   \n",
       "21                 Sainz, en una nube: \"Es increíble\"   \n",
       "22  Nostradamus Harden: ¡Ya vaticinó en 2012 lo qu...   \n",
       "23                     \"Estuve 20\" a 220 pulsaciones\"   \n",
       "24   Arévalo y Malena Gracia: \"Jugamos a papá y mamá\"   \n",
       "25  Monumental zasca de Russell Crowe a un tuitero...   \n",
       "26  Rosalía y Billie Eilish lanzan 'Lo vas a olvid...   \n",
       "27  El 'zasca' de de Ana Rosa Quintana a Laura Mad...   \n",
       "28  El tibio \"no es una vergüenza\" de Zidane contr...   \n",
       "29  La canción de Cristobal Soria para cachondears...   \n",
       "30  Lo que le faltaba a Madrid: un asteroide en ll...   \n",
       "31  El encierro de Carlos Alcaraz: \"Me decía a mí ...   \n",
       "32  Espectacular debut en UFC de Umar, el primo de...   \n",
       "33  María Taktouk, la hijastra influencer de Cesc ...   \n",
       "34  Un sacerdote quedó atrapado en la quinta plant...   \n",
       "\n",
       "                                          Descripción  \\\n",
       "0   Zidane sigue en el cargoReal Madrid en crisis,...   \n",
       "1   Narrador:El Valencia carga el ataque por la ba...   \n",
       "2   Narrador:Buena acción individual de Lekue, lle...   \n",
       "3   Estos son los motivos por los que la FIFA ha e...   \n",
       "4   El Inter 'humilla' al Sao Paulo de Juanfran y ...   \n",
       "5   Reunión de Florentino con Agnelli en TurínPreg...   \n",
       "6   Esteban Ocón, compañero de Fernando Alonso est...   \n",
       "7   Parodia playera del mítico calentamiento de Ma...   \n",
       "8                                                 NaN   \n",
       "9   Heurtel se libera del Barça... y apunta al Mad...   \n",
       "10  Pedro Cortés dimite de su cargo como delegado ...   \n",
       "11  Iturriaga, los youtubers y Andorra: \"Eres mill...   \n",
       "12  Zidane sigueLa crisis en el Madrid, en directo...   \n",
       "13  ¿Por qué la FIFA hace un comunicado público co...   \n",
       "14  Dos títulos perdidos en seis díasReal Madrid: ...   \n",
       "15  FOTOGALERÍA: Messi, el gran ausente en la entr...   \n",
       "16  Los embajadores de LaLiga se retan en el Fanta...   \n",
       "17  Afiliados especialesVolver a NutriciónIsabel G...   \n",
       "18  Cremas antiedad: diez productos que tu cara lu...   \n",
       "19  Conviértete en un zurullo saltarín o en una mo...   \n",
       "20  Aún queda tiempo para que empiece el Mundial d...   \n",
       "21  \"No me sentó bien el fichaje de Carlos Sainz p...   \n",
       "22  NBA Cambio radical: James Harden ¿estaba gordo...   \n",
       "23  El triste adiós de Fernando Barcelo: \"Tuve taq...   \n",
       "24  Kiko Matamoros y Marta López: posible boda cer...   \n",
       "25  La misteriosa visita de Russell Crowe a Puerto...   \n",
       "26  El esperado documental de Martin Scorsese y Fr...   \n",
       "27  El 'zasca' del voluntario español de la vacuna...   \n",
       "28  Parodia playera del mítico calentamiento de Ma...   \n",
       "29  Parodia playera del mítico calentamiento de Ma...   \n",
       "30  Cuatro muertos tras la explosión de un edifici...   \n",
       "31  Sigue encerrado en una habitación de hotel des...   \n",
       "32  Khabib volverá a la UFC si McGregor hace algo ...   \n",
       "33  María Taktouk, la hijastra influencer de Cesc ...   \n",
       "34  Iturriaga, los youtubers y Andorra: \"Eres mill...   \n",
       "\n",
       "                                               Enlace  \n",
       "0   https://www.marca.com/futbol/real-madrid/2021/...  \n",
       "1   https://www.marca.com/futbol/laliga-santander/...  \n",
       "2   https://www.marca.com/futbol/copa-del-rey/ibiz...  \n",
       "3   https://www.marca.com/futbol/champions-league/...  \n",
       "4   https://www.marca.com/futbol/america/2021/01/2...  \n",
       "5   https://www.marca.com/futbol/futbol-internacio...  \n",
       "6   https://www.marca.com/motor/rallies/2021/01/21...  \n",
       "7   https://videos.marca.com/v/0_fd5229mr-premonic...  \n",
       "8   https://www.marca.com/tiramillas/actualidad/al...  \n",
       "9   https://www.marca.com/baloncesto/acb/2021/01/2...  \n",
       "10  https://www.marca.com/futbol/valencia/2021/01/...  \n",
       "11  https://videos.marca.com/index.php/v/0_h03o2yk...  \n",
       "12  https://www.marca.com/futbol/real-madrid/2021/...  \n",
       "13  https://www.marca.com/futbol/futbol-internacio...  \n",
       "14  https://www.marca.com/futbol/real-madrid/2021/...  \n",
       "15  https://www.marca.com/coches-y-motos/coches/cu...  \n",
       "16  https://www.marca.com/laliga-fantasy/album/202...  \n",
       "17  https://cuidateplus.marca.com/alimentacion/nut...  \n",
       "18  https://www.marca.com/regalos-promociones/moda...  \n",
       "19  https://www.marca.com/videojuegos/playstation/...  \n",
       "20  https://www.marca.com/motor/formula1/2021/01/2...  \n",
       "21  https://www.marca.com/motor/formula1/2021/01/2...  \n",
       "22  https://www.marca.com/baloncesto/nba/2021/01/2...  \n",
       "23  https://www.marca.com/ciclismo/2021/01/20/6008...  \n",
       "24  https://www.marca.com/tiramillas/television/20...  \n",
       "25  https://www.marca.com/tiramillas/cine/2021/01/...  \n",
       "26  https://www.marca.com/tiramillas/series/2021/0...  \n",
       "27  https://www.marca.com/tiramillas/television/20...  \n",
       "28  https://videos.marca.com/v/0_hlmxtesl-el-tibio...  \n",
       "29  https://videos.marca.com/v/0_opb4uccm-asi-goza...  \n",
       "30  https://www.marca.com/tiramillas/actualidad/20...  \n",
       "31  https://www.marca.com/tenis/open-australia/202...  \n",
       "32  https://www.marca.com/combates-ufc/2021/01/21/...  \n",
       "33  https://www.marca.com/buzz/album/2021/01/20/60...  \n",
       "34  https://videos.marca.com/v/0_nr80ictg-un-sacer...  "
      ]
     },
     "execution_count": 85,
     "metadata": {},
     "output_type": "execute_result"
    }
   ],
   "source": [
    "noticias_deportivas_df"
   ]
  },
  {
   "cell_type": "code",
   "execution_count": null,
   "metadata": {},
   "outputs": [],
   "source": []
  },
  {
   "cell_type": "code",
   "execution_count": null,
   "metadata": {},
   "outputs": [],
   "source": []
  }
 ],
 "metadata": {
  "kernelspec": {
   "display_name": "Python 3",
   "language": "python",
   "name": "python3"
  },
  "language_info": {
   "codemirror_mode": {
    "name": "ipython",
    "version": 3
   },
   "file_extension": ".py",
   "mimetype": "text/x-python",
   "name": "python",
   "nbconvert_exporter": "python",
   "pygments_lexer": "ipython3",
   "version": "3.8.3"
  }
 },
 "nbformat": 4,
 "nbformat_minor": 4
}
