{
 "cells": [
  {
   "cell_type": "markdown",
   "metadata": {},
   "source": [
    "# Ejemplo de uso: ``pickle`` vs ``import``"
   ]
  },
  {
   "cell_type": "markdown",
   "metadata": {},
   "source": [
    "En este notebook trataremos de diferenciar el uso de pickle de lo que podamos obtener importando una clase o una variable, cosa que parece haber creado confusión el último día.\n",
    "\n",
    "Comencemos recordando qué hacíamos al importar una clase:\n",
    "  - Cuando importas una clase que te has definido, estás cargando la estructura de un objeto. Al crearte una clase estás definiendo los atributos y métodos que tendrán todos los objetos que crees de esa clase, pero no guardarás ningún objeto en sí, solo la estructura.\n",
    "\n",
    "  Al importar una variable con un valor determinado, sí que estaremos leyendo un valor, pero será una cosa aislada y que siempre tendrá el mismo valor, salvo que cambiemos el código a mano.\n",
    "  \n",
    "Por otra parte tendríamos pickle:\n",
    "  - La librería ``pickle`` nos permite guardar un objeto de Python, ya sea una variable como la anterior o un objeto de una clase que nosotros queramos. La diferencia reside en que ahora lo que guardamos es el objeto con todos sus datos, hacemos una copia exacta de todo lo que tiene ese objeto, no de la estructura sino del objeto.\n",
    "  \n",
    "  Si bien es cierto que en el caso de la variable puede haber similitudes, pickle nos permite guardar el estado actual, por lo que el valor de la variable puede cambiar dinámicamente, sin falta de tener que cambiar el código manualmente. Es decir, me puedo definir una variable, hago unas operaciones con ella, cambio su valor, y me la guardo tal como está para leerla más adelante, ya sea otro día o en otro script, mediante la librería pickle. Luego puedo volver a modificarla y guardarla, de modo que es posible guardar el estado de la variable e ir cambiándolo según ejecute mi script, mientras que de la otra forma el valor será el mismo siempre que la lea, pues no puedo guardar un nuevo valor (sin cambiar a mano lo que está escrito en el código).\n",
    "  \n",
    "  Es muy útil para guardar estados, llevar variables que queremos que se guarden en diferentes sesiones o intercambiar información entre scripts.\n",
    "  \n",
    "  \n",
    "  ``¡IMPORTANTE!`` La librería pickle permite guardar una imagen del objeto para poder leerla después pero NO guarda la clase, por lo que si queremos serializar (guardar con pickle) un objeto de una clase que nos hayamos creado, deberemos importarla con anterioridad a leer el objeto. \n"
   ]
  },
  {
   "cell_type": "markdown",
   "metadata": {},
   "source": [
    "A continuación, veremos un ejemplo muy snecillo donde probaremos la funcionalidad de pickle. Vamos a intentar hacer un pequeño juego que nos guarde los resultados:\n",
    "\n",
    "\n",
    "## Piedra, papel o tijera (con memoria):\n",
    "\n",
    "El enunciado de lo que querríamos hacer sería algo así:\n",
    "  - Diseña un juego de piedra papel o tijera donde se vayan acumulando puntos en función de lo que seleccione el jugador.\n",
    "  - Las reglas son las que ya conocemos:\n",
    "    - Piedra > Tijera\n",
    "    - Papel > Piedra\n",
    "    - Tijera > Papel\n",
    "  - Puntuaciones:\n",
    "    - Si el jugador gana un duelo, suma 100 puntos.\n",
    "    - Si el jugador saca lo mismo que la máquina: gana 25 puntos.\n",
    "    - Si el jugador pierde, pierde 50 puntos.\n",
    "  - La máquina seleccionará aleatoriamente su elección, mientras que el jugador lo hará mediante un menú que le pida que introduzca 1 (Piedra), 2 (Papel) o 3 (Tijera)\n",
    "  - Si el jugador selecciona 0, termina el juego, que le pedirá un nombre para guardar su resultado en un diccionario\n",
    "  - Si el jugador selecciona 4, podrá imprimir por pantalla los high scores (TOP 10), que deberán persisitir en memoria para que se mantengan otros días.\n",
    "  "
   ]
  },
  {
   "cell_type": "code",
   "execution_count": 1,
   "metadata": {},
   "outputs": [],
   "source": [
    "import numpy as np\n",
    "import pandas as pd\n",
    "import pickle\n",
    "import datetime"
   ]
  },
  {
   "cell_type": "code",
   "execution_count": 2,
   "metadata": {},
   "outputs": [
    {
     "data": {
      "text/plain": [
       "'2020-10-27 19:39:59'"
      ]
     },
     "execution_count": 2,
     "metadata": {},
     "output_type": "execute_result"
    }
   ],
   "source": [
    "# No lo hemos visto, pero para sacar la fecha utilizaremos esta expresión:\n",
    "datetime.datetime.now().strftime(\"%Y-%m-%d %H:%M:%S\")"
   ]
  },
  {
   "cell_type": "code",
   "execution_count": 3,
   "metadata": {},
   "outputs": [
    {
     "data": {
      "text/html": [
       "<div>\n",
       "<style scoped>\n",
       "    .dataframe tbody tr th:only-of-type {\n",
       "        vertical-align: middle;\n",
       "    }\n",
       "\n",
       "    .dataframe tbody tr th {\n",
       "        vertical-align: top;\n",
       "    }\n",
       "\n",
       "    .dataframe thead th {\n",
       "        text-align: right;\n",
       "    }\n",
       "</style>\n",
       "<table border=\"1\" class=\"dataframe\">\n",
       "  <thead>\n",
       "    <tr style=\"text-align: right;\">\n",
       "      <th></th>\n",
       "      <th>nombre</th>\n",
       "      <th>score</th>\n",
       "      <th>partidas</th>\n",
       "      <th>fecha</th>\n",
       "    </tr>\n",
       "  </thead>\n",
       "  <tbody>\n",
       "    <tr>\n",
       "      <th>0</th>\n",
       "      <td>Ejemplo</td>\n",
       "      <td>1175</td>\n",
       "      <td>47</td>\n",
       "      <td>2020-10-27 18:40:39</td>\n",
       "    </tr>\n",
       "    <tr>\n",
       "      <th>1</th>\n",
       "      <td>Señor Probabilidad</td>\n",
       "      <td>275</td>\n",
       "      <td>5</td>\n",
       "      <td>2020-10-27 00:12:13</td>\n",
       "    </tr>\n",
       "    <tr>\n",
       "      <th>2</th>\n",
       "      <td>Retro Gamer</td>\n",
       "      <td>250</td>\n",
       "      <td>5</td>\n",
       "      <td>1970-10-01 14:20:10</td>\n",
       "    </tr>\n",
       "    <tr>\n",
       "      <th>3</th>\n",
       "      <td>AAA</td>\n",
       "      <td>150</td>\n",
       "      <td>3</td>\n",
       "      <td>2020-10-27 00:09:37</td>\n",
       "    </tr>\n",
       "    <tr>\n",
       "      <th>4</th>\n",
       "      <td>AAA</td>\n",
       "      <td>125</td>\n",
       "      <td>2</td>\n",
       "      <td>2020-10-27 18:34:28</td>\n",
       "    </tr>\n",
       "    <tr>\n",
       "      <th>5</th>\n",
       "      <td>No funciona</td>\n",
       "      <td>100</td>\n",
       "      <td>4</td>\n",
       "      <td>2020-10-27 18:35:27</td>\n",
       "    </tr>\n",
       "    <tr>\n",
       "      <th>6</th>\n",
       "      <td>Playero</td>\n",
       "      <td>25</td>\n",
       "      <td>7</td>\n",
       "      <td>2020-10-27 00:01:58</td>\n",
       "    </tr>\n",
       "    <tr>\n",
       "      <th>7</th>\n",
       "      <td>AA</td>\n",
       "      <td>-25</td>\n",
       "      <td>2</td>\n",
       "      <td>2020-10-27 18:34:57</td>\n",
       "    </tr>\n",
       "  </tbody>\n",
       "</table>\n",
       "</div>"
      ],
      "text/plain": [
       "               nombre  score  partidas                fecha\n",
       "0             Ejemplo   1175        47  2020-10-27 18:40:39\n",
       "1  Señor Probabilidad    275         5  2020-10-27 00:12:13\n",
       "2         Retro Gamer    250         5  1970-10-01 14:20:10\n",
       "3                 AAA    150         3  2020-10-27 00:09:37\n",
       "4                 AAA    125         2  2020-10-27 18:34:28\n",
       "5         No funciona    100         4  2020-10-27 18:35:27\n",
       "6             Playero     25         7  2020-10-27 00:01:58\n",
       "7                  AA    -25         2  2020-10-27 18:34:57"
      ]
     },
     "execution_count": 3,
     "metadata": {},
     "output_type": "execute_result"
    }
   ],
   "source": [
    "# Ejemplo de lectura de nuestro fichero:\n",
    "with open('top_players', \"rb\") as f:\n",
    "    df_top = pickle.load(f)\n",
    "    \n",
    "df_top"
   ]
  },
  {
   "cell_type": "code",
   "execution_count": null,
   "metadata": {},
   "outputs": [],
   "source": [
    "posibilidades = [1, 2, 3]\n",
    "posibilidades_txt = {1: 'piedra', 2: 'papel', 3: 'tijera'}\n",
    "\n",
    "# # La primera vez, no nos quedará otra que crearnos el TOP (al que pondremos un valor por defecto, como solían hacer los arcades antiguos):\n",
    "# df_top = pd.DataFrame([['Retro Gamer', 250, 5, '1970-10-01 14:20:10']], columns=['nombre', 'score', 'jugadas', 'fecha'])\n",
    "\n",
    "# Pero en las posteriores iteraciones, lo leeremos mediante pickle para rescatar los resultados:\n",
    "with open('top_players', \"rb\") as f:\n",
    "    df_top = pickle.load(f)\n",
    "\n",
    "print(\"Bienvenido al juego de Piedra, Papel o Tijera. El nuevo Among us!!\")\n",
    "msg_juego = \"Para jugar, introduce un número del 0 al 4:\\n0. Finalizar partida\\n1. Piedra\\n2. Papel\\n3. Tijera\\n4. Imprimir top\\n\"\n",
    "print(msg_juego)\n",
    "\n",
    "puntos = 0\n",
    "partidas = 0\n",
    "\n",
    "# Creamos el mensaje que vamos a reutilizar para jugar:\n",
    "msg = \"\\nPiedra, papel o tijera. 1, 2, 3... ¡YA!\"\n",
    "\n",
    "while True:\n",
    "    machine = np.random.choice(posibilidades)\n",
    "    try:\n",
    "        jugador = int(input(msg))\n",
    "        if jugador < 0 or jugador > 4:\n",
    "            print(\"ERROR. \" + msg_juego)\n",
    "        elif jugador == 0:\n",
    "            if partidas == 0:\n",
    "                print(\"Gracias por... ¿nada? Bye!\")\n",
    "                break\n",
    "            # Sacamos posición (daremos prioridad a los más nevos):\n",
    "            if len(df_top[df_top['score'] > puntos].index) == 0:\n",
    "                # Si pasa esto, es el TOP 1:\n",
    "                print(\"WOOOHOOOO!! Eres el campeón de esto!! Te pones en 1er lugar!!\")\n",
    "                nombre = input(\"Así que apunta orgulloso tu nombre: \")\n",
    "            elif len(df_top[df_top['score'] > puntos].index) == len(df_top.index):\n",
    "                print(f\"A ver cómo te digo esto... No está mal, ¿vale? ¿Eres el último? Sí, pero, bueno, es que hay mucho nivel. Y quedar último no está tan mal.\")\n",
    "                nombre = input(\"Dame tu nombre antes de que me arrepienta, anda: \")\n",
    "            else:\n",
    "                pos = min(df_top[df_top['score'] > puntos].index) + 2 # 1 más porque empieza en el 0, y otro más porque el que estoy filtrando es mejor que yo\n",
    "                print(f\"¡Enhorabuena! Has quedado el {pos}º.\")\n",
    "                nombre = input(\"Graba tu nombre en el lugar que se merece: \")\n",
    "            fecha = datetime.datetime.now().strftime(\"%Y-%m-%d %H:%M:%S\")\n",
    "            df_aux = pd.DataFrame([[nombre, puntos, partidas, fecha]], columns=['nombre', 'score', 'partidas', 'fecha'])\n",
    "            df_top = df_top.append(df_aux).sort_values(by=['score', 'fecha'], ascending=[False, False]).reset_index(drop=True)\n",
    "            break\n",
    "        elif jugador == 4:\n",
    "            print(\"TOP 10 Players:\")\n",
    "            print(df_top.iloc[:10])\n",
    "        else:\n",
    "            partidas += 1\n",
    "            # Selección de la máquina:\n",
    "            machine = np.random.choice(posibilidades)\n",
    "            if jugador == machine:\n",
    "                puntos += 25\n",
    "                print(f\"{posibilidades_txt[jugador]} == {posibilidades_txt[machine]}\")\n",
    "                print(\"EMPATE: 25 puntos para ti\")\n",
    "            elif (jugador == 1 and machine == 3) or (jugador == 2 and machine == 1) or (jugador == 3 and machine == 2):\n",
    "                puntos += 100\n",
    "                print(f\"{posibilidades_txt[jugador]} > {posibilidades_txt[machine]}\")\n",
    "                print(\"VICTORIA: 100 puntos para ti\")\n",
    "            else:\n",
    "                puntos -= 50\n",
    "                print(f\"{posibilidades_txt[jugador]} > {posibilidades_txt[machine]}\")\n",
    "                print(\"DERROTA: 50 puntos menos\")\n",
    "            print(f\"Saldo:\\n{puntos} puntos en {partidas} partidas\")\n",
    "    except:\n",
    "        print(\"ERROR. ESO NO ES UN... ¡¡¡NÚMEROOOOOOO!!!!\" + msg_juego)\n",
    "        print()\n",
    "        print(jugador)\n",
    "        print(type(jugador))\n",
    "            \n",
    "\n",
    "\n",
    "# Al terminar, guardamos nuetro TOP:\n",
    "with open('top_players', \"wb\") as f:\n",
    "    pickle.dump(df_top, f)\n",
    "        "
   ]
  },
  {
   "cell_type": "code",
   "execution_count": 7,
   "metadata": {},
   "outputs": [
    {
     "data": {
      "text/html": [
       "<div>\n",
       "<style scoped>\n",
       "    .dataframe tbody tr th:only-of-type {\n",
       "        vertical-align: middle;\n",
       "    }\n",
       "\n",
       "    .dataframe tbody tr th {\n",
       "        vertical-align: top;\n",
       "    }\n",
       "\n",
       "    .dataframe thead th {\n",
       "        text-align: right;\n",
       "    }\n",
       "</style>\n",
       "<table border=\"1\" class=\"dataframe\">\n",
       "  <thead>\n",
       "    <tr style=\"text-align: right;\">\n",
       "      <th></th>\n",
       "      <th>nombre</th>\n",
       "      <th>score</th>\n",
       "      <th>partidas</th>\n",
       "      <th>fecha</th>\n",
       "    </tr>\n",
       "  </thead>\n",
       "  <tbody>\n",
       "    <tr>\n",
       "      <th>0</th>\n",
       "      <td>Señor Probabilidad</td>\n",
       "      <td>275</td>\n",
       "      <td>5</td>\n",
       "      <td>2020-10-27 00:12:13</td>\n",
       "    </tr>\n",
       "    <tr>\n",
       "      <th>1</th>\n",
       "      <td>Retro Gamer</td>\n",
       "      <td>250</td>\n",
       "      <td>5</td>\n",
       "      <td>1970-10-01 14:20:10</td>\n",
       "    </tr>\n",
       "    <tr>\n",
       "      <th>2</th>\n",
       "      <td>AAA</td>\n",
       "      <td>150</td>\n",
       "      <td>3</td>\n",
       "      <td>2020-10-27 00:09:37</td>\n",
       "    </tr>\n",
       "    <tr>\n",
       "      <th>3</th>\n",
       "      <td>AAA</td>\n",
       "      <td>125</td>\n",
       "      <td>2</td>\n",
       "      <td>2020-10-27 18:34:28</td>\n",
       "    </tr>\n",
       "    <tr>\n",
       "      <th>4</th>\n",
       "      <td>No funciona</td>\n",
       "      <td>100</td>\n",
       "      <td>4</td>\n",
       "      <td>2020-10-27 18:35:27</td>\n",
       "    </tr>\n",
       "    <tr>\n",
       "      <th>5</th>\n",
       "      <td>Playero</td>\n",
       "      <td>25</td>\n",
       "      <td>7</td>\n",
       "      <td>2020-10-27 00:01:58</td>\n",
       "    </tr>\n",
       "    <tr>\n",
       "      <th>6</th>\n",
       "      <td>AA</td>\n",
       "      <td>-25</td>\n",
       "      <td>2</td>\n",
       "      <td>2020-10-27 18:34:57</td>\n",
       "    </tr>\n",
       "  </tbody>\n",
       "</table>\n",
       "</div>"
      ],
      "text/plain": [
       "               nombre  score  partidas                fecha\n",
       "0  Señor Probabilidad    275         5  2020-10-27 00:12:13\n",
       "1         Retro Gamer    250         5  1970-10-01 14:20:10\n",
       "2                 AAA    150         3  2020-10-27 00:09:37\n",
       "3                 AAA    125         2  2020-10-27 18:34:28\n",
       "4         No funciona    100         4  2020-10-27 18:35:27\n",
       "5             Playero     25         7  2020-10-27 00:01:58\n",
       "6                  AA    -25         2  2020-10-27 18:34:57"
      ]
     },
     "execution_count": 7,
     "metadata": {},
     "output_type": "execute_result"
    }
   ],
   "source": [
    "with open('top_players', \"rb\") as f:\n",
    "    df_top = pickle.load(f)\n",
    "df_top"
   ]
  },
  {
   "cell_type": "markdown",
   "metadata": {},
   "source": [
    "Este es un ejemplo sencillo en el que estamos guardando un objeto y leyéndolo de nuevo otra vez. Sin embargo, en este caso estamos guardando simplemente un ``DataFrame``, pero podríamos guardar objetos mucho más complejos.\n",
    "\n",
    "De hecho, un ``DataFrame`` podría ser guardado en un fichero (csv, txt...) para almacenar estos datos.\n",
    "\n",
    "\n",
    "Si aún crees que se puede realizar este ejercicio con un import de variables, te insto a que lo hagas así ;).\n",
    "\n",
    "\n",
    "\n",
    "## Ejercicio:\n",
    "\n",
    "Replica el ejemplo anterior pero guardando (y leyéndolo) desde un fichero. Además, añade que se guarden las partidas ganadas, empatadas y perdidas:"
   ]
  },
  {
   "cell_type": "markdown",
   "metadata": {},
   "source": [
    "Empieza creando un fichero csv con el dataframe y algunos registros:"
   ]
  },
  {
   "cell_type": "code",
   "execution_count": 6,
   "metadata": {},
   "outputs": [],
   "source": [
    "# Esto no lo usaremos porque ya tenemos creado un ficherito :)\n",
    "\n",
    "# df_top = pd.DataFrame([['Retro Gamer', 250, 5, 3, 2, 0, '1970-10-01 14:20:10']], columns=['nombre', 'score', 'partidas', 'ganadas', 'empatadas', 'perdidas', 'fecha'])\n",
    "# # Escribimos a csv:\n",
    "# df_top.to_csv(\"top.csv\", sep = \";\", index=False)"
   ]
  },
  {
   "cell_type": "markdown",
   "metadata": {},
   "source": [
    "Continuamos con el script:"
   ]
  },
  {
   "cell_type": "code",
   "execution_count": 4,
   "metadata": {},
   "outputs": [
    {
     "name": "stdout",
     "output_type": "stream",
     "text": [
      "Bienvenido al juego de Piedra, Papel o Tijera. El nuevo Among us!!\n",
      "Para jugar, introduce un número del 0 al 4:\n",
      "0. Finalizar partida\n",
      "1. Piedra\n",
      "2. Papel\n",
      "3. Tijera\n",
      "4. Imprimir top\n",
      "\n"
     ]
    },
    {
     "name": "stdin",
     "output_type": "stream",
     "text": [
      "\n",
      "Piedra, papel o tijera. 1, 2, 3... ¡YA! 1\n"
     ]
    },
    {
     "name": "stdout",
     "output_type": "stream",
     "text": [
      "piedra > papel\n",
      "DERROTA: 50 puntos menos\n",
      "Saldo:\n",
      "-50 puntos en 1 partidas\n"
     ]
    },
    {
     "name": "stdin",
     "output_type": "stream",
     "text": [
      "\n",
      "Piedra, papel o tijera. 1, 2, 3... ¡YA! 1\n"
     ]
    },
    {
     "name": "stdout",
     "output_type": "stream",
     "text": [
      "piedra == piedra\n",
      "EMPATE: 25 puntos para ti\n",
      "Saldo:\n",
      "-25 puntos en 2 partidas\n"
     ]
    },
    {
     "name": "stdin",
     "output_type": "stream",
     "text": [
      "\n",
      "Piedra, papel o tijera. 1, 2, 3... ¡YA! 1\n"
     ]
    },
    {
     "name": "stdout",
     "output_type": "stream",
     "text": [
      "piedra > tijera\n",
      "VICTORIA: 100 puntos para ti\n",
      "Saldo:\n",
      "75 puntos en 3 partidas\n"
     ]
    },
    {
     "name": "stdin",
     "output_type": "stream",
     "text": [
      "\n",
      "Piedra, papel o tijera. 1, 2, 3... ¡YA! 2\n"
     ]
    },
    {
     "name": "stdout",
     "output_type": "stream",
     "text": [
      "papel > piedra\n",
      "VICTORIA: 100 puntos para ti\n",
      "Saldo:\n",
      "175 puntos en 4 partidas\n"
     ]
    },
    {
     "name": "stdin",
     "output_type": "stream",
     "text": [
      "\n",
      "Piedra, papel o tijera. 1, 2, 3... ¡YA! aosknfl\n"
     ]
    },
    {
     "name": "stdout",
     "output_type": "stream",
     "text": [
      "¡¡DAME UN NÚMERO, PLEASE!!\n"
     ]
    },
    {
     "name": "stdin",
     "output_type": "stream",
     "text": [
      "\n",
      "Piedra, papel o tijera. 1, 2, 3... ¡YA! 0\n"
     ]
    },
    {
     "name": "stdout",
     "output_type": "stream",
     "text": [
      "¡Enhorabuena! Has quedado el 4º.\n"
     ]
    },
    {
     "name": "stdin",
     "output_type": "stream",
     "text": [
      "Graba tu nombre en el lugar que se merece:  AAA\n"
     ]
    }
   ],
   "source": [
    "posibilidades = [1, 2, 3]\n",
    "posibilidades_txt = {1: 'piedra', 2: 'papel', 3: 'tijera'}\n",
    "\n",
    "# # La primera vez, no nos quedará otra que crearnos el TOP (al que pondremos un valor por defecto, como solían hacer los arcades antiguos):\n",
    "# df_top = pd.DataFrame([['Retro Gamer', 250, 5, '1970-10-01 14:20:10']], columns=['nombre', 'score', 'jugadas', 'fecha'])\n",
    "\n",
    "# Pero en las posteriores iteraciones, lo leeremos mediante pickle para rescatar los resultados:\n",
    "df_top = pd.read_csv(\"top.csv\", sep=';')\n",
    "\n",
    "print(\"Bienvenido al juego de Piedra, Papel o Tijera. El nuevo Among us!!\")\n",
    "msg_juego = \"Para jugar, introduce un número del 0 al 4:\\n0. Finalizar partida\\n1. Piedra\\n2. Papel\\n3. Tijera\\n4. Imprimir top\\n\"\n",
    "print(msg_juego)\n",
    "\n",
    "puntos = 0\n",
    "partidas = 0\n",
    "ganadas = 0\n",
    "empatadas = 0\n",
    "perdidas = 0\n",
    "\n",
    "# Creamos el mensaje que vamos a reutilizar para jugar:\n",
    "msg = \"\\nPiedra, papel o tijera. 1, 2, 3... ¡YA!\"\n",
    "\n",
    "while True:\n",
    "    try:\n",
    "        jugador = int(input(msg))\n",
    "        if jugador < 0 or jugador > 4:\n",
    "            print(\"ERROR. \" + msg_juego)\n",
    "        elif jugador == 0:\n",
    "            if partidas == 0:\n",
    "                print(\"Gracias por... ¿nada? Bye!\")\n",
    "                break\n",
    "            # Sacamos posición (daremos prioridad a los más nevos):\n",
    "            if len(df_top[df_top['score'] > puntos].index) == 0:\n",
    "                # Si pasa esto, es el TOP 1:\n",
    "                print(\"WOOOHOOOO!! Eres el campeón de esto!! Te pones en 1er lugar!!\")\n",
    "                nombre = input(\"Así que apunta orgulloso tu nombre: \")\n",
    "            elif len(df_top[df_top['score'] > puntos].index) == len(df_top.index):\n",
    "                pos = len(df_top.index) + 1\n",
    "                print(f\"A ver cómo te digo esto... No está mal, ¿vale? ¿Eres el último? Sí, pero, bueno, es que hay mucho nivel. Y quedar {pos}º no está tan mal.\")\n",
    "                nombre = input(\"Dame tu nombre antes de que me arrepienta, anda: \")\n",
    "            else:\n",
    "                pos = len(df_top[df_top['score'] > puntos].index) + 2 # 1 más porque empieza en el 0, y otro más porque el que estoy filtrando es mejor que yo\n",
    "                print(f\"¡Enhorabuena! Has quedado el {pos}º.\")\n",
    "                nombre = input(\"Graba tu nombre en el lugar que se merece: \")\n",
    "            fecha = datetime.datetime.now().strftime(\"%Y-%m-%d %H:%M:%S\")\n",
    "            df_aux = pd.DataFrame([[nombre, puntos, partidas, ganadas, empatadas, perdidas, fecha]], columns=['nombre', 'score', 'partidas', 'ganadas', 'empatadas', 'perdidas', 'fecha'])\n",
    "            df_top = df_top.append(df_aux).sort_values(by=['score', 'fecha'], ascending=[False, False]).reset_index(drop=True)\n",
    "            break\n",
    "        elif jugador == 4:\n",
    "            print(\"TOP 10 Players:\")\n",
    "            print(df_top.iloc[:10])\n",
    "        else:\n",
    "            partidas += 1\n",
    "            # Selección de la máquina:\n",
    "            machine = np.random.choice(posibilidades)\n",
    "            if jugador == machine:\n",
    "                empatadas += 1\n",
    "                puntos += 25\n",
    "                print(f\"{posibilidades_txt[jugador]} == {posibilidades_txt[machine]}\")\n",
    "                print(\"EMPATE: 25 puntos para ti\")\n",
    "            elif (jugador == 1 and machine == 3) or (jugador == 2 and machine == 1) or (jugador == 3 and machine == 2):\n",
    "                ganadas += 1\n",
    "                puntos += 100\n",
    "                print(f\"{posibilidades_txt[jugador]} > {posibilidades_txt[machine]}\")\n",
    "                print(\"VICTORIA: 100 puntos para ti\")\n",
    "            else:\n",
    "                perdidas += 1\n",
    "                puntos -= 50\n",
    "                print(f\"{posibilidades_txt[jugador]} > {posibilidades_txt[machine]}\")\n",
    "                print(\"DERROTA: 50 puntos menos\")\n",
    "            print(f\"Saldo:\\n{puntos} puntos en {partidas} partidas\")\n",
    "    except:\n",
    "        print(\"¡¡DAME UN NÚMERO, PLEASE!!\")\n",
    "\n",
    "\n",
    "# Al terminar, guardamos nuetro TOP:\n",
    "df_top.to_csv(\"top.csv\", sep = \";\", index=False)\n",
    "        "
   ]
  },
  {
   "cell_type": "code",
   "execution_count": 6,
   "metadata": {},
   "outputs": [
    {
     "name": "stdout",
     "output_type": "stream",
     "text": [
      "        nombre  score  partidas  ganadas  empatadas  perdidas  \\\n",
      "0           SS    750        24      8.0       10.0       6.0   \n",
      "1  Retro Gamer    250         5      3.0        2.0       0.0   \n",
      "2          AAA    175         4      2.0        1.0       1.0   \n",
      "3          AAA     75         3      NaN        NaN       NaN   \n",
      "4            a     25         1      0.0        1.0       0.0   \n",
      "\n",
      "                 fecha  \n",
      "0  2020-10-27 19:30:40  \n",
      "1  1970-10-01 14:20:10  \n",
      "2  2020-10-27 19:40:14  \n",
      "3  2020-10-27 19:21:16  \n",
      "4  2020-10-27 19:30:26  \n"
     ]
    }
   ],
   "source": [
    "print(df_top)"
   ]
  }
 ],
 "metadata": {
  "kernelspec": {
   "display_name": "Python 3",
   "language": "python",
   "name": "python3"
  },
  "language_info": {
   "codemirror_mode": {
    "name": "ipython",
    "version": 3
   },
   "file_extension": ".py",
   "mimetype": "text/x-python",
   "name": "python",
   "nbconvert_exporter": "python",
   "pygments_lexer": "ipython3",
   "version": "3.8.3"
  }
 },
 "nbformat": 4,
 "nbformat_minor": 4
}
