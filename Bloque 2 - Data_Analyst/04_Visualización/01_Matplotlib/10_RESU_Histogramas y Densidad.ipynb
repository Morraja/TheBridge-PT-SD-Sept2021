{
 "cells": [
  {
   "cell_type": "markdown",
   "metadata": {
    "colab_type": "text",
    "id": "Y-C_w4xZ0U2G"
   },
   "source": [
    "# Histogramas, Binnings (Agrupaciones), y Densidad"
   ]
  },
  {
   "cell_type": "markdown",
   "metadata": {
    "colab_type": "text",
    "id": "6vMugtnS0U2G"
   },
   "source": [
    "Un simple histograma puede ser un excelente primer paso para comprender un conjunto de datos."
   ]
  },
  {
   "cell_type": "code",
   "execution_count": 8,
   "metadata": {
    "colab": {},
    "colab_type": "code",
    "id": "ojCjBbF-0U2H"
   },
   "outputs": [],
   "source": [
    "%matplotlib inline\n",
    "import numpy as np\n",
    "import matplotlib.pyplot as plt\n",
    "plt.style.use('seaborn-white')\n",
    "\n",
    "data = np.random.randn(1000)"
   ]
  },
  {
   "cell_type": "code",
   "execution_count": 9,
   "metadata": {
    "colab": {
     "base_uri": "https://localhost:8080/",
     "height": 273
    },
    "colab_type": "code",
    "collapsed": false,
    "id": "K_oqUj7K0U2I",
    "jupyter": {
     "outputs_hidden": false
    },
    "outputId": "d46aa15c-5d3f-4ab2-d533-cd0fa9e7764f"
   },
   "outputs": [
    {
     "data": {
      "image/png": "[encoded data removed]",
      "text/plain": [
       "<Figure size 432x288 with 1 Axes>"
      ]
     },
     "metadata": {},
     "output_type": "display_data"
    }
   ],
   "source": [
    "plt.hist(data);"
   ]
  },
  {
   "cell_type": "markdown",
   "metadata": {
    "colab_type": "text",
    "id": "ZNMo4mBW0U2J"
   },
   "source": [
    "La función ``hist()`` tiene muchas opciones para tunear tanto el cálculo como la visualización. Veamos un ejemplo:"
   ]
  },
  {
   "cell_type": "code",
   "execution_count": 4,
   "metadata": {
    "colab": {
     "base_uri": "https://localhost:8080/",
     "height": 273
    },
    "colab_type": "code",
    "collapsed": false,
    "id": "-XxbzM6O0U2J",
    "jupyter": {
     "outputs_hidden": false
    },
    "outputId": "1b237d64-84b9-476d-82d7-461fa1ca6850"
   },
   "outputs": [
    {
     "data": {
      "image/png": "[encoded data removed]",
      "text/plain": [
       "<Figure size 432x288 with 1 Axes>"
      ]
     },
     "metadata": {},
     "output_type": "display_data"
    }
   ],
   "source": [
    "plt.hist(data,\n",
    "        bins=30,\n",
    "        alpha=0.5,\n",
    "        color='orange',\n",
    "        edgecolor='black',\n",
    "        density=True);"
   ]
  },
  {
   "cell_type": "markdown",
   "metadata": {
    "colab_type": "text",
    "id": "cUfVoLz40U2K"
   },
   "source": [
    "Si tenemos interés en saber qué somos capaces de hacer con los histogramas, podemos recurrir al docstring de ``plt.hist``, como ya hemos hecho con otros tantos módulos.\n",
    "Por ejemplo, el factor de transparencia ``alpha`` es muy útil para comparar distribuciones sobre la misma figura:"
   ]
  },
  {
   "cell_type": "code",
   "execution_count": 5,
   "metadata": {
    "colab": {
     "base_uri": "https://localhost:8080/",
     "height": 273
    },
    "colab_type": "code",
    "collapsed": false,
    "id": "Ufxj8fiF0U2K",
    "jupyter": {
     "outputs_hidden": false
    },
    "outputId": "686e3b04-8fe2-412f-e5b8-76f429686f45"
   },
   "outputs": [
    {
     "data": {
      "image/png": "[encoded data removed]",
      "text/plain": [
       "<Figure size 432x288 with 1 Axes>"
      ]
     },
     "metadata": {},
     "output_type": "display_data"
    }
   ],
   "source": [
    "x1 = np.random.normal(0, 0.8, 1000)\n",
    "x2 = np.random.normal(-2, 1, 1000)\n",
    "x3 = np.random.normal(3, 2, 1000)\n",
    "\n",
    "kwargs = dict(histtype='bar', alpha=0.3, bins=40)\n",
    "\n",
    "plt.hist(x1, **kwargs)\n",
    "plt.hist(x2, **kwargs)\n",
    "plt.hist(x3, **kwargs);"
   ]
  },
  {
   "cell_type": "markdown",
   "metadata": {
    "colab_type": "text",
    "id": "3JWU7L-z0U2M"
   },
   "source": [
    "Si simplemente quisiéramos calcular el histograma (contar el número de puntos en función de las agrupaciones que indiquemos) sin realizar nningún tipo de visualización, podemos utilizar la función `` np.histogram () ``, que es una función de NumPy que nos devuelve únicamente los datos en sí:"
   ]
  },
  {
   "cell_type": "code",
   "execution_count": 6,
   "metadata": {
    "colab": {},
    "colab_type": "code",
    "collapsed": false,
    "id": "ZFkGjxpT0U2M",
    "jupyter": {
     "outputs_hidden": false
    },
    "outputId": "f9d714a5-2db8-4270-c581-50da10791fc6"
   },
   "outputs": [
    {
     "name": "stdout",
     "output_type": "stream",
     "text": [
      "[ 35 202 425 279  59]\n",
      "[-2.97546608 -1.823044   -0.67062191  0.48180017  1.63422225  2.78664434]\n"
     ]
    }
   ],
   "source": [
    "counts, bin_edges = np.histogram(data, bins=5)\n",
    "print(counts)\n",
    "print(bin_edges)"
   ]
  },
  {
   "cell_type": "markdown",
   "metadata": {
    "colab_type": "text",
    "id": "ShcOcBx60U2N"
   },
   "source": [
    "## Histogramas y agrupaciones de dos dimensiones\n",
    "\n",
    "Hasta ahora, lo que estamos haciendo es crear histogramas agrupando los valores de una única variable (es decir, de 1 dimensión), tomando como eje X los grupos en función del valor de esa variable, y como eje Y los valores de ese grupo. Sin embargo, también podríamos hacer estas agrupaciones en función de otra variable, llegando a contenedores bidimensionales.\n",
    "\n",
    "A continuación, veremos ejemplos de cómo hacer esto. Para ello, comenzaremos definiendo algunos datos: una matriz `` x `` e `` y `` extraída de una distribución gaussiana multivariante, aunque podría ser un par de columnas del DataFrame que estemos analizando:"
   ]
  },
  {
   "cell_type": "code",
   "execution_count": 7,
   "metadata": {
    "colab": {},
    "colab_type": "code",
    "collapsed": false,
    "id": "C-QZ_iuW0U2N",
    "jupyter": {
     "outputs_hidden": false
    }
   },
   "outputs": [],
   "source": [
    "mean = [0, 0]\n",
    "cov = [[1, 1], [1, 2]]\n",
    "x, y = np.random.multivariate_normal(mean, cov, 10000).T"
   ]
  },
  {
   "cell_type": "markdown",
   "metadata": {
    "colab_type": "text",
    "id": "Q1VuQlMf0U2P"
   },
   "source": [
    "### ``plt.hist2d``: el histograma de 2 dimensinoes\n",
    "\n",
    "Una forma sencilla de representar un histograma bidimensional es usar la función `` plt.hist2d `` de Matplotlib:"
   ]
  },
  {
   "cell_type": "code",
   "execution_count": 8,
   "metadata": {
    "colab": {},
    "colab_type": "code",
    "id": "pbNv12zQ0U2P",
    "outputId": "8b08dea5-4430-40ab-f8be-e0e9716ba3cf"
   },
   "outputs": [
    {
     "data": {
      "image/png": "[encoded data removed]",
      "text/plain": [
       "<Figure size 432x288 with 2 Axes>"
      ]
     },
     "metadata": {},
     "output_type": "display_data"
    }
   ],
   "source": [
    "plt.hist2d(x, y, bins=30, cmap='Blues');\n",
    "cb = plt.colorbar()\n",
    "cb.set_label(\"counts in bin\")"
   ]
  },
  {
   "cell_type": "markdown",
   "metadata": {
    "colab_type": "text",
    "id": "7ViPYof40U2Q"
   },
   "source": [
    "Al igual que ``plt.hist``, ``plt.hist2d`` tiene una gran cantidad de opciones para adpatar la visualización a lo que querramos ver exactamente, tanto por parte de la gráfica como de las agrupaciones, lo cual está bien documentado en su docstring.\n",
    "\n",
    "Por otra parte, así como podíamos obtener únicamente los datos de la agrupación de ``plt.hist`` con la función ``np.histogram``, también podremos obtener los datos de ``plt.hist2d`` mediante la función ``np.histogram2d``, la cual podemos utilizar como:"
   ]
  },
  {
   "cell_type": "code",
   "execution_count": 9,
   "metadata": {
    "colab": {},
    "colab_type": "code",
    "collapsed": false,
    "id": "BgiBlR7d0U2Q",
    "jupyter": {
     "outputs_hidden": false
    }
   },
   "outputs": [],
   "source": [
    "counts, xedges, yedges = np.histogram2d(x, y, bins=30)"
   ]
  },
  {
   "cell_type": "markdown",
   "metadata": {
    "colab_type": "text",
    "id": "O6pgLxpI0U2R"
   },
   "source": [
    "Hemos partido de un problema de 1 dimensión y lo hemos aumentado a 2 dimensiones. Si quisiéramos seguir aumentando las dimensiones, existe una función que generaliza para histogramas de más de 2 dimensiones: ``np.histogramdd``."
   ]
  },
  {
   "cell_type": "markdown",
   "metadata": {
    "colab_type": "text",
    "id": "_UbnczsI0U2T"
   },
   "source": [
    "### ``plt.hexbin``: Agrupaciones hexagonales\n",
    "\n",
    "El histograma bidimensional crea una teselación de cuadrados en los ejes, es decir, que realizamos las agrupaciones siguiendo una cuadrícula\n",
    "\n",
    "Otra forma natural ampliamente extendida para esta teselación, consiste en utilizar hexágonos regulares en lugar de cuadrados.\n",
    "\n",
    "Para ello, Matplotlib proporciona la función `` plt.hexbin ``, que representará un conjunto de datos bidimensional agrupado mediante una cuadrícula de hexágonos:"
   ]
  },
  {
   "cell_type": "code",
   "execution_count": 42,
   "metadata": {
    "colab": {},
    "colab_type": "code",
    "collapsed": false,
    "id": "WpvIhfLO0U2T",
    "jupyter": {
     "outputs_hidden": false
    },
    "outputId": "f16a8c65-9ec5-46a4-a797-e32999272357"
   },
   "outputs": [
    {
     "data": {
      "image/png": "[encoded data removed]",
      "text/plain": [
       "<Figure size 432x288 with 2 Axes>"
      ]
     },
     "metadata": {},
     "output_type": "display_data"
    }
   ],
   "source": [
    "plt.hexbin(x, y, gridsize=30, cmap='Blues');\n",
    "cb = plt.colorbar(label='count in bin')"
   ]
  },
  {
   "cell_type": "markdown",
   "metadata": {
    "colab_type": "text",
    "id": "O88qiHmH0U2U"
   },
   "source": [
    "``plt.hexbin`` tiene una serie de opciones muy interesantes, incluida la capacidad ponderar (especificar pesos) cada punto y cambiar la salida en cada contenedor a cualquier agregado NumPy (media de pesos, desviación estándar de pesos, etc.). Ya sabes, si quieres más información, puedes consultar su docstring."
   ]
  },
  {
   "cell_type": "markdown",
   "metadata": {
    "colab_type": "text",
    "id": "9_7IknUo0U2U"
   },
   "source": [
    "### Kernel density estimation (Estimación de densidad del kernel)\n",
    "\n",
    "Otro método común para evaluar densidades en múltiples dimensiones es Kernel density estimation (KDE).\n",
    "\n",
    "No nos meteremos a fondo con ello, pero sí que resulta interesante echarle un vistazo por lo que nos aporta gráficamente. Simplemente mencionaremos que podemos pensar en KDE como una forma de \"difuminar\" los puntos en el espacio y sumar el resultado para suavizar una función.\n",
    "\n",
    "Existe una implementación de KDE muy rápida y sencilla, para lo que nos basaremos en `` scipy.stats ``.\n",
    "\n",
    "A continuación, se muestra un ejemplo del uso de KDE con los datos que estamos viendo. No nos meteremos a analizarlo en profundidad, ya que hay algunos conceptos propios de esta implementación que se salen un poco de nuestro objetivo, solamente queremos quedarnos con lo más importante de esta visualización, para que el día de mañana podamos hacer un histograma basado en ello, es decir, lo que nos interesa de aquí es poder modificarlo para adaptarlo a nuestras necesidades:"
   ]
  },
  {
   "cell_type": "code",
   "execution_count": 44,
   "metadata": {
    "colab": {},
    "colab_type": "code",
    "collapsed": false,
    "id": "wiVPxdPi0U2V",
    "jupyter": {
     "outputs_hidden": false
    },
    "outputId": "1269ab39-4592-4aad-9ee2-d3e36a40a495"
   },
   "outputs": [
    {
     "data": {
      "image/png": "[encoded data removed]",
      "text/plain": [
       "<Figure size 432x288 with 2 Axes>"
      ]
     },
     "metadata": {},
     "output_type": "display_data"
    }
   ],
   "source": [
    "from scipy.stats import gaussian_kde\n",
    "\n",
    "# fit an array of size [Ndim, Nsamples]\n",
    "data = np.vstack([x, y])\n",
    "kde = gaussian_kde(data)\n",
    "\n",
    "# evaluate on a regular grid\n",
    "xgrid = np.linspace(-3.5, 3.5, 40)\n",
    "ygrid = np.linspace(-6, 6, 40)\n",
    "Xgrid, Ygrid = np.meshgrid(xgrid, ygrid)\n",
    "Z = kde.evaluate(np.vstack([Xgrid.ravel(), Ygrid.ravel()]))\n",
    "\n",
    "# Plot the result as an image\n",
    "plt.imshow(Z.reshape(Xgrid.shape),\n",
    "           origin='lower', aspect='auto',\n",
    "           extent=[-3.5, 3.5, -6, 6],\n",
    "           cmap='Blues')\n",
    "cb = plt.colorbar()\n",
    "cb.set_label(\"density\")"
   ]
  },
  {
   "cell_type": "markdown",
   "metadata": {
    "colab_type": "text",
    "id": "xa-lbM-H0U2W"
   },
   "source": [
    "KDE tiene una longitud de suavizado que permite obtener un equilibrio entre el detalle y la forma de difuminar la información para obtener una imagen más suave a la vista.\n",
    "\n",
    "Y es en esa longitud de suavizado donde reside la magia. La literatura sobre la elección de una longitud de suavizado adecuada es amplia: `` gaussian_kde `` usa una regla empírica para intentar encontrar una longitud de suavizado casi óptima para los datos de entrada.\n",
    "\n",
    "Otras implementaciones de KDE están disponibles dentro del ecosistema SciPy, cada una con sus propias fortalezas y debilidades, donde resultan de especial interés  `` sklearn.neighbors.KernelDensity `` y `` statsmodels.nonparametric.kernel_density.KDEMultivariate ``.\n",
    "\n",
    "Finalmente, se considera interesante añadir que, por lo general, el uso de Matplotlib para visualizaciones basadas en KDE tiende a ser demasiado detallado. En el futuro, veremos su implemntación con otras librerías, como Seaborn."
   ]
  },
  {
   "cell_type": "markdown",
   "metadata": {},
   "source": [
    "## Ejercicio\n",
    "\n",
    "Vamos a aplicar estos conceptos que hemos visto sobre alguno de nuestros famosos datasets. Por ejemplo, vamos a tomar el dataset del Titanic:\n",
    "1. Comenzaremos representando el coste del billete (\"Fare\") en función de la edad (\"Age\") de cada pasajero, agrupando las edades en 5 grupos. Obtén, además, los grupos que se han echo, es decir, los límites de cada grupo. Para ello, hemos visto alguna función que nos puede ayudar\n",
    "2. ¿Cómo podríamos hacer para especificarle una agrupación particular? Investiga la [documentación](https://matplotlib.org/3.1.1/api/_as_gen/matplotlib.pyplot.hist.html) para representar la edad (\"Age\") de los pasajeros agrupada según los siguientes rangos: ``[0, 12), [12, 18), [18, 25), [25, 45), [45, 65), [65, 80]``. Además, en lugar del conteo, deberás mostrar la densidad, y el color del histograma tendrá que ser verde\n",
    "3. Imagínate que ahora lo que queremos es obtener estas distribuciones pero en función de la clase a la que perteneciesen, para saber cuántos pasajeros había de cada grupo de edad y cómo se distribuían en función de la clase (\"Pclass\"). Tendrás que llamar a la función ``hist()`` con cada uno de los DataFrames que obtengas en función de la clase. Para que se puedan comparar, ninguno opacar al resto\n"
   ]
  },
  {
   "cell_type": "code",
   "execution_count": 10,
   "metadata": {},
   "outputs": [],
   "source": [
    "import pandas as pd\n",
    "import numpy as np"
   ]
  },
  {
   "cell_type": "code",
   "execution_count": 11,
   "metadata": {},
   "outputs": [
    {
     "data": {
      "text/html": [
       "<div>\n",
       "<style scoped>\n",
       "    .dataframe tbody tr th:only-of-type {\n",
       "        vertical-align: middle;\n",
       "    }\n",
       "\n",
       "    .dataframe tbody tr th {\n",
       "        vertical-align: top;\n",
       "    }\n",
       "\n",
       "    .dataframe thead th {\n",
       "        text-align: right;\n",
       "    }\n",
       "</style>\n",
       "<table border=\"1\" class=\"dataframe\">\n",
       "  <thead>\n",
       "    <tr style=\"text-align: right;\">\n",
       "      <th></th>\n",
       "      <th>PassengerId</th>\n",
       "      <th>Survived</th>\n",
       "      <th>Pclass</th>\n",
       "      <th>Name</th>\n",
       "      <th>Sex</th>\n",
       "      <th>Age</th>\n",
       "      <th>SibSp</th>\n",
       "      <th>Parch</th>\n",
       "      <th>Ticket</th>\n",
       "      <th>Fare</th>\n",
       "      <th>Cabin</th>\n",
       "      <th>Embarked</th>\n",
       "    </tr>\n",
       "  </thead>\n",
       "  <tbody>\n",
       "    <tr>\n",
       "      <th>0</th>\n",
       "      <td>1</td>\n",
       "      <td>0</td>\n",
       "      <td>3</td>\n",
       "      <td>Braund, Mr. Owen Harris</td>\n",
       "      <td>male</td>\n",
       "      <td>22.0</td>\n",
       "      <td>1</td>\n",
       "      <td>0</td>\n",
       "      <td>A/5 21171</td>\n",
       "      <td>7.2500</td>\n",
       "      <td>NaN</td>\n",
       "      <td>S</td>\n",
       "    </tr>\n",
       "    <tr>\n",
       "      <th>1</th>\n",
       "      <td>2</td>\n",
       "      <td>1</td>\n",
       "      <td>1</td>\n",
       "      <td>Cumings, Mrs. John Bradley (Florence Briggs Th...</td>\n",
       "      <td>female</td>\n",
       "      <td>38.0</td>\n",
       "      <td>1</td>\n",
       "      <td>0</td>\n",
       "      <td>PC 17599</td>\n",
       "      <td>71.2833</td>\n",
       "      <td>C85</td>\n",
       "      <td>C</td>\n",
       "    </tr>\n",
       "    <tr>\n",
       "      <th>2</th>\n",
       "      <td>3</td>\n",
       "      <td>1</td>\n",
       "      <td>3</td>\n",
       "      <td>Heikkinen, Miss. Laina</td>\n",
       "      <td>female</td>\n",
       "      <td>26.0</td>\n",
       "      <td>0</td>\n",
       "      <td>0</td>\n",
       "      <td>STON/O2. 3101282</td>\n",
       "      <td>7.9250</td>\n",
       "      <td>NaN</td>\n",
       "      <td>S</td>\n",
       "    </tr>\n",
       "    <tr>\n",
       "      <th>3</th>\n",
       "      <td>4</td>\n",
       "      <td>1</td>\n",
       "      <td>1</td>\n",
       "      <td>Futrelle, Mrs. Jacques Heath (Lily May Peel)</td>\n",
       "      <td>female</td>\n",
       "      <td>35.0</td>\n",
       "      <td>1</td>\n",
       "      <td>0</td>\n",
       "      <td>113803</td>\n",
       "      <td>53.1000</td>\n",
       "      <td>C123</td>\n",
       "      <td>S</td>\n",
       "    </tr>\n",
       "    <tr>\n",
       "      <th>4</th>\n",
       "      <td>5</td>\n",
       "      <td>0</td>\n",
       "      <td>3</td>\n",
       "      <td>Allen, Mr. William Henry</td>\n",
       "      <td>male</td>\n",
       "      <td>35.0</td>\n",
       "      <td>0</td>\n",
       "      <td>0</td>\n",
       "      <td>373450</td>\n",
       "      <td>8.0500</td>\n",
       "      <td>NaN</td>\n",
       "      <td>S</td>\n",
       "    </tr>\n",
       "    <tr>\n",
       "      <th>...</th>\n",
       "      <td>...</td>\n",
       "      <td>...</td>\n",
       "      <td>...</td>\n",
       "      <td>...</td>\n",
       "      <td>...</td>\n",
       "      <td>...</td>\n",
       "      <td>...</td>\n",
       "      <td>...</td>\n",
       "      <td>...</td>\n",
       "      <td>...</td>\n",
       "      <td>...</td>\n",
       "      <td>...</td>\n",
       "    </tr>\n",
       "    <tr>\n",
       "      <th>886</th>\n",
       "      <td>887</td>\n",
       "      <td>0</td>\n",
       "      <td>2</td>\n",
       "      <td>Montvila, Rev. Juozas</td>\n",
       "      <td>male</td>\n",
       "      <td>27.0</td>\n",
       "      <td>0</td>\n",
       "      <td>0</td>\n",
       "      <td>211536</td>\n",
       "      <td>13.0000</td>\n",
       "      <td>NaN</td>\n",
       "      <td>S</td>\n",
       "    </tr>\n",
       "    <tr>\n",
       "      <th>887</th>\n",
       "      <td>888</td>\n",
       "      <td>1</td>\n",
       "      <td>1</td>\n",
       "      <td>Graham, Miss. Margaret Edith</td>\n",
       "      <td>female</td>\n",
       "      <td>19.0</td>\n",
       "      <td>0</td>\n",
       "      <td>0</td>\n",
       "      <td>112053</td>\n",
       "      <td>30.0000</td>\n",
       "      <td>B42</td>\n",
       "      <td>S</td>\n",
       "    </tr>\n",
       "    <tr>\n",
       "      <th>888</th>\n",
       "      <td>889</td>\n",
       "      <td>0</td>\n",
       "      <td>3</td>\n",
       "      <td>Johnston, Miss. Catherine Helen \"Carrie\"</td>\n",
       "      <td>female</td>\n",
       "      <td>NaN</td>\n",
       "      <td>1</td>\n",
       "      <td>2</td>\n",
       "      <td>W./C. 6607</td>\n",
       "      <td>23.4500</td>\n",
       "      <td>NaN</td>\n",
       "      <td>S</td>\n",
       "    </tr>\n",
       "    <tr>\n",
       "      <th>889</th>\n",
       "      <td>890</td>\n",
       "      <td>1</td>\n",
       "      <td>1</td>\n",
       "      <td>Behr, Mr. Karl Howell</td>\n",
       "      <td>male</td>\n",
       "      <td>26.0</td>\n",
       "      <td>0</td>\n",
       "      <td>0</td>\n",
       "      <td>111369</td>\n",
       "      <td>30.0000</td>\n",
       "      <td>C148</td>\n",
       "      <td>C</td>\n",
       "    </tr>\n",
       "    <tr>\n",
       "      <th>890</th>\n",
       "      <td>891</td>\n",
       "      <td>0</td>\n",
       "      <td>3</td>\n",
       "      <td>Dooley, Mr. Patrick</td>\n",
       "      <td>male</td>\n",
       "      <td>32.0</td>\n",
       "      <td>0</td>\n",
       "      <td>0</td>\n",
       "      <td>370376</td>\n",
       "      <td>7.7500</td>\n",
       "      <td>NaN</td>\n",
       "      <td>Q</td>\n",
       "    </tr>\n",
       "  </tbody>\n",
       "</table>\n",
       "<p>891 rows × 12 columns</p>\n",
       "</div>"
      ],
      "text/plain": [
       "     PassengerId  Survived  Pclass  \\\n",
       "0              1         0       3   \n",
       "1              2         1       1   \n",
       "2              3         1       3   \n",
       "3              4         1       1   \n",
       "4              5         0       3   \n",
       "..           ...       ...     ...   \n",
       "886          887         0       2   \n",
       "887          888         1       1   \n",
       "888          889         0       3   \n",
       "889          890         1       1   \n",
       "890          891         0       3   \n",
       "\n",
       "                                                  Name     Sex   Age  SibSp  \\\n",
       "0                              Braund, Mr. Owen Harris    male  22.0      1   \n",
       "1    Cumings, Mrs. John Bradley (Florence Briggs Th...  female  38.0      1   \n",
       "2                               Heikkinen, Miss. Laina  female  26.0      0   \n",
       "3         Futrelle, Mrs. Jacques Heath (Lily May Peel)  female  35.0      1   \n",
       "4                             Allen, Mr. William Henry    male  35.0      0   \n",
       "..                                                 ...     ...   ...    ...   \n",
       "886                              Montvila, Rev. Juozas    male  27.0      0   \n",
       "887                       Graham, Miss. Margaret Edith  female  19.0      0   \n",
       "888           Johnston, Miss. Catherine Helen \"Carrie\"  female   NaN      1   \n",
       "889                              Behr, Mr. Karl Howell    male  26.0      0   \n",
       "890                                Dooley, Mr. Patrick    male  32.0      0   \n",
       "\n",
       "     Parch            Ticket     Fare Cabin Embarked  \n",
       "0        0         A/5 21171   7.2500   NaN        S  \n",
       "1        0          PC 17599  71.2833   C85        C  \n",
       "2        0  STON/O2. 3101282   7.9250   NaN        S  \n",
       "3        0            113803  53.1000  C123        S  \n",
       "4        0            373450   8.0500   NaN        S  \n",
       "..     ...               ...      ...   ...      ...  \n",
       "886      0            211536  13.0000   NaN        S  \n",
       "887      0            112053  30.0000   B42        S  \n",
       "888      2        W./C. 6607  23.4500   NaN        S  \n",
       "889      0            111369  30.0000  C148        C  \n",
       "890      0            370376   7.7500   NaN        Q  \n",
       "\n",
       "[891 rows x 12 columns]"
      ]
     },
     "execution_count": 11,
     "metadata": {},
     "output_type": "execute_result"
    }
   ],
   "source": [
    "df = pd.read_csv(\"titanic.csv\")\n",
    "df"
   ]
  },
  {
   "cell_type": "code",
   "execution_count": 12,
   "metadata": {},
   "outputs": [
    {
     "data": {
      "text/plain": [
       "<matplotlib.axes._subplots.AxesSubplot at 0x1d7995d6df0>"
      ]
     },
     "execution_count": 12,
     "metadata": {},
     "output_type": "execute_result"
    },
    {
     "data": {
      "image/png": "[encoded data removed]",
      "text/plain": [
       "<Figure size 432x288 with 1 Axes>"
      ]
     },
     "metadata": {},
     "output_type": "display_data"
    }
   ],
   "source": [
    "# 1. \n",
    "df['Age'].hist(bins=5)"
   ]
  },
  {
   "cell_type": "code",
   "execution_count": 13,
   "metadata": {},
   "outputs": [
    {
     "data": {
      "text/plain": [
       "<matplotlib.axes._subplots.AxesSubplot at 0x1d79957f2b0>"
      ]
     },
     "execution_count": 13,
     "metadata": {},
     "output_type": "execute_result"
    },
    {
     "data": {
      "image/png": "[encoded data removed]",
      "text/plain": [
       "<Figure size 432x288 with 1 Axes>"
      ]
     },
     "metadata": {},
     "output_type": "display_data"
    }
   ],
   "source": [
    "# 2. \n",
    "df['Age'].hist(bins=[0, 12, 18, 25, 45, 65, 80], color='green', density=True)"
   ]
  },
  {
   "cell_type": "code",
   "execution_count": 14,
   "metadata": {},
   "outputs": [
    {
     "data": {
      "text/plain": [
       "<matplotlib.legend.Legend at 0x1d79940ebe0>"
      ]
     },
     "execution_count": 14,
     "metadata": {},
     "output_type": "execute_result"
    },
    {
     "data": {
      "image/png": "[encoded data removed]",
      "text/plain": [
       "<Figure size 432x288 with 1 Axes>"
      ]
     },
     "metadata": {},
     "output_type": "display_data"
    }
   ],
   "source": [
    "# 3. \n",
    "\n",
    "# for i in df['Pclass'].unique():\n",
    "#     df[df['Pclass']==i]['Age'].hist(bins=[0, 12, 18, 25, 45, 65, 80], alpha=0.5)\n",
    "    \n",
    "# for i in df['Pclass'].unique():\n",
    "#     plt.hist(df[df['Pclass']==i]['Age'], bins=[0, 12, 18, 25, 45, 65, 80], density=True)\n",
    "\n",
    "for i in df['Pclass'].unique():\n",
    "    df[df['Pclass']==i]['Age'].hist(bins=[0, 12, 18, 25, 45, 65, 80], alpha=0.5, label=i)\n",
    "plt.legend()\n",
    "    "
   ]
  },
  {
   "cell_type": "code",
   "execution_count": 17,
   "metadata": {},
   "outputs": [
    {
     "name": "stderr",
     "output_type": "stream",
     "text": [
      "No handles with labels found to put in legend.\n"
     ]
    },
    {
     "data": {
      "image/png": "[encoded data removed]",
      "text/plain": [
       "<Figure size 432x288 with 1 Axes>"
      ]
     },
     "metadata": {},
     "output_type": "display_data"
    }
   ],
   "source": [
    "ax = df.groupby(\"Pclass\")['Age'].hist(bins=[0, 12, 18, 25, 45, 65, 80], alpha=0.5)\n",
    "plt.legend();"
   ]
  },
  {
   "cell_type": "markdown",
   "metadata": {},
   "source": [
    "## Ejercicio 2\n",
    "\n",
    "Ahora queremos ver cómo interactúa nuestra variable edad con otras variables. Para ello, a partir del mismo df que teníamos en el ejericio anterior:\n",
    "1. Elimina todos los registros con algún nulo y representa la edad (\"Age\") en función del precio del billete (\"Fare\") con un histograma de 2 dimensiones y el cmap que más te guste, agrupándolos en 5 grupitos cada eje. Muestra el colorbar con un nombre identificativo\n",
    "2. ¿Qué agrupaciones te ha realizado?\n",
    "3. Repite el mismo ejercicio que en 1 pero con 100 grupos. ¿Cuáles son ahora los límites que te está devolviendo?\n",
    "2. Realiza este mismo gráfico que en 1 pero con una agrupación de edades según [0, 12), [12, 18), [18, 25), [25, 45), [45, 65), [65, 80] y de precios según [0 10), [10, 20), [20, 30), [30, 50), [50, 75), [75, 100), [100, 200]\n",
    "3. Comprueba que los límites que te devuelve se corresponden con los que le has pasado\n",
    "4. Realiza el histograma con una cuadrícula hexagonal de tamaño de celda igual a 10 y con otro cmap\n",
    "\n",
    "EXTRA: Repite el \"Ejercicio 2\" entero con otra relación de variables, como las columnas \"overpotential\" y \"value_eur\" del conjunto de datos \"FIFA20.csv\".\n",
    "\n",
    "Utiliza lo que has aprendido para estudiar otras relaciones\n"
   ]
  },
  {
   "cell_type": "code",
   "execution_count": 23,
   "metadata": {},
   "outputs": [
    {
     "data": {
      "text/html": [
       "<div>\n",
       "<style scoped>\n",
       "    .dataframe tbody tr th:only-of-type {\n",
       "        vertical-align: middle;\n",
       "    }\n",
       "\n",
       "    .dataframe tbody tr th {\n",
       "        vertical-align: top;\n",
       "    }\n",
       "\n",
       "    .dataframe thead th {\n",
       "        text-align: right;\n",
       "    }\n",
       "</style>\n",
       "<table border=\"1\" class=\"dataframe\">\n",
       "  <thead>\n",
       "    <tr style=\"text-align: right;\">\n",
       "      <th></th>\n",
       "      <th>PassengerId</th>\n",
       "      <th>Survived</th>\n",
       "      <th>Pclass</th>\n",
       "      <th>Name</th>\n",
       "      <th>Sex</th>\n",
       "      <th>Age</th>\n",
       "      <th>SibSp</th>\n",
       "      <th>Parch</th>\n",
       "      <th>Ticket</th>\n",
       "      <th>Fare</th>\n",
       "      <th>Cabin</th>\n",
       "      <th>Embarked</th>\n",
       "    </tr>\n",
       "  </thead>\n",
       "  <tbody>\n",
       "    <tr>\n",
       "      <th>0</th>\n",
       "      <td>True</td>\n",
       "      <td>True</td>\n",
       "      <td>True</td>\n",
       "      <td>True</td>\n",
       "      <td>True</td>\n",
       "      <td>True</td>\n",
       "      <td>True</td>\n",
       "      <td>True</td>\n",
       "      <td>True</td>\n",
       "      <td>True</td>\n",
       "      <td>False</td>\n",
       "      <td>True</td>\n",
       "    </tr>\n",
       "    <tr>\n",
       "      <th>1</th>\n",
       "      <td>True</td>\n",
       "      <td>True</td>\n",
       "      <td>True</td>\n",
       "      <td>True</td>\n",
       "      <td>True</td>\n",
       "      <td>True</td>\n",
       "      <td>True</td>\n",
       "      <td>True</td>\n",
       "      <td>True</td>\n",
       "      <td>True</td>\n",
       "      <td>True</td>\n",
       "      <td>True</td>\n",
       "    </tr>\n",
       "    <tr>\n",
       "      <th>2</th>\n",
       "      <td>True</td>\n",
       "      <td>True</td>\n",
       "      <td>True</td>\n",
       "      <td>True</td>\n",
       "      <td>True</td>\n",
       "      <td>True</td>\n",
       "      <td>True</td>\n",
       "      <td>True</td>\n",
       "      <td>True</td>\n",
       "      <td>True</td>\n",
       "      <td>False</td>\n",
       "      <td>True</td>\n",
       "    </tr>\n",
       "    <tr>\n",
       "      <th>3</th>\n",
       "      <td>True</td>\n",
       "      <td>True</td>\n",
       "      <td>True</td>\n",
       "      <td>True</td>\n",
       "      <td>True</td>\n",
       "      <td>True</td>\n",
       "      <td>True</td>\n",
       "      <td>True</td>\n",
       "      <td>True</td>\n",
       "      <td>True</td>\n",
       "      <td>True</td>\n",
       "      <td>True</td>\n",
       "    </tr>\n",
       "    <tr>\n",
       "      <th>4</th>\n",
       "      <td>True</td>\n",
       "      <td>True</td>\n",
       "      <td>True</td>\n",
       "      <td>True</td>\n",
       "      <td>True</td>\n",
       "      <td>True</td>\n",
       "      <td>True</td>\n",
       "      <td>True</td>\n",
       "      <td>True</td>\n",
       "      <td>True</td>\n",
       "      <td>False</td>\n",
       "      <td>True</td>\n",
       "    </tr>\n",
       "    <tr>\n",
       "      <th>...</th>\n",
       "      <td>...</td>\n",
       "      <td>...</td>\n",
       "      <td>...</td>\n",
       "      <td>...</td>\n",
       "      <td>...</td>\n",
       "      <td>...</td>\n",
       "      <td>...</td>\n",
       "      <td>...</td>\n",
       "      <td>...</td>\n",
       "      <td>...</td>\n",
       "      <td>...</td>\n",
       "      <td>...</td>\n",
       "    </tr>\n",
       "    <tr>\n",
       "      <th>886</th>\n",
       "      <td>True</td>\n",
       "      <td>True</td>\n",
       "      <td>True</td>\n",
       "      <td>True</td>\n",
       "      <td>True</td>\n",
       "      <td>True</td>\n",
       "      <td>True</td>\n",
       "      <td>True</td>\n",
       "      <td>True</td>\n",
       "      <td>True</td>\n",
       "      <td>False</td>\n",
       "      <td>True</td>\n",
       "    </tr>\n",
       "    <tr>\n",
       "      <th>887</th>\n",
       "      <td>True</td>\n",
       "      <td>True</td>\n",
       "      <td>True</td>\n",
       "      <td>True</td>\n",
       "      <td>True</td>\n",
       "      <td>True</td>\n",
       "      <td>True</td>\n",
       "      <td>True</td>\n",
       "      <td>True</td>\n",
       "      <td>True</td>\n",
       "      <td>True</td>\n",
       "      <td>True</td>\n",
       "    </tr>\n",
       "    <tr>\n",
       "      <th>888</th>\n",
       "      <td>True</td>\n",
       "      <td>True</td>\n",
       "      <td>True</td>\n",
       "      <td>True</td>\n",
       "      <td>True</td>\n",
       "      <td>False</td>\n",
       "      <td>True</td>\n",
       "      <td>True</td>\n",
       "      <td>True</td>\n",
       "      <td>True</td>\n",
       "      <td>False</td>\n",
       "      <td>True</td>\n",
       "    </tr>\n",
       "    <tr>\n",
       "      <th>889</th>\n",
       "      <td>True</td>\n",
       "      <td>True</td>\n",
       "      <td>True</td>\n",
       "      <td>True</td>\n",
       "      <td>True</td>\n",
       "      <td>True</td>\n",
       "      <td>True</td>\n",
       "      <td>True</td>\n",
       "      <td>True</td>\n",
       "      <td>True</td>\n",
       "      <td>True</td>\n",
       "      <td>True</td>\n",
       "    </tr>\n",
       "    <tr>\n",
       "      <th>890</th>\n",
       "      <td>True</td>\n",
       "      <td>True</td>\n",
       "      <td>True</td>\n",
       "      <td>True</td>\n",
       "      <td>True</td>\n",
       "      <td>True</td>\n",
       "      <td>True</td>\n",
       "      <td>True</td>\n",
       "      <td>True</td>\n",
       "      <td>True</td>\n",
       "      <td>False</td>\n",
       "      <td>True</td>\n",
       "    </tr>\n",
       "  </tbody>\n",
       "</table>\n",
       "<p>891 rows × 12 columns</p>\n",
       "</div>"
      ],
      "text/plain": [
       "     PassengerId  Survived  Pclass  Name   Sex    Age  SibSp  Parch  Ticket  \\\n",
       "0           True      True    True  True  True   True   True   True    True   \n",
       "1           True      True    True  True  True   True   True   True    True   \n",
       "2           True      True    True  True  True   True   True   True    True   \n",
       "3           True      True    True  True  True   True   True   True    True   \n",
       "4           True      True    True  True  True   True   True   True    True   \n",
       "..           ...       ...     ...   ...   ...    ...    ...    ...     ...   \n",
       "886         True      True    True  True  True   True   True   True    True   \n",
       "887         True      True    True  True  True   True   True   True    True   \n",
       "888         True      True    True  True  True  False   True   True    True   \n",
       "889         True      True    True  True  True   True   True   True    True   \n",
       "890         True      True    True  True  True   True   True   True    True   \n",
       "\n",
       "     Fare  Cabin  Embarked  \n",
       "0    True  False      True  \n",
       "1    True   True      True  \n",
       "2    True  False      True  \n",
       "3    True   True      True  \n",
       "4    True  False      True  \n",
       "..    ...    ...       ...  \n",
       "886  True  False      True  \n",
       "887  True   True      True  \n",
       "888  True  False      True  \n",
       "889  True   True      True  \n",
       "890  True  False      True  \n",
       "\n",
       "[891 rows x 12 columns]"
      ]
     },
     "execution_count": 23,
     "metadata": {},
     "output_type": "execute_result"
    }
   ],
   "source": [
    "df = pd.read_csv(\"titanic.csv\")\n",
    "df.copy().notnull()"
   ]
  },
  {
   "cell_type": "code",
   "execution_count": 22,
   "metadata": {},
   "outputs": [
    {
     "data": {
      "image/png": "[encoded data removed]",
      "text/plain": [
       "<Figure size 432x288 with 2 Axes>"
      ]
     },
     "metadata": {},
     "output_type": "display_data"
    }
   ],
   "source": [
    "# 1. \n",
    "df = df.copy().dropna()\n",
    "df = df[((df['Age'].notnull())&(df['Fare'].notnull()))]\n",
    "\n",
    "plt.hist2d(df['Age'], df['Fare'], bins=5, cmap='Blues');\n",
    "cb = plt.colorbar()\n",
    "cb.set_label(\"Nº Pasajeros\")"
   ]
  },
  {
   "cell_type": "code",
   "execution_count": 36,
   "metadata": {},
   "outputs": [
    {
     "name": "stdout",
     "output_type": "stream",
     "text": [
      "Grupos de Age:\n",
      "Grupo 2: [0.92, 16.74)\n",
      "Grupo 3: [16.74, 32.55)\n",
      "Grupo 4: [32.55, 48.37)\n",
      "Grupo 5: [48.37, 64.18)\n",
      "Grupo 6: [64.18, 80.0]\n",
      "\n",
      "Grupos de Fare:\n",
      "Grupo 2: [0.0, 102.47)\n",
      "Grupo 3: [102.47, 204.93)\n",
      "Grupo 4: [204.93, 307.4)\n",
      "Grupo 5: [307.4, 409.86)\n",
      "Grupo 6: [409.86, 512.33]\n",
      "\n"
     ]
    }
   ],
   "source": [
    "# 2. \n",
    "counts, xedges, yedges = np.histogram2d(df['Age'], df['Fare'], bins=5)\n",
    "\n",
    "serx = pd.Series(np.round(xedges, 2), name='Age')\n",
    "sery = pd.Series(np.round(yedges, 2), name='Fare')\n",
    "\n",
    "def print_grupos(lista_ejes):\n",
    "    # Grupos en los ejes:\n",
    "    for eje in lista_ejes:\n",
    "        print(\"Grupos de \" + eje.name + \":\")\n",
    "        for i in range(1, len(xedges)):\n",
    "            if i == len(xedges) - 1:\n",
    "                print(\"Grupo \" + str(i+1) + \": [\" + str(eje[i-1]) + \", \" + str(eje[i]) + \"]\\n\")\n",
    "            else:\n",
    "                print(\"Grupo \" + str(i+1) + \": [\" + str(eje[i-1]) + \", \" + str(eje[i]) + \")\")\n",
    "    return\n",
    "\n",
    "print_grupos([serx, sery])"
   ]
  },
  {
   "cell_type": "code",
   "execution_count": 40,
   "metadata": {
    "collapsed": true,
    "jupyter": {
     "outputs_hidden": true
    }
   },
   "outputs": [
    {
     "data": {
      "image/png": "[encoded data removed]",
      "text/plain": [
       "<Figure size 432x288 with 2 Axes>"
      ]
     },
     "metadata": {},
     "output_type": "display_data"
    }
   ],
   "source": [
    "# 3. \n",
    "df = df.dropna()\n",
    "plt.hist2d(df['Age'], df['Fare'], bins=100, cmap='Blues');\n",
    "cb = plt.colorbar()\n",
    "cb.set_label(\"Nº Pasajeros\")"
   ]
  },
  {
   "cell_type": "code",
   "execution_count": 41,
   "metadata": {
    "collapsed": true,
    "jupyter": {
     "outputs_hidden": true
    }
   },
   "outputs": [
    {
     "name": "stdout",
     "output_type": "stream",
     "text": [
      "Grupos de Age:\n",
      "Grupo 2: [0.92, 1.71)\n",
      "Grupo 3: [1.71, 2.5)\n",
      "Grupo 4: [2.5, 3.29)\n",
      "Grupo 5: [3.29, 4.08)\n",
      "Grupo 6: [4.08, 4.87)\n",
      "Grupo 7: [4.87, 5.66)\n",
      "Grupo 8: [5.66, 6.46)\n",
      "Grupo 9: [6.46, 7.25)\n",
      "Grupo 10: [7.25, 8.04)\n",
      "Grupo 11: [8.04, 8.83)\n",
      "Grupo 12: [8.83, 9.62)\n",
      "Grupo 13: [9.62, 10.41)\n",
      "Grupo 14: [10.41, 11.2)\n",
      "Grupo 15: [11.2, 11.99)\n",
      "Grupo 16: [11.99, 12.78)\n",
      "Grupo 17: [12.78, 13.57)\n",
      "Grupo 18: [13.57, 14.36)\n",
      "Grupo 19: [14.36, 15.15)\n",
      "Grupo 20: [15.15, 15.95)\n",
      "Grupo 21: [15.95, 16.74)\n",
      "Grupo 22: [16.74, 17.53)\n",
      "Grupo 23: [17.53, 18.32)\n",
      "Grupo 24: [18.32, 19.11)\n",
      "Grupo 25: [19.11, 19.9)\n",
      "Grupo 26: [19.9, 20.69)\n",
      "Grupo 27: [20.69, 21.48)\n",
      "Grupo 28: [21.48, 22.27)\n",
      "Grupo 29: [22.27, 23.06)\n",
      "Grupo 30: [23.06, 23.85)\n",
      "Grupo 31: [23.85, 24.64)\n",
      "Grupo 32: [24.64, 25.43)\n",
      "Grupo 33: [25.43, 26.23)\n",
      "Grupo 34: [26.23, 27.02)\n",
      "Grupo 35: [27.02, 27.81)\n",
      "Grupo 36: [27.81, 28.6)\n",
      "Grupo 37: [28.6, 29.39)\n",
      "Grupo 38: [29.39, 30.18)\n",
      "Grupo 39: [30.18, 30.97)\n",
      "Grupo 40: [30.97, 31.76)\n",
      "Grupo 41: [31.76, 32.55)\n",
      "Grupo 42: [32.55, 33.34)\n",
      "Grupo 43: [33.34, 34.13)\n",
      "Grupo 44: [34.13, 34.92)\n",
      "Grupo 45: [34.92, 35.72)\n",
      "Grupo 46: [35.72, 36.51)\n",
      "Grupo 47: [36.51, 37.3)\n",
      "Grupo 48: [37.3, 38.09)\n",
      "Grupo 49: [38.09, 38.88)\n",
      "Grupo 50: [38.88, 39.67)\n",
      "Grupo 51: [39.67, 40.46)\n",
      "Grupo 52: [40.46, 41.25)\n",
      "Grupo 53: [41.25, 42.04)\n",
      "Grupo 54: [42.04, 42.83)\n",
      "Grupo 55: [42.83, 43.62)\n",
      "Grupo 56: [43.62, 44.41)\n",
      "Grupo 57: [44.41, 45.2)\n",
      "Grupo 58: [45.2, 46.0)\n",
      "Grupo 59: [46.0, 46.79)\n",
      "Grupo 60: [46.79, 47.58)\n",
      "Grupo 61: [47.58, 48.37)\n",
      "Grupo 62: [48.37, 49.16)\n",
      "Grupo 63: [49.16, 49.95)\n",
      "Grupo 64: [49.95, 50.74)\n",
      "Grupo 65: [50.74, 51.53)\n",
      "Grupo 66: [51.53, 52.32)\n",
      "Grupo 67: [52.32, 53.11)\n",
      "Grupo 68: [53.11, 53.9)\n",
      "Grupo 69: [53.9, 54.69)\n",
      "Grupo 70: [54.69, 55.49)\n",
      "Grupo 71: [55.49, 56.28)\n",
      "Grupo 72: [56.28, 57.07)\n",
      "Grupo 73: [57.07, 57.86)\n",
      "Grupo 74: [57.86, 58.65)\n",
      "Grupo 75: [58.65, 59.44)\n",
      "Grupo 76: [59.44, 60.23)\n",
      "Grupo 77: [60.23, 61.02)\n",
      "Grupo 78: [61.02, 61.81)\n",
      "Grupo 79: [61.81, 62.6)\n",
      "Grupo 80: [62.6, 63.39)\n",
      "Grupo 81: [63.39, 64.18)\n",
      "Grupo 82: [64.18, 64.97)\n",
      "Grupo 83: [64.97, 65.77)\n",
      "Grupo 84: [65.77, 66.56)\n",
      "Grupo 85: [66.56, 67.35)\n",
      "Grupo 86: [67.35, 68.14)\n",
      "Grupo 87: [68.14, 68.93)\n",
      "Grupo 88: [68.93, 69.72)\n",
      "Grupo 89: [69.72, 70.51)\n",
      "Grupo 90: [70.51, 71.3)\n",
      "Grupo 91: [71.3, 72.09)\n",
      "Grupo 92: [72.09, 72.88)\n",
      "Grupo 93: [72.88, 73.67)\n",
      "Grupo 94: [73.67, 74.46)\n",
      "Grupo 95: [74.46, 75.26)\n",
      "Grupo 96: [75.26, 76.05)\n",
      "Grupo 97: [76.05, 76.84)\n",
      "Grupo 98: [76.84, 77.63)\n",
      "Grupo 99: [77.63, 78.42)\n",
      "Grupo 100: [78.42, 79.21)\n",
      "Grupo 101: [79.21, 80.0]\n",
      "\n",
      "Grupos de Fare:\n",
      "Grupo 2: [0.0, 5.12)\n",
      "Grupo 3: [5.12, 10.25)\n",
      "Grupo 4: [10.25, 15.37)\n",
      "Grupo 5: [15.37, 20.49)\n",
      "Grupo 6: [20.49, 25.62)\n",
      "Grupo 7: [25.62, 30.74)\n",
      "Grupo 8: [30.74, 35.86)\n",
      "Grupo 9: [35.86, 40.99)\n",
      "Grupo 10: [40.99, 46.11)\n",
      "Grupo 11: [46.11, 51.23)\n",
      "Grupo 12: [51.23, 56.36)\n",
      "Grupo 13: [56.36, 61.48)\n",
      "Grupo 14: [61.48, 66.6)\n",
      "Grupo 15: [66.6, 71.73)\n",
      "Grupo 16: [71.73, 76.85)\n",
      "Grupo 17: [76.85, 81.97)\n",
      "Grupo 18: [81.97, 87.1)\n",
      "Grupo 19: [87.1, 92.22)\n",
      "Grupo 20: [92.22, 97.34)\n",
      "Grupo 21: [97.34, 102.47)\n",
      "Grupo 22: [102.47, 107.59)\n",
      "Grupo 23: [107.59, 112.71)\n",
      "Grupo 24: [112.71, 117.84)\n",
      "Grupo 25: [117.84, 122.96)\n",
      "Grupo 26: [122.96, 128.08)\n",
      "Grupo 27: [128.08, 133.21)\n",
      "Grupo 28: [133.21, 138.33)\n",
      "Grupo 29: [138.33, 143.45)\n",
      "Grupo 30: [143.45, 148.58)\n",
      "Grupo 31: [148.58, 153.7)\n",
      "Grupo 32: [153.7, 158.82)\n",
      "Grupo 33: [158.82, 163.95)\n",
      "Grupo 34: [163.95, 169.07)\n",
      "Grupo 35: [169.07, 174.19)\n",
      "Grupo 36: [174.19, 179.32)\n",
      "Grupo 37: [179.32, 184.44)\n",
      "Grupo 38: [184.44, 189.56)\n",
      "Grupo 39: [189.56, 194.69)\n",
      "Grupo 40: [194.69, 199.81)\n",
      "Grupo 41: [199.81, 204.93)\n",
      "Grupo 42: [204.93, 210.05)\n",
      "Grupo 43: [210.05, 215.18)\n",
      "Grupo 44: [215.18, 220.3)\n",
      "Grupo 45: [220.3, 225.42)\n",
      "Grupo 46: [225.42, 230.55)\n",
      "Grupo 47: [230.55, 235.67)\n",
      "Grupo 48: [235.67, 240.79)\n",
      "Grupo 49: [240.79, 245.92)\n",
      "Grupo 50: [245.92, 251.04)\n",
      "Grupo 51: [251.04, 256.16)\n",
      "Grupo 52: [256.16, 261.29)\n",
      "Grupo 53: [261.29, 266.41)\n",
      "Grupo 54: [266.41, 271.53)\n",
      "Grupo 55: [271.53, 276.66)\n",
      "Grupo 56: [276.66, 281.78)\n",
      "Grupo 57: [281.78, 286.9)\n",
      "Grupo 58: [286.9, 292.03)\n",
      "Grupo 59: [292.03, 297.15)\n",
      "Grupo 60: [297.15, 302.27)\n",
      "Grupo 61: [302.27, 307.4)\n",
      "Grupo 62: [307.4, 312.52)\n",
      "Grupo 63: [312.52, 317.64)\n",
      "Grupo 64: [317.64, 322.77)\n",
      "Grupo 65: [322.77, 327.89)\n",
      "Grupo 66: [327.89, 333.01)\n",
      "Grupo 67: [333.01, 338.14)\n",
      "Grupo 68: [338.14, 343.26)\n",
      "Grupo 69: [343.26, 348.38)\n",
      "Grupo 70: [348.38, 353.51)\n",
      "Grupo 71: [353.51, 358.63)\n",
      "Grupo 72: [358.63, 363.75)\n",
      "Grupo 73: [363.75, 368.88)\n",
      "Grupo 74: [368.88, 374.0)\n",
      "Grupo 75: [374.0, 379.12)\n",
      "Grupo 76: [379.12, 384.25)\n",
      "Grupo 77: [384.25, 389.37)\n",
      "Grupo 78: [389.37, 394.49)\n",
      "Grupo 79: [394.49, 399.62)\n",
      "Grupo 80: [399.62, 404.74)\n",
      "Grupo 81: [404.74, 409.86)\n",
      "Grupo 82: [409.86, 414.99)\n",
      "Grupo 83: [414.99, 420.11)\n",
      "Grupo 84: [420.11, 425.23)\n",
      "Grupo 85: [425.23, 430.36)\n",
      "Grupo 86: [430.36, 435.48)\n",
      "Grupo 87: [435.48, 440.6)\n",
      "Grupo 88: [440.6, 445.73)\n",
      "Grupo 89: [445.73, 450.85)\n",
      "Grupo 90: [450.85, 455.97)\n",
      "Grupo 91: [455.97, 461.1)\n",
      "Grupo 92: [461.1, 466.22)\n",
      "Grupo 93: [466.22, 471.34)\n",
      "Grupo 94: [471.34, 476.47)\n",
      "Grupo 95: [476.47, 481.59)\n",
      "Grupo 96: [481.59, 486.71)\n",
      "Grupo 97: [486.71, 491.84)\n",
      "Grupo 98: [491.84, 496.96)\n",
      "Grupo 99: [496.96, 502.08)\n",
      "Grupo 100: [502.08, 507.21)\n",
      "Grupo 101: [507.21, 512.33]\n",
      "\n"
     ]
    }
   ],
   "source": [
    "counts, xedges, yedges = np.histogram2d(df['Age'], df['Fare'], bins=100)\n",
    "\n",
    "serx = pd.Series(np.round(xedges, 2), name='Age')\n",
    "sery = pd.Series(np.round(yedges, 2), name='Fare')\n",
    "\n",
    "print_grupos([serx, sery])"
   ]
  },
  {
   "cell_type": "code",
   "execution_count": 106,
   "metadata": {},
   "outputs": [
    {
     "data": {
      "image/png": "[encoded data removed]",
      "text/plain": [
       "<Figure size 432x288 with 2 Axes>"
      ]
     },
     "metadata": {},
     "output_type": "display_data"
    }
   ],
   "source": [
    "# 4. \n",
    "df = df.dropna()\n",
    "plt.hist2d(df['Age'], df['Fare'], bins=[[0, 12, 18, 25, 45, 65, 80], [0, 10, 20, 30, 50, 75, 100, 200]], cmap='autumn_r');\n",
    "cb = plt.colorbar()\n",
    "cb.set_label(\"Nº Pasajeros\")"
   ]
  },
  {
   "cell_type": "code",
   "execution_count": 51,
   "metadata": {},
   "outputs": [
    {
     "data": {
      "text/plain": [
       "True"
      ]
     },
     "execution_count": 51,
     "metadata": {},
     "output_type": "execute_result"
    }
   ],
   "source": [
    "bins_x = [0, 12, 18, 25, 45, 65, 80]\n",
    "bins_y = [0, 10, 20, 30, 50, 75, 100, 200]\n",
    "\n",
    "counts, xedges, yedges = np.histogram2d(df['Age'], df['Fare'], bins=[bins_x, bins_y])\n",
    "\n",
    "all(bins_x == xedges) and all(bins_y == yedges)"
   ]
  },
  {
   "cell_type": "code",
   "execution_count": 52,
   "metadata": {},
   "outputs": [
    {
     "data": {
      "image/png": "[encoded data removed]",
      "text/plain": [
       "<Figure size 432x288 with 2 Axes>"
      ]
     },
     "metadata": {},
     "output_type": "display_data"
    }
   ],
   "source": [
    "# 6. \n",
    "plt.hexbin(df['Age'], df['Fare'], gridsize=10, cmap='Blues');\n",
    "cb = plt.colorbar(label='Pasajeros por agrupación')"
   ]
  }
 ],
 "metadata": {
  "colab": {
   "name": "EDA-Intro-visualization_MatplotLib.ipynb",
   "provenance": []
  },
  "kernelspec": {
   "display_name": "Python 3",
   "language": "python",
   "name": "python3"
  },
  "language_info": {
   "codemirror_mode": {
    "name": "ipython",
    "version": 3
   },
   "file_extension": ".py",
   "mimetype": "text/x-python",
   "name": "python",
   "nbconvert_exporter": "python",
   "pygments_lexer": "ipython3",
   "version": "3.8.3"
  }
 },
 "nbformat": 4,
 "nbformat_minor": 4
}
