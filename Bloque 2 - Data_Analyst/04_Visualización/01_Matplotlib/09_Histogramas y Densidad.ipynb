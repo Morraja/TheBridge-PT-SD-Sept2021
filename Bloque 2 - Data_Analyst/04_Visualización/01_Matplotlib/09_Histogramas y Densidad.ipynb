{
 "cells": [
  {
   "cell_type": "markdown",
   "metadata": {
    "colab_type": "text",
    "id": "Y-C_w4xZ0U2G"
   },
   "source": [
    "# Histogramas, Binnings (Agrupaciones), y Densidad"
   ]
  },
  {
   "cell_type": "markdown",
   "metadata": {
    "colab_type": "text",
    "id": "6vMugtnS0U2G"
   },
   "source": [
    "Un simple histograma puede ser un excelente primer paso para comprender un conjunto de datos."
   ]
  },
  {
   "cell_type": "code",
   "execution_count": 7,
   "metadata": {
    "colab": {},
    "colab_type": "code",
    "id": "ojCjBbF-0U2H"
   },
   "outputs": [],
   "source": [
    "%matplotlib inline\n",
    "import numpy as np\n",
    "import matplotlib.pyplot as plt\n",
    "plt.style.use('seaborn-white')\n",
    "\n",
    "data = np.random.randn(1000)"
   ]
  },
  {
   "cell_type": "code",
   "execution_count": 8,
   "metadata": {
    "colab": {
     "base_uri": "https://localhost:8080/",
     "height": 273
    },
    "colab_type": "code",
    "collapsed": false,
    "id": "K_oqUj7K0U2I",
    "jupyter": {
     "outputs_hidden": false
    },
    "outputId": "d46aa15c-5d3f-4ab2-d533-cd0fa9e7764f"
   },
   "outputs": [
    {
     "data": {
      "image/png": "[encoded data removed]",
      "text/plain": [
       "<Figure size 432x288 with 1 Axes>"
      ]
     },
     "metadata": {},
     "output_type": "display_data"
    }
   ],
   "source": [
    "plt.hist(data);"
   ]
  },
  {
   "cell_type": "markdown",
   "metadata": {
    "colab_type": "text",
    "id": "ZNMo4mBW0U2J"
   },
   "source": [
    "La función ``hist()`` tiene muchas opciones para tunear tanto el cálculo como la visualización. Veamos un ejemplo:"
   ]
  },
  {
   "cell_type": "code",
   "execution_count": 9,
   "metadata": {
    "colab": {
     "base_uri": "https://localhost:8080/",
     "height": 273
    },
    "colab_type": "code",
    "collapsed": false,
    "id": "-XxbzM6O0U2J",
    "jupyter": {
     "outputs_hidden": false
    },
    "outputId": "1b237d64-84b9-476d-82d7-461fa1ca6850"
   },
   "outputs": [
    {
     "data": {
      "image/png": "[encoded data removed]",
      "text/plain": [
       "<Figure size 432x288 with 1 Axes>"
      ]
     },
     "metadata": {},
     "output_type": "display_data"
    }
   ],
   "source": [
    "plt.hist(data,\n",
    "        bins=30,\n",
    "        alpha=0.5,\n",
    "        color='orange',\n",
    "        edgecolor='black',\n",
    "        density=True);"
   ]
  },
  {
   "cell_type": "markdown",
   "metadata": {
    "colab_type": "text",
    "id": "cUfVoLz40U2K"
   },
   "source": [
    "Si tenemos interés en saber qué somos capaces de hacer con los histogramas, podemos recurrir al docstring de ``plt.hist``, como ya hemos hecho con otros tantos módulos.\n",
    "Por ejemplo, el factor de transparencia ``alpha`` es muy útil para comparar distribuciones sobre la misma figura:"
   ]
  },
  {
   "cell_type": "code",
   "execution_count": 10,
   "metadata": {
    "colab": {
     "base_uri": "https://localhost:8080/",
     "height": 273
    },
    "colab_type": "code",
    "collapsed": false,
    "id": "Ufxj8fiF0U2K",
    "jupyter": {
     "outputs_hidden": false
    },
    "outputId": "686e3b04-8fe2-412f-e5b8-76f429686f45"
   },
   "outputs": [
    {
     "data": {
      "image/png": "[encoded data removed]",
      "text/plain": [
       "<Figure size 432x288 with 1 Axes>"
      ]
     },
     "metadata": {},
     "output_type": "display_data"
    }
   ],
   "source": [
    "x1 = np.random.normal(0, 0.8, 1000)\n",
    "x2 = np.random.normal(-2, 1, 1000)\n",
    "x3 = np.random.normal(3, 2, 1000)\n",
    "\n",
    "kwargs = dict(histtype='bar', alpha=0.3)\n",
    "\n",
    "plt.hist(x1, **kwargs)\n",
    "plt.hist(x2, **kwargs)\n",
    "plt.hist(x3, **kwargs);"
   ]
  },
  {
   "cell_type": "markdown",
   "metadata": {
    "colab_type": "text",
    "id": "3JWU7L-z0U2M"
   },
   "source": [
    "Si simplemente quisiéramos calcular el histograma (contar el número de puntos en función de las agrupaciones que indiquemos) sin realizar nningún tipo de visualización, podemos utilizar la función `` np.histogram () ``, que es una función de NumPy que nos devuelve únicamente los datos en sí:"
   ]
  },
  {
   "cell_type": "code",
   "execution_count": 11,
   "metadata": {
    "colab": {},
    "colab_type": "code",
    "collapsed": false,
    "id": "ZFkGjxpT0U2M",
    "jupyter": {
     "outputs_hidden": false
    },
    "outputId": "f9d714a5-2db8-4270-c581-50da10791fc6"
   },
   "outputs": [
    {
     "name": "stdout",
     "output_type": "stream",
     "text": [
      "[ 44 270 440 219  27]\n",
      "[-2.80888884 -1.65057098 -0.49225311  0.66606475  1.82438261  2.98270047]\n"
     ]
    }
   ],
   "source": [
    "counts, bin_edges = np.histogram(data, bins=5)\n",
    "print(counts)\n",
    "print(bin_edges)"
   ]
  },
  {
   "cell_type": "code",
   "execution_count": 12,
   "metadata": {},
   "outputs": [
    {
     "data": {
      "image/png": "[encoded data removed]",
      "text/plain": [
       "<Figure size 432x288 with 1 Axes>"
      ]
     },
     "metadata": {},
     "output_type": "display_data"
    }
   ],
   "source": [
    "plt.hist(data, bins=5);"
   ]
  },
  {
   "cell_type": "markdown",
   "metadata": {
    "colab_type": "text",
    "id": "ShcOcBx60U2N"
   },
   "source": [
    "## Histogramas y agrupaciones de dos dimensiones\n",
    "\n",
    "Hasta ahora, lo que estamos haciendo es crear histogramas agrupando los valores de una única variable (es decir, de 1 dimensión), tomando como eje X los grupos en función del valor de esa variable, y como eje Y los valores de ese grupo. Sin embargo, también podríamos hacer estas agrupaciones en función de otra variable, llegando a contenedores bidimensionales.\n",
    "\n",
    "A continuación, veremos ejemplos de cómo hacer esto. Para ello, comenzaremos definiendo algunos datos: una matriz `` x `` e `` y `` extraída de una distribución gaussiana multivariante, aunque podría ser un par de columnas del DataFrame que estemos analizando:"
   ]
  },
  {
   "cell_type": "code",
   "execution_count": 13,
   "metadata": {
    "colab": {},
    "colab_type": "code",
    "collapsed": false,
    "id": "C-QZ_iuW0U2N",
    "jupyter": {
     "outputs_hidden": false
    }
   },
   "outputs": [],
   "source": [
    "mean = [0, 0]\n",
    "cov = [[1, 1], [1, 2]]\n",
    "x, y = np.random.multivariate_normal(mean, cov, 10000).T"
   ]
  },
  {
   "cell_type": "markdown",
   "metadata": {
    "colab_type": "text",
    "id": "Q1VuQlMf0U2P"
   },
   "source": [
    "### ``plt.hist2d``: el histograma de 2 dimensinoes\n",
    "\n",
    "Una forma sencilla de representar un histograma bidimensional es usar la función `` plt.hist2d `` de Matplotlib:"
   ]
  },
  {
   "cell_type": "code",
   "execution_count": 14,
   "metadata": {
    "colab": {},
    "colab_type": "code",
    "id": "pbNv12zQ0U2P",
    "outputId": "8b08dea5-4430-40ab-f8be-e0e9716ba3cf"
   },
   "outputs": [
    {
     "data": {
      "image/png": "[encoded data removed]",
      "text/plain": [
       "<Figure size 432x288 with 2 Axes>"
      ]
     },
     "metadata": {},
     "output_type": "display_data"
    }
   ],
   "source": [
    "plt.hist2d(x, y, bins=30, cmap='Blues');\n",
    "cb = plt.colorbar()\n",
    "cb.set_label(\"counts in bin\")"
   ]
  },
  {
   "cell_type": "markdown",
   "metadata": {
    "colab_type": "text",
    "id": "7ViPYof40U2Q"
   },
   "source": [
    "Al igual que ``plt.hist``, ``plt.hist2d`` tiene una gran cantidad de opciones para adpatar la visualización a lo que querramos ver exactamente, tanto por parte de la gráfica como de las agrupaciones, lo cual está bien documentado en su docstring.\n",
    "\n",
    "Por otra parte, así como podíamos obtener únicamente los datos de la agrupación de ``plt.hist`` con la función ``np.histogram``, también podremos obtener los datos de ``plt.hist2d`` mediante la función ``np.histogram2d``, la cual podemos utilizar como:"
   ]
  },
  {
   "cell_type": "code",
   "execution_count": 15,
   "metadata": {
    "colab": {},
    "colab_type": "code",
    "id": "BgiBlR7d0U2Q"
   },
   "outputs": [
    {
     "name": "stdout",
     "output_type": "stream",
     "text": [
      "[[  0.   0.   1.   0.   0.   0.   1.   0.   2.   0.   0.   0.   0.   0.\n",
      "    0.   0.   0.   0.   0.   0.   0.   0.   0.   0.   0.   0.   0.   0.\n",
      "    0.   0.]\n",
      " [  0.   0.   0.   1.   1.   4.   1.   1.   0.   0.   0.   0.   0.   1.\n",
      "    0.   0.   0.   0.   0.   0.   0.   0.   0.   0.   0.   0.   0.   0.\n",
      "    0.   0.]\n",
      " [  1.   0.   0.   1.   1.   0.   1.   3.   4.   2.   0.   0.   0.   0.\n",
      "    0.   0.   0.   0.   0.   0.   0.   0.   0.   0.   0.   0.   0.   0.\n",
      "    0.   0.]\n",
      " [  2.   0.   0.   1.   2.   4.   2.   6.   6.   3.   5.   1.   3.   0.\n",
      "    0.   0.   0.   0.   0.   0.   0.   0.   0.   0.   0.   0.   0.   0.\n",
      "    0.   0.]\n",
      " [  0.   0.   0.   2.   2.   5.   4.   7.   8.   5.   6.   3.   8.   0.\n",
      "    2.   1.   0.   0.   0.   0.   0.   0.   0.   0.   0.   0.   0.   0.\n",
      "    0.   0.]\n",
      " [  0.   0.   1.   0.   4.   8.   7.   7.  16.   9.  18.  10.   3.   4.\n",
      "    3.   0.   1.   0.   0.   0.   0.   0.   0.   0.   0.   0.   0.   0.\n",
      "    0.   0.]\n",
      " [  0.   0.   0.   1.   3.   5.   8.  16.  17.  25.  27.  14.  19.   8.\n",
      "    5.   4.   0.   1.   0.   0.   1.   0.   0.   0.   0.   0.   0.   0.\n",
      "    0.   0.]\n",
      " [  0.   0.   0.   1.   4.   5.  11.   9.  19.  23.  23.  35.  23.  17.\n",
      "    6.   4.   0.   3.   1.   0.   0.   0.   0.   0.   0.   0.   0.   0.\n",
      "    0.   0.]\n",
      " [  0.   0.   0.   1.   1.   2.  11.  24.  35.  46.  46.  62.  40.  21.\n",
      "   23.  10.   5.   4.   1.   0.   0.   0.   0.   0.   0.   0.   0.   0.\n",
      "    0.   0.]\n",
      " [  0.   0.   0.   1.   0.   4.  10.  16.  29.  36.  57.  69.  70.  56.\n",
      "   38.  27.  16.   5.   0.   1.   1.   0.   0.   0.   0.   0.   0.   0.\n",
      "    0.   0.]\n",
      " [  0.   0.   0.   0.   1.   4.   6.  19.  25.  49.  61.  70.  75.  70.\n",
      "   48.  42.  22.  13.   6.   2.   0.   0.   0.   0.   0.   0.   0.   0.\n",
      "    0.   0.]\n",
      " [  0.   0.   0.   0.   3.   2.   5.  15.  26.  41.  62. 104.  93. 113.\n",
      "   76.  67.  45.  28.  13.   4.   2.   1.   0.   0.   0.   0.   0.   0.\n",
      "    0.   0.]\n",
      " [  0.   0.   0.   1.   1.   0.   1.   9.  18.  42.  49.  96. 114. 117.\n",
      "  116. 110.  70.  35.  19.  13.   6.   1.   0.   0.   0.   0.   0.   0.\n",
      "    0.   0.]\n",
      " [  0.   0.   0.   0.   0.   0.   1.   4.  10.  26.  44.  73. 118. 124.\n",
      "  140. 110.  90.  65.  28.  20.   8.   4.   0.   0.   0.   0.   0.   0.\n",
      "    0.   0.]\n",
      " [  0.   0.   0.   0.   0.   0.   2.   1.   9.  19.  34.  61.  90. 123.\n",
      "  117. 137. 120.  69.  53.  31.  12.   3.   2.   1.   0.   0.   0.   0.\n",
      "    0.   0.]\n",
      " [  0.   0.   0.   0.   0.   0.   0.   1.   7.  11.  25.  59.  88. 120.\n",
      "  133. 134. 143.  80.  71.  52.  22.   9.   4.   1.   0.   1.   0.   0.\n",
      "    0.   0.]\n",
      " [  0.   0.   0.   0.   0.   0.   1.   1.   0.   5.  19.  43.  63.  82.\n",
      "  108. 107. 106. 131.  84.  44.  25.  21.   5.   2.   1.   0.   0.   0.\n",
      "    0.   0.]\n",
      " [  0.   0.   0.   0.   0.   0.   0.   1.   3.   5.  12.  17.  35.  64.\n",
      "   73. 108. 105. 118.  83.  71.  39.  14.  12.   6.   1.   0.   0.   0.\n",
      "    0.   0.]\n",
      " [  0.   0.   0.   0.   0.   0.   0.   0.   0.   0.   2.   9.  15.  33.\n",
      "   60.  79. 105. 107.  82.  68.  53.  31.  10.   3.   1.   2.   0.   0.\n",
      "    0.   0.]\n",
      " [  0.   0.   0.   0.   0.   0.   0.   1.   0.   0.   2.   3.  13.  25.\n",
      "   28.  62.  56.  81.  72.  65.  48.  25.  17.   8.   7.   3.   0.   0.\n",
      "    0.   0.]\n",
      " [  0.   0.   0.   0.   0.   0.   0.   0.   0.   0.   1.   4.   3.  12.\n",
      "   22.  34.  56.  54.  58.  49.  41.  29.  17.   4.   4.   0.   0.   0.\n",
      "    0.   0.]\n",
      " [  0.   0.   0.   0.   0.   0.   0.   0.   0.   0.   0.   1.   3.   5.\n",
      "   11.  13.  31.  36.  41.  53.  33.  33.  11.   8.   2.   2.   0.   0.\n",
      "    0.   0.]\n",
      " [  0.   0.   0.   0.   0.   0.   0.   0.   0.   0.   0.   0.   1.   2.\n",
      "    3.   9.  16.  22.  23.  29.  37.  20.  15.  11.   5.   2.   0.   0.\n",
      "    1.   0.]\n",
      " [  0.   0.   0.   0.   0.   0.   0.   0.   0.   0.   0.   0.   0.   0.\n",
      "    3.   5.   9.  15.  12.  13.  18.  18.  11.   7.   3.   1.   2.   2.\n",
      "    0.   0.]\n",
      " [  0.   0.   0.   0.   0.   0.   0.   0.   0.   0.   0.   0.   0.   0.\n",
      "    0.   1.   1.   4.   9.  13.  13.  10.  11.   7.   4.   1.   1.   1.\n",
      "    0.   0.]\n",
      " [  0.   0.   0.   0.   0.   0.   0.   0.   0.   0.   0.   0.   0.   0.\n",
      "    1.   2.   1.   2.   3.   5.   8.   5.   6.   5.   1.   5.   3.   0.\n",
      "    0.   0.]\n",
      " [  0.   0.   0.   0.   0.   0.   0.   0.   0.   0.   0.   0.   0.   0.\n",
      "    0.   0.   0.   1.   2.   2.   3.   6.   3.   4.   2.   2.   0.   0.\n",
      "    1.   0.]\n",
      " [  0.   0.   0.   0.   0.   0.   0.   0.   0.   0.   0.   0.   0.   0.\n",
      "    1.   0.   0.   0.   1.   0.   1.   0.   1.   2.   3.   2.   0.   0.\n",
      "    0.   0.]\n",
      " [  0.   0.   0.   0.   0.   0.   0.   0.   0.   0.   0.   0.   0.   0.\n",
      "    0.   0.   0.   0.   0.   0.   1.   1.   2.   0.   1.   0.   2.   1.\n",
      "    0.   1.]\n",
      " [  0.   0.   0.   0.   0.   0.   0.   0.   0.   0.   0.   0.   0.   0.\n",
      "    0.   0.   0.   0.   0.   0.   0.   0.   0.   1.   1.   0.   0.   0.\n",
      "    0.   0.]]\n",
      "[-3.4256085  -3.19528988 -2.96497127 -2.73465266 -2.50433405 -2.27401544\n",
      " -2.04369683 -1.81337822 -1.5830596  -1.35274099 -1.12242238 -0.89210377\n",
      " -0.66178516 -0.43146655 -0.20114793  0.02917068  0.25948929  0.4898079\n",
      "  0.72012651  0.95044512  1.18076373  1.41108235  1.64140096  1.87171957\n",
      "  2.10203818  2.33235679  2.5626754   2.79299401  3.02331263  3.25363124\n",
      "  3.48394985]\n",
      "[-5.75782846e+00 -5.37427878e+00 -4.99072910e+00 -4.60717943e+00\n",
      " -4.22362975e+00 -3.84008007e+00 -3.45653040e+00 -3.07298072e+00\n",
      " -2.68943104e+00 -2.30588137e+00 -1.92233169e+00 -1.53878201e+00\n",
      " -1.15523234e+00 -7.71682659e-01 -3.88132983e-01 -4.58330616e-03\n",
      "  3.78966370e-01  7.62516047e-01  1.14606572e+00  1.52961540e+00\n",
      "  1.91316508e+00  2.29671475e+00  2.68026443e+00  3.06381411e+00\n",
      "  3.44736378e+00  3.83091346e+00  4.21446314e+00  4.59801281e+00\n",
      "  4.98156249e+00  5.36511217e+00  5.74866184e+00]\n"
     ]
    }
   ],
   "source": [
    "counts, xedges, yedges = np.histogram2d(x, y, bins=30)\n",
    "print(counts)\n",
    "print(xedges)\n",
    "print(yedges)"
   ]
  },
  {
   "cell_type": "markdown",
   "metadata": {
    "colab_type": "text",
    "id": "O6pgLxpI0U2R"
   },
   "source": [
    "Hemos partido de un problema de 1 dimensión y lo hemos aumentado a 2 dimensiones. Si quisiéramos seguir aumentando las dimensiones, existe una función que generaliza para histogramas de más de 2 dimensiones: ``np.histogramdd``."
   ]
  },
  {
   "cell_type": "markdown",
   "metadata": {
    "colab_type": "text",
    "id": "_UbnczsI0U2T"
   },
   "source": [
    "### ``plt.hexbin``: Agrupaciones hexagonales\n",
    "\n",
    "El histograma bidimensional crea una teselación de cuadrados en los ejes, es decir, que realizamos las agrupaciones siguiendo una cuadrícula\n",
    "\n",
    "Otra forma natural ampliamente extendida para esta teselación, consiste en utilizar hexágonos regulares en lugar de cuadrados.\n",
    "\n",
    "Para ello, Matplotlib proporciona la función `` plt.hexbin ``, que representará un conjunto de datos bidimensional agrupado mediante una cuadrícula de hexágonos:"
   ]
  },
  {
   "cell_type": "code",
   "execution_count": 16,
   "metadata": {
    "colab": {},
    "colab_type": "code",
    "collapsed": false,
    "id": "WpvIhfLO0U2T",
    "jupyter": {
     "outputs_hidden": false
    },
    "outputId": "f16a8c65-9ec5-46a4-a797-e32999272357"
   },
   "outputs": [
    {
     "data": {
      "image/png": "[encoded data removed]",
      "text/plain": [
       "<Figure size 432x288 with 2 Axes>"
      ]
     },
     "metadata": {},
     "output_type": "display_data"
    }
   ],
   "source": [
    "plt.hexbin(x, y, gridsize=30, cmap='Blues');\n",
    "cb = plt.colorbar(label='count in bin')"
   ]
  },
  {
   "cell_type": "markdown",
   "metadata": {
    "colab_type": "text",
    "id": "O88qiHmH0U2U"
   },
   "source": [
    "``plt.hexbin`` tiene una serie de opciones muy interesantes, incluida la capacidad ponderar (especificar pesos) cada punto y cambiar la salida en cada contenedor a cualquier agregado NumPy (media de pesos, desviación estándar de pesos, etc.). Ya sabes, si quieres más información, puedes consultar su docstring."
   ]
  },
  {
   "cell_type": "markdown",
   "metadata": {
    "colab_type": "text",
    "id": "9_7IknUo0U2U"
   },
   "source": [
    "### Kernel density estimation (Estimación de densidad del kernel)\n",
    "\n",
    "Otro método común para evaluar densidades en múltiples dimensiones es Kernel density estimation (KDE).\n",
    "\n",
    "No nos meteremos a fondo con ello, pero sí que resulta interesante echarle un vistazo por lo que nos aporta gráficamente. Simplemente mencionaremos que podemos pensar en KDE como una forma de \"difuminar\" los puntos en el espacio y sumar el resultado para suavizar una función.\n",
    "\n",
    "Existe una implementación de KDE muy rápida y sencilla, para lo que nos basaremos en `` scipy.stats ``.\n",
    "\n",
    "A continuación, se muestra un ejemplo del uso de KDE con los datos que estamos viendo. No nos meteremos a analizarlo en profundidad, ya que hay algunos conceptos propios de esta implementación que se salen un poco de nuestro objetivo, solamente queremos quedarnos con lo más importante de esta visualización, para que el día de mañana podamos hacer un histograma basado en ello, es decir, lo que nos interesa de aquí es poder modificarlo para adaptarlo a nuestras necesidades:"
   ]
  },
  {
   "cell_type": "code",
   "execution_count": 17,
   "metadata": {},
   "outputs": [
    {
     "ename": "NameError",
     "evalue": "name 'df' is not defined",
     "output_type": "error",
     "traceback": [
      "\u001b[1;31m---------------------------------------------------------------------------\u001b[0m",
      "\u001b[1;31mNameError\u001b[0m                                 Traceback (most recent call last)",
      "\u001b[1;32m<ipython-input-17-84e0f6cc094d>\u001b[0m in \u001b[0;36m<module>\u001b[1;34m\u001b[0m\n\u001b[1;32m----> 1\u001b[1;33m \u001b[0mdf2\u001b[0m \u001b[1;33m=\u001b[0m \u001b[0mdf\u001b[0m\u001b[1;33m.\u001b[0m\u001b[0mcopy\u001b[0m\u001b[1;33m(\u001b[0m\u001b[1;33m)\u001b[0m\u001b[1;33m.\u001b[0m\u001b[0mdropna\u001b[0m\u001b[1;33m(\u001b[0m\u001b[1;33m)\u001b[0m\u001b[1;33m\u001b[0m\u001b[1;33m\u001b[0m\u001b[0m\n\u001b[0m\u001b[0;32m      2\u001b[0m \u001b[0mdf2\u001b[0m \u001b[1;33m=\u001b[0m \u001b[0mdf2\u001b[0m\u001b[1;33m[\u001b[0m\u001b[0mdf2\u001b[0m\u001b[1;33m[\u001b[0m\u001b[1;34m'Fare'\u001b[0m\u001b[1;33m]\u001b[0m\u001b[1;33m<\u001b[0m\u001b[1;36m100\u001b[0m\u001b[1;33m]\u001b[0m\u001b[1;33m\u001b[0m\u001b[1;33m\u001b[0m\u001b[0m\n\u001b[0;32m      3\u001b[0m \u001b[0mx\u001b[0m \u001b[1;33m=\u001b[0m \u001b[0mdf2\u001b[0m\u001b[1;33m[\u001b[0m\u001b[1;34m'Age'\u001b[0m\u001b[1;33m]\u001b[0m\u001b[1;33m.\u001b[0m\u001b[0mvalues\u001b[0m\u001b[1;33m\u001b[0m\u001b[1;33m\u001b[0m\u001b[0m\n\u001b[0;32m      4\u001b[0m \u001b[0my\u001b[0m \u001b[1;33m=\u001b[0m \u001b[0mdf2\u001b[0m\u001b[1;33m[\u001b[0m\u001b[1;34m'Fare'\u001b[0m\u001b[1;33m]\u001b[0m\u001b[1;33m.\u001b[0m\u001b[0mvalues\u001b[0m\u001b[1;33m\u001b[0m\u001b[1;33m\u001b[0m\u001b[0m\n\u001b[0;32m      5\u001b[0m \u001b[0mplt\u001b[0m\u001b[1;33m.\u001b[0m\u001b[0mplot\u001b[0m\u001b[1;33m(\u001b[0m\u001b[0mx\u001b[0m\u001b[1;33m,\u001b[0m \u001b[0my\u001b[0m\u001b[1;33m,\u001b[0m \u001b[1;34m'.'\u001b[0m\u001b[1;33m)\u001b[0m\u001b[1;33m\u001b[0m\u001b[1;33m\u001b[0m\u001b[0m\n",
      "\u001b[1;31mNameError\u001b[0m: name 'df' is not defined"
     ]
    }
   ],
   "source": [
    "df2 = df.copy().dropna()\n",
    "df2 = df2[df2['Fare']<100]\n",
    "x = df2['Age'].values\n",
    "y = df2['Fare'].values\n",
    "plt.plot(x, y, '.')"
   ]
  },
  {
   "cell_type": "code",
   "execution_count": 18,
   "metadata": {
    "colab": {},
    "colab_type": "code",
    "collapsed": false,
    "id": "wiVPxdPi0U2V",
    "jupyter": {
     "outputs_hidden": false
    },
    "outputId": "1269ab39-4592-4aad-9ee2-d3e36a40a495"
   },
   "outputs": [
    {
     "data": {
      "image/png": "[encoded data removed]",
      "text/plain": [
       "<Figure size 432x288 with 2 Axes>"
      ]
     },
     "metadata": {},
     "output_type": "display_data"
    }
   ],
   "source": [
    "from scipy.stats import gaussian_kde\n",
    "\n",
    "# fit an array of size [Ndim, Nsamples]\n",
    "data = np.vstack([x, y])\n",
    "kde = gaussian_kde(data)\n",
    "\n",
    "# evaluate on a regular grid\n",
    "xgrid = np.linspace(min(x), max(x), 40)\n",
    "ygrid = np.linspace(min(y), max(y), 40)\n",
    "Xgrid, Ygrid = np.meshgrid(xgrid, ygrid)\n",
    "Z = kde.evaluate(np.vstack([Xgrid.ravel(), Ygrid.ravel()]))\n",
    "\n",
    "# Plot the result as an image\n",
    "plt.imshow(Z.reshape(Xgrid.shape),\n",
    "           origin='lower', aspect='auto',\n",
    "           extent=[min(x), max(x), min(y), max(y)],\n",
    "           cmap='Blues')\n",
    "cb = plt.colorbar()\n",
    "cb.set_label(\"density\")"
   ]
  },
  {
   "cell_type": "markdown",
   "metadata": {
    "colab_type": "text",
    "id": "xa-lbM-H0U2W"
   },
   "source": [
    "KDE tiene una longitud de suavizado que permite obtener un equilibrio entre el detalle y la forma de difuminar la información para obtener una imagen más suave a la vista.\n",
    "\n",
    "Y es en esa longitud de suavizado donde reside la magia. La literatura sobre la elección de una longitud de suavizado adecuada es amplia: `` gaussian_kde `` usa una regla empírica para intentar encontrar una longitud de suavizado casi óptima para los datos de entrada.\n",
    "\n",
    "Otras implementaciones de KDE están disponibles dentro del ecosistema SciPy, cada una con sus propias fortalezas y debilidades, donde resultan de especial interés  `` sklearn.neighbors.KernelDensity `` y `` statsmodels.nonparametric.kernel_density.KDEMultivariate ``.\n",
    "\n",
    "Finalmente, se considera interesante añadir que, por lo general, el uso de Matplotlib para visualizaciones basadas en KDE tiende a ser demasiado detallado. En el futuro, veremos su implemntación con otras librerías, como Seaborn."
   ]
  },
  {
   "cell_type": "markdown",
   "metadata": {},
   "source": [
    "## Ejercicio\n",
    "\n",
    "Vamos a aplicar estos conceptos que hemos visto sobre alguno de nuestros famosos datasets. Por ejemplo, vamos a tomar el dataset del Titanic:\n",
    "1. Comenzaremos representando el histograma de la edad (\"Age\") de cada pasajero, agrupando las edades en 5 grupos. Obtén, además, los grupos que se han echo, es decir, los límites de cada grupo. Para ello, hemos visto alguna función que nos puede ayudar\n",
    "2. ¿Cómo podríamos hacer para especificarle una agrupación particular? Investiga la [documentación](https://matplotlib.org/3.1.1/api/_as_gen/matplotlib.pyplot.hist.html) para representar la edad (\"Age\") de los pasajeros agrupada según los siguientes rangos: ``[0, 12), [12, 18), [18, 25), [25, 45), [45, 65), [65, 80]``. Además, en lugar del conteo, deberás mostrar la densidad, y el color del histograma tendrá que ser verde\n",
    "3. Imagínate que ahora lo que queremos es obtener estas distribuciones pero en función de la clase a la que perteneciesen, para saber cuántos pasajeros había de cada grupo de edad y cómo se distribuían en función de la clase (\"Pclass\"). Tendrás que llamar a la función ``hist()`` con cada uno de los DataFrames que obtengas en función de la clase. Para que se puedan comparar, ninguno opacar al resto\n"
   ]
  },
  {
   "cell_type": "code",
   "execution_count": 19,
   "metadata": {},
   "outputs": [],
   "source": [
    "import pandas as pd\n",
    "import numpy as np"
   ]
  },
  {
   "cell_type": "code",
   "execution_count": 69,
   "metadata": {},
   "outputs": [
    {
     "data": {
      "text/html": [
       "<div>\n",
       "<style scoped>\n",
       "    .dataframe tbody tr th:only-of-type {\n",
       "        vertical-align: middle;\n",
       "    }\n",
       "\n",
       "    .dataframe tbody tr th {\n",
       "        vertical-align: top;\n",
       "    }\n",
       "\n",
       "    .dataframe thead th {\n",
       "        text-align: right;\n",
       "    }\n",
       "</style>\n",
       "<table border=\"1\" class=\"dataframe\">\n",
       "  <thead>\n",
       "    <tr style=\"text-align: right;\">\n",
       "      <th></th>\n",
       "      <th>PassengerId</th>\n",
       "      <th>Survived</th>\n",
       "      <th>Pclass</th>\n",
       "      <th>Name</th>\n",
       "      <th>Sex</th>\n",
       "      <th>Age</th>\n",
       "      <th>SibSp</th>\n",
       "      <th>Parch</th>\n",
       "      <th>Ticket</th>\n",
       "      <th>Fare</th>\n",
       "      <th>Cabin</th>\n",
       "      <th>Embarked</th>\n",
       "    </tr>\n",
       "  </thead>\n",
       "  <tbody>\n",
       "    <tr>\n",
       "      <th>1</th>\n",
       "      <td>2</td>\n",
       "      <td>1</td>\n",
       "      <td>1</td>\n",
       "      <td>Cumings, Mrs. John Bradley (Florence Briggs Th...</td>\n",
       "      <td>female</td>\n",
       "      <td>38.0</td>\n",
       "      <td>1</td>\n",
       "      <td>0</td>\n",
       "      <td>PC 17599</td>\n",
       "      <td>71.2833</td>\n",
       "      <td>C85</td>\n",
       "      <td>C</td>\n",
       "    </tr>\n",
       "    <tr>\n",
       "      <th>3</th>\n",
       "      <td>4</td>\n",
       "      <td>1</td>\n",
       "      <td>1</td>\n",
       "      <td>Futrelle, Mrs. Jacques Heath (Lily May Peel)</td>\n",
       "      <td>female</td>\n",
       "      <td>35.0</td>\n",
       "      <td>1</td>\n",
       "      <td>0</td>\n",
       "      <td>113803</td>\n",
       "      <td>53.1000</td>\n",
       "      <td>C123</td>\n",
       "      <td>S</td>\n",
       "    </tr>\n",
       "    <tr>\n",
       "      <th>6</th>\n",
       "      <td>7</td>\n",
       "      <td>0</td>\n",
       "      <td>1</td>\n",
       "      <td>McCarthy, Mr. Timothy J</td>\n",
       "      <td>male</td>\n",
       "      <td>54.0</td>\n",
       "      <td>0</td>\n",
       "      <td>0</td>\n",
       "      <td>17463</td>\n",
       "      <td>51.8625</td>\n",
       "      <td>E46</td>\n",
       "      <td>S</td>\n",
       "    </tr>\n",
       "    <tr>\n",
       "      <th>10</th>\n",
       "      <td>11</td>\n",
       "      <td>1</td>\n",
       "      <td>3</td>\n",
       "      <td>Sandstrom, Miss. Marguerite Rut</td>\n",
       "      <td>female</td>\n",
       "      <td>4.0</td>\n",
       "      <td>1</td>\n",
       "      <td>1</td>\n",
       "      <td>PP 9549</td>\n",
       "      <td>16.7000</td>\n",
       "      <td>G6</td>\n",
       "      <td>S</td>\n",
       "    </tr>\n",
       "    <tr>\n",
       "      <th>11</th>\n",
       "      <td>12</td>\n",
       "      <td>1</td>\n",
       "      <td>1</td>\n",
       "      <td>Bonnell, Miss. Elizabeth</td>\n",
       "      <td>female</td>\n",
       "      <td>58.0</td>\n",
       "      <td>0</td>\n",
       "      <td>0</td>\n",
       "      <td>113783</td>\n",
       "      <td>26.5500</td>\n",
       "      <td>C103</td>\n",
       "      <td>S</td>\n",
       "    </tr>\n",
       "  </tbody>\n",
       "</table>\n",
       "</div>"
      ],
      "text/plain": [
       "    PassengerId  Survived  Pclass  \\\n",
       "1             2         1       1   \n",
       "3             4         1       1   \n",
       "6             7         0       1   \n",
       "10           11         1       3   \n",
       "11           12         1       1   \n",
       "\n",
       "                                                 Name     Sex   Age  SibSp  \\\n",
       "1   Cumings, Mrs. John Bradley (Florence Briggs Th...  female  38.0      1   \n",
       "3        Futrelle, Mrs. Jacques Heath (Lily May Peel)  female  35.0      1   \n",
       "6                             McCarthy, Mr. Timothy J    male  54.0      0   \n",
       "10                    Sandstrom, Miss. Marguerite Rut  female   4.0      1   \n",
       "11                           Bonnell, Miss. Elizabeth  female  58.0      0   \n",
       "\n",
       "    Parch    Ticket     Fare Cabin Embarked  \n",
       "1       0  PC 17599  71.2833   C85        C  \n",
       "3       0    113803  53.1000  C123        S  \n",
       "6       0     17463  51.8625   E46        S  \n",
       "10      1   PP 9549  16.7000    G6        S  \n",
       "11      0    113783  26.5500  C103        S  "
      ]
     },
     "execution_count": 69,
     "metadata": {},
     "output_type": "execute_result"
    }
   ],
   "source": [
    "df = pd.read_csv(\"titanic.csv\")\n",
    "# df = df[df['Age'].notnull()]\n",
    "df = df.dropna()\n",
    "df.head()"
   ]
  },
  {
   "cell_type": "code",
   "execution_count": 70,
   "metadata": {},
   "outputs": [
    {
     "data": {
      "image/png": "[encoded data removed]",
      "text/plain": [
       "<Figure size 432x288 with 1 Axes>"
      ]
     },
     "metadata": {},
     "output_type": "display_data"
    }
   ],
   "source": [
    "df['Age'].hist(bins=5);"
   ]
  },
  {
   "cell_type": "code",
   "execution_count": 71,
   "metadata": {},
   "outputs": [
    {
     "data": {
      "image/png": "[encoded data removed]",
      "text/plain": [
       "<Figure size 432x288 with 1 Axes>"
      ]
     },
     "metadata": {},
     "output_type": "display_data"
    }
   ],
   "source": [
    "df['Age'].hist(bins=[0, 12, 18, 25, 45, 65, 80], color='green', density=True);"
   ]
  },
  {
   "cell_type": "code",
   "execution_count": 72,
   "metadata": {},
   "outputs": [
    {
     "data": {
      "text/plain": [
       "<matplotlib.legend.Legend at 0x1fabfdf3940>"
      ]
     },
     "execution_count": 72,
     "metadata": {},
     "output_type": "execute_result"
    },
    {
     "data": {
      "image/png": "[encoded data removed]",
      "text/plain": [
       "<Figure size 432x288 with 1 Axes>"
      ]
     },
     "metadata": {},
     "output_type": "display_data"
    }
   ],
   "source": [
    "ax = df.groupby(\"Pclass\")['Age'].hist(bins= [0, 12, 18, 25, 45, 65, 80], alpha=0.5, label='1')\n",
    "plt.legend()"
   ]
  },
  {
   "cell_type": "code",
   "execution_count": 73,
   "metadata": {},
   "outputs": [
    {
     "data": {
      "text/plain": [
       "<matplotlib.legend.Legend at 0x1fabfd632e0>"
      ]
     },
     "execution_count": 73,
     "metadata": {},
     "output_type": "execute_result"
    },
    {
     "data": {
      "image/png": "[encoded data removed]",
      "text/plain": [
       "<Figure size 432x288 with 1 Axes>"
      ]
     },
     "metadata": {},
     "output_type": "display_data"
    }
   ],
   "source": [
    "x1 = df[df['Pclass'] == 1]['Age']\n",
    "x2 = df[df['Pclass'] == 2]['Age']\n",
    "x3 = df[df['Pclass'] == 3]['Age']\n",
    "\n",
    "kwargs = dict(histtype='bar', alpha=0.5, bins=[0, 10, 18, 25, 45, 65, 80])\n",
    "\n",
    "plt.hist(x1, **kwargs, label='Pclass=1')\n",
    "plt.hist(x2, **kwargs, label='Pclass=2')\n",
    "plt.hist(x3, **kwargs, label='Pclass=3')\n",
    "\n",
    "plt.legend()"
   ]
  },
  {
   "cell_type": "code",
   "execution_count": 75,
   "metadata": {},
   "outputs": [
    {
     "data": {
      "image/png": "[encoded data removed]",
      "text/plain": [
       "<Figure size 432x288 with 1 Axes>"
      ]
     },
     "metadata": {},
     "output_type": "display_data"
    }
   ],
   "source": [
    "for pclass in df['Pclass'].unique():\n",
    "    plt.hist(df[df['Pclass']==pclass]['Age'], bins=[0, 10, 18, 25, 45, 65, 80], alpha=0.3, label=f\"Pclass = {pclass}\")\n",
    "plt.legend();"
   ]
  },
  {
   "cell_type": "markdown",
   "metadata": {},
   "source": [
    "## Ejercicio 2\n",
    "\n",
    "Ahora queremos ver cómo interactúa nuestra variable edad con otras variables. Para ello, a partir del mismo df que teníamos en el ejericio anterior:\n",
    "1. Elimina todos los registros con algún nulo y representa la edad (\"Age\") en función del precio del billete (\"Fare\") con un histograma de 2 dimensiones y el cmap que más te guste, agrupándolos en 5 grupitos cada eje. Muestra el colorbar con un nombre identificativo\n",
    "2. ¿Qué agrupaciones te ha realizado?\n",
    "3. Repite el mismo ejercicio que en 1 pero con 100 grupos. ¿Cuáles son ahora los límites que te está devolviendo?\n",
    "2. Realiza este mismo gráfico que en 1 pero con una agrupación de edades según [0, 12), [12, 18), [18, 25), [25, 45), [45, 65), [65, 80] y de precios según [0 10), [10, 20), [20, 30), [30, 50), [50, 75), [75, 100), [100, 200]\n",
    "3. Comprueba que los límites que te devuelve se corresponden con los que le has pasado\n",
    "4. Realiza el histograma con una cuadrícula hexagonal de tamaño de celda igual a 10 y con otro cmap\n",
    "\n",
    "EXTRA: Repite el \"Ejercicio 2\" entero con otra relación de variables, como las columnas \"potential\" y \"value_eur\" del conjunto de datos \"FIFA20.csv\".\n",
    "\n",
    "Utiliza lo que has aprendido para estudiar otras relaciones\n"
   ]
  },
  {
   "cell_type": "code",
   "execution_count": 20,
   "metadata": {},
   "outputs": [
    {
     "data": {
      "text/html": [
       "<div>\n",
       "<style scoped>\n",
       "    .dataframe tbody tr th:only-of-type {\n",
       "        vertical-align: middle;\n",
       "    }\n",
       "\n",
       "    .dataframe tbody tr th {\n",
       "        vertical-align: top;\n",
       "    }\n",
       "\n",
       "    .dataframe thead th {\n",
       "        text-align: right;\n",
       "    }\n",
       "</style>\n",
       "<table border=\"1\" class=\"dataframe\">\n",
       "  <thead>\n",
       "    <tr style=\"text-align: right;\">\n",
       "      <th></th>\n",
       "      <th>PassengerId</th>\n",
       "      <th>Survived</th>\n",
       "      <th>Pclass</th>\n",
       "      <th>Name</th>\n",
       "      <th>Sex</th>\n",
       "      <th>Age</th>\n",
       "      <th>SibSp</th>\n",
       "      <th>Parch</th>\n",
       "      <th>Ticket</th>\n",
       "      <th>Fare</th>\n",
       "      <th>Cabin</th>\n",
       "      <th>Embarked</th>\n",
       "    </tr>\n",
       "  </thead>\n",
       "  <tbody>\n",
       "    <tr>\n",
       "      <th>0</th>\n",
       "      <td>1</td>\n",
       "      <td>0</td>\n",
       "      <td>3</td>\n",
       "      <td>Braund, Mr. Owen Harris</td>\n",
       "      <td>male</td>\n",
       "      <td>22.0</td>\n",
       "      <td>1</td>\n",
       "      <td>0</td>\n",
       "      <td>A/5 21171</td>\n",
       "      <td>7.25</td>\n",
       "      <td>NaN</td>\n",
       "      <td>S</td>\n",
       "    </tr>\n",
       "  </tbody>\n",
       "</table>\n",
       "</div>"
      ],
      "text/plain": [
       "   PassengerId  Survived  Pclass                     Name   Sex   Age  SibSp  \\\n",
       "0            1         0       3  Braund, Mr. Owen Harris  male  22.0      1   \n",
       "\n",
       "   Parch     Ticket  Fare Cabin Embarked  \n",
       "0      0  A/5 21171  7.25   NaN        S  "
      ]
     },
     "execution_count": 20,
     "metadata": {},
     "output_type": "execute_result"
    }
   ],
   "source": [
    "df = pd.read_csv(\"titanic.csv\")\n",
    "df.iloc[:1]\n"
   ]
  },
  {
   "cell_type": "code",
   "execution_count": null,
   "metadata": {},
   "outputs": [],
   "source": []
  }
 ],
 "metadata": {
  "colab": {
   "name": "EDA-Intro-visualization_MatplotLib.ipynb",
   "provenance": []
  },
  "kernelspec": {
   "display_name": "Python 3",
   "language": "python",
   "name": "python3"
  },
  "language_info": {
   "codemirror_mode": {
    "name": "ipython",
    "version": 3
   },
   "file_extension": ".py",
   "mimetype": "text/x-python",
   "name": "python",
   "nbconvert_exporter": "python",
   "pygments_lexer": "ipython3",
   "version": "3.8.3"
  }
 },
 "nbformat": 4,
 "nbformat_minor": 4
}
