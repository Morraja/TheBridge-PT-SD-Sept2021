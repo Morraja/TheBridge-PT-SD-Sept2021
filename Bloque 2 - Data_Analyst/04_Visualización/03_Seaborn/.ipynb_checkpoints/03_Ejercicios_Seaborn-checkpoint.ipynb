{
 "cells": [
  {
   "cell_type": "markdown",
   "metadata": {},
   "source": [
    "\n",
    "<div style=\"text-align:center\"><font size=6><b>EJERCICIOS SEABORN</b></font></div>\n",
    "\n",
    "<div style=\"text-align:center\"><img src=\"https://media4.giphy.com/media/vf3LO38xXNRrq/giphy.gif?cid=ecf05e47cl9pyl4yub1755skxt1tbhfl1359573ak9cd4d1n&rid=giphy.gif\" /></div>\n"
   ]
  },
  {
   "cell_type": "markdown",
   "metadata": {},
   "source": [
    "### 1. Importa pandas, pyplot y seaborn"
   ]
  },
  {
   "cell_type": "code",
   "execution_count": 1,
   "metadata": {},
   "outputs": [],
   "source": [
    "import pandas as pd\n",
    "import seaborn as sns\n",
    "import matplotlib.pyplot as plt"
   ]
  },
  {
   "cell_type": "markdown",
   "metadata": {},
   "source": [
    "### 2. Activa matplotlib de forma estática (eso del ``inline``)"
   ]
  },
  {
   "cell_type": "code",
   "execution_count": 2,
   "metadata": {},
   "outputs": [],
   "source": [
    "%matplotlib inline"
   ]
  },
  {
   "cell_type": "markdown",
   "metadata": {},
   "source": [
    "### 3. Lee 'Pokemon.csv', dentro de la carpeta ``data`` algunos niveles más arriba, y lee la primera columna del csv como índice del DataFrame"
   ]
  },
  {
   "cell_type": "code",
   "execution_count": 3,
   "metadata": {},
   "outputs": [],
   "source": [
    "df = pd.read_csv(\"../../../data/Pokemon.csv\", encoding='latin1', index_col='#')"
   ]
  },
  {
   "cell_type": "markdown",
   "metadata": {},
   "source": [
    "### 4. Muestra las primeras filas del dataset para hacerte una idea de los datos cargados"
   ]
  },
  {
   "cell_type": "code",
   "execution_count": 4,
   "metadata": {},
   "outputs": [
    {
     "data": {
      "text/html": [
       "<div>\n",
       "<style scoped>\n",
       "    .dataframe tbody tr th:only-of-type {\n",
       "        vertical-align: middle;\n",
       "    }\n",
       "\n",
       "    .dataframe tbody tr th {\n",
       "        vertical-align: top;\n",
       "    }\n",
       "\n",
       "    .dataframe thead th {\n",
       "        text-align: right;\n",
       "    }\n",
       "</style>\n",
       "<table border=\"1\" class=\"dataframe\">\n",
       "  <thead>\n",
       "    <tr style=\"text-align: right;\">\n",
       "      <th></th>\n",
       "      <th>Name</th>\n",
       "      <th>Type 1</th>\n",
       "      <th>Type 2</th>\n",
       "      <th>Total</th>\n",
       "      <th>HP</th>\n",
       "      <th>Attack</th>\n",
       "      <th>Defense</th>\n",
       "      <th>Sp. Atk</th>\n",
       "      <th>Sp. Def</th>\n",
       "      <th>Speed</th>\n",
       "      <th>Stage</th>\n",
       "      <th>Legendary</th>\n",
       "    </tr>\n",
       "    <tr>\n",
       "      <th>#</th>\n",
       "      <th></th>\n",
       "      <th></th>\n",
       "      <th></th>\n",
       "      <th></th>\n",
       "      <th></th>\n",
       "      <th></th>\n",
       "      <th></th>\n",
       "      <th></th>\n",
       "      <th></th>\n",
       "      <th></th>\n",
       "      <th></th>\n",
       "      <th></th>\n",
       "    </tr>\n",
       "  </thead>\n",
       "  <tbody>\n",
       "    <tr>\n",
       "      <th>1</th>\n",
       "      <td>Bulbasaur</td>\n",
       "      <td>Grass</td>\n",
       "      <td>Poison</td>\n",
       "      <td>318</td>\n",
       "      <td>45</td>\n",
       "      <td>49</td>\n",
       "      <td>49</td>\n",
       "      <td>65</td>\n",
       "      <td>65</td>\n",
       "      <td>45</td>\n",
       "      <td>1</td>\n",
       "      <td>False</td>\n",
       "    </tr>\n",
       "    <tr>\n",
       "      <th>2</th>\n",
       "      <td>Ivysaur</td>\n",
       "      <td>Grass</td>\n",
       "      <td>Poison</td>\n",
       "      <td>405</td>\n",
       "      <td>60</td>\n",
       "      <td>62</td>\n",
       "      <td>63</td>\n",
       "      <td>80</td>\n",
       "      <td>80</td>\n",
       "      <td>60</td>\n",
       "      <td>2</td>\n",
       "      <td>False</td>\n",
       "    </tr>\n",
       "    <tr>\n",
       "      <th>3</th>\n",
       "      <td>Venusaur</td>\n",
       "      <td>Grass</td>\n",
       "      <td>Poison</td>\n",
       "      <td>525</td>\n",
       "      <td>80</td>\n",
       "      <td>82</td>\n",
       "      <td>83</td>\n",
       "      <td>100</td>\n",
       "      <td>100</td>\n",
       "      <td>80</td>\n",
       "      <td>3</td>\n",
       "      <td>False</td>\n",
       "    </tr>\n",
       "    <tr>\n",
       "      <th>4</th>\n",
       "      <td>Charmander</td>\n",
       "      <td>Fire</td>\n",
       "      <td>NaN</td>\n",
       "      <td>309</td>\n",
       "      <td>39</td>\n",
       "      <td>52</td>\n",
       "      <td>43</td>\n",
       "      <td>60</td>\n",
       "      <td>50</td>\n",
       "      <td>65</td>\n",
       "      <td>1</td>\n",
       "      <td>False</td>\n",
       "    </tr>\n",
       "    <tr>\n",
       "      <th>5</th>\n",
       "      <td>Charmeleon</td>\n",
       "      <td>Fire</td>\n",
       "      <td>NaN</td>\n",
       "      <td>405</td>\n",
       "      <td>58</td>\n",
       "      <td>64</td>\n",
       "      <td>58</td>\n",
       "      <td>80</td>\n",
       "      <td>65</td>\n",
       "      <td>80</td>\n",
       "      <td>2</td>\n",
       "      <td>False</td>\n",
       "    </tr>\n",
       "  </tbody>\n",
       "</table>\n",
       "</div>"
      ],
      "text/plain": [
       "         Name Type 1  Type 2  Total  HP  Attack  Defense  Sp. Atk  Sp. Def  \\\n",
       "#                                                                            \n",
       "1   Bulbasaur  Grass  Poison    318  45      49       49       65       65   \n",
       "2     Ivysaur  Grass  Poison    405  60      62       63       80       80   \n",
       "3    Venusaur  Grass  Poison    525  80      82       83      100      100   \n",
       "4  Charmander   Fire     NaN    309  39      52       43       60       50   \n",
       "5  Charmeleon   Fire     NaN    405  58      64       58       80       65   \n",
       "\n",
       "   Speed  Stage  Legendary  \n",
       "#                           \n",
       "1     45      1      False  \n",
       "2     60      2      False  \n",
       "3     80      3      False  \n",
       "4     65      1      False  \n",
       "5     80      2      False  "
      ]
     },
     "execution_count": 4,
     "metadata": {},
     "output_type": "execute_result"
    }
   ],
   "source": [
    "df.head()"
   ]
  },
  {
   "cell_type": "markdown",
   "metadata": {},
   "source": [
    "### 5. Haz un gráfico de dispersión con ``lmplot()``, que es un método que además pinta una regresión lineal, para representar cómo varía el Ataque (eje X) en función de la Defensa (eje Y)"
   ]
  },
  {
   "cell_type": "code",
   "execution_count": 5,
   "metadata": {},
   "outputs": [
    {
     "data": {
      "image/png": "[encoded data removed]",
      "text/plain": [
       "<Figure size 360x360 with 1 Axes>"
      ]
     },
     "metadata": {
      "needs_background": "light"
     },
     "output_type": "display_data"
    }
   ],
   "source": [
    "sns.lmplot(data=df, x= 'Attack', y='Defense');"
   ]
  },
  {
   "cell_type": "markdown",
   "metadata": {},
   "source": [
    "¿Se ajusta bien? ¿No? Al fin y al cabo, lo que estamos haciendo es ver la relación lineal entre Ataque y Defensa, ¿podrías cuantificar esta relación de alguna manera y justificar así lo que acabas de ver?"
   ]
  },
  {
   "cell_type": "code",
   "execution_count": 24,
   "metadata": {},
   "outputs": [
    {
     "data": {
      "text/plain": [
       "0.4919654602666427"
      ]
     },
     "execution_count": 24,
     "metadata": {},
     "output_type": "execute_result"
    }
   ],
   "source": [
    "df[['Attack', 'Defense']].corr().loc['Attack', 'Defense']"
   ]
  },
  {
   "cell_type": "markdown",
   "metadata": {},
   "source": [
    "### 6. No queremos ver la línea recta del modelo de regresión lineal que relaciona Ataque y Defensa\n",
    "\n",
    "Prueba a consultar la [documentación](https://seaborn.pydata.org/generated/seaborn.lmplot.html) para ver qué parámetro debes modificar:"
   ]
  },
  {
   "cell_type": "code",
   "execution_count": 6,
   "metadata": {},
   "outputs": [
    {
     "data": {
      "image/png": "[encoded data removed]",
      "text/plain": [
       "<Figure size 360x360 with 1 Axes>"
      ]
     },
     "metadata": {
      "needs_background": "light"
     },
     "output_type": "display_data"
    }
   ],
   "source": [
    "sns.lmplot(data=df, x= 'Attack', y='Defense', fit_reg=False);"
   ]
  },
  {
   "cell_type": "markdown",
   "metadata": {},
   "source": [
    "### 7. Ahora queremos añadir otra dimensión más a nuestro gráfico, queremos ver el Stage junto con el Ataque y la Defensa\n",
    "\n",
    "Consulta la documentación (o básate en lo que hemos visto en clase en otros métodos) para representar Stage con el color:"
   ]
  },
  {
   "cell_type": "code",
   "execution_count": 7,
   "metadata": {},
   "outputs": [
    {
     "data": {
      "image/png": "[encoded data removed]",
      "text/plain": [
       "<Figure size 402.375x360 with 1 Axes>"
      ]
     },
     "metadata": {
      "needs_background": "light"
     },
     "output_type": "display_data"
    }
   ],
   "source": [
    "sns.lmplot(data=df, x= 'Attack', y='Defense', fit_reg=False, hue='Stage');"
   ]
  },
  {
   "cell_type": "markdown",
   "metadata": {},
   "source": [
    "Limita ahora esta representación entre los valores 20 y 80 de Ataque. Para hacerlo, puede que no exista un parámetro en la documentación, y que lo tengas que hacer por otras vías:"
   ]
  },
  {
   "cell_type": "code",
   "execution_count": 20,
   "metadata": {},
   "outputs": [
    {
     "data": {
      "text/plain": [
       "<Figure size 1080x1080 with 0 Axes>"
      ]
     },
     "metadata": {},
     "output_type": "display_data"
    },
    {
     "data": {
      "image/png": "[encoded data removed]",
      "text/plain": [
       "<Figure size 402.375x360 with 1 Axes>"
      ]
     },
     "metadata": {
      "needs_background": "light"
     },
     "output_type": "display_data"
    }
   ],
   "source": [
    "fig = plt.figure(figsize=(15,15))\n",
    "ax = sns.lmplot(data=df, x= 'Attack', y='Defense', fit_reg=False, hue='Stage')\n",
    "plt.xlim(20,80);"
   ]
  },
  {
   "cell_type": "markdown",
   "metadata": {},
   "source": [
    "### 8. Con las 3 gráficas juntas no seaprecian muy bien las relaciones, separa la gráfica en otras 3: una por cada valor de Stage\n",
    "\n",
    "Para ello, puedes comprobar cómo lo hemos hecho en el notebook anterior (aunque fuera para otro método de representación), cuando utilizábamos un parámetro para que nos dividiera las gráficas en función de su valor. Si no, también puedes consultar la documentación.\n",
    "\n",
    "(En este caso, no mantengas los límites del último apartado)"
   ]
  },
  {
   "cell_type": "code",
   "execution_count": 40,
   "metadata": {},
   "outputs": [
    {
     "data": {
      "text/plain": [
       "<Figure size 1080x1080 with 0 Axes>"
      ]
     },
     "metadata": {},
     "output_type": "display_data"
    },
    {
     "data": {
      "image/png": "[encoded data removed]",
      "text/plain": [
       "<Figure size 1080x360 with 3 Axes>"
      ]
     },
     "metadata": {
      "needs_background": "light"
     },
     "output_type": "display_data"
    }
   ],
   "source": [
    "fig = plt.figure(figsize=(15,15))\n",
    "ax = sns.lmplot(data=df, x= 'Attack', y='Defense', hue='Stage', col='Stage', height=5);"
   ]
  },
  {
   "cell_type": "markdown",
   "metadata": {},
   "source": [
    "Comprueba ahora, para cada uno de ellos, si alguno tiene una relación lineal lo suficientemente buena como para considerar que existe esta relación (establece el umbral en +/-0.7).\n",
    "\n",
    "Para ello, utiliza lo que hemos visto con Pandas para separar el Dataframe."
   ]
  },
  {
   "cell_type": "code",
   "execution_count": 46,
   "metadata": {},
   "outputs": [
    {
     "name": "stdout",
     "output_type": "stream",
     "text": [
      "Stage 1: 0.44008756997217924\n",
      "Stage 2: 0.3911298116183662\n",
      "Stage 3: 0.5943040819362854\n",
      "No hay Correlación de +/-0.7\n"
     ]
    }
   ],
   "source": [
    "print('Stage 1:', df[df['Stage'] == 1][['Attack', 'Defense']].corr().loc['Attack', 'Defense'])\n",
    "print('Stage 2:', df[df['Stage'] == 2][['Attack', 'Defense']].corr().loc['Attack', 'Defense'])\n",
    "print('Stage 3:', df[df['Stage'] == 3][['Attack', 'Defense']].corr().loc['Attack', 'Defense'])\n",
    "print('No hay Correlación de +/-0.7')"
   ]
  },
  {
   "cell_type": "markdown",
   "metadata": {},
   "source": [
    "### 9. Dibuja un diagrama de cajas con el dataframe\n",
    "\n",
    "¿De qué? Pues de todo lo que puedas."
   ]
  },
  {
   "cell_type": "code",
   "execution_count": null,
   "metadata": {},
   "outputs": [],
   "source": []
  },
  {
   "cell_type": "markdown",
   "metadata": {},
   "source": [
    "### 10. Como puedes observar, representar todo lo que podemos quizás no sea la mejor idea.\n",
    "\n",
    "Parece que las columnas Total, Stage y Legendary nos desvirtúan lo que estamos viendo, y la columna # tampoco parece que nos vaya a aportar mucho. Vuelve a dibujar los diagramas de caja sin incluirlas:"
   ]
  },
  {
   "cell_type": "code",
   "execution_count": null,
   "metadata": {},
   "outputs": [],
   "source": []
  },
  {
   "cell_type": "markdown",
   "metadata": {},
   "source": [
    "### 11. Dejemos los gráficos al lado por un momento. ¿Cuántos 'Type 1' diferentes hay en el DataFrame? ¿Cuáles? ¿Cuántos registros existen de cada tipo?\n",
    "\n",
    "Si puedes, hazlo con una sola instrucción que nos de toda esa información."
   ]
  },
  {
   "cell_type": "code",
   "execution_count": null,
   "metadata": {},
   "outputs": [],
   "source": []
  },
  {
   "cell_type": "markdown",
   "metadata": {},
   "source": [
    "### 12. Quédate del Dataframe solo con los 'Type 1' que tengan más de 7 registros. ¿En cuáles de ellos puedes apreciar relación lineal entre el Ataque y la Defensa? (Umbral 0.7)"
   ]
  },
  {
   "cell_type": "code",
   "execution_count": null,
   "metadata": {},
   "outputs": [],
   "source": []
  },
  {
   "cell_type": "markdown",
   "metadata": {},
   "source": [
    "### 13. Usa un estilo 'whitegrid' y representa un correlograma de las estadísticas Ataque, Defensa y HP, para cada uno de los tipos que has obtenido en el último ejercicio\n",
    "\n",
    "Para cambiar el estulo, puedes consultar este apartado de la [documentación](http://seaborn.pydata.org/generated/seaborn.set_theme.html#seaborn.set_theme). Y los correlogramas deberán representar también la regresión lineal."
   ]
  },
  {
   "cell_type": "code",
   "execution_count": null,
   "metadata": {},
   "outputs": [],
   "source": []
  },
  {
   "cell_type": "markdown",
   "metadata": {},
   "source": [
    "### 14. Representa las mismas relaciones que en el apartado anterior pero cuantificándolas en un mapa de calor:\n",
    "\n",
    "Si hacemos un bucle for para representar varios mapas de calor, se sobreescribirán uno sobre otro, por lo que no se verán bien. Para por verlo en 3 gráficas diferentes, deberíamos crear una nueva figura en cada iteración del bucle for con la siguiente línea ``fig = plt.figure()``.\n",
    "\n",
    "Por otra parte, si queremos fijar la barra de color, podemos utilizar un par de parámetros del método, descritos en la [documentación](https://seaborn.pydata.org/generated/seaborn.heatmap.html?highlight=heatmap#seaborn.heatmap) (si vas por orden no tardarás mucho)."
   ]
  },
  {
   "cell_type": "code",
   "execution_count": null,
   "metadata": {},
   "outputs": [],
   "source": []
  },
  {
   "cell_type": "markdown",
   "metadata": {},
   "source": [
    "### 15. Selecciona los tipos 'Grass', 'Fire' y 'Water', y refleja, en un diagrama de violín, el 'Type 1' (eje X) frente al Ataque (eje Y):\n",
    "\n",
    "Para ello, utiliza la función ``catplot``."
   ]
  },
  {
   "cell_type": "code",
   "execution_count": null,
   "metadata": {},
   "outputs": [],
   "source": []
  },
  {
   "cell_type": "markdown",
   "metadata": {},
   "source": [
    "### 16. Está bien, pero los colores no se corresponden con lo que uno espera para agua, fuego y planta\n",
    "\n",
    "Para seleccionar los colores que quieras, puedes usar la paleta de colores mediante el siguiente parámetro:\n",
    "\n",
    "``palette=sns.color_palette([color1, color2, color3, color4...])``\n",
    "\n",
    "donde colorX es el color especificado como lo harías para cualquier otro gráfico. El tamaño de la lista de colores se debe corresponder conlos diferentes valores de lo que estés representando en el eje X.\n",
    "\n",
    "Ahora que ya sabes, utiliza los colores aporpiados para cada uno"
   ]
  },
  {
   "cell_type": "code",
   "execution_count": null,
   "metadata": {},
   "outputs": [],
   "source": []
  },
  {
   "cell_type": "markdown",
   "metadata": {},
   "source": [
    "Repite este gráfico de forma que en cada violín se represente tanto el Ataque como la Defensa, para lo que deberás modificar el dataframe:"
   ]
  },
  {
   "cell_type": "code",
   "execution_count": null,
   "metadata": {},
   "outputs": [],
   "source": []
  },
  {
   "cell_type": "markdown",
   "metadata": {},
   "source": [
    "### 17. Con el diagrama de violín vemos la forma de la distribución, pero no sabemos si Grass tiene muchos puntos y Fire tiene muy pocos.\n",
    "\n",
    "Para ver esto, podemos usar swarmplot. Pinta el primero de los diagramas de violines del ejercicio anterior pero con un swarmplot en lugar de un violín, para lo que tendrás que cambiar un parámetro del ``catplot``"
   ]
  },
  {
   "cell_type": "code",
   "execution_count": null,
   "metadata": {},
   "outputs": [],
   "source": []
  },
  {
   "cell_type": "markdown",
   "metadata": {},
   "source": [
    "### 18. Queremos ver los violines a la vez que los swarm, los podemos pintar juntos. \n",
    "\n",
    "Para ello, deberemos utilizar por separado ambas representaciones, no pudiéndolas combinar con catplot. Revisa cómo lo hemos hecho en el notebook anterior. Además, elimina los diagramas de caja dentro de los violines con el parámetro inner = None y pon una transparencia de 0.9\n"
   ]
  },
  {
   "cell_type": "code",
   "execution_count": null,
   "metadata": {},
   "outputs": [],
   "source": []
  },
  {
   "cell_type": "markdown",
   "metadata": {},
   "source": [
    "### 19. Veamos la función melt() de pandas. ``pd.melt()`` toma los valores de varias columnas y los junta todos en una misma columna nueva.\n",
    "\n",
    "Dado un DataFrame, ``melt`` recibe varios parámetros:\n",
    "  * qué columnas del DataFrame se quedan igual\n",
    "  * qué nombres de columnas del dataframe pasan a ser una columna nueva\n",
    "  * cómo queremos llamar esas nuevas columnas\n",
    "\n",
    "Primero, crea un dataframe ``df_grass_fire_water`` quedándote con los valores de \"Type 1\": \"Water\", \"Fire\" y \"Grass\", y muestra las primeras filas para recordar su forma:"
   ]
  },
  {
   "cell_type": "code",
   "execution_count": null,
   "metadata": {},
   "outputs": [],
   "source": []
  },
  {
   "cell_type": "markdown",
   "metadata": {},
   "source": [
    "### 20. Queremos dejar igual las variables 'Name' y 'Type 1', así como añadir una columa nueva cuyos valores sean las columnas que queremos apilar y que se llame 'New Column'\n",
    "\n",
    "Para llevar esto a cabo escribimos df_grass_fire_water.melt(id_vars=['Name', 'Type 1'], value_vars=[columna1, columna2...], var_name='New Column')\n",
    "\n",
    "donde \\[columna1, columna2...\\] es la lista con las columnas a apilar, que en este caso serán 'HP', 'Attack', 'Defense' y 'Speed'. Lo guardaremos en una variable llamada ``df_melted``"
   ]
  },
  {
   "cell_type": "code",
   "execution_count": null,
   "metadata": {},
   "outputs": [],
   "source": []
  },
  {
   "cell_type": "markdown",
   "metadata": {},
   "source": [
    "### 21. Pinta el swarmplot con el melted y entiende qué está pasando"
   ]
  },
  {
   "cell_type": "code",
   "execution_count": null,
   "metadata": {},
   "outputs": [],
   "source": []
  },
  {
   "cell_type": "markdown",
   "metadata": {},
   "source": [
    "¿Cómo lo has hecho? ¿Has utilizado ``catplot`` o directamente ``swarmplot``? Utiliza la contraria:"
   ]
  },
  {
   "cell_type": "code",
   "execution_count": null,
   "metadata": {},
   "outputs": [],
   "source": []
  },
  {
   "cell_type": "markdown",
   "metadata": {},
   "source": [
    "### 22. Basándote en el gráfico anterior, añade color en función del 'Type 1'\n",
    "\n",
    "Para ello, utiliza el parámetro ``hue`` y usa la anterior paleta de colores Pokemon"
   ]
  },
  {
   "cell_type": "code",
   "execution_count": null,
   "metadata": {},
   "outputs": [],
   "source": []
  },
  {
   "cell_type": "markdown",
   "metadata": {},
   "source": [
    "Ahora, prueba qué ocurre al utilizar el parámetro ``dodge``:"
   ]
  },
  {
   "cell_type": "code",
   "execution_count": null,
   "metadata": {},
   "outputs": [],
   "source": []
  },
  {
   "cell_type": "markdown",
   "metadata": {},
   "source": [
    "### 23. Pinta el histograma y la densidad de probabilidad de la Defensa del dataframe original"
   ]
  },
  {
   "cell_type": "code",
   "execution_count": null,
   "metadata": {},
   "outputs": [],
   "source": []
  },
  {
   "cell_type": "markdown",
   "metadata": {},
   "source": [
    "### 24. Compara, en 3 gráficas diferentes, las densidades de probabilidad del Defensa (primera) y los histogramas del Ataque (segunda) para los que tienen 'Fire' como 'Type 1' frente a los que tienen \"Water\" y \"Grass\"\n",
    "\n",
    "Respeta los colores que hemos usado con anterioridad y añade una leyenda"
   ]
  },
  {
   "cell_type": "code",
   "execution_count": null,
   "metadata": {},
   "outputs": [],
   "source": []
  },
  {
   "cell_type": "markdown",
   "metadata": {},
   "source": [
    "¿Cuál te parece mejor? Utilízala para comparar la Velocidad de estos 3 tipos:"
   ]
  },
  {
   "cell_type": "code",
   "execution_count": null,
   "metadata": {},
   "outputs": [],
   "source": []
  },
  {
   "cell_type": "markdown",
   "metadata": {},
   "source": [
    "### 25. Pinta un diagrama de barras de la columna 'Type 1' usando el DataFrame original\n",
    "\n",
    "Para ello, utiliza ``sns.countplot``. Usa ``plt.xticks`` para rotar las etiquetas de los tipos. Si lo necesitas, fíjate en los ejemplos de [aquí](https://matplotlib.org/3.1.1/api/_as_gen/matplotlib.pyplot.xticks.html).\n",
    "\n",
    "Además, muéstralos ordenados de mayor a menor, para ello, podrás utilizar el parámetro ``order`` del ``countplot``, al que deberás pasarle una lista de strings con los valores de la variable cualitativa."
   ]
  },
  {
   "cell_type": "code",
   "execution_count": null,
   "metadata": {},
   "outputs": [],
   "source": []
  },
  {
   "cell_type": "markdown",
   "metadata": {},
   "source": [
    "### 26. Usa catplot para realizar 2 subplots: 1 (izquierda) para el Type 1 y otro (derecha) para el Type 2, donde se diferencie si es Legendary o no con el color"
   ]
  },
  {
   "cell_type": "code",
   "execution_count": null,
   "metadata": {},
   "outputs": [],
   "source": []
  },
  {
   "cell_type": "markdown",
   "metadata": {},
   "source": [
    "### 27. Muestra una función distribución de probabilidad conjunta de la Defensa respecto al Ataque.\n",
    "\n",
    "Una vez lo tengas, identifica, apoximadamente, en qué bin 2D donde caen la mayoría de puntos (ataque, defensa).\n",
    "\n",
    "Identifica las etiquetas de los ejes y ponle un título a la gráfica."
   ]
  },
  {
   "cell_type": "code",
   "execution_count": null,
   "metadata": {},
   "outputs": [],
   "source": []
  },
  {
   "cell_type": "markdown",
   "metadata": {},
   "source": [
    "Realiza ahora la misma comparación pero de tal manera que se vean los puntos agrupados en bins de forma hexagonal, y que también se muestren los histogramas de cada una, todo en el mismo gráfico:"
   ]
  },
  {
   "cell_type": "code",
   "execution_count": null,
   "metadata": {},
   "outputs": [],
   "source": []
  },
  {
   "cell_type": "markdown",
   "metadata": {},
   "source": [
    "### 28. Selecciona los Pokémons 3, 149 y 150, y representa con gráficos de barras, en 3 figuras diferentes, los valores de los stats 'HP', 'Attack', 'Defense', 'Sp. Atk', 'Sp. Def', 'Speed' del cada uno de estos Pokémon frente a los valores máximos para su Type 1:\n",
    "\n",
    "Para construir el dataframe, recuerda que puedes utilizar la función ``pd.melt()``"
   ]
  },
  {
   "cell_type": "code",
   "execution_count": null,
   "metadata": {},
   "outputs": [],
   "source": []
  },
  {
   "cell_type": "markdown",
   "metadata": {},
   "source": [
    "### 29. Quédate con los Pokémon de Stage 3 y calcula la media de sus stats principales ('HP', 'Attack', 'Defense', 'Sp. Atk', 'Sp. Def' y 'Speed')\n",
    "\n",
    "Representa, en un diagrama de violín, la suma de los stats de cada uno de ellos, marcando cada uno de los valores dentro del propio violín."
   ]
  },
  {
   "cell_type": "code",
   "execution_count": null,
   "metadata": {},
   "outputs": [],
   "source": []
  },
  {
   "cell_type": "markdown",
   "metadata": {},
   "source": [
    "Ahora agrupa todos los pokémons de en función de su Stage (diferenciando, en el caso de que sea Stage 1, si es legendario o no; que sería otro grupo más), y representa la suma de sus stats en un diagrama de tarta. "
   ]
  },
  {
   "cell_type": "code",
   "execution_count": null,
   "metadata": {},
   "outputs": [],
   "source": []
  },
  {
   "cell_type": "markdown",
   "metadata": {},
   "source": [
    "Quédate ahora con los que empiecen por \"D\" y representa, en un gráfico de donut, la media de sus totales en función del Tipo 1:"
   ]
  },
  {
   "cell_type": "code",
   "execution_count": null,
   "metadata": {},
   "outputs": [],
   "source": []
  },
  {
   "cell_type": "markdown",
   "metadata": {},
   "source": [
    "Finalmente, repítelo con todos los registros:"
   ]
  },
  {
   "cell_type": "code",
   "execution_count": null,
   "metadata": {},
   "outputs": [],
   "source": []
  },
  {
   "cell_type": "code",
   "execution_count": null,
   "metadata": {},
   "outputs": [],
   "source": []
  }
 ],
 "metadata": {
  "kernelspec": {
   "display_name": "Python 3",
   "language": "python",
   "name": "python3"
  },
  "language_info": {
   "codemirror_mode": {
    "name": "ipython",
    "version": 3
   },
   "file_extension": ".py",
   "mimetype": "text/x-python",
   "name": "python",
   "nbconvert_exporter": "python",
   "pygments_lexer": "ipython3",
   "version": "3.8.5"
  }
 },
 "nbformat": 4,
 "nbformat_minor": 4
}
