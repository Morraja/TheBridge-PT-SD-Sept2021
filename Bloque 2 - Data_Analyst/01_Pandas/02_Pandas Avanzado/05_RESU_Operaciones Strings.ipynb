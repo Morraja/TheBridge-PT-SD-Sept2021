{
 "cells": [
  {
   "cell_type": "markdown",
   "metadata": {},
   "source": [
    "# Profundizando en las operaciones con Strings\n"
   ]
  },
  {
   "cell_type": "markdown",
   "metadata": {},
   "source": [
    "Una de las fortalezas de Python es su relativa facilidad para manejar y manipular cadenas de texto.\n",
    "\n",
    "Pandas se basa en esto para proporcionar un conjunto completo de operaciones de texto *vectorizadas*, que son una pieza esencial para extraer información de los textos que pueda ser analizada posteriormente, ya que es prácticamente imposible trabajar con cadenas de texto en bruto.\n",
    "\n",
    "En esta sección, analizaremos algunas de las operaciones con strings de Pandas, y luego veremos cómo usarlas para limpiar parcialmente un conjunto de datos muy desordenado de recetas recopiladas de Internet."
   ]
  },
  {
   "cell_type": "markdown",
   "metadata": {},
   "source": [
    "## Introducción a las operaciones con strings de Pandas\n",
    "\n",
    "Hemos visto cómo herramientas como NumPy y Pandas generalizan las operaciones aritméticas para poder trabajar con conjuntos de datos, como por ejemplo:"
   ]
  },
  {
   "cell_type": "code",
   "execution_count": 1,
   "metadata": {},
   "outputs": [
    {
     "data": {
      "text/plain": [
       "array([ 4,  6, 10, 14, 22, 26])"
      ]
     },
     "execution_count": 1,
     "metadata": {},
     "output_type": "execute_result"
    }
   ],
   "source": [
    "import numpy as np\n",
    "x = np.array([2, 3, 5, 7, 11, 13])\n",
    "x * 2"
   ]
  },
  {
   "cell_type": "markdown",
   "metadata": {},
   "source": [
    "Este fenómeno es a lo que nos referimos cuando hablamos de vectorización de operaciones. De este modo, se simplifica la sintaxis a emplear para operar con matrices de datos, pues ya no tendremos que preocuparnos por el tamaño o la forma de la matriz, sino por la operación que queremos que se realice.\n",
    "\n",
    "Para matrices de cadenas, NumPy no proporciona un acceso tan simple, por lo que no es posible realizar estas operaciones más que iterando sobre cada uno de los elementos, lo que reduce su eficiencia y dificulta su uso:"
   ]
  },
  {
   "cell_type": "code",
   "execution_count": 4,
   "metadata": {},
   "outputs": [
    {
     "data": {
      "text/plain": [
       "['Peter', 'Paul', 'Mary', 'Guido']"
      ]
     },
     "execution_count": 4,
     "metadata": {},
     "output_type": "execute_result"
    }
   ],
   "source": [
    "data = ['peter', 'Paul', 'MARY', 'gUIDO']\n",
    "[s.capitalize() for s in data]"
   ]
  },
  {
   "cell_type": "markdown",
   "metadata": {},
   "source": [
    "Además, dado que no está pensado para ello, solo nos permite trabajar con algunos datos. Esto hace que en casos más complejos, como datos faltantes, no sea capaz de ejecutar las operaciones.\n",
    "Por ejemplo:"
   ]
  },
  {
   "cell_type": "code",
   "execution_count": 5,
   "metadata": {},
   "outputs": [
    {
     "ename": "AttributeError",
     "evalue": "'NoneType' object has no attribute 'capitalize'",
     "output_type": "error",
     "traceback": [
      "\u001b[1;31m---------------------------------------------------------------------------\u001b[0m",
      "\u001b[1;31mAttributeError\u001b[0m                            Traceback (most recent call last)",
      "\u001b[1;32m<ipython-input-5-3b0264c38d59>\u001b[0m in \u001b[0;36m<module>\u001b[1;34m\u001b[0m\n\u001b[0;32m      1\u001b[0m \u001b[0mdata\u001b[0m \u001b[1;33m=\u001b[0m \u001b[1;33m[\u001b[0m\u001b[1;34m'peter'\u001b[0m\u001b[1;33m,\u001b[0m \u001b[1;34m'Paul'\u001b[0m\u001b[1;33m,\u001b[0m \u001b[1;32mNone\u001b[0m\u001b[1;33m,\u001b[0m \u001b[1;34m'MARY'\u001b[0m\u001b[1;33m,\u001b[0m \u001b[1;34m'gUIDO'\u001b[0m\u001b[1;33m]\u001b[0m\u001b[1;33m\u001b[0m\u001b[1;33m\u001b[0m\u001b[0m\n\u001b[1;32m----> 2\u001b[1;33m \u001b[1;33m[\u001b[0m\u001b[0ms\u001b[0m\u001b[1;33m.\u001b[0m\u001b[0mcapitalize\u001b[0m\u001b[1;33m(\u001b[0m\u001b[1;33m)\u001b[0m \u001b[1;32mfor\u001b[0m \u001b[0ms\u001b[0m \u001b[1;32min\u001b[0m \u001b[0mdata\u001b[0m\u001b[1;33m]\u001b[0m\u001b[1;33m\u001b[0m\u001b[1;33m\u001b[0m\u001b[0m\n\u001b[0m",
      "\u001b[1;32m<ipython-input-5-3b0264c38d59>\u001b[0m in \u001b[0;36m<listcomp>\u001b[1;34m(.0)\u001b[0m\n\u001b[0;32m      1\u001b[0m \u001b[0mdata\u001b[0m \u001b[1;33m=\u001b[0m \u001b[1;33m[\u001b[0m\u001b[1;34m'peter'\u001b[0m\u001b[1;33m,\u001b[0m \u001b[1;34m'Paul'\u001b[0m\u001b[1;33m,\u001b[0m \u001b[1;32mNone\u001b[0m\u001b[1;33m,\u001b[0m \u001b[1;34m'MARY'\u001b[0m\u001b[1;33m,\u001b[0m \u001b[1;34m'gUIDO'\u001b[0m\u001b[1;33m]\u001b[0m\u001b[1;33m\u001b[0m\u001b[1;33m\u001b[0m\u001b[0m\n\u001b[1;32m----> 2\u001b[1;33m \u001b[1;33m[\u001b[0m\u001b[0ms\u001b[0m\u001b[1;33m.\u001b[0m\u001b[0mcapitalize\u001b[0m\u001b[1;33m(\u001b[0m\u001b[1;33m)\u001b[0m \u001b[1;32mfor\u001b[0m \u001b[0ms\u001b[0m \u001b[1;32min\u001b[0m \u001b[0mdata\u001b[0m\u001b[1;33m]\u001b[0m\u001b[1;33m\u001b[0m\u001b[1;33m\u001b[0m\u001b[0m\n\u001b[0m",
      "\u001b[1;31mAttributeError\u001b[0m: 'NoneType' object has no attribute 'capitalize'"
     ]
    }
   ],
   "source": [
    "data = ['peter', 'Paul', None, 'MARY', 'gUIDO']\n",
    "[s.capitalize() for s in data]"
   ]
  },
  {
   "cell_type": "markdown",
   "metadata": {},
   "source": [
    "Pandas incluye características para abordar tanto esta necesidad de operaciones de cadenas vectorizadas como para manejar correctamente los datos faltantes a través del atributo ``str`` de los objetos ``Series`` de Pandas que contienen cadenas.\n",
    "\n",
    "Veámoslo con un ejemplo:"
   ]
  },
  {
   "cell_type": "code",
   "execution_count": 6,
   "metadata": {},
   "outputs": [
    {
     "data": {
      "text/plain": [
       "0    peter\n",
       "1     Paul\n",
       "2     None\n",
       "3     MARY\n",
       "4    gUIDO\n",
       "dtype: object"
      ]
     },
     "execution_count": 6,
     "metadata": {},
     "output_type": "execute_result"
    }
   ],
   "source": [
    "import pandas as pd\n",
    "names = pd.Series(data)\n",
    "names"
   ]
  },
  {
   "cell_type": "markdown",
   "metadata": {},
   "source": [
    "Ahora, si quisiéramos unificar el formato de los nombres para poder compararlos entre ellos y que queden bonitos, podríamos optar por convertirlos de forma que todos tuvieran su primera letra mayúscula y el resto en minúsculas.\n",
    "\n",
    "Con NumPy, hemos visto que esto no era posible por los valores nulos. Sin embargo, con Pandas es tan simple como:"
   ]
  },
  {
   "cell_type": "code",
   "execution_count": 7,
   "metadata": {},
   "outputs": [
    {
     "data": {
      "text/plain": [
       "0    Peter\n",
       "1     Paul\n",
       "2     None\n",
       "3     Mary\n",
       "4    Guido\n",
       "dtype: object"
      ]
     },
     "execution_count": 7,
     "metadata": {},
     "output_type": "execute_result"
    }
   ],
   "source": [
    "names.str.capitalize()"
   ]
  },
  {
   "cell_type": "markdown",
   "metadata": {},
   "source": [
    "Podemos hacer uso de las ventajas de los notebooks pulsando el ``Tabulador`` trasn escribir nuestro objeto ``Series`` seguido de ``.str.``, donde nos aparecerán todas las opciones posibles. Pruébalo en la sigueinte celda, simplemente ponte al final del ``.`` y pulsa la tecla ``Tabulador``:"
   ]
  },
  {
   "cell_type": "code",
   "execution_count": null,
   "metadata": {},
   "outputs": [],
   "source": [
    "names.str."
   ]
  },
  {
   "cell_type": "markdown",
   "metadata": {},
   "source": [
    "Además, los métodos ``str`` también nos sirven con los índices:"
   ]
  },
  {
   "cell_type": "code",
   "execution_count": 20,
   "metadata": {},
   "outputs": [
    {
     "name": "stdout",
     "output_type": "stream",
     "text": [
      "Index(['aaa', 'bBb', None, 'ddD', 'eee'], dtype='object')\n"
     ]
    },
    {
     "data": {
      "text/plain": [
       "Index(['Aaa', 'Bbb', None, 'Ddd', 'Eee'], dtype='object')"
      ]
     },
     "execution_count": 20,
     "metadata": {},
     "output_type": "execute_result"
    }
   ],
   "source": [
    "names.index = ['aaa', 'bBb', None, 'ddD', 'eee']\n",
    "print(names.index)\n",
    "names.index.str.capitalize()"
   ]
  },
  {
   "cell_type": "code",
   "execution_count": 21,
   "metadata": {},
   "outputs": [
    {
     "data": {
      "text/plain": [
       "Aaa    Peter\n",
       "Bbb     Paul\n",
       "NaN     None\n",
       "Ddd     Mary\n",
       "Eee    Guido\n",
       "dtype: object"
      ]
     },
     "execution_count": 21,
     "metadata": {},
     "output_type": "execute_result"
    }
   ],
   "source": [
    "names.index = names.index.str.capitalize()\n",
    "names.str.capitalize()"
   ]
  },
  {
   "cell_type": "markdown",
   "metadata": {},
   "source": [
    "## Tabla resumen de los métodos de Pandas para strings\n",
    "\n",
    "La mayoría de estos métodos se parecen a los vistos para las cadenas de texto de Python, por lo que nos resultará bastante intuitivo. Pero no sólo dispondremos de estos métodso, sino que habrá otros añadidos con los que les podremos sacar más jugo a las cadenas de texto.\n",
    "\n",
    "En esta sección, comenzaremos por los métodos comunes, pasaremos a las expresiones regulares, y terminaremos por otros métodos propios de los ``Series``."
   ]
  },
  {
   "cell_type": "code",
   "execution_count": 24,
   "metadata": {},
   "outputs": [],
   "source": [
    "monte = pd.Series(['Graham Chapman', 'John Cleese', 'Terry Gilliam',\n",
    "                   'Eric Idle', 'Terry Jones', 'Michael Palin'])"
   ]
  },
  {
   "cell_type": "markdown",
   "metadata": {},
   "source": [
    "### Métodos similares a Python\n",
    "\n",
    "Casi todos los métodos de Python para tratar strings han sido replicados por Pandas de forma vectorizada. A continuación, se recoge una lista con estos métodos, accesibles con el prefijo ``.str.``, como hemos visto anteriormente:\n",
    "\n",
    "|             |                  |                  |                  |\n",
    "|-------------|------------------|------------------|------------------|\n",
    "|``len()``    | ``lower()``      | ``translate()``  | ``islower()``    | \n",
    "|``ljust()``  | ``upper()``      | ``startswith()`` | ``isupper()``    | \n",
    "|``rjust()``  | ``find()``       | ``endswith()``   | ``isnumeric()``  | \n",
    "|``center()`` | ``rfind()``      | ``isalnum()``    | ``isdecimal()``  | \n",
    "|``zfill()``  | ``index()``      | ``isalpha()``    | ``split()``      | \n",
    "|``strip()``  | ``rindex()``     | ``isdigit()``    | ``rsplit()``     | \n",
    "|``rstrip()`` | ``capitalize()`` | ``isspace()``    | ``partition()``  | \n",
    "|``lstrip()`` |  ``swapcase()``  |  ``istitle()``   | ``rpartition()`` |\n",
    "\n",
    "\n",
    "Fíjate que, dado que estamos trabajando con operaciones vectorizadas sobre ``Series`` de strings, el resultado no será otro ``Series``.\n",
    "\n",
    "De strings (objects):"
   ]
  },
  {
   "cell_type": "code",
   "execution_count": 26,
   "metadata": {},
   "outputs": [
    {
     "data": {
      "text/plain": [
       "0    graham chapman\n",
       "1       john cleese\n",
       "2     terry gilliam\n",
       "3         eric idle\n",
       "4       terry jones\n",
       "5     michael palin\n",
       "dtype: object"
      ]
     },
     "execution_count": 26,
     "metadata": {},
     "output_type": "execute_result"
    }
   ],
   "source": [
    "monte.str.lower()"
   ]
  },
  {
   "cell_type": "markdown",
   "metadata": {},
   "source": [
    "Numérico:"
   ]
  },
  {
   "cell_type": "code",
   "execution_count": 27,
   "metadata": {},
   "outputs": [
    {
     "data": {
      "text/plain": [
       "0    14\n",
       "1    11\n",
       "2    13\n",
       "3     9\n",
       "4    11\n",
       "5    13\n",
       "dtype: int64"
      ]
     },
     "execution_count": 27,
     "metadata": {},
     "output_type": "execute_result"
    }
   ],
   "source": [
    "monte.str.len()"
   ]
  },
  {
   "cell_type": "markdown",
   "metadata": {},
   "source": [
    "Booleano:"
   ]
  },
  {
   "cell_type": "code",
   "execution_count": 28,
   "metadata": {},
   "outputs": [
    {
     "data": {
      "text/plain": [
       "0    False\n",
       "1    False\n",
       "2     True\n",
       "3    False\n",
       "4     True\n",
       "5    False\n",
       "dtype: bool"
      ]
     },
     "execution_count": 28,
     "metadata": {},
     "output_type": "execute_result"
    }
   ],
   "source": [
    "monte.str.startswith('T')"
   ]
  },
  {
   "cell_type": "markdown",
   "metadata": {},
   "source": [
    "Incluso otros tipos particulares, como listas:"
   ]
  },
  {
   "cell_type": "code",
   "execution_count": 29,
   "metadata": {},
   "outputs": [
    {
     "data": {
      "text/plain": [
       "0    [Graham, Chapman]\n",
       "1       [John, Cleese]\n",
       "2     [Terry, Gilliam]\n",
       "3         [Eric, Idle]\n",
       "4       [Terry, Jones]\n",
       "5     [Michael, Palin]\n",
       "dtype: object"
      ]
     },
     "execution_count": 29,
     "metadata": {},
     "output_type": "execute_result"
    }
   ],
   "source": [
    "monte.str.split()"
   ]
  },
  {
   "cell_type": "markdown",
   "metadata": {},
   "source": [
    "### Métodos usando expresiones regulares\n",
    "\n",
    "Ademñas, hay varios métodos que nos permitirán trabajar con expresiones regulares, que son patrones que nos permitirán encontrar coincidencias en el texto, como buscar todos los números que aparezcan en un string, o si una cadena empieza con un caracter en concreto. Estos métodos están basados en el módulo ``re``:\n",
    "\n",
    "| Method | Description |\n",
    "|--------|-------------|\n",
    "| ``match()`` | Llama a ``re.match()`` para cada elemento, devolviendo un booleano. |\n",
    "| ``extract()`` | Llama a ``re.match()`` para cada elemento, devolviendo los grupos de cadenas coincidentes.|\n",
    "| ``findall()`` | Llama a ``re.findall()`` para cada elemento. |\n",
    "| ``replace()`` | Reemplaza las ocurrencias del patrón por otro string. |\n",
    "| ``contains()`` | Llama a ``re.search()`` para cada elemento, devolviendo un booleano. |\n",
    "| ``count()`` | Cuenta las ocurrencias del patrón. |\n",
    "| ``split()``   | Equivalente a ``str.split()``, pero acepta expresiones regulares. |\n",
    "| ``rsplit()`` | Equivalente a ``str.rsplit()``, pero acepta expresiones regulares. |\n",
    "\n",
    "Si bien es cierto que esto es una herramienta muy potente, meternos a fondo con las expresiones regulares se sale de lo que buscamos en este curso, por lo que dejaremos algún ejemplo sencillo y, en el caso de necesitar algo más complejo, recurriremos a la documentación. Si quieres un sitio web donde está muy bien explicado, te dejo aquí el [enlace](https://www.programaenpython.com/miscelanea/expresiones-regulares/)."
   ]
  },
  {
   "cell_type": "markdown",
   "metadata": {},
   "source": [
    "Con estos métodos, podemos realizar una gran cantidad de operaciones interesantes.\n",
    "\n",
    "Por ejemplo, podemos extraer el nombre de cada uno pidiendo un grupo contiguo de caracteres al comienzo de cada elemento:"
   ]
  },
  {
   "cell_type": "code",
   "execution_count": 30,
   "metadata": {},
   "outputs": [
    {
     "data": {
      "text/plain": [
       "0     Graham\n",
       "1       John\n",
       "2      Terry\n",
       "3       Eric\n",
       "4      Terry\n",
       "5    Michael\n",
       "dtype: object"
      ]
     },
     "execution_count": 30,
     "metadata": {},
     "output_type": "execute_result"
    }
   ],
   "source": [
    "monte.str.extract('([A-Za-z]+)', expand=False)"
   ]
  },
  {
   "cell_type": "code",
   "execution_count": 40,
   "metadata": {},
   "outputs": [
    {
     "data": {
      "text/html": [
       "<div>\n",
       "<style scoped>\n",
       "    .dataframe tbody tr th:only-of-type {\n",
       "        vertical-align: middle;\n",
       "    }\n",
       "\n",
       "    .dataframe tbody tr th {\n",
       "        vertical-align: top;\n",
       "    }\n",
       "\n",
       "    .dataframe thead th {\n",
       "        text-align: right;\n",
       "    }\n",
       "</style>\n",
       "<table border=\"1\" class=\"dataframe\">\n",
       "  <thead>\n",
       "    <tr style=\"text-align: right;\">\n",
       "      <th></th>\n",
       "      <th>0</th>\n",
       "    </tr>\n",
       "  </thead>\n",
       "  <tbody>\n",
       "    <tr>\n",
       "      <th>0</th>\n",
       "      <td>Graham</td>\n",
       "    </tr>\n",
       "    <tr>\n",
       "      <th>1</th>\n",
       "      <td>John</td>\n",
       "    </tr>\n",
       "    <tr>\n",
       "      <th>2</th>\n",
       "      <td>Terry</td>\n",
       "    </tr>\n",
       "    <tr>\n",
       "      <th>3</th>\n",
       "      <td>Eric</td>\n",
       "    </tr>\n",
       "    <tr>\n",
       "      <th>4</th>\n",
       "      <td>Terry</td>\n",
       "    </tr>\n",
       "    <tr>\n",
       "      <th>5</th>\n",
       "      <td>Michael</td>\n",
       "    </tr>\n",
       "  </tbody>\n",
       "</table>\n",
       "</div>"
      ],
      "text/plain": [
       "         0\n",
       "0   Graham\n",
       "1     John\n",
       "2    Terry\n",
       "3     Eric\n",
       "4    Terry\n",
       "5  Michael"
      ]
     },
     "execution_count": 40,
     "metadata": {},
     "output_type": "execute_result"
    }
   ],
   "source": [
    "monte.str.extract('^([A-Za-z]+)')"
   ]
  },
  {
   "cell_type": "markdown",
   "metadata": {},
   "source": [
    "También podríamos extraer letras sueltas, como todas las ``a`` de cada nombre:"
   ]
  },
  {
   "cell_type": "code",
   "execution_count": 161,
   "metadata": {},
   "outputs": [
    {
     "data": {
      "text/plain": [
       "0    [a, a, a, a]\n",
       "1              []\n",
       "2             [a]\n",
       "3              []\n",
       "4              []\n",
       "5          [a, a]\n",
       "dtype: object"
      ]
     },
     "execution_count": 161,
     "metadata": {},
     "output_type": "execute_result"
    }
   ],
   "source": [
    "monte_a = monte.str.findall(r'a')\n",
    "monte_a"
   ]
  },
  {
   "cell_type": "markdown",
   "metadata": {},
   "source": [
    "### Para pensar...\n",
    "\n",
    "En vista de esto, ¿se te ocurre cómo podríamos extraer el número de ``a`` que tiene cada nombre? Podríamos usar el método ``apply`` para recorrer uno a uno los diferentes registros y hacer un recuento de los valores de cada lista:"
   ]
  },
  {
   "cell_type": "code",
   "execution_count": 162,
   "metadata": {},
   "outputs": [
    {
     "data": {
      "text/plain": [
       "0    4\n",
       "1    0\n",
       "2    1\n",
       "3    0\n",
       "4    0\n",
       "5    2\n",
       "dtype: int64"
      ]
     },
     "execution_count": 162,
     "metadata": {},
     "output_type": "execute_result"
    }
   ],
   "source": []
  },
  {
   "cell_type": "markdown",
   "metadata": {},
   "source": [
    "Podríamos complicarlo un poco, añadiendo ciertas condiciones, como quedarnos con las vocales de los nombres:"
   ]
  },
  {
   "cell_type": "code",
   "execution_count": 169,
   "metadata": {},
   "outputs": [
    {
     "data": {
      "text/plain": [
       "0       [a, a, a, a]\n",
       "1       [o, e, e, e]\n",
       "2       [e, i, i, a]\n",
       "3             [i, e]\n",
       "4          [e, o, e]\n",
       "5    [i, a, e, a, i]\n",
       "dtype: object"
      ]
     },
     "execution_count": 169,
     "metadata": {},
     "output_type": "execute_result"
    }
   ],
   "source": [
    "monte_a = monte.str.findall(r'[aeiou]')\n",
    "monte_a"
   ]
  },
  {
   "cell_type": "markdown",
   "metadata": {},
   "source": [
    "O podríamos hacer algo más complicado, como buscar todso los nombres que empiecen y terminen con una consonante, haciendo uso de los comandos especiales de inicio de string (``^``) o fin de string (``$``), además del comdín que fincionará como cualqueir caracter (``*``) o el punto (``.``) que nos permitirá repetir tantas veces como sean el caracter que le indiquemos a continuación. Cbe destacar, que el acento circunflejo (``^``) al comienzo de algo definido entre corchetes (``[]``) significa negación:"
   ]
  },
  {
   "cell_type": "code",
   "execution_count": 46,
   "metadata": {},
   "outputs": [
    {
     "data": {
      "text/plain": [
       "0    [Graham Chapman]\n",
       "1                  []\n",
       "2     [Terry Gilliam]\n",
       "3                  []\n",
       "4       [Terry Jones]\n",
       "5     [Michael Palin]\n",
       "dtype: object"
      ]
     },
     "execution_count": 46,
     "metadata": {},
     "output_type": "execute_result"
    }
   ],
   "source": [
    "monte.str.findall(r'^[^AEIOU].*[^aeiou]$')"
   ]
  },
  {
   "cell_type": "markdown",
   "metadata": {},
   "source": [
    "Como puedes ver, la posibilidad de utilizar expresiones regulares en nuestros tratamientos de datos abren un sinfín de posibilidades, auqneu ya te digo que no nos centraremos en ello como tal, sino que si necesitamos extraer algún patrón en concreto, nos dirigiremos a la documentación, ya que es un tema que puede llegar a ser muy complejo y variante, en función de lo que queramos obtener."
   ]
  },
  {
   "cell_type": "markdown",
   "metadata": {},
   "source": [
    "### Métodos misceláneos\n",
    "\n",
    "Finalmente, también tenemos otros métodos que no podemos cuadrar en nignuna de los 2 puntos anteriores, lo que denominaremos métodso misceláneos, que nos posibilitan realizar otras operaciones:\n",
    "\n",
    "| Method | Description |\n",
    "|--------|-------------|\n",
    "| ``get()`` | Devuelve cada elemento según su índice |\n",
    "| ``slice()`` | Slice de cada elemento |\n",
    "| ``slice_replace()`` | Reemplaza cada slice en cada elemento con el valor pasado |\n",
    "| ``cat()``      | Concatena strings |\n",
    "| ``repeat()`` | Repite valores |\n",
    "| ``normalize()`` | Devuelve el Unicode de un string |\n",
    "| ``pad()`` | Añade un espacio en blanco a la izquierda, derecha, o ambos lados de los strings |\n",
    "| ``wrap()`` | Divida las cadenas largas en líneas con una longitud menor que el ancho determinado |\n",
    "| ``join()`` | Une las cadenas de cada elemento de un ``Series`` con el separador indicado |\n",
    "| ``get_dummies()`` | Extrae las variables dummy como un ``DataFrame`` (hace grupos con los valores) |"
   ]
  },
  {
   "cell_type": "markdown",
   "metadata": {},
   "source": [
    "Las operaciones ``get()`` y ``slice()``, permiten el acceso vectorizado a elementos de cada matriz.\n",
    "\n",
    "Por ejemplo, podemos obtener un slice de los 3 primeros caracteres de cada array usando ``str.slice(0, 3)``.\n",
    "\n",
    "*Nota:* teniendo en mente cómo funcionaba el slicing de Python, esto sería equivalente a usar ``df.str[0:3]``"
   ]
  },
  {
   "cell_type": "code",
   "execution_count": 51,
   "metadata": {},
   "outputs": [
    {
     "data": {
      "text/plain": [
       "0    Gra\n",
       "1    Joh\n",
       "2    Ter\n",
       "3    Eri\n",
       "4    Ter\n",
       "5    Mic\n",
       "dtype: object"
      ]
     },
     "execution_count": 51,
     "metadata": {},
     "output_type": "execute_result"
    }
   ],
   "source": [
    "monte.str.slice(0, 3)"
   ]
  },
  {
   "cell_type": "code",
   "execution_count": 52,
   "metadata": {},
   "outputs": [
    {
     "data": {
      "text/plain": [
       "0    Gra\n",
       "1    Joh\n",
       "2    Ter\n",
       "3    Eri\n",
       "4    Ter\n",
       "5    Mic\n",
       "dtype: object"
      ]
     },
     "execution_count": 52,
     "metadata": {},
     "output_type": "execute_result"
    }
   ],
   "source": [
    "monte.str[0:3]"
   ]
  },
  {
   "cell_type": "markdown",
   "metadata": {},
   "source": [
    "Indexar mediante ``df.str.get(i)`` y ``df.str[i]`` es bastante similar.\n",
    "\n",
    "Los métodos ``get()`` y ``slice()`` se pueden combinar para acceder a los elementos de los arrays devueltos por ``split()``.\n",
    "\n",
    "For example, para extraer el último nombre de cada entrada, podemos hacer lo sigueinte:"
   ]
  },
  {
   "cell_type": "code",
   "execution_count": 53,
   "metadata": {},
   "outputs": [
    {
     "data": {
      "text/plain": [
       "0    Chapman\n",
       "1     Cleese\n",
       "2    Gilliam\n",
       "3       Idle\n",
       "4      Jones\n",
       "5      Palin\n",
       "dtype: object"
      ]
     },
     "execution_count": 53,
     "metadata": {},
     "output_type": "execute_result"
    }
   ],
   "source": [
    "monte.str.split().str.get(-1)"
   ]
  },
  {
   "cell_type": "markdown",
   "metadata": {},
   "source": [
    "Otro método que requiere un poco más de atención es el método `` get_dummies () ``.\n",
    "\n",
    "Lo usaremos cuando nuestros datos tienen una columna que contiene algún tipo de indicador codificado.\n",
    "\n",
    "Por ejemplo, podríamos tener un conjunto de datos que contenga información en forma de códigos (variables categóricas), como A = \"nacido en España,\" B = \"nacido en el extranjero,\" C = \"le gusta la montaña,\" D = \"le gustan los videojuegos\":"
   ]
  },
  {
   "cell_type": "code",
   "execution_count": 54,
   "metadata": {},
   "outputs": [
    {
     "data": {
      "text/html": [
       "<div>\n",
       "<style scoped>\n",
       "    .dataframe tbody tr th:only-of-type {\n",
       "        vertical-align: middle;\n",
       "    }\n",
       "\n",
       "    .dataframe tbody tr th {\n",
       "        vertical-align: top;\n",
       "    }\n",
       "\n",
       "    .dataframe thead th {\n",
       "        text-align: right;\n",
       "    }\n",
       "</style>\n",
       "<table border=\"1\" class=\"dataframe\">\n",
       "  <thead>\n",
       "    <tr style=\"text-align: right;\">\n",
       "      <th></th>\n",
       "      <th>name</th>\n",
       "      <th>info</th>\n",
       "    </tr>\n",
       "  </thead>\n",
       "  <tbody>\n",
       "    <tr>\n",
       "      <th>0</th>\n",
       "      <td>Graham Chapman</td>\n",
       "      <td>B|C|D</td>\n",
       "    </tr>\n",
       "    <tr>\n",
       "      <th>1</th>\n",
       "      <td>John Cleese</td>\n",
       "      <td>B|D</td>\n",
       "    </tr>\n",
       "    <tr>\n",
       "      <th>2</th>\n",
       "      <td>Terry Gilliam</td>\n",
       "      <td>A|C</td>\n",
       "    </tr>\n",
       "    <tr>\n",
       "      <th>3</th>\n",
       "      <td>Eric Idle</td>\n",
       "      <td>B|D</td>\n",
       "    </tr>\n",
       "    <tr>\n",
       "      <th>4</th>\n",
       "      <td>Terry Jones</td>\n",
       "      <td>B|C</td>\n",
       "    </tr>\n",
       "    <tr>\n",
       "      <th>5</th>\n",
       "      <td>Michael Palin</td>\n",
       "      <td>B|C|D</td>\n",
       "    </tr>\n",
       "  </tbody>\n",
       "</table>\n",
       "</div>"
      ],
      "text/plain": [
       "             name   info\n",
       "0  Graham Chapman  B|C|D\n",
       "1     John Cleese    B|D\n",
       "2   Terry Gilliam    A|C\n",
       "3       Eric Idle    B|D\n",
       "4     Terry Jones    B|C\n",
       "5   Michael Palin  B|C|D"
      ]
     },
     "execution_count": 54,
     "metadata": {},
     "output_type": "execute_result"
    }
   ],
   "source": [
    "full_monte = pd.DataFrame({'name': monte,\n",
    "                           'info': ['B|C|D', 'B|D', 'A|C',\n",
    "                                    'B|D', 'B|C', 'B|C|D']})\n",
    "full_monte"
   ]
  },
  {
   "cell_type": "markdown",
   "metadata": {},
   "source": [
    "El métodp ``get_dummies()`` nos permite separar rápidamente en variables de un ``DataFrame`` estos indicadores puestos en forma de string:"
   ]
  },
  {
   "cell_type": "code",
   "execution_count": 55,
   "metadata": {},
   "outputs": [
    {
     "data": {
      "text/html": [
       "<div>\n",
       "<style scoped>\n",
       "    .dataframe tbody tr th:only-of-type {\n",
       "        vertical-align: middle;\n",
       "    }\n",
       "\n",
       "    .dataframe tbody tr th {\n",
       "        vertical-align: top;\n",
       "    }\n",
       "\n",
       "    .dataframe thead th {\n",
       "        text-align: right;\n",
       "    }\n",
       "</style>\n",
       "<table border=\"1\" class=\"dataframe\">\n",
       "  <thead>\n",
       "    <tr style=\"text-align: right;\">\n",
       "      <th></th>\n",
       "      <th>A</th>\n",
       "      <th>B</th>\n",
       "      <th>C</th>\n",
       "      <th>D</th>\n",
       "    </tr>\n",
       "  </thead>\n",
       "  <tbody>\n",
       "    <tr>\n",
       "      <th>0</th>\n",
       "      <td>0</td>\n",
       "      <td>1</td>\n",
       "      <td>1</td>\n",
       "      <td>1</td>\n",
       "    </tr>\n",
       "    <tr>\n",
       "      <th>1</th>\n",
       "      <td>0</td>\n",
       "      <td>1</td>\n",
       "      <td>0</td>\n",
       "      <td>1</td>\n",
       "    </tr>\n",
       "    <tr>\n",
       "      <th>2</th>\n",
       "      <td>1</td>\n",
       "      <td>0</td>\n",
       "      <td>1</td>\n",
       "      <td>0</td>\n",
       "    </tr>\n",
       "    <tr>\n",
       "      <th>3</th>\n",
       "      <td>0</td>\n",
       "      <td>1</td>\n",
       "      <td>0</td>\n",
       "      <td>1</td>\n",
       "    </tr>\n",
       "    <tr>\n",
       "      <th>4</th>\n",
       "      <td>0</td>\n",
       "      <td>1</td>\n",
       "      <td>1</td>\n",
       "      <td>0</td>\n",
       "    </tr>\n",
       "    <tr>\n",
       "      <th>5</th>\n",
       "      <td>0</td>\n",
       "      <td>1</td>\n",
       "      <td>1</td>\n",
       "      <td>1</td>\n",
       "    </tr>\n",
       "  </tbody>\n",
       "</table>\n",
       "</div>"
      ],
      "text/plain": [
       "   A  B  C  D\n",
       "0  0  1  1  1\n",
       "1  0  1  0  1\n",
       "2  1  0  1  0\n",
       "3  0  1  0  1\n",
       "4  0  1  1  0\n",
       "5  0  1  1  1"
      ]
     },
     "execution_count": 55,
     "metadata": {},
     "output_type": "execute_result"
    }
   ],
   "source": [
    "full_monte['info'].str.get_dummies('|')"
   ]
  },
  {
   "cell_type": "markdown",
   "metadata": {},
   "source": [
    "Con esto ganamos mucha flexibilidad a la hora de estudiar y procesar nuestros conjuntos de datos con strings.\n",
    "\n",
    "\n",
    "## Ejercicios:\n",
    "\n",
    "Léete el fichero \"FIFA20_mod.csv\" y realiza algunas operaciones:\n",
    "1. Créate una columna con el nombre del \"club\" en mayúsculas. Comprueba que realmente has cambiado el nombre a mayúsculas en otra columna utilizando el método adecuado (equivalente en Python)\n",
    "2. Créate otra columna nueva con el \"team_position\" en minúsculas y comprueba, como has hecho antes, que realmente está en minúsculas.\n",
    "3. Si te fijas, los nombres \"long_name\" han sufrido modificaciones en este fichero. Utiliza alguna de las funciones comunes entre Pandas y Python que hemos visto para ponerlo todo de modo que la primera letra de cada palabra sea mayúscula, y el resto minúsculas (hay un método concreto para eso).\n",
    "4. Resulta que hay otro cambio más respecto al fichero original, y es que la columna 'overall' no es de tipo entero, ya que se han colado un punto y unos espacios delante de su valor. Guárdate los valores de la columna en una varaible (que será de tipo ``Series``) y quítale el punto con el método ``replace``. A continuación, al objeto ``Series`` que devuelve esta función, elimínale los espacios de la izquierda (que son los que estaban entre el punto y el número). Para ello busca la función en la tabla de funciones de Pandas similares a Python. Tras ello, comprueba que son dígitos (con una de las funciones de esa misma tabla). El resultado deberá ser un ``Series`` con valores a ``True`` o ``False`` en función de que sean dígitos o no. Recuerda que para acceder a estas funciones debemos poner el ``.str.`` entre nuestro objeto ``Series`` y la función.\n",
    "5. Tras hacer el ejercicio anterior, te darás cuenta de que no todos son dígitos (en realidad, ninguno lo será). Muestra por pantalla el primer elemento a ver si te da una pista de lo que está ocurriendo. Cuando identifiques qué tiene de más que le hace no ser un dígito, elimínalo con la función correspondiente y vuelve a comprobar si ya está solucionado el problema con la función que has utilizado antes.\n",
    "6. Volvamos sobre los nombres de los futbolistas. Utiliza una expresión regular para obtener un objeto ``Series`` con las vocales de los nombres (\"long_name\") de cada uno de los futbolistas. Haz el recuento de vocales en otro objeto ``Series``.\n",
    "7. Utiliza una de las funcinoes que hemos visto para crear otro ``DataFrame`` con diferentes columnas que indiquen el \"team_position\" de cada jugador."
   ]
  },
  {
   "cell_type": "code",
   "execution_count": 189,
   "metadata": {
    "collapsed": true,
    "jupyter": {
     "outputs_hidden": true
    }
   },
   "outputs": [
    {
     "data": {
      "text/html": [
       "<div>\n",
       "<style scoped>\n",
       "    .dataframe tbody tr th:only-of-type {\n",
       "        vertical-align: middle;\n",
       "    }\n",
       "\n",
       "    .dataframe tbody tr th {\n",
       "        vertical-align: top;\n",
       "    }\n",
       "\n",
       "    .dataframe thead th {\n",
       "        text-align: right;\n",
       "    }\n",
       "</style>\n",
       "<table border=\"1\" class=\"dataframe\">\n",
       "  <thead>\n",
       "    <tr style=\"text-align: right;\">\n",
       "      <th></th>\n",
       "      <th>short_name</th>\n",
       "      <th>long_name</th>\n",
       "      <th>dob</th>\n",
       "      <th>club</th>\n",
       "      <th>overall</th>\n",
       "      <th>potential</th>\n",
       "      <th>value_eur</th>\n",
       "      <th>wage_eur</th>\n",
       "      <th>team_position</th>\n",
       "      <th>preferred_foot</th>\n",
       "      <th>influencer</th>\n",
       "    </tr>\n",
       "  </thead>\n",
       "  <tbody>\n",
       "    <tr>\n",
       "      <th>0</th>\n",
       "      <td>L. Messi</td>\n",
       "      <td>lionel andrés messi cuccittini</td>\n",
       "      <td>1987-06-24</td>\n",
       "      <td>FC Barcelona</td>\n",
       "      <td>. 94</td>\n",
       "      <td>94</td>\n",
       "      <td>95500000</td>\n",
       "      <td>565000</td>\n",
       "      <td>RW</td>\n",
       "      <td>Left</td>\n",
       "      <td>True</td>\n",
       "    </tr>\n",
       "    <tr>\n",
       "      <th>1</th>\n",
       "      <td>Cristiano Ronaldo</td>\n",
       "      <td>CRISTIANO RONALDO DOS SANTOS AVEIRO</td>\n",
       "      <td>1985-02-05</td>\n",
       "      <td>Juventus</td>\n",
       "      <td>. 93</td>\n",
       "      <td>93</td>\n",
       "      <td>58500000</td>\n",
       "      <td>405000</td>\n",
       "      <td>LW</td>\n",
       "      <td>Right</td>\n",
       "      <td>True</td>\n",
       "    </tr>\n",
       "    <tr>\n",
       "      <th>2</th>\n",
       "      <td>Neymar Jr</td>\n",
       "      <td>NEYMAR DA SILVA SANTOS JUNIOR</td>\n",
       "      <td>1992-02-05</td>\n",
       "      <td>Paris Saint-Germain</td>\n",
       "      <td>. 92</td>\n",
       "      <td>92</td>\n",
       "      <td>105500000</td>\n",
       "      <td>290000</td>\n",
       "      <td>CAM</td>\n",
       "      <td>Right</td>\n",
       "      <td>True</td>\n",
       "    </tr>\n",
       "    <tr>\n",
       "      <th>3</th>\n",
       "      <td>J. Oblak</td>\n",
       "      <td>Jan oblak</td>\n",
       "      <td>1993-01-07</td>\n",
       "      <td>Atlético Madrid</td>\n",
       "      <td>. 91</td>\n",
       "      <td>93</td>\n",
       "      <td>77500000</td>\n",
       "      <td>125000</td>\n",
       "      <td>GK</td>\n",
       "      <td>Right</td>\n",
       "      <td>False</td>\n",
       "    </tr>\n",
       "    <tr>\n",
       "      <th>4</th>\n",
       "      <td>E. Hazard</td>\n",
       "      <td>Eden hazard</td>\n",
       "      <td>1991-01-07</td>\n",
       "      <td>Real Madrid</td>\n",
       "      <td>. 91</td>\n",
       "      <td>91</td>\n",
       "      <td>90000000</td>\n",
       "      <td>470000</td>\n",
       "      <td>LW</td>\n",
       "      <td>Right</td>\n",
       "      <td>True</td>\n",
       "    </tr>\n",
       "    <tr>\n",
       "      <th>...</th>\n",
       "      <td>...</td>\n",
       "      <td>...</td>\n",
       "      <td>...</td>\n",
       "      <td>...</td>\n",
       "      <td>...</td>\n",
       "      <td>...</td>\n",
       "      <td>...</td>\n",
       "      <td>...</td>\n",
       "      <td>...</td>\n",
       "      <td>...</td>\n",
       "      <td>...</td>\n",
       "    </tr>\n",
       "    <tr>\n",
       "      <th>18273</th>\n",
       "      <td>Shao Shuai</td>\n",
       "      <td>邵帅</td>\n",
       "      <td>1997-03-10</td>\n",
       "      <td>Beijing Renhe FC</td>\n",
       "      <td>. 48</td>\n",
       "      <td>56</td>\n",
       "      <td>40000</td>\n",
       "      <td>2000</td>\n",
       "      <td>RES</td>\n",
       "      <td>Right</td>\n",
       "      <td>False</td>\n",
       "    </tr>\n",
       "    <tr>\n",
       "      <th>18274</th>\n",
       "      <td>Xiao Mingjie</td>\n",
       "      <td>MINGJIE XIAO</td>\n",
       "      <td>1997-01-01</td>\n",
       "      <td>Shanghai SIPG FC</td>\n",
       "      <td>. 48</td>\n",
       "      <td>56</td>\n",
       "      <td>40000</td>\n",
       "      <td>2000</td>\n",
       "      <td>SUB</td>\n",
       "      <td>Right</td>\n",
       "      <td>False</td>\n",
       "    </tr>\n",
       "    <tr>\n",
       "      <th>18275</th>\n",
       "      <td>Zhang Wei</td>\n",
       "      <td>张威</td>\n",
       "      <td>2000-05-16</td>\n",
       "      <td>Hebei China Fortune FC</td>\n",
       "      <td>. 48</td>\n",
       "      <td>56</td>\n",
       "      <td>40000</td>\n",
       "      <td>1000</td>\n",
       "      <td>SUB</td>\n",
       "      <td>Right</td>\n",
       "      <td>False</td>\n",
       "    </tr>\n",
       "    <tr>\n",
       "      <th>18276</th>\n",
       "      <td>Wang Haijian</td>\n",
       "      <td>汪海健</td>\n",
       "      <td>2000-08-02</td>\n",
       "      <td>Shanghai Greenland Shenhua FC</td>\n",
       "      <td>. 48</td>\n",
       "      <td>54</td>\n",
       "      <td>40000</td>\n",
       "      <td>1000</td>\n",
       "      <td>SUB</td>\n",
       "      <td>Right</td>\n",
       "      <td>False</td>\n",
       "    </tr>\n",
       "    <tr>\n",
       "      <th>18277</th>\n",
       "      <td>Pan Ximing</td>\n",
       "      <td>潘喜明</td>\n",
       "      <td>1993-01-11</td>\n",
       "      <td>Hebei China Fortune FC</td>\n",
       "      <td>. 48</td>\n",
       "      <td>51</td>\n",
       "      <td>40000</td>\n",
       "      <td>2000</td>\n",
       "      <td>SUB</td>\n",
       "      <td>Right</td>\n",
       "      <td>False</td>\n",
       "    </tr>\n",
       "  </tbody>\n",
       "</table>\n",
       "<p>18278 rows × 11 columns</p>\n",
       "</div>"
      ],
      "text/plain": [
       "              short_name                            long_name         dob  \\\n",
       "0               L. Messi       lionel andrés messi cuccittini  1987-06-24   \n",
       "1      Cristiano Ronaldo  CRISTIANO RONALDO DOS SANTOS AVEIRO  1985-02-05   \n",
       "2              Neymar Jr        NEYMAR DA SILVA SANTOS JUNIOR  1992-02-05   \n",
       "3               J. Oblak                            Jan oblak  1993-01-07   \n",
       "4              E. Hazard                          Eden hazard  1991-01-07   \n",
       "...                  ...                                  ...         ...   \n",
       "18273         Shao Shuai                                   邵帅  1997-03-10   \n",
       "18274       Xiao Mingjie                         MINGJIE XIAO  1997-01-01   \n",
       "18275          Zhang Wei                                   张威  2000-05-16   \n",
       "18276       Wang Haijian                                  汪海健  2000-08-02   \n",
       "18277         Pan Ximing                                  潘喜明  1993-01-11   \n",
       "\n",
       "                                club  overall  potential  value_eur  wage_eur  \\\n",
       "0                       FC Barcelona  . 94            94   95500000    565000   \n",
       "1                           Juventus  . 93            93   58500000    405000   \n",
       "2                Paris Saint-Germain  . 92            92  105500000    290000   \n",
       "3                    Atlético Madrid  . 91            93   77500000    125000   \n",
       "4                        Real Madrid  . 91            91   90000000    470000   \n",
       "...                              ...      ...        ...        ...       ...   \n",
       "18273               Beijing Renhe FC  . 48            56      40000      2000   \n",
       "18274               Shanghai SIPG FC  . 48            56      40000      2000   \n",
       "18275         Hebei China Fortune FC  . 48            56      40000      1000   \n",
       "18276  Shanghai Greenland Shenhua FC  . 48            54      40000      1000   \n",
       "18277         Hebei China Fortune FC  . 48            51      40000      2000   \n",
       "\n",
       "      team_position preferred_foot  influencer  \n",
       "0                RW           Left        True  \n",
       "1                LW          Right        True  \n",
       "2               CAM          Right        True  \n",
       "3                GK          Right       False  \n",
       "4                LW          Right        True  \n",
       "...             ...            ...         ...  \n",
       "18273           RES          Right       False  \n",
       "18274           SUB          Right       False  \n",
       "18275           SUB          Right       False  \n",
       "18276           SUB          Right       False  \n",
       "18277           SUB          Right       False  \n",
       "\n",
       "[18278 rows x 11 columns]"
      ]
     },
     "execution_count": 189,
     "metadata": {},
     "output_type": "execute_result"
    }
   ],
   "source": [
    "df = pd.read_csv(\"FIFA20_mod.csv\")\n",
    "df"
   ]
  },
  {
   "cell_type": "code",
   "execution_count": 198,
   "metadata": {},
   "outputs": [
    {
     "data": {
      "text/plain": [
       "0        True\n",
       "1        True\n",
       "2        True\n",
       "3        True\n",
       "4        True\n",
       "         ... \n",
       "18273    True\n",
       "18274    True\n",
       "18275    True\n",
       "18276    True\n",
       "18277    True\n",
       "Name: club_mayus, Length: 18278, dtype: bool"
      ]
     },
     "execution_count": 198,
     "metadata": {},
     "output_type": "execute_result"
    }
   ],
   "source": [
    "# 1. \n",
    "df['club_mayus'] = df['club'].str.upper()\n",
    "df['club_mayus'].str.isupper()\n",
    "# df['club_mayus'].str.isupper().all()"
   ]
  },
  {
   "cell_type": "code",
   "execution_count": 199,
   "metadata": {},
   "outputs": [
    {
     "data": {
      "text/plain": [
       "0        True\n",
       "1        True\n",
       "2        True\n",
       "3        True\n",
       "4        True\n",
       "         ... \n",
       "18273    True\n",
       "18274    True\n",
       "18275    True\n",
       "18276    True\n",
       "18277    True\n",
       "Name: club_minus, Length: 18278, dtype: bool"
      ]
     },
     "execution_count": 199,
     "metadata": {},
     "output_type": "execute_result"
    }
   ],
   "source": [
    "# 2. \n",
    "df['club_minus'] = df['club'].str.lower()\n",
    "df['club_minus'].str.islower()\n",
    "# df['club_minus'].str.islower().all()"
   ]
  },
  {
   "cell_type": "code",
   "execution_count": 201,
   "metadata": {},
   "outputs": [
    {
     "data": {
      "text/plain": [
       "0             Lionel Andrés Messi Cuccittini\n",
       "1        Cristiano Ronaldo Dos Santos Aveiro\n",
       "2              Neymar Da Silva Santos Junior\n",
       "3                                  Jan Oblak\n",
       "4                                Eden Hazard\n",
       "                        ...                 \n",
       "18273                                     邵帅\n",
       "18274                           Mingjie Xiao\n",
       "18275                                     张威\n",
       "18276                                    汪海健\n",
       "18277                                    潘喜明\n",
       "Name: long_name, Length: 18278, dtype: object"
      ]
     },
     "execution_count": 201,
     "metadata": {},
     "output_type": "execute_result"
    }
   ],
   "source": [
    "# 3. \n",
    "df['long_name'] = df['long_name'].str.title()\n",
    "df['long_name']"
   ]
  },
  {
   "cell_type": "code",
   "execution_count": 203,
   "metadata": {},
   "outputs": [
    {
     "data": {
      "text/plain": [
       "0        False\n",
       "1        False\n",
       "2        False\n",
       "3        False\n",
       "4        False\n",
       "         ...  \n",
       "18273    False\n",
       "18274    False\n",
       "18275    False\n",
       "18276    False\n",
       "18277    False\n",
       "Name: overall, Length: 18278, dtype: bool"
      ]
     },
     "execution_count": 203,
     "metadata": {},
     "output_type": "execute_result"
    }
   ],
   "source": [
    "# 4. \n",
    "df['overall'] = df['overall'].str.replace('.', '').str.lstrip()\n",
    "df['overall'].str.isdigit()"
   ]
  },
  {
   "cell_type": "code",
   "execution_count": 204,
   "metadata": {},
   "outputs": [
    {
     "data": {
      "text/plain": [
       "0        True\n",
       "1        True\n",
       "2        True\n",
       "3        True\n",
       "4        True\n",
       "         ... \n",
       "18273    True\n",
       "18274    True\n",
       "18275    True\n",
       "18276    True\n",
       "18277    True\n",
       "Name: overall, Length: 18278, dtype: bool"
      ]
     },
     "execution_count": 204,
     "metadata": {},
     "output_type": "execute_result"
    }
   ],
   "source": [
    "# 5. \n",
    "df['overall'] = df['overall'].str.rstrip()\n",
    "df['overall'].str.isdigit()"
   ]
  },
  {
   "cell_type": "code",
   "execution_count": 209,
   "metadata": {},
   "outputs": [
    {
     "data": {
      "text/plain": [
       "0         9\n",
       "1        13\n",
       "2        10\n",
       "3         2\n",
       "4         3\n",
       "         ..\n",
       "18273     0\n",
       "18274     6\n",
       "18275     0\n",
       "18276     0\n",
       "18277     0\n",
       "Name: long_name, Length: 18278, dtype: int64"
      ]
     },
     "execution_count": 209,
     "metadata": {},
     "output_type": "execute_result"
    }
   ],
   "source": [
    "# 6. \n",
    "ser6 = df['long_name'].str.findall('[aeiou]')\n",
    "ser6.apply(lambda x: len(x))"
   ]
  },
  {
   "cell_type": "code",
   "execution_count": 211,
   "metadata": {},
   "outputs": [
    {
     "data": {
      "text/html": [
       "<div>\n",
       "<style scoped>\n",
       "    .dataframe tbody tr th:only-of-type {\n",
       "        vertical-align: middle;\n",
       "    }\n",
       "\n",
       "    .dataframe tbody tr th {\n",
       "        vertical-align: top;\n",
       "    }\n",
       "\n",
       "    .dataframe thead th {\n",
       "        text-align: right;\n",
       "    }\n",
       "</style>\n",
       "<table border=\"1\" class=\"dataframe\">\n",
       "  <thead>\n",
       "    <tr style=\"text-align: right;\">\n",
       "      <th></th>\n",
       "      <th>CAM</th>\n",
       "      <th>CB</th>\n",
       "      <th>CDM</th>\n",
       "      <th>CF</th>\n",
       "      <th>CM</th>\n",
       "      <th>GK</th>\n",
       "      <th>LAM</th>\n",
       "      <th>LB</th>\n",
       "      <th>LCB</th>\n",
       "      <th>LCM</th>\n",
       "      <th>...</th>\n",
       "      <th>RDM</th>\n",
       "      <th>RES</th>\n",
       "      <th>RF</th>\n",
       "      <th>RM</th>\n",
       "      <th>RS</th>\n",
       "      <th>RW</th>\n",
       "      <th>RWB</th>\n",
       "      <th>ST</th>\n",
       "      <th>SUB</th>\n",
       "      <th>jugador</th>\n",
       "    </tr>\n",
       "  </thead>\n",
       "  <tbody>\n",
       "    <tr>\n",
       "      <th>0</th>\n",
       "      <td>0</td>\n",
       "      <td>0</td>\n",
       "      <td>0</td>\n",
       "      <td>0</td>\n",
       "      <td>0</td>\n",
       "      <td>0</td>\n",
       "      <td>0</td>\n",
       "      <td>0</td>\n",
       "      <td>0</td>\n",
       "      <td>0</td>\n",
       "      <td>...</td>\n",
       "      <td>0</td>\n",
       "      <td>0</td>\n",
       "      <td>0</td>\n",
       "      <td>0</td>\n",
       "      <td>0</td>\n",
       "      <td>1</td>\n",
       "      <td>0</td>\n",
       "      <td>0</td>\n",
       "      <td>0</td>\n",
       "      <td>Lionel Andrés Messi Cuccittini</td>\n",
       "    </tr>\n",
       "    <tr>\n",
       "      <th>1</th>\n",
       "      <td>0</td>\n",
       "      <td>0</td>\n",
       "      <td>0</td>\n",
       "      <td>0</td>\n",
       "      <td>0</td>\n",
       "      <td>0</td>\n",
       "      <td>0</td>\n",
       "      <td>0</td>\n",
       "      <td>0</td>\n",
       "      <td>0</td>\n",
       "      <td>...</td>\n",
       "      <td>0</td>\n",
       "      <td>0</td>\n",
       "      <td>0</td>\n",
       "      <td>0</td>\n",
       "      <td>0</td>\n",
       "      <td>0</td>\n",
       "      <td>0</td>\n",
       "      <td>0</td>\n",
       "      <td>0</td>\n",
       "      <td>Cristiano Ronaldo Dos Santos Aveiro</td>\n",
       "    </tr>\n",
       "    <tr>\n",
       "      <th>2</th>\n",
       "      <td>1</td>\n",
       "      <td>0</td>\n",
       "      <td>0</td>\n",
       "      <td>0</td>\n",
       "      <td>0</td>\n",
       "      <td>0</td>\n",
       "      <td>0</td>\n",
       "      <td>0</td>\n",
       "      <td>0</td>\n",
       "      <td>0</td>\n",
       "      <td>...</td>\n",
       "      <td>0</td>\n",
       "      <td>0</td>\n",
       "      <td>0</td>\n",
       "      <td>0</td>\n",
       "      <td>0</td>\n",
       "      <td>0</td>\n",
       "      <td>0</td>\n",
       "      <td>0</td>\n",
       "      <td>0</td>\n",
       "      <td>Neymar Da Silva Santos Junior</td>\n",
       "    </tr>\n",
       "    <tr>\n",
       "      <th>3</th>\n",
       "      <td>0</td>\n",
       "      <td>0</td>\n",
       "      <td>0</td>\n",
       "      <td>0</td>\n",
       "      <td>0</td>\n",
       "      <td>1</td>\n",
       "      <td>0</td>\n",
       "      <td>0</td>\n",
       "      <td>0</td>\n",
       "      <td>0</td>\n",
       "      <td>...</td>\n",
       "      <td>0</td>\n",
       "      <td>0</td>\n",
       "      <td>0</td>\n",
       "      <td>0</td>\n",
       "      <td>0</td>\n",
       "      <td>0</td>\n",
       "      <td>0</td>\n",
       "      <td>0</td>\n",
       "      <td>0</td>\n",
       "      <td>Jan Oblak</td>\n",
       "    </tr>\n",
       "    <tr>\n",
       "      <th>4</th>\n",
       "      <td>0</td>\n",
       "      <td>0</td>\n",
       "      <td>0</td>\n",
       "      <td>0</td>\n",
       "      <td>0</td>\n",
       "      <td>0</td>\n",
       "      <td>0</td>\n",
       "      <td>0</td>\n",
       "      <td>0</td>\n",
       "      <td>0</td>\n",
       "      <td>...</td>\n",
       "      <td>0</td>\n",
       "      <td>0</td>\n",
       "      <td>0</td>\n",
       "      <td>0</td>\n",
       "      <td>0</td>\n",
       "      <td>0</td>\n",
       "      <td>0</td>\n",
       "      <td>0</td>\n",
       "      <td>0</td>\n",
       "      <td>Eden Hazard</td>\n",
       "    </tr>\n",
       "    <tr>\n",
       "      <th>...</th>\n",
       "      <td>...</td>\n",
       "      <td>...</td>\n",
       "      <td>...</td>\n",
       "      <td>...</td>\n",
       "      <td>...</td>\n",
       "      <td>...</td>\n",
       "      <td>...</td>\n",
       "      <td>...</td>\n",
       "      <td>...</td>\n",
       "      <td>...</td>\n",
       "      <td>...</td>\n",
       "      <td>...</td>\n",
       "      <td>...</td>\n",
       "      <td>...</td>\n",
       "      <td>...</td>\n",
       "      <td>...</td>\n",
       "      <td>...</td>\n",
       "      <td>...</td>\n",
       "      <td>...</td>\n",
       "      <td>...</td>\n",
       "      <td>...</td>\n",
       "    </tr>\n",
       "    <tr>\n",
       "      <th>18273</th>\n",
       "      <td>0</td>\n",
       "      <td>0</td>\n",
       "      <td>0</td>\n",
       "      <td>0</td>\n",
       "      <td>0</td>\n",
       "      <td>0</td>\n",
       "      <td>0</td>\n",
       "      <td>0</td>\n",
       "      <td>0</td>\n",
       "      <td>0</td>\n",
       "      <td>...</td>\n",
       "      <td>0</td>\n",
       "      <td>1</td>\n",
       "      <td>0</td>\n",
       "      <td>0</td>\n",
       "      <td>0</td>\n",
       "      <td>0</td>\n",
       "      <td>0</td>\n",
       "      <td>0</td>\n",
       "      <td>0</td>\n",
       "      <td>邵帅</td>\n",
       "    </tr>\n",
       "    <tr>\n",
       "      <th>18274</th>\n",
       "      <td>0</td>\n",
       "      <td>0</td>\n",
       "      <td>0</td>\n",
       "      <td>0</td>\n",
       "      <td>0</td>\n",
       "      <td>0</td>\n",
       "      <td>0</td>\n",
       "      <td>0</td>\n",
       "      <td>0</td>\n",
       "      <td>0</td>\n",
       "      <td>...</td>\n",
       "      <td>0</td>\n",
       "      <td>0</td>\n",
       "      <td>0</td>\n",
       "      <td>0</td>\n",
       "      <td>0</td>\n",
       "      <td>0</td>\n",
       "      <td>0</td>\n",
       "      <td>0</td>\n",
       "      <td>1</td>\n",
       "      <td>Mingjie Xiao</td>\n",
       "    </tr>\n",
       "    <tr>\n",
       "      <th>18275</th>\n",
       "      <td>0</td>\n",
       "      <td>0</td>\n",
       "      <td>0</td>\n",
       "      <td>0</td>\n",
       "      <td>0</td>\n",
       "      <td>0</td>\n",
       "      <td>0</td>\n",
       "      <td>0</td>\n",
       "      <td>0</td>\n",
       "      <td>0</td>\n",
       "      <td>...</td>\n",
       "      <td>0</td>\n",
       "      <td>0</td>\n",
       "      <td>0</td>\n",
       "      <td>0</td>\n",
       "      <td>0</td>\n",
       "      <td>0</td>\n",
       "      <td>0</td>\n",
       "      <td>0</td>\n",
       "      <td>1</td>\n",
       "      <td>张威</td>\n",
       "    </tr>\n",
       "    <tr>\n",
       "      <th>18276</th>\n",
       "      <td>0</td>\n",
       "      <td>0</td>\n",
       "      <td>0</td>\n",
       "      <td>0</td>\n",
       "      <td>0</td>\n",
       "      <td>0</td>\n",
       "      <td>0</td>\n",
       "      <td>0</td>\n",
       "      <td>0</td>\n",
       "      <td>0</td>\n",
       "      <td>...</td>\n",
       "      <td>0</td>\n",
       "      <td>0</td>\n",
       "      <td>0</td>\n",
       "      <td>0</td>\n",
       "      <td>0</td>\n",
       "      <td>0</td>\n",
       "      <td>0</td>\n",
       "      <td>0</td>\n",
       "      <td>1</td>\n",
       "      <td>汪海健</td>\n",
       "    </tr>\n",
       "    <tr>\n",
       "      <th>18277</th>\n",
       "      <td>0</td>\n",
       "      <td>0</td>\n",
       "      <td>0</td>\n",
       "      <td>0</td>\n",
       "      <td>0</td>\n",
       "      <td>0</td>\n",
       "      <td>0</td>\n",
       "      <td>0</td>\n",
       "      <td>0</td>\n",
       "      <td>0</td>\n",
       "      <td>...</td>\n",
       "      <td>0</td>\n",
       "      <td>0</td>\n",
       "      <td>0</td>\n",
       "      <td>0</td>\n",
       "      <td>0</td>\n",
       "      <td>0</td>\n",
       "      <td>0</td>\n",
       "      <td>0</td>\n",
       "      <td>1</td>\n",
       "      <td>潘喜明</td>\n",
       "    </tr>\n",
       "  </tbody>\n",
       "</table>\n",
       "<p>18278 rows × 30 columns</p>\n",
       "</div>"
      ],
      "text/plain": [
       "       CAM  CB  CDM  CF  CM  GK  LAM  LB  LCB  LCM  ...  RDM  RES  RF  RM  RS  \\\n",
       "0        0   0    0   0   0   0    0   0    0    0  ...    0    0   0   0   0   \n",
       "1        0   0    0   0   0   0    0   0    0    0  ...    0    0   0   0   0   \n",
       "2        1   0    0   0   0   0    0   0    0    0  ...    0    0   0   0   0   \n",
       "3        0   0    0   0   0   1    0   0    0    0  ...    0    0   0   0   0   \n",
       "4        0   0    0   0   0   0    0   0    0    0  ...    0    0   0   0   0   \n",
       "...    ...  ..  ...  ..  ..  ..  ...  ..  ...  ...  ...  ...  ...  ..  ..  ..   \n",
       "18273    0   0    0   0   0   0    0   0    0    0  ...    0    1   0   0   0   \n",
       "18274    0   0    0   0   0   0    0   0    0    0  ...    0    0   0   0   0   \n",
       "18275    0   0    0   0   0   0    0   0    0    0  ...    0    0   0   0   0   \n",
       "18276    0   0    0   0   0   0    0   0    0    0  ...    0    0   0   0   0   \n",
       "18277    0   0    0   0   0   0    0   0    0    0  ...    0    0   0   0   0   \n",
       "\n",
       "       RW  RWB  ST  SUB                              jugador  \n",
       "0       1    0   0    0       Lionel Andrés Messi Cuccittini  \n",
       "1       0    0   0    0  Cristiano Ronaldo Dos Santos Aveiro  \n",
       "2       0    0   0    0        Neymar Da Silva Santos Junior  \n",
       "3       0    0   0    0                            Jan Oblak  \n",
       "4       0    0   0    0                          Eden Hazard  \n",
       "...    ..  ...  ..  ...                                  ...  \n",
       "18273   0    0   0    0                                   邵帅  \n",
       "18274   0    0   0    1                         Mingjie Xiao  \n",
       "18275   0    0   0    1                                   张威  \n",
       "18276   0    0   0    1                                  汪海健  \n",
       "18277   0    0   0    1                                  潘喜明  \n",
       "\n",
       "[18278 rows x 30 columns]"
      ]
     },
     "execution_count": 211,
     "metadata": {},
     "output_type": "execute_result"
    }
   ],
   "source": [
    "# 7. \n",
    "df_pos = df['team_position'].str.get_dummies()\n",
    "df_pos['jugador'] = df['long_name']\n",
    "df_pos"
   ]
  },
  {
   "cell_type": "markdown",
   "metadata": {},
   "source": [
    "### Ejericio 2: Combinando conceptos\n",
    "\n",
    "1. Utiliza una de las funciones de Python que tiene Pandas para el tratamimento de strings para obtener todos aquellos clubs que tienen \"FC\" en el nombre. Obtén una lista con los equipos únicos.\n",
    "2. Realiza el mismo ejercicio pero usando la función ``findall`` y la expresión regular que sea conveniente. Esto te devolverá un ``Series`` con listas, a partir de él, obtén otro ``Series`` booleano de la misma longitud que te diga si la cadena está vacía o no. Tras ello, utiliza este ``Series`` para filtrar la columna 'club' original, y quédate con aquellos que tengan 'FC' en el nombre. La variable final no deberá tener duplicados (si uno aparece 2 veces, quédate con 1, no deseches los 2)\n",
    "3. Repite el ejercicio 2 pero para aquellos equipos que empiecen por 'FC'\n",
    "4. Repite el paso 2 para aquellos equipos que empiecen por 'FC'"
   ]
  },
  {
   "cell_type": "code",
   "execution_count": null,
   "metadata": {},
   "outputs": [],
   "source": [
    "# 1. \n",
    "df[df['club'].str.contains(\"FC\")]['club'].unique()"
   ]
  },
  {
   "cell_type": "code",
   "execution_count": 212,
   "metadata": {},
   "outputs": [
    {
     "data": {
      "text/plain": [
       "array(['FC Barcelona', 'FC Bayern München', 'FC Porto',\n",
       "       'Dalian YiFang FC', 'Guangzhou Evergrande Taobao FC',\n",
       "       'Shanghai SIPG FC', 'Jiangsu Suning FC', 'Los Angeles FC',\n",
       "       'Sevilla FC', 'Shanghai Greenland Shenhua FC', 'PFC CSKA Moscow',\n",
       "       'Beijing Sinobo Guoan FC', '1. FC Köln', 'Guangzhou R&F FC',\n",
       "       'FC Girondins de Bordeaux', 'FC Nantes', 'FC Schalke 04',\n",
       "       'Hebei China Fortune FC', 'Toronto FC', 'Beijing Renhe FC',\n",
       "       'Girona FC', 'Shenzhen FC', 'FC Augsburg', 'FC København',\n",
       "       'Stade Rennais FC', 'Royal Antwerp FC', 'Tianjin TEDA FC',\n",
       "       'Tianjin Quanjian FC', 'Seattle Sounders FC',\n",
       "       'Shandong Luneng TaiShan FC', 'FC Red Bull Salzburg',\n",
       "       '1. FC Union Berlin', 'Chongqing Dangdai Lifan FC SWM Team',\n",
       "       'FC Utrecht', 'FC Basel 1893', 'Rangers FC', 'Western United FC',\n",
       "       'New York City FC', 'Minnesota United FC', 'FC Groningen',\n",
       "       'Junior FC', 'Ettifaq FC', 'Avaí FC', '1. FC Nürnberg', 'FC Metz',\n",
       "       'FC Midtjylland', 'FC Sion', 'Moreirense FC', 'Boavista FC',\n",
       "       'Sydney FC', 'Al Ain FC', '1. FC Heidenheim 1846',\n",
       "       'Henan Jianye FC', 'Panathinaikos FC', 'Puebla FC', 'Daegu FC',\n",
       "       'Rio Ave FC', 'Dijon FCO', 'FC Tokyo', 'FCSB (Steaua)',\n",
       "       'Millonarios FC', 'FC Lorient', 'FC Twente', 'Paris FC',\n",
       "       'FC St. Pauli', 'FC Dallas', 'FC Cincinnati', 'FC Zürich',\n",
       "       'FC Viitorul', 'FC Lugano', 'FC Paços de Ferreira', 'Servette FC',\n",
       "       'FC Seoul', 'Valenciennes FC', 'Ulsan Hyundai FC',\n",
       "       'FC Nordsjælland', 'FC Thun', 'Gil Vicente FC', 'Randers FC',\n",
       "       'Vancouver Whitecaps FC', 'FC Juárez', 'Gyeongnam FC',\n",
       "       'KFC Uerdingen 05', 'FC Ingolstadt 04', 'FC Emmen',\n",
       "       'FC Erzgebirge Aue', 'Melbourne City FC', 'Damac FC', 'FC Luzern',\n",
       "       'Envigado FC', 'Jeju United FC', 'Patriotas Boyacá FC',\n",
       "       'FC Sochaux-Montbéliard', 'Venezia FC', 'Gangwon FC',\n",
       "       'Sangju Sangmu FC', 'FC Botoşani', 'FC St. Gallen',\n",
       "       'St. Johnstone FC', '1. FC Kaiserslautern', 'Le Mans FC',\n",
       "       'FC Admira Wacker Mödling', 'Hallescher FC', 'FC Hansa Rostock',\n",
       "       'Incheon United FC', '1. FC Magdeburg', 'FC Hermannstadt',\n",
       "       'FC Würzburger Kickers', 'Livingston FC', 'FC Chambly Oise',\n",
       "       'FC Voluntari', 'FC Carl Zeiss Jena', 'Chemnitzer FC',\n",
       "       'Hamilton Academical FC', 'AFC Wimbledon', 'Ross County FC',\n",
       "       'AFC Eskilstuna', 'Bohemian FC', 'Waterford FC', 'Seongnam FC',\n",
       "       'UCD AFC'], dtype=object)"
      ]
     },
     "execution_count": 212,
     "metadata": {},
     "output_type": "execute_result"
    }
   ],
   "source": [
    "# 2. \n",
    "df[df['club'].str.findall(\"FC\").apply(lambda x: len(x) != 0)]['club'].unique()"
   ]
  },
  {
   "cell_type": "code",
   "execution_count": 213,
   "metadata": {},
   "outputs": [
    {
     "data": {
      "text/plain": [
       "array(['FC Barcelona', 'FC Bayern München', 'FC Porto',\n",
       "       'FC Girondins de Bordeaux', 'FC Nantes', 'FC Schalke 04',\n",
       "       'FC Augsburg', 'FC København', 'FC Red Bull Salzburg',\n",
       "       'FC Utrecht', 'FC Basel 1893', 'FC Groningen', 'FC Metz',\n",
       "       'FC Midtjylland', 'FC Sion', 'FC Tokyo', 'FCSB (Steaua)',\n",
       "       'FC Lorient', 'FC Twente', 'FC St. Pauli', 'FC Dallas',\n",
       "       'FC Cincinnati', 'FC Zürich', 'FC Viitorul', 'FC Lugano',\n",
       "       'FC Paços de Ferreira', 'FC Seoul', 'FC Nordsjælland', 'FC Thun',\n",
       "       'FC Juárez', 'FC Ingolstadt 04', 'FC Emmen', 'FC Erzgebirge Aue',\n",
       "       'FC Luzern', 'FC Sochaux-Montbéliard', 'FC Botoşani',\n",
       "       'FC St. Gallen', 'FC Admira Wacker Mödling', 'FC Hansa Rostock',\n",
       "       'FC Hermannstadt', 'FC Würzburger Kickers', 'FC Chambly Oise',\n",
       "       'FC Voluntari', 'FC Carl Zeiss Jena'], dtype=object)"
      ]
     },
     "execution_count": 213,
     "metadata": {},
     "output_type": "execute_result"
    }
   ],
   "source": [
    "# 3. \n",
    "df[df['club'].str.findall(\"^FC\").apply(lambda x: len(x) != 0)]['club'].unique()"
   ]
  },
  {
   "cell_type": "code",
   "execution_count": 214,
   "metadata": {},
   "outputs": [
    {
     "data": {
      "text/plain": [
       "array(['Dalian YiFang FC', 'Guangzhou Evergrande Taobao FC',\n",
       "       'Shanghai SIPG FC', 'Jiangsu Suning FC', 'Los Angeles FC',\n",
       "       'Sevilla FC', 'Shanghai Greenland Shenhua FC',\n",
       "       'Beijing Sinobo Guoan FC', 'Guangzhou R&F FC',\n",
       "       'Hebei China Fortune FC', 'Toronto FC', 'Beijing Renhe FC',\n",
       "       'Girona FC', 'Shenzhen FC', 'Stade Rennais FC', 'Royal Antwerp FC',\n",
       "       'Tianjin TEDA FC', 'Tianjin Quanjian FC', 'Seattle Sounders FC',\n",
       "       'Shandong Luneng TaiShan FC', 'Rangers FC', 'Western United FC',\n",
       "       'New York City FC', 'Minnesota United FC', 'Junior FC',\n",
       "       'Ettifaq FC', 'Avaí FC', 'Moreirense FC', 'Boavista FC',\n",
       "       'Sydney FC', 'Al Ain FC', 'Henan Jianye FC', 'Panathinaikos FC',\n",
       "       'Puebla FC', 'Daegu FC', 'Rio Ave FC', 'Millonarios FC',\n",
       "       'Paris FC', 'Servette FC', 'Valenciennes FC', 'Ulsan Hyundai FC',\n",
       "       'Gil Vicente FC', 'Randers FC', 'Vancouver Whitecaps FC',\n",
       "       'Gyeongnam FC', 'Melbourne City FC', 'Damac FC', 'Envigado FC',\n",
       "       'Jeju United FC', 'Patriotas Boyacá FC', 'Venezia FC',\n",
       "       'Gangwon FC', 'Sangju Sangmu FC', 'St. Johnstone FC', 'Le Mans FC',\n",
       "       'Hallescher FC', 'Incheon United FC', 'Livingston FC',\n",
       "       'Chemnitzer FC', 'Hamilton Academical FC', 'Ross County FC',\n",
       "       'Bohemian FC', 'Waterford FC', 'Seongnam FC', 'UCD AFC'],\n",
       "      dtype=object)"
      ]
     },
     "execution_count": 214,
     "metadata": {},
     "output_type": "execute_result"
    }
   ],
   "source": [
    "# 4. \n",
    "df[df['club'].str.findall(\"FC$\").apply(lambda x: len(x) != 0)]['club'].unique()"
   ]
  }
 ],
 "metadata": {
  "anaconda-cloud": {},
  "kernelspec": {
   "display_name": "Python 3",
   "language": "python",
   "name": "python3"
  },
  "language_info": {
   "codemirror_mode": {
    "name": "ipython",
    "version": 3
   },
   "file_extension": ".py",
   "mimetype": "text/x-python",
   "name": "python",
   "nbconvert_exporter": "python",
   "pygments_lexer": "ipython3",
   "version": "3.8.3"
  }
 },
 "nbformat": 4,
 "nbformat_minor": 4
}
