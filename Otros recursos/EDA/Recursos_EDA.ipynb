{
 "cells": [
  {
   "cell_type": "markdown",
   "metadata": {},
   "source": [
    "# Recursos complementarios EDA/Estadística\n",
    "\n",
    "A continuación os dejo un par de enelaces y otros 2 PDF que podréis utilizar de referencia para profundizar sobre los conceptos que hemos comentado en la clase anterior:\n",
    "  \n",
    "  - **Fundamentos EDA (castellano):**\n",
    "  \n",
    "  Es el PDF que os encontraréis en esta misma carpeta llamado `` Introduccion_y_principios_EDA (UV, 1991).pdf ``\n",
    "  \n",
    "  Este documento es el primer capítulo de un libro de la Universidad de Valencia que nos detalla con precisión los fundamentos del Análisis Exploratorio de Datos que, pese a ser de 1991, lo refleja perfectamente comparándolo con los métodos estadísticos clásicos.\n",
    "  \n",
    "  - **Ejemplo EDA bien documentado (inglés):**\n",
    "  \n",
    "  https://towardsdatascience.com/exploratory-data-analysis-eda-python-87178e35b14\n",
    "  \n",
    "  En este enlace podréis acceder a un análisis exploratorio de datos que os puede servir como inspiración para realizar los vuestros, ya que va definiendo todas y cada una de las fases hasta llegar a unas conclusiones. Comienza por la adquisición de datos, donde también comenta ciertas fuentes donde localizar datasets para nuestro estudio. Continúa con la limpieza de datos, muy importante para poder extraer valor a nuestros datos eliminando todo aquello que nos pudiera causar ruido en el análisis. Y muestra cómo complementar nuestro EDA con el estudio de las variables a nivel univariante, bivariante y multivariante; finalizando con unas coclusiones. \n",
    "\n",
    "  - **Buenas prácticas para usar gráficos (inglés):**\n",
    "  \n",
    "  También tenéis en esta carpeta un PDF que se llama `` Data_Visualization_101_How_to_Design_Charts_and_Graphs.pdf ``\n",
    "  \n",
    "  En este documento, se recogen diferentes recomendaciones sobre cómo representar gráficos. El documento está muy bien maquetado, por lo que se hace muy agradable a la vista, siguiendo su parte principal un formato de presentación, en lugar de puro texto informativo. Aporta consejos muy interesantes a tener en cuenta a la hora de realizar gráficos. Os vendrá de perlas para diseñar vuestros Dashboards interactivos con Power BI... O lo que uséis en el futuro.\n",
    "  \n",
    "\n",
    "  - **Repaso de contraste de hipótesis (inglés):**\n",
    "  \n",
    "  https://towardsdatascience.com/hypothesis-testing-data-science-1b620240802c\n",
    "  \n",
    "  Finalmente, como me habéis pedido documentación al respecto, os adjunto una entrada donde desarrollan cómo realizar decisiones basadas en datos experimentales, lo que nos lleva al contraste de hipótesis basado en el p-valor, precisando lo que vimos en el Ramp-up. Aunque para nuestro análisis exploratorio.\n",
    "  \n",
    "  \n",
    "  \n",
    "  \n",
    "  "
   ]
  },
  {
   "cell_type": "code",
   "execution_count": null,
   "metadata": {},
   "outputs": [],
   "source": []
  }
 ],
 "metadata": {
  "kernelspec": {
   "display_name": "Python 3",
   "language": "python",
   "name": "python3"
  },
  "language_info": {
   "codemirror_mode": {
    "name": "ipython",
    "version": 3
   },
   "file_extension": ".py",
   "mimetype": "text/x-python",
   "name": "python",
   "nbconvert_exporter": "python",
   "pygments_lexer": "ipython3",
   "version": "3.8.3"
  }
 },
 "nbformat": 4,
 "nbformat_minor": 4
}
