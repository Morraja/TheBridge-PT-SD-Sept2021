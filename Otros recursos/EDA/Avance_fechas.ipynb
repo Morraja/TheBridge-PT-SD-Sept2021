{
 "cells": [
  {
   "cell_type": "markdown",
   "metadata": {
    "colab_type": "text",
    "id": "9-I1z9Gn_tcv"
   },
   "source": [
    "# Avance series temporales"
   ]
  },
  {
   "cell_type": "markdown",
   "metadata": {},
   "source": [
    "Para poder empezar a tratar datos temporales, a continuación haremos una muy breve explicación. Sin embargo, se desarrollará con detalle en un par de semanas.\n",
    "\n",
    "Básicamente, veremos 2 aspectos básicos:\n",
    "  - Librería ``datetime``\n",
    "  - Rangos de fechas en Pandas\n",
    "  \n",
    "  \n",
    "## Librería datetime\n",
    "\n",
    "Esta librería la utilizaremos tanto para crear fechas como para convertir de un formato a otro. Si quieres profundizar, te dejo la [documentación](https://docs.python.org/3/library/datetime.html#:~:text=Python%20%C2%BB%203.9.0%20Documentation%20%C2%BB%20...%20The%20datetime,output%20formatting%20and%20manipulation.%20See%20also.%20Module%20calendar)\n",
    "\n",
    "### Creando fechas:\n",
    "\n",
    "Sintaxis:\n",
    "\n",
    "```Python\n",
    "datetime(year, month, day, hour=0, minute=0, second=0, microsecond=0)\n",
    "```\n",
    "\n",
    "Por ejemplo, para crearnos la fecha correspondiente al 20 de enero de 2018:"
   ]
  },
  {
   "cell_type": "code",
   "execution_count": 86,
   "metadata": {},
   "outputs": [
    {
     "data": {
      "text/plain": [
       "datetime.datetime(2018, 1, 20, 0, 0)"
      ]
     },
     "execution_count": 86,
     "metadata": {},
     "output_type": "execute_result"
    }
   ],
   "source": [
    "from datetime import datetime\n",
    "fecha = datetime(year=2018, month=1, day=20)\n",
    "fecha"
   ]
  },
  {
   "cell_type": "markdown",
   "metadata": {},
   "source": [
    "Con esto podemos obtener diferentes características de l propia fecha, tales como año (year), mes (month), día (day) o, en caso de que sea una fecha con detalle temporal, horas (hour), minutos (minute)..."
   ]
  },
  {
   "cell_type": "code",
   "execution_count": 87,
   "metadata": {},
   "outputs": [
    {
     "data": {
      "text/plain": [
       "2018"
      ]
     },
     "execution_count": 87,
     "metadata": {},
     "output_type": "execute_result"
    }
   ],
   "source": [
    "fecha.year"
   ]
  },
  {
   "cell_type": "markdown",
   "metadata": {},
   "source": [
    "### Convirtiendo formatos:\n",
    "\n",
    "Muchas veces estudiaremos datos con fechas pero que serán interpretados como cadenas de texto, por lo que tendremos que convertirlos en fechas. Para ello, esta librería nos puede ayudar gracias a 2 métodos:\n",
    "\n",
    "  - Conversión string -> datetime:\n",
    "  ```Python\n",
    "  datetime.strptime(string_fecha)\n",
    "   ```\n",
    "   \n",
    "   \n",
    "  - Conversión datetime -> string:\n",
    "  ```Python\n",
    "  fecha_datetime.strftime(formato)\n",
    "   ```\n",
    "   \n",
    "Para comprobar qué formatos podemos usar, aquí tenemos una [tabla](https://docs.python.org/3/library/datetime.html#strftime-and-strptime-format-codes)\n",
    "  "
   ]
  },
  {
   "cell_type": "code",
   "execution_count": 91,
   "metadata": {},
   "outputs": [
    {
     "data": {
      "text/plain": [
       "datetime.datetime(2020, 10, 14, 0, 0)"
      ]
     },
     "execution_count": 91,
     "metadata": {},
     "output_type": "execute_result"
    }
   ],
   "source": [
    "fecha_string = '2020/10/14'\n",
    "fecha_datetime = datetime.strptime(fecha_string, '%Y/%m/%d')\n",
    "fecha_datetime"
   ]
  },
  {
   "cell_type": "code",
   "execution_count": 97,
   "metadata": {},
   "outputs": [
    {
     "data": {
      "text/plain": [
       "'2018-01-20'"
      ]
     },
     "execution_count": 97,
     "metadata": {},
     "output_type": "execute_result"
    }
   ],
   "source": [
    "fecha_string_2 = fecha.strftime(\"%Y-%m-%d\")\n",
    "fecha_string_2"
   ]
  },
  {
   "cell_type": "markdown",
   "metadata": {},
   "source": [
    "## Rangos de fechas con Pandas\n",
    "\n",
    "Esta librería la utilizaremos tanto para crear fechas como para convertir de un formato a otro. Si quieres profundizar, te dejo la [documentación](https://docs.python.org/3/library/datetime.html#:~:text=Python%20%C2%BB%203.9.0%20Documentation%20%C2%BB%20...%20The%20datetime,output%20formatting%20and%20manipulation.%20See%20also.%20Module%20calendar)\n",
    "\n",
    "### Creando fechas:\n",
    "\n",
    "Con la función ``date_range()`` podemos crear rangos de fechas, tal como indica su [documentación](https://pandas.pydata.org/pandas-docs/stable/reference/api/pandas.date_range.html?highlight=date_range#pandas.date_range), a la que podremos invocar de la siguiente manera:\n",
    "\n",
    "```Python\n",
    "pd.date_range(start, end, periods)\n",
    "```\n",
    "\n",
    "Por ejemplo, para crearnos las fechas desde el 20 de enero de 2018 al 18 de junio de 2019:"
   ]
  },
  {
   "cell_type": "code",
   "execution_count": 100,
   "metadata": {},
   "outputs": [
    {
     "data": {
      "text/plain": [
       "DatetimeIndex(['2018-01-20', '2018-01-21', '2018-01-22', '2018-01-23',\n",
       "               '2018-01-24', '2018-01-25', '2018-01-26', '2018-01-27',\n",
       "               '2018-01-28', '2018-01-29',\n",
       "               ...\n",
       "               '2019-06-09', '2019-06-10', '2019-06-11', '2019-06-12',\n",
       "               '2019-06-13', '2019-06-14', '2019-06-15', '2019-06-16',\n",
       "               '2019-06-17', '2019-06-18'],\n",
       "              dtype='datetime64[ns]', length=515, freq='D')"
      ]
     },
     "execution_count": 100,
     "metadata": {},
     "output_type": "execute_result"
    }
   ],
   "source": [
    "import pandas as pd\n",
    "\n",
    "fechas = pd.date_range(start='2018-01-20', end='2019-06-18')\n",
    "fechas"
   ]
  },
  {
   "cell_type": "code",
   "execution_count": 105,
   "metadata": {},
   "outputs": [
    {
     "data": {
      "text/plain": [
       "DatetimeIndex(['2018-01-31', '2018-02-28', '2018-03-31', '2018-04-30',\n",
       "               '2018-05-31', '2018-06-30', '2018-07-31', '2018-08-31',\n",
       "               '2018-09-30', '2018-10-31', '2018-11-30', '2018-12-31',\n",
       "               '2019-01-31', '2019-02-28', '2019-03-31', '2019-04-30',\n",
       "               '2019-05-31'],\n",
       "              dtype='datetime64[ns]', freq='M')"
      ]
     },
     "execution_count": 105,
     "metadata": {},
     "output_type": "execute_result"
    }
   ],
   "source": [
    "fechas_mensual = pd.date_range(start='2018-01-20', end='2019-06-18', freq='M')\n",
    "fechas_mensual"
   ]
  },
  {
   "cell_type": "code",
   "execution_count": 106,
   "metadata": {},
   "outputs": [
    {
     "name": "stdout",
     "output_type": "stream",
     "text": [
      "datetime64[ns]\n",
      "datetime64[ns]\n"
     ]
    }
   ],
   "source": [
    "print(fechas.dtype)\n",
    "print(fechas_mensual.dtype)"
   ]
  },
  {
   "cell_type": "markdown",
   "metadata": {},
   "source": [
    "### Convirtiendo rangos:\n",
    "\n",
    "Con la función ``pd.to_datetime()`` podemos convertir campos de un dataframe en fechas, lo cual inferirá automáticamente Pandas.\n",
    "\n",
    "Veamos un ejemplo con un dataset:"
   ]
  },
  {
   "cell_type": "code",
   "execution_count": 118,
   "metadata": {},
   "outputs": [
    {
     "data": {
      "text/html": [
       "<div>\n",
       "<style scoped>\n",
       "    .dataframe tbody tr th:only-of-type {\n",
       "        vertical-align: middle;\n",
       "    }\n",
       "\n",
       "    .dataframe tbody tr th {\n",
       "        vertical-align: top;\n",
       "    }\n",
       "\n",
       "    .dataframe thead th {\n",
       "        text-align: right;\n",
       "    }\n",
       "</style>\n",
       "<table border=\"1\" class=\"dataframe\">\n",
       "  <thead>\n",
       "    <tr style=\"text-align: right;\">\n",
       "      <th></th>\n",
       "      <th>Date</th>\n",
       "      <th>Open</th>\n",
       "      <th>High</th>\n",
       "      <th>Low</th>\n",
       "      <th>Close</th>\n",
       "      <th>Adj Close</th>\n",
       "      <th>Volume</th>\n",
       "    </tr>\n",
       "  </thead>\n",
       "  <tbody>\n",
       "    <tr>\n",
       "      <th>0</th>\n",
       "      <td>2010-01-04</td>\n",
       "      <td>312.304413</td>\n",
       "      <td>313.579620</td>\n",
       "      <td>310.954468</td>\n",
       "      <td>312.204773</td>\n",
       "      <td>312.204773</td>\n",
       "      <td>3927000</td>\n",
       "    </tr>\n",
       "    <tr>\n",
       "      <th>1</th>\n",
       "      <td>2010-01-05</td>\n",
       "      <td>312.418976</td>\n",
       "      <td>312.747742</td>\n",
       "      <td>309.609497</td>\n",
       "      <td>310.829926</td>\n",
       "      <td>310.829926</td>\n",
       "      <td>6031900</td>\n",
       "    </tr>\n",
       "    <tr>\n",
       "      <th>2</th>\n",
       "      <td>2010-01-06</td>\n",
       "      <td>311.761444</td>\n",
       "      <td>311.761444</td>\n",
       "      <td>302.047852</td>\n",
       "      <td>302.994293</td>\n",
       "      <td>302.994293</td>\n",
       "      <td>7987100</td>\n",
       "    </tr>\n",
       "    <tr>\n",
       "      <th>3</th>\n",
       "      <td>2010-01-07</td>\n",
       "      <td>303.562164</td>\n",
       "      <td>303.861053</td>\n",
       "      <td>295.218445</td>\n",
       "      <td>295.940735</td>\n",
       "      <td>295.940735</td>\n",
       "      <td>12876600</td>\n",
       "    </tr>\n",
       "    <tr>\n",
       "      <th>4</th>\n",
       "      <td>2010-01-08</td>\n",
       "      <td>294.894653</td>\n",
       "      <td>300.498657</td>\n",
       "      <td>293.455048</td>\n",
       "      <td>299.885956</td>\n",
       "      <td>299.885956</td>\n",
       "      <td>9483900</td>\n",
       "    </tr>\n",
       "  </tbody>\n",
       "</table>\n",
       "</div>"
      ],
      "text/plain": [
       "         Date        Open        High         Low       Close   Adj Close  \\\n",
       "0  2010-01-04  312.304413  313.579620  310.954468  312.204773  312.204773   \n",
       "1  2010-01-05  312.418976  312.747742  309.609497  310.829926  310.829926   \n",
       "2  2010-01-06  311.761444  311.761444  302.047852  302.994293  302.994293   \n",
       "3  2010-01-07  303.562164  303.861053  295.218445  295.940735  295.940735   \n",
       "4  2010-01-08  294.894653  300.498657  293.455048  299.885956  299.885956   \n",
       "\n",
       "     Volume  \n",
       "0   3927000  \n",
       "1   6031900  \n",
       "2   7987100  \n",
       "3  12876600  \n",
       "4   9483900  "
      ]
     },
     "execution_count": 118,
     "metadata": {},
     "output_type": "execute_result"
    }
   ],
   "source": [
    "import pandas as pd\n",
    "\n",
    "df = pd.read_csv(\"datos_ejemplo.csv\")\n",
    "df.head()"
   ]
  },
  {
   "cell_type": "code",
   "execution_count": 119,
   "metadata": {},
   "outputs": [
    {
     "data": {
      "text/plain": [
       "dtype('O')"
      ]
     },
     "execution_count": 119,
     "metadata": {},
     "output_type": "execute_result"
    }
   ],
   "source": [
    "df['Date'].dtype"
   ]
  },
  {
   "cell_type": "code",
   "execution_count": 121,
   "metadata": {},
   "outputs": [
    {
     "data": {
      "text/plain": [
       "0      2010-01-04\n",
       "1      2010-01-05\n",
       "2      2010-01-06\n",
       "3      2010-01-07\n",
       "4      2010-01-08\n",
       "          ...    \n",
       "2513   2019-12-27\n",
       "2514   2019-12-30\n",
       "2515   2019-12-31\n",
       "2516   2020-01-02\n",
       "2517   2020-01-03\n",
       "Name: Date, Length: 2518, dtype: datetime64[ns]"
      ]
     },
     "execution_count": 121,
     "metadata": {},
     "output_type": "execute_result"
    }
   ],
   "source": [
    "df['Date'] = pd.to_datetime(df['Date'])\n",
    "df['Date']"
   ]
  },
  {
   "cell_type": "code",
   "execution_count": 122,
   "metadata": {},
   "outputs": [],
   "source": [
    "%matplotlib inline\n",
    "import matplotlib.pyplot as plt\n",
    "import matplotlib as mpl\n",
    "plt.style.use('seaborn-whitegrid')\n",
    "import numpy as np"
   ]
  },
  {
   "cell_type": "code",
   "execution_count": 123,
   "metadata": {},
   "outputs": [
    {
     "data": {
      "text/plain": [
       "[<matplotlib.lines.Line2D at 0x22734e32640>]"
      ]
     },
     "execution_count": 123,
     "metadata": {},
     "output_type": "execute_result"
    },
    {
     "data": {
      "image/png": "[encoded data removed]",
      "text/plain": [
       "<Figure size 432x288 with 1 Axes>"
      ]
     },
     "metadata": {},
     "output_type": "display_data"
    }
   ],
   "source": [
    "plt.plot(df['Date'], df['Open'])"
   ]
  },
  {
   "cell_type": "code",
   "execution_count": 124,
   "metadata": {},
   "outputs": [
    {
     "data": {
      "text/plain": [
       "[<matplotlib.lines.Line2D at 0x22737f14190>]"
      ]
     },
     "execution_count": 124,
     "metadata": {},
     "output_type": "execute_result"
    },
    {
     "data": {
      "image/png": "[encoded data removed]",
      "text/plain": [
       "<Figure size 432x288 with 1 Axes>"
      ]
     },
     "metadata": {},
     "output_type": "display_data"
    }
   ],
   "source": [
    "# Podemos acceder a los atributos del Date mediante \"dt\":\n",
    "df2 = df.groupby(df['Date'].dt.month).mean()\n",
    "\n",
    "plt.plot(df2.index, df2['Open'])"
   ]
  },
  {
   "cell_type": "markdown",
   "metadata": {
    "colab_type": "text",
    "id": "jkg6UNGc_tfD"
   },
   "source": [
    "## Extra\n",
    "\n",
    "Como veremos cuando estudiemos este apartado con mayor detalle, el tratamiento de datos temporales es un aspecto bastante amplio. Un muy buen recurso para aprender sobre las características de las series temporales proporcionadas por Pandas es la propia [documentación de Pandas](http://pandas.pydata.org/pandas-docs/stable/timeseries.html)\n"
   ]
  },
  {
   "cell_type": "code",
   "execution_count": null,
   "metadata": {},
   "outputs": [],
   "source": []
  }
 ],
 "metadata": {
  "colab": {
   "name": "1-TimeSeries.ipynb",
   "provenance": []
  },
  "kernelspec": {
   "display_name": "Python 3",
   "language": "python",
   "name": "python3"
  },
  "language_info": {
   "codemirror_mode": {
    "name": "ipython",
    "version": 3
   },
   "file_extension": ".py",
   "mimetype": "text/x-python",
   "name": "python",
   "nbconvert_exporter": "python",
   "pygments_lexer": "ipython3",
   "version": "3.8.3"
  }
 },
 "nbformat": 4,
 "nbformat_minor": 4
}
