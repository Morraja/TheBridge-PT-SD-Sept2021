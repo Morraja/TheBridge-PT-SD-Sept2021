{
  "nbformat": 4,
  "nbformat_minor": 0,
  "metadata": {
    "colab": {
      "name": "RESU_ejercicios_metodos_estadisticos.ipynb",
      "provenance": [],
      "collapsed_sections": []
    },
    "kernelspec": {
      "display_name": "Python 3",
      "language": "python",
      "name": "python3"
    },
    "language_info": {
      "codemirror_mode": {
        "name": "ipython",
        "version": 3
      },
      "file_extension": ".py",
      "mimetype": "text/x-python",
      "name": "python",
      "nbconvert_exporter": "python",
      "pygments_lexer": "ipython3",
      "version": "3.6.9"
    }
  },
  "cells": [
    {
      "cell_type": "markdown",
      "metadata": {
        "id": "5cXkMdm-LNyz"
      },
      "source": [
        "# Clumsy Carl\n",
        "\n",
        "\n",
        "Here's the problem restated:\n",
        "\n",
        "Imagine a restaurant employs five dishwashers:\n",
        "- Alice\n",
        "- Bob\n",
        "- Carl\n",
        "- Dave\n",
        "- Eric\n",
        "\n",
        "One week, they break five dishes -- and Carl breaks **four** of the five. So, his coworkers have a hypothesis: Carl is clumsy!\n",
        "\n",
        "Carl says no, it was just bad luck and random chance: it could have happened to anybody. We can call this the null hypothesis.\n",
        "\n",
        "Can we do some math to help answer this argument? What's the probability it was just bad luck?\n",
        "\n",
        "We can write a simulation to estimate the probability that Carl breaks at least four of the five dishes, assuming that breaking a dish is a truly random event. (We'll assume that the dishwashers have identical workloads and skills.)\n"
      ]
    },
    {
      "cell_type": "code",
      "metadata": {
        "id": "U6ERZDRwtPVO"
      },
      "source": [
        "import random\n",
        "from statistics import mean,stdev"
      ],
      "execution_count": null,
      "outputs": []
    },
    {
      "cell_type": "code",
      "metadata": {
        "id": "5IdSBJnmLNy0"
      },
      "source": [
        "dishwashers = ['Alice', 'Bob', 'Carl', 'Dave', 'Eric']"
      ],
      "execution_count": null,
      "outputs": []
    },
    {
      "cell_type": "code",
      "metadata": {
        "id": "etpy-I1ILNy2"
      },
      "source": [
        "def simulacion(L):\n",
        "  breakers = []\n",
        "  for i in range(5):\n",
        "    breakers.append(random.choice(L))\n",
        "  return breakers.count('Carl')"
      ],
      "execution_count": null,
      "outputs": []
    },
    {
      "cell_type": "code",
      "metadata": {
        "id": "l0Gr90uvuoMr"
      },
      "source": [
        "tests = []\n",
        "for i in range(10000):\n",
        "  tests.append(simulacion(dishwashers))"
      ],
      "execution_count": null,
      "outputs": []
    },
    {
      "cell_type": "code",
      "metadata": {
        "id": "4T6m1ZOHvKH1",
        "colab": {
          "base_uri": "https://localhost:8080/",
          "height": 333
        },
        "outputId": "119a84f7-947d-430c-c646-b55dacf3304d"
      },
      "source": [
        "import matplotlib.pyplot as plt\n",
        "plt.hist(tests)"
      ],
      "execution_count": null,
      "outputs": [
        {
          "output_type": "execute_result",
          "data": {
            "text/plain": [
              "(array([3.284e+03, 0.000e+00, 4.049e+03, 0.000e+00, 2.055e+03, 0.000e+00,\n",
              "        5.520e+02, 0.000e+00, 5.700e+01, 3.000e+00]),\n",
              " array([0. , 0.5, 1. , 1.5, 2. , 2.5, 3. , 3.5, 4. , 4.5, 5. ]),\n",
              " <a list of 10 Patch objects>)"
            ]
          },
          "metadata": {
            "tags": []
          },
          "execution_count": 13
        },
        {
          "output_type": "display_data",
          "data": {
            "image/png": "[encoded data removed]",
            "text/plain": [
              "<Figure size 432x288 with 1 Axes>"
            ]
          },
          "metadata": {
            "tags": [],
            "needs_background": "light"
          }
        }
      ]
    },
    {
      "cell_type": "code",
      "metadata": {
        "id": "MfBe95ODvvDJ",
        "colab": {
          "base_uri": "https://localhost:8080/",
          "height": 34
        },
        "outputId": "f2d5aae0-a3a5-4ce8-e403-82c586d66776"
      },
      "source": [
        "suma = 0\n",
        "for i in tests:\n",
        "  if i >=4:\n",
        "    suma +=1\n",
        "\n",
        "print(suma)"
      ],
      "execution_count": null,
      "outputs": [
        {
          "output_type": "stream",
          "text": [
            "60\n"
          ],
          "name": "stdout"
        }
      ]
    },
    {
      "cell_type": "code",
      "metadata": {
        "id": "V8DbbH5PwF-r",
        "colab": {
          "base_uri": "https://localhost:8080/",
          "height": 34
        },
        "outputId": "83d4ab57-c191-468b-8997-8b87cdbeb6ec"
      },
      "source": [
        "pvalue = suma/(len(tests))\n",
        "print(pvalue)"
      ],
      "execution_count": null,
      "outputs": [
        {
          "output_type": "stream",
          "text": [
            "0.006\n"
          ],
          "name": "stdout"
        }
      ]
    },
    {
      "cell_type": "code",
      "metadata": {
        "id": "c1W8zkLjxJZn",
        "colab": {
          "base_uri": "https://localhost:8080/",
          "height": 34
        },
        "outputId": "770dc1a2-1de7-4866-dfa6-d094175d698a"
      },
      "source": [
        "zscore = (4-mean(tests))/stdev(tests)\n",
        "print(zscore)"
      ],
      "execution_count": null,
      "outputs": [
        {
          "output_type": "stream",
          "text": [
            "3.3251499110089706\n"
          ],
          "name": "stdout"
        }
      ]
    },
    {
      "cell_type": "markdown",
      "metadata": {
        "id": "lbuNLuPVLNy4"
      },
      "source": [
        "# Two dice\n",
        "\n",
        "Simulate the distribution of adding two dice.\n",
        "\n",
        "What is the mean? Standard deviation?"
      ]
    },
    {
      "cell_type": "code",
      "metadata": {
        "id": "RLqpSsmZcbve"
      },
      "source": [
        "import numpy as np\n",
        "from statistics import mean,stdev"
      ],
      "execution_count": null,
      "outputs": []
    },
    {
      "cell_type": "code",
      "metadata": {
        "id": "MbCvxfvYgEB2",
        "colab": {
          "base_uri": "https://localhost:8080/",
          "height": 34
        },
        "outputId": "0b285b86-3aec-4eb5-cbae-35ce025a08fb"
      },
      "source": [
        "dado = list(range(1, 7))\n",
        "dado"
      ],
      "execution_count": null,
      "outputs": [
        {
          "output_type": "execute_result",
          "data": {
            "text/plain": [
              "[1, 2, 3, 4, 5, 6]"
            ]
          },
          "metadata": {
            "tags": []
          },
          "execution_count": 14
        }
      ]
    },
    {
      "cell_type": "code",
      "metadata": {
        "id": "5srnsJ1Ucbvl"
      },
      "source": [
        "\n",
        "tiradas = []\n",
        "for i in range(0, 10000):\n",
        "  tiradas.append(np.random.choice(dado) + np.random.choice(dado))\n"
      ],
      "execution_count": null,
      "outputs": []
    },
    {
      "cell_type": "code",
      "metadata": {
        "id": "GM8eQFp1cbvt",
        "colab": {
          "base_uri": "https://localhost:8080/",
          "height": 366
        },
        "outputId": "1f32379b-571c-4de4-8fe5-637e10f65d2a"
      },
      "source": [
        "import matplotlib.pyplot as plt\n",
        "plt.hist(tiradas, bins=11)"
      ],
      "execution_count": null,
      "outputs": [
        {
          "output_type": "execute_result",
          "data": {
            "text/plain": [
              "(array([ 292.,  539.,  822., 1084., 1383., 1661., 1369., 1118.,  850.,\n",
              "         589.,  293.]),\n",
              " array([ 2.        ,  2.90909091,  3.81818182,  4.72727273,  5.63636364,\n",
              "         6.54545455,  7.45454545,  8.36363636,  9.27272727, 10.18181818,\n",
              "        11.09090909, 12.        ]),\n",
              " <a list of 11 Patch objects>)"
            ]
          },
          "metadata": {
            "tags": []
          },
          "execution_count": 27
        },
        {
          "output_type": "display_data",
          "data": {
            "image/png": "[encoded data removed]",
            "text/plain": [
              "<Figure size 432x288 with 1 Axes>"
            ]
          },
          "metadata": {
            "tags": [],
            "needs_background": "light"
          }
        }
      ]
    },
    {
      "cell_type": "code",
      "metadata": {
        "id": "-4llSSdzhabY",
        "colab": {
          "base_uri": "https://localhost:8080/",
          "height": 50
        },
        "outputId": "d43f14ed-2704-4f58-d0a7-c3101c2e2cba"
      },
      "source": [
        "print(f\"La media es: {np.mean(tiradas)}\")\n",
        "print(f\"La desviación típica es: {np.std(tiradas)}\")"
      ],
      "execution_count": null,
      "outputs": [
        {
          "output_type": "stream",
          "text": [
            "La media es: 7.0343\n",
            "La desviación típica es: 2.434527368915782\n"
          ],
          "name": "stdout"
        }
      ]
    },
    {
      "cell_type": "code",
      "metadata": {
        "id": "9kOLJtxjLNy7",
        "colab": {
          "base_uri": "https://localhost:8080/",
          "height": 34
        },
        "outputId": "29179516-82ee-4dd4-ae6a-bdeb37b454bb"
      },
      "source": [
        "mayor_que_10 = []\n",
        "for i in datos: \n",
        "  if i >= 10:\n",
        "    mayor_que_10.append(i)\n",
        "  \n",
        "p = (len(mayor_que_10)/len(datos))*100\n",
        "print(f\"{p}%\")"
      ],
      "execution_count": null,
      "outputs": [
        {
          "output_type": "stream",
          "text": [
            "27.48%\n"
          ],
          "name": "stdout"
        }
      ]
    },
    {
      "cell_type": "code",
      "metadata": {
        "id": "TVWt0ZXpRfEH",
        "colab": {
          "base_uri": "https://localhost:8080/",
          "height": 87
        },
        "outputId": "63655865-b12f-4668-c3cd-b77968313536"
      },
      "source": [
        "import random\n",
        "import numpy as np \n",
        "\n",
        "\n",
        "simulaciones = 10000\n",
        "\n",
        "datos = []\n",
        "for i in range(simulaciones):\n",
        "  datos2 = random.randint(1, 6) + random.randint(1, 6)\n",
        "  datos.append(datos2)\n",
        "\n",
        "print(datos)\n",
        "\n",
        "print(np.mean(datos))\n",
        "print(np.std(datos))"
      ],
      "execution_count": null,
      "outputs": [
        {
          "output_type": "stream",
          "text": [
            "[2, 2, 9, 4, 8, 4, 7, 11, 6, 7, 2, 6, 6, 7, 10, 11, 7, 9, 7, 4, 6, 9, 10, 6, 8, 9, 6, 6, 10, 7, 10, 6, 7, 7, 7, 8, 7, 6, 6, 10, 8, 7, 6, 6, 8, 12, 7, 10, 6, 11, 4, 5, 11, 5, 6, 4, 10, 10, 11, 9, 4, 7, 9, 5, 9, 6, 10, 11, 4, 7, 3, 8, 6, 5, 2, 9, 7, 11, 6, 2, 7, 10, 5, 3, 11, 9, 8, 3, 4, 4, 9, 7, 6, 5, 7, 6, 7, 9, 12, 7, 10, 11, 7, 5, 8, 8, 9, 9, 11, 3, 12, 4, 9, 8, 5, 11, 6, 9, 12, 5, 9, 6, 6, 5, 10, 7, 7, 8, 7, 8, 6, 11, 5, 5, 4, 3, 6, 9, 5, 8, 7, 2, 9, 6, 2, 5, 10, 9, 6, 11, 5, 4, 4, 9, 7, 9, 9, 12, 8, 5, 8, 10, 5, 5, 9, 7, 7, 8, 8, 4, 2, 3, 10, 6, 4, 7, 6, 6, 6, 7, 8, 8, 5, 4, 10, 6, 7, 6, 7, 10, 5, 9, 6, 5, 8, 3, 8, 10, 9, 4, 6, 6, 9, 9, 10, 3, 9, 9, 7, 12, 11, 9, 7, 2, 7, 11, 7, 6, 11, 7, 6, 8, 4, 9, 8, 6, 10, 6, 6, 6, 7, 9, 7, 3, 8, 9, 9, 8, 6, 3, 8, 11, 7, 2, 8, 2, 9, 5, 9, 8, 2, 8, 9, 11, 3, 9, 4, 7, 4, 6, 7, 9, 12, 8, 5, 5, 5, 7, 4, 4, 10, 10, 6, 8, 7, 9, 7, 2, 7, 7, 5, 5, 11, 8, 7, 3, 7, 6, 9, 5, 8, 8, 5, 2, 5, 6, 10, 6, 7, 9, 9, 6, 7, 7, 6, 10, 9, 5, 8, 6, 12, 11, 4, 5, 7, 9, 6, 8, 9, 3, 5, 10, 6, 8, 9, 10, 9, 5, 6, 7, 2, 10, 9, 9, 8, 5, 5, 6, 9, 9, 7, 10, 7, 6, 4, 7, 9, 6, 9, 4, 8, 6, 8, 7, 3, 6, 11, 7, 8, 10, 5, 10, 8, 12, 3, 7, 8, 3, 5, 10, 3, 6, 12, 8, 12, 11, 2, 2, 6, 7, 10, 8, 7, 8, 11, 9, 10, 5, 9, 8, 10, 10, 4, 7, 8, 2, 11, 9, 10, 11, 7, 6, 9, 9, 5, 4, 10, 7, 4, 9, 6, 5, 3, 7, 6, 7, 5, 6, 9, 6, 7, 8, 5, 7, 8, 7, 9, 5, 5, 6, 7, 10, 2, 10, 5, 7, 5, 6, 7, 8, 7, 7, 9, 6, 4, 8, 7, 12, 9, 6, 5, 4, 7, 9, 4, 10, 6, 5, 9, 7, 5, 12, 8, 10, 8, 4, 6, 6, 4, 9, 7, 5, 8, 7, 6, 3, 7, 8, 6, 4, 10, 7, 9, 8, 11, 8, 7, 7, 3, 7, 9, 4, 10, 4, 9, 6, 10, 7, 11, 3, 4, 12, 12, 8, 3, 4, 8, 10, 10, 9, 11, 5, 10, 8, 7, 7, 5, 9, 9, 7, 11, 3, 3, 12, 7, 7, 5, 6, 4, 7, 6, 6, 3, 7, 6, 7, 10, 6, 11, 3, 5, 4, 7, 9, 8, 10, 4, 8, 2, 6, 9, 10, 9, 5, 7, 4, 10, 12, 10, 5, 11, 9, 4, 4, 7, 10, 5, 10, 9, 4, 4, 10, 6, 11, 8, 6, 7, 5, 7, 5, 5, 10, 5, 12, 10, 5, 11, 8, 8, 9, 9, 7, 4, 5, 2, 8, 8, 8, 8, 7, 5, 5, 11, 6, 7, 5, 10, 5, 9, 6, 8, 5, 9, 11, 8, 7, 7, 6, 6, 6, 8, 7, 11, 7, 5, 12, 7, 6, 5, 8, 9, 10, 7, 6, 4, 11, 6, 7, 10, 5, 9, 9, 7, 8, 8, 4, 3, 7, 5, 7, 8, 7, 8, 10, 8, 12, 6, 8, 8, 11, 6, 3, 8, 6, 4, 8, 2, 6, 3, 10, 11, 10, 10, 7, 10, 8, 8, 9, 10, 8, 6, 3, 7, 5, 8, 5, 5, 6, 9, 7, 6, 8, 5, 7, 6, 11, 6, 7, 4, 5, 7, 5, 6, 4, 8, 8, 8, 11, 4, 7, 2, 10, 7, 10, 11, 9, 11, 9, 11, 8, 6, 8, 5, 8, 8, 7, 5, 9, 8, 3, 6, 8, 3, 6, 3, 8, 3, 7, 6, 4, 5, 5, 10, 9, 9, 12, 9, 3, 12, 6, 9, 6, 7, 4, 7, 6, 7, 11, 7, 6, 11, 5, 7, 8, 7, 2, 9, 3, 4, 12, 10, 6, 4, 7, 7, 4, 7, 7, 7, 4, 5, 8, 6, 7, 8, 7, 8, 11, 2, 12, 12, 6, 7, 6, 7, 4, 5, 12, 10, 10, 10, 9, 7, 5, 5, 7, 4, 4, 3, 5, 2, 8, 12, 9, 7, 10, 2, 7, 2, 5, 5, 7, 7, 7, 9, 9, 11, 6, 8, 5, 8, 7, 7, 4, 11, 10, 5, 9, 9, 3, 6, 3, 6, 8, 7, 4, 8, 8, 9, 8, 8, 7, 9, 4, 5, 7, 6, 10, 7, 4, 8, 12, 2, 3, 11, 8, 6, 7, 7, 12, 6, 6, 9, 2, 10, 4, 11, 5, 6, 9, 9, 7, 5, 8, 10, 10, 6, 9, 12, 6, 7, 11, 6, 11, 5, 8, 5, 10, 4, 6, 6, 6, 11, 6, 7, 3, 2, 2, 7, 11, 8, 3, 8, 7, 7, 6, 6, 9, 5, 7, 5, 8, 7, 9, 7, 9, 6, 4, 6, 9, 9, 6, 8, 11, 10, 7, 6, 8, 6, 9, 8, 10, 7, 7, 7, 9, 10, 4, 7, 5, 11, 5, 5, 7, 8, 11, 6, 10, 8, 3, 8, 10, 7, 5, 8, 5, 11, 8, 7, 7, 9, 9, 8, 8, 11, 9, 2, 9, 10, 6, 8, 11, 8, 8, 7, 6, 6, 6, 6, 5, 2, 6, 7, 9, 7, 2, 8, 5, 6, 7, 8, 5, 9, 2, 7, 10, 11, 2, 6, 5, 4, 8, 9, 9, 5, 8, 5, 10, 11, 4, 11, 7, 10, 7, 9, 10, 3, 9, 4, 6, 3, 8, 6, 8, 5, 12, 5, 5, 11, 2, 8, 7, 11, 7, 8, 7, 9, 4, 12, 7, 6, 6, 7, 6, 8, 9, 8, 9, 8, 3, 6, 8, 7, 6, 11, 7, 6, 9, 3, 9, 8, 9, 11, 4, 10, 3, 10, 11, 6, 9, 11, 11, 6, 3, 9, 4, 5, 10, 6, 11, 4, 10, 7, 7, 9, 7, 12, 5, 9, 7, 8, 6, 4, 8, 11, 9, 7, 5, 3, 7, 5, 10, 8, 7, 7, 7, 6, 8, 6, 10, 6, 6, 7, 9, 5, 6, 7, 3, 9, 7, 8, 8, 9, 4, 8, 9, 5, 10, 10, 7, 12, 6, 4, 4, 7, 9, 4, 3, 8, 9, 9, 3, 5, 7, 6, 3, 6, 9, 7, 2, 4, 9, 9, 5, 8, 10, 3, 7, 7, 7, 10, 7, 12, 8, 9, 5, 9, 3, 5, 2, 6, 6, 6, 8, 4, 7, 9, 3, 6, 6, 7, 7, 11, 11, 9, 11, 8, 8, 7, 9, 6, 7, 11, 3, 7, 4, 6, 2, 7, 5, 10, 6, 3, 9, 8, 9, 6, 7, 8, 9, 5, 6, 10, 8, 10, 7, 11, 9, 8, 4, 4, 7, 6, 3, 8, 9, 11, 3, 3, 7, 4, 11, 7, 11, 9, 4, 11, 11, 10, 9, 10, 5, 3, 10, 9, 3, 11, 5, 3, 7, 2, 10, 5, 4, 7, 8, 10, 4, 11, 9, 5, 2, 12, 10, 7, 8, 3, 5, 6, 9, 5, 8, 9, 4, 7, 7, 2, 9, 6, 7, 6, 6, 9, 6, 7, 11, 6, 6, 5, 4, 5, 12, 4, 6, 5, 8, 6, 8, 3, 7, 3, 5, 7, 5, 10, 7, 6, 12, 4, 8, 10, 6, 7, 2, 2, 7, 6, 7, 10, 6, 7, 8, 5, 7, 5, 8, 6, 9, 5, 8, 9, 7, 12, 7, 7, 7, 5, 7, 9, 5, 5, 10, 5, 7, 9, 9, 6, 9, 7, 5, 6, 10, 10, 8, 11, 4, 9, 9, 8, 7, 6, 5, 9, 11, 11, 4, 5, 8, 5, 9, 6, 10, 7, 7, 7, 8, 6, 5, 6, 7, 6, 5, 7, 7, 10, 4, 7, 6, 5, 9, 2, 5, 7, 7, 9, 12, 3, 6, 7, 9, 5, 4, 8, 4, 9, 7, 7, 4, 6, 7, 8, 10, 11, 6, 6, 10, 7, 6, 7, 9, 4, 8, 3, 5, 3, 8, 7, 9, 12, 8, 11, 7, 8, 7, 4, 9, 6, 6, 9, 5, 6, 5, 7, 7, 8, 5, 7, 4, 6, 4, 2, 8, 3, 12, 4, 7, 5, 10, 9, 9, 7, 4, 10, 5, 6, 5, 9, 2, 8, 9, 7, 10, 8, 6, 8, 9, 7, 8, 9, 5, 9, 8, 6, 5, 7, 5, 6, 8, 8, 9, 6, 10, 8, 8, 12, 9, 7, 6, 5, 7, 5, 6, 5, 4, 9, 7, 5, 11, 2, 6, 11, 9, 9, 10, 6, 5, 9, 7, 6, 8, 9, 5, 9, 8, 10, 7, 10, 9, 5, 6, 10, 4, 7, 4, 5, 2, 6, 8, 4, 6, 9, 6, 8, 12, 9, 5, 8, 7, 6, 9, 5, 3, 7, 4, 10, 6, 7, 11, 5, 7, 3, 4, 11, 3, 3, 4, 8, 9, 7, 9, 11, 7, 5, 4, 10, 11, 11, 11, 8, 6, 6, 7, 7, 11, 6, 9, 6, 7, 6, 4, 10, 4, 5, 12, 9, 5, 9, 5, 6, 9, 10, 12, 9, 7, 10, 9, 4, 8, 5, 8, 8, 5, 6, 4, 12, 11, 4, 10, 6, 9, 2, 6, 6, 9, 9, 10, 4, 5, 3, 5, 4, 5, 10, 7, 7, 4, 3, 6, 7, 8, 7, 5, 4, 7, 8, 6, 7, 4, 7, 10, 11, 8, 8, 5, 5, 9, 5, 4, 8, 8, 7, 5, 3, 12, 9, 8, 7, 8, 6, 9, 9, 4, 10, 4, 8, 6, 7, 11, 8, 7, 7, 7, 5, 9, 6, 3, 8, 8, 12, 10, 6, 4, 4, 3, 10, 7, 7, 5, 11, 7, 6, 10, 5, 7, 3, 3, 8, 8, 4, 3, 9, 8, 12, 5, 4, 6, 11, 10, 9, 9, 7, 6, 5, 4, 9, 12, 5, 9, 9, 8, 11, 4, 11, 6, 3, 4, 7, 6, 4, 10, 3, 6, 10, 9, 10, 12, 4, 7, 7, 7, 5, 5, 8, 12, 10, 4, 7, 6, 6, 5, 12, 4, 7, 7, 8, 10, 2, 7, 6, 7, 8, 4, 11, 2, 4, 5, 7, 10, 4, 5, 10, 9, 5, 5, 5, 4, 9, 6, 3, 9, 5, 9, 8, 8, 11, 7, 5, 4, 9, 10, 5, 4, 12, 3, 5, 8, 3, 7, 7, 4, 5, 9, 7, 8, 9, 6, 7, 6, 7, 7, 7, 10, 8, 7, 7, 9, 3, 9, 6, 5, 3, 5, 5, 6, 7, 5, 9, 9, 7, 2, 11, 12, 8, 10, 7, 10, 9, 8, 7, 6, 6, 7, 7, 5, 11, 10, 5, 6, 5, 8, 10, 7, 6, 8, 7, 3, 12, 5, 7, 7, 9, 7, 5, 6, 5, 9, 7, 8, 7, 7, 10, 11, 5, 7, 9, 11, 5, 11, 4, 6, 10, 8, 7, 8, 7, 5, 5, 6, 5, 8, 7, 12, 8, 6, 9, 3, 4, 4, 5, 5, 9, 4, 7, 9, 6, 4, 9, 6, 10, 8, 4, 7, 8, 7, 7, 5, 5, 11, 3, 8, 8, 8, 6, 8, 4, 4, 8, 5, 10, 6, 10, 8, 8, 5, 10, 5, 3, 10, 11, 7, 5, 6, 4, 5, 7, 9, 9, 7, 9, 6, 3, 8, 2, 12, 7, 6, 3, 11, 5, 5, 7, 9, 4, 7, 9, 12, 11, 3, 9, 6, 9, 6, 7, 11, 9, 9, 5, 6, 11, 6, 8, 9, 9, 3, 9, 8, 5, 9, 7, 6, 8, 6, 10, 10, 9, 8, 6, 8, 6, 2, 3, 8, 6, 5, 7, 5, 4, 8, 7, 11, 4, 7, 5, 6, 10, 4, 8, 6, 5, 7, 6, 6, 10, 9, 10, 7, 6, 3, 11, 7, 7, 7, 8, 3, 12, 6, 10, 6, 11, 6, 5, 8, 12, 11, 10, 6, 2, 10, 7, 10, 11, 3, 9, 7, 7, 7, 9, 11, 6, 8, 8, 8, 12, 9, 5, 5, 7, 3, 4, 2, 8, 11, 4, 2, 7, 11, 8, 10, 8, 8, 8, 8, 2, 5, 7, 9, 5, 2, 5, 5, 5, 9, 11, 7, 7, 4, 5, 5, 8, 8, 5, 8, 5, 9, 8, 5, 7, 6, 5, 9, 6, 6, 8, 7, 4, 12, 11, 10, 7, 8, 4, 11, 9, 10, 7, 9, 11, 5, 3, 10, 7, 8, 7, 11, 8, 9, 6, 9, 7, 10, 5, 9, 2, 4, 11, 7, 4, 8, 6, 7, 6, 6, 6, 8, 10, 4, 6, 7, 10, 5, 5, 9, 11, 6, 10, 8, 8, 7, 6, 5, 11, 11, 8, 4, 2, 6, 9, 4, 5, 8, 5, 9, 6, 5, 8, 5, 6, 9, 7, 8, 8, 7, 9, 8, 5, 11, 4, 6, 9, 7, 9, 8, 6, 6, 5, 7, 8, 8, 4, 9, 7, 3, 3, 3, 5, 11, 8, 6, 6, 7, 5, 9, 7, 4, 10, 11, 7, 9, 12, 6, 12, 11, 3, 10, 8, 2, 10, 10, 11, 7, 2, 10, 7, 5, 4, 12, 7, 5, 8, 5, 9, 6, 7, 10, 3, 9, 4, 8, 2, 6, 7, 4, 10, 3, 7, 9, 12, 3, 6, 11, 8, 5, 4, 7, 2, 12, 7, 9, 10, 10, 10, 8, 3, 6, 6, 9, 6, 8, 7, 8, 9, 9, 11, 9, 7, 7, 6, 5, 8, 11, 7, 4, 4, 5, 6, 3, 4, 5, 4, 6, 6, 8, 5, 6, 4, 7, 11, 12, 7, 3, 6, 2, 7, 11, 7, 5, 6, 6, 7, 2, 5, 3, 6, 8, 5, 8, 10, 10, 12, 3, 7, 7, 9, 2, 6, 7, 10, 6, 8, 11, 9, 4, 7, 10, 7, 9, 6, 8, 7, 11, 10, 7, 6, 6, 7, 2, 7, 4, 5, 6, 12, 9, 9, 8, 10, 5, 7, 5, 12, 10, 8, 2, 6, 10, 5, 8, 12, 3, 5, 7, 8, 11, 9, 7, 7, 6, 7, 7, 7, 6, 7, 6, 9, 6, 4, 5, 9, 4, 7, 5, 9, 11, 3, 8, 4, 6, 7, 3, 5, 6, 7, 7, 9, 4, 11, 6, 6, 3, 6, 6, 2, 12, 4, 3, 5, 9, 8, 7, 9, 5, 6, 6, 7, 5, 4, 4, 12, 7, 5, 6, 6, 2, 7, 4, 10, 9, 4, 8, 7, 4, 7, 3, 10, 7, 6, 12, 10, 9, 3, 8, 5, 9, 5, 10, 10, 5, 8, 3, 6, 6, 6, 8, 9, 6, 9, 7, 4, 3, 8, 7, 8, 4, 6, 7, 2, 3, 8, 6, 8, 6, 6, 6, 8, 6, 8, 7, 9, 3, 6, 11, 9, 10, 6, 10, 5, 3, 8, 7, 9, 4, 4, 5, 4, 6, 9, 6, 6, 11, 9, 5, 5, 6, 2, 4, 6, 4, 4, 10, 9, 9, 7, 2, 9, 8, 10, 3, 5, 7, 10, 7, 8, 7, 9, 9, 4, 10, 5, 6, 8, 6, 7, 6, 12, 7, 5, 10, 5, 4, 3, 3, 5, 6, 3, 2, 6, 8, 7, 5, 9, 8, 6, 5, 6, 9, 9, 9, 10, 6, 9, 7, 9, 9, 10, 9, 4, 4, 9, 11, 8, 4, 6, 2, 9, 10, 6, 11, 9, 7, 4, 3, 5, 12, 10, 7, 8, 7, 5, 8, 9, 6, 8, 8, 7, 5, 7, 7, 4, 11, 8, 4, 6, 10, 3, 4, 7, 3, 4, 4, 6, 10, 11, 3, 7, 6, 3, 9, 5, 5, 10, 9, 3, 5, 7, 6, 9, 4, 9, 5, 8, 5, 9, 10, 11, 10, 7, 6, 10, 9, 8, 4, 6, 7, 9, 7, 10, 10, 5, 9, 6, 8, 2, 10, 12, 9, 6, 11, 9, 8, 8, 7, 6, 8, 7, 9, 8, 9, 8, 7, 8, 4, 7, 4, 3, 6, 5, 9, 4, 5, 5, 8, 12, 3, 12, 2, 5, 4, 9, 2, 8, 4, 8, 4, 10, 6, 5, 8, 10, 7, 8, 4, 11, 4, 8, 7, 4, 5, 9, 8, 11, 9, 6, 8, 9, 11, 10, 2, 4, 6, 9, 10, 3, 5, 10, 6, 8, 6, 4, 9, 7, 12, 8, 3, 10, 8, 8, 7, 7, 6, 5, 7, 6, 6, 6, 5, 2, 5, 8, 4, 8, 7, 5, 8, 7, 9, 11, 8, 9, 8, 4, 7, 10, 4, 6, 6, 11, 4, 5, 4, 6, 5, 6, 10, 11, 7, 8, 7, 5, 9, 6, 9, 6, 8, 11, 9, 3, 7, 11, 6, 3, 6, 6, 6, 4, 11, 8, 6, 8, 6, 8, 7, 7, 3, 10, 10, 10, 10, 6, 6, 2, 6, 5, 7, 6, 11, 6, 9, 11, 8, 9, 11, 7, 7, 8, 11, 5, 11, 8, 7, 8, 4, 6, 10, 9, 3, 5, 9, 12, 3, 7, 7, 6, 7, 6, 4, 7, 9, 7, 11, 6, 8, 5, 2, 8, 8, 6, 4, 7, 3, 5, 10, 6, 5, 11, 5, 8, 3, 6, 8, 3, 7, 2, 7, 10, 4, 6, 3, 8, 6, 10, 7, 2, 5, 5, 7, 10, 6, 3, 6, 7, 7, 6, 11, 3, 5, 11, 4, 2, 6, 4, 6, 11, 4, 4, 6, 10, 12, 7, 6, 8, 9, 9, 6, 8, 9, 6, 9, 9, 10, 6, 9, 9, 7, 6, 4, 9, 6, 8, 6, 7, 9, 12, 12, 8, 9, 6, 3, 8, 7, 11, 5, 9, 8, 10, 4, 4, 9, 11, 3, 10, 12, 9, 7, 7, 9, 6, 5, 10, 10, 7, 9, 6, 6, 7, 9, 7, 9, 8, 3, 12, 4, 9, 8, 12, 4, 4, 3, 9, 11, 7, 7, 3, 9, 9, 11, 2, 5, 4, 4, 7, 9, 6, 3, 4, 8, 6, 7, 11, 7, 5, 6, 9, 5, 7, 12, 5, 6, 6, 4, 9, 6, 10, 3, 10, 7, 4, 7, 5, 8, 8, 9, 7, 6, 7, 4, 10, 3, 6, 10, 8, 8, 7, 6, 9, 3, 9, 5, 7, 8, 5, 7, 6, 9, 10, 12, 7, 9, 6, 4, 5, 8, 7, 7, 9, 10, 10, 7, 9, 10, 9, 5, 10, 9, 10, 8, 7, 9, 7, 6, 3, 3, 7, 7, 7, 5, 9, 10, 9, 11, 9, 9, 3, 9, 7, 8, 11, 12, 7, 3, 7, 8, 2, 10, 10, 7, 8, 3, 9, 7, 5, 11, 6, 10, 3, 6, 7, 11, 6, 7, 9, 5, 6, 5, 9, 11, 4, 12, 5, 8, 4, 7, 12, 4, 8, 3, 6, 7, 7, 6, 7, 5, 5, 9, 6, 7, 11, 8, 6, 8, 9, 12, 5, 10, 5, 9, 12, 8, 9, 2, 12, 6, 6, 5, 3, 8, 10, 5, 8, 6, 8, 4, 3, 6, 7, 12, 4, 7, 7, 2, 7, 5, 7, 8, 10, 7, 3, 9, 10, 10, 9, 4, 7, 3, 8, 4, 11, 9, 2, 7, 7, 11, 7, 8, 7, 5, 11, 5, 6, 9, 7, 9, 7, 11, 12, 11, 9, 11, 12, 8, 4, 5, 6, 6, 10, 6, 11, 8, 7, 8, 8, 4, 10, 4, 7, 4, 10, 6, 8, 8, 9, 9, 11, 7, 12, 9, 4, 12, 7, 10, 9, 6, 6, 11, 6, 3, 4, 7, 11, 11, 7, 8, 4, 11, 9, 11, 10, 6, 10, 7, 6, 8, 9, 2, 12, 9, 5, 9, 7, 8, 10, 2, 3, 4, 5, 8, 5, 10, 7, 10, 6, 11, 5, 7, 7, 10, 5, 5, 6, 2, 4, 5, 8, 3, 8, 7, 9, 8, 7, 5, 4, 7, 9, 4, 7, 12, 10, 8, 9, 5, 8, 7, 8, 8, 6, 7, 5, 8, 6, 6, 8, 7, 8, 2, 7, 3, 8, 4, 8, 7, 11, 7, 3, 5, 10, 9, 10, 5, 7, 6, 5, 10, 11, 9, 2, 6, 8, 6, 4, 8, 5, 7, 9, 5, 6, 5, 7, 7, 7, 3, 11, 5, 10, 10, 11, 6, 2, 6, 9, 7, 3, 6, 5, 11, 6, 6, 6, 6, 9, 5, 8, 5, 7, 9, 6, 4, 12, 9, 6, 9, 10, 10, 5, 6, 10, 10, 10, 6, 12, 7, 8, 8, 9, 9, 6, 2, 3, 11, 7, 10, 3, 6, 4, 6, 10, 10, 6, 11, 12, 8, 8, 9, 4, 5, 7, 8, 6, 7, 7, 6, 9, 8, 6, 8, 7, 9, 11, 6, 7, 9, 8, 9, 4, 8, 6, 10, 10, 7, 5, 7, 7, 6, 6, 3, 9, 5, 3, 9, 4, 6, 9, 5, 8, 6, 2, 4, 3, 7, 9, 4, 8, 9, 7, 5, 8, 8, 12, 3, 5, 7, 8, 6, 5, 5, 2, 5, 6, 7, 8, 6, 6, 7, 9, 4, 11, 4, 9, 4, 11, 9, 9, 4, 10, 8, 7, 8, 6, 7, 10, 4, 6, 6, 8, 5, 4, 5, 10, 7, 7, 12, 6, 6, 6, 8, 2, 3, 4, 7, 5, 5, 12, 8, 4, 3, 8, 6, 6, 8, 4, 5, 6, 10, 5, 4, 8, 9, 11, 7, 11, 9, 6, 10, 7, 8, 5, 8, 11, 4, 10, 8, 7, 10, 2, 7, 6, 8, 4, 4, 10, 7, 2, 10, 11, 8, 8, 8, 7, 10, 11, 3, 9, 7, 11, 6, 7, 7, 8, 7, 7, 10, 9, 4, 5, 6, 9, 5, 5, 6, 4, 6, 7, 7, 8, 3, 3, 12, 6, 3, 7, 3, 6, 8, 8, 8, 7, 7, 7, 8, 8, 11, 6, 9, 6, 3, 5, 7, 8, 7, 7, 7, 5, 8, 6, 10, 9, 7, 6, 7, 6, 6, 5, 7, 6, 9, 7, 7, 10, 7, 8, 9, 9, 4, 2, 9, 4, 8, 9, 6, 8, 6, 7, 11, 3, 3, 4, 3, 4, 9, 10, 9, 9, 4, 4, 10, 10, 5, 11, 5, 4, 6, 7, 8, 2, 6, 11, 10, 8, 4, 7, 5, 9, 4, 5, 5, 10, 8, 9, 6, 5, 11, 6, 4, 6, 9, 6, 9, 5, 7, 10, 8, 4, 3, 6, 9, 6, 3, 12, 8, 7, 7, 8, 10, 9, 6, 7, 11, 7, 9, 7, 10, 11, 6, 3, 7, 10, 7, 12, 5, 9, 11, 4, 11, 2, 6, 11, 8, 11, 4, 6, 4, 5, 7, 4, 6, 10, 6, 4, 10, 4, 6, 3, 8, 8, 5, 4, 3, 8, 4, 10, 7, 11, 11, 11, 2, 2, 4, 10, 6, 2, 6, 8, 12, 3, 2, 4, 8, 9, 7, 12, 5, 7, 6, 6, 5, 9, 12, 9, 11, 9, 3, 6, 6, 6, 11, 7, 9, 11, 6, 9, 9, 4, 4, 10, 2, 8, 10, 9, 5, 10, 2, 8, 6, 6, 7, 9, 8, 6, 5, 6, 5, 8, 8, 8, 6, 9, 12, 3, 8, 4, 6, 4, 7, 12, 6, 10, 4, 7, 9, 6, 4, 10, 3, 2, 8, 10, 10, 10, 12, 9, 7, 7, 7, 7, 9, 5, 6, 10, 8, 10, 3, 5, 5, 8, 7, 3, 4, 8, 5, 8, 7, 2, 10, 9, 8, 8, 5, 12, 5, 11, 2, 9, 7, 8, 9, 6, 7, 8, 9, 9, 9, 2, 4, 10, 6, 10, 4, 4, 11, 12, 7, 5, 5, 10, 11, 4, 10, 7, 7, 6, 5, 8, 7, 6, 5, 9, 9, 10, 5, 8, 6, 10, 7, 2, 9, 10, 7, 6, 6, 11, 6, 7, 6, 12, 7, 9, 5, 9, 5, 8, 10, 10, 3, 9, 10, 3, 5, 10, 9, 9, 8, 9, 5, 7, 4, 5, 5, 5, 3, 3, 5, 10, 7, 6, 10, 10, 3, 7, 12, 2, 10, 9, 5, 4, 9, 9, 10, 6, 10, 9, 9, 7, 7, 7, 5, 11, 8, 4, 6, 6, 5, 9, 8, 4, 8, 10, 9, 4, 9, 9, 7, 7, 9, 3, 7, 10, 6, 6, 7, 7, 7, 8, 11, 7, 5, 9, 9, 10, 3, 5, 8, 6, 12, 3, 7, 11, 6, 7, 8, 8, 10, 9, 8, 11, 9, 8, 8, 7, 5, 8, 5, 8, 7, 6, 9, 4, 10, 4, 6, 9, 4, 9, 10, 9, 9, 6, 8, 8, 7, 7, 7, 7, 8, 7, 6, 4, 6, 4, 7, 12, 3, 7, 7, 6, 6, 9, 8, 8, 10, 8, 7, 4, 8, 11, 2, 9, 7, 5, 6, 6, 7, 3, 8, 3, 11, 4, 5, 8, 9, 11, 8, 7, 9, 7, 7, 8, 5, 4, 7, 7, 2, 9, 4, 7, 8, 4, 8, 5, 9, 5, 7, 7, 5, 7, 3, 5, 8, 5, 4, 6, 6, 10, 9, 9, 6, 9, 9, 11, 9, 5, 2, 9, 7, 10, 7, 7, 8, 11, 4, 2, 8, 5, 10, 10, 6, 6, 11, 11, 3, 6, 6, 8, 4, 10, 7, 9, 7, 6, 8, 4, 7, 8, 9, 12, 7, 6, 9, 10, 5, 7, 6, 5, 5, 8, 4, 7, 9, 10, 4, 7, 10, 6, 3, 6, 5, 5, 9, 7, 7, 11, 4, 8, 8, 9, 9, 11, 6, 7, 8, 5, 6, 7, 12, 6, 3, 8, 10, 8, 11, 3, 7, 6, 6, 9, 9, 6, 6, 3, 8, 4, 9, 9, 8, 9, 7, 9, 6, 8, 9, 9, 5, 8, 5, 3, 7, 8, 11, 6, 4, 9, 6, 4, 6, 10, 4, 3, 7, 8, 8, 6, 8, 11, 11, 8, 9, 4, 11, 5, 12, 12, 5, 5, 4, 8, 4, 8, 10, 8, 6, 6, 10, 9, 4, 7, 10, 10, 4, 4, 6, 3, 7, 7, 11, 9, 7, 4, 11, 9, 7, 6, 5, 4, 4, 9, 6, 6, 5, 6, 5, 5, 9, 7, 10, 10, 6, 9, 6, 5, 5, 10, 8, 3, 6, 4, 5, 3, 10, 3, 4, 8, 9, 12, 4, 4, 5, 12, 4, 8, 5, 3, 3, 3, 12, 7, 5, 5, 7, 5, 5, 6, 11, 7, 10, 5, 11, 8, 7, 5, 7, 7, 4, 5, 11, 6, 4, 5, 3, 5, 8, 4, 5, 6, 6, 8, 8, 6, 7, 6, 9, 8, 10, 10, 6, 11, 8, 5, 7, 10, 10, 6, 7, 6, 5, 10, 5, 5, 9, 11, 12, 8, 7, 5, 11, 11, 6, 11, 8, 8, 6, 7, 9, 7, 5, 7, 5, 7, 10, 7, 5, 8, 6, 3, 7, 7, 6, 7, 8, 10, 3, 7, 2, 6, 4, 10, 9, 2, 10, 9, 6, 4, 9, 7, 8, 8, 3, 7, 9, 11, 10, 8, 10, 11, 10, 7, 2, 7, 4, 8, 8, 7, 5, 7, 4, 6, 5, 7, 6, 7, 7, 5, 11, 9, 9, 8, 10, 6, 9, 6, 6, 7, 9, 4, 7, 7, 4, 9, 7, 6, 8, 6, 11, 4, 7, 7, 10, 4, 7, 5, 7, 6, 6, 4, 9, 5, 12, 7, 4, 11, 8, 6, 5, 6, 9, 10, 3, 8, 7, 6, 7, 6, 9, 9, 4, 8, 3, 9, 6, 7, 7, 7, 9, 6, 8, 7, 8, 5, 7, 4, 6, 12, 4, 7, 6, 6, 6, 10, 10, 12, 5, 5, 9, 4, 9, 6, 7, 12, 4, 5, 7, 7, 6, 9, 8, 3, 5, 5, 5, 7, 7, 7, 4, 8, 6, 6, 10, 4, 8, 6, 10, 4, 9, 5, 4, 8, 4, 3, 9, 8, 5, 2, 7, 7, 5, 7, 5, 4, 10, 6, 5, 4, 5, 6, 9, 4, 10, 5, 2, 10, 10, 6, 8, 12, 8, 7, 11, 12, 6, 5, 3, 9, 6, 6, 10, 5, 9, 4, 6, 3, 3, 8, 7, 3, 8, 9, 11, 8, 7, 7, 9, 11, 4, 3, 4, 8, 5, 5, 9, 8, 8, 8, 9, 9, 6, 10, 7, 7, 8, 10, 2, 8, 6, 5, 4, 6, 4, 9, 9, 4, 3, 3, 5, 7, 6, 9, 6, 6, 7, 9, 9, 4, 10, 10, 8, 6, 4, 2, 5, 9, 8, 7, 7, 9, 11, 5, 6, 5, 6, 10, 7, 6, 7, 5, 2, 10, 4, 6, 5, 8, 6, 7, 6, 8, 10, 9, 6, 9, 6, 9, 5, 9, 2, 7, 9, 8, 5, 9, 7, 10, 6, 7, 2, 12, 10, 5, 8, 5, 10, 7, 8, 7, 6, 5, 7, 5, 8, 7, 4, 4, 5, 5, 4, 11, 5, 7, 8, 11, 10, 7, 10, 3, 10, 7, 6, 5, 7, 8, 6, 3, 7, 7, 8, 4, 3, 9, 10, 7, 10, 9, 10, 9, 7, 4, 5, 11, 10, 8, 5, 3, 7, 9, 11, 9, 10, 7, 7, 8, 4, 10, 7, 4, 6, 3, 5, 4, 10, 9, 5, 10, 8, 4, 5, 5, 4, 5, 4, 3, 8, 8, 10, 10, 8, 7, 9, 10, 8, 7, 7, 3, 7, 8, 10, 10, 10, 5, 6, 6, 7, 5, 10, 8, 8, 10, 11, 2, 7, 4, 5, 7, 10, 7, 10, 8, 11, 3, 11, 7, 5, 6, 9, 5, 8, 7, 4, 6, 7, 11, 6, 11, 8, 4, 6, 7, 9, 12, 4, 6, 8, 4, 9, 8, 11, 3, 8, 7, 7, 8, 8, 9, 5, 8, 9, 11, 9, 6, 9, 8, 8, 9, 7, 10, 11, 5, 12, 4, 5, 8, 8, 8, 8, 3, 6, 12, 6, 10, 3, 5, 8, 8, 5, 7, 8, 7, 7, 6, 8, 9, 8, 7, 8, 12, 9, 4, 11, 4, 8, 2, 6, 11, 5, 5, 6, 9, 7, 11, 8, 11, 3, 8, 3, 11, 8, 5, 6, 10, 6, 6, 6, 3, 8, 7, 10, 7, 6, 3, 4, 8, 6, 9, 5, 9, 10, 7, 6, 10, 6, 10, 10, 11, 3, 8, 5, 7, 6, 10, 4, 8, 6, 9, 4, 4, 9, 7, 6, 9, 5, 8, 8, 8, 10, 7, 12, 8, 8, 8, 9, 7, 6, 10, 3, 3, 10, 5, 5, 8, 6, 2, 4, 10, 11, 9, 11, 3, 3, 6, 4, 9, 8, 11, 11, 9, 10, 10, 7, 7, 8, 10, 9, 6, 8, 9, 5, 9, 7, 9, 4, 5, 7, 6, 8, 12, 6, 6, 5, 8, 5, 5, 5, 8, 4, 11, 7, 5, 8, 2, 7, 8, 9, 8, 10, 10, 5, 6, 8, 9, 5, 7, 3, 10, 8, 7, 5, 3, 9, 8, 5, 8, 5, 2, 8, 5, 7, 7, 7, 7, 8, 7, 11, 7, 6, 5, 5, 2, 6, 9, 3, 10, 7, 8, 12, 11, 9, 9, 10, 6, 9, 5, 5, 7, 9, 7, 9, 5, 7, 5, 7, 6, 11, 5, 10, 4, 9, 3, 6, 4, 6, 8, 9, 8, 7, 7, 6, 9, 10, 7, 4, 6, 9, 9, 5, 11, 8, 2, 6, 4, 9, 5, 6, 7, 5, 7, 5, 6, 8, 7, 7, 10, 7, 2, 7, 3, 8, 2, 7, 5, 5, 8, 7, 7, 5, 8, 7, 5, 6, 7, 4, 8, 8, 10, 8, 7, 7, 10, 4, 11, 7, 8, 7, 10, 4, 7, 8, 6, 8, 4, 7, 10, 6, 7, 6, 3, 7, 12, 9, 4, 2, 11, 6, 10, 5, 8, 6, 7, 6, 10, 8, 9, 8, 7, 6, 10, 10, 9, 12, 5, 8, 8, 9, 6, 7, 9, 3, 8, 6, 7, 6, 5, 7, 8, 6, 5, 3, 6, 8, 7, 8, 8, 4, 8, 11, 7, 10, 10, 5, 11, 8, 10, 12, 6, 7, 7, 5, 9, 7, 5, 11, 3, 5, 9, 6, 10, 6, 10, 7, 6, 10, 10, 4, 10, 6, 7, 3, 6, 8, 6, 8, 7, 5, 7, 5, 9, 8, 10, 3, 9, 8, 9, 8, 5, 9, 7, 5, 10, 9, 8, 6, 6, 4, 5, 3, 7, 8, 8, 8, 9, 6, 4, 9, 5, 8, 4, 4, 9, 7, 11, 10, 4, 2, 6, 2, 10, 6, 9, 8, 8, 7, 8, 6, 9, 8, 5, 4, 4, 8, 9, 8, 7, 10, 5, 8, 6, 6, 4, 7, 9, 7, 9, 4, 8, 7, 6, 4, 8, 6, 5, 4, 8, 3, 5, 8, 8, 2, 6, 9, 5, 8, 5, 9, 8, 8, 5, 7, 9, 4, 8, 3, 8, 4, 6, 7, 8, 9, 6, 9, 7, 5, 7, 7, 3, 6, 9, 3, 7, 6, 7, 5, 8, 5, 2, 9, 9, 9, 6, 6, 11, 6, 5, 8, 10, 7, 10, 3, 8, 10, 9, 6, 11, 6, 8, 8, 8, 3, 8, 9, 8, 5, 10, 10, 7, 11, 8, 10, 5, 7, 5, 7, 6, 8, 6, 8, 6, 4, 6, 6, 7, 5, 9, 7, 6, 5, 7, 8, 7, 8, 9, 10, 8, 6, 11, 6, 8, 9, 9, 4, 8, 4, 8, 5, 6, 8, 4, 11, 8, 4, 6, 3, 9, 6, 8, 4, 3, 7, 7, 3, 8, 6, 9, 2, 8, 8, 9, 9, 8, 7, 8, 4, 4, 5, 4, 6, 9, 11, 8, 5, 6, 9, 5, 12, 7, 11, 4, 6, 8, 11, 10, 7, 2, 8, 9, 11, 11, 7, 11, 8, 7, 4, 6, 7, 9, 3, 7, 6, 12, 5, 10, 6, 10, 10, 3, 7, 10, 8, 10, 4, 6, 8, 8, 3, 9, 6, 11, 7, 8, 9, 7, 7, 9, 5, 7, 8, 7, 5, 7, 8, 9, 8, 7, 6, 8, 2, 12, 11, 5, 5, 9, 5, 5, 4, 7, 3, 8, 7, 8, 10, 3, 6, 8, 9, 9, 7, 2, 8, 4, 2, 6, 8, 9, 6, 9, 4, 8, 12, 9, 5, 9, 9, 3, 9, 9, 6, 11, 9, 5, 6, 4, 8, 7, 8, 12, 7, 6, 6, 9, 10, 4, 7, 7, 11, 4, 6, 7, 12, 9, 10, 8, 4, 9, 2, 5, 9, 6, 9, 2, 4, 3, 6, 3, 9, 5, 10, 5, 9, 8, 8, 7, 6, 4, 4, 8, 8, 6, 5, 4, 10, 5, 10, 6, 5, 7, 5, 8, 6, 3, 5, 3, 9, 5, 7, 6, 8, 12, 4, 7, 7, 6, 6, 12, 7, 5, 8, 5, 3, 8, 7, 8, 11, 5, 5, 8, 2, 6, 8, 8, 5, 8, 6, 7, 7, 4, 5, 5, 6, 7, 5, 5, 2, 12, 2, 10, 9, 5, 7, 5, 6, 3, 8, 9, 8, 5, 6, 4, 10, 9, 9, 10, 8, 9, 4, 4, 6, 7, 10, 7, 6, 7, 6, 7, 4, 3, 9, 5, 9, 7, 7, 6, 3, 8, 8, 5, 10, 5, 4, 3, 5, 8, 7, 10, 6, 7, 10, 9, 8, 7, 7, 2, 8, 3, 11, 7, 10, 7, 5, 5, 8, 9, 7, 9, 3, 9, 8, 6, 7, 7, 11, 11, 7, 10, 11, 8, 4, 6, 5, 11, 7, 5, 7, 8, 4, 8, 6, 8, 5, 5, 7, 4, 10, 8, 6, 3, 4, 7, 9, 10, 6, 5, 7, 2, 8, 6, 6, 4, 12, 7, 7, 6, 6, 12, 6, 12, 11, 7, 7, 8, 6, 4, 8, 6, 8, 10, 12, 3, 10, 2, 4, 5, 4, 7, 9, 11, 8, 12, 11, 9, 6, 12, 10, 6, 8, 6, 2, 7, 9, 8, 4, 8, 5, 6, 5, 8, 11, 8, 7, 11, 10, 8, 5, 8, 7, 9, 10, 2, 10, 8, 6, 8, 9, 2, 11, 11, 9, 7, 6, 4, 6, 6, 8, 7, 9, 10, 2, 6, 11, 6, 6, 5, 5, 11, 3, 8, 5, 5, 5, 5, 4, 5, 7, 8, 3, 10, 4, 8, 6, 6, 8, 10, 5, 5, 7, 10, 6, 3, 6, 5, 6, 6, 4, 5, 7, 10, 6, 4, 8, 11, 7, 6, 7, 7, 8, 9, 5, 8, 8, 9, 9, 4, 3, 7, 5, 4, 7, 5, 9, 5, 8, 9, 7, 7, 11, 11, 7, 5, 6, 8, 9, 8, 7, 5, 7, 7, 3, 8, 11, 9, 7, 5, 7, 8, 7, 9, 6, 5, 2, 5, 10, 5, 9, 6, 5, 7, 6, 5, 6, 8, 10, 7, 4, 6, 7, 4, 6, 7, 5, 7, 6, 10, 7, 11, 4, 6, 2, 4, 11, 6, 10, 7, 8, 5, 2, 6, 5, 2, 6, 5, 4, 8, 7, 9, 8, 6, 9, 6, 10, 10, 6, 10, 11, 6, 7, 8, 7, 2, 10, 10, 4, 10, 2, 3, 6, 7, 5, 10, 11, 8, 9, 6, 2, 3, 7, 5, 4, 7, 5, 4, 5, 5, 4, 8, 11, 6, 9, 6, 2, 8, 9, 5, 7, 5, 8, 4, 6, 5, 6, 5, 5, 7, 10, 6, 2, 3, 11, 6, 6, 6, 7, 8, 9, 9, 6, 10, 8, 8, 5, 7, 3, 4, 9, 5, 7, 8, 3, 8, 7, 6, 10, 10, 3, 9, 7, 10, 9, 9, 6, 2, 10, 8, 6, 10, 6, 9, 7, 12, 10, 8, 7, 8, 8, 8, 8, 5, 4, 8, 5, 6, 9, 6, 7, 10, 8, 7, 12, 9, 4, 9, 7, 6, 9, 8, 4, 7, 7, 4, 8, 5, 9, 9, 7, 7, 8, 4, 6, 5, 6, 7, 7, 9, 7, 6, 4, 8, 3, 4, 3, 6, 6, 6, 5, 9, 8, 7, 6, 5, 8, 4, 5, 7, 7, 4, 10, 7, 11, 4, 7, 3, 11, 7, 7, 10, 7, 6, 4, 6, 7, 11, 7, 6, 6, 6, 7, 12, 9, 4, 8, 9, 5, 7, 2, 3, 9, 9, 11, 6, 7, 6, 7, 5, 6, 5, 8, 7, 6, 9, 8, 4, 6, 5, 9, 10, 4, 5, 11, 8, 4, 5, 6, 6, 5, 12, 2, 7, 2, 6, 4, 6, 6, 3, 4, 6, 10, 11, 6, 4, 3, 4, 8, 10, 2, 3, 9, 8, 4, 5, 8, 4, 3, 2, 6, 4, 6, 5, 9, 8, 4, 7, 8, 4, 11, 5, 9, 8, 7, 6, 5, 11, 6, 7, 8, 11, 7, 5, 5, 6, 7, 10, 5, 4, 2, 7, 11, 4, 6, 11, 5, 7, 8, 8, 7, 7, 5, 7, 5, 3, 12, 8, 6, 7, 8, 8, 10, 8, 4, 7, 8, 7, 2, 9, 6, 9, 8, 4, 7, 8, 7, 7, 8, 6, 6, 7, 8, 4, 4, 9, 8, 7, 2, 4, 3, 4, 10, 6, 11, 6, 9, 11, 5, 9, 9, 6, 7, 5, 7, 5, 7, 6, 9, 7, 8, 3, 5, 4, 11, 8, 5, 5, 5, 10, 4, 3, 10, 7, 8, 9, 5, 9, 9, 11, 9, 4, 8, 9, 6, 12, 8, 3, 9, 3, 7, 6, 7, 7, 6, 9, 12, 11, 7, 8, 10, 5, 7, 5, 5, 6, 3, 8, 5, 9, 3, 6, 6, 7, 8, 6, 6, 6, 9, 3, 7, 10, 7, 9, 7, 5, 7, 11, 10, 7, 7, 11, 8, 10, 8, 9, 3, 9, 3, 10, 11, 9, 6, 6, 5, 7, 10, 6, 8, 6, 7, 5, 4, 8, 3, 9, 5, 4, 3, 5, 7, 6, 11, 9, 3, 3, 6, 8, 5, 5, 9, 3, 9, 8, 6, 5, 7, 5, 7, 7, 6, 10, 6, 5, 4, 12, 7, 7, 6, 10, 2, 5, 4, 11, 9, 8, 7, 7, 5, 6, 10, 8, 8, 6, 9, 8, 6, 4, 5, 8, 10, 8, 4, 5, 10, 12, 7, 10, 7, 12, 7, 7, 10, 7, 9, 6, 8, 11, 3, 6, 10, 4, 6, 5, 7, 9, 11, 8, 3, 7, 5, 11, 7, 7, 7, 9, 7, 5, 4, 10, 10, 8, 6, 5, 6, 12, 11, 7, 9, 6, 6, 3, 6, 4, 6, 9, 7, 5, 2, 4, 10, 3, 8, 7, 8, 8, 7, 6, 12, 3, 9, 6, 4, 8, 8, 7, 7, 11, 3, 5, 9, 5, 8, 10, 7, 11, 3, 7, 7, 11, 7, 11, 11, 8, 4, 4, 10, 8, 6, 4, 10, 5, 6, 5, 8, 10, 8, 6, 9, 8, 7, 6, 8, 7, 3, 8, 8, 7, 6, 9, 7, 8, 6, 8, 7, 4, 8, 7, 10, 7, 9, 5, 5, 4, 9, 9, 10, 8, 5, 10, 7, 5, 6, 10, 9, 9, 10, 8, 6, 10, 6, 9, 9, 8, 12, 7, 5, 4, 9, 9, 6, 5, 7, 7, 9, 8, 6, 5, 5, 6, 9, 6, 6, 4, 5, 6, 6, 7, 8, 7, 4, 10, 10, 10, 11, 5, 7, 11, 5, 3, 9, 9, 8, 8, 8, 7, 2, 7, 5, 8, 12, 4, 5, 7, 5, 10, 4, 8, 4, 8, 3, 9, 7, 7, 7, 7, 11, 4, 8, 4, 6, 6, 5, 4, 8, 11, 6, 3, 8, 8, 6, 5, 12, 9, 7, 6, 9, 7, 9, 5, 10, 10, 12, 7, 8, 9, 8, 5, 10, 8, 8, 9, 6, 6, 11, 8, 6, 7, 10, 11, 5, 12, 10, 7, 7, 7, 12, 7, 8, 3, 2, 6, 10, 5, 4, 2, 6, 10, 9, 8, 10, 6, 7, 12, 9, 9, 9, 5, 4, 6, 7, 2, 7, 4, 5, 11, 7, 8, 5, 7, 7, 3, 8, 10, 8, 11, 7, 7, 8, 2, 9, 6, 4, 4, 11, 5, 3, 6, 8, 2, 11, 3, 12, 2, 4, 4, 6, 6, 8, 8, 6, 9, 5, 5, 6, 9, 7, 2, 8, 8, 2, 3, 8, 10, 5, 7, 5, 7, 7, 6, 10, 3, 5, 6, 6, 10, 10, 4, 5, 5, 7, 7, 11, 10, 7, 10, 8, 7, 6, 7, 10, 4, 6, 8, 9, 4, 6, 7, 7, 7, 8, 7, 7, 9, 6, 7, 7, 4, 9, 8, 2, 8, 4, 8, 7, 4, 7, 11, 6, 7, 3, 6, 7, 3, 7, 8, 6, 9, 12, 7, 8, 9, 10, 11, 6, 7, 4, 10, 3, 6, 8, 6, 9, 6, 7, 11, 6, 4, 11, 8, 6, 7, 12, 4, 8, 7, 4, 8, 9, 5, 3, 8, 3, 10, 4, 8, 5, 8, 8, 6, 7, 8, 6, 6, 6, 7, 10, 8, 8, 6, 6, 8, 7, 3, 10, 11, 5, 8, 4, 5, 7, 4, 3, 9, 4, 7, 8, 8, 12, 12, 8, 12, 10, 10, 6, 5, 3, 6, 10, 5, 7, 4, 7, 10, 6, 7, 4, 4, 10, 6, 7, 8, 3, 6, 7, 9, 6, 12, 6, 6, 10, 2, 2, 10, 10, 8, 9, 9, 8, 6, 6, 11, 6, 10, 5, 10, 7, 7, 6, 5, 8, 4, 6, 6, 5, 10, 5, 7, 8, 7, 6, 3, 8, 10, 8, 6, 5, 8, 4, 7, 8, 9, 5, 8, 8, 3, 7, 7, 6, 6, 7, 7, 10, 9, 3, 11, 10, 5, 4, 5, 7, 9, 11, 9, 7, 5, 7, 6, 4, 10, 7, 5, 6, 9, 9, 9, 3, 7, 6, 4, 6, 5, 7, 5, 10, 7, 8, 5, 6, 7, 5, 5, 6, 5, 9, 5, 3, 7, 5, 8, 8, 6, 9, 10, 3, 10, 8, 6, 10, 9, 2, 6, 4, 6, 7, 7, 9, 6, 7, 11, 9, 11, 8, 10, 9, 3, 5, 6, 8, 4, 5, 5, 10, 9, 4, 6, 8, 7, 5, 11, 5, 4, 9, 6, 3, 9, 6, 9, 3, 6, 7, 8, 10, 9, 5, 9, 8, 7, 4, 6, 7, 9, 4, 11, 5, 4, 7, 11, 10, 11, 12, 7, 6, 4, 7, 8, 7, 8, 3, 6, 10, 5, 5, 6, 7, 9, 3, 4, 6, 7, 2, 8, 11, 5, 6, 5, 9, 4, 10, 8, 3, 7, 12, 7, 7, 3, 6, 3, 7, 6, 8, 10, 11, 6, 10, 11, 7, 6, 4, 10, 7, 5, 5, 3, 7, 9, 6, 7, 11, 10, 7, 7, 7, 8, 6, 7, 7, 5, 9, 8, 9, 7, 5, 6, 11, 5, 7, 10, 5, 7, 10, 4, 10, 8, 8, 11, 7, 7, 7, 8, 6, 9, 6, 2, 10, 2, 8, 9, 11, 7, 5, 2, 6, 6, 4, 4, 10, 7, 4, 10, 3, 5, 6, 6, 11, 11, 9, 8, 4, 8, 6, 7, 9, 8, 8, 7, 7, 7, 6, 3, 7, 11, 3, 9, 10, 8, 10, 8, 6, 11, 7, 9, 8, 6, 7, 5, 4, 7, 4, 5, 7, 7, 8, 4, 3, 6, 9, 6, 8, 10, 7, 7, 5, 4, 9, 12, 7, 6, 9, 3, 5, 6, 7, 3, 6, 9, 11, 5, 9, 2, 10, 6, 3, 6, 9, 4, 7, 7, 4, 10, 8, 2, 4, 4, 9, 8, 3, 12, 9, 8, 8, 9, 6, 6, 7, 4, 9, 10, 7, 9, 10, 6, 10, 11, 8, 7, 5, 5, 8, 6, 6, 7, 5, 2, 12, 12, 4, 9, 10, 7, 7, 2, 3, 6, 10, 7, 7, 4, 4, 8, 2, 8, 5, 7, 4, 11, 6, 2, 6, 12, 8, 9, 9, 8, 10, 7, 6, 8, 7, 11, 10, 12, 4, 2, 4, 5, 12, 12, 8, 5, 12, 6, 6, 10, 11, 3, 4, 9, 8, 6, 7, 8, 9, 2, 10, 2, 6, 8, 10, 7, 8, 8, 8, 7, 7, 7, 7, 4, 9, 7, 10, 10, 8, 7, 6, 6, 8, 6, 4, 10, 5, 8, 4, 11, 9, 5, 7, 8, 7, 7, 8, 11, 9, 4, 5, 5, 8, 6, 6, 9, 3, 4, 5, 7, 2, 8, 12, 9, 11, 10, 8, 5, 7, 10, 4, 3, 7, 5, 11, 5, 8, 9, 6, 6, 6, 9, 8, 9, 7, 8, 12, 7, 9, 6, 9, 2, 7, 7, 11, 7, 6, 9, 7, 8, 10, 2, 9, 9, 3, 2, 7, 5, 4, 5, 12, 7, 10, 3, 4, 5, 6, 9, 9, 4, 11, 6, 7, 10, 6, 5, 10, 7, 10, 8, 5, 9, 8, 9, 10, 3, 9, 8, 8, 7, 8, 2, 6, 8, 11, 2, 7, 10, 8, 10, 7, 8, 9, 6, 8, 10, 8, 7, 11, 9, 8, 5, 8, 10, 7, 5, 6, 9, 3, 5, 7, 8, 3, 7, 8, 12, 3, 4, 10, 4, 10, 9, 3, 7, 4, 6, 5, 7, 7, 6, 5, 12, 12, 10, 4, 12, 4, 4, 12, 8, 3, 7, 5, 8, 4, 5, 7, 9, 9, 8, 3, 9, 5, 3, 11, 5, 5, 11, 10, 6, 9, 7, 9, 5, 8, 6, 6, 6, 8, 3, 11, 5, 6, 4, 9, 4, 4, 4, 12, 7, 7, 8, 4, 8, 3, 8, 6, 5, 8, 9, 3, 5, 12, 10, 7, 5, 6, 8, 2, 10, 5, 9, 9, 6, 3, 8, 2, 5, 12, 6, 10, 7, 6, 9, 3, 8, 6, 7, 10, 9, 8, 10, 9, 4, 10, 7, 7, 6, 7, 5, 5, 8, 7, 7, 12, 3, 7, 8, 7, 2, 7, 8, 5, 4, 8, 10, 11, 7, 6, 5, 7, 11, 6, 4, 6, 12, 2, 8, 10, 10, 9, 7, 8, 6, 4, 8, 9, 7, 5, 4, 6, 7, 6, 6, 3, 5, 9, 10, 4, 6, 9, 8, 5, 9, 11, 9, 4, 2, 8, 3, 4, 8, 5, 4, 6, 7, 9, 2, 9, 2, 8, 11, 4, 6, 6, 4, 9, 11, 3, 9, 7, 8, 10, 8, 5, 7, 11, 6, 10, 12, 5, 6, 10, 4, 10, 9, 7, 2, 4, 10, 5, 7, 9, 10, 8, 8, 8, 4, 6, 6, 6, 6, 8, 6, 7, 5, 5, 7, 6, 9, 4, 2, 7, 5, 9, 9, 12, 10, 5, 4, 10, 7, 7, 9, 8, 3, 2, 8, 6, 9, 6, 4, 7, 5, 2, 7, 9, 11, 6, 7, 7, 7, 10, 8, 6, 9, 4, 9, 5, 9, 7, 9, 8, 8, 9, 4, 5, 8, 8, 7, 7, 9, 9, 5, 6, 9, 5, 12, 5, 5, 7, 5, 3, 8, 4, 10, 3, 10, 6, 5, 6, 6, 7, 8, 7, 7, 6, 7, 6, 8, 5, 7, 6, 8, 7, 5, 6, 10, 11, 9, 8, 3, 4, 6, 4, 8, 9, 8, 6, 8, 9, 4, 7, 8, 8, 9, 5, 8, 9, 8, 3, 8, 6, 3, 4, 7, 9, 7, 6, 4, 6, 7, 5, 8, 6, 4, 9, 8, 7, 6, 3, 3, 6, 8, 5, 12, 9, 4, 10, 4, 8, 5, 6, 3, 6, 3, 6, 7, 6, 7, 6, 4, 5, 5, 2, 7, 5, 5, 8, 10, 7, 4, 9, 5, 4, 5, 5, 10, 10, 5, 7, 5, 4, 8, 6, 7, 7, 9, 2, 6, 10, 5, 3, 5, 5, 8, 5, 10, 7, 6, 8, 5, 9, 9, 8, 4, 7, 6, 8, 7, 7, 7, 7, 7, 8, 8, 6, 12, 5, 6, 6, 6, 4, 12, 4, 12, 9, 11, 10, 8, 10, 4, 5, 8, 7, 6, 11, 10, 6, 10, 5, 9, 10, 5, 10, 9, 11, 7, 6, 9, 12, 9, 7, 10, 5, 7, 6, 7, 8, 4, 9, 9, 11, 7, 6, 7, 7, 11, 10, 8, 6, 12, 5, 4, 6, 11, 6, 9, 5, 2, 9, 11, 10, 11, 8, 10, 5, 10, 6, 9, 6, 7, 6, 4, 10, 8, 11, 11, 7, 4, 5, 7, 8, 3, 9, 5, 8, 7, 8, 5, 5, 9, 5, 9, 5, 7, 5, 12, 2, 8, 9, 6, 7, 8, 9, 2, 5, 12, 9, 6, 9, 7, 10, 9, 11, 11, 8, 7, 5, 9, 7, 9, 7, 11, 7, 9, 9, 5, 9, 8, 11, 9, 11, 7, 5, 6, 7, 8, 4, 3, 9, 11, 12, 5, 11, 8, 4, 6, 6, 7, 6, 3, 9, 8, 6, 8, 5, 2, 4, 7, 11, 8, 10, 11, 7, 9, 7, 12, 5, 7, 5, 6, 8, 6, 6, 2, 6, 3, 10, 4, 6, 6, 5, 6, 7, 10, 7, 9, 3, 3, 10, 7, 9, 6, 4, 7, 7, 11, 9, 5, 5, 7, 10, 7, 7, 4, 8, 4, 12, 9, 9, 6, 11, 5, 6, 10, 10, 8, 6, 8, 5, 9, 10, 7, 4, 10, 7, 8, 4, 10, 6, 6, 6, 10, 5, 8, 12, 8, 11, 7, 2, 9, 7, 6, 2, 6, 10, 6, 6, 7, 10, 7, 7, 7, 6, 8, 9, 5, 7, 9, 8, 6, 7, 3, 11, 12, 9, 6, 4, 8, 4, 7, 3, 7, 9, 9, 8, 5, 12, 7, 7, 10, 6, 5, 5, 8, 7, 4, 12, 7, 8, 6, 7, 5, 7, 7, 4, 4, 11, 8, 4, 9, 6, 6, 10, 7, 3, 8, 7, 5, 8, 7, 7, 7, 6, 5, 5, 6, 2, 7, 9, 8, 7, 8, 8, 6, 12, 5, 5, 3, 10, 8, 12, 9, 6, 9, 11, 11, 5, 7, 9, 10, 6, 12, 8, 7, 10, 11, 8, 8, 7, 8, 7, 8, 8, 8, 10, 3, 3, 7, 3, 4, 7, 7, 8, 7, 4, 6, 8, 6, 7, 4, 9, 6, 8, 5, 9, 4, 8, 8, 12, 6, 7, 2, 3, 3, 9, 5, 6, 9, 4, 4, 11, 4, 2, 11, 7, 7, 12, 3, 2, 7, 3, 7, 6, 10, 4, 6, 5, 7, 6, 12, 12, 8, 3, 2, 10, 9, 4, 8, 4, 9, 4, 8, 6, 3, 12, 6, 8, 8, 5, 3, 6, 6, 10, 7, 10, 6, 7, 7, 10, 2, 12, 5, 6, 2, 8, 9, 6, 7, 8, 10, 8, 7, 10, 5, 6, 10, 3, 5, 6, 8, 10, 6, 7, 9, 6, 10, 7, 5, 6, 7, 3, 8, 7, 9, 5, 8, 7, 5, 10, 2, 2, 10, 5, 10, 5, 6, 3, 4, 3, 5, 5, 10, 8, 11, 6, 3, 10, 8, 10, 5, 7, 8, 9, 4, 7, 7, 9, 8, 3, 3, 4, 8, 9, 8, 8, 10, 10, 5, 8, 6, 5, 4, 7, 11, 9, 9, 10, 5, 7, 7, 7, 9, 4, 9, 6, 7, 8, 9, 4, 4, 8, 6, 7, 6, 5, 6, 6, 8, 8, 10, 6, 10, 7, 8, 7, 6, 8, 6, 12, 3, 7, 10, 5, 6, 10, 7, 8, 10, 5, 10, 8, 4, 9, 2, 5, 9, 6, 6, 6, 3, 8, 9, 8, 9, 11, 5, 6, 5, 4, 8, 6, 2, 4, 9, 11, 10, 8, 3, 5, 8, 4, 7, 7, 11, 11, 6, 11, 6, 6, 9, 8, 4, 7, 5, 6, 10, 4, 5, 8, 10, 8, 10, 7, 9, 11, 10, 7, 4, 8, 10, 5, 9, 8, 9, 9, 6, 8, 4, 6, 10, 9, 4, 6, 9, 8, 12, 9, 5, 8, 7, 11, 2, 10, 9, 9, 9, 6, 6, 7, 9, 3, 5, 6, 11, 7, 8, 9, 11, 6, 8, 8, 10, 4, 7, 10, 7, 9, 6, 9, 8, 6, 6, 4, 7, 7, 7, 9, 9, 12, 9, 8, 4, 8, 6, 10, 6, 9, 7, 12, 6, 11, 5, 5, 7, 9, 7, 5, 8, 11, 7, 10, 10, 6, 7, 12, 3, 9, 7, 10, 9, 11, 3, 12, 4, 8, 4, 6, 12, 9, 8, 5, 8, 2, 10, 9, 6, 3, 8, 10, 12, 5, 7, 6, 6, 3, 5, 7, 7, 6, 6, 8, 5, 9, 3, 9, 6, 6, 4, 10, 9, 5, 7, 7, 6, 5, 9, 6, 4, 8, 11, 5, 6, 4, 10, 2, 10, 9, 10, 7, 9, 7, 5, 4, 10, 3, 10, 4, 8, 4, 8, 8, 10, 7, 4, 2, 7, 4, 9, 8, 5, 8, 7, 8, 11, 11, 7, 5, 4, 9, 7, 3, 7, 7, 6, 10, 6, 5, 6, 4, 6, 10, 5, 7, 6, 4, 7, 12, 9, 9, 12, 3, 8, 3, 5, 7, 7, 5, 8, 5, 10, 5, 8, 7, 8, 3, 6, 6, 8, 4, 3, 5, 6, 5, 5, 8, 4, 9, 4, 7, 7, 8, 10, 5, 6, 3, 5, 9, 5, 7, 7, 7, 4, 3, 5, 6, 9, 10, 3, 7, 7, 5, 6, 11, 5, 4, 2, 9, 7, 9, 4, 3, 9, 8, 8, 8, 6, 4, 10, 7, 9, 11, 2, 7, 9, 9, 10, 5, 5, 8, 9, 9, 7, 7, 5, 10, 5, 9, 8, 6, 8, 10, 9, 6, 8, 4, 4, 9, 4, 11, 7, 5, 2, 7, 11, 2, 7, 11, 6, 7, 9, 7, 9, 7, 7, 6, 3, 6, 7, 7, 9, 3, 7, 12, 7, 6, 4, 8, 2, 6, 4, 4, 5, 8, 6, 5, 7, 11, 9, 4, 5, 6, 2, 9, 7, 11, 8, 8, 8, 11, 6, 9, 7, 7, 8, 7, 6, 2, 3, 7, 7, 4, 12, 5, 3, 9, 10, 4, 8, 9, 5, 5, 8, 4, 12, 8, 5, 3, 7, 10, 7, 6, 3, 10, 4, 5, 2, 7, 6, 11, 9, 5, 6, 10, 4, 10, 8, 9, 4, 7, 5, 9, 4, 11, 8, 6, 8, 9, 7, 7, 9, 8, 6, 5, 7, 7, 8, 5, 7, 8, 3, 5, 7, 10, 5, 10, 5, 7, 4, 8, 6, 12, 12, 9, 6, 6, 2, 6, 3, 11, 7, 10, 5, 5, 5, 8, 5, 5, 7, 6, 9, 4, 7, 6, 2, 7, 6, 11, 6, 5, 12, 2, 4, 9, 2, 7, 4, 6, 10, 10, 5, 12, 8, 6, 7, 6, 6, 5, 7, 11, 7, 8, 11, 3, 11, 8, 8, 7, 5, 10, 12, 6, 10, 4, 6, 5, 10, 6, 10, 8, 3, 6, 7, 9, 9, 2, 10, 11, 3, 6, 4, 8, 9, 8, 8, 10, 5, 7, 9, 6, 4, 4, 9, 5, 8, 4, 11, 2, 9, 9, 3, 11, 8, 3, 8, 9, 12, 9, 10, 5, 6, 8, 2, 9, 7, 7, 9, 7, 7, 9, 9, 8, 6, 9, 12, 5, 6, 5, 9, 9, 5, 5, 2, 7, 9, 11, 8, 8, 11, 8, 6, 9, 3, 4, 7, 5, 3, 6, 8, 8, 5, 10, 7, 9, 11, 10, 9, 8, 9, 8, 9, 9, 4, 5, 9, 12, 7, 4, 7, 7, 3, 11, 6, 7, 9, 10, 6, 11, 8, 5, 8, 4, 10, 8, 12, 6, 7, 4, 9, 7, 3, 6, 9, 5, 6, 3, 7, 6, 10, 8, 6, 11, 9, 3, 4, 6, 6, 7, 9, 5, 7, 6, 5, 7, 8, 8, 10, 11, 5, 6, 3, 5, 4, 7, 6, 8, 7, 6, 6, 11, 7, 3, 7, 9, 7, 8, 7, 8, 8, 5, 5, 11, 8, 10, 8, 8, 6, 5, 7, 7, 10, 9, 4, 2, 8, 7, 12, 6, 6, 6, 3, 6, 6, 7, 6, 10, 9, 4, 4, 6, 3, 5, 10, 4, 11, 5, 10, 8, 7, 7, 4, 9, 5, 4, 8, 10, 2, 9, 3, 8, 6, 2, 6, 5, 10, 9, 3, 9, 10, 2, 4, 8, 7, 10, 9, 12, 8, 2, 6, 8, 6, 8, 10, 3, 8, 8, 11, 12, 4, 5, 8, 3, 9, 6, 9, 3, 6, 7, 5, 5, 8, 8, 6, 3, 8, 7, 8, 3, 8, 6, 8, 4, 6, 7, 8, 4, 6, 12, 9, 2, 4, 10, 10, 10, 9, 5, 2, 5, 8, 10, 4, 4, 4, 10, 9, 4, 4, 5, 11, 6, 5, 10, 10, 5, 5, 7, 7, 7, 11, 7, 5, 8, 7, 3, 7, 6, 6, 9, 4, 5, 6, 5, 4, 11, 5, 7, 7, 2, 3, 7, 5, 7, 4, 4, 11, 10, 9, 4, 9, 4, 6, 7, 9, 7, 8, 8, 9, 7, 8, 8, 8, 4, 5, 5, 4, 6, 3, 9, 7, 7, 10, 4, 11, 4, 6, 9, 7, 5, 6, 5, 7, 7, 5, 11, 10, 9, 7, 7, 6, 7, 7, 5, 9, 12, 8, 10, 3, 6, 8, 10, 4, 10, 5, 9, 4, 11, 3, 8, 3, 8, 2, 5, 4, 6, 9, 3, 11, 3, 10, 7, 5, 5, 7, 6, 11, 12, 2, 7, 11, 12, 12, 3, 9, 3, 11, 8, 3, 4, 8, 9, 6, 7, 3, 4, 10, 8, 9, 8, 11, 4, 4, 7, 12, 5, 5, 10, 8, 9, 6, 6, 9, 7, 6, 5, 7, 5, 8, 4, 9, 8, 5, 6, 12, 10, 2, 6, 11, 4, 5, 6, 3, 5, 7, 9, 7, 10, 4, 7, 8, 7, 2, 7, 8, 9, 4, 5, 7, 9, 3, 9, 3, 7, 2, 3, 7, 7, 10, 10, 2, 9, 9, 7, 10, 5, 6, 7, 7, 5, 9, 8, 6, 6, 7, 8, 7, 4, 6, 5, 5, 6, 10, 7, 12, 4, 4, 5, 5, 7, 3, 9, 7, 12, 9, 2, 3, 4, 7, 9, 5, 8, 5, 6, 6, 2, 4, 8, 8, 8, 8, 7, 8, 4, 7, 12, 7, 10, 7, 7, 10, 8, 10, 5, 2, 11, 8, 12, 6, 5, 11, 7, 9, 7, 9, 6, 8, 10, 4, 8, 10, 8, 6, 12, 4, 5, 10, 8, 9, 7, 3, 8, 4, 6, 4, 5, 5, 8, 11, 9, 6, 7, 9, 5, 9, 10, 8, 7, 11, 7, 8, 7, 9, 6, 5, 9, 7, 8, 6, 4, 5, 6, 7, 9, 9, 8, 7, 4, 9, 7, 10, 5, 9, 12, 9, 8, 10, 11, 6, 6, 3, 6, 8, 5, 8, 7, 6, 3, 5, 4, 10, 5, 9, 9, 11, 10, 7, 8, 7, 8, 3, 7, 9, 6, 5, 8]\n",
            "7.0047\n",
            "2.4130225672380274\n"
          ],
          "name": "stdout"
        }
      ]
    },
    {
      "cell_type": "code",
      "metadata": {
        "id": "wXHCJtaKU7mN",
        "colab": {
          "base_uri": "https://localhost:8080/",
          "height": 366
        },
        "outputId": "01fde058-f8d6-41e0-fd26-b5ec7a20f2d2"
      },
      "source": [
        "import matplotlib.pyplot as plt\n",
        "plt.hist(datos, bins=11)"
      ],
      "execution_count": null,
      "outputs": [
        {
          "output_type": "execute_result",
          "data": {
            "text/plain": [
              "(array([ 287.,  526.,  836., 1128., 1406., 1645., 1345., 1167.,  844.,\n",
              "         535.,  281.]),\n",
              " array([ 2.        ,  2.90909091,  3.81818182,  4.72727273,  5.63636364,\n",
              "         6.54545455,  7.45454545,  8.36363636,  9.27272727, 10.18181818,\n",
              "        11.09090909, 12.        ]),\n",
              " <a list of 11 Patch objects>)"
            ]
          },
          "metadata": {
            "tags": []
          },
          "execution_count": 48
        },
        {
          "output_type": "display_data",
          "data": {
            "image/png": "[encoded data removed]",
            "text/plain": [
              "<Figure size 432x288 with 1 Axes>"
            ]
          },
          "metadata": {
            "tags": [],
            "needs_background": "light"
          }
        }
      ]
    },
    {
      "cell_type": "markdown",
      "metadata": {
        "id": "OXVQVpV0LNy-"
      },
      "source": [
        "What is the probability of rolling a 10 or higher?"
      ]
    },
    {
      "cell_type": "code",
      "metadata": {
        "id": "PcNyamyzcbvx",
        "colab": {
          "base_uri": "https://localhost:8080/",
          "height": 34
        },
        "outputId": "96c6cb04-1455-45f0-a749-2859662cb093"
      },
      "source": [
        "suma = 0\n",
        "for i in tiradas:\n",
        "  if i >=10:\n",
        "    suma +=1\n",
        "\n",
        "print(suma)"
      ],
      "execution_count": null,
      "outputs": [
        {
          "output_type": "stream",
          "text": [
            "503\n"
          ],
          "name": "stdout"
        }
      ]
    },
    {
      "cell_type": "code",
      "metadata": {
        "id": "Kk3LDGj_cbv1",
        "colab": {
          "base_uri": "https://localhost:8080/",
          "height": 34
        },
        "outputId": "8679b704-f17e-4e8e-e821-cab5fe3713db"
      },
      "source": [
        "pvalor = suma/(len(tiradas))\n",
        "print(\"P-value: %0.3f%%\" % (pvalor * 100))"
      ],
      "execution_count": null,
      "outputs": [
        {
          "output_type": "stream",
          "text": [
            "P-value: 16.767%\n"
          ],
          "name": "stdout"
        }
      ]
    },
    {
      "cell_type": "markdown",
      "metadata": {
        "id": "Ff-5KlDeoUmY"
      },
      "source": [
        "# Jugando con el p-valor\n",
        "\n",
        "Tal como hemos visto en clase, el p-valor es una herramienta muy útil para rechazar hipótesis altamente improbables. Aplica los conocimientos adquiridos (y las funcines que has visto) para resolver este par de ejercicios:\n",
        "\n",
        "\n"
      ]
    },
    {
      "cell_type": "markdown",
      "metadata": {
        "id": "qXYIi1GGqqHZ"
      },
      "source": [
        "\n",
        "## Pares o nones\n",
        "\n",
        "En el juego \"Pares o nones\", cada jugador dice de antemano si va a salir un resultado par (considerando al 0 como par) o un resultado impar (non). Tras ello, cada uno saca un número del 0 al 5, se suman y se comprubea el ganador.\n",
        "\n",
        "\n",
        "Supongamos que la probabilidad de ganar no depende de la estrategia que sigas y se puede modelar como un 50% de victoria. Si jugando 50 partidas a este juego contra otra persona, vemos que ganamos 30, ¿nos está dejando ganar? Utiliza un nivel de significación del 5%."
      ]
    },
    {
      "cell_type": "code",
      "metadata": {
        "id": "yv1BwG1qw33l"
      },
      "source": [
        "def factorial(n):\n",
        "    \"\"\"Calculates the factorial of `n`\n",
        "    \"\"\"\n",
        "    vals = list(range(1, n + 1))\n",
        "    if len(vals) <= 0:\n",
        "        return 1\n",
        "\n",
        "    prod = 1\n",
        "    for val in vals:\n",
        "        prod *= val\n",
        "        \n",
        "    return prod\n",
        "    \n",
        "    \n",
        "def n_choose_k(n, k):\n",
        "    \"\"\"Calculates the binomial coefficient\n",
        "    \"\"\"\n",
        "    return factorial(n) / (factorial(k) * factorial(n - k))\n",
        "\n",
        "\n",
        "def binom_prob(n, k, p):\n",
        "    \"\"\"Returns the probability of see `k` heads in `n` coin tosses\n",
        "    \n",
        "    Arguments:\n",
        "    \n",
        "    n - number of trials\n",
        "    k - number of trials in which an event took place\n",
        "    p - probability of an event happening\n",
        "    \n",
        "    \"\"\"\n",
        "    return n_choose_k(n, k) * p**k * (1 - p)**(n - k)"
      ],
      "execution_count": null,
      "outputs": []
    },
    {
      "cell_type": "code",
      "metadata": {
        "id": "ZCt4-ZVBqqHb",
        "colab": {
          "base_uri": "https://localhost:8080/",
          "height": 50
        },
        "outputId": "cea660e3-b65c-4c2d-c3b4-afc7e9764e96"
      },
      "source": [
        "# Probabilidad de justo ganar 40 de 50:\n",
        "print(\"La probabilidad de justo ganar 40/50 es: \" + str(40/50*100) + \"%\")\n",
        "\n",
        "# Probabilidad de que en una distribución binomial de parámetro 0.5, si jugamos\n",
        "# 50 veces, ganemos 40\n",
        "def p_value(n, k, p):\n",
        "    \"\"\"Returns the p-value for the given set \n",
        "    \"\"\"\n",
        "    if k/n >= p:\n",
        "      return sum(binom_prob(n, i, p) for i in range(k, n+1))\n",
        "    elif k/n < p:\n",
        "      return sum(binom_prob(n, i, p) for i in range(k, 0, -1))\n",
        "\n",
        "print(\"P-value: %0.3f%%\" % (p_value(50, 30, 0.5) * 100))\n",
        "\n",
        "# Hay un 10 % de probabilidades de que podamos estar ganando 30/50 partidas, \n",
        "# por lo que no parece que nos estén dejando ganar"
      ],
      "execution_count": null,
      "outputs": [
        {
          "output_type": "stream",
          "text": [
            "La probabilidad de justo ganar 40/50 es: 80.0%\n",
            "P-value: 10.132%\n"
          ],
          "name": "stdout"
        }
      ]
    },
    {
      "cell_type": "markdown",
      "metadata": {
        "id": "0cgKldcqqmDC"
      },
      "source": [
        "\n",
        "## Reto de la Botella de Agua\n",
        "\n",
        "Imagínate que estamos obsesionados con el reto de la botella de agua, donde las opciones son que caiga de pie o no lo haga.\n",
        "\n",
        "Un día, un amigo te ve practicando y te dice que él normalmente lo consigue un 90% de veces. Le decimos que nos lo demuestre lanzando 20 veces la botella. Nuestro amigo consigue que la botella caiga de pie 14 veces de las 20. ¿Tenemos motivos para creerle? Utiliza lo que has aprendido del p-valor:\n"
      ]
    },
    {
      "cell_type": "code",
      "metadata": {
        "id": "I_9jpvNDVqdX",
        "colab": {
          "base_uri": "https://localhost:8080/",
          "height": 50
        },
        "outputId": "79f554ce-a367-433a-ba14-f2b30aef52d4"
      },
      "source": [
        "# Probabilidad de justo acertar 14:\n",
        "print(\"La probabilidad de justo acertar 14/20 es: \" + str(14/20*100) + \"%\")\n",
        "\n",
        "# Probabilidad de que una distribución binomial de parámetro 0,9, si lanzamos\n",
        "# 20 veces la botella, nos salgan 14 veces de pie y 6 caiga\n",
        "def p_value(n, k, p):\n",
        "    \"\"\"Returns the p-value for the given set \n",
        "    \"\"\"\n",
        "    if k/n >= p:\n",
        "      return sum(binom_prob(n, i, p) for i in range(k, n+1))\n",
        "    elif k/n < p:\n",
        "      return sum(binom_prob(n, i, p) for i in range(k, 0, -1))\n",
        "\n",
        "print(\"P-value: %0.3f%%\" % (p_value(20, 14, 0.9) * 100))\n"
      ],
      "execution_count": null,
      "outputs": [
        {
          "output_type": "stream",
          "text": [
            "La probabilidad de justo acertar 14/20 es: 70.0%\n",
            "P-value: 1.125%\n"
          ],
          "name": "stdout"
        }
      ]
    },
    {
      "cell_type": "markdown",
      "metadata": {
        "id": "DBAC4d7uZKl2"
      },
      "source": [
        "Esto significa que si suponemos que nuestro amigo es capaz de dejar de pie la botella un 90% de las veces que tira, la probabilidad de que lo consiga menos de 15 veces es del 1,125%. Por tanto, si elegimos un nivel de significación de 0,05, es decir, que aceptamos equivocarnos el 5% de las veces, como el p-valor es inferior al nivel de signifación elegido, rechazamos la hipótesis nula. Nuestro amigo no es de fiar.\n"
      ]
    },
    {
      "cell_type": "markdown",
      "metadata": {
        "id": "a8lcUDP7Z_4B"
      },
      "source": [
        "¿Cómo has hecho el ejercicio anterior? Con la fórmula o con simulación? Realiza el mismo ejercicio con la otra forma."
      ]
    },
    {
      "cell_type": "code",
      "metadata": {
        "id": "SdoVpdo9bIkS",
        "colab": {
          "base_uri": "https://localhost:8080/",
          "height": 34
        },
        "outputId": "929258db-2990-43c5-e9cc-1024c3422d54"
      },
      "source": [
        "import numpy as np\n",
        "\n",
        "M = 0\n",
        "n = 50000\n",
        "for i in range(n):\n",
        "    # trials = np.random.choice([0]*10 + [1]*90, size=20)\n",
        "    trials = np.random.choice([0, 1], p=[0.1, 0.9], size=20)\n",
        "    if (trials.sum() <= 14):\n",
        "        M += 1\n",
        "p = M / n\n",
        "\n",
        "print(\"Simulated P-value: %0.3f%%\" % (p * 100))"
      ],
      "execution_count": null,
      "outputs": [
        {
          "output_type": "stream",
          "text": [
            "Simulated P-value: 1.114%\n"
          ],
          "name": "stdout"
        }
      ]
    },
    {
      "cell_type": "markdown",
      "metadata": {
        "id": "vB0UKR2taHOd"
      },
      "source": [
        "Finalmente, repite el procedimiento con un caso particular que se te ocurra. Quizás tienes algún caso de la vida real que se pueda adaptar a esto y te ayudará a salir de dudas."
      ]
    },
    {
      "cell_type": "code",
      "metadata": {
        "id": "7S4Hee9NacuC",
        "colab": {
          "base_uri": "https://localhost:8080/",
          "height": 450
        },
        "outputId": "e9a78721-805e-4c6c-e29e-c05393a2c648"
      },
      "source": [
        "import matplotlib.pyplot as plt\n",
        "plt.hist(tests, bins=21)"
      ],
      "execution_count": null,
      "outputs": [
        {
          "output_type": "execute_result",
          "data": {
            "text/plain": [
              "(array([2.0000e+00, 0.0000e+00, 2.0000e+00, 0.0000e+00, 2.3000e+01,\n",
              "        0.0000e+00, 8.8000e+01, 0.0000e+00, 4.5700e+02, 0.0000e+00,\n",
              "        1.5240e+03, 0.0000e+00, 4.4580e+03, 0.0000e+00, 9.5480e+03,\n",
              "        0.0000e+00, 1.4254e+04, 0.0000e+00, 1.3661e+04, 0.0000e+00,\n",
              "        5.9830e+03]),\n",
              " array([10.        , 10.47619048, 10.95238095, 11.42857143, 11.9047619 ,\n",
              "        12.38095238, 12.85714286, 13.33333333, 13.80952381, 14.28571429,\n",
              "        14.76190476, 15.23809524, 15.71428571, 16.19047619, 16.66666667,\n",
              "        17.14285714, 17.61904762, 18.0952381 , 18.57142857, 19.04761905,\n",
              "        19.52380952, 20.        ]),\n",
              " <a list of 21 Patch objects>)"
            ]
          },
          "metadata": {
            "tags": []
          },
          "execution_count": 55
        },
        {
          "output_type": "display_data",
          "data": {
            "image/png": "[encoded data removed]",
            "text/plain": [
              "<Figure size 432x288 with 1 Axes>"
            ]
          },
          "metadata": {
            "tags": [],
            "needs_background": "light"
          }
        }
      ]
    },
    {
      "cell_type": "code",
      "metadata": {
        "id": "aGLDf5TCeI28",
        "colab": {
          "base_uri": "https://localhost:8080/",
          "height": 265
        },
        "outputId": "775e87e9-de24-4bd7-aeed-5652599b3e89"
      },
      "source": [
        "x_1 = list(range(20))\n",
        "y = [binom_prob(20, int(x), 0.9) for x in x_1]\n",
        "plt.plot(x_1, y, label='FDA nomal')\n",
        "plt.show()\n"
      ],
      "execution_count": null,
      "outputs": [
        {
          "output_type": "display_data",
          "data": {
            "image/png": "[encoded data removed]",
            "text/plain": [
              "<Figure size 432x288 with 1 Axes>"
            ]
          },
          "metadata": {
            "tags": [],
            "needs_background": "light"
          }
        }
      ]
    },
    {
      "cell_type": "code",
      "metadata": {
        "id": "ShUWrksGe5zt"
      },
      "source": [
        ""
      ],
      "execution_count": null,
      "outputs": []
    }
  ]
}