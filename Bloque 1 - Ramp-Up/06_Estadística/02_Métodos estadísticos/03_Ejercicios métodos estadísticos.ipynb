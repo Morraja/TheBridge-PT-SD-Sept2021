{
  "nbformat": 4,
  "nbformat_minor": 0,
  "metadata": {
    "colab": {
      "name": "ejercicios_metodos_estadisticos.ipynb",
      "provenance": [],
      "collapsed_sections": []
    },
    "kernelspec": {
      "display_name": "Python 3",
      "language": "python",
      "name": "python3"
    },
    "language_info": {
      "codemirror_mode": {
        "name": "ipython",
        "version": 3
      },
      "file_extension": ".py",
      "mimetype": "text/x-python",
      "name": "python",
      "nbconvert_exporter": "python",
      "pygments_lexer": "ipython3",
      "version": "3.6.9"
    }
  },
  "cells": [
    {
      "cell_type": "markdown",
      "metadata": {
        "id": "5cXkMdm-LNyz"
      },
      "source": [
        "# Clumsy Carl\n",
        "\n",
        "\n",
        "Here's the problem restated:\n",
        "\n",
        "Imagine a restaurant employs five dishwashers:\n",
        "- Alice\n",
        "- Bob\n",
        "- Carl\n",
        "- Dave\n",
        "- Eric\n",
        "\n",
        "One week, they break five dishes -- and Carl breaks **four** of the five. So, his coworkers have a hypothesis: Carl is clumsy!\n",
        "\n",
        "Carl says no, it was just bad luck and random chance: it could have happened to anybody. We can call this the null hypothesis.\n",
        "\n",
        "Can we do some math to help answer this argument? What's the probability it was just bad luck?\n",
        "\n",
        "We can write a simulation to estimate the probability that Carl breaks at least four of the five dishes, assuming that breaking a dish is a truly random event. (We'll assume that the dishwashers have identical workloads and skills.)\n"
      ]
    },
    {
      "cell_type": "code",
      "metadata": {
        "id": "U6ERZDRwtPVO"
      },
      "source": [
        "import random\n",
        "from statistics import mean,stdev"
      ],
      "execution_count": null,
      "outputs": []
    },
    {
      "cell_type": "code",
      "metadata": {
        "id": "5IdSBJnmLNy0"
      },
      "source": [
        "dishwashers = ['Alice', 'Bob', 'Carl', 'Dave', 'Eric']"
      ],
      "execution_count": null,
      "outputs": []
    },
    {
      "cell_type": "code",
      "metadata": {
        "id": "etpy-I1ILNy2"
      },
      "source": [
        "def simulacion(L):\n",
        "  breakers = []\n",
        "  for i in range(5):\n",
        "    breakers.append(random.choice(L))\n",
        "  return breakers.count('Carl')\n"
      ],
      "execution_count": null,
      "outputs": []
    },
    {
      "cell_type": "code",
      "metadata": {
        "id": "l0Gr90uvuoMr"
      },
      "source": [
        "tests = []\n",
        "for i in range(10000):\n",
        "  tests.append(simulacion(dishwashers))"
      ],
      "execution_count": null,
      "outputs": []
    },
    {
      "cell_type": "code",
      "metadata": {
        "id": "4T6m1ZOHvKH1",
        "colab": {
          "base_uri": "https://localhost:8080/",
          "height": 332
        },
        "outputId": "16119108-03a8-452d-a1fc-35c97d78238c"
      },
      "source": [
        "import matplotlib.pyplot as plt\n",
        "plt.hist(tests, bins=6)"
      ],
      "execution_count": null,
      "outputs": [
        {
          "output_type": "execute_result",
          "data": {
            "text/plain": [
              "(array([3.271e+03, 4.161e+03, 2.031e+03, 4.700e+02, 6.300e+01, 4.000e+00]),\n",
              " array([0.        , 0.83333333, 1.66666667, 2.5       , 3.33333333,\n",
              "        4.16666667, 5.        ]),\n",
              " <a list of 6 Patch objects>)"
            ]
          },
          "metadata": {
            "tags": []
          },
          "execution_count": 11
        },
        {
          "output_type": "display_data",
          "data": {
            "image/png": "[encoded data removed]",
            "text/plain": [
              "<Figure size 432x288 with 1 Axes>"
            ]
          },
          "metadata": {
            "tags": [],
            "needs_background": "light"
          }
        }
      ]
    },
    {
      "cell_type": "code",
      "metadata": {
        "id": "MfBe95ODvvDJ",
        "colab": {
          "base_uri": "https://localhost:8080/",
          "height": 34
        },
        "outputId": "18d66f9c-00e2-486d-8ba3-63172144e671"
      },
      "source": [
        "suma = 0\n",
        "for i in tests:\n",
        "  if i >=4:\n",
        "    suma +=1\n",
        "\n",
        "print(suma)"
      ],
      "execution_count": null,
      "outputs": [
        {
          "output_type": "stream",
          "text": [
            "67\n"
          ],
          "name": "stdout"
        }
      ]
    },
    {
      "cell_type": "code",
      "metadata": {
        "id": "V8DbbH5PwF-r",
        "colab": {
          "base_uri": "https://localhost:8080/",
          "height": 34
        },
        "outputId": "27594a3b-8e7a-40ec-892e-b572b9d2c8b1"
      },
      "source": [
        "pvalue = suma/(len(tests))\n",
        "print(f\"{pvalue*100} %\")"
      ],
      "execution_count": null,
      "outputs": [
        {
          "output_type": "stream",
          "text": [
            "0.67 %\n"
          ],
          "name": "stdout"
        }
      ]
    },
    {
      "cell_type": "markdown",
      "metadata": {
        "id": "lbuNLuPVLNy4"
      },
      "source": [
        "# Two dice\n",
        "\n",
        "Simulate the distribution of adding two dice.\n",
        "\n",
        "What is the mean? Standard deviation?"
      ]
    },
    {
      "cell_type": "code",
      "metadata": {
        "id": "Cn1yEJDQLNy5"
      },
      "source": [
        ""
      ],
      "execution_count": null,
      "outputs": []
    },
    {
      "cell_type": "markdown",
      "metadata": {
        "id": "OXVQVpV0LNy-"
      },
      "source": [
        "What is the probability of rolling a 10 or higher?"
      ]
    },
    {
      "cell_type": "code",
      "metadata": {
        "id": "YfWhW40YLNy_"
      },
      "source": [
        ""
      ],
      "execution_count": null,
      "outputs": []
    },
    {
      "cell_type": "markdown",
      "metadata": {
        "id": "Ff-5KlDeoUmY"
      },
      "source": [
        "# Jugando con el p-valor\n",
        "\n",
        "Tal como hemos visto en clase, el p-valor es una herramienta muy útil para rechazar hipótesis altamente improbables. Aplica los conocimientos adquiridos (y las funcines que has visto) para resolver este par de ejercicios:\n",
        "\n",
        "\n"
      ]
    },
    {
      "cell_type": "markdown",
      "metadata": {
        "id": "atep8R2_xfHQ"
      },
      "source": [
        "\n",
        "## Pares o nones\n",
        "\n",
        "En el juego \"Pares o nones\", cada jugador dice de antemano si va a salir un resultado par (considerando al 0 como par) o un resultado impar (non). Tras ello, cada uno saca un número del 0 al 5, se suman y se comprubea el ganador.\n",
        "\n",
        "\n",
        "Supongamos que la probabilidad de ganar no depende de la estrategia que sigas y se puede modelar como un 50% de victoria. Si jugando 50 partidas a este juego contra otra persona, vemos que ganamos 30, ¿nos está dejando ganar? Utiliza un nivel de significación del 5%."
      ]
    },
    {
      "cell_type": "code",
      "metadata": {
        "id": "Pmw-sNGbxg3g"
      },
      "source": [
        ""
      ],
      "execution_count": null,
      "outputs": []
    },
    {
      "cell_type": "markdown",
      "metadata": {
        "id": "T5NAEnX4xhHb"
      },
      "source": [
        "\n",
        "## Reto de la Botella de Agua\n",
        "\n",
        "Imagínate que estamos obsesionados con el reto de la botella de agua, donde las opciones son que caiga de pie o no lo haga.\n",
        "\n",
        "Un día, un amigo te ve practicando y te dice que él normalmente lo consigue un 90% de veces. Le decimos que nos lo demuestre lanzando 20 veces la botella. Nuestro amigo consigue que la botella caiga de pie 14 veces de las 20. ¿Tenemos motivos para creerle? Utiliza lo que has aprendido del p-valor. Vamos a suponer un nivel de significación del 5%:\n"
      ]
    },
    {
      "cell_type": "code",
      "metadata": {
        "id": "I_9jpvNDVqdX",
        "colab": {
          "base_uri": "https://localhost:8080/",
          "height": 50
        },
        "outputId": "1e00838d-efb4-4dd7-94da-648faf862347"
      },
      "source": [
        "import numpy as np\n",
        "trials = np.random.choice([0, 1], p=[0.25, 0.75], size=34)\n",
        "trials\n"
      ],
      "execution_count": null,
      "outputs": [
        {
          "output_type": "execute_result",
          "data": {
            "text/plain": [
              "array([1, 1, 1, 1, 0, 1, 1, 1, 1, 0, 1, 1, 1, 0, 0, 1, 1, 1, 0, 1, 1, 1,\n",
              "       0, 1, 1, 1, 1, 1, 1, 1, 1, 0, 1, 1])"
            ]
          },
          "metadata": {
            "tags": []
          },
          "execution_count": 17
        }
      ]
    },
    {
      "cell_type": "markdown",
      "metadata": {
        "id": "DBAC4d7uZKl2"
      },
      "source": [
        "Esto significa que si suponemos que nuestro amigo es capaz de dejar de pie la botella un 90% de las veces que tira, la probabilidad de que lo consiga menos de 15 veces es del 1,125%. Por tanto, si elegimos un nivel de significación de 0,05, es decir, que aceptamos equivocarnos el 5% de las veces, como el p-valor es inferior al nivel de signifación elegido, rechazamos la hipótesis nula. Nuestro amigo no es de fiar.\n"
      ]
    },
    {
      "cell_type": "markdown",
      "metadata": {
        "id": "a8lcUDP7Z_4B"
      },
      "source": [
        "¿Cómo has hecho el ejercicio anterior? Con la fórmula o con simulación? Realiza el mismo ejercicio con la otra forma."
      ]
    },
    {
      "cell_type": "code",
      "metadata": {
        "id": "hg0xfMreZLIL"
      },
      "source": [
        ""
      ],
      "execution_count": null,
      "outputs": []
    },
    {
      "cell_type": "markdown",
      "metadata": {
        "id": "vB0UKR2taHOd"
      },
      "source": [
        "Finalmente, repite el procedimiento con un caso particular que se te ocurra. Quizás tienes algún caso de la vida real que se pueda adaptar a esto y te ayudará a salir de dudas."
      ]
    },
    {
      "cell_type": "code",
      "metadata": {
        "id": "7S4Hee9NacuC"
      },
      "source": [
        ""
      ],
      "execution_count": null,
      "outputs": []
    }
  ]
}