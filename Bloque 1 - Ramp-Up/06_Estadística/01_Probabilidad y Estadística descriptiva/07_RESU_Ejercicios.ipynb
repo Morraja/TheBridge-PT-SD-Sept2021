{
  "nbformat": 4,
  "nbformat_minor": 0,
  "metadata": {
    "kernelspec": {
      "display_name": "Python 3",
      "language": "python",
      "name": "python3"
    },
    "language_info": {
      "codemirror_mode": {
        "name": "ipython",
        "version": 3
      },
      "file_extension": ".py",
      "mimetype": "text/x-python",
      "name": "python",
      "nbconvert_exporter": "python",
      "pygments_lexer": "ipython3",
      "version": "3.6.9"
    },
    "colab": {
      "name": "4-RESU_Ejercicios_probabilidad.ipynb",
      "provenance": [],
      "collapsed_sections": []
    }
  },
  "cells": [
    {
      "cell_type": "markdown",
      "metadata": {
        "id": "mS9SWKRRAVNq"
      },
      "source": [
        "## Jugando con Probabilidades y Python\n",
        "\n",
        "\n",
        "### La coincidencia de cumpleaños\n",
        "\n",
        "Aquí vemos la solución de la paradija del cumpleaños que vimos en el apartado de proabilidad.\n",
        "\n",
        "La [paradoja del cumpleaños](https://es.wikipedia.org/wiki/Paradoja_del_cumplea%C3%B1os) es un problema muy conocido en el campo de la probabilidad. Plantea las siguientes interesantes preguntas: ¿Cuál es la probabilidad de que, en un grupo de personas elegidas al azar, al menos dos de ellas habrán nacido el mismo día del año? ¿Cuántas personas son necesarias para asegurar una probabilidad mayor al 50%?. \n",
        "\n",
        "Calcular esa probabilidad es complicado, así que vamos a calcular la probabilidad de que no coincidad, suponinedo que con eventos independietes (es decir las podemos multiplicar), y luego calcularemos la probabilidad de que coincidan como 1 menos esa probabilidad. \n",
        "\n",
        "Excluyendo el 29 de febrero de nuestros cálculos y asumiendo que los restantes 365 días de posibles cumpleaños son igualmente probables, vamos a calcular esas dós cuestiones."
      ]
    },
    {
      "cell_type": "code",
      "metadata": {
        "jupyter": {
          "outputs_hidden": false
        },
        "id": "TCay-TKtAVNr",
        "colab": {
          "base_uri": "https://localhost:8080/",
          "height": 50
        },
        "outputId": "ddca79c4-cfe6-483f-c6e9-198fcfb7b135"
      },
      "source": [
        "# Ejemplo situación 2 La coincidencia de cumpleaños\n",
        "\n",
        "prob = 1.0\n",
        "asistentes = 50\n",
        "\n",
        "# calculamos la probabilidad de coincidencia para 50 asistentes\n",
        "\n",
        "for i in range(asistentes):\n",
        "    prob = prob * (365-i)/365\n",
        "\n",
        "print(\"Probabilidad de que compartan una misma fecha de cumpleaños es {0:.2f}\"\n",
        "      .format(1 - prob))\n",
        "\n",
        "# Calculamos el número de asistentes necesarios para asegurar \n",
        "# que la probabilidad de coincidencia sea mayor del 50%\n",
        "\n",
        "asistentes=0\n",
        "prob= 1 \n",
        "while prob > 0.5:\n",
        "    prob = prob * (365-i)/365\n",
        "    asistentes +=1\n",
        "\n",
        "print(\"Para asegurar que la probabilidad es mayor del 50% necesitamos {0} asistentes\".format(asistentes))"
      ],
      "execution_count": null,
      "outputs": [
        {
          "output_type": "stream",
          "text": [
            "Probabilidad de que compartan una misma fecha de cumpleaños es 0.97\n",
            "Para asegurar que la probabilidad es mayor del 50% necesitamos 5 asistentes\n"
          ],
          "name": "stdout"
        }
      ]
    },
    {
      "cell_type": "markdown",
      "metadata": {
        "id": "T82T2FuSk8YV"
      },
      "source": [
        "## Variables aleatorias. Vamos a tirar un dado\n",
        "\n",
        "Vamos a trabajar con variables discretas, y en este caso vamos a vamos a reproducir un dado con la librería `random` que forma parte de la librería estandar de Python:"
      ]
    },
    {
      "cell_type": "code",
      "metadata": {
        "id": "e9u4frvmgmfm"
      },
      "source": [
        "# importa la libreria random. puedes utilizar dir() para entender lo que ofrece\n",
        "import random"
      ],
      "execution_count": null,
      "outputs": []
    },
    {
      "cell_type": "code",
      "metadata": {
        "id": "sSnWP25Sq8Ri",
        "colab": {
          "base_uri": "https://localhost:8080/",
          "height": 101
        },
        "outputId": "23fe01cc-9fc9-4fbe-d6f7-d87a2be7635d"
      },
      "source": [
        "# utiliza help para obtener ayuda sobre el metodo randint\n",
        "help(random.randint)"
      ],
      "execution_count": null,
      "outputs": [
        {
          "output_type": "stream",
          "text": [
            "Help on method randint in module random:\n",
            "\n",
            "randint(a, b) method of random.Random instance\n",
            "    Return random integer in range [a, b], including both end points.\n",
            "\n"
          ],
          "name": "stdout"
        }
      ]
    },
    {
      "cell_type": "code",
      "metadata": {
        "id": "uF5EmVCfrFEG",
        "colab": {
          "base_uri": "https://localhost:8080/",
          "height": 34
        },
        "outputId": "fa8b6ff7-bf05-442c-c3da-2559f3f75324"
      },
      "source": [
        "# utiliza randint() para simular un dado y haz una tirada\n",
        "tirada = random.randint(1, 6)\n",
        "print(tirada)"
      ],
      "execution_count": null,
      "outputs": [
        {
          "output_type": "stream",
          "text": [
            "5\n"
          ],
          "name": "stdout"
        }
      ]
    },
    {
      "cell_type": "code",
      "metadata": {
        "id": "BkMh_c9hrMSE"
      },
      "source": [
        "# ahora haz 20 tiradas, y crea una lista con las tiradas\n",
        "tiradas = [random.randint(1, 6) for i in range(20)]"
      ],
      "execution_count": null,
      "outputs": []
    },
    {
      "cell_type": "code",
      "metadata": {
        "id": "9w9ToSNIrT3y",
        "colab": {
          "base_uri": "https://localhost:8080/",
          "height": 34
        },
        "outputId": "4d6cb2e7-1bd1-4b07-d87b-0f8973b3a232"
      },
      "source": [
        "# Vamos a calcular la media de las tiradas\n",
        "import numpy as np\n",
        "np.mean(tiradas)"
      ],
      "execution_count": null,
      "outputs": [
        {
          "output_type": "execute_result",
          "data": {
            "text/plain": [
              "3.05"
            ]
          },
          "metadata": {
            "tags": []
          },
          "execution_count": 6
        }
      ]
    },
    {
      "cell_type": "code",
      "metadata": {
        "id": "57l2u-wGrtv7",
        "colab": {
          "base_uri": "https://localhost:8080/",
          "height": 34
        },
        "outputId": "00c556ae-065e-4b12-f64b-52162d595bf7"
      },
      "source": [
        "# Calcula ahora la mediana\n",
        "\n",
        "np.median(tiradas)"
      ],
      "execution_count": null,
      "outputs": [
        {
          "output_type": "execute_result",
          "data": {
            "text/plain": [
              "3.0"
            ]
          },
          "metadata": {
            "tags": []
          },
          "execution_count": 7
        }
      ]
    },
    {
      "cell_type": "code",
      "metadata": {
        "id": "mwSFUkvKAVN8",
        "colab": {
          "base_uri": "https://localhost:8080/",
          "height": 34
        },
        "outputId": "8a26f677-2c7d-45de-ff9c-3c6ab0f1d50d"
      },
      "source": [
        "# Calcula la moda de las tiradas \n",
        "from scipy import stats\n",
        "stats.mode(tiradas)\n",
        "\n"
      ],
      "execution_count": null,
      "outputs": [
        {
          "output_type": "execute_result",
          "data": {
            "text/plain": [
              "ModeResult(mode=array([4]), count=array([6]))"
            ]
          },
          "metadata": {
            "tags": []
          },
          "execution_count": 8
        }
      ]
    },
    {
      "cell_type": "code",
      "metadata": {
        "id": "MDoX0ujLSToM",
        "colab": {
          "base_uri": "https://localhost:8080/",
          "height": 229
        },
        "outputId": "6a71b18a-a091-4f76-f570-08e30232a216"
      },
      "source": [
        "# se te ocurre otra forma de calcularla?\n",
        "# dic_modas = {}\n",
        "# for tirada in tiradas:\n",
        "#   if tirada in dic_modas.keys():\n",
        "#     dic_modas[tirada] = dic_modas[tirada] + 1\n",
        "#   else:\n",
        "#     dic_modas[tirada] = 1\n",
        "\n",
        "max_tirada = []\n",
        "max_conteo = 0\n",
        "for tirada, conteo in dic_modas.items():\n",
        "  if conteo > max_conteo:\n",
        "    max_tirada = [tirada]\n",
        "    max_conteo = conteo\n",
        "  elif conteo == max_conteo:\n",
        "    max_tirada.append(tirada)\n",
        "\n",
        "print(f\"Tirada moda: {max_tirada}\")\n",
        "print(f\"Nº repes: {max_conteo}\")\n",
        "  "
      ],
      "execution_count": null,
      "outputs": [
        {
          "output_type": "error",
          "ename": "NameError",
          "evalue": "ignored",
          "traceback": [
            "\u001b[0;31m---------------------------------------------------------------------------\u001b[0m",
            "\u001b[0;31mNameError\u001b[0m                                 Traceback (most recent call last)",
            "\u001b[0;32m<ipython-input-6-e04dd52d4f00>\u001b[0m in \u001b[0;36m<module>\u001b[0;34m()\u001b[0m\n\u001b[1;32m      9\u001b[0m \u001b[0mmax_tirada\u001b[0m \u001b[0;34m=\u001b[0m \u001b[0;34m[\u001b[0m\u001b[0;34m]\u001b[0m\u001b[0;34m\u001b[0m\u001b[0;34m\u001b[0m\u001b[0m\n\u001b[1;32m     10\u001b[0m \u001b[0mmax_conteo\u001b[0m \u001b[0;34m=\u001b[0m \u001b[0;36m0\u001b[0m\u001b[0;34m\u001b[0m\u001b[0;34m\u001b[0m\u001b[0m\n\u001b[0;32m---> 11\u001b[0;31m \u001b[0;32mfor\u001b[0m \u001b[0mtirada\u001b[0m\u001b[0;34m,\u001b[0m \u001b[0mconteo\u001b[0m \u001b[0;32min\u001b[0m \u001b[0mdic_modas\u001b[0m\u001b[0;34m.\u001b[0m\u001b[0mitems\u001b[0m\u001b[0;34m(\u001b[0m\u001b[0;34m)\u001b[0m\u001b[0;34m:\u001b[0m\u001b[0;34m\u001b[0m\u001b[0;34m\u001b[0m\u001b[0m\n\u001b[0m\u001b[1;32m     12\u001b[0m   \u001b[0;32mif\u001b[0m \u001b[0mconteo\u001b[0m \u001b[0;34m>\u001b[0m \u001b[0mmax_conteo\u001b[0m\u001b[0;34m:\u001b[0m\u001b[0;34m\u001b[0m\u001b[0;34m\u001b[0m\u001b[0m\n\u001b[1;32m     13\u001b[0m     \u001b[0mmax_tirada\u001b[0m \u001b[0;34m=\u001b[0m \u001b[0;34m[\u001b[0m\u001b[0mtirada\u001b[0m\u001b[0;34m]\u001b[0m\u001b[0;34m\u001b[0m\u001b[0;34m\u001b[0m\u001b[0m\n",
            "\u001b[0;31mNameError\u001b[0m: name 'dic_modas' is not defined"
          ]
        }
      ]
    },
    {
      "cell_type": "code",
      "metadata": {
        "id": "oFxMWIxqsjKI",
        "colab": {
          "base_uri": "https://localhost:8080/",
          "height": 34
        },
        "outputId": "f395bfb4-cdef-4946-d382-4b7377160906"
      },
      "source": [
        "dic_modas"
      ],
      "execution_count": null,
      "outputs": [
        {
          "output_type": "execute_result",
          "data": {
            "text/plain": [
              "{1: 2, 2: 4, 3: 2, 4: 4, 5: 1, 6: 4}"
            ]
          },
          "metadata": {
            "tags": []
          },
          "execution_count": 23
        }
      ]
    },
    {
      "cell_type": "markdown",
      "metadata": {
        "id": "ObNYMOrIAVN-"
      },
      "source": [
        "## Viendo como evoluciona el número de 6 cuando sacamos más jugadas\n",
        "\n",
        "Vamos a ver ahora como evoluciona el número de seises que obtenemos al lanzar el dado 10000 veces. Vamos a crear una lista en la que cada elemento sea el número de ocurrencias del número 6 dividido entre el número de lanzamientos. \n",
        "\n",
        "crea una lista llamadada ``frecuencia_seis[]`` que almacene estos valores \n"
      ]
    },
    {
      "cell_type": "code",
      "metadata": {
        "jupyter": {
          "outputs_hidden": false
        },
        "id": "uG0YIl63AVN-"
      },
      "source": [
        "import random\n",
        "\n",
        "n_tiradas = 20\n",
        "n_experimentos = 10000\n",
        "\n",
        "frecuencia_seis = []\n",
        "for i in range(n_experimentos):\n",
        "  tiradas = [random.randint(1, 6)/n_tiradas for i in range(n_tiradas)]\n",
        "  frecuencia_seis.append(sum(tiradas)/n_tiradas)\n",
        "\n",
        "\n",
        "\n"
      ],
      "execution_count": null,
      "outputs": []
    },
    {
      "cell_type": "markdown",
      "metadata": {
        "id": "9g3FL0JUAVOA"
      },
      "source": [
        "### Vamos a tratar de hacerlo gráficamente\n",
        "¿Hacia que valor debería converger los números que forman la lista frecuencia_seis? \n",
        "Revisa la ley de los grandes números para la moneda, y aplica un poco de lógica para este caso.\n"
      ]
    },
    {
      "cell_type": "code",
      "metadata": {
        "id": "z9Xy-WCLAVOA",
        "colab": {
          "base_uri": "https://localhost:8080/",
          "height": 404
        },
        "outputId": "d10f60da-f6bf-4772-c572-97577e60867b"
      },
      "source": [
        "# <!-- collapse=True -->\n",
        "# importando modulos necesarios\n",
        "import matplotlib.pyplot as plt \n",
        "import numpy as np # importando numpy\n",
        "import pandas as pd # importando pandas\n",
        "\n",
        "np.random.seed(2131982) # para poder replicar el random\n",
        "\n",
        "%matplotlib inline\n",
        "\n",
        "import pandas as pd\n",
        "\n",
        "resultados = []\n",
        "n_tiradas = 10000\n",
        "for lanzamientos in range(1,10000):\n",
        "    tiradas = [random.randint(1, 6)==6 for i in range(n_tiradas)]\n",
        "    resultados.append(np.mean(tiradas))\n",
        "    \n",
        "# graficamente\n",
        "df = pd.DataFrame({ 'lanzamientos' : resultados})\n",
        "\n",
        "df.plot(title='Ley de grandes números',color='r',figsize=(8, 6))\n",
        "plt.axhline(1/6)\n",
        "plt.xlabel(\"Número de lanzamientos\")\n",
        "plt.ylabel(\"frecuencia 6\")\n",
        "plt.show()\n",
        "#"
      ],
      "execution_count": null,
      "outputs": [
        {
          "output_type": "display_data",
          "data": {
            "image/png": "[encoded data removed]",
            "text/plain": [
              "<Figure size 576x432 with 1 Axes>"
            ]
          },
          "metadata": {
            "tags": [],
            "needs_background": "light"
          }
        }
      ]
    },
    {
      "cell_type": "code",
      "metadata": {
        "id": "cXNjOLP0tyCD",
        "colab": {
          "base_uri": "https://localhost:8080/",
          "height": 404
        },
        "outputId": "697fa649-b383-421b-e766-fa7910274e94"
      },
      "source": [
        "lista2 = []\n",
        "frecuencia_seis = []\n",
        "for i in range (100000):\n",
        "  lista2.append(random.randint(1,6))\n",
        "ocurrencias = 0\n",
        "lanzamientos = 1\n",
        "for i in lista2:\n",
        "  frecuencia_seis.append(ocurrencias / lanzamientos)\n",
        "  lanzamientos = lanzamientos + 1\n",
        "  if i == 6:\n",
        "    ocurrencias = ocurrencias + 1\n",
        "\n",
        "\n",
        "%matplotlib inline\n",
        "import matplotlib.pyplot as plt\n",
        "import numpy as np # importando numpy\n",
        "import pandas as pd # importando pandas\n",
        "df = pd.DataFrame({ 'lanzamientos' : frecuencia_seis})\n",
        "df.plot(title='Ley de grandes números',color='r',figsize=(8, 6))\n",
        "plt.axhline(1/6)\n",
        "plt.xlabel(\"Número de lanzamientos\")\n",
        "plt.ylabel(\"frecuencia seis\")\n",
        "plt.show()"
      ],
      "execution_count": null,
      "outputs": [
        {
          "output_type": "display_data",
          "data": {
            "image/png": "[encoded data removed]",
            "text/plain": [
              "<Figure size 576x432 with 1 Axes>"
            ]
          },
          "metadata": {
            "tags": [],
            "needs_background": "light"
          }
        }
      ]
    },
    {
      "cell_type": "code",
      "metadata": {
        "id": "6azrc-Rxt28_",
        "colab": {
          "base_uri": "https://localhost:8080/",
          "height": 34
        },
        "outputId": "5567456e-7a2f-4d6f-87dc-c6a08f5a753d"
      },
      "source": [
        "len(lista2)"
      ],
      "execution_count": null,
      "outputs": [
        {
          "output_type": "execute_result",
          "data": {
            "text/plain": [
              "1000"
            ]
          },
          "metadata": {
            "tags": []
          },
          "execution_count": 14
        }
      ]
    },
    {
      "cell_type": "markdown",
      "metadata": {
        "id": "j-aIDyWPAVOD"
      },
      "source": [
        "# Resolviendo el problema de Monty Hall\n",
        "\n",
        "Este problema, más conocido con el nombre de [Monty Hall](https://es.wikipedia.org/wiki/Problema_de_Monty_Hall).\n",
        "En primer lugar trata de simular el problema de Monty Hall con Python, para ver cuantas veces gana el concursante y cuantas pierde. Realiza por ejemplo 10000 simulaciones del problema, en las que el usuario cambia siempre de puerta. Después puedes comparar con 10000 simulaciones en las que el usuario no cambie de puertas.\n",
        "Cuales son los resultados?\n"
      ]
    },
    {
      "cell_type": "markdown",
      "metadata": {
        "id": "FVgTF0xHAVOD"
      },
      "source": [
        "### Monty Hall sin Bayes - Simulación"
      ]
    },
    {
      "cell_type": "code",
      "metadata": {
        "id": "W-PjcCYTAVOE",
        "colab": {
          "base_uri": "https://localhost:8080/",
          "height": 50
        },
        "outputId": "b8f4c59c-deee-48be-cdfb-58104444f564"
      },
      "source": [
        "\n",
        "# vamos a tratar de solucionar el problema de Monty Hall simulando como jugaría el jugador\n",
        "# Simula 10000 jugadas\n",
        "# Puedes escoger a priori la estrategia: haz 10000 simulaciones en las que el jugador siempre cambie la puerta\n",
        "# y también puedes ejecutar 10000 en las que no cambie\n",
        "\n",
        "\n",
        "# SIN CAMBIAR:\n",
        "victoria = 0\n",
        "derrota = 0\n",
        "\n",
        "for i in range(10000):\n",
        "  # Cogemos la puerta del premio\n",
        "  puerta = np.random.randint(1, 4)\n",
        "\n",
        "  # Simulamos elección concursante:\n",
        "  concursante = np.random.randint(1, 4)\n",
        "\n",
        "  # Sin cambiar:\n",
        "  if concursante == puerta:\n",
        "    victoria += 1\n",
        "  else:\n",
        "    derrota += 1\n",
        "\n",
        "print(f\"Sin cambiar, gano el {victoria/(victoria+derrota)*100} % veces\")\n",
        "\n",
        "# CAMBIANDO:\n",
        "victoria, derrota = 0, 0\n",
        "\n",
        "for i in range(10000):\n",
        "  # Cogemos la puerta del premio\n",
        "  puerta = np.random.randint(1, 4)\n",
        "\n",
        "  # Simulamos elección concursante:\n",
        "  concursante = np.random.randint(1, 4)\n",
        "\n",
        "  # # El presentador quita una puerta:\n",
        "  # elecciones = [concursante, puerta]\n",
        "  # concursante = random.choice(elecciones)\n",
        "\n",
        "\n",
        "  # Cambiando:\n",
        "  if concursante != puerta:\n",
        "    victoria += 1\n",
        "  else:\n",
        "    derrota += 1\n",
        "\n",
        "print(f\"Cambiando, gano el {victoria/(victoria+derrota)*100} % veces\")\n",
        "\n"
      ],
      "execution_count": null,
      "outputs": [
        {
          "output_type": "stream",
          "text": [
            "Sin cambiar, gano el 33.12 % veces\n",
            "Cambiando, gano el 66.08000000000001 % veces\n"
          ],
          "name": "stdout"
        }
      ]
    },
    {
      "cell_type": "code",
      "metadata": {
        "id": "pkaZqGtuAVOG"
      },
      "source": [
        ""
      ],
      "execution_count": null,
      "outputs": []
    },
    {
      "cell_type": "markdown",
      "metadata": {
        "id": "zCDKBYflAVOI"
      },
      "source": [
        "## Monthy Hall - una aproximación bayesiana\n",
        "\n",
        "Trata de resolver ahora el problema de Monthy Hall utilizando el teorema de Bayes.\n",
        "Puedes escribir la solución, o programar el código. Lo que prefieras."
      ]
    },
    {
      "cell_type": "code",
      "metadata": {
        "jupyter": {
          "outputs_hidden": false
        },
        "id": "_vOaH8-GAVOJ"
      },
      "source": [
        "EXPLICACIÓN MATEMÁTICA\n",
        "Lo explicaremos matemáticamente, con probabilidades condicionadas.\n",
        "\n",
        "Definimos cuidadosamente los siguientes sucesos . Asumimos que hay dos tipos de jugador, los que nunca cambian de puerta y los que cambian siempre; en este caso la pregunta se limita a ver que tipo de jugador tiene la mayor probabilidad de ganar el coche.\n",
        "\n",
        "Suceso\tDescripción\n",
        "A\tEl jugador selecciona la puerta que contiene el coche en su selección inicial.\n",
        "B\tEl jugador selecciona una puerta que contiene una cabra en su selección inicial.\n",
        "G\tEl jugador gana el coche.\n",
        "Estamos interesados en calcular P(G) para cada tipo de jugador.\n",
        "\n",
        "Para calcular P(G), basta con notar que G=(G ∩ A) U (G ∩ B) ya que A ∩ B = Ø\n",
        "\n",
        "P(G)=P((G ∩ A) U (G ∩ B)) =\n",
        "         P(G ∩ A) + P(G ∩ B)=\n",
        "         P(G/A)P(A) + P(G/B)P(B)\n",
        "\n",
        "En cualquier caso, dado que no tenemos ninguna razón para pensar lo contrario, diremos que P(A) = 1/3 y P(B) = 2/3 pues hay un coche y dos cabras.\n",
        "\n",
        "Ahora debemos definir que tipo de jugador estamos estudiando.\n",
        "\n",
        "Jugador que nunca se cambia.\n",
        "En este caso P(G|A) = 1 y P(G|B) = 0 pues el jugador se queda con su selección inicial.\n",
        "Por lo tanto P(G) = 1/3.\n",
        "\n",
        "Jugador que siempre se cambia.\n",
        "En este caso P(G|A) = 0 y P(G|B) = 1 pues el jugador se cambia a la única puerta cerrada que queda (y sabemos que como el presentador sabe donde esta el coche, siempre mostrará una cabra).\n",
        "Por lo tanto P(G) = 2/3.\n",
        "Claramente la mejor estrategia es cambiar siempre, pues la probabilidad efectiva de ganar es el doble de la correspondiente al jugador que no cambia nunca."
      ],
      "execution_count": null,
      "outputs": []
    },
    {
      "cell_type": "markdown",
      "metadata": {
        "id": "xHiynYO2AVOK"
      },
      "source": [
        "# El problema de las Cookies\n",
        "\n",
        "Imagina que tienes 2 botes con galletas. El primero contiene 30 cookies de vainilla y 10 cookies de chocolate. El segundo bote tiene 20 cookies de chocolate y 20 cookies de vainilla.\n",
        "\n",
        "Ahora vamos a suponer que sacamos un cookie sin ver de que bote lo sacamos. El cookie es de vainilla. ¿Cuál es la probabilidad de que el cookie venga del primer bote?\n"
      ]
    },
    {
      "cell_type": "markdown",
      "metadata": {
        "id": "u9Y0pQSwAVOL"
      },
      "source": [
        "## El problema de los M&Ms \n",
        "\n",
        "En 1995 M&Ms lanzó los M&M’s azules. \n",
        "\n",
        "- Antes de ese año la distibución de una bolsa era: 30% Marrones, 20% Amarillos, 20% Rojos, 10% Verdes, 10% Naranjas, 10% Marron Claros. \n",
        "- Después de 1995 la distribución en una bolsa era la siguiente: 24% Azul , 20% Verde, 16% Naranjas, 14% Amarillos, 13% Rojos, 13% Marrones\n",
        "\n",
        "Sin saber qué bolsa es cúal, sacas un M&Ms al azar de cada bolsa. Una es amarilla y otra es verde. ¿Cuál es la probabilidad de que la bolsa de la que salió el caramelo amarillo sea una bolsa de 1994?\n",
        "\n",
        "Pista: Para calcular la probabilidad a posteriori (likelihoods), tienes que multiplicar las probabilidades de sacar un amarillo de una bolsa y un verde de la otra, y viceversa.\n",
        "\n",
        "\n",
        "¿Cuál es la probabilidad de que el caramelo amarillo viniera de una bolsa de 1996?\n"
      ]
    },
    {
      "cell_type": "markdown",
      "metadata": {
        "id": "hVujGqfYAVOL"
      },
      "source": [
        "# Creando un clasificador basado en el teorema de Bayes"
      ]
    },
    {
      "cell_type": "markdown",
      "metadata": {
        "id": "XeVifgUoAVOL"
      },
      "source": [
        "Este es un problema extraido de la página web de Chris Albon, que ha replicado un ejemplo que puedes ver en la wikipedia. Trata de reproducirlo y entenderlo.  \n",
        "\n",
        "Naive bayes is simple classifier known for doing well when only a small number of observations is available. In this tutorial we will create a gaussian naive bayes classifier from scratch and use it to predict the class of a previously unseen data point. This tutorial is based on an example on Wikipedia's [naive bayes classifier page](https://en.wikipedia.org/wiki/Naive_Bayes_classifier), I have implemented it in Python and tweaked some notation to improve explanation. "
      ]
    },
    {
      "cell_type": "markdown",
      "metadata": {
        "id": "x4LYSzaWAVOM"
      },
      "source": [
        "## Preliminaries"
      ]
    },
    {
      "cell_type": "code",
      "metadata": {
        "id": "BU1Nr-dxAVOM"
      },
      "source": [
        "import pandas as pd\n",
        "import numpy as np"
      ],
      "execution_count": null,
      "outputs": []
    },
    {
      "cell_type": "markdown",
      "metadata": {
        "id": "yKyEEmT1AVOO"
      },
      "source": [
        "## Create Data\n",
        "\n",
        "Our dataset is contains data on eight individuals. We will use the dataset to construct a classifier that takes in the height, weight, and foot size of an individual and outputs a prediction for their gender."
      ]
    },
    {
      "cell_type": "code",
      "metadata": {
        "id": "cEaVs9p8AVOP",
        "colab": {
          "base_uri": "https://localhost:8080/",
          "height": 284
        },
        "outputId": "aee3c349-acc7-431e-aee4-ab179d13379b"
      },
      "source": [
        "# Create an empty dataframe\n",
        "data = pd.DataFrame()\n",
        "\n",
        "# Create our target variable\n",
        "data['Gender'] = ['male','male','male','male','female','female','female','female']\n",
        "\n",
        "# Create our feature variables\n",
        "data['Height'] = [6,5.92,5.58,5.92,5,5.5,5.42,5.75]\n",
        "data['Weight'] = [180,190,170,165,100,150,130,150]\n",
        "data['Foot_Size'] = [12,11,12,10,6,8,7,9]\n",
        "\n",
        "# View the data\n",
        "data"
      ],
      "execution_count": null,
      "outputs": [
        {
          "output_type": "execute_result",
          "data": {
            "text/html": [
              "<div>\n",
              "<style scoped>\n",
              "    .dataframe tbody tr th:only-of-type {\n",
              "        vertical-align: middle;\n",
              "    }\n",
              "\n",
              "    .dataframe tbody tr th {\n",
              "        vertical-align: top;\n",
              "    }\n",
              "\n",
              "    .dataframe thead th {\n",
              "        text-align: right;\n",
              "    }\n",
              "</style>\n",
              "<table border=\"1\" class=\"dataframe\">\n",
              "  <thead>\n",
              "    <tr style=\"text-align: right;\">\n",
              "      <th></th>\n",
              "      <th>Gender</th>\n",
              "      <th>Height</th>\n",
              "      <th>Weight</th>\n",
              "      <th>Foot_Size</th>\n",
              "    </tr>\n",
              "  </thead>\n",
              "  <tbody>\n",
              "    <tr>\n",
              "      <th>0</th>\n",
              "      <td>male</td>\n",
              "      <td>6.00</td>\n",
              "      <td>180</td>\n",
              "      <td>12</td>\n",
              "    </tr>\n",
              "    <tr>\n",
              "      <th>1</th>\n",
              "      <td>male</td>\n",
              "      <td>5.92</td>\n",
              "      <td>190</td>\n",
              "      <td>11</td>\n",
              "    </tr>\n",
              "    <tr>\n",
              "      <th>2</th>\n",
              "      <td>male</td>\n",
              "      <td>5.58</td>\n",
              "      <td>170</td>\n",
              "      <td>12</td>\n",
              "    </tr>\n",
              "    <tr>\n",
              "      <th>3</th>\n",
              "      <td>male</td>\n",
              "      <td>5.92</td>\n",
              "      <td>165</td>\n",
              "      <td>10</td>\n",
              "    </tr>\n",
              "    <tr>\n",
              "      <th>4</th>\n",
              "      <td>female</td>\n",
              "      <td>5.00</td>\n",
              "      <td>100</td>\n",
              "      <td>6</td>\n",
              "    </tr>\n",
              "    <tr>\n",
              "      <th>5</th>\n",
              "      <td>female</td>\n",
              "      <td>5.50</td>\n",
              "      <td>150</td>\n",
              "      <td>8</td>\n",
              "    </tr>\n",
              "    <tr>\n",
              "      <th>6</th>\n",
              "      <td>female</td>\n",
              "      <td>5.42</td>\n",
              "      <td>130</td>\n",
              "      <td>7</td>\n",
              "    </tr>\n",
              "    <tr>\n",
              "      <th>7</th>\n",
              "      <td>female</td>\n",
              "      <td>5.75</td>\n",
              "      <td>150</td>\n",
              "      <td>9</td>\n",
              "    </tr>\n",
              "  </tbody>\n",
              "</table>\n",
              "</div>"
            ],
            "text/plain": [
              "   Gender  Height  Weight  Foot_Size\n",
              "0    male    6.00     180         12\n",
              "1    male    5.92     190         11\n",
              "2    male    5.58     170         12\n",
              "3    male    5.92     165         10\n",
              "4  female    5.00     100          6\n",
              "5  female    5.50     150          8\n",
              "6  female    5.42     130          7\n",
              "7  female    5.75     150          9"
            ]
          },
          "metadata": {
            "tags": []
          },
          "execution_count": 35
        }
      ]
    },
    {
      "cell_type": "markdown",
      "metadata": {
        "id": "dlbDQM-6AVOS"
      },
      "source": [
        "The dataset above is used to construct our classifier. Below we will create a new person for whom we know their feature values but not their gender. Our goal is to predict their gender."
      ]
    },
    {
      "cell_type": "code",
      "metadata": {
        "id": "Yu21PtgVAVOS",
        "colab": {
          "base_uri": "https://localhost:8080/",
          "height": 77
        },
        "outputId": "7a2d9c31-4996-4eee-af6e-f24037f1756e"
      },
      "source": [
        "# Create an empty dataframe\n",
        "person = pd.DataFrame()\n",
        "\n",
        "# Create some feature values for this single row\n",
        "person['Height'] = [6]\n",
        "person['Weight'] = [130]\n",
        "person['Foot_Size'] = [8]\n",
        "\n",
        "# View the data \n",
        "person"
      ],
      "execution_count": null,
      "outputs": [
        {
          "output_type": "execute_result",
          "data": {
            "text/html": [
              "<div>\n",
              "<style scoped>\n",
              "    .dataframe tbody tr th:only-of-type {\n",
              "        vertical-align: middle;\n",
              "    }\n",
              "\n",
              "    .dataframe tbody tr th {\n",
              "        vertical-align: top;\n",
              "    }\n",
              "\n",
              "    .dataframe thead th {\n",
              "        text-align: right;\n",
              "    }\n",
              "</style>\n",
              "<table border=\"1\" class=\"dataframe\">\n",
              "  <thead>\n",
              "    <tr style=\"text-align: right;\">\n",
              "      <th></th>\n",
              "      <th>Height</th>\n",
              "      <th>Weight</th>\n",
              "      <th>Foot_Size</th>\n",
              "    </tr>\n",
              "  </thead>\n",
              "  <tbody>\n",
              "    <tr>\n",
              "      <th>0</th>\n",
              "      <td>6</td>\n",
              "      <td>130</td>\n",
              "      <td>8</td>\n",
              "    </tr>\n",
              "  </tbody>\n",
              "</table>\n",
              "</div>"
            ],
            "text/plain": [
              "   Height  Weight  Foot_Size\n",
              "0       6     130          8"
            ]
          },
          "metadata": {
            "tags": []
          },
          "execution_count": 48
        }
      ]
    },
    {
      "cell_type": "markdown",
      "metadata": {
        "id": "c8vgNjVWAVOU"
      },
      "source": [
        "## Bayes Theorem"
      ]
    },
    {
      "cell_type": "markdown",
      "metadata": {
        "id": "4H6bh_YrAVOV"
      },
      "source": [
        "Bayes theorem is a famous equation that allows us to make predictions based on data. Here is the classic version of the Bayes theorem:\n",
        "\n",
        "$$\\displaystyle P(A\\mid B)={\\frac {P(B\\mid A)\\,P(A)}{P(B)}}$$\n",
        "\n",
        "This might be too abstract, so let us replace some of the variables to make it more concrete. In a bayes classifier, we are interested in finding out the class (e.g. male or female, spam or ham) of an observation _given_ the data:\n",
        "\n",
        "$$p(\\text{class} \\mid \\mathbf {\\text{data}} )={\\frac {p(\\mathbf {\\text{data}} \\mid \\text{class}) * p(\\text{class})}{p(\\mathbf {\\text{data}} )}}$$\n",
        "\n",
        "where: \n",
        "\n",
        "- $\\text{class}$ is a particular class (e.g. male)\n",
        "- $\\mathbf {\\text{data}}$ is an observation's data\n",
        "- $p(\\text{class} \\mid \\mathbf {\\text{data}} )$ is called the posterior\n",
        "- $p(\\text{data|class})$ is called the likelihood\n",
        "- $p(\\text{class})$ is called the prior\n",
        "- $p(\\mathbf {\\text{data}} )$ is called the marginal probability\n",
        "\n",
        "In a bayes classifier, we calculate the posterior (technically we only calculate the numerator of the posterior, but ignore that for now) for every class for each observation. Then, classify the observation based on the class with the largest posterior value. In our example, we have one observation to predict and two possible classes (e.g. male and female), therefore we will calculate two posteriors: one for male and one for female.\n",
        "\n",
        "$$p(\\text{person is male} \\mid \\mathbf {\\text{person's data}} )={\\frac {p(\\mathbf {\\text{person's data}} \\mid \\text{person is male}) * p(\\text{person is male})}{p(\\mathbf {\\text{person's data}} )}}$$\n",
        "\n",
        "$$p(\\text{person is female} \\mid \\mathbf {\\text{person's data}} )={\\frac {p(\\mathbf {\\text{person's data}} \\mid \\text{person is female}) * p(\\text{person is female})}{p(\\mathbf {\\text{person's data}} )}}$$"
      ]
    },
    {
      "cell_type": "markdown",
      "metadata": {
        "id": "yjZzKdSbAVOV"
      },
      "source": [
        "## Gaussian Naive Bayes Classifier"
      ]
    },
    {
      "cell_type": "markdown",
      "metadata": {
        "id": "P-Tko3m_AVOV"
      },
      "source": [
        "A gaussian naive bayes is probably the most popular type of bayes classifier. To explain what the name means, let us look at what the bayes equations looks like when we apply our two classes (male and female) and three feature variables (height, weight, and footsize):\n",
        "\n",
        "$${\\displaystyle {\\text{posterior (male)}}={\\frac {P({\\text{male}})\\,p({\\text{height}}\\mid{\\text{male}})\\,p({\\text{weight}}\\mid{\\text{male}})\\,p({\\text{foot size}}\\mid{\\text{male}})}{\\text{marginal probability}}}}$$\n",
        "\n",
        "$${\\displaystyle {\\text{posterior (female)}}={\\frac {P({\\text{female}})\\,p({\\text{height}}\\mid{\\text{female}})\\,p({\\text{weight}}\\mid{\\text{female}})\\,p({\\text{foot size}}\\mid{\\text{female}})}{\\text{marginal probability}}}}$$\n",
        "\n",
        "Now let us unpack the top equation a bit:\n",
        "\n",
        "- $P({\\text{male}})$ is the prior probabilities. It is, as you can see, simply the probability an observation is male. This is just the number of males in the dataset divided by the total number of people in the dataset.\n",
        "- $p({\\text{height}}\\mid{\\text{female}})\\,p({\\text{weight}}\\mid{\\text{female}})\\,p({\\text{foot size}}\\mid{\\text{female}})$ is the likelihood. Notice that we have unpacked $\\mathbf {\\text{person's data}}$ so it is now every feature in the dataset. The \"gaussian\" and \"naive\" come from two assumptions present in this likelihood:\n",
        "    1. If you look each term in the likelihood you will notice that we assume each feature is uncorrelated from each other. That is, foot size is independent of weight or height etc.. This is obviously not true, and is a \"naive\" assumption - hence the name \"naive bayes.\"\n",
        "    2. Second, we assume have that the value of the features (e.g. the height of women, the weight of women) are normally (gaussian) distributed. This means that $p(\\text{height}\\mid\\text{female})$ is calculated by inputing the required parameters into the probability density function of the normal distribution: \n",
        "\n",
        "$$ \n",
        "p(\\text{height}\\mid\\text{female})=\\frac{1}{\\sqrt{2\\pi\\text{variance of female height in the data}}}\\,e^{ -\\frac{(\\text{observation's height}-\\text{average height of females in the data})^2}{2\\text{variance of female height in the data}} }\n",
        "$$\n",
        "\n",
        "- $\\text{marginal probability}$ is probably one of the most confusing parts of bayesian approaches. In toy examples (including ours) it is completely possible to calculate the marginal probability. However, in many real-world cases, it is either extremely difficult or impossible to find the value of the marginal probability (explaining why is beyond the scope of this tutorial). This is not as much of a problem for our classifier as you might think. Why? Because we don't care what the true posterior value is, we only care which class has a the highest posterior value. And because the marginal probability is the same for all classes 1) we can ignore the denominator, 2) calculate only the posterior's numerator for each class, and 3) pick the largest numerator. That is, we can ignore the posterior's denominator and make a prediction solely on the relative values of the posterior's numerator.\n",
        "\n",
        "Okay! Theory over. Now let us start calculating all the different parts of the bayes equations."
      ]
    },
    {
      "cell_type": "markdown",
      "metadata": {
        "id": "fuAPD5NjAVOW"
      },
      "source": [
        "## Calculate Priors"
      ]
    },
    {
      "cell_type": "markdown",
      "metadata": {
        "id": "COIPoD94AVOW"
      },
      "source": [
        "Priors can be either constants or probability distributions. In our example, this is simply the probability of being a gender. Calculating this is simple:"
      ]
    },
    {
      "cell_type": "code",
      "metadata": {
        "id": "NY0SqurcAVOW"
      },
      "source": [
        "# Number of males\n",
        "n_male = data['Gender'][data['Gender'] == 'male'].count()\n",
        "\n",
        "# Number of males\n",
        "n_female = data['Gender'][data['Gender'] == 'female'].count()\n",
        "\n",
        "# Total rows\n",
        "total_ppl = data['Gender'].count()"
      ],
      "execution_count": null,
      "outputs": []
    },
    {
      "cell_type": "code",
      "metadata": {
        "id": "pL0qjVlmAVOY"
      },
      "source": [
        "# Number of males divided by the total rows\n",
        "P_male = n_male/total_ppl\n",
        "\n",
        "# Number of females divided by the total rows\n",
        "P_female = n_female/total_ppl"
      ],
      "execution_count": null,
      "outputs": []
    },
    {
      "cell_type": "markdown",
      "metadata": {
        "id": "uCH9N0oVAVOa"
      },
      "source": [
        "## Calculate Likelihood"
      ]
    },
    {
      "cell_type": "markdown",
      "metadata": {
        "id": "JxzbRD-YAVOa"
      },
      "source": [
        "Remember that each term (e.g. $p(\\text{height}\\mid\\text{female})$) in our likelihood is assumed to be a normal pdf. For example:\n",
        "\n",
        "$$ \n",
        "p(\\text{height}\\mid\\text{female})=\\frac{1}{\\sqrt{2\\pi\\text{variance of female height in the data}}}\\,e^{ -\\frac{(\\text{observation's height}-\\text{average height of females in the data})^2}{2\\text{variance of female height in the data}} }\n",
        "$$\n",
        "\n",
        "This means that for each class (e.g. female) and feature (e.g. height) combination we need to calculate the variance and mean value from the data. Pandas makes this easy:"
      ]
    },
    {
      "cell_type": "code",
      "metadata": {
        "id": "bC0xCDGDAVOa",
        "colab": {
          "base_uri": "https://localhost:8080/",
          "height": 136
        },
        "outputId": "43855627-8e6d-4b5a-a363-6b389af16bdf"
      },
      "source": [
        "# Group the data by gender and calculate the means of each feature\n",
        "data_means = data.groupby('Gender').mean()\n",
        "\n",
        "# View the values\n",
        "data_means"
      ],
      "execution_count": null,
      "outputs": [
        {
          "output_type": "execute_result",
          "data": {
            "text/html": [
              "<div>\n",
              "<style scoped>\n",
              "    .dataframe tbody tr th:only-of-type {\n",
              "        vertical-align: middle;\n",
              "    }\n",
              "\n",
              "    .dataframe tbody tr th {\n",
              "        vertical-align: top;\n",
              "    }\n",
              "\n",
              "    .dataframe thead th {\n",
              "        text-align: right;\n",
              "    }\n",
              "</style>\n",
              "<table border=\"1\" class=\"dataframe\">\n",
              "  <thead>\n",
              "    <tr style=\"text-align: right;\">\n",
              "      <th></th>\n",
              "      <th>Height</th>\n",
              "      <th>Weight</th>\n",
              "      <th>Foot_Size</th>\n",
              "    </tr>\n",
              "    <tr>\n",
              "      <th>Gender</th>\n",
              "      <th></th>\n",
              "      <th></th>\n",
              "      <th></th>\n",
              "    </tr>\n",
              "  </thead>\n",
              "  <tbody>\n",
              "    <tr>\n",
              "      <th>female</th>\n",
              "      <td>5.4175</td>\n",
              "      <td>132.50</td>\n",
              "      <td>7.50</td>\n",
              "    </tr>\n",
              "    <tr>\n",
              "      <th>male</th>\n",
              "      <td>5.8550</td>\n",
              "      <td>176.25</td>\n",
              "      <td>11.25</td>\n",
              "    </tr>\n",
              "  </tbody>\n",
              "</table>\n",
              "</div>"
            ],
            "text/plain": [
              "        Height  Weight  Foot_Size\n",
              "Gender                           \n",
              "female  5.4175  132.50       7.50\n",
              "male    5.8550  176.25      11.25"
            ]
          },
          "metadata": {
            "tags": []
          },
          "execution_count": 46
        }
      ]
    },
    {
      "cell_type": "code",
      "metadata": {
        "id": "6tA_nGlsAVOc",
        "colab": {
          "base_uri": "https://localhost:8080/",
          "height": 136
        },
        "outputId": "8f407150-2a66-4e18-ce47-916bd3555cce"
      },
      "source": [
        "# Group the data by gender and calculate the variance of each feature\n",
        "data_variance = data.groupby('Gender').var()\n",
        "\n",
        "# View the values\n",
        "data_variance"
      ],
      "execution_count": null,
      "outputs": [
        {
          "output_type": "execute_result",
          "data": {
            "text/html": [
              "<div>\n",
              "<style scoped>\n",
              "    .dataframe tbody tr th:only-of-type {\n",
              "        vertical-align: middle;\n",
              "    }\n",
              "\n",
              "    .dataframe tbody tr th {\n",
              "        vertical-align: top;\n",
              "    }\n",
              "\n",
              "    .dataframe thead th {\n",
              "        text-align: right;\n",
              "    }\n",
              "</style>\n",
              "<table border=\"1\" class=\"dataframe\">\n",
              "  <thead>\n",
              "    <tr style=\"text-align: right;\">\n",
              "      <th></th>\n",
              "      <th>Height</th>\n",
              "      <th>Weight</th>\n",
              "      <th>Foot_Size</th>\n",
              "    </tr>\n",
              "    <tr>\n",
              "      <th>Gender</th>\n",
              "      <th></th>\n",
              "      <th></th>\n",
              "      <th></th>\n",
              "    </tr>\n",
              "  </thead>\n",
              "  <tbody>\n",
              "    <tr>\n",
              "      <th>female</th>\n",
              "      <td>0.097225</td>\n",
              "      <td>558.333333</td>\n",
              "      <td>1.666667</td>\n",
              "    </tr>\n",
              "    <tr>\n",
              "      <th>male</th>\n",
              "      <td>0.035033</td>\n",
              "      <td>122.916667</td>\n",
              "      <td>0.916667</td>\n",
              "    </tr>\n",
              "  </tbody>\n",
              "</table>\n",
              "</div>"
            ],
            "text/plain": [
              "          Height      Weight  Foot_Size\n",
              "Gender                                 \n",
              "female  0.097225  558.333333   1.666667\n",
              "male    0.035033  122.916667   0.916667"
            ]
          },
          "metadata": {
            "tags": []
          },
          "execution_count": 47
        }
      ]
    },
    {
      "cell_type": "markdown",
      "metadata": {
        "id": "3TL1mYvdAVOe"
      },
      "source": [
        "Now we can create all the variables we need. The code below might look complex but all we are doing is creating a variable out of each cell in both of the tables above."
      ]
    },
    {
      "cell_type": "code",
      "metadata": {
        "id": "GNIHCneRAVOf",
        "colab": {
          "base_uri": "https://localhost:8080/",
          "height": 34
        },
        "outputId": "1ded5825-64c1-46e9-d673-e821d3507914"
      },
      "source": [
        "# Means for male\n",
        "male_height_mean = data_means['Height'][data_variance.index == 'male'].values[0]\n",
        "print(male_height_mean)\n",
        "male_weight_mean = data_means['Weight'][data_variance.index == 'male'].values[0]\n",
        "male_footsize_mean = data_means['Foot_Size'][data_variance.index == 'male'].values[0]\n",
        "\n",
        "# Variance for male\n",
        "male_height_variance = data_variance['Height'][data_variance.index == 'male'].values[0]\n",
        "male_weight_variance = data_variance['Weight'][data_variance.index == 'male'].values[0]\n",
        "male_footsize_variance = data_variance['Foot_Size'][data_variance.index == 'male'].values[0]\n",
        "\n",
        "# Means for female\n",
        "female_height_mean = data_means['Height'][data_variance.index == 'female'].values[0]\n",
        "female_weight_mean = data_means['Weight'][data_variance.index == 'female'].values[0]\n",
        "female_footsize_mean = data_means['Foot_Size'][data_variance.index == 'female'].values[0]\n",
        "\n",
        "# Variance for female\n",
        "female_height_variance = data_variance['Height'][data_variance.index == 'female'].values[0]\n",
        "female_weight_variance = data_variance['Weight'][data_variance.index == 'female'].values[0]\n",
        "female_footsize_variance = data_variance['Foot_Size'][data_variance.index == 'female'].values[0]"
      ],
      "execution_count": null,
      "outputs": [
        {
          "output_type": "stream",
          "text": [
            "5.855\n"
          ],
          "name": "stdout"
        }
      ]
    },
    {
      "cell_type": "markdown",
      "metadata": {
        "id": "Nm0srbSkAVOh"
      },
      "source": [
        "Finally, we need to create a function to calculate the probability density of each of the terms of the likelihood (e.g. $p(\\text{height}\\mid\\text{female})$)."
      ]
    },
    {
      "cell_type": "code",
      "metadata": {
        "id": "ML1f_6NGAVOh"
      },
      "source": [
        "# Create a function that calculates p(x | y):\n",
        "def p_x_given_y(x, mean_y, variance_y):\n",
        "\n",
        "    # Input the arguments into a probability density function\n",
        "    p = 1/(np.sqrt(2*np.pi*variance_y)) * np.exp((-(x-mean_y)**2)/(2*variance_y))\n",
        "    \n",
        "    # return p\n",
        "    return p"
      ],
      "execution_count": null,
      "outputs": []
    },
    {
      "cell_type": "markdown",
      "metadata": {
        "id": "MXCDUhTwAVOj"
      },
      "source": [
        "## Apply Bayes Classifier To New Data Point"
      ]
    },
    {
      "cell_type": "markdown",
      "metadata": {
        "id": "r7Nllz-WAVOj"
      },
      "source": [
        "Alright! Our bayes classifier is ready. Remember that since we can ignore the marginal probability (the demoninator), what we are actually calculating is this:\n",
        "\n",
        "$${\\displaystyle {\\text{numerator of the posterior}}={P({\\text{female}})\\,p({\\text{height}}\\mid{\\text{female}})\\,p({\\text{weight}}\\mid{\\text{female}})\\,p({\\text{foot size}}\\mid{\\text{female}})}{}}$$\n",
        "\n",
        "To do this, we just need to plug in the values of the unclassified person (height = 6), the variables of the dataset (e.g. mean of female height), and the function (`p_x_given_y`) we made above:"
      ]
    },
    {
      "cell_type": "code",
      "metadata": {
        "id": "HH7s4DyqUFxf",
        "colab": {
          "base_uri": "https://localhost:8080/",
          "height": 77
        },
        "outputId": "495bf84f-f3ef-4656-db10-8926ea5a164e"
      },
      "source": [
        "person"
      ],
      "execution_count": null,
      "outputs": [
        {
          "output_type": "execute_result",
          "data": {
            "text/html": [
              "<div>\n",
              "<style scoped>\n",
              "    .dataframe tbody tr th:only-of-type {\n",
              "        vertical-align: middle;\n",
              "    }\n",
              "\n",
              "    .dataframe tbody tr th {\n",
              "        vertical-align: top;\n",
              "    }\n",
              "\n",
              "    .dataframe thead th {\n",
              "        text-align: right;\n",
              "    }\n",
              "</style>\n",
              "<table border=\"1\" class=\"dataframe\">\n",
              "  <thead>\n",
              "    <tr style=\"text-align: right;\">\n",
              "      <th></th>\n",
              "      <th>Height</th>\n",
              "      <th>Weight</th>\n",
              "      <th>Foot_Size</th>\n",
              "    </tr>\n",
              "  </thead>\n",
              "  <tbody>\n",
              "    <tr>\n",
              "      <th>0</th>\n",
              "      <td>6</td>\n",
              "      <td>130</td>\n",
              "      <td>8</td>\n",
              "    </tr>\n",
              "  </tbody>\n",
              "</table>\n",
              "</div>"
            ],
            "text/plain": [
              "   Height  Weight  Foot_Size\n",
              "0       6     130          8"
            ]
          },
          "metadata": {
            "tags": []
          },
          "execution_count": 50
        }
      ]
    },
    {
      "cell_type": "code",
      "metadata": {
        "id": "Xd1N6tUKAVOk",
        "colab": {
          "base_uri": "https://localhost:8080/",
          "height": 34
        },
        "outputId": "e036ae1e-159a-45ad-f83b-47f3a5ff508b"
      },
      "source": [
        "# Numerator of the posterior if the unclassified observation is a male\n",
        "P_male * \\\n",
        "p_x_given_y(person['Height'][0], male_height_mean, male_height_variance) * \\\n",
        "p_x_given_y(person['Weight'][0], male_weight_mean, male_weight_variance) * \\\n",
        "p_x_given_y(person['Foot_Size'][0], male_footsize_mean, male_footsize_variance)"
      ],
      "execution_count": null,
      "outputs": [
        {
          "output_type": "execute_result",
          "data": {
            "text/plain": [
              "6.197071843878078e-09"
            ]
          },
          "metadata": {
            "tags": []
          },
          "execution_count": 61
        }
      ]
    },
    {
      "cell_type": "code",
      "metadata": {
        "scrolled": true,
        "id": "ozb2BnS8AVOl",
        "colab": {
          "base_uri": "https://localhost:8080/",
          "height": 34
        },
        "outputId": "1ee1b05d-f561-4b09-f8a8-3de2a5c3cad5"
      },
      "source": [
        "# Numerator of the posterior if the unclassified observation is a female\n",
        "P_female * \\\n",
        "p_x_given_y(person['Height'][0], female_height_mean, female_height_variance) * \\\n",
        "p_x_given_y(person['Weight'][0], female_weight_mean, female_weight_variance) * \\\n",
        "p_x_given_y(person['Foot_Size'][0], female_footsize_mean, female_footsize_variance)"
      ],
      "execution_count": null,
      "outputs": [
        {
          "output_type": "execute_result",
          "data": {
            "text/plain": [
              "0.0005377909183630018"
            ]
          },
          "metadata": {
            "tags": []
          },
          "execution_count": 56
        }
      ]
    },
    {
      "cell_type": "markdown",
      "metadata": {
        "id": "ddNVCPYNAVOn"
      },
      "source": [
        "Because the numerator of the posterior for female is greater than male, then we predict that the person is female.\n",
        "\n",
        "\n",
        "Comprobamos si es cierto:"
      ]
    },
    {
      "cell_type": "code",
      "metadata": {
        "id": "zK5e9t5aWezx",
        "colab": {
          "base_uri": "https://localhost:8080/",
          "height": 34
        },
        "outputId": "63496af1-9829-4ab8-e91f-95504729701c"
      },
      "source": [
        "# Create an empty dataframe\n",
        "person = pd.DataFrame()\n",
        "\n",
        "# Create some feature values for this single row\n",
        "person['Height'] = [5.8]\n",
        "person['Weight'] = [176]\n",
        "person['Foot_Size'] = [10.5]\n",
        "\n",
        "\n",
        "# Numerator of the posterior if the unclassified observation is a male\n",
        "P_male * \\\n",
        "p_x_given_y(person['Height'][0], male_height_mean, male_height_variance) * \\\n",
        "p_x_given_y(person['Weight'][0], male_weight_mean, male_weight_variance) * \\\n",
        "p_x_given_y(person['Foot_Size'][0], male_footsize_mean, male_footsize_variance)\n"
      ],
      "execution_count": null,
      "outputs": [
        {
          "output_type": "execute_result",
          "data": {
            "text/plain": [
              "0.011257414015349238"
            ]
          },
          "metadata": {
            "tags": []
          },
          "execution_count": 62
        }
      ]
    },
    {
      "cell_type": "code",
      "metadata": {
        "id": "vknBWWcDWzhP",
        "colab": {
          "base_uri": "https://localhost:8080/",
          "height": 34
        },
        "outputId": "4c9a56b8-4302-41a3-d5df-f1d0a8baf179"
      },
      "source": [
        "# Numerator of the posterior if the unclassified observation is a female\n",
        "P_female * \\\n",
        "p_x_given_y(person['Height'][0], female_height_mean, female_height_variance) * \\\n",
        "p_x_given_y(person['Weight'][0], female_weight_mean, female_weight_variance) * \\\n",
        "p_x_given_y(person['Foot_Size'][0], female_footsize_mean, female_footsize_variance)\n"
      ],
      "execution_count": null,
      "outputs": [
        {
          "output_type": "execute_result",
          "data": {
            "text/plain": [
              "1.941522793697582e-05"
            ]
          },
          "metadata": {
            "tags": []
          },
          "execution_count": 63
        }
      ]
    },
    {
      "cell_type": "markdown",
      "metadata": {
        "id": "p-g2pdkUF-7M"
      },
      "source": [
        "\n",
        "\n"
      ]
    }
  ]
}