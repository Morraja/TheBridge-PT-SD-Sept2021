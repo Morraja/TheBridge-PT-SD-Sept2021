{
  "nbformat": 4,
  "nbformat_minor": 0,
  "metadata": {
    "kernelspec": {
      "display_name": "Python 3",
      "language": "python",
      "name": "python3"
    },
    "language_info": {
      "codemirror_mode": {
        "name": "ipython",
        "version": 3
      },
      "file_extension": ".py",
      "mimetype": "text/x-python",
      "name": "python",
      "nbconvert_exporter": "python",
      "pygments_lexer": "ipython3",
      "version": "3.6.9"
    },
    "colab": {
      "name": "2-RESU_Estadistica_descriptiva.ipynb",
      "provenance": [],
      "collapsed_sections": []
    }
  },
  "cells": [
    {
      "cell_type": "markdown",
      "metadata": {
        "id": "Khw8BuO9cxCr"
      },
      "source": [
        "## Conceptos básicos de la estadística descriptiva\n",
        "\n",
        "En *[estadística descriptiva](https://es.wikipedia.org/wiki/Estad%C3%ADstica_descriptiva)* se utilizan distintas medidas para intentar describir las propiedades de nuestros datos, algunos de los conceptos básicos, son:\n",
        "\n",
        "* **Media aritmética**: La [media aritmética](https://es.wikipedia.org/wiki/Media_aritm%C3%A9tica) es el valor obtenido al sumar todos los *[datos](https://es.wikipedia.org/wiki/Dato)* y dividir el resultado entre el número total elementos. Se suele representar con la letra griega $\\mu$. Si tenemos una [muestra](https://es.wikipedia.org/wiki/Muestra_estad%C3%ADstica) de $n$ valores, $x_i$, la *media aritmética*, $\\mu$, es la suma de los valores divididos por el numero de elementos; en otras palabras:\n",
        "$$\\mu = \\frac{1}{n} \\sum_{i}x_i$$\n",
        "\n",
        "\n",
        "* **Desviación respecto a la media**: La desviación respecto a la media es la diferencia en valor absoluto entre cada valor de la variable estadística y la media aritmética.\n",
        "$$D_i = |x_i - \\mu|$$\n",
        "\n",
        "\n",
        "* **Varianza**: La [varianza](https://es.wikipedia.org/wiki/Varianza) es la media aritmética del cuadrado de las desviaciones respecto a la media de una distribución estadística. La varianza intenta describir la dispersión de los *[datos](https://es.wikipedia.org/wiki/Dato)*. Se representa como $\\sigma^2$. \n",
        "$$\\sigma^2 = \\frac{\\sum\\limits_{i=1}^n(x_i - \\mu)^2}{n} $$\n",
        "\n",
        "\n",
        "* **Desviación típica**: La [desviación típica](https://es.wikipedia.org/wiki/Desviaci%C3%B3n_t%C3%ADpica) es la raíz cuadrada de la varianza. Se representa con la letra griega $\\sigma$.\n",
        "$$\\sigma = \\sqrt{\\frac{\\sum\\limits_{i=1}^n(x_i - \\mu)^2}{n}} $$\n",
        "\n",
        "\n",
        "* **Moda**: La <a href=\"https://es.wikipedia.org/wiki/Moda_(estad%C3%ADstica)\">moda</a> es el valor que tiene mayor frecuencia absoluta. Se representa con $M_0$\n",
        "\n",
        "\n",
        "* **Mediana**: La <a href=\"https://es.wikipedia.org/wiki/Mediana_(estad%C3%ADstica)\">mediana</a> es el valor que ocupa el lugar central de todos los datos cuando éstos están ordenados de menor a mayor. Se representa con $\\widetilde{x}$.\n",
        "\n",
        "\n",
        "* **Correlación**: La [correlación](https://es.wikipedia.org/wiki/Correlaci%C3%B3n) trata de establecer la relación o dependencia que existe entre las dos variables que intervienen en una distribución bidimensional. Es decir, determinar si los cambios en una de las variables influyen en los cambios de la otra. En caso de que suceda, diremos que las variables están correlacionadas o que hay correlación entre ellas. La correlación es positiva cuando los valores de las variables aumenta juntos; y es negativa cuando un valor de una variable se reduce cuando el valor de la otra variable aumenta.\n",
        "\n",
        "\n",
        "* **Covarianza**: La [covarianza](https://es.wikipedia.org/wiki/Covarianza) es el equivalente de la varianza aplicado a una variable bidimensional. Es la media aritmética de los productos de las desviaciones de cada una de las variables respecto a sus medias respectivas.La covarianza indica el sentido de la correlación entre las variables; Si $\\sigma_{xy} > 0$ la correlación es directa; Si $\\sigma_{xy} < 0$ la correlación es inversa.\n",
        "\n",
        "$$\\sigma_{xy} = \\frac{\\sum\\limits_{i=1}^n(x_i - \\mu_x)(y_i -\\mu_y)}{n}$$\n",
        "\n",
        "\n",
        "* **Valor atípico**: Un [valor atípico](https://es.wikipedia.org/wiki/Valor_at%C3%ADpico) es una observación que se aleja demasiado de la moda; esta muy lejos de la tendencia principal del resto de los *[datos](https://es.wikipedia.org/wiki/Dato)*. Pueden ser causados por errores en la recolección de *[datos](https://es.wikipedia.org/wiki/Dato)* o medidas inusuales. Generalmente se recomienda eliminarlos del [conjunto de datos](https://es.wikipedia.org/wiki/Conjunto_de_datos).\n"
      ]
    },
    {
      "cell_type": "markdown",
      "metadata": {
        "id": "4T8284EncxCs"
      },
      "source": [
        "### Ejemplos en Python\n",
        "\n",
        "Calcular los principales indicadores de la *[estadística descriptiva](https://es.wikipedia.org/wiki/Estad%C3%ADstica_descriptiva)* con [Python](http://python.org/) es muy fácil!."
      ]
    },
    {
      "cell_type": "code",
      "metadata": {
        "id": "XiZyKZwLcxCt"
      },
      "source": [
        "# Ejemplos de estadistica descriptiva con python\n",
        "\n",
        "import numpy as np # importando numpy\n",
        "from scipy import stats # importando scipy.stats\n",
        "import pandas as pd # importando pandas\n",
        "\n",
        "np.random.seed(2131982) # para poder replicar el random"
      ],
      "execution_count": null,
      "outputs": []
    },
    {
      "cell_type": "code",
      "metadata": {
        "jupyter": {
          "outputs_hidden": false
        },
        "id": "61OpiEQ5cxCw",
        "colab": {
          "base_uri": "https://localhost:8080/",
          "height": 101
        },
        "outputId": "7630a5a8-4ab2-4697-cd3e-fe654dd09d1e"
      },
      "source": [
        "datos = np.random.randn(5, 4) # datos normalmente distribuidos\n",
        "datos"
      ],
      "execution_count": null,
      "outputs": [
        {
          "output_type": "execute_result",
          "data": {
            "text/plain": [
              "array([[ 0.46038022, -1.08942528, -0.62681496, -0.63329028],\n",
              "       [-0.1074033 , -0.88138082, -0.34466623, -0.28320214],\n",
              "       [ 0.94051171,  0.86693793,  1.20947882, -0.16894118],\n",
              "       [-0.12790177, -0.58099931, -0.46188426, -0.18148302],\n",
              "       [-0.76959435, -1.37414587,  1.37696874, -0.18040537]])"
            ]
          },
          "metadata": {
            "tags": []
          },
          "execution_count": 16
        }
      ]
    },
    {
      "cell_type": "code",
      "metadata": {
        "jupyter": {
          "outputs_hidden": false
        },
        "id": "0Z1tMEHhcxC0",
        "colab": {
          "base_uri": "https://localhost:8080/",
          "height": 34
        },
        "outputId": "a5235ea0-851f-4b32-9d17-e71d1c7d983d"
      },
      "source": [
        "# media arítmetica\n",
        "datos.mean() # Calcula la media aritmetica de"
      ],
      "execution_count": null,
      "outputs": [
        {
          "output_type": "execute_result",
          "data": {
            "text/plain": [
              "-0.14786303590303568"
            ]
          },
          "metadata": {
            "tags": []
          },
          "execution_count": 17
        }
      ]
    },
    {
      "cell_type": "code",
      "metadata": {
        "jupyter": {
          "outputs_hidden": false
        },
        "id": "tv7_nzJBcxC2",
        "colab": {
          "base_uri": "https://localhost:8080/",
          "height": 34
        },
        "outputId": "e1496348-85ca-4f40-f639-69c4c3b517b9"
      },
      "source": [
        "np.mean(datos) # Mismo resultado desde la funcion de numpy"
      ],
      "execution_count": null,
      "outputs": [
        {
          "output_type": "execute_result",
          "data": {
            "text/plain": [
              "-0.14786303590303568"
            ]
          },
          "metadata": {
            "tags": []
          },
          "execution_count": 18
        }
      ]
    },
    {
      "cell_type": "code",
      "metadata": {
        "jupyter": {
          "outputs_hidden": false
        },
        "id": "bCU-I_L0cxC5",
        "colab": {
          "base_uri": "https://localhost:8080/",
          "height": 34
        },
        "outputId": "c918b9db-0e42-4a82-b377-c56b2f927b63"
      },
      "source": [
        "datos.mean(axis=1) # media aritmetica de cada fila"
      ],
      "execution_count": null,
      "outputs": [
        {
          "output_type": "execute_result",
          "data": {
            "text/plain": [
              "array([-0.47228757, -0.40416312,  0.71199682, -0.33806709, -0.23679421])"
            ]
          },
          "metadata": {
            "tags": []
          },
          "execution_count": 19
        }
      ]
    },
    {
      "cell_type": "code",
      "metadata": {
        "jupyter": {
          "outputs_hidden": false
        },
        "id": "8Qitdc4AcxC8",
        "colab": {
          "base_uri": "https://localhost:8080/",
          "height": 34
        },
        "outputId": "367419e1-5b9b-40eb-9da9-4c9a6fc0123b"
      },
      "source": [
        "datos.mean(axis=0) # media aritmetica de cada columna"
      ],
      "execution_count": null,
      "outputs": [
        {
          "output_type": "execute_result",
          "data": {
            "text/plain": [
              "array([ 0.0791985 , -0.61180267,  0.23061642, -0.2894644 ])"
            ]
          },
          "metadata": {
            "tags": []
          },
          "execution_count": 20
        }
      ]
    },
    {
      "cell_type": "code",
      "metadata": {
        "jupyter": {
          "outputs_hidden": false
        },
        "id": "yzlsVViecxC-",
        "colab": {
          "base_uri": "https://localhost:8080/",
          "height": 34
        },
        "outputId": "298ad403-d6b9-443b-f2d6-13162cc5af59"
      },
      "source": [
        "# mediana\n",
        "np.median(datos) "
      ],
      "execution_count": null,
      "outputs": [
        {
          "output_type": "execute_result",
          "data": {
            "text/plain": [
              "-0.23234258265023794"
            ]
          },
          "metadata": {
            "tags": []
          },
          "execution_count": 21
        }
      ]
    },
    {
      "cell_type": "code",
      "metadata": {
        "jupyter": {
          "outputs_hidden": false
        },
        "id": "uXu3PUjEcxDB",
        "colab": {
          "base_uri": "https://localhost:8080/",
          "height": 34
        },
        "outputId": "a7796c6e-9488-4565-b848-b712ca13b7ed"
      },
      "source": [
        "np.median(datos, 0) # media aritmetica de cada columna"
      ],
      "execution_count": null,
      "outputs": [
        {
          "output_type": "execute_result",
          "data": {
            "text/plain": [
              "array([-0.1074033 , -0.88138082, -0.34466623, -0.18148302])"
            ]
          },
          "metadata": {
            "tags": []
          },
          "execution_count": 22
        }
      ]
    },
    {
      "cell_type": "code",
      "metadata": {
        "jupyter": {
          "outputs_hidden": false
        },
        "id": "qrbJEtMBcxDD",
        "colab": {
          "base_uri": "https://localhost:8080/",
          "height": 34
        },
        "outputId": "61a31ce9-8f6a-4ff4-d9af-9b552efd89da"
      },
      "source": [
        " # Desviación típica\n",
        "np.std(datos)"
      ],
      "execution_count": null,
      "outputs": [
        {
          "output_type": "execute_result",
          "data": {
            "text/plain": [
              "0.7375535458407161"
            ]
          },
          "metadata": {
            "tags": []
          },
          "execution_count": 23
        }
      ]
    },
    {
      "cell_type": "code",
      "metadata": {
        "jupyter": {
          "outputs_hidden": false
        },
        "id": "P419aKUNcxDF",
        "colab": {
          "base_uri": "https://localhost:8080/",
          "height": 34
        },
        "outputId": "44886110-c7f9-479c-9875-735e6303ba93"
      },
      "source": [
        "np.std(datos, 0) # Desviación típica de cada columna"
      ],
      "execution_count": null,
      "outputs": [
        {
          "output_type": "execute_result",
          "data": {
            "text/plain": [
              "array([0.58057213, 0.78352862, 0.87384108, 0.17682485])"
            ]
          },
          "metadata": {
            "tags": []
          },
          "execution_count": 24
        }
      ]
    },
    {
      "cell_type": "code",
      "metadata": {
        "jupyter": {
          "outputs_hidden": false
        },
        "id": "t78pfR-JcxDI",
        "colab": {
          "base_uri": "https://localhost:8080/",
          "height": 34
        },
        "outputId": "a006f4a1-2b08-4ab1-eb18-48e6db40a632"
      },
      "source": [
        "# varianza\n",
        "np.var(datos) "
      ],
      "execution_count": null,
      "outputs": [
        {
          "output_type": "execute_result",
          "data": {
            "text/plain": [
              "0.5439852329822132"
            ]
          },
          "metadata": {
            "tags": []
          },
          "execution_count": 25
        }
      ]
    },
    {
      "cell_type": "code",
      "metadata": {
        "jupyter": {
          "outputs_hidden": false
        },
        "id": "V48H2q3JcxDK",
        "colab": {
          "base_uri": "https://localhost:8080/",
          "height": 34
        },
        "outputId": "3df674f8-9bc2-437e-a7e0-ed037513bd16"
      },
      "source": [
        "np.var(datos, 0) # varianza de cada columna"
      ],
      "execution_count": null,
      "outputs": [
        {
          "output_type": "execute_result",
          "data": {
            "text/plain": [
              "array([0.337064  , 0.6139171 , 0.76359823, 0.03126703])"
            ]
          },
          "metadata": {
            "tags": []
          },
          "execution_count": 26
        }
      ]
    },
    {
      "cell_type": "code",
      "metadata": {
        "jupyter": {
          "outputs_hidden": false
        },
        "id": "I3KJczTwcxDN",
        "colab": {
          "base_uri": "https://localhost:8080/",
          "height": 34
        },
        "outputId": "2d1e630e-73e3-4b91-ec39-aa7ee1e69437"
      },
      "source": [
        "# moda\n",
        "stats.mode(datos) # Calcula la moda de cada columna\n",
        "# el 2do array devuelve la frecuencia."
      ],
      "execution_count": null,
      "outputs": [
        {
          "output_type": "execute_result",
          "data": {
            "text/plain": [
              "ModeResult(mode=array([[-0.76959435, -1.37414587, -0.62681496, -0.63329028]]), count=array([[1, 1, 1, 1]]))"
            ]
          },
          "metadata": {
            "tags": []
          },
          "execution_count": 27
        }
      ]
    },
    {
      "cell_type": "code",
      "metadata": {
        "jupyter": {
          "outputs_hidden": false
        },
        "id": "KEvHETeIcxDP",
        "colab": {
          "base_uri": "https://localhost:8080/",
          "height": 34
        },
        "outputId": "c189c208-478f-4d20-d4d7-41192bd5e71a"
      },
      "source": [
        "datos2 = np.array([1, 2, 3, 6, 6, 1, 2, 4, 2, 2, 6, 6, 8, 10, 6])\n",
        "stats.mode(datos2) # aqui la moda es el 6 porque aparece 5 veces en el vector."
      ],
      "execution_count": null,
      "outputs": [
        {
          "output_type": "execute_result",
          "data": {
            "text/plain": [
              "ModeResult(mode=array([6]), count=array([5]))"
            ]
          },
          "metadata": {
            "tags": []
          },
          "execution_count": 28
        }
      ]
    },
    {
      "cell_type": "code",
      "metadata": {
        "jupyter": {
          "outputs_hidden": false
        },
        "id": "JfFZhAYUcxDS",
        "colab": {
          "base_uri": "https://localhost:8080/",
          "height": 101
        },
        "outputId": "4037a66f-e465-4bc5-a9b2-c2513c8692d4"
      },
      "source": [
        "# correlacion\n",
        "np.corrcoef(datos) # Crea matriz de correlación."
      ],
      "execution_count": null,
      "outputs": [
        {
          "output_type": "execute_result",
          "data": {
            "text/plain": [
              "array([[ 1.        ,  0.82333743,  0.15257202,  0.78798675, -0.02292073],\n",
              "       [ 0.82333743,  1.        , -0.13709662,  0.86873632,  0.41234875],\n",
              "       [ 0.15257202, -0.13709662,  1.        , -0.47691376,  0.21216856],\n",
              "       [ 0.78798675,  0.86873632, -0.47691376,  1.        , -0.03445705],\n",
              "       [-0.02292073,  0.41234875,  0.21216856, -0.03445705,  1.        ]])"
            ]
          },
          "metadata": {
            "tags": []
          },
          "execution_count": 29
        }
      ]
    },
    {
      "cell_type": "code",
      "metadata": {
        "jupyter": {
          "outputs_hidden": false
        },
        "id": "Nkso_cy7cxDT",
        "colab": {
          "base_uri": "https://localhost:8080/",
          "height": 50
        },
        "outputId": "74bbbb69-c98d-44fb-b7da-0fbbb99122f5"
      },
      "source": [
        "# calculando la correlación entre dos vectores.\n",
        "np.corrcoef(datos[0], datos[1])"
      ],
      "execution_count": null,
      "outputs": [
        {
          "output_type": "execute_result",
          "data": {
            "text/plain": [
              "array([[1.        , 0.82333743],\n",
              "       [0.82333743, 1.        ]])"
            ]
          },
          "metadata": {
            "tags": []
          },
          "execution_count": 30
        }
      ]
    },
    {
      "cell_type": "code",
      "metadata": {
        "jupyter": {
          "outputs_hidden": false
        },
        "id": "AeEfFEAVcxDW",
        "colab": {
          "base_uri": "https://localhost:8080/",
          "height": 101
        },
        "outputId": "f32fce2a-36bb-41d4-bbcb-26dcb7921ca9"
      },
      "source": [
        "# covarianza\n",
        "np.cov(datos) # calcula matriz de covarianza"
      ],
      "execution_count": null,
      "outputs": [
        {
          "output_type": "execute_result",
          "data": {
            "text/plain": [
              "array([[ 0.43350958,  0.18087281,  0.06082243,  0.11328658, -0.01782409],\n",
              "       [ 0.18087281,  0.11132485, -0.0276957 ,  0.06329134,  0.16249513],\n",
              "       [ 0.06082243, -0.0276957 ,  0.36658864, -0.06305065,  0.15172255],\n",
              "       [ 0.11328658,  0.06329134, -0.06305065,  0.04767826, -0.00888624],\n",
              "       [-0.01782409,  0.16249513,  0.15172255, -0.00888624,  1.39495179]])"
            ]
          },
          "metadata": {
            "tags": []
          },
          "execution_count": 31
        }
      ]
    },
    {
      "cell_type": "code",
      "metadata": {
        "jupyter": {
          "outputs_hidden": false
        },
        "id": "JHDo9j86cxDY",
        "colab": {
          "base_uri": "https://localhost:8080/",
          "height": 50
        },
        "outputId": "9194cb74-c859-4ef2-89df-50c2a427c2b6"
      },
      "source": [
        "# covarianza de dos vectores\n",
        "np.cov(datos[0], datos[1])"
      ],
      "execution_count": null,
      "outputs": [
        {
          "output_type": "execute_result",
          "data": {
            "text/plain": [
              "array([[0.43350958, 0.18087281],\n",
              "       [0.18087281, 0.11132485]])"
            ]
          },
          "metadata": {
            "tags": []
          },
          "execution_count": 32
        }
      ]
    },
    {
      "cell_type": "code",
      "metadata": {
        "jupyter": {
          "outputs_hidden": false
        },
        "id": "YkJyleLFcxDa",
        "colab": {
          "base_uri": "https://localhost:8080/",
          "height": 195
        },
        "outputId": "3bf18291-30b9-49c3-feef-2da890b73480"
      },
      "source": [
        "# usando pandas\n",
        "dataframe = pd.DataFrame(datos, index=['a', 'b', 'c', 'd', 'e'], \n",
        "                        columns=['col1', 'col2', 'col3', 'col4'])\n",
        "dataframe"
      ],
      "execution_count": null,
      "outputs": [
        {
          "output_type": "execute_result",
          "data": {
            "text/html": [
              "<div>\n",
              "<style scoped>\n",
              "    .dataframe tbody tr th:only-of-type {\n",
              "        vertical-align: middle;\n",
              "    }\n",
              "\n",
              "    .dataframe tbody tr th {\n",
              "        vertical-align: top;\n",
              "    }\n",
              "\n",
              "    .dataframe thead th {\n",
              "        text-align: right;\n",
              "    }\n",
              "</style>\n",
              "<table border=\"1\" class=\"dataframe\">\n",
              "  <thead>\n",
              "    <tr style=\"text-align: right;\">\n",
              "      <th></th>\n",
              "      <th>col1</th>\n",
              "      <th>col2</th>\n",
              "      <th>col3</th>\n",
              "      <th>col4</th>\n",
              "    </tr>\n",
              "  </thead>\n",
              "  <tbody>\n",
              "    <tr>\n",
              "      <th>a</th>\n",
              "      <td>0.460380</td>\n",
              "      <td>-1.089425</td>\n",
              "      <td>-0.626815</td>\n",
              "      <td>-0.633290</td>\n",
              "    </tr>\n",
              "    <tr>\n",
              "      <th>b</th>\n",
              "      <td>-0.107403</td>\n",
              "      <td>-0.881381</td>\n",
              "      <td>-0.344666</td>\n",
              "      <td>-0.283202</td>\n",
              "    </tr>\n",
              "    <tr>\n",
              "      <th>c</th>\n",
              "      <td>0.940512</td>\n",
              "      <td>0.866938</td>\n",
              "      <td>1.209479</td>\n",
              "      <td>-0.168941</td>\n",
              "    </tr>\n",
              "    <tr>\n",
              "      <th>d</th>\n",
              "      <td>-0.127902</td>\n",
              "      <td>-0.580999</td>\n",
              "      <td>-0.461884</td>\n",
              "      <td>-0.181483</td>\n",
              "    </tr>\n",
              "    <tr>\n",
              "      <th>e</th>\n",
              "      <td>-0.769594</td>\n",
              "      <td>-1.374146</td>\n",
              "      <td>1.376969</td>\n",
              "      <td>-0.180405</td>\n",
              "    </tr>\n",
              "  </tbody>\n",
              "</table>\n",
              "</div>"
            ],
            "text/plain": [
              "       col1      col2      col3      col4\n",
              "a  0.460380 -1.089425 -0.626815 -0.633290\n",
              "b -0.107403 -0.881381 -0.344666 -0.283202\n",
              "c  0.940512  0.866938  1.209479 -0.168941\n",
              "d -0.127902 -0.580999 -0.461884 -0.181483\n",
              "e -0.769594 -1.374146  1.376969 -0.180405"
            ]
          },
          "metadata": {
            "tags": []
          },
          "execution_count": 33
        }
      ]
    },
    {
      "cell_type": "code",
      "metadata": {
        "jupyter": {
          "outputs_hidden": false
        },
        "id": "Y2JWfIZRcxDc",
        "colab": {
          "base_uri": "https://localhost:8080/",
          "height": 284
        },
        "outputId": "a55a9737-b9d6-4d01-8548-6bfefd7c99eb"
      },
      "source": [
        "# resumen estadistadistico con pandas\n",
        "dataframe.describe()"
      ],
      "execution_count": null,
      "outputs": [
        {
          "output_type": "execute_result",
          "data": {
            "text/html": [
              "<div>\n",
              "<style scoped>\n",
              "    .dataframe tbody tr th:only-of-type {\n",
              "        vertical-align: middle;\n",
              "    }\n",
              "\n",
              "    .dataframe tbody tr th {\n",
              "        vertical-align: top;\n",
              "    }\n",
              "\n",
              "    .dataframe thead th {\n",
              "        text-align: right;\n",
              "    }\n",
              "</style>\n",
              "<table border=\"1\" class=\"dataframe\">\n",
              "  <thead>\n",
              "    <tr style=\"text-align: right;\">\n",
              "      <th></th>\n",
              "      <th>col1</th>\n",
              "      <th>col2</th>\n",
              "      <th>col3</th>\n",
              "      <th>col4</th>\n",
              "    </tr>\n",
              "  </thead>\n",
              "  <tbody>\n",
              "    <tr>\n",
              "      <th>count</th>\n",
              "      <td>5.000000</td>\n",
              "      <td>5.000000</td>\n",
              "      <td>5.000000</td>\n",
              "      <td>5.000000</td>\n",
              "    </tr>\n",
              "    <tr>\n",
              "      <th>mean</th>\n",
              "      <td>0.079199</td>\n",
              "      <td>-0.611803</td>\n",
              "      <td>0.230616</td>\n",
              "      <td>-0.289464</td>\n",
              "    </tr>\n",
              "    <tr>\n",
              "      <th>std</th>\n",
              "      <td>0.649099</td>\n",
              "      <td>0.876012</td>\n",
              "      <td>0.976984</td>\n",
              "      <td>0.197696</td>\n",
              "    </tr>\n",
              "    <tr>\n",
              "      <th>min</th>\n",
              "      <td>-0.769594</td>\n",
              "      <td>-1.374146</td>\n",
              "      <td>-0.626815</td>\n",
              "      <td>-0.633290</td>\n",
              "    </tr>\n",
              "    <tr>\n",
              "      <th>25%</th>\n",
              "      <td>-0.127902</td>\n",
              "      <td>-1.089425</td>\n",
              "      <td>-0.461884</td>\n",
              "      <td>-0.283202</td>\n",
              "    </tr>\n",
              "    <tr>\n",
              "      <th>50%</th>\n",
              "      <td>-0.107403</td>\n",
              "      <td>-0.881381</td>\n",
              "      <td>-0.344666</td>\n",
              "      <td>-0.181483</td>\n",
              "    </tr>\n",
              "    <tr>\n",
              "      <th>75%</th>\n",
              "      <td>0.460380</td>\n",
              "      <td>-0.580999</td>\n",
              "      <td>1.209479</td>\n",
              "      <td>-0.180405</td>\n",
              "    </tr>\n",
              "    <tr>\n",
              "      <th>max</th>\n",
              "      <td>0.940512</td>\n",
              "      <td>0.866938</td>\n",
              "      <td>1.376969</td>\n",
              "      <td>-0.168941</td>\n",
              "    </tr>\n",
              "  </tbody>\n",
              "</table>\n",
              "</div>"
            ],
            "text/plain": [
              "           col1      col2      col3      col4\n",
              "count  5.000000  5.000000  5.000000  5.000000\n",
              "mean   0.079199 -0.611803  0.230616 -0.289464\n",
              "std    0.649099  0.876012  0.976984  0.197696\n",
              "min   -0.769594 -1.374146 -0.626815 -0.633290\n",
              "25%   -0.127902 -1.089425 -0.461884 -0.283202\n",
              "50%   -0.107403 -0.881381 -0.344666 -0.181483\n",
              "75%    0.460380 -0.580999  1.209479 -0.180405\n",
              "max    0.940512  0.866938  1.376969 -0.168941"
            ]
          },
          "metadata": {
            "tags": []
          },
          "execution_count": 34
        }
      ]
    },
    {
      "cell_type": "code",
      "metadata": {
        "jupyter": {
          "outputs_hidden": false
        },
        "id": "9wJ1rsnccxDe",
        "colab": {
          "base_uri": "https://localhost:8080/",
          "height": 101
        },
        "outputId": "d653dd97-6608-4c30-e8bf-0147ee0b1023"
      },
      "source": [
        "# sumando las columnas\n",
        "dataframe.sum()"
      ],
      "execution_count": null,
      "outputs": [
        {
          "output_type": "execute_result",
          "data": {
            "text/plain": [
              "col1    0.395993\n",
              "col2   -3.059013\n",
              "col3    1.153082\n",
              "col4   -1.447322\n",
              "dtype: float64"
            ]
          },
          "metadata": {
            "tags": []
          },
          "execution_count": 35
        }
      ]
    },
    {
      "cell_type": "code",
      "metadata": {
        "jupyter": {
          "outputs_hidden": false
        },
        "id": "yI5OUstdcxDg",
        "colab": {
          "base_uri": "https://localhost:8080/",
          "height": 118
        },
        "outputId": "6140ca5c-8046-4cd5-bbab-af42f950f9a0"
      },
      "source": [
        "# sumando filas\n",
        "dataframe.sum(axis=1)"
      ],
      "execution_count": null,
      "outputs": [
        {
          "output_type": "execute_result",
          "data": {
            "text/plain": [
              "a   -1.889150\n",
              "b   -1.616652\n",
              "c    2.847987\n",
              "d   -1.352268\n",
              "e   -0.947177\n",
              "dtype: float64"
            ]
          },
          "metadata": {
            "tags": []
          },
          "execution_count": 36
        }
      ]
    },
    {
      "cell_type": "code",
      "metadata": {
        "jupyter": {
          "outputs_hidden": false
        },
        "id": "K3w7rpNycxDh",
        "colab": {
          "base_uri": "https://localhost:8080/",
          "height": 195
        },
        "outputId": "18ccfc37-9e25-42a5-9f86-5b8d3d98bfe1"
      },
      "source": [
        "dataframe.cumsum() # acumulados"
      ],
      "execution_count": null,
      "outputs": [
        {
          "output_type": "execute_result",
          "data": {
            "text/html": [
              "<div>\n",
              "<style scoped>\n",
              "    .dataframe tbody tr th:only-of-type {\n",
              "        vertical-align: middle;\n",
              "    }\n",
              "\n",
              "    .dataframe tbody tr th {\n",
              "        vertical-align: top;\n",
              "    }\n",
              "\n",
              "    .dataframe thead th {\n",
              "        text-align: right;\n",
              "    }\n",
              "</style>\n",
              "<table border=\"1\" class=\"dataframe\">\n",
              "  <thead>\n",
              "    <tr style=\"text-align: right;\">\n",
              "      <th></th>\n",
              "      <th>col1</th>\n",
              "      <th>col2</th>\n",
              "      <th>col3</th>\n",
              "      <th>col4</th>\n",
              "    </tr>\n",
              "  </thead>\n",
              "  <tbody>\n",
              "    <tr>\n",
              "      <th>a</th>\n",
              "      <td>0.460380</td>\n",
              "      <td>-1.089425</td>\n",
              "      <td>-0.626815</td>\n",
              "      <td>-0.633290</td>\n",
              "    </tr>\n",
              "    <tr>\n",
              "      <th>b</th>\n",
              "      <td>0.352977</td>\n",
              "      <td>-1.970806</td>\n",
              "      <td>-0.971481</td>\n",
              "      <td>-0.916492</td>\n",
              "    </tr>\n",
              "    <tr>\n",
              "      <th>c</th>\n",
              "      <td>1.293489</td>\n",
              "      <td>-1.103868</td>\n",
              "      <td>0.237998</td>\n",
              "      <td>-1.085434</td>\n",
              "    </tr>\n",
              "    <tr>\n",
              "      <th>d</th>\n",
              "      <td>1.165587</td>\n",
              "      <td>-1.684867</td>\n",
              "      <td>-0.223887</td>\n",
              "      <td>-1.266917</td>\n",
              "    </tr>\n",
              "    <tr>\n",
              "      <th>e</th>\n",
              "      <td>0.395993</td>\n",
              "      <td>-3.059013</td>\n",
              "      <td>1.153082</td>\n",
              "      <td>-1.447322</td>\n",
              "    </tr>\n",
              "  </tbody>\n",
              "</table>\n",
              "</div>"
            ],
            "text/plain": [
              "       col1      col2      col3      col4\n",
              "a  0.460380 -1.089425 -0.626815 -0.633290\n",
              "b  0.352977 -1.970806 -0.971481 -0.916492\n",
              "c  1.293489 -1.103868  0.237998 -1.085434\n",
              "d  1.165587 -1.684867 -0.223887 -1.266917\n",
              "e  0.395993 -3.059013  1.153082 -1.447322"
            ]
          },
          "metadata": {
            "tags": []
          },
          "execution_count": 37
        }
      ]
    },
    {
      "cell_type": "code",
      "metadata": {
        "jupyter": {
          "outputs_hidden": false
        },
        "id": "TniGqX5icxDj",
        "colab": {
          "base_uri": "https://localhost:8080/",
          "height": 101
        },
        "outputId": "c0d21db1-10a2-47e6-b578-5779b52baa83"
      },
      "source": [
        "# media aritmetica de cada columna con pandas\n",
        "dataframe.mean()"
      ],
      "execution_count": null,
      "outputs": [
        {
          "output_type": "execute_result",
          "data": {
            "text/plain": [
              "col1    0.079199\n",
              "col2   -0.611803\n",
              "col3    0.230616\n",
              "col4   -0.289464\n",
              "dtype: float64"
            ]
          },
          "metadata": {
            "tags": []
          },
          "execution_count": 38
        }
      ]
    },
    {
      "cell_type": "code",
      "metadata": {
        "jupyter": {
          "outputs_hidden": false
        },
        "id": "AZz0C-3OcxDl",
        "colab": {
          "base_uri": "https://localhost:8080/",
          "height": 118
        },
        "outputId": "f785148d-2098-45e7-e9ac-542580033701"
      },
      "source": [
        "# media aritmetica de cada fila con pandas\n",
        "dataframe.mean(axis=1)"
      ],
      "execution_count": null,
      "outputs": [
        {
          "output_type": "execute_result",
          "data": {
            "text/plain": [
              "a   -0.472288\n",
              "b   -0.404163\n",
              "c    0.711997\n",
              "d   -0.338067\n",
              "e   -0.236794\n",
              "dtype: float64"
            ]
          },
          "metadata": {
            "tags": []
          },
          "execution_count": 39
        }
      ]
    },
    {
      "cell_type": "markdown",
      "metadata": {
        "id": "1vapj3P9aoWj"
      },
      "source": [
        "Ahora que ya sabes cómo calcular los conceptos básicos de estadística descriptiva, prueba a calcular:\n",
        "\n",
        "  1. Media aritmética, mediana, moda, desviación típica (lista), varianza y desviación típica sobre cada conjunto de datos.\n",
        "  2. ¿Tienen valores atípicos? Sustituye los valores atípicos de cada conjunto por la media del elemento posterior y el anterior. Para visualizar si tiene valores atípicos, ordena la lista de datos y comprueba los primeros y los úlitmos. En caso de que los tenga, selecciona a ojo un par de límites a partir de los cuales cambies el valor por la media\n",
        "  3. Coge cada conjunto de datos y calcula la correlación entre ellos."
      ]
    },
    {
      "cell_type": "code",
      "metadata": {
        "id": "NhuVdT8MarXR"
      },
      "source": [
        "# Dataset 1: Edades jugadores\n",
        "edades = [32, 34, 27, 26, 28, 28, 27, 27, 33, 27, 20, 28, 25, 26, 28, 28, 34, 31, 33, 32, 30, 30, 28, 25, 26, 25, 24, 27, 27, 32, 34, 33, 32, 33, 32, 33, 29, 30, 30, 27, 25, 24, 27, 26, 34, 34, 31, 32, 32, 30, 30, 30, 28, 32, 28, 23, 25, 24, 26, 25, 29, 24, 27, 27, 31, 29, 31, 32, 27, 30, 29, 29, 28, 19, 20, 22, 26, 23, 24, 23, 24, 25, 25, 24, 24, 24, 28, 29, 28, 26, 28, 29, 27, 26, 27, 26, 37, 31, 31, 32, 29, 31, 30, 28, 31, 27, 27, 28, 19, 20, 22, 24, 25, 23, 23, 22, 25, 24, 23, 23, 23, 25, 27, 26, 26, 27, 27, 26, 36, 32, 32, 32, 31, 31, 32, 30, 30, 30, 33, 28, 30, 33, 32, 30, 29, 32, 28, 30, 29, 28, 28, 29, 30, 31, 28, 29, 30, 23, 24, 23, 20, 21, 25, 23, 25, 23, 24, 24, 22, 24, 23, 21, 25, 24, 23, 23, 23, 23, 23, 25, 25, 25, 25, 26, 27, 26, 25, 26, 25, 27, 25, 27, 27, 28, 28, 27, 30, 26, 26, 27]\n",
        "\n",
        "# Dataset 2: Alturas jugadores\n",
        "alturas = [170, 187, 175, 188, 175, 181, 187, 193, 172, 175, 178, 187, 188, 191, 192, 168, 187, 173, 184, 250, 184, 189, 176, 177, 191, 188, 170, 181, 199, 194, 193, 193, 188, 173, 185, 187, 183, 180, 187, 175, 189, 173, 185, 183, 179, 183, 185, 189, 169, 191, 186, 170, 174, 185, 163, 183, 183, 187, 165, 182, 195, 176, 176, 181, 184, 178, 180, 190, 172, 182, 186, 185, 175, 189, 196, 180, 191, 195, 191, 191, 184, 188, 178, 185, 186, 179, 184, 192, 187, 190, 189, 190, 180, 181, 173, 181, 195, 165, 280, 180, 185, 174, 186, 180, 176, 176, 180, 175, 180, 188, 178, 186, 182, 188, 182, 171, 176, 189, 185, 179, 175, 173, 190, 183, 181, 196, 189, 175, 188, 170, 188, 192, 183, 186, 179, 180, 192, 183, 193, 175, 186, 190, 180, 192, 178, 178, 180, 183, 183, 176, 172, 177, 181, 190, 179, 172, 190, 189, 188, 177, 180, 182, 186, 184, 190, 195, 181, 189, 179, 183, 187, 186, 188, 192, 171, 180, 171, 187, 182, 178, 187, 185, 180, 187, 197, 180, 175, 189, 190, 187, 185, 178, 181, 189, 100, 174, 185, 174, 179, 180]\n",
        "\n",
        "# Dataset 3: Pesos jugadores\n",
        "pesos = [72, 83, 190, 87, 74, 70, 85, 92, 66, 71, 73, 89, 89, 91, 82, 72, 85, 70, 82, 86, 80, 76, 73, 75, 84, 86, 69, 76, 96, 85, 92, 92, 82, 67, 40, 78, 76, 71, 80, 69, 85, 64, 84, 78, 67, 82, 81, 86, 61, 94, 81, 68, 70, 80, 59, 75, 75, 80, 60, 75, 90, 73, 79, 76, 78, 72, 69, 85, 68, 74, 75, 85, 73, 89, 90, 74, 81, 97, 76, 82, 77, 78, 64, 80, 81, 69, 81, 86, 85, 94, 83, 84, 78, 75, 73, 65, 95, 68, 89, 75, 82, 75, 81, 80, 67, 74, 75, 74, 76, 83, 67, 85, 74, 80, 76, 73, 78, 79, 83, 75, 75, 75, 83, 74, 71, 81, 78, 70, 81, 61, 93, 80, 73, 85, 78, 76, 86, 79, 80, 69, 80, 85, 75, 90, 76, 73, 80, 80, 70, 65, 70, 72, 76, 79, 67, 63, 83, 70, 78, 68, 69, 85, 78, 76, 80, 97, 81, 77, 68, 73, 91, 70, 70, 80, 69, 75, 62, 79, 76, 74, 77, 77, 71, 86, 86, 66, 72, 84, 82, 83, 77, 72, 71, 160, 73, 70, 83, 70, 70, 67]\n",
        "\n",
        "# Dataset 4: Edades jugadores\n",
        "mentality_aggression = [48, 63, 51, 34, 54, 76, 43, 82, 62, 63, 62, 87, 78, 27, 38, 90, 91, 65, 90, 87, 81, 85, 73, 48, 78, 38, 38, 46, 23, 76, 25, 29, 31, 57, 84, 88, 60, 51, 43, 75, 79, 69, 89, 60, 87, 76, 65, 84, 59, 71, 81, 77, 56, 32, 34, 61, 80, 86, 89, 82, 40, 86, 58, 73, 67, 70, 73, 82, 59, 58, 61, 77, 72, 82, 30, 72, 77, 83, 73, 76, 69, 85, 80, 89, 80, 70, 43, 34, 35, 71, 86, 40, 69, 56, 84, 73, 84, 56, 50, 86, 65, 81, 79, 82, 63, 79, 60, 90, 43, 41, 54, 18, 73, 84, 86, 75, 75, 80, 43, 36, 63, 73, 28, 29, 78, 22, 78, 67, 92, 71, 31, 34, 60, 88, 83, 44, 91, 38, 58, 74, 65, 88, 93, 81, 84, 54, 70, 81, 78, 55, 55, 68, 56, 58, 48, 47, 92, 68, 85, 72, 73, 62, 67, 58, 67, 76, 81, 39, 67, 43, 76, 73, 79, 76, 68, 63, 63, 87, 45, 76, 48, 42, 61, 68, 33, 73, 57, 56, 76, 78, 52, 88, 43, 30, 80, 46, 25, 72, 56, 79]"
      ],
      "execution_count": null,
      "outputs": []
    },
    {
      "cell_type": "code",
      "metadata": {
        "id": "mAhI9XgNewVe"
      },
      "source": [
        "from scipy import stats\n",
        "import numpy as np\n",
        "\n",
        "def get_stats(datos):\n",
        "  print(\"------------------------------\")\n",
        "  print(f\"Media aritmética: {np.mean(datos)}\")\n",
        "  print(f\"Mediana: {np.median(datos)}\")\n",
        "  print(f\"Moda: {stats.mode(datos)[0][0]} ({stats.mode(datos)[1][0]} apariciones)\")\n",
        "  print(f\"Desviación respecto a la media: {[np.abs(a - np.mean(datos)) for a in datos]}\")\n",
        "  print(f\"Desviación típica: {np.std(datos)}\")\n",
        "  print(f\"Varianza: {np.var(datos)}\")\n",
        "  print(\"------------------------------\")"
      ],
      "execution_count": null,
      "outputs": []
    },
    {
      "cell_type": "code",
      "metadata": {
        "id": "tHwqoNL1gwuk",
        "colab": {
          "base_uri": "https://localhost:8080/",
          "height": 574
        },
        "outputId": "f8f1bded-7de2-4e1c-e110-4f118b8c5759"
      },
      "source": [
        "get_stats(edades)\n",
        "get_stats(alturas)\n",
        "get_stats(pesos)\n",
        "get_stats(mentality_aggression)"
      ],
      "execution_count": null,
      "outputs": [
        {
          "output_type": "stream",
          "text": [
            "------------------------------\n",
            "Media aritmética: 27.32\n",
            "Mediana: 27.0\n",
            "Moda: 27 (24 apariciones)\n",
            "Desviación respecto a la media: [4.68, 6.68, 0.3200000000000003, 1.3200000000000003, 0.6799999999999997, 0.6799999999999997, 0.3200000000000003, 0.3200000000000003, 5.68, 0.3200000000000003, 7.32, 0.6799999999999997, 2.3200000000000003, 1.3200000000000003, 0.6799999999999997, 0.6799999999999997, 6.68, 3.6799999999999997, 5.68, 4.68, 2.6799999999999997, 2.6799999999999997, 0.6799999999999997, 2.3200000000000003, 1.3200000000000003, 2.3200000000000003, 3.3200000000000003, 0.3200000000000003, 0.3200000000000003, 4.68, 6.68, 5.68, 4.68, 5.68, 4.68, 5.68, 1.6799999999999997, 2.6799999999999997, 2.6799999999999997, 0.3200000000000003, 2.3200000000000003, 3.3200000000000003, 0.3200000000000003, 1.3200000000000003, 6.68, 6.68, 3.6799999999999997, 4.68, 4.68, 2.6799999999999997, 2.6799999999999997, 2.6799999999999997, 0.6799999999999997, 4.68, 0.6799999999999997, 4.32, 2.3200000000000003, 3.3200000000000003, 1.3200000000000003, 2.3200000000000003, 1.6799999999999997, 3.3200000000000003, 0.3200000000000003, 0.3200000000000003, 3.6799999999999997, 1.6799999999999997, 3.6799999999999997, 4.68, 0.3200000000000003, 2.6799999999999997, 1.6799999999999997, 1.6799999999999997, 0.6799999999999997, 8.32, 7.32, 5.32, 1.3200000000000003, 4.32, 3.3200000000000003, 4.32, 3.3200000000000003, 2.3200000000000003, 2.3200000000000003, 3.3200000000000003, 3.3200000000000003, 3.3200000000000003, 0.6799999999999997, 1.6799999999999997, 0.6799999999999997, 1.3200000000000003, 0.6799999999999997, 1.6799999999999997, 0.3200000000000003, 1.3200000000000003, 0.3200000000000003, 1.3200000000000003, 9.68, 3.6799999999999997, 3.6799999999999997, 4.68, 1.6799999999999997, 3.6799999999999997, 2.6799999999999997, 0.6799999999999997, 3.6799999999999997, 0.3200000000000003, 0.3200000000000003, 0.6799999999999997, 8.32, 7.32, 5.32, 3.3200000000000003, 2.3200000000000003, 4.32, 4.32, 5.32, 2.3200000000000003, 3.3200000000000003, 4.32, 4.32, 4.32, 2.3200000000000003, 0.3200000000000003, 1.3200000000000003, 1.3200000000000003, 0.3200000000000003, 0.3200000000000003, 1.3200000000000003, 8.68, 4.68, 4.68, 4.68, 3.6799999999999997, 3.6799999999999997, 4.68, 2.6799999999999997, 2.6799999999999997, 2.6799999999999997, 5.68, 0.6799999999999997, 2.6799999999999997, 5.68, 4.68, 2.6799999999999997, 1.6799999999999997, 4.68, 0.6799999999999997, 2.6799999999999997, 1.6799999999999997, 0.6799999999999997, 0.6799999999999997, 1.6799999999999997, 2.6799999999999997, 3.6799999999999997, 0.6799999999999997, 1.6799999999999997, 2.6799999999999997, 4.32, 3.3200000000000003, 4.32, 7.32, 6.32, 2.3200000000000003, 4.32, 2.3200000000000003, 4.32, 3.3200000000000003, 3.3200000000000003, 5.32, 3.3200000000000003, 4.32, 6.32, 2.3200000000000003, 3.3200000000000003, 4.32, 4.32, 4.32, 4.32, 4.32, 2.3200000000000003, 2.3200000000000003, 2.3200000000000003, 2.3200000000000003, 1.3200000000000003, 0.3200000000000003, 1.3200000000000003, 2.3200000000000003, 1.3200000000000003, 2.3200000000000003, 0.3200000000000003, 2.3200000000000003, 0.3200000000000003, 0.3200000000000003, 0.6799999999999997, 0.6799999999999997, 0.3200000000000003, 2.6799999999999997, 1.3200000000000003, 1.3200000000000003, 0.3200000000000003]\n",
            "Desviación típica: 3.5309488809667013\n",
            "Varianza: 12.4676\n",
            "------------------------------\n",
            "------------------------------\n",
            "Media aritmética: 183.195\n",
            "Mediana: 183.0\n",
            "Moda: 180 (16 apariciones)\n",
            "Desviación respecto a la media: [13.194999999999993, 3.805000000000007, 8.194999999999993, 4.805000000000007, 8.194999999999993, 2.194999999999993, 3.805000000000007, 9.805000000000007, 11.194999999999993, 8.194999999999993, 5.194999999999993, 3.805000000000007, 4.805000000000007, 7.805000000000007, 8.805000000000007, 15.194999999999993, 3.805000000000007, 10.194999999999993, 0.8050000000000068, 66.805, 0.8050000000000068, 5.805000000000007, 7.194999999999993, 6.194999999999993, 7.805000000000007, 4.805000000000007, 13.194999999999993, 2.194999999999993, 15.805000000000007, 10.805000000000007, 9.805000000000007, 9.805000000000007, 4.805000000000007, 10.194999999999993, 1.8050000000000068, 3.805000000000007, 0.19499999999999318, 3.194999999999993, 3.805000000000007, 8.194999999999993, 5.805000000000007, 10.194999999999993, 1.8050000000000068, 0.19499999999999318, 4.194999999999993, 0.19499999999999318, 1.8050000000000068, 5.805000000000007, 14.194999999999993, 7.805000000000007, 2.805000000000007, 13.194999999999993, 9.194999999999993, 1.8050000000000068, 20.194999999999993, 0.19499999999999318, 0.19499999999999318, 3.805000000000007, 18.194999999999993, 1.1949999999999932, 11.805000000000007, 7.194999999999993, 7.194999999999993, 2.194999999999993, 0.8050000000000068, 5.194999999999993, 3.194999999999993, 6.805000000000007, 11.194999999999993, 1.1949999999999932, 2.805000000000007, 1.8050000000000068, 8.194999999999993, 5.805000000000007, 12.805000000000007, 3.194999999999993, 7.805000000000007, 11.805000000000007, 7.805000000000007, 7.805000000000007, 0.8050000000000068, 4.805000000000007, 5.194999999999993, 1.8050000000000068, 2.805000000000007, 4.194999999999993, 0.8050000000000068, 8.805000000000007, 3.805000000000007, 6.805000000000007, 5.805000000000007, 6.805000000000007, 3.194999999999993, 2.194999999999993, 10.194999999999993, 2.194999999999993, 11.805000000000007, 18.194999999999993, 96.805, 3.194999999999993, 1.8050000000000068, 9.194999999999993, 2.805000000000007, 3.194999999999993, 7.194999999999993, 7.194999999999993, 3.194999999999993, 8.194999999999993, 3.194999999999993, 4.805000000000007, 5.194999999999993, 2.805000000000007, 1.1949999999999932, 4.805000000000007, 1.1949999999999932, 12.194999999999993, 7.194999999999993, 5.805000000000007, 1.8050000000000068, 4.194999999999993, 8.194999999999993, 10.194999999999993, 6.805000000000007, 0.19499999999999318, 2.194999999999993, 12.805000000000007, 5.805000000000007, 8.194999999999993, 4.805000000000007, 13.194999999999993, 4.805000000000007, 8.805000000000007, 0.19499999999999318, 2.805000000000007, 4.194999999999993, 3.194999999999993, 8.805000000000007, 0.19499999999999318, 9.805000000000007, 8.194999999999993, 2.805000000000007, 6.805000000000007, 3.194999999999993, 8.805000000000007, 5.194999999999993, 5.194999999999993, 3.194999999999993, 0.19499999999999318, 0.19499999999999318, 7.194999999999993, 11.194999999999993, 6.194999999999993, 2.194999999999993, 6.805000000000007, 4.194999999999993, 11.194999999999993, 6.805000000000007, 5.805000000000007, 4.805000000000007, 6.194999999999993, 3.194999999999993, 1.1949999999999932, 2.805000000000007, 0.8050000000000068, 6.805000000000007, 11.805000000000007, 2.194999999999993, 5.805000000000007, 4.194999999999993, 0.19499999999999318, 3.805000000000007, 2.805000000000007, 4.805000000000007, 8.805000000000007, 12.194999999999993, 3.194999999999993, 12.194999999999993, 3.805000000000007, 1.1949999999999932, 5.194999999999993, 3.805000000000007, 1.8050000000000068, 3.194999999999993, 3.805000000000007, 13.805000000000007, 3.194999999999993, 8.194999999999993, 5.805000000000007, 6.805000000000007, 3.805000000000007, 1.8050000000000068, 5.194999999999993, 2.194999999999993, 5.805000000000007, 83.195, 9.194999999999993, 1.8050000000000068, 9.194999999999993, 4.194999999999993, 3.194999999999993]\n",
            "Desviación típica: 12.341271206808479\n",
            "Varianza: 152.306975\n",
            "------------------------------\n",
            "------------------------------\n",
            "Media aritmética: 78.195\n",
            "Mediana: 77.0\n",
            "Moda: 75 (14 apariciones)\n",
            "Desviación respecto a la media: [6.194999999999993, 4.805000000000007, 111.805, 8.805000000000007, 4.194999999999993, 8.194999999999993, 6.805000000000007, 13.805000000000007, 12.194999999999993, 7.194999999999993, 5.194999999999993, 10.805000000000007, 10.805000000000007, 12.805000000000007, 3.805000000000007, 6.194999999999993, 6.805000000000007, 8.194999999999993, 3.805000000000007, 7.805000000000007, 1.8050000000000068, 2.194999999999993, 5.194999999999993, 3.194999999999993, 5.805000000000007, 7.805000000000007, 9.194999999999993, 2.194999999999993, 17.805000000000007, 6.805000000000007, 13.805000000000007, 13.805000000000007, 3.805000000000007, 11.194999999999993, 38.19499999999999, 0.19499999999999318, 2.194999999999993, 7.194999999999993, 1.8050000000000068, 9.194999999999993, 6.805000000000007, 14.194999999999993, 5.805000000000007, 0.19499999999999318, 11.194999999999993, 3.805000000000007, 2.805000000000007, 7.805000000000007, 17.194999999999993, 15.805000000000007, 2.805000000000007, 10.194999999999993, 8.194999999999993, 1.8050000000000068, 19.194999999999993, 3.194999999999993, 3.194999999999993, 1.8050000000000068, 18.194999999999993, 3.194999999999993, 11.805000000000007, 5.194999999999993, 0.8050000000000068, 2.194999999999993, 0.19499999999999318, 6.194999999999993, 9.194999999999993, 6.805000000000007, 10.194999999999993, 4.194999999999993, 3.194999999999993, 6.805000000000007, 5.194999999999993, 10.805000000000007, 11.805000000000007, 4.194999999999993, 2.805000000000007, 18.805000000000007, 2.194999999999993, 3.805000000000007, 1.1949999999999932, 0.19499999999999318, 14.194999999999993, 1.8050000000000068, 2.805000000000007, 9.194999999999993, 2.805000000000007, 7.805000000000007, 6.805000000000007, 15.805000000000007, 4.805000000000007, 5.805000000000007, 0.19499999999999318, 3.194999999999993, 5.194999999999993, 13.194999999999993, 16.805000000000007, 10.194999999999993, 10.805000000000007, 3.194999999999993, 3.805000000000007, 3.194999999999993, 2.805000000000007, 1.8050000000000068, 11.194999999999993, 4.194999999999993, 3.194999999999993, 4.194999999999993, 2.194999999999993, 4.805000000000007, 11.194999999999993, 6.805000000000007, 4.194999999999993, 1.8050000000000068, 2.194999999999993, 5.194999999999993, 0.19499999999999318, 0.8050000000000068, 4.805000000000007, 3.194999999999993, 3.194999999999993, 3.194999999999993, 4.805000000000007, 4.194999999999993, 7.194999999999993, 2.805000000000007, 0.19499999999999318, 8.194999999999993, 2.805000000000007, 17.194999999999993, 14.805000000000007, 1.8050000000000068, 5.194999999999993, 6.805000000000007, 0.19499999999999318, 2.194999999999993, 7.805000000000007, 0.8050000000000068, 1.8050000000000068, 9.194999999999993, 1.8050000000000068, 6.805000000000007, 3.194999999999993, 11.805000000000007, 2.194999999999993, 5.194999999999993, 1.8050000000000068, 1.8050000000000068, 8.194999999999993, 13.194999999999993, 8.194999999999993, 6.194999999999993, 2.194999999999993, 0.8050000000000068, 11.194999999999993, 15.194999999999993, 4.805000000000007, 8.194999999999993, 0.19499999999999318, 10.194999999999993, 9.194999999999993, 6.805000000000007, 0.19499999999999318, 2.194999999999993, 1.8050000000000068, 18.805000000000007, 2.805000000000007, 1.1949999999999932, 10.194999999999993, 5.194999999999993, 12.805000000000007, 8.194999999999993, 8.194999999999993, 1.8050000000000068, 9.194999999999993, 3.194999999999993, 16.194999999999993, 0.8050000000000068, 2.194999999999993, 4.194999999999993, 1.1949999999999932, 1.1949999999999932, 7.194999999999993, 7.805000000000007, 7.805000000000007, 12.194999999999993, 6.194999999999993, 5.805000000000007, 3.805000000000007, 4.805000000000007, 1.1949999999999932, 6.194999999999993, 7.194999999999993, 81.805, 5.194999999999993, 8.194999999999993, 4.805000000000007, 8.194999999999993, 8.194999999999993, 11.194999999999993]\n",
            "Desviación típica: 12.77211709153968\n",
            "Varianza: 163.12697500000002\n",
            "------------------------------\n",
            "------------------------------\n",
            "Media aritmética: 64.775\n",
            "Mediana: 69.0\n",
            "Moda: 73 (10 apariciones)\n",
            "Desviación respecto a la media: [16.775000000000006, 1.7750000000000057, 13.775000000000006, 30.775000000000006, 10.775000000000006, 11.224999999999994, 21.775000000000006, 17.224999999999994, 2.7750000000000057, 1.7750000000000057, 2.7750000000000057, 22.224999999999994, 13.224999999999994, 37.775000000000006, 26.775000000000006, 25.224999999999994, 26.224999999999994, 0.22499999999999432, 25.224999999999994, 22.224999999999994, 16.224999999999994, 20.224999999999994, 8.224999999999994, 16.775000000000006, 13.224999999999994, 26.775000000000006, 26.775000000000006, 18.775000000000006, 41.775000000000006, 11.224999999999994, 39.775000000000006, 35.775000000000006, 33.775000000000006, 7.775000000000006, 19.224999999999994, 23.224999999999994, 4.775000000000006, 13.775000000000006, 21.775000000000006, 10.224999999999994, 14.224999999999994, 4.224999999999994, 24.224999999999994, 4.775000000000006, 22.224999999999994, 11.224999999999994, 0.22499999999999432, 19.224999999999994, 5.775000000000006, 6.224999999999994, 16.224999999999994, 12.224999999999994, 8.775000000000006, 32.775000000000006, 30.775000000000006, 3.7750000000000057, 15.224999999999994, 21.224999999999994, 24.224999999999994, 17.224999999999994, 24.775000000000006, 21.224999999999994, 6.775000000000006, 8.224999999999994, 2.2249999999999943, 5.224999999999994, 8.224999999999994, 17.224999999999994, 5.775000000000006, 6.775000000000006, 3.7750000000000057, 12.224999999999994, 7.224999999999994, 17.224999999999994, 34.775000000000006, 7.224999999999994, 12.224999999999994, 18.224999999999994, 8.224999999999994, 11.224999999999994, 4.224999999999994, 20.224999999999994, 15.224999999999994, 24.224999999999994, 15.224999999999994, 5.224999999999994, 21.775000000000006, 30.775000000000006, 29.775000000000006, 6.224999999999994, 21.224999999999994, 24.775000000000006, 4.224999999999994, 8.775000000000006, 19.224999999999994, 8.224999999999994, 19.224999999999994, 8.775000000000006, 14.775000000000006, 21.224999999999994, 0.22499999999999432, 16.224999999999994, 14.224999999999994, 17.224999999999994, 1.7750000000000057, 14.224999999999994, 4.775000000000006, 25.224999999999994, 21.775000000000006, 23.775000000000006, 10.775000000000006, 46.775000000000006, 8.224999999999994, 19.224999999999994, 21.224999999999994, 10.224999999999994, 10.224999999999994, 15.224999999999994, 21.775000000000006, 28.775000000000006, 1.7750000000000057, 8.224999999999994, 36.775000000000006, 35.775000000000006, 13.224999999999994, 42.775000000000006, 13.224999999999994, 2.2249999999999943, 27.224999999999994, 6.224999999999994, 33.775000000000006, 30.775000000000006, 4.775000000000006, 23.224999999999994, 18.224999999999994, 20.775000000000006, 26.224999999999994, 26.775000000000006, 6.775000000000006, 9.224999999999994, 0.22499999999999432, 23.224999999999994, 28.224999999999994, 16.224999999999994, 19.224999999999994, 10.775000000000006, 5.224999999999994, 16.224999999999994, 13.224999999999994, 9.775000000000006, 9.775000000000006, 3.2249999999999943, 8.775000000000006, 6.775000000000006, 16.775000000000006, 17.775000000000006, 27.224999999999994, 3.2249999999999943, 20.224999999999994, 7.224999999999994, 8.224999999999994, 2.7750000000000057, 2.2249999999999943, 6.775000000000006, 2.2249999999999943, 11.224999999999994, 16.224999999999994, 25.775000000000006, 2.2249999999999943, 21.775000000000006, 11.224999999999994, 8.224999999999994, 14.224999999999994, 11.224999999999994, 3.2249999999999943, 1.7750000000000057, 1.7750000000000057, 22.224999999999994, 19.775000000000006, 11.224999999999994, 16.775000000000006, 22.775000000000006, 3.7750000000000057, 3.2249999999999943, 31.775000000000006, 8.224999999999994, 7.775000000000006, 8.775000000000006, 11.224999999999994, 13.224999999999994, 12.775000000000006, 23.224999999999994, 21.775000000000006, 34.775000000000006, 15.224999999999994, 18.775000000000006, 39.775000000000006, 7.224999999999994, 8.775000000000006, 14.224999999999994]\n",
            "Desviación típica: 18.48335399758388\n",
            "Varianza: 341.634375\n",
            "------------------------------\n"
          ],
          "name": "stdout"
        }
      ]
    },
    {
      "cell_type": "code",
      "metadata": {
        "id": "Jg9zi5buhJQw"
      },
      "source": [
        "def outliers(datos):\n",
        "  datos2 = datos.copy()\n",
        "  print(datos[:5])\n",
        "  print(datos[-5:])\n",
        "\n",
        "def remove_outliers(datos, umbrales):\n",
        "  datos = [dato if umbrales[0] < dato < umbrales[1] else np.mean(datos) for dato in datos]\n",
        "  return datos"
      ],
      "execution_count": null,
      "outputs": []
    },
    {
      "cell_type": "code",
      "metadata": {
        "id": "mTq3FCiJh6nm",
        "colab": {
          "base_uri": "https://localhost:8080/",
          "height": 330
        },
        "outputId": "826a017d-7d46-47e8-86bb-625db64952b9"
      },
      "source": [
        "outliers(edades)\n",
        "edades = remove_outliers(edades, umbrales = [16, 40])\n",
        "outliers(alturas)\n",
        "alturas = remove_outliers(alturas, umbrales = [160, 210])\n",
        "outliers(pesos)\n",
        "pesos = remove_outliers(pesos, umbrales = [50, 100])\n",
        "outliers(mentality_aggression)\n",
        "mentality_aggression = remove_outliers(fuerza, umbrales = [30, 100])\n"
      ],
      "execution_count": null,
      "outputs": [
        {
          "output_type": "stream",
          "text": [
            "[32, 34, 27, 26, 28]\n",
            "[27, 30, 26, 26, 27]\n",
            "[170, 187, 175, 188, 175]\n",
            "[174, 185, 174, 179, 180]\n",
            "[72, 83, 190, 87, 74]\n",
            "[70, 83, 70, 70, 67]\n",
            "[48, 63, 51, 34, 54]\n",
            "[46, 25, 72, 56, 79]\n"
          ],
          "name": "stdout"
        },
        {
          "output_type": "error",
          "ename": "NameError",
          "evalue": "ignored",
          "traceback": [
            "\u001b[0;31m---------------------------------------------------------------------------\u001b[0m",
            "\u001b[0;31mNameError\u001b[0m                                 Traceback (most recent call last)",
            "\u001b[0;32m<ipython-input-7-14e31510faa9>\u001b[0m in \u001b[0;36m<module>\u001b[0;34m()\u001b[0m\n\u001b[1;32m      6\u001b[0m \u001b[0mpesos\u001b[0m \u001b[0;34m=\u001b[0m \u001b[0mremove_outliers\u001b[0m\u001b[0;34m(\u001b[0m\u001b[0mpesos\u001b[0m\u001b[0;34m,\u001b[0m \u001b[0mumbrales\u001b[0m \u001b[0;34m=\u001b[0m \u001b[0;34m[\u001b[0m\u001b[0;36m50\u001b[0m\u001b[0;34m,\u001b[0m \u001b[0;36m100\u001b[0m\u001b[0;34m]\u001b[0m\u001b[0;34m)\u001b[0m\u001b[0;34m\u001b[0m\u001b[0;34m\u001b[0m\u001b[0m\n\u001b[1;32m      7\u001b[0m \u001b[0moutliers\u001b[0m\u001b[0;34m(\u001b[0m\u001b[0mmentality_aggression\u001b[0m\u001b[0;34m)\u001b[0m\u001b[0;34m\u001b[0m\u001b[0;34m\u001b[0m\u001b[0m\n\u001b[0;32m----> 8\u001b[0;31m \u001b[0mmentality_aggression\u001b[0m \u001b[0;34m=\u001b[0m \u001b[0mremove_outliers\u001b[0m\u001b[0;34m(\u001b[0m\u001b[0mfuerza\u001b[0m\u001b[0;34m,\u001b[0m \u001b[0mumbrales\u001b[0m \u001b[0;34m=\u001b[0m \u001b[0;34m[\u001b[0m\u001b[0;36m30\u001b[0m\u001b[0;34m,\u001b[0m \u001b[0;36m100\u001b[0m\u001b[0;34m]\u001b[0m\u001b[0;34m)\u001b[0m\u001b[0;34m\u001b[0m\u001b[0;34m\u001b[0m\u001b[0m\n\u001b[0m",
            "\u001b[0;31mNameError\u001b[0m: name 'fuerza' is not defined"
          ]
        }
      ]
    },
    {
      "cell_type": "code",
      "metadata": {
        "id": "4_txbXt5itj7",
        "colab": {
          "base_uri": "https://localhost:8080/",
          "height": 252
        },
        "outputId": "484863c0-6b68-4195-824d-d85b31373dab"
      },
      "source": [
        "print(np.corrcoef(edades, alturas))\n",
        "print(np.corrcoef(edades, pesos))\n",
        "print(np.corrcoef(edades, mentality_aggression))\n",
        "\n",
        "print(\"-----\")\n",
        "\n",
        "print(np.corrcoef(alturas, pesos))\n",
        "print(np.corrcoef(alturas, mentality_aggression))\n",
        "\n",
        "print(\"-----\")\n",
        "\n",
        "print(np.corrcoef(pesos, mentality_aggression))\n",
        "\n",
        "\n"
      ],
      "execution_count": null,
      "outputs": [
        {
          "output_type": "stream",
          "text": [
            "[[1.         0.02956486]\n",
            " [0.02956486 1.        ]]\n",
            "[[1.         0.09793313]\n",
            " [0.09793313 1.        ]]\n",
            "[[1.         0.04860276]\n",
            " [0.04860276 1.        ]]\n",
            "-----\n",
            "[[1.         0.79861103]\n",
            " [0.79861103 1.        ]]\n",
            "[[ 1.        -0.0936641]\n",
            " [-0.0936641  1.       ]]\n",
            "-----\n",
            "[[ 1.         -0.07874698]\n",
            " [-0.07874698  1.        ]]\n"
          ],
          "name": "stdout"
        }
      ]
    },
    {
      "cell_type": "markdown",
      "metadata": {
        "id": "qi4AyYKkcxDp"
      },
      "source": [
        "## Histogramas y Distribuciones\n",
        "\n",
        "Muchas veces los indicadores de la *[estadística descriptiva](https://es.wikipedia.org/wiki/Estad%C3%ADstica_descriptiva)* no nos proporcionan una imagen clara de nuestros *[datos](https://es.wikipedia.org/wiki/Dato)*.  Por esta razón, siempre es útil complementarlos con gráficos de las distribuciones de los *[datos](https://es.wikipedia.org/wiki/Dato)*, que describan con qué frecuencia aparece cada valor. La representación más común de una distribución es un [histograma](https://es.wikipedia.org/wiki/Histograma), que es un gráfico que muestra la frecuencia o probabilidad de cada valor. El [histograma](https://es.wikipedia.org/wiki/Histograma) muestra las frecuencias como un gráfico de barras que indica cuan frecuente un determinado valor ocurre en el [conjunto de datos](https://es.wikipedia.org/wiki/Conjunto_de_datos). El eje horizontal representa los valores del [conjunto de datos](https://es.wikipedia.org/wiki/Conjunto_de_datos) y el eje vertical representa la frecuencia con que esos valores ocurren.\n",
        "\n",
        "Las distribuciones se pueden clasificar en dos grandes grupos:\n",
        "\n",
        "1. Las **[distribuciones continuas](https://es.wikipedia.org/wiki/Distribuci%C3%B3n_de_probabilidad_continua)**, que son aquellas que presentan un número infinito de posibles soluciones. Dentro de este grupo vamos a encontrar a las distribuciones: \n",
        "    * [normal](https://es.wikipedia.org/wiki/Distribuci%C3%B3n_normal),\n",
        "    * [gamma](https://es.wikipedia.org/wiki/Distribuci%C3%B3n_gamma),\n",
        "    * [chi cuadrado](https://es.wikipedia.org/wiki/Distribuci%C3%B3n_%CF%87%C2%B2), \n",
        "    * [t de Student](https://es.wikipedia.org/wiki/Distribuci%C3%B3n_t_de_Student), \n",
        "    * [pareto](https://es.wikipedia.org/wiki/Distribuci%C3%B3n_de_Pareto),\n",
        "    * entre otras\n",
        "\n",
        "2. Las **distribuciones discretas**, que son aquellas en las que la variable puede pude tomar un número determinado de valores. Los principales exponentes de este grupo son las distribuciones: \n",
        "    * [poisson](https://es.wikipedia.org/wiki/Distribuci%C3%B3n_de_Poisson),\n",
        "    * [binomial](https://es.wikipedia.org/wiki/Distribuci%C3%B3n_binomial),\n",
        "    * [hipergeométrica](https://es.wikipedia.org/wiki/Distribuci%C3%B3n_hipergeom%C3%A9trica),\n",
        "    * [bernoulli](https://es.wikipedia.org/wiki/Distribuci%C3%B3n_de_Bernoulli)\n",
        "    * entre otras\n",
        "\n",
        "Veamos algunos ejemplos graficados con la ayuda de [Python](http://python.org/)."
      ]
    },
    {
      "cell_type": "markdown",
      "metadata": {
        "id": "kt0bNRwgcxDq"
      },
      "source": [
        "### Distribución normal\n",
        "\n",
        "La [distribución normal](https://es.wikipedia.org/wiki/Distribuci%C3%B3n_normal) es una de las principales distribuciones, ya que es la que con más frecuencia aparece aproximada en los fenómenos reales. Tiene una forma acampanada y es simétrica respecto de un determinado parámetro estadístico. Con la ayuda de [Python](http://python.org/) la podemos graficar de la siguiente manera:"
      ]
    },
    {
      "cell_type": "code",
      "metadata": {
        "jupyter": {
          "outputs_hidden": false
        },
        "id": "OACRzWaccxDq"
      },
      "source": [
        "# Graficos embebidos.\n",
        "%matplotlib inline\n",
        "import matplotlib.pyplot as plt # importando matplotlib\n",
        "import seaborn as sns # importando seaborn\n",
        "\n",
        "# parametros esteticos de seaborn\n",
        "sns.set_palette(\"deep\", desat=.6)\n",
        "sns.set_context(rc={\"figure.figsize\": (8, 4)})\n",
        "sns.set()"
      ],
      "execution_count": null,
      "outputs": []
    },
    {
      "cell_type": "code",
      "metadata": {
        "jupyter": {
          "outputs_hidden": false
        },
        "id": "jlZLDczmcxDs"
      },
      "source": [
        "import matplotlib.pyplot as plt # importando matplotlib\n",
        "import seaborn as sns # importando seaborn\n",
        "\n",
        "# parametros esteticos de seaborn\n",
        "sns.set_palette(\"deep\", desat=.6)\n",
        "sns.set_context(rc={\"figure.figsize\": (8, 4)})\n",
        "sns.set()\n"
      ],
      "execution_count": null,
      "outputs": []
    },
    {
      "cell_type": "code",
      "metadata": {
        "jupyter": {
          "outputs_hidden": false
        },
        "id": "iTO9FzSDcxDu"
      },
      "source": [
        "mu, sigma = 0, 0.1 # media y desvio estandar\n",
        "s = np.random.normal(mu, sigma, 1000) #creando muestra de datos"
      ],
      "execution_count": null,
      "outputs": []
    },
    {
      "cell_type": "code",
      "metadata": {
        "jupyter": {
          "outputs_hidden": false
        },
        "id": "nI54xHgTcxDx",
        "colab": {
          "base_uri": "https://localhost:8080/",
          "height": 268
        },
        "outputId": "c3e79da1-81c0-46f2-ba57-4f67c112e6cc"
      },
      "source": [
        "# histograma de distribución normal.\n",
        "cuenta, cajas, ignorar = plt.hist(s, 30, density=True)\n",
        "normal = plt.plot(cajas, 1/(sigma * np.sqrt(2 * np.pi)) *\n",
        "         np.exp( - (cajas - mu)**2 / (2 * sigma**2) ),\n",
        "         linewidth=2, color='r')"
      ],
      "execution_count": null,
      "outputs": [
        {
          "output_type": "display_data",
          "data": {
            "image/png": "[encoded data removed]",
            "text/plain": [
              "<Figure size 432x288 with 1 Axes>"
            ]
          },
          "metadata": {
            "tags": []
          }
        }
      ]
    },
    {
      "cell_type": "markdown",
      "metadata": {
        "id": "wX0SgLIJcxDz"
      },
      "source": [
        "### Distribuciones simetricas y asimetricas\n",
        "\n",
        "Una distribución es simétrica cuando moda, mediana y media coinciden aproximadamente en sus valores. Si una distribución es simétrica, existe el mismo número de valores a la derecha que a la izquierda de la media, por tanto, el mismo número de desviaciones con signo positivo que con signo negativo.\n",
        "\n",
        "Una distribución tiene [asimetria](https://es.wikipedia.org/wiki/Asimetr%C3%ADa_estad%C3%ADstica) positiva (o a la derecha) si la \"cola\" a la derecha de la media es más larga que la de la izquierda, es decir, si hay valores más separados de la media a la derecha. De la misma forma una distribución tiene [asimetria](https://es.wikipedia.org/wiki/Asimetr%C3%ADa_estad%C3%ADstica) negativa (o a la izquierda) si la \"cola\" a la izquierda de la media es más larga que la de la derecha, es decir, si hay valores más separados de la media a la izquierda.\n",
        "\n",
        "Las distribuciones asimétricas suelen ser problemáticas, ya que la mayoría de los métodos estadísticos suelen estar desarrollados para distribuciones del tipo [normal](https://es.wikipedia.org/wiki/Distribuci%C3%B3n_normal). Para salvar estos problemas se suelen realizar transformaciones a los datos para hacer a estas distribuciones más simétricas y acercarse a la [distribución normal](https://es.wikipedia.org/wiki/Distribuci%C3%B3n_normal).  "
      ]
    },
    {
      "cell_type": "code",
      "metadata": {
        "jupyter": {
          "outputs_hidden": false
        },
        "id": "zf9KQVP0cxD0",
        "colab": {
          "base_uri": "https://localhost:8080/",
          "height": 268
        },
        "outputId": "71058f1d-38f1-42b3-caa0-ef05181b2a59"
      },
      "source": [
        "# Dibujando la distribucion Gamma\n",
        "x = stats.gamma(3).rvs(5000)\n",
        "gamma = plt.hist(x, 70, histtype=\"stepfilled\", alpha=.7)"
      ],
      "execution_count": null,
      "outputs": [
        {
          "output_type": "display_data",
          "data": {
            "image/png": "[encoded data removed]",
            "text/plain": [
              "<Figure size 432x288 with 1 Axes>"
            ]
          },
          "metadata": {
            "tags": []
          }
        }
      ]
    },
    {
      "cell_type": "markdown",
      "metadata": {
        "id": "k0QA_knccxD-"
      },
      "source": [
        "En este ejemplo podemos ver que la [distribución gamma](https://es.wikipedia.org/wiki/Distribuci%C3%B3n_gamma) que dibujamos tiene una [asimetria](https://es.wikipedia.org/wiki/Asimetr%C3%ADa_estad%C3%ADstica) positiva. "
      ]
    },
    {
      "cell_type": "code",
      "metadata": {
        "jupyter": {
          "outputs_hidden": false
        },
        "id": "olDXy50PcxD_",
        "colab": {
          "base_uri": "https://localhost:8080/",
          "height": 34
        },
        "outputId": "505c4540-b39e-4008-c70a-2d6881990b05"
      },
      "source": [
        "# Calculando la simetria con scipy\n",
        "stats.skew(x)"
      ],
      "execution_count": null,
      "outputs": [
        {
          "output_type": "execute_result",
          "data": {
            "text/plain": [
              "1.1136619422489245"
            ]
          },
          "metadata": {
            "tags": []
          },
          "execution_count": 14
        }
      ]
    },
    {
      "cell_type": "markdown",
      "metadata": {
        "id": "naz1k7UFcxEB"
      },
      "source": [
        "## Cuartiles y diagramas de cajas\n",
        "\n",
        "Los **[cuartiles](https://es.wikipedia.org/wiki/Cuartil)** son los tres valores de la variable estadística que dividen a un [conjunto de datos](https://es.wikipedia.org/wiki/Conjunto_de_datos) ordenados en cuatro partes iguales. Q1, Q2 y Q3 determinan los valores correspondientes al 25%, al 50% y al 75% de los datos. Q2 coincide con la <a href=\"https://es.wikipedia.org/wiki/Mediana_(estad%C3%ADstica)\">mediana</a>.\n",
        "\n",
        "Los [diagramas de cajas](https://es.wikipedia.org/wiki/Diagrama_de_caja) son una presentación visual que describe varias características importantes al mismo tiempo, tales como la dispersión y simetría. Para su realización se representan los tres cuartiles y los valores mínimo y máximo de los datos, sobre un rectángulo, alineado horizontal o verticalmente. Estos gráficos nos proporcionan abundante información y son sumamente útiles para encontrar [valores atípicos](https://es.wikipedia.org/wiki/Valor_at%C3%ADpico) y comparar dos [conjunto de datos](https://es.wikipedia.org/wiki/Conjunto_de_datos). \n",
        "\n",
        "\n",
        "<img alt=\"diagrama de cajas\" title=\"Diagrama de cajas\" src=\"http://relopezbriega.github.io/images/diagCajas.png\" width=\"600\">"
      ]
    },
    {
      "cell_type": "code",
      "metadata": {
        "jupyter": {
          "outputs_hidden": false
        },
        "id": "psGCiqrKcxEB",
        "colab": {
          "base_uri": "https://localhost:8080/",
          "height": 377
        },
        "outputId": "f6b45d35-ced7-44b4-e024-fe6fba8cf5f0"
      },
      "source": [
        "# Ejemplo de grafico de cajas en python\n",
        "\n",
        "datos_1 = np.random.normal(125, 80, 200)\n",
        "datos_2 = np.random.normal(80, 30, 200)\n",
        "datos_3 = np.random.normal(90, 20, 200)\n",
        "datos_4 = np.random.normal(70, 25, 200)\n",
        "\n",
        "datos_graf = [datos_1, datos_2, datos_3, datos_4]\n",
        "\n",
        "# Creando el objeto figura\n",
        "fig = plt.figure(1, figsize=(9, 6))\n",
        "\n",
        "# Creando el subgrafico\n",
        "ax = fig.add_subplot(111)\n",
        "\n",
        "# creando el grafico de cajas\n",
        "bp = ax.boxplot(datos_graf)\n",
        "\n",
        "# visualizar mas facile los atípicos\n",
        "for flier in bp['fliers']:\n",
        "    flier.set(marker='o', markerfacecolor='red', alpha=1)\n",
        "# los puntos aislados son valores atípicos"
      ],
      "execution_count": null,
      "outputs": [
        {
          "output_type": "display_data",
          "data": {
            "image/png": "[encoded data removed]",
            "text/plain": [
              "<Figure size 648x432 with 1 Axes>"
            ]
          },
          "metadata": {
            "tags": []
          }
        }
      ]
    },
    {
      "cell_type": "markdown",
      "metadata": {
        "id": "dRlTwymbnF-H"
      },
      "source": [
        "Crea un diagrama de cajas por cada conjunto de datos de futbolistas, vistos anteriormente (en otro ejercicio):"
      ]
    },
    {
      "cell_type": "code",
      "metadata": {
        "id": "jfPFuTCw146q",
        "colab": {
          "base_uri": "https://localhost:8080/",
          "height": 377
        },
        "outputId": "925b5ec3-f01a-46dc-d925-12f2a6d46656"
      },
      "source": [
        "datos_graf = [edades, alturas, pesos, mentality_aggression]\n",
        "\n",
        "# Creando el objeto figura\n",
        "fig = plt.figure(1, figsize=(9, 6))\n",
        "\n",
        "# Creando el subgrafico\n",
        "ax = fig.add_subplot(111)\n",
        "\n",
        "# creando el grafico de cajas\n",
        "bp = ax.boxplot(datos_graf)\n",
        "\n",
        "# visualizar mas facile los atípicos\n",
        "for flier in bp['fliers']:\n",
        "    flier.set(marker='o', markerfacecolor='red', alpha=1)\n",
        "# los puntos aislados son valores atípicos"
      ],
      "execution_count": null,
      "outputs": [
        {
          "output_type": "display_data",
          "data": {
            "image/png": "[encoded data removed]",
            "text/plain": [
              "<Figure size 648x432 with 1 Axes>"
            ]
          },
          "metadata": {
            "tags": []
          }
        }
      ]
    },
    {
      "cell_type": "code",
      "metadata": {
        "id": "NfIImc6TneIg"
      },
      "source": [
        ""
      ],
      "execution_count": null,
      "outputs": []
    }
  ]
}