{
 "cells": [
  {
   "cell_type": "markdown",
   "metadata": {},
   "source": [
    "![imagen](../../imagenes/ejercicios.png)"
   ]
  },
  {
   "cell_type": "code",
   "execution_count": 2,
   "metadata": {},
   "outputs": [],
   "source": [
    "import numpy as np"
   ]
  },
  {
   "cell_type": "markdown",
   "metadata": {},
   "source": [
    "## Ejercicio 1\n",
    "\n",
    "1. Crea un array de una dimensión que vaya del 1 al 10 (incluidos) y llámalo ``array_1``\n",
    "2. Crea un array de una dimensión, con 2001 valores equidistantes y que vaya desde -10 a 10 y llámalo ``array_2``\n",
    "3. Convierte ``array_1`` en una matriz bidimensional de tamaño 2x5\n",
    "4. Convierte ``array_2`` en una matriz tridimensional del tamaño que quieras, siempre y cuando todas las dimensiones tengan + de 1 valor y se mantengan todos los números que están en array_2\n"
   ]
  },
  {
   "cell_type": "code",
   "execution_count": 7,
   "metadata": {},
   "outputs": [
    {
     "data": {
      "text/plain": [
       "array([ 1,  2,  3,  4,  5,  6,  7,  8,  9, 10])"
      ]
     },
     "execution_count": 7,
     "metadata": {},
     "output_type": "execute_result"
    }
   ],
   "source": [
    "#1. \n",
    "array_1 = np.arange(1, 11)\n",
    "array_1"
   ]
  },
  {
   "cell_type": "code",
   "execution_count": 8,
   "metadata": {},
   "outputs": [
    {
     "data": {
      "text/plain": [
       "array([-10.  ,  -9.99,  -9.98, ...,   9.98,   9.99,  10.  ])"
      ]
     },
     "execution_count": 8,
     "metadata": {},
     "output_type": "execute_result"
    }
   ],
   "source": [
    "#2. \n",
    "array_2 = np.linspace(-10, 10, 2001)\n",
    "array_2"
   ]
  },
  {
   "cell_type": "code",
   "execution_count": 9,
   "metadata": {},
   "outputs": [
    {
     "data": {
      "text/plain": [
       "array([[ 1,  2,  3,  4,  5],\n",
       "       [ 6,  7,  8,  9, 10]])"
      ]
     },
     "execution_count": 9,
     "metadata": {},
     "output_type": "execute_result"
    }
   ],
   "source": [
    "# 3.\n",
    "array_1.reshape(2, 5)"
   ]
  },
  {
   "cell_type": "code",
   "execution_count": 15,
   "metadata": {},
   "outputs": [
    {
     "data": {
      "text/plain": [
       "array([[[-10.  ,  -9.99,  -9.98, ...,  -9.74,  -9.73,  -9.72],\n",
       "        [ -9.71,  -9.7 ,  -9.69, ...,  -9.45,  -9.44,  -9.43],\n",
       "        [ -9.42,  -9.41,  -9.4 , ...,  -9.16,  -9.15,  -9.14],\n",
       "        ...,\n",
       "        [ -4.2 ,  -4.19,  -4.18, ...,  -3.94,  -3.93,  -3.92],\n",
       "        [ -3.91,  -3.9 ,  -3.89, ...,  -3.65,  -3.64,  -3.63],\n",
       "        [ -3.62,  -3.61,  -3.6 , ...,  -3.36,  -3.35,  -3.34]],\n",
       "\n",
       "       [[ -3.33,  -3.32,  -3.31, ...,  -3.07,  -3.06,  -3.05],\n",
       "        [ -3.04,  -3.03,  -3.02, ...,  -2.78,  -2.77,  -2.76],\n",
       "        [ -2.75,  -2.74,  -2.73, ...,  -2.49,  -2.48,  -2.47],\n",
       "        ...,\n",
       "        [  2.47,   2.48,   2.49, ...,   2.73,   2.74,   2.75],\n",
       "        [  2.76,   2.77,   2.78, ...,   3.02,   3.03,   3.04],\n",
       "        [  3.05,   3.06,   3.07, ...,   3.31,   3.32,   3.33]],\n",
       "\n",
       "       [[  3.34,   3.35,   3.36, ...,   3.6 ,   3.61,   3.62],\n",
       "        [  3.63,   3.64,   3.65, ...,   3.89,   3.9 ,   3.91],\n",
       "        [  3.92,   3.93,   3.94, ...,   4.18,   4.19,   4.2 ],\n",
       "        ...,\n",
       "        [  9.14,   9.15,   9.16, ...,   9.4 ,   9.41,   9.42],\n",
       "        [  9.43,   9.44,   9.45, ...,   9.69,   9.7 ,   9.71],\n",
       "        [  9.72,   9.73,   9.74, ...,   9.98,   9.99,  10.  ]]])"
      ]
     },
     "execution_count": 15,
     "metadata": {},
     "output_type": "execute_result"
    }
   ],
   "source": [
    "# 4.\n",
    "array_2.reshape(3, 23, 29)"
   ]
  },
  {
   "cell_type": "markdown",
   "metadata": {},
   "source": [
    "## Ejercicio 2\n",
    "\n",
    "Para hacer el ejercicio anterior, te habrás dado cuenta que no todas las combinaciones son válidas. Evidentemente, sólo podrás hacer la combinatoria de aquellos números que sean factores del número total de elementos.\n",
    "\n",
    "1. Crea una función para obtener todos los factores enteros de un número entero. Deberá devolver una lista.\n",
    "  - Ejemplo: si le pasas el 10, te tendrá que devolver una lista con [10, 5, 2, 1]\n",
    "2. Crea otra función que reciba una array de numpy y una serie de números, y que devuelva "
   ]
  },
  {
   "cell_type": "code",
   "execution_count": 33,
   "metadata": {},
   "outputs": [
    {
     "data": {
      "text/plain": [
       "[10, 5, 2, 1]"
      ]
     },
     "execution_count": 33,
     "metadata": {},
     "output_type": "execute_result"
    }
   ],
   "source": [
    "def factores(x):\n",
    "    l = []\n",
    "    for i in range(x, 0, -1):\n",
    "        if x%i == 0:\n",
    "            l.append(i)\n",
    "    return l\n",
    "\n",
    "factores(10)\n"
   ]
  },
  {
   "cell_type": "code",
   "execution_count": 27,
   "metadata": {},
   "outputs": [
    {
     "data": {
      "text/plain": [
       "array([0, 0, 0], dtype=int32)"
      ]
     },
     "execution_count": 27,
     "metadata": {},
     "output_type": "execute_result"
    }
   ],
   "source": [
    "np.array([10, 20, 30])%5"
   ]
  },
  {
   "cell_type": "markdown",
   "metadata": {},
   "source": [
    "## Ejercicio 3\n",
    "\n",
    "¿Te acuerdas de qué era el mínimo común múltiplo (mcm)? ¿Y el máximo común divisor (mcd)?\n",
    "\n",
    "Básicamente, el mcm de 2 números naturales es el número más pequeño que se puede obtener que sea divisible entre ambos. Por ejemplo, el mcm de 4 y 3 es 12, que coincide con 4x3, pero el mcm de 4 y 8 no es 24, sino 8, ya que 4x4=8x2=16. Intenta pensar cómo se puede calcular basándote en los factores de cada número.\n",
    "\n",
    "En cuanto al máximo común divisor, es el mayor factor que tienen en común 2 números, es decir, el mayor número por el que pueden ser divididos los 2 números naturales que utilicemos. Por ejemplo, el mcd de 10 y 15 es 5, o el mcd de 65 y 78 es 13.\n",
    "\n",
    "Crea una función para obtener el mcm y otra para obtener el mcd de 2 números, que recibirán ambas funciones como parámetros. Para implementar la segunda, ayúdate de la función creada en el ejercicio anterior."
   ]
  },
  {
   "cell_type": "code",
   "execution_count": 43,
   "metadata": {},
   "outputs": [
    {
     "data": {
      "text/plain": [
       "60"
      ]
     },
     "execution_count": 43,
     "metadata": {},
     "output_type": "execute_result"
    }
   ],
   "source": [
    "def mcm(*args):\n",
    "    n_max = max(args)\n",
    "    for i in range(n_max, x*y+1):\n",
    "        if i%x == 0 and i%y == 0:\n",
    "            return i\n",
    "    return x*y\n",
    "\n",
    "mcm(30, 4)\n",
    "    "
   ]
  },
  {
   "cell_type": "code",
   "execution_count": 49,
   "metadata": {},
   "outputs": [
    {
     "name": "stdout",
     "output_type": "stream",
     "text": [
      "[1 4 2]\n"
     ]
    }
   ],
   "source": [
    "def f(*args):\n",
    "    print(np.array(args))\n",
    "\n",
    "f(1, 4, 2)"
   ]
  },
  {
   "cell_type": "code",
   "execution_count": 46,
   "metadata": {},
   "outputs": [
    {
     "data": {
      "text/plain": [
       "4"
      ]
     },
     "execution_count": 46,
     "metadata": {},
     "output_type": "execute_result"
    }
   ],
   "source": [
    "\n",
    "x = 4\n",
    "y = 8\n",
    "fx = factores(x)\n",
    "fy = factores(y)\n",
    "\n",
    "# max([num for num in fx if num in fy])\n",
    "max()\n",
    "\n",
    "# Sacamos los factores quitando el máximo y el mínimo:\n",
    "\n"
   ]
  },
  {
   "cell_type": "code",
   "execution_count": 31,
   "metadata": {},
   "outputs": [
    {
     "name": "stdin",
     "output_type": "stream",
     "text": [
      "Introduce el primer numero:  65\n",
      "Introduce el segundo numero:  78\n"
     ]
    },
    {
     "name": "stdout",
     "output_type": "stream",
     "text": [
      "El máximo común divisor de  65  y  78  es  13\n"
     ]
    }
   ],
   "source": [
    "# define la función\n",
    "def mcd(a, b):\n",
    "\tresto = 0\n",
    "\twhile(b > 0):\n",
    "\t\tresto = b\n",
    "\t\tb = a % b\n",
    "\t\ta = resto\n",
    "\treturn a\n",
    " \n",
    "# solicitamos los dos números\n",
    "num1 = int(input(\"Introduce el primer numero: \"))\n",
    "num2 = int(input(\"Introduce el segundo numero: \"))\n",
    " \n",
    "print(\"El máximo común divisor de \", num1,\" y \", num2,\" es \", mcd(num1, num2))"
   ]
  },
  {
   "cell_type": "markdown",
   "metadata": {},
   "source": [
    "## Ejercicio 5\n",
    "En un nuevo array, sustituye todos los impares de `my_array` por -1"
   ]
  },
  {
   "cell_type": "code",
   "execution_count": null,
   "metadata": {},
   "outputs": [],
   "source": []
  },
  {
   "cell_type": "markdown",
   "metadata": {},
   "source": [
    "## Ejercicio 6\n",
    "En un nuevo array, sustituye todos los impares de `my_array` por -1. Esta vez usa `where`"
   ]
  },
  {
   "cell_type": "code",
   "execution_count": null,
   "metadata": {},
   "outputs": [],
   "source": []
  },
  {
   "cell_type": "markdown",
   "metadata": {},
   "source": [
    "## Ejercicio 7\n",
    "Convierte `my_array` en un nuevo array de dos dimensiones mediante `reshape`."
   ]
  },
  {
   "cell_type": "code",
   "execution_count": null,
   "metadata": {},
   "outputs": [],
   "source": []
  },
  {
   "cell_type": "markdown",
   "metadata": {},
   "source": [
    "## Ejercicio 8\n",
    "Obtén la documentación acerca de la función `concatenate`\n",
    "\n",
    "Utiliza esa función para concatenar los siguientes arrays verticalmente\n",
    "\n",
    "```Python\n",
    "a = np.arange(10).reshape(2,-1)\n",
    "b = np.repeat(1, 10).reshape(2,-1)\n",
    "```"
   ]
  },
  {
   "cell_type": "code",
   "execution_count": null,
   "metadata": {},
   "outputs": [],
   "source": []
  },
  {
   "cell_type": "code",
   "execution_count": null,
   "metadata": {},
   "outputs": [],
   "source": []
  },
  {
   "cell_type": "code",
   "execution_count": null,
   "metadata": {},
   "outputs": [],
   "source": []
  },
  {
   "cell_type": "markdown",
   "metadata": {},
   "source": [
    "## Ejercicio 9\n",
    "Haz lo mismo con los siguientes arrays, pero esta vez horizontamente. Usa el mismo comando que en el ejercicio anterior:\n",
    "\n",
    "```Python\n",
    "a = np.arange(10).reshape(2,-1)\n",
    "b = np.repeat(1, 10).reshape(2,-1)\n",
    "```"
   ]
  },
  {
   "cell_type": "code",
   "execution_count": null,
   "metadata": {},
   "outputs": [],
   "source": []
  },
  {
   "cell_type": "code",
   "execution_count": null,
   "metadata": {},
   "outputs": [],
   "source": []
  },
  {
   "cell_type": "markdown",
   "metadata": {},
   "source": [
    "## Ejercicio 10\n",
    "Encuentra todos los elementos en común entre ambas listas. [Para ello usa el método `intersect1d`](https://numpy.org/doc/stable/reference/generated/numpy.intersect1d.html)\n",
    "\n",
    "```Python\n",
    "a = np.array([1,2,3,2,3,4,3,4,5,6])\n",
    "b = np.array([7,2,10,2,7,4,9,4,9,8])\n",
    "```"
   ]
  },
  {
   "cell_type": "code",
   "execution_count": null,
   "metadata": {},
   "outputs": [],
   "source": []
  }
 ],
 "metadata": {
  "kernelspec": {
   "display_name": "Python 3",
   "language": "python",
   "name": "python3"
  },
  "language_info": {
   "codemirror_mode": {
    "name": "ipython",
    "version": 3
   },
   "file_extension": ".py",
   "mimetype": "text/x-python",
   "name": "python",
   "nbconvert_exporter": "python",
   "pygments_lexer": "ipython3",
   "version": "3.8.3"
  }
 },
 "nbformat": 4,
 "nbformat_minor": 4
}
