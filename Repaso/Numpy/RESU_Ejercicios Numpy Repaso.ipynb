{
 "cells": [
  {
   "cell_type": "markdown",
   "metadata": {},
   "source": [
    "# Repaso NumPy\n",
    "\n",
    "![imagen](../../imagenes/ejercicios.png)"
   ]
  },
  {
   "cell_type": "code",
   "execution_count": 2,
   "metadata": {},
   "outputs": [],
   "source": [
    "import numpy as np"
   ]
  },
  {
   "cell_type": "markdown",
   "metadata": {},
   "source": [
    "## Ejercicio 1\n",
    "\n",
    "1. Crea un array de una dimensión que vaya del 1 al 10 (incluidos) y llámalo ``array_1``\n",
    "2. Crea un array de una dimensión, con 2001 valores equidistantes y que vaya desde -10 a 10 y llámalo ``array_2``\n",
    "3. Convierte ``array_1`` en una matriz bidimensional de tamaño 2x5\n",
    "4. Convierte ``array_2`` en una matriz tridimensional del tamaño que quieras, siempre y cuando todas las dimensiones tengan + de 1 valor y se mantengan todos los números que están en array_2\n"
   ]
  },
  {
   "cell_type": "code",
   "execution_count": 3,
   "metadata": {},
   "outputs": [
    {
     "data": {
      "text/plain": [
       "array([ 1,  2,  3,  4,  5,  6,  7,  8,  9, 10])"
      ]
     },
     "execution_count": 3,
     "metadata": {},
     "output_type": "execute_result"
    }
   ],
   "source": [
    "#1. \n",
    "array_1 = np.arange(1, 11)\n",
    "array_1"
   ]
  },
  {
   "cell_type": "code",
   "execution_count": 4,
   "metadata": {},
   "outputs": [
    {
     "data": {
      "text/plain": [
       "array([-10.  ,  -9.99,  -9.98, ...,   9.98,   9.99,  10.  ])"
      ]
     },
     "execution_count": 4,
     "metadata": {},
     "output_type": "execute_result"
    }
   ],
   "source": [
    "#2. \n",
    "array_2 = np.linspace(-10, 10, 2001)\n",
    "array_2"
   ]
  },
  {
   "cell_type": "code",
   "execution_count": 5,
   "metadata": {},
   "outputs": [
    {
     "data": {
      "text/plain": [
       "array([[ 1,  2,  3,  4,  5],\n",
       "       [ 6,  7,  8,  9, 10]])"
      ]
     },
     "execution_count": 5,
     "metadata": {},
     "output_type": "execute_result"
    }
   ],
   "source": [
    "# 3.\n",
    "array_1.reshape(2, 5)"
   ]
  },
  {
   "cell_type": "code",
   "execution_count": 6,
   "metadata": {},
   "outputs": [
    {
     "data": {
      "text/plain": [
       "array([[[-10.  ,  -9.99,  -9.98, ...,  -9.74,  -9.73,  -9.72],\n",
       "        [ -9.71,  -9.7 ,  -9.69, ...,  -9.45,  -9.44,  -9.43],\n",
       "        [ -9.42,  -9.41,  -9.4 , ...,  -9.16,  -9.15,  -9.14],\n",
       "        ...,\n",
       "        [ -4.2 ,  -4.19,  -4.18, ...,  -3.94,  -3.93,  -3.92],\n",
       "        [ -3.91,  -3.9 ,  -3.89, ...,  -3.65,  -3.64,  -3.63],\n",
       "        [ -3.62,  -3.61,  -3.6 , ...,  -3.36,  -3.35,  -3.34]],\n",
       "\n",
       "       [[ -3.33,  -3.32,  -3.31, ...,  -3.07,  -3.06,  -3.05],\n",
       "        [ -3.04,  -3.03,  -3.02, ...,  -2.78,  -2.77,  -2.76],\n",
       "        [ -2.75,  -2.74,  -2.73, ...,  -2.49,  -2.48,  -2.47],\n",
       "        ...,\n",
       "        [  2.47,   2.48,   2.49, ...,   2.73,   2.74,   2.75],\n",
       "        [  2.76,   2.77,   2.78, ...,   3.02,   3.03,   3.04],\n",
       "        [  3.05,   3.06,   3.07, ...,   3.31,   3.32,   3.33]],\n",
       "\n",
       "       [[  3.34,   3.35,   3.36, ...,   3.6 ,   3.61,   3.62],\n",
       "        [  3.63,   3.64,   3.65, ...,   3.89,   3.9 ,   3.91],\n",
       "        [  3.92,   3.93,   3.94, ...,   4.18,   4.19,   4.2 ],\n",
       "        ...,\n",
       "        [  9.14,   9.15,   9.16, ...,   9.4 ,   9.41,   9.42],\n",
       "        [  9.43,   9.44,   9.45, ...,   9.69,   9.7 ,   9.71],\n",
       "        [  9.72,   9.73,   9.74, ...,   9.98,   9.99,  10.  ]]])"
      ]
     },
     "execution_count": 6,
     "metadata": {},
     "output_type": "execute_result"
    }
   ],
   "source": [
    "# 4.\n",
    "array_2.reshape(3, 23, 29)"
   ]
  },
  {
   "cell_type": "code",
   "execution_count": 12,
   "metadata": {},
   "outputs": [
    {
     "data": {
      "text/plain": [
       "5"
      ]
     },
     "execution_count": 12,
     "metadata": {},
     "output_type": "execute_result"
    }
   ],
   "source": [
    "def f(x):\n",
    "    y = x + 2\n",
    "    return y\n",
    "\n",
    "f(3)"
   ]
  },
  {
   "cell_type": "markdown",
   "metadata": {},
   "source": [
    "## Ejercicio 2\n",
    "\n",
    "Para hacer el ejercicio anterior, te habrás dado cuenta que no todas las combinaciones son válidas. Evidentemente, sólo podrás hacer la combinatoria de aquellos números que sean factores del número total de elementos.\n",
    "\n",
    "1. Crea una función para obtener todos los factores enteros de un número entero. Deberá devolver una lista.\n",
    "  - Ejemplo: si le pasas el 10, te tendrá que devolver una lista con [10, 5, 2, 1]\n",
    "2. Crea otra función que reciba un array de NumPy (de las dimensiones que sean), y que imprima por pantalla las posibles combinaciones de 3 dimensiones.\n",
    "  - Ejemplo: si nos pasan una matriz de 2x13, tendríamos que imprimir estas combinaciones:\n",
    "    - 13 x 1 x 2\n",
    "    - 2 x 13 x 1\n",
    "    - 26 x 1 x 1\n",
    "    - 13 x 2 x 1\n",
    "    - 1 x 13 x 2\n",
    "    - 1 x 26 x 1\n",
    "    - 1 x 1 x 26\n",
    "    - 2 x 1 x 13\n",
    "    - 1 x 2 x 13\n",
    "3. Crea otra versión de la función anterior para que solo imprima aquellas combinaciones que tengan todas sus dimensiones mayores que 1, imitando lo que pedía el último apartado del ejercicio anterior, y úsala para resolverlo."
   ]
  },
  {
   "cell_type": "code",
   "execution_count": 24,
   "metadata": {},
   "outputs": [
    {
     "data": {
      "text/plain": [
       "[10, 5, 2, 1]"
      ]
     },
     "execution_count": 24,
     "metadata": {},
     "output_type": "execute_result"
    }
   ],
   "source": [
    "def factores(x):\n",
    "    l = []\n",
    "    for i in range(x, 0, -np.sign(x)):\n",
    "        if x%i == 0:\n",
    "            l.append(i)\n",
    "    return l\n",
    "\n",
    "factores(10)"
   ]
  },
  {
   "cell_type": "code",
   "execution_count": 22,
   "metadata": {},
   "outputs": [
    {
     "name": "stdout",
     "output_type": "stream",
     "text": [
      "Buscando posibles combinaciones...\n",
      "Posible combinación: 29 x 1 x 69\n",
      "Posible combinación: 23 x 1 x 87\n",
      "Posible combinación: 1 x 2001 x 1\n",
      "Posible combinación: 1 x 1 x 2001\n",
      "Posible combinación: 1 x 667 x 3\n",
      "Posible combinación: 3 x 23 x 29\n",
      "Posible combinación: 1 x 3 x 667\n",
      "Posible combinación: 667 x 3 x 1\n",
      "Posible combinación: 87 x 1 x 23\n",
      "Posible combinación: 1 x 23 x 87\n",
      "Posible combinación: 3 x 667 x 1\n",
      "Posible combinación: 29 x 69 x 1\n",
      "Posible combinación: 2001 x 1 x 1\n",
      "Posible combinación: 23 x 3 x 29\n",
      "Posible combinación: 87 x 23 x 1\n",
      "Posible combinación: 667 x 1 x 3\n",
      "Posible combinación: 69 x 1 x 29\n",
      "Posible combinación: 1 x 29 x 69\n",
      "Posible combinación: 23 x 29 x 3\n",
      "Posible combinación: 23 x 87 x 1\n",
      "Posible combinación: 29 x 23 x 3\n",
      "Posible combinación: 3 x 29 x 23\n",
      "Posible combinación: 69 x 29 x 1\n",
      "Posible combinación: 1 x 69 x 29\n",
      "Posible combinación: 29 x 3 x 23\n",
      "Posible combinación: 1 x 87 x 23\n",
      "Posible combinación: 3 x 1 x 667\n"
     ]
    }
   ],
   "source": [
    "def mat3shape(mat):\n",
    "    # Sacamos los factores de la longitud de la matriz, para saber las posibles combinaciones que podremos hacer:\n",
    "    f_mat = factores(mat.size)\n",
    "    # Recorremos todas las posibles combinaciones y guardamos las que cumplan en una lista. Esto no es lo más eficiente, pero es una opción bastante sencilla:\n",
    "    posibles_combinaciones = []\n",
    "    print(\"Buscando posibles combinaciones...\")\n",
    "    for i in range(0, len(f_mat)):\n",
    "        for j in range(0, len(f_mat)):\n",
    "            for k in range(0, len(f_mat)):\n",
    "                if f_mat[i]*f_mat[j]*f_mat[k] == mat.size:\n",
    "                    posibles_combinaciones.append(f\"{f_mat[i]} x {f_mat[j]} x {f_mat[k]}\")\n",
    "\n",
    "    if len(posibles_combinaciones) > 0:\n",
    "        for combinacion in set(posibles_combinaciones):\n",
    "            print(f\"Posible combinación: {combinacion}\")\n",
    "    else:\n",
    "        print(\"No se han encontrado combinaciones\")\n",
    "    \n",
    "    return\n",
    "\n",
    "mat = np.arange(1, 27).reshape(2, 13)\n",
    "mat3shape(mat)"
   ]
  },
  {
   "cell_type": "code",
   "execution_count": 93,
   "metadata": {},
   "outputs": [
    {
     "name": "stdout",
     "output_type": "stream",
     "text": [
      "Buscando posibles combinaciones...\n",
      "Posible combinación: 3 x 29 x 23\n",
      "Posible combinación: 29 x 23 x 3\n",
      "Posible combinación: 23 x 3 x 29\n",
      "Posible combinación: 3 x 23 x 29\n",
      "Posible combinación: 23 x 29 x 3\n",
      "Posible combinación: 29 x 3 x 23\n"
     ]
    }
   ],
   "source": [
    "def mat3shape_v2(mat):\n",
    "    # Sacamos los factores de la longitud de la matriz, para saber las posibles combinaciones que podremos hacer:\n",
    "    f_mat = factores(mat.size)\n",
    "    # Recorremos todas las posibles combinaciones y guardamos las que cumplan en una lista. Esto no es lo más eficiente, pero es una opción bastante sencilla:\n",
    "    posibles_combinaciones = []\n",
    "    print(\"Buscando posibles combinaciones...\")\n",
    "    for i in range(0, len(f_mat)):\n",
    "        for j in range(0, len(f_mat)):\n",
    "            for k in range(0, len(f_mat)):\n",
    "                if (f_mat[i]*f_mat[j]*f_mat[k] == mat.size) and ((f_mat[i] > 1 and f_mat[j] > 1 and f_mat[k] > 1)):\n",
    "                    posibles_combinaciones.append(f\"{f_mat[i]} x {f_mat[j]} x {f_mat[k]}\")\n",
    "\n",
    "    if len(posibles_combinaciones) > 0:\n",
    "        for combinacion in set(posibles_combinaciones):\n",
    "            print(f\"Posible combinación: {combinacion}\")\n",
    "    else:\n",
    "        print(\"No se han encontrado combinaciones\")\n",
    "    \n",
    "    return\n",
    "\n",
    "mat3shape_v2(array_2)"
   ]
  },
  {
   "cell_type": "markdown",
   "metadata": {},
   "source": [
    "## Ejercicio 3\n",
    "\n",
    "¿Te acuerdas de qué era el mínimo común múltiplo (mcm)? ¿Y el máximo común divisor (mcd)?\n",
    "\n",
    "Básicamente, el mcm de 2 números naturales es el número más pequeño que se puede obtener que sea divisible entre ambos. Por ejemplo, el mcm de 4 y 3 es 12, que coincide con 4x3, pero el mcm de 4 y 8 no es 24, sino 8, ya que 4x4=8x2=16. Intenta pensar cómo se puede calcular basándote en los factores de cada número.\n",
    "\n",
    "En cuanto al máximo común divisor, es el mayor factor que tienen en común 2 números, es decir, el mayor número por el que pueden ser divididos los 2 números naturales que utilicemos. Por ejemplo, el mcd de 10 y 15 es 5, o el mcd de 65 y 78 es 13.\n",
    "\n",
    "1. Crea una función para obtener el mcm y otra para obtener el mcd de 2 números, que recibirán ambas funciones como parámetros. Para implementar la segunda, ayúdate de la función creada en el ejercicio anterior.\n",
    "2. Créate otras 2 nuevas funciones como las anteriores pero modificándolas para que puedan recibir más de 2 números como entrada. Puedes hacerlo recibiendo como parámetro de entrada una lista de dimensión desconocida, aunque también se podría hacer con *args (que podrías convertir a array según lo recibes).\n",
    "\n",
    "NOTA: existe una función de NumPy que permite obtener el prducto de todos los elementos de una matriz: ``np.product(array)``"
   ]
  },
  {
   "cell_type": "code",
   "execution_count": 122,
   "metadata": {},
   "outputs": [
    {
     "data": {
      "text/plain": [
       "60"
      ]
     },
     "execution_count": 122,
     "metadata": {},
     "output_type": "execute_result"
    }
   ],
   "source": [
    "def mcm(*args):\n",
    "    vec = np.array(args)\n",
    "    n_max = max(vec)\n",
    "    for i in range(n_max, np.product(vec)):\n",
    "        if all(i%vec == 0):\n",
    "            return i\n",
    "    return x*y\n",
    "\n",
    "mcm(30, 4)    "
   ]
  },
  {
   "cell_type": "code",
   "execution_count": 123,
   "metadata": {},
   "outputs": [
    {
     "data": {
      "text/plain": [
       "60"
      ]
     },
     "execution_count": 123,
     "metadata": {},
     "output_type": "execute_result"
    }
   ],
   "source": [
    "# Version múltiple:\n",
    "def mcm(*args):\n",
    "    vec = np.array(args)\n",
    "    n_max = max(vec)\n",
    "    for i in range(n_max, np.product(vec)):\n",
    "        if all(i%vec == 0):\n",
    "            return i\n",
    "    return x*y\n",
    "\n",
    "mcm(30, 4)\n",
    "    "
   ]
  },
  {
   "cell_type": "code",
   "execution_count": 124,
   "metadata": {},
   "outputs": [
    {
     "data": {
      "text/plain": [
       "4"
      ]
     },
     "execution_count": 124,
     "metadata": {},
     "output_type": "execute_result"
    }
   ],
   "source": [
    "def mcd(x, y):\n",
    "    fx = factores(x)\n",
    "    fy = factores(y)\n",
    "    # Sacamos el máximo de los factores comunes, usando los sets y la intersección de los mismos:\n",
    "    return max(set(fx).intersection(set(fy)))\n",
    "\n",
    "mcd(20, 8)"
   ]
  },
  {
   "cell_type": "code",
   "execution_count": 125,
   "metadata": {},
   "outputs": [
    {
     "data": {
      "text/plain": [
       "4"
      ]
     },
     "execution_count": 125,
     "metadata": {},
     "output_type": "execute_result"
    }
   ],
   "source": [
    "# Version múltiple:\n",
    "def mcd(*args):\n",
    "    vec = np.array(args)\n",
    "    f = set(factores(vec[0]))\n",
    "    for i in vec[1:]:\n",
    "        f = f.intersection(set(factores(i)))\n",
    "    return max(f)\n",
    "\n",
    "mcd(20, 8)"
   ]
  },
  {
   "cell_type": "markdown",
   "metadata": {},
   "source": [
    "## Ejercicio 4\n",
    "\n",
    "Con una semilla de 10:\n",
    "\n",
    "1. Crea un array bidimensional de 10 x 20 con números enteros aleatorios entre 1 y 10, y llámalo ``array``\n",
    "2. Calcula la suma de todos los números de la matriz\n",
    "3. Calcula la media de cada fila\n",
    "4. Saca el maximo de cada columna\n",
    "5. Crea una nueva matriz a partir de la matriz ``array`` pero cambiando los 5 por 10\n",
    "6. Crea otra matriz a partir de ``array`` cuyos valores sean 1 si el valor original es mayor que 8 y 0 si no\n",
    "7. Obtén una nueva matriz ``array_2`` que tenga las filas y columnas pares de ``array``. Entendiendo por pares la fila/columna 0, 2, 4...\n",
    "8. Obtén una nueva matriz ``array_3`` que tenga las filas y columnas impares de ``array``\n",
    "9. Crea una nueva matriz ``array_4`` como la concatenación horizontal de ``array_2`` y ``array_3``\n",
    "10. Crea una nueva matriz ``array_5`` como la concatenación vertical de ``array_2`` y ``array_3``\n",
    "11. Concatena ``array_4`` consigo mismo y llámalo ``array_6``. Concatena ``array_5`` consigo mismo y llámalo ``array_7``. Realiza estas operaciones para obtener un par de matrices del mismo tamaño \n",
    "12. Realiza la suma de ``array_6`` y ``array_7``. Realiza la división de todos los elementos de la matriz entre 5 y quédate con la parte entera (puedes hacerlo a tu manera o aprovechar que existe una función de numpy para conjuntos de números). Cambia el tipo de la matriz a int.\n"
   ]
  },
  {
   "cell_type": "code",
   "execution_count": 164,
   "metadata": {},
   "outputs": [
    {
     "data": {
      "text/plain": [
       "array([[10,  5,  1,  2, 10,  1,  2,  9, 10,  1,  9,  7,  5,  4,  1,  5],\n",
       "       [ 7,  9,  2,  9,  5,  2,  4,  7,  6,  4, 10,  7, 10,  2, 10,  5],\n",
       "       [ 3,  7,  8,  9,  9, 10,  3,  1,  7,  8,  9,  2,  8,  2,  5,  1],\n",
       "       [ 9,  6,  5,  8,  9,  9,  3,  7,  3,  9,  9,  7,  7,  6,  7,  1],\n",
       "       [ 1,  7, 10,  2,  9, 10,  2,  3,  9, 10, 10,  6,  1,  3,  8,  4],\n",
       "       [ 1,  5,  3,  1,  4,  4,  2,  3,  6, 10,  1,  2,  1,  2, 10,  1],\n",
       "       [10,  3,  2,  2,  1,  1,  6, 10,  1,  5,  7,  7,  1,  3,  4,  4],\n",
       "       [ 3,  7,  1,  6,  2,  4,  7,  6,  6,  2,  9,  1,  6, 10,  9,  6],\n",
       "       [ 8,  9,  6,  9, 10, 10,  2,  6, 10,  2,  5,  8,  8,  8, 10,  8],\n",
       "       [ 7,  1,  4, 10,  5,  5,  7,  9,  5, 10,  3,  2,  2,  7,  4,  5]])"
      ]
     },
     "execution_count": 164,
     "metadata": {},
     "output_type": "execute_result"
    }
   ],
   "source": [
    "# 1.\n",
    "np.random.seed(10)\n",
    "array = np.random.randint(1, 11, size=(10, 16))\n",
    "array"
   ]
  },
  {
   "cell_type": "code",
   "execution_count": 165,
   "metadata": {},
   "outputs": [
    {
     "data": {
      "text/plain": [
       "886"
      ]
     },
     "execution_count": 165,
     "metadata": {},
     "output_type": "execute_result"
    }
   ],
   "source": [
    "# 2.\n",
    "array.sum()"
   ]
  },
  {
   "cell_type": "code",
   "execution_count": 166,
   "metadata": {},
   "outputs": [
    {
     "data": {
      "text/plain": [
       "array([5.125 , 6.1875, 5.75  , 6.5625, 5.9375, 3.5   , 4.1875, 5.3125,\n",
       "       7.4375, 5.375 ])"
      ]
     },
     "execution_count": 166,
     "metadata": {},
     "output_type": "execute_result"
    }
   ],
   "source": [
    "# 3.\n",
    "np.mean(array, axis=1)"
   ]
  },
  {
   "cell_type": "code",
   "execution_count": 167,
   "metadata": {},
   "outputs": [
    {
     "data": {
      "text/plain": [
       "array([10,  9, 10, 10, 10, 10,  7, 10, 10, 10, 10,  8, 10, 10, 10,  8])"
      ]
     },
     "execution_count": 167,
     "metadata": {},
     "output_type": "execute_result"
    }
   ],
   "source": [
    "# 4.\n",
    "np.max(array, axis=0)"
   ]
  },
  {
   "cell_type": "code",
   "execution_count": 168,
   "metadata": {},
   "outputs": [
    {
     "data": {
      "text/plain": [
       "array([[10, 10,  1,  2, 10,  1,  2,  9, 10,  1,  9,  7, 10,  4,  1, 10],\n",
       "       [ 7,  9,  2,  9, 10,  2,  4,  7,  6,  4, 10,  7, 10,  2, 10, 10],\n",
       "       [ 3,  7,  8,  9,  9, 10,  3,  1,  7,  8,  9,  2,  8,  2, 10,  1],\n",
       "       [ 9,  6, 10,  8,  9,  9,  3,  7,  3,  9,  9,  7,  7,  6,  7,  1],\n",
       "       [ 1,  7, 10,  2,  9, 10,  2,  3,  9, 10, 10,  6,  1,  3,  8,  4],\n",
       "       [ 1, 10,  3,  1,  4,  4,  2,  3,  6, 10,  1,  2,  1,  2, 10,  1],\n",
       "       [10,  3,  2,  2,  1,  1,  6, 10,  1, 10,  7,  7,  1,  3,  4,  4],\n",
       "       [ 3,  7,  1,  6,  2,  4,  7,  6,  6,  2,  9,  1,  6, 10,  9,  6],\n",
       "       [ 8,  9,  6,  9, 10, 10,  2,  6, 10,  2, 10,  8,  8,  8, 10,  8],\n",
       "       [ 7,  1,  4, 10, 10, 10,  7,  9, 10, 10,  3,  2,  2,  7,  4, 10]])"
      ]
     },
     "execution_count": 168,
     "metadata": {},
     "output_type": "execute_result"
    }
   ],
   "source": [
    "# 5.\n",
    "np.where(array==5, 10, array)"
   ]
  },
  {
   "cell_type": "code",
   "execution_count": 169,
   "metadata": {},
   "outputs": [
    {
     "data": {
      "text/plain": [
       "array([[1, 0, 0, 0, 1, 0, 0, 1, 1, 0, 1, 0, 0, 0, 0, 0],\n",
       "       [0, 1, 0, 1, 0, 0, 0, 0, 0, 0, 1, 0, 1, 0, 1, 0],\n",
       "       [0, 0, 0, 1, 1, 1, 0, 0, 0, 0, 1, 0, 0, 0, 0, 0],\n",
       "       [1, 0, 0, 0, 1, 1, 0, 0, 0, 1, 1, 0, 0, 0, 0, 0],\n",
       "       [0, 0, 1, 0, 1, 1, 0, 0, 1, 1, 1, 0, 0, 0, 0, 0],\n",
       "       [0, 0, 0, 0, 0, 0, 0, 0, 0, 1, 0, 0, 0, 0, 1, 0],\n",
       "       [1, 0, 0, 0, 0, 0, 0, 1, 0, 0, 0, 0, 0, 0, 0, 0],\n",
       "       [0, 0, 0, 0, 0, 0, 0, 0, 0, 0, 1, 0, 0, 1, 1, 0],\n",
       "       [0, 1, 0, 1, 1, 1, 0, 0, 1, 0, 0, 0, 0, 0, 1, 0],\n",
       "       [0, 0, 0, 1, 0, 0, 0, 1, 0, 1, 0, 0, 0, 0, 0, 0]])"
      ]
     },
     "execution_count": 169,
     "metadata": {},
     "output_type": "execute_result"
    }
   ],
   "source": [
    "# 6.\n",
    "np.where(array>8, 1, 0)"
   ]
  },
  {
   "cell_type": "code",
   "execution_count": 184,
   "metadata": {},
   "outputs": [
    {
     "data": {
      "text/plain": [
       "array([[10,  1, 10,  2, 10,  9,  5,  1],\n",
       "       [ 3,  8,  9,  3,  7,  9,  8,  5],\n",
       "       [ 1, 10,  9,  2,  9, 10,  1,  8],\n",
       "       [10,  2,  1,  6,  1,  7,  1,  4],\n",
       "       [ 8,  6, 10,  2, 10,  5,  8, 10]])"
      ]
     },
     "execution_count": 184,
     "metadata": {},
     "output_type": "execute_result"
    }
   ],
   "source": [
    "# 7.\n",
    "array_2 = array[::2, ::2]\n",
    "array_2"
   ]
  },
  {
   "cell_type": "code",
   "execution_count": 185,
   "metadata": {},
   "outputs": [
    {
     "data": {
      "text/plain": [
       "array([[ 9,  9,  2,  7,  4,  7,  2,  5],\n",
       "       [ 6,  8,  9,  7,  9,  7,  6,  1],\n",
       "       [ 5,  1,  4,  3, 10,  2,  2,  1],\n",
       "       [ 7,  6,  4,  6,  2,  1, 10,  6],\n",
       "       [ 1, 10,  5,  9, 10,  2,  7,  5]])"
      ]
     },
     "execution_count": 185,
     "metadata": {},
     "output_type": "execute_result"
    }
   ],
   "source": [
    "# 8.\n",
    "array_3 = array[1::2, 1::2]\n",
    "array_3"
   ]
  },
  {
   "cell_type": "code",
   "execution_count": 190,
   "metadata": {},
   "outputs": [
    {
     "data": {
      "text/plain": [
       "array([[10,  1, 10,  2, 10,  9,  5,  1,  9,  9,  2,  7,  4,  7,  2,  5],\n",
       "       [ 3,  8,  9,  3,  7,  9,  8,  5,  6,  8,  9,  7,  9,  7,  6,  1],\n",
       "       [ 1, 10,  9,  2,  9, 10,  1,  8,  5,  1,  4,  3, 10,  2,  2,  1],\n",
       "       [10,  2,  1,  6,  1,  7,  1,  4,  7,  6,  4,  6,  2,  1, 10,  6],\n",
       "       [ 8,  6, 10,  2, 10,  5,  8, 10,  1, 10,  5,  9, 10,  2,  7,  5]])"
      ]
     },
     "execution_count": 190,
     "metadata": {},
     "output_type": "execute_result"
    }
   ],
   "source": [
    "# 9.\n",
    "array_4 = np.hstack([array_2, array_3])\n",
    "array_4"
   ]
  },
  {
   "cell_type": "code",
   "execution_count": 191,
   "metadata": {},
   "outputs": [
    {
     "data": {
      "text/plain": [
       "array([[10,  1, 10,  2, 10,  9,  5,  1],\n",
       "       [ 3,  8,  9,  3,  7,  9,  8,  5],\n",
       "       [ 1, 10,  9,  2,  9, 10,  1,  8],\n",
       "       [10,  2,  1,  6,  1,  7,  1,  4],\n",
       "       [ 8,  6, 10,  2, 10,  5,  8, 10],\n",
       "       [ 9,  9,  2,  7,  4,  7,  2,  5],\n",
       "       [ 6,  8,  9,  7,  9,  7,  6,  1],\n",
       "       [ 5,  1,  4,  3, 10,  2,  2,  1],\n",
       "       [ 7,  6,  4,  6,  2,  1, 10,  6],\n",
       "       [ 1, 10,  5,  9, 10,  2,  7,  5]])"
      ]
     },
     "execution_count": 191,
     "metadata": {},
     "output_type": "execute_result"
    }
   ],
   "source": [
    "# 10.\n",
    "array_5 = np.vstack([array_2, array_3])\n",
    "array_5"
   ]
  },
  {
   "cell_type": "code",
   "execution_count": 200,
   "metadata": {},
   "outputs": [
    {
     "data": {
      "text/plain": [
       "True"
      ]
     },
     "execution_count": 200,
     "metadata": {},
     "output_type": "execute_result"
    }
   ],
   "source": [
    "# 11.\n",
    "array_6 = np.vstack([array_4, array_4])\n",
    "array_7 = np.hstack([array_5, array_5])\n",
    "array_7.shape == array_6.shape"
   ]
  },
  {
   "cell_type": "code",
   "execution_count": 214,
   "metadata": {},
   "outputs": [
    {
     "data": {
      "text/plain": [
       "array([[4, 0, 4, 0, 4, 3, 2, 0, 3, 2, 2, 1, 2, 3, 1, 1],\n",
       "       [1, 3, 3, 1, 2, 3, 3, 2, 1, 3, 3, 2, 3, 3, 2, 1],\n",
       "       [0, 4, 3, 0, 3, 4, 0, 3, 1, 2, 2, 1, 3, 2, 0, 1],\n",
       "       [4, 0, 0, 2, 0, 2, 0, 1, 3, 1, 1, 2, 0, 1, 2, 2],\n",
       "       [3, 2, 4, 0, 4, 2, 3, 4, 1, 3, 3, 2, 4, 1, 3, 3],\n",
       "       [3, 2, 2, 1, 2, 3, 1, 1, 3, 3, 0, 2, 1, 2, 0, 2],\n",
       "       [1, 3, 3, 2, 3, 3, 2, 1, 2, 3, 3, 2, 3, 2, 2, 0],\n",
       "       [1, 2, 2, 1, 3, 2, 0, 1, 2, 0, 1, 1, 4, 0, 0, 0],\n",
       "       [3, 1, 1, 2, 0, 1, 2, 2, 2, 2, 1, 2, 0, 0, 4, 2],\n",
       "       [1, 3, 3, 2, 4, 1, 3, 3, 0, 4, 2, 3, 4, 0, 2, 2]])"
      ]
     },
     "execution_count": 214,
     "metadata": {},
     "output_type": "execute_result"
    }
   ],
   "source": [
    "# 12.\n",
    "array_8 = array_6 + array_7\n",
    "array_8 = np.floor(array_8/5)\n",
    "\n",
    "array_8 = np.array(array_8, 'int')\n",
    "array_8"
   ]
  },
  {
   "cell_type": "markdown",
   "metadata": {},
   "source": [
    "## Ejercicio 5\n",
    "\n",
    "Utiliza la función np.arange() para generar una colección de números de 1 hasta 100 y, mediante slicing, filtrado y/o alguna operación aritmética, obtén las siguientes series:\n",
    "\n",
    "1. [ 1,  2,  3,  4,  5,  6,  7,  8,  9, 10, 11, 12, 13, 14, 15, 16, 17, 18, 19, 20, 21, 22, 23, 24, 25, 26, 27, 28, 29, 30, 31, 32, 33, 34, 35, 36, 37, 38, 39, 40, 41, 42, 43, 44, 45, 46, 47, 48, 49, 50, 51, 52, 53, 54, 55, 56, 57, 58, 59, 60, 61, 62, 63, 64, 65, 66, 67, 68, 69, 70, 71, 72, 73, 74, 75, 76, 77, 78, 79, 80, 81, 82, 83, 84, 85, 86, 87, 88, 89, 90, 91, 92, 93, 94, 95, 96, 97, 98, 99]\n",
    "\n",
    "2. [ 1,  4,  7, 10, 13, 16, 19, 22, 25, 28, 31, 34, 37, 40, 43, 46, 49, 52, 55, 58, 61, 64, 67, 70, 73, 76, 79, 82, 85, 88, 91, 94, 97]\n",
    "\n",
    "3. [11, 13, 15, 17, 19]\n",
    "\n",
    "4. [ 5, 10, 15, 20, 25, 30, 35, 40, 45, 50, 55, 60, 65, 70, 75, 80, 85, 90, 95]\n",
    "\n",
    "5. [  1,   4,   9,  16,  25,  36,  49,  64,  81, 100]\n",
    "\n",
    "6. [ 4, 16, 36, 64]\n",
    "\n",
    "7. [99, 96, 93, 90, 87, 84, 81, 78, 75, 72, 69, 66, 63, 60, 57, 54, 51, 48, 45, 42, 39, 36, 33, 30, 27, 24, 21, 18, 15, 12,  9,  6,  3]\n",
    "\n",
    "8. [100,  64,  36,  16,   4]\n",
    "\n",
    "\n",
    "Ahora utiliza la función de generación de vectores más apropiada para:\n",
    "\n",
    "9. [-5.5, -4.5, -3.5, -2.5, -1.5, -0.5,  0.5,  1.5,  2.5,  3.5,  4.5]\n",
    "\n",
    "10. [-2.5 , -2.25, -2.  , -1.75, -1.5 , -1.25, -1.  , -0.75, -0.5 , -0.25,  0.  ,  0.25,  0.5 ,  0.75,  1.  ,  1.25,  1.5 ,  1.75, 2.  ,  2.25]\n",
    "\n",
    "11. Serie de 50 puntos desde 0 a 50 (ambos incluidos):\n",
    "\n",
    "  [0., 0.10204082, 0.20408163, 0.30612245, 0.40816327, 0.51020408, 0.6122449 , 0.71428571, 0.81632653, 0.91836735, 1.02040816, 1.12244898, 1.2244898 , 1.32653061, 1.42857143, 1.53061224, 1.63265306, 1.73469388, 1.83673469, 1.93877551, 2.04081633, 2.14285714, 2.24489796, 2.34693878, 2.44897959, 2.55102041, 2.65306122, 2.75510204, 2.85714286, 2.95918367, 3.06122449, 3.16326531, 3.26530612, 3.36734694, 3.46938776, 3.57142857, 3.67346939, 3.7755102 , 3.87755102, 3.97959184, 4.08163265, 4.18367347, 4.28571429, 4.3877551 , 4.48979592, 4.59183673, 4.69387755, 4.79591837, 4.89795918, 5. ]\n"
   ]
  },
  {
   "cell_type": "code",
   "execution_count": 292,
   "metadata": {},
   "outputs": [
    {
     "data": {
      "text/plain": [
       "array([ 1,  2,  3,  4,  5,  6,  7,  8,  9, 10, 11, 12, 13, 14, 15, 16, 17,\n",
       "       18, 19, 20, 21, 22, 23, 24, 25, 26, 27, 28, 29, 30, 31, 32, 33, 34,\n",
       "       35, 36, 37, 38, 39, 40, 41, 42, 43, 44, 45, 46, 47, 48, 49, 50, 51,\n",
       "       52, 53, 54, 55, 56, 57, 58, 59, 60, 61, 62, 63, 64, 65, 66, 67, 68,\n",
       "       69, 70, 71, 72, 73, 74, 75, 76, 77, 78, 79, 80, 81, 82, 83, 84, 85,\n",
       "       86, 87, 88, 89, 90, 91, 92, 93, 94, 95, 96, 97, 98, 99])"
      ]
     },
     "execution_count": 292,
     "metadata": {},
     "output_type": "execute_result"
    }
   ],
   "source": [
    "# 1.\n",
    "l = np.arange(1, 100)\n",
    "l"
   ]
  },
  {
   "cell_type": "code",
   "execution_count": 293,
   "metadata": {},
   "outputs": [
    {
     "data": {
      "text/plain": [
       "array([ 1,  4,  7, 10, 13, 16, 19, 22, 25, 28, 31, 34, 37, 40, 43, 46, 49,\n",
       "       52, 55, 58, 61, 64, 67, 70, 73, 76, 79, 82, 85, 88, 91, 94, 97])"
      ]
     },
     "execution_count": 293,
     "metadata": {},
     "output_type": "execute_result"
    }
   ],
   "source": [
    "# 2.\n",
    "l[::3]"
   ]
  },
  {
   "cell_type": "code",
   "execution_count": 294,
   "metadata": {},
   "outputs": [
    {
     "data": {
      "text/plain": [
       "array([11, 13, 15, 17, 19])"
      ]
     },
     "execution_count": 294,
     "metadata": {},
     "output_type": "execute_result"
    }
   ],
   "source": [
    "# 3.\n",
    "l[10:20:2]"
   ]
  },
  {
   "cell_type": "code",
   "execution_count": 295,
   "metadata": {},
   "outputs": [
    {
     "data": {
      "text/plain": [
       "array([ 5, 10, 15, 20, 25, 30, 35, 40, 45, 50, 55, 60, 65, 70, 75, 80, 85,\n",
       "       90, 95])"
      ]
     },
     "execution_count": 295,
     "metadata": {},
     "output_type": "execute_result"
    }
   ],
   "source": [
    "# 4.\n",
    "l[l%5==0]\n",
    "# l[4::5]"
   ]
  },
  {
   "cell_type": "code",
   "execution_count": 296,
   "metadata": {},
   "outputs": [
    {
     "data": {
      "text/plain": [
       "array([  1,   4,   9,  16,  25,  36,  49,  64,  81, 100], dtype=int32)"
      ]
     },
     "execution_count": 296,
     "metadata": {},
     "output_type": "execute_result"
    }
   ],
   "source": [
    "# 5.\n",
    "l[:10]**2"
   ]
  },
  {
   "cell_type": "code",
   "execution_count": 297,
   "metadata": {},
   "outputs": [
    {
     "data": {
      "text/plain": [
       "array([ 4, 16, 36, 64], dtype=int32)"
      ]
     },
     "execution_count": 297,
     "metadata": {},
     "output_type": "execute_result"
    }
   ],
   "source": [
    "# 6.\n",
    "# l[np.sqrt(l)%2==0]\n",
    "l[1:8:2]**2"
   ]
  },
  {
   "cell_type": "code",
   "execution_count": 298,
   "metadata": {},
   "outputs": [
    {
     "data": {
      "text/plain": [
       "array([99, 96, 93, 90, 87, 84, 81, 78, 75, 72, 69, 66, 63, 60, 57, 54, 51,\n",
       "       48, 45, 42, 39, 36, 33, 30, 27, 24, 21, 18, 15, 12,  9,  6,  3])"
      ]
     },
     "execution_count": 298,
     "metadata": {},
     "output_type": "execute_result"
    }
   ],
   "source": [
    "# 7.\n",
    "l[::-3]"
   ]
  },
  {
   "cell_type": "code",
   "execution_count": 312,
   "metadata": {},
   "outputs": [
    {
     "data": {
      "text/plain": [
       "array([100,  64,  36,  16,   4], dtype=int32)"
      ]
     },
     "execution_count": 312,
     "metadata": {},
     "output_type": "execute_result"
    }
   ],
   "source": [
    "# 8.\n",
    "l[9::-2]**2"
   ]
  },
  {
   "cell_type": "code",
   "execution_count": 283,
   "metadata": {},
   "outputs": [
    {
     "data": {
      "text/plain": [
       "array([-5.5, -4.5, -3.5, -2.5, -1.5, -0.5,  0.5,  1.5,  2.5,  3.5,  4.5])"
      ]
     },
     "execution_count": 283,
     "metadata": {},
     "output_type": "execute_result"
    }
   ],
   "source": [
    "# 9.\n",
    "np.arange(-5.5, 5.5)"
   ]
  },
  {
   "cell_type": "code",
   "execution_count": 285,
   "metadata": {},
   "outputs": [
    {
     "data": {
      "text/plain": [
       "array([-2.5 , -2.25, -2.  , -1.75, -1.5 , -1.25, -1.  , -0.75, -0.5 ,\n",
       "       -0.25,  0.  ,  0.25,  0.5 ,  0.75,  1.  ,  1.25,  1.5 ,  1.75,\n",
       "        2.  ,  2.25])"
      ]
     },
     "execution_count": 285,
     "metadata": {},
     "output_type": "execute_result"
    }
   ],
   "source": [
    "# 10.\n",
    "np.arange(-2.5, 2.5, 0.25)"
   ]
  },
  {
   "cell_type": "code",
   "execution_count": 287,
   "metadata": {},
   "outputs": [
    {
     "data": {
      "text/plain": [
       "array([0.        , 0.10204082, 0.20408163, 0.30612245, 0.40816327,\n",
       "       0.51020408, 0.6122449 , 0.71428571, 0.81632653, 0.91836735,\n",
       "       1.02040816, 1.12244898, 1.2244898 , 1.32653061, 1.42857143,\n",
       "       1.53061224, 1.63265306, 1.73469388, 1.83673469, 1.93877551,\n",
       "       2.04081633, 2.14285714, 2.24489796, 2.34693878, 2.44897959,\n",
       "       2.55102041, 2.65306122, 2.75510204, 2.85714286, 2.95918367,\n",
       "       3.06122449, 3.16326531, 3.26530612, 3.36734694, 3.46938776,\n",
       "       3.57142857, 3.67346939, 3.7755102 , 3.87755102, 3.97959184,\n",
       "       4.08163265, 4.18367347, 4.28571429, 4.3877551 , 4.48979592,\n",
       "       4.59183673, 4.69387755, 4.79591837, 4.89795918, 5.        ])"
      ]
     },
     "execution_count": 287,
     "metadata": {},
     "output_type": "execute_result"
    }
   ],
   "source": [
    "# 11.\n",
    "np.linspace(0, 5, 50)"
   ]
  },
  {
   "cell_type": "markdown",
   "metadata": {},
   "source": [
    "## Ejercicio 6\n",
    "\n",
    "Ahora vamos a intentar generar series un tanto más complejas, para lo que utilizaremos todo lo que veamos necesario, como bucles condicionales...:\n",
    "\n",
    "1. Serie Fibonacci:\n",
    "  Tomando como variables iniciales a=0 y b=1, piensa cómo obtener (y si no quieres pensar o no lo ves, busca por Internet):\n",
    "    - [1, 2, 3, 5, 8, 13, 21]\n",
    "    \n",
    "2. Serie números primos entre 1 y 100 (si quieres, puedes ayudarte de la función factores del ejercicio 2):\n",
    "  - [2, 3, 5, 7, 11, 13, 17, 19, 23, 29, 31, 37, 41, 43, 47, 53, 59, 61, 67, 71, 73, 79, 83, 89, 97]\n",
    "  \n",
    "  \n",
    "3. Progresión geométrica basada en Fibonacci:\n",
    "  - [1, 2, 2, 4, 8, 32, 256]\n"
   ]
  },
  {
   "cell_type": "code",
   "execution_count": 269,
   "metadata": {},
   "outputs": [
    {
     "name": "stdout",
     "output_type": "stream",
     "text": [
      "[0, 1, 1, 2, 3, 5, 8, 13, 21]\n"
     ]
    }
   ],
   "source": [
    "# 1.\n",
    "a = 0\n",
    "b = 1\n",
    "\n",
    "l = [a, b]\n",
    "\n",
    "n_max = 21\n",
    "z = b\n",
    "\n",
    "while z < n_max:\n",
    "    z = l[-2] + l[-1]\n",
    "    l.append(z)\n",
    "    \n",
    "print(l)"
   ]
  },
  {
   "cell_type": "code",
   "execution_count": 282,
   "metadata": {},
   "outputs": [
    {
     "name": "stdout",
     "output_type": "stream",
     "text": [
      "[2, 3, 5, 7, 11, 13, 17, 19, 23, 29, 31, 37, 41, 43, 47, 53, 59, 61, 67, 71, 73, 79, 83, 89, 97]\n"
     ]
    }
   ],
   "source": [
    "# 2.\n",
    "l = []\n",
    "for i in range(2, 101):\n",
    "    if len(factores(i)) <= 2:\n",
    "        l.append(i)\n",
    "print(l)"
   ]
  },
  {
   "cell_type": "code",
   "execution_count": 279,
   "metadata": {},
   "outputs": [
    {
     "data": {
      "text/plain": [
       "[100, 50, 25, 20, 10, 5, 4, 2, 1]"
      ]
     },
     "execution_count": 279,
     "metadata": {},
     "output_type": "execute_result"
    }
   ],
   "source": [
    "factores(i)"
   ]
  },
  {
   "cell_type": "code",
   "execution_count": 270,
   "metadata": {},
   "outputs": [
    {
     "name": "stdout",
     "output_type": "stream",
     "text": [
      "[1, 2, 2, 4, 8, 32, 256]\n"
     ]
    }
   ],
   "source": [
    "# 3.\n",
    "a = 1\n",
    "b = 2\n",
    "\n",
    "l = [a, b]\n",
    "\n",
    "n_max = 100\n",
    "z = b\n",
    "\n",
    "while z < n_max:\n",
    "    z = l[-2] * l[-1]\n",
    "    l.append(z)\n",
    "    \n",
    "print(l)"
   ]
  },
  {
   "cell_type": "markdown",
   "metadata": {},
   "source": [
    "## Ejercicio 7\n",
    "\n",
    "Crea una función que reciba como argumento un array y que imprima por pantalla la siguiente info:\n",
    "1. Nº de dimensiones del array\n",
    "2. Forma del array\n",
    "3. Nº elementos totales\n",
    "4. Suma de todos los elementos\n",
    "5. Máximo del array\n",
    "6. Mínimo del array\n",
    "7. Media por columna\n",
    "8. Media por fila\n",
    "9. Desviación típica por columna\n",
    "10. Desviación típica por fila\n"
   ]
  },
  {
   "cell_type": "code",
   "execution_count": null,
   "metadata": {},
   "outputs": [],
   "source": []
  },
  {
   "cell_type": "markdown",
   "metadata": {},
   "source": [
    "## Ejercicio 8\n",
    "\n",
    "Partiendo del siguiente array:\n"
   ]
  },
  {
   "cell_type": "code",
   "execution_count": 328,
   "metadata": {},
   "outputs": [
    {
     "data": {
      "text/plain": [
       "array([[10,  5,  1,  2, 10,  1,  2,  9, 10,  1],\n",
       "       [ 9,  7,  5,  4,  1,  5,  7,  9,  2,  9],\n",
       "       [ 5,  2,  4,  7,  6,  4, 10,  7, 10,  2],\n",
       "       [10,  5,  3,  7,  8,  9,  9, 10,  3,  1],\n",
       "       [ 7,  8,  9,  2,  8,  2,  5,  1,  9,  6],\n",
       "       [ 5,  8,  9,  9,  3,  7,  3,  9,  9,  7],\n",
       "       [ 7,  6,  7,  1,  1,  7, 10,  2,  9, 10],\n",
       "       [ 2,  3,  9, 10, 10,  6,  1,  3,  8,  4],\n",
       "       [ 1,  5,  3,  1,  4,  4,  2,  3,  6, 10],\n",
       "       [ 1,  2,  1,  2, 10,  1, 10,  3,  2,  2]])"
      ]
     },
     "execution_count": 328,
     "metadata": {},
     "output_type": "execute_result"
    }
   ],
   "source": [
    "np.random.seed(10)\n",
    "array = np.random.randint(1, 11, size = (10, 10))\n",
    "array"
   ]
  },
  {
   "cell_type": "markdown",
   "metadata": {},
   "source": [
    "Obtén las siguientes matrices:\n",
    "1. \n",
    "\n",
    "\n",
    "```Python\n",
    "[[10,  1, 10,  2, 10],\n",
    " [ 5,  4,  6, 10, 10],\n",
    " [ 7,  9,  8,  5,  9],\n",
    " [ 7,  7,  1, 10,  9],\n",
    " [ 1,  3,  4,  2,  6]]\n",
    "```"
   ]
  },
  {
   "cell_type": "code",
   "execution_count": 329,
   "metadata": {},
   "outputs": [
    {
     "data": {
      "text/plain": [
       "array([[10,  1, 10,  2, 10],\n",
       "       [ 5,  4,  6, 10, 10],\n",
       "       [ 7,  9,  8,  5,  9],\n",
       "       [ 7,  7,  1, 10,  9],\n",
       "       [ 1,  3,  4,  2,  6]])"
      ]
     },
     "execution_count": 329,
     "metadata": {},
     "output_type": "execute_result"
    }
   ],
   "source": [
    "array[::2, ::2]"
   ]
  },
  {
   "cell_type": "markdown",
   "metadata": {},
   "source": [
    "2. \n",
    "\n",
    "\n",
    "```Python\n",
    "[[ 1,  2,  1,  2, 10,  1, 10,  3,  2,  2],\n",
    " [ 2,  3,  9, 10, 10,  6,  1,  3,  8,  4],\n",
    " [ 5,  8,  9,  9,  3,  7,  3,  9,  9,  7],\n",
    " [10,  5,  3,  7,  8,  9,  9, 10,  3,  1],\n",
    " [ 9,  7,  5,  4,  1,  5,  7,  9,  2,  9]]\n",
    "```"
   ]
  },
  {
   "cell_type": "code",
   "execution_count": 331,
   "metadata": {},
   "outputs": [
    {
     "data": {
      "text/plain": [
       "array([[ 1,  2,  1,  2, 10,  1, 10,  3,  2,  2],\n",
       "       [ 2,  3,  9, 10, 10,  6,  1,  3,  8,  4],\n",
       "       [ 5,  8,  9,  9,  3,  7,  3,  9,  9,  7],\n",
       "       [10,  5,  3,  7,  8,  9,  9, 10,  3,  1],\n",
       "       [ 9,  7,  5,  4,  1,  5,  7,  9,  2,  9]])"
      ]
     },
     "execution_count": 331,
     "metadata": {},
     "output_type": "execute_result"
    }
   ],
   "source": [
    "array[::-2]"
   ]
  },
  {
   "cell_type": "markdown",
   "metadata": {},
   "source": [
    "3. \n",
    "\n",
    "\n",
    "```Python\n",
    "[[ 2,  2,  3, 10,  1, 10,  2,  1,  2,  1],\n",
    " [10,  6,  3,  2,  4,  4,  1,  3,  5,  1],\n",
    " [ 4,  8,  3,  1,  6, 10, 10,  9,  3,  2],\n",
    " [10,  9,  2, 10,  7,  1,  1,  7,  6,  7],\n",
    " [ 7,  9,  9,  3,  7,  3,  9,  9,  8,  5],\n",
    " [ 6,  9,  1,  5,  2,  8,  2,  9,  8,  7],\n",
    " [ 1,  3, 10,  9,  9,  8,  7,  3,  5, 10],\n",
    " [ 2, 10,  7, 10,  4,  6,  7,  4,  2,  5],\n",
    " [ 9,  2,  9,  7,  5,  1,  4,  5,  7,  9],\n",
    " [ 1, 10,  9,  2,  1, 10,  2,  1,  5, 10]]\n",
    "```"
   ]
  },
  {
   "cell_type": "code",
   "execution_count": 337,
   "metadata": {},
   "outputs": [
    {
     "data": {
      "text/plain": [
       "array([[ 2,  2,  3, 10,  1, 10,  2,  1,  2,  1],\n",
       "       [10,  6,  3,  2,  4,  4,  1,  3,  5,  1],\n",
       "       [ 4,  8,  3,  1,  6, 10, 10,  9,  3,  2],\n",
       "       [10,  9,  2, 10,  7,  1,  1,  7,  6,  7],\n",
       "       [ 7,  9,  9,  3,  7,  3,  9,  9,  8,  5],\n",
       "       [ 6,  9,  1,  5,  2,  8,  2,  9,  8,  7],\n",
       "       [ 1,  3, 10,  9,  9,  8,  7,  3,  5, 10],\n",
       "       [ 2, 10,  7, 10,  4,  6,  7,  4,  2,  5],\n",
       "       [ 9,  2,  9,  7,  5,  1,  4,  5,  7,  9],\n",
       "       [ 1, 10,  9,  2,  1, 10,  2,  1,  5, 10]])"
      ]
     },
     "execution_count": 337,
     "metadata": {},
     "output_type": "execute_result"
    }
   ],
   "source": [
    "array[::-1, ::-1]"
   ]
  },
  {
   "cell_type": "markdown",
   "metadata": {},
   "source": [
    "4. \n",
    "\n",
    "\n",
    "```Python\n",
    "[[ 9,  7,  5,  4,  1,  5,  7,  9,  2,  9],\n",
    " [ 5,  2,  4,  7,  6,  4, 10,  7, 10,  2],\n",
    " [ 5,  8,  9,  9,  3,  7,  3,  9,  9,  7]]\n",
    "```"
   ]
  },
  {
   "cell_type": "code",
   "execution_count": 355,
   "metadata": {},
   "outputs": [
    {
     "data": {
      "text/plain": [
       "array([[ 9,  7,  5,  4,  1,  5,  7,  9,  2,  9],\n",
       "       [ 5,  2,  4,  7,  6,  4, 10,  7, 10,  2],\n",
       "       [ 5,  8,  9,  9,  3,  7,  3,  9,  9,  7]])"
      ]
     },
     "execution_count": 355,
     "metadata": {},
     "output_type": "execute_result"
    }
   ],
   "source": [
    "array[[1, 2, 5]]"
   ]
  },
  {
   "cell_type": "markdown",
   "metadata": {},
   "source": [
    "## Ejercicio 9\n",
    "\n",
    "\n",
    "1. Crea una función que reciba 2 numeros y cree una matriz de esas dimensiones donde los renglones impares sean 0 y los pares 1\n",
    "2. Modifica la función anterior para que reciba otro parámetro booleano con el que se pueda especificar si \"pintar\" con 1 los renglones impares (True) o los pares (False). Recuerda que empezamos en la línea 0, por lo que el primer renglón se considera par.\n",
    "3. Modifica la función anterior para que, en lugar de los renglones, pinte los marcos. En este caso, las matrices de entrada serán cuadradas."
   ]
  },
  {
   "cell_type": "code",
   "execution_count": 360,
   "metadata": {},
   "outputs": [
    {
     "data": {
      "text/plain": [
       "array([[1., 1., 1., 1., 1., 1., 1., 1., 1., 1., 1., 1.],\n",
       "       [0., 0., 0., 0., 0., 0., 0., 0., 0., 0., 0., 0.],\n",
       "       [1., 1., 1., 1., 1., 1., 1., 1., 1., 1., 1., 1.],\n",
       "       [0., 0., 0., 0., 0., 0., 0., 0., 0., 0., 0., 0.],\n",
       "       [1., 1., 1., 1., 1., 1., 1., 1., 1., 1., 1., 1.],\n",
       "       [0., 0., 0., 0., 0., 0., 0., 0., 0., 0., 0., 0.],\n",
       "       [1., 1., 1., 1., 1., 1., 1., 1., 1., 1., 1., 1.],\n",
       "       [0., 0., 0., 0., 0., 0., 0., 0., 0., 0., 0., 0.],\n",
       "       [1., 1., 1., 1., 1., 1., 1., 1., 1., 1., 1., 1.],\n",
       "       [0., 0., 0., 0., 0., 0., 0., 0., 0., 0., 0., 0.]])"
      ]
     },
     "execution_count": 360,
     "metadata": {},
     "output_type": "execute_result"
    }
   ],
   "source": [
    "# 1.\n",
    "def renglones(x, y):\n",
    "    array = np.zeros((x, y))\n",
    "    array[::2] = 1\n",
    "    return array\n",
    "\n",
    "renglones(10, 12)"
   ]
  },
  {
   "cell_type": "code",
   "execution_count": 365,
   "metadata": {},
   "outputs": [
    {
     "data": {
      "text/plain": [
       "array([[1., 1., 1., 1., 1., 1., 1., 1., 1., 1., 1., 1.],\n",
       "       [0., 0., 0., 0., 0., 0., 0., 0., 0., 0., 0., 0.],\n",
       "       [1., 1., 1., 1., 1., 1., 1., 1., 1., 1., 1., 1.],\n",
       "       [0., 0., 0., 0., 0., 0., 0., 0., 0., 0., 0., 0.],\n",
       "       [1., 1., 1., 1., 1., 1., 1., 1., 1., 1., 1., 1.],\n",
       "       [0., 0., 0., 0., 0., 0., 0., 0., 0., 0., 0., 0.],\n",
       "       [1., 1., 1., 1., 1., 1., 1., 1., 1., 1., 1., 1.],\n",
       "       [0., 0., 0., 0., 0., 0., 0., 0., 0., 0., 0., 0.],\n",
       "       [1., 1., 1., 1., 1., 1., 1., 1., 1., 1., 1., 1.],\n",
       "       [0., 0., 0., 0., 0., 0., 0., 0., 0., 0., 0., 0.]])"
      ]
     },
     "execution_count": 365,
     "metadata": {},
     "output_type": "execute_result"
    }
   ],
   "source": [
    "# 2.\n",
    "def renglones_2(x, y, impar=True):\n",
    "    array = np.zeros((x, y))\n",
    "    array[impar::2] = 1\n",
    "    return array\n",
    "\n",
    "renglones_2(10, 12, impar = False)"
   ]
  },
  {
   "cell_type": "code",
   "execution_count": 521,
   "metadata": {},
   "outputs": [
    {
     "data": {
      "text/plain": [
       "array([[0., 0., 0., 0., 0., 0., 0., 0.],\n",
       "       [0., 1., 1., 1., 1., 1., 1., 0.],\n",
       "       [0., 1., 0., 0., 0., 0., 1., 0.],\n",
       "       [0., 1., 0., 1., 1., 0., 1., 0.],\n",
       "       [0., 1., 0., 1., 1., 0., 1., 0.],\n",
       "       [0., 1., 0., 0., 0., 0., 1., 0.],\n",
       "       [0., 1., 1., 1., 1., 1., 1., 0.],\n",
       "       [0., 0., 0., 0., 0., 0., 0., 0.]])"
      ]
     },
     "execution_count": 521,
     "metadata": {},
     "output_type": "execute_result"
    }
   ],
   "source": [
    "# 3.\n",
    "def rectangulo(x, impar):\n",
    "    \n",
    "    array = np.zeros((x, x))\n",
    "\n",
    "    for i in range(impar, int(array.shape[1]/2)+1, 2):    \n",
    "        array[array.shape[1]-1-i, i:array.shape[0]-i:] = 1\n",
    "        array[i, i:array.shape[0]-i:] = 1\n",
    "        array[i:array.shape[0]-i:, i] = 1\n",
    "        array[i:array.shape[0]-i:, array.shape[0]-1-i] = 1\n",
    "\n",
    "    return array\n",
    "\n",
    "rectangulo(8, True)"
   ]
  }
 ],
 "metadata": {
  "kernelspec": {
   "display_name": "Python 3",
   "language": "python",
   "name": "python3"
  },
  "language_info": {
   "codemirror_mode": {
    "name": "ipython",
    "version": 3
   },
   "file_extension": ".py",
   "mimetype": "text/x-python",
   "name": "python",
   "nbconvert_exporter": "python",
   "pygments_lexer": "ipython3",
   "version": "3.8.3"
  }
 },
 "nbformat": 4,
 "nbformat_minor": 4
}
