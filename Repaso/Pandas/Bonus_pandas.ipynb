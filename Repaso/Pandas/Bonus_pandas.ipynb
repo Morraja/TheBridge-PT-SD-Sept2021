{
 "cells": [
  {
   "cell_type": "code",
   "execution_count": 257,
   "metadata": {},
   "outputs": [],
   "source": [
    "# Bonus de Pandas\n"
   ]
  },
  {
   "cell_type": "code",
   "execution_count": 258,
   "metadata": {},
   "outputs": [],
   "source": [
    "# 1. importa pandas y numpy"
   ]
  },
  {
   "cell_type": "code",
   "execution_count": null,
   "metadata": {},
   "outputs": [],
   "source": []
  },
  {
   "cell_type": "code",
   "execution_count": 259,
   "metadata": {},
   "outputs": [],
   "source": [
    "# 2. Crea un DataFrame df con las columnas 'Col1': [1,2,3,4,5,6,7,8] y 'Col2': [-2,4,-6,8,1,2,3,4]"
   ]
  },
  {
   "cell_type": "code",
   "execution_count": null,
   "metadata": {},
   "outputs": [],
   "source": []
  },
  {
   "cell_type": "code",
   "execution_count": null,
   "metadata": {},
   "outputs": [],
   "source": []
  },
  {
   "cell_type": "code",
   "execution_count": 260,
   "metadata": {},
   "outputs": [],
   "source": [
    "# 3. añade una columna 'Col3' con [8,7,6,5,4,5,2,3]"
   ]
  },
  {
   "cell_type": "code",
   "execution_count": null,
   "metadata": {},
   "outputs": [],
   "source": []
  },
  {
   "cell_type": "code",
   "execution_count": null,
   "metadata": {},
   "outputs": [],
   "source": []
  },
  {
   "cell_type": "code",
   "execution_count": 261,
   "metadata": {},
   "outputs": [],
   "source": [
    "# 4. Selecciona solo 'Col2', ¿de qué tipo es?"
   ]
  },
  {
   "cell_type": "code",
   "execution_count": null,
   "metadata": {},
   "outputs": [],
   "source": []
  },
  {
   "cell_type": "code",
   "execution_count": null,
   "metadata": {},
   "outputs": [],
   "source": []
  },
  {
   "cell_type": "code",
   "execution_count": 262,
   "metadata": {},
   "outputs": [],
   "source": [
    "# 5. Selecciona 'Col1' y 'Col3'"
   ]
  },
  {
   "cell_type": "code",
   "execution_count": null,
   "metadata": {},
   "outputs": [],
   "source": []
  },
  {
   "cell_type": "code",
   "execution_count": null,
   "metadata": {},
   "outputs": [],
   "source": []
  },
  {
   "cell_type": "code",
   "execution_count": 263,
   "metadata": {},
   "outputs": [],
   "source": [
    "# 6. Selecciona todas las filas donde Col1 sea mayor de 2 y Col3 mayor de 2 también"
   ]
  },
  {
   "cell_type": "code",
   "execution_count": null,
   "metadata": {},
   "outputs": [],
   "source": []
  },
  {
   "cell_type": "code",
   "execution_count": null,
   "metadata": {},
   "outputs": [],
   "source": []
  },
  {
   "cell_type": "code",
   "execution_count": null,
   "metadata": {},
   "outputs": [],
   "source": []
  },
  {
   "cell_type": "code",
   "execution_count": 264,
   "metadata": {},
   "outputs": [],
   "source": [
    "# 7. Selecciona las filas donde 'Col1' es >2 y 'Col3' > 2 y asígnalo a la variable df_mayor_de_dos"
   ]
  },
  {
   "cell_type": "code",
   "execution_count": null,
   "metadata": {},
   "outputs": [],
   "source": []
  },
  {
   "cell_type": "code",
   "execution_count": 265,
   "metadata": {},
   "outputs": [],
   "source": [
    "# 8. Si seleccionamos parte o un DataFrame entero\n",
    "# dependiendo de si hay distintos tipos de datos en el trozo leído\n",
    "# o si son del mismo tipo y de si las nuevas escrituras son del mismo\n",
    "# tipo que el anterior o de un nuevo tipo,\n",
    "# se trabaja con referencias o con copias\n",
    "# Pista: \n",
    "# df.is_copy() --> True/False\n",
    "# df._is_view() --> True/False"
   ]
  },
  {
   "cell_type": "code",
   "execution_count": 266,
   "metadata": {},
   "outputs": [],
   "source": [
    "# 9. Si quieres poner en una variable un DataFrame DISTINTO y no un \"enlace\" a otro, hay que usar copy()"
   ]
  },
  {
   "cell_type": "code",
   "execution_count": null,
   "metadata": {},
   "outputs": [],
   "source": []
  },
  {
   "cell_type": "code",
   "execution_count": 268,
   "metadata": {},
   "outputs": [],
   "source": [
    "# 10. Vamos a afianzar LOC e ILOC"
   ]
  },
  {
   "cell_type": "code",
   "execution_count": 269,
   "metadata": {},
   "outputs": [],
   "source": [
    "# En numpy se accede a las filas y columnas directamente"
   ]
  },
  {
   "cell_type": "code",
   "execution_count": null,
   "metadata": {},
   "outputs": [],
   "source": []
  },
  {
   "cell_type": "code",
   "execution_count": 270,
   "metadata": {},
   "outputs": [],
   "source": [
    "# seleccionamos la fila 2 y la columna 2\n"
   ]
  },
  {
   "cell_type": "code",
   "execution_count": 271,
   "metadata": {},
   "outputs": [],
   "source": [
    "# En un DataFrame tenemos índices (filas) y columnas\n",
    "# En un DataFrame usamos SIEMPRE loc o iloc para acceder a las filas y columas"
   ]
  },
  {
   "cell_type": "code",
   "execution_count": 272,
   "metadata": {},
   "outputs": [],
   "source": [
    "# 11. ILOC es con i de integer, usa NÚMEROS. df.iloc[número_de_fila, número_de_columna]\n",
    "# En iloc se ponen NÚMEROS, y si se puede, se cogen esas filas y columnas"
   ]
  },
  {
   "cell_type": "code",
   "execution_count": null,
   "metadata": {},
   "outputs": [],
   "source": []
  },
  {
   "cell_type": "code",
   "execution_count": 273,
   "metadata": {},
   "outputs": [],
   "source": [
    "# Usando df_mayor_de_dos selecciona las tres primeras filas y las columnas segunda, tercera, cuarta y quinta\n",
    "# los números para filas/columnas empiezan en 0 y es primero_que_coges:primero_que_NO_coges"
   ]
  },
  {
   "cell_type": "code",
   "execution_count": null,
   "metadata": {},
   "outputs": [],
   "source": []
  },
  {
   "cell_type": "code",
   "execution_count": 274,
   "metadata": {},
   "outputs": [],
   "source": [
    "# vemos que los números de ILOC es nuestra cuenta en el DataFrame, NO SON ni los índices ni las columnas.\n",
    "# Ejemplo: si una columna se llama '7', NO tiene que ver con nuestra cuenta. Una columna llamada '7' puede ser la primera columna\n",
    "# y una fila con índice '8' puede ser mi primera fila del DataFrame. ¡ES MUY IMPORTANTE!"
   ]
  },
  {
   "cell_type": "code",
   "execution_count": 275,
   "metadata": {},
   "outputs": [],
   "source": [
    "# LOC nos sirve para seleccionar filas/columnas con SU NOMBRE de índice y de columna\n",
    "# "
   ]
  },
  {
   "cell_type": "code",
   "execution_count": null,
   "metadata": {},
   "outputs": [],
   "source": []
  },
  {
   "cell_type": "code",
   "execution_count": 276,
   "metadata": {},
   "outputs": [],
   "source": [
    "# El nombre de las columnas son strings, tienen que existir. Un string que no exista te dará un error"
   ]
  },
  {
   "cell_type": "code",
   "execution_count": 277,
   "metadata": {},
   "outputs": [],
   "source": [
    "# Los índices son números, puedes intentar que los busque y si no existen, no pasa nada "
   ]
  },
  {
   "cell_type": "code",
   "execution_count": 278,
   "metadata": {},
   "outputs": [],
   "source": [
    "\n",
    "# 0:10 --> coge los que puedas\n",
    "# ['Col2', 'Col3'] --> strings que existan"
   ]
  },
  {
   "cell_type": "code",
   "execution_count": 279,
   "metadata": {},
   "outputs": [],
   "source": [
    "# 12. Incluye una columna 'Col4' con ['buenos','días', '¿qué', 'tal', 'estás?']"
   ]
  },
  {
   "cell_type": "code",
   "execution_count": null,
   "metadata": {},
   "outputs": [],
   "source": []
  },
  {
   "cell_type": "code",
   "execution_count": 280,
   "metadata": {},
   "outputs": [],
   "source": [
    "# Warning: estás intentando cambiar un valor en un trozo pequeño de DataFrame que viene de un DataFrame grande\n",
    "# Lo cambia en el pequeño\n"
   ]
  },
  {
   "cell_type": "code",
   "execution_count": null,
   "metadata": {},
   "outputs": [],
   "source": []
  },
  {
   "cell_type": "code",
   "execution_count": 281,
   "metadata": {},
   "outputs": [],
   "source": [
    "# si quiero evitar el Warning, o hago una copia y \"rompo\" el enlace al que apunta (del trozo de DataFrame pequeño al DataFrame grande)\n",
    "# o lo cambio en el grande (y se vería el cambio en el trozo pequeño) "
   ]
  },
  {
   "cell_type": "code",
   "execution_count": 282,
   "metadata": {},
   "outputs": [],
   "source": [
    "# 13. Quiero usar 'Col4' como índices de df_mayor_de_dos"
   ]
  },
  {
   "cell_type": "code",
   "execution_count": null,
   "metadata": {},
   "outputs": [],
   "source": []
  },
  {
   "cell_type": "code",
   "execution_count": null,
   "metadata": {},
   "outputs": [],
   "source": []
  },
  {
   "cell_type": "code",
   "execution_count": 283,
   "metadata": {},
   "outputs": [],
   "source": [
    "# ¡No ha cambiado! Me ha enseñado cómo quedaría, TENGO que igualarlo en la variable para cambiarlo"
   ]
  },
  {
   "cell_type": "code",
   "execution_count": null,
   "metadata": {},
   "outputs": [],
   "source": []
  },
  {
   "cell_type": "code",
   "execution_count": 284,
   "metadata": {},
   "outputs": [],
   "source": [
    "# ¡Cambiado!"
   ]
  },
  {
   "cell_type": "code",
   "execution_count": 285,
   "metadata": {},
   "outputs": [],
   "source": [
    "# uso LOC para coger 'días', '¿qué', 'estás?' y 'Col1', 'Col3'"
   ]
  },
  {
   "cell_type": "code",
   "execution_count": null,
   "metadata": {},
   "outputs": [],
   "source": []
  },
  {
   "cell_type": "code",
   "execution_count": null,
   "metadata": {},
   "outputs": [],
   "source": []
  },
  {
   "cell_type": "code",
   "execution_count": 286,
   "metadata": {},
   "outputs": [],
   "source": [
    "# Selecciono lo mismo con ILOC"
   ]
  },
  {
   "cell_type": "code",
   "execution_count": null,
   "metadata": {},
   "outputs": [],
   "source": []
  },
  {
   "cell_type": "code",
   "execution_count": 287,
   "metadata": {},
   "outputs": [],
   "source": [
    "# 14. Vamos a borrar una columa, 'Col2'\n"
   ]
  },
  {
   "cell_type": "code",
   "execution_count": null,
   "metadata": {},
   "outputs": [],
   "source": []
  },
  {
   "cell_type": "code",
   "execution_count": null,
   "metadata": {},
   "outputs": [],
   "source": []
  },
  {
   "cell_type": "code",
   "execution_count": null,
   "metadata": {},
   "outputs": [],
   "source": []
  },
  {
   "cell_type": "code",
   "execution_count": null,
   "metadata": {},
   "outputs": [],
   "source": []
  },
  {
   "cell_type": "code",
   "execution_count": null,
   "metadata": {},
   "outputs": [],
   "source": [
    "\n"
   ]
  },
  {
   "cell_type": "code",
   "execution_count": null,
   "metadata": {},
   "outputs": [],
   "source": []
  },
  {
   "cell_type": "code",
   "execution_count": 288,
   "metadata": {},
   "outputs": [],
   "source": [
    "# Tanto drop como set_index NECESITAN que los iguale a la variable o usar el argumento INPLACE = True dentro del método\n",
    "# DROP borra y no es reversible, es una forma de asegurarse de que lo quieres borrar\n",
    "# SET_INDEX borra los índices anteriores y es irreversible, es una forma de asegurarse de que lo quieres borrar"
   ]
  },
  {
   "cell_type": "markdown",
   "metadata": {},
   "source": [
    "### Resumen"
   ]
  },
  {
   "cell_type": "markdown",
   "metadata": {},
   "source": [
    "* en numpy se accede directamente a las filas y columnas: np_array[2:4,6:8]\n",
    "\n",
    "* en pandas se accede directamente a columnas: mi_df[['col1', 'col2', 'col3']]\n",
    "\n",
    "* en pandas para acceder a filas y columnas se usa LOC o ILOC\n",
    "\n",
    "* ILOC: numeras las filas y columnas SIN MIRAR el nombre de columnas e índices. Si es numérico intenta cogerlo si existe, string tiene que existir.\n",
    "\n",
    "* LOC: filas y columnas por su nombre. Si es numérico intenta cogerlo si existe, string tiene que existir.\n",
    "\n",
    "* LOC/ILOC cogen trozos de DataFrame. Si cambio el original grande, cambia en el trozo también\n",
    "\n",
    "* Para trabajar con OTRO DataFrame se usa copy():   me_refiero_al_mismo = df    soy_otro_nuevo = df.copy()\n",
    "\n",
    "* Para seleccionar filas que cumplan condiciones en columnas:  df[(df['Col1'] > 2) & (df['Col3'] > 5)] NO AND/OR SÍ &/|\n",
    "\n",
    "* Para añadir una columna: df['nueva_col']=[1,2,3,4]\n",
    "\n",
    "* Para borrar una columna: df = df.drop(...) IGUALO o df.drop(..., inplace = True), tengo que CONFIRMAR porque se va a BORRAR\n",
    "\n",
    "* Para cambiar los índices por los valores de una columna: df = df.set_index('Col1') o df.set_index(..., inplace = True), tengo que CONFIRMAR porque se va a BORRAR"
   ]
  }
 ],
 "metadata": {
  "kernelspec": {
   "display_name": "Python 3",
   "language": "python",
   "name": "python3"
  },
  "language_info": {
   "codemirror_mode": {
    "name": "ipython",
    "version": 3
   },
   "file_extension": ".py",
   "mimetype": "text/x-python",
   "name": "python",
   "nbconvert_exporter": "python",
   "pygments_lexer": "ipython3",
   "version": "3.8.3"
  }
 },
 "nbformat": 4,
 "nbformat_minor": 4
}
