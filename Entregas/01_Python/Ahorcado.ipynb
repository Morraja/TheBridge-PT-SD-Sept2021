{
 "cells": [
  {
   "cell_type": "markdown",
   "metadata": {},
   "source": [
    "# Ejercicio entregable Repaso: Ahorcado\n",
    "\n",
    "###### Fecha de entrega: cuando queráis, pero hacedlo para practicar y subidlo al Google Classroom\n",
    "\n",
    "### Contenido básico"
   ]
  },
  {
   "cell_type": "markdown",
   "metadata": {},
   "source": [
    "En este ejercicio, vamos a replicar el juego del ahorcado. Para ello, nos basaremos en una estructura de menús como hemos visto en algún notebook pasado, donde tendrá que imprimirse por pantalla una serie de opciones y esperar por el usuario para que introduzca algún texto en concreto para realizar cierta acción.\n",
    "\n",
    "Como no todos podemos invertir el mismo tiempo para la realización del ejercicio, os propondré un ejercicio base, y una serie de mejoras opcionales. Sin embargo, si tienes otro tipo de planteamiento para este ejercicio que sea más completo, te doy total libertad. Por ejemplo, podrías adaptarlo para que fuera como un concurso de preguntas con la base del ahorcado, de modo que imprimieras una pregunta para resolver y los \"\\_\" de la respuesta, descubriendo aquellos \"\\_\" que fuera adivinando.\n",
    "\n",
    "### Menú\n",
    "\n",
    "En el caso básico, el menú será el siguiente:\n",
    "1. Nueva partida\n",
    "2. Salir"
   ]
  },
  {
   "cell_type": "markdown",
   "metadata": {},
   "source": [
    "### Estados\n",
    "\n",
    "¿Qué significa cada estado?\n",
    "  - Nueva Partida: Se inicia el juego. \n",
    "  \n",
    "  Se escogerá una palabra aleatoria de un conjunto de ellas (que podrán estar generadas de manera manual como variable dentro de este notebook, o definidas en un .py aparte que importemos, o en un fichero). Tendrá que realizarse un bucle en el cual se impriman por pantalla tantos \"\\_\" como letras tenga la palabra, y se espere la respuesta del usuario. También deberá haber un contador de las vidas del jugador, que empezará en 7.\n",
    "  \n",
    "  En cada iteración, el jugador introducirá una letra. Tendremos que comprobar si la letra está en la palabra. Si está, imprimimos por pantalla lo que estábamos imprimiendo antes pero sustituyendo los \"\\_\" por las letras que ha acertado. Si no está, deberemos imprimir un mensaje que diga que se ha equivocado, restarle una vida y volver a imprmir por pantalla el último estado de la palabra. Se deberá repetir esto hasta que se descubra la palabra o se quede sin vidas. En ambos casos se tendrá que imprimir un mensaje de felicitación o de lamento, respectivamente, y se volverá al menú principal, donde podrá elegir entre \"Nueva Partida\" o \"Salir\".\n",
    "  \n",
    "  Además, si en una iteración el jugador nos dice la respuesta directa, tendremos que comprobar si ha acertado. En caso afirmativo, haremos igual que antes: mensaje de victoria y volvemos al menú principal. En caso de fallo, perderá una vida y seguiremos jugando (si le quedan vidas).\n",
    "  \n",
    "  - Salir: Se termina la ejecución del programa"
   ]
  },
  {
   "cell_type": "markdown",
   "metadata": {},
   "source": [
    "## Mejoras\n",
    "\n",
    "El ejercicio anterior es completo pero lo podemos mejorar añadiendo funcionalidad. Por ello, se sugieren posibles mejoras:\n",
    "\n",
    "#### 1. Añade información de las vidas:\n",
    "\n",
    "  En cada iteración, además de la palabra oculta, puedes imprimir el número de vidas restantes que le quedan al jugador, y que quede algo como:\n",
    "  \n",
    "  ```\n",
    "  _ A _ A _ _                     Vidas restantes: 3\n",
    "  ```\n",
    "  \n",
    "\n",
    "#### 2. Añade puntuación al juego:\n",
    "\n",
    "  Lleva un contador de puntos que vaya sumando las vidas restantes cuando se acierte la palabra, y que se resetee a 0 cuando pierde una partida. En el mensaje de victoria (al acertar una palabra), imprime tambien cuántos puntos lleva.\n",
    "  \n",
    "#### 3. Top mejores\n",
    "\n",
    "  Si has hecho la mejora anterior, ahora  puedes guardar esa puntuación. Cuando se acierta una palabra, se imprime un mensaje de victoria y se vuelve al menú principal. Ahora tienes que cambiar eso. Cuando ganas, en vez del volver al menú principal, deberás preguntarle al jugador si quiere seguir jugando o quiere terminar la partida\n",
    "  \n",
    "    - Si dice que quiere seguir jugando, se escoge otra palabra y se continúa el juego directamente, manteniendo la puntuación que tenía acumulada (es decir, la puntuación con la que había empezado esa palabra más las vidas restantes al adivinarla).\n",
    "    \n",
    "    - Si dice que no quiere seguir, o si no es capaz de acertar la palabra actual, se termina la partida. En este caso, debes pedirle que introduzca 4 caracteres, que se utilizarán para llevar un seguimiento de las puntuaciones. Deberás almacenar de alguna forma (por ejemplo, guardando en un fichero) lo siguiente:\n",
    "    \n",
    "      - Identificador del jugador: los 4 caracteres que le has pedido\n",
    "      - Puntuación: los puntos que ha acumulado hasta ese momento\n",
    "      - Fecha: hemos visto cómo podemos hacerlo en el notebook en el que llevábamos un top de puntuaciones, como esta\n",
    "      \n",
    "      [Opcionales: estos sonpor si te aburres mucho]\n",
    "      - Nº de Partidas: para esto, necesitarás llevar otro contador\n",
    "      - Letras_usuario: Diccionario con las letras que ha dicho el jugador y cuántas veces las ha dicho\n",
    "      - Letras_palabras: Diccionario con las letras (que se han descubierto) de las palabras que han aparecido y cuántas veces han aparecido\n",
    "      \n",
    "##### Aclaración Letras_usuario y Letras_palabras\n",
    "      Por ejemplo, imagina que ha jugado 2 veces, siendo la primera paralabra AGUA y la segunda GOL. Las jugadas del usuario son:\n",
    "      1. \"A\" --> A _ _ A\n",
    "      2. \"P\" --> A _ _ A\n",
    "      3. \"G\" --> A G _ A\n",
    "      4. \"U\" --> A G U A\n",
    "        En este punto, las variables serían:\n",
    "            Letras_usuario: {\"A\": 1, \"P\": 1, \"G\": 1, \"U\": 1}\n",
    "            Letras_palabras: {\"A\": 2, \"G\": 1, \"U\": 1}\n",
    "        Sigueinte palabra:\n",
    "      1. \"Z\" --> _ _ _\n",
    "      2. \"O\" --> _ O _\n",
    "      3. \"Q\" --> _ O _\n",
    "      4. \"T\" --> _ O _\n",
    "      5. \"P\" --> _ O _\n",
    "      6. \"A\" --> _ O _\n",
    "      7. \"U\" --> _ O _\n",
    "      8. \"I\" --> _ O _\n",
    "         El jugador pierde. En este punto, las variables serían:\n",
    "            Letras_usuario: {\"A\": 2, \"P\": 2, \"G\": 1, \"U\": 2, \"O\":1, \"Q\":1, \"T\": 1, \"I\": 1}\n",
    "            Letras_palabras: {\"A\": 2, \"G\": 1, \"U\": 1, \"O\": 1}\n",
    "           \n",
    "  Una vez tengas esto, añade una opción más al menú principal que se llame \"Top 10\". Al acceder a esta opción, se deberán imprimir por pantalla las 10 mayores puntuaciones conseguidas (leyéndolas del fichero o sitio donde las hayas guardado). Imprime también un par de saltos de línea y de nuevo el menú principal.\n",
    "  \n",
    "#### 4. Elección de temática\n",
    "\n",
    "  Añade la opción de que el usuario pueda elegir la temática de las palabras que va a adivinar. Para ello, las palabras que tienes que tener almacenadas deberán estar agrupadas por temática. Este grupo lo decides tú, tú podrás poner tantas temáticas como te apetezcan (ya sea teniendo un csv con las columnas palabra y temática; o tantos ficheros como temáticas; o un diccionario en un script aparte con la temática como clave y las palabras como valor; o una función que tenga almacenadas palabras y que tú le pases el nombre de una temática y que te devuelva aleatoriamente una palabra de ellas... Hay muchas posibilidades).\n",
    "  \n",
    "  En cuanto a cómo se presenta esto al jugador, es bastante libre. Podrás elegir si presentárselo como que te elija la temática al principio y solo juegue con palabras de esa temática, o que elija la temática cada vez que se le presenta una palabra nueva o, y esta creo que puede ser la más interesante, que se seleccione aleatoriamente cada palabra (como se estaba haceindo hasta ahora) pero que al comienzo del juego con esa palabra se imprima de qué temática es (podría ser mejor aún si cada vez que imprimes el estado de la palabra, es decir, cuando imprimes los guiones y letras acertados, imprimes las vidas restantes y la temática de esa palabra).\n"
   ]
  },
  {
   "cell_type": "markdown",
   "metadata": {},
   "source": []
  },
  {
   "cell_type": "code",
   "execution_count": null,
   "metadata": {},
   "outputs": [],
   "source": []
  }
 ],
 "metadata": {
  "kernelspec": {
   "display_name": "Python 3",
   "language": "python",
   "name": "python3"
  },
  "language_info": {
   "codemirror_mode": {
    "name": "ipython",
    "version": 3
   },
   "file_extension": ".py",
   "mimetype": "text/x-python",
   "name": "python",
   "nbconvert_exporter": "python",
   "pygments_lexer": "ipython3",
   "version": "3.8.3"
  }
 },
 "nbformat": 4,
 "nbformat_minor": 4
}
