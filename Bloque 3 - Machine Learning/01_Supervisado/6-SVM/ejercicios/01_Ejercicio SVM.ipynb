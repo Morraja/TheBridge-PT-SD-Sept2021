{
 "cells": [
  {
   "cell_type": "markdown",
   "metadata": {
    "id": "783FA049nkYX"
   },
   "source": [
    "# Ejercicio Support Vector Machines"
   ]
  },
  {
   "cell_type": "markdown",
   "metadata": {
    "id": "ki49rbd2nkYZ"
   },
   "source": [
    "En este ejercicio, usaremos SVM para crear un clasificador de spam. A continuación, trabajaremos sobre un conjunto de mails sin procesar y crearemos un clasificador en los correos electrónicos procesados utilizando un SVM para determinar si son spam o no."
   ]
  },
  {
   "cell_type": "markdown",
   "metadata": {
    "id": "0doqgOa9nkYZ"
   },
   "source": [
    "Lo primero que vamos a hacer es mirar un conjunto de datos y ver cómo funciona una SVM lineal en el conjunto de datos para diferentes valores de C (que es similar al término de regularización en regresión lineal/logística).\n",
    "\n",
    "### EJERCICIOS\n",
    "\n",
    "#### 1. Carga las librerías"
   ]
  },
  {
   "cell_type": "code",
   "execution_count": 6,
   "metadata": {},
   "outputs": [],
   "source": [
    "# Esta librería la utilizaremos para leer los datos esta vez, pero el resto tendrás que ponerlas tú:\n",
    "from scipy.io import loadmat\n",
    "\n"
   ]
  },
  {
   "cell_type": "markdown",
   "metadata": {},
   "source": [
    "#### 2. Cargamos los datos"
   ]
  },
  {
   "cell_type": "code",
   "execution_count": 7,
   "metadata": {
    "collapsed": true,
    "jupyter": {
     "outputs_hidden": true
    }
   },
   "outputs": [
    {
     "data": {
      "text/plain": [
       "{'__header__': b'MATLAB 5.0 MAT-file, Platform: GLNXA64, Created on: Sun Nov 13 14:28:43 2011',\n",
       " '__version__': '1.0',\n",
       " '__globals__': [],\n",
       " 'X': array([[1.9643  , 4.5957  ],\n",
       "        [2.2753  , 3.8589  ],\n",
       "        [2.9781  , 4.5651  ],\n",
       "        [2.932   , 3.5519  ],\n",
       "        [3.5772  , 2.856   ],\n",
       "        [4.015   , 3.1937  ],\n",
       "        [3.3814  , 3.4291  ],\n",
       "        [3.9113  , 4.1761  ],\n",
       "        [2.7822  , 4.0431  ],\n",
       "        [2.5518  , 4.6162  ],\n",
       "        [3.3698  , 3.9101  ],\n",
       "        [3.1048  , 3.0709  ],\n",
       "        [1.9182  , 4.0534  ],\n",
       "        [2.2638  , 4.3706  ],\n",
       "        [2.6555  , 3.5008  ],\n",
       "        [3.1855  , 4.2888  ],\n",
       "        [3.6579  , 3.8692  ],\n",
       "        [3.9113  , 3.4291  ],\n",
       "        [3.6002  , 3.1221  ],\n",
       "        [3.0357  , 3.3165  ],\n",
       "        [1.5841  , 3.3575  ],\n",
       "        [2.0103  , 3.2039  ],\n",
       "        [1.9527  , 2.7843  ],\n",
       "        [2.2753  , 2.7127  ],\n",
       "        [2.3099  , 2.9584  ],\n",
       "        [2.8283  , 2.6309  ],\n",
       "        [3.0473  , 2.2931  ],\n",
       "        [2.4827  , 2.0373  ],\n",
       "        [2.5057  , 2.3853  ],\n",
       "        [1.8721  , 2.0577  ],\n",
       "        [2.0103  , 2.3546  ],\n",
       "        [1.2269  , 2.3239  ],\n",
       "        [1.8951  , 2.9174  ],\n",
       "        [1.561   , 3.0709  ],\n",
       "        [1.5495  , 2.6923  ],\n",
       "        [1.6878  , 2.4057  ],\n",
       "        [1.4919  , 2.0271  ],\n",
       "        [0.962   , 2.682   ],\n",
       "        [1.1693  , 2.9276  ],\n",
       "        [0.8122  , 2.9992  ],\n",
       "        [0.9735  , 3.3881  ],\n",
       "        [1.25    , 3.1937  ],\n",
       "        [1.3191  , 3.5109  ],\n",
       "        [2.2292  , 2.201   ],\n",
       "        [2.4482  , 2.6411  ],\n",
       "        [2.7938  , 1.9656  ],\n",
       "        [2.091   , 1.6177  ],\n",
       "        [2.5403  , 2.8867  ],\n",
       "        [0.9044  , 3.0198  ],\n",
       "        [0.76615 , 2.5899  ],\n",
       "        [0.086405, 4.1045  ]]),\n",
       " 'y': array([[1],\n",
       "        [1],\n",
       "        [1],\n",
       "        [1],\n",
       "        [1],\n",
       "        [1],\n",
       "        [1],\n",
       "        [1],\n",
       "        [1],\n",
       "        [1],\n",
       "        [1],\n",
       "        [1],\n",
       "        [1],\n",
       "        [1],\n",
       "        [1],\n",
       "        [1],\n",
       "        [1],\n",
       "        [1],\n",
       "        [1],\n",
       "        [1],\n",
       "        [0],\n",
       "        [0],\n",
       "        [0],\n",
       "        [0],\n",
       "        [0],\n",
       "        [0],\n",
       "        [0],\n",
       "        [0],\n",
       "        [0],\n",
       "        [0],\n",
       "        [0],\n",
       "        [0],\n",
       "        [0],\n",
       "        [0],\n",
       "        [0],\n",
       "        [0],\n",
       "        [0],\n",
       "        [0],\n",
       "        [0],\n",
       "        [0],\n",
       "        [0],\n",
       "        [0],\n",
       "        [0],\n",
       "        [0],\n",
       "        [0],\n",
       "        [0],\n",
       "        [0],\n",
       "        [0],\n",
       "        [0],\n",
       "        [0],\n",
       "        [1]], dtype=uint8)}"
      ]
     },
     "execution_count": 7,
     "metadata": {},
     "output_type": "execute_result"
    }
   ],
   "source": [
    "raw_data = loadmat('data/ejer_1_data1.mat')\n",
    "raw_data"
   ]
  },
  {
   "cell_type": "markdown",
   "metadata": {},
   "source": [
    "#### 3. Crea un DataFrame con las features y el target"
   ]
  },
  {
   "cell_type": "code",
   "execution_count": null,
   "metadata": {},
   "outputs": [],
   "source": []
  },
  {
   "cell_type": "markdown",
   "metadata": {},
   "source": [
    "#### 4. Representa los datos en un gráfico de dispersión"
   ]
  },
  {
   "cell_type": "code",
   "execution_count": null,
   "metadata": {},
   "outputs": [],
   "source": []
  },
  {
   "cell_type": "markdown",
   "metadata": {
    "id": "IXSH26wgnkYj"
   },
   "source": [
    "Fíjate que hay un ejemplo positivo atípico que se sienta aparte de los demás.  Las clases siguen siendo linealmente separables, pero es un ajuste muy \"ajustado\".  Vamos a entrenar un SVM lineal para aprender el límite de clase.\n",
    "\n",
    "#### 5. LinearSVC\n",
    "Créate un SVC lineal con los siguientes parámetros:\n",
    "\n",
    "```Python\n",
    "LinearSVC(C=1, loss='hinge', max_iter=10000)\n",
    "```"
   ]
  },
  {
   "cell_type": "code",
   "execution_count": null,
   "metadata": {
    "id": "t2--LYi4nkYj",
    "outputId": "d54f4cbd-ad01-4af2-f647-91e0717298c0"
   },
   "outputs": [],
   "source": []
  },
  {
   "cell_type": "markdown",
   "metadata": {
    "id": "E3AVSx6DnkYn"
   },
   "source": [
    "#### 6. Calcula el score\n",
    "\n",
    "Para la primera ejecución, vamos a usar C=1:"
   ]
  },
  {
   "cell_type": "code",
   "execution_count": null,
   "metadata": {
    "id": "SQDBok7unkYn",
    "outputId": "3608331e-6b2b-4dc8-aad8-783cc69d9278"
   },
   "outputs": [],
   "source": []
  },
  {
   "cell_type": "markdown",
   "metadata": {
    "id": "F1-d95TbnkYq"
   },
   "source": [
    "#### 7. Incrementa el valor de C hasta que obtengas un clasificador perfecto"
   ]
  },
  {
   "cell_type": "code",
   "execution_count": null,
   "metadata": {
    "id": "mQ-6OAJwnkYq",
    "outputId": "6ad81a68-b9b3-4960-8604-b532e1f5726e"
   },
   "outputs": [],
   "source": []
  },
  {
   "cell_type": "markdown",
   "metadata": {
    "id": "JNHkUq0MnkYt"
   },
   "source": [
    "Hemos conseguido una clasificación perfecta en entrenamimento, sin embargo, al aumentar el valor de C podemos crear un límite de decisión que ya no es un ajuste natural para los datos, sino que será un modelo más generalizado. Podemos visualizar esto mirando el nivel de confianza para cada predicción de clase, que es una función de la distancia del punto desde el hiperplano, la cuál podemos calcular con la función ``decision_function()``.\n",
    "\n",
    "\n",
    "#### 8. Representa la función de decisión\n",
    "\n",
    "Utiliza el método `decision_function()` del modelo SVM que te has creado en el ejercicio 5.\n",
    "\n",
    "Para obtener el nivel de confianza, puedes utilizar el siguiente comando:\n",
    "```Python\n",
    "conf_level = svc.decision_function(data[['X1', 'X2']])\n",
    "```"
   ]
  },
  {
   "cell_type": "code",
   "execution_count": null,
   "metadata": {},
   "outputs": [],
   "source": []
  },
  {
   "cell_type": "markdown",
   "metadata": {
    "id": "V8ixVkZ9nkYt",
    "outputId": "afe9f1f0-32df-4bab-b782-519c839a99e5"
   },
   "source": [
    "#### 9. Repite lo mismo con el segundo modelo"
   ]
  },
  {
   "cell_type": "code",
   "execution_count": null,
   "metadata": {},
   "outputs": [],
   "source": []
  },
  {
   "cell_type": "markdown",
   "metadata": {
    "id": "DMvQlK0wnkY4"
   },
   "source": [
    "### Ejercicio 2\n",
    "\n",
    "Ahora que ya hemos probado el SVM lineal, es hora de dar un paso más. Vamos a ir con la versión no lneal. Para ello, podemos utilizar los diferentes kernels que hemos comentado en clase:"
   ]
  },
  {
   "cell_type": "markdown",
   "metadata": {},
   "source": [
    "#### 1. Carga los datos de `ejer_1_data2.mat` al igual que se hizo en el primer ejercicio"
   ]
  },
  {
   "cell_type": "code",
   "execution_count": null,
   "metadata": {},
   "outputs": [],
   "source": []
  },
  {
   "cell_type": "markdown",
   "metadata": {},
   "source": [
    "#### 2. Crea un DataFrame con las features y el target"
   ]
  },
  {
   "cell_type": "code",
   "execution_count": null,
   "metadata": {},
   "outputs": [],
   "source": []
  },
  {
   "cell_type": "markdown",
   "metadata": {},
   "source": [
    "#### 3. Representa los datos en un gráfico de dispersión"
   ]
  },
  {
   "cell_type": "code",
   "execution_count": null,
   "metadata": {},
   "outputs": [],
   "source": []
  },
  {
   "cell_type": "markdown",
   "metadata": {
    "id": "LIRNjrjwnkY7"
   },
   "source": [
    "Para este conjunto de datos, crearemos un clasificador SVM utilizando el kernel RBF (que es el que nos ofrece la función por defecto) y examinaremos su precisión en los datos de entrenamiento."
   ]
  },
  {
   "cell_type": "markdown",
   "metadata": {},
   "source": [
    "#### 4. Crea un modelo SVC con los siguientes parámetros\n",
    "```Python\n",
    "SVC(C=100, gamma=10, probability=True)\n",
    "```\n"
   ]
  },
  {
   "cell_type": "code",
   "execution_count": null,
   "metadata": {
    "id": "2xgM0K5bnkY8",
    "outputId": "f14680f4-6460-4e16-bbeb-f360feddc862"
   },
   "outputs": [],
   "source": []
  },
  {
   "cell_type": "markdown",
   "metadata": {},
   "source": [
    "#### 5. Entrena el modelo y calcula es score"
   ]
  },
  {
   "cell_type": "code",
   "execution_count": null,
   "metadata": {
    "id": "3hfAwRoDnkY_",
    "outputId": "3f48d1f3-4d49-487a-f231-04e8638cfcd8"
   },
   "outputs": [],
   "source": []
  },
  {
   "cell_type": "markdown",
   "metadata": {},
   "source": [
    "#### 6. Representa, en un gráfico de dispersión, la probabilidad de predecir un 0\n",
    "\n",
    "Para ello, recuerda cómo sacábamos probabilidades y cuál será la que haga referencia al 0, en este caso donde tenemos que predecir 0 o 1. Además, repasa la parte de representación para recordar cómo se podía crear un gráfico donde le especificquemos las 2 variables del dataset como X e Y, y le añadamos un color en función de la probabilidad que se acaba de comentar"
   ]
  },
  {
   "cell_type": "code",
   "execution_count": null,
   "metadata": {},
   "outputs": [],
   "source": []
  }
 ],
 "metadata": {
  "colab": {
   "name": "ML-Exercise6.ipynb",
   "provenance": []
  },
  "kernelspec": {
   "display_name": "Python 3",
   "language": "python",
   "name": "python3"
  },
  "language_info": {
   "codemirror_mode": {
    "name": "ipython",
    "version": 3
   },
   "file_extension": ".py",
   "mimetype": "text/x-python",
   "name": "python",
   "nbconvert_exporter": "python",
   "pygments_lexer": "ipython3",
   "version": "3.8.3"
  }
 },
 "nbformat": 4,
 "nbformat_minor": 4
}
