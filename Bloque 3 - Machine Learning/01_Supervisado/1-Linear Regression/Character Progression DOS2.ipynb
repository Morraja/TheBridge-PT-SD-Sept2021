{
 "cells": [
  {
   "cell_type": "code",
   "execution_count": 1,
   "metadata": {},
   "outputs": [],
   "source": [
    "import pandas as pd\n",
    "from bs4 import BeautifulSoup\n",
    "import requests"
   ]
  },
  {
   "cell_type": "code",
   "execution_count": 2,
   "metadata": {},
   "outputs": [],
   "source": [
    "url = \"https://guides.gamepressure.com/originalsinII/guide.asp?ID=37397\""
   ]
  },
  {
   "cell_type": "code",
   "execution_count": 3,
   "metadata": {},
   "outputs": [],
   "source": [
    "r = requests.get(url)"
   ]
  },
  {
   "cell_type": "code",
   "execution_count": 4,
   "metadata": {},
   "outputs": [
    {
     "data": {
      "text/plain": [
       "200"
      ]
     },
     "execution_count": 4,
     "metadata": {},
     "output_type": "execute_result"
    }
   ],
   "source": [
    "r.status_code"
   ]
  },
  {
   "cell_type": "code",
   "execution_count": 5,
   "metadata": {},
   "outputs": [],
   "source": [
    "soup = BeautifulSoup(r.text, 'lxml')"
   ]
  },
  {
   "cell_type": "code",
   "execution_count": 6,
   "metadata": {},
   "outputs": [],
   "source": [
    "c_1 = soup.find_all('p',class_='wcb')\n",
    "c_2 = soup.find_all('p',class_='wcz')\n",
    "c_3 = soup.find_all('p',class_='wcn')\n",
    "body = soup.find_all('tr')[1:]"
   ]
  },
  {
   "cell_type": "code",
   "execution_count": 7,
   "metadata": {},
   "outputs": [],
   "source": [
    "col_1 = [c_1[i].text for i in range(len(c_1))]\n",
    "col_2 = [c_2[i].text for i in range(len(c_2))]\n",
    "col_3 = [c_3[i].text for i in range(len(c_3))]\n",
    "col_4 = [body[i].find_all('p')[-1].text for i in range(len(body))]"
   ]
  },
  {
   "cell_type": "code",
   "execution_count": 8,
   "metadata": {},
   "outputs": [],
   "source": [
    "cp = pd.DataFrame()"
   ]
  },
  {
   "cell_type": "code",
   "execution_count": 9,
   "metadata": {},
   "outputs": [],
   "source": [
    "cp[0] = col_1\n",
    "cp[1] = col_2\n",
    "cp[2] = col_3\n",
    "cp[3] = col_4\n",
    "cp.columns = ['level', 'total_xp', 'req_xp', 'Bonus']\n",
    "\n",
    "cp['total_xp'] = cp['total_xp'].apply(lambda x: int(x.replace(',', '')))\n",
    "cp['req_xp'] = cp['req_xp'].apply(lambda x: int(x.replace(',', '')))"
   ]
  },
  {
   "cell_type": "code",
   "execution_count": 10,
   "metadata": {},
   "outputs": [],
   "source": [
    "cp['attribute_points'] = cp['Bonus'].apply(lambda x: x[0].replace('?', '0'))\n",
    "cp['attribute_points'] = pd.to_numeric(cp['attribute_points'])\n",
    "\n",
    "cp['combat_points'] = cp['Bonus'].apply(lambda x: x.split(','))\n",
    "cp['combat_points'] = cp['combat_points'].apply(lambda x: x[1][1].strip()[0] if len(x) >=2 else x)\n",
    "cp['combat_points'] = cp['combat_points'].apply(lambda x: x[0].replace('?', '0'))\n",
    "cp['combat_points'] = pd.to_numeric(cp['combat_points'])\n",
    "\n",
    "cp['civic_points'] = cp['Bonus'].apply(lambda x: x.split(','))\n",
    "cp['civic_points'] = cp['civic_points'].apply(lambda x: x[2][1].strip()[0] if len(x)==3 else 0)\n",
    "cp['civic_points'] = pd.to_numeric(cp['civic_points'])"
   ]
  },
  {
   "cell_type": "code",
   "execution_count": 11,
   "metadata": {},
   "outputs": [],
   "source": [
    "cp.drop('Bonus', inplace=True, axis=1)"
   ]
  },
  {
   "cell_type": "code",
   "execution_count": 12,
   "metadata": {},
   "outputs": [
    {
     "name": "stdout",
     "output_type": "stream",
     "text": [
      "<class 'pandas.core.frame.DataFrame'>\n",
      "RangeIndex: 30 entries, 0 to 29\n",
      "Data columns (total 6 columns):\n",
      " #   Column            Non-Null Count  Dtype \n",
      "---  ------            --------------  ----- \n",
      " 0   level             30 non-null     object\n",
      " 1   total_xp          30 non-null     int64 \n",
      " 2   req_xp            30 non-null     int64 \n",
      " 3   attribute_points  30 non-null     int64 \n",
      " 4   combat_points     30 non-null     int64 \n",
      " 5   civic_points      30 non-null     int64 \n",
      "dtypes: int64(5), object(1)\n",
      "memory usage: 1.5+ KB\n"
     ]
    }
   ],
   "source": [
    "cp.info()"
   ]
  },
  {
   "cell_type": "code",
   "execution_count": 13,
   "metadata": {},
   "outputs": [
    {
     "data": {
      "text/html": [
       "<div>\n",
       "<style scoped>\n",
       "    .dataframe tbody tr th:only-of-type {\n",
       "        vertical-align: middle;\n",
       "    }\n",
       "\n",
       "    .dataframe tbody tr th {\n",
       "        vertical-align: top;\n",
       "    }\n",
       "\n",
       "    .dataframe thead th {\n",
       "        text-align: right;\n",
       "    }\n",
       "</style>\n",
       "<table border=\"1\" class=\"dataframe\">\n",
       "  <thead>\n",
       "    <tr style=\"text-align: right;\">\n",
       "      <th></th>\n",
       "      <th>level</th>\n",
       "      <th>total_xp</th>\n",
       "      <th>req_xp</th>\n",
       "      <th>attribute_points</th>\n",
       "      <th>combat_points</th>\n",
       "      <th>civic_points</th>\n",
       "    </tr>\n",
       "  </thead>\n",
       "  <tbody>\n",
       "    <tr>\n",
       "      <th>0</th>\n",
       "      <td>1</td>\n",
       "      <td>0</td>\n",
       "      <td>2000</td>\n",
       "      <td>0</td>\n",
       "      <td>0</td>\n",
       "      <td>0</td>\n",
       "    </tr>\n",
       "    <tr>\n",
       "      <th>1</th>\n",
       "      <td>2</td>\n",
       "      <td>2000</td>\n",
       "      <td>6000</td>\n",
       "      <td>2</td>\n",
       "      <td>1</td>\n",
       "      <td>1</td>\n",
       "    </tr>\n",
       "    <tr>\n",
       "      <th>2</th>\n",
       "      <td>3</td>\n",
       "      <td>8000</td>\n",
       "      <td>12000</td>\n",
       "      <td>2</td>\n",
       "      <td>1</td>\n",
       "      <td>0</td>\n",
       "    </tr>\n",
       "    <tr>\n",
       "      <th>3</th>\n",
       "      <td>4</td>\n",
       "      <td>20000</td>\n",
       "      <td>20000</td>\n",
       "      <td>2</td>\n",
       "      <td>1</td>\n",
       "      <td>1</td>\n",
       "    </tr>\n",
       "    <tr>\n",
       "      <th>4</th>\n",
       "      <td>5</td>\n",
       "      <td>40000</td>\n",
       "      <td>30000</td>\n",
       "      <td>2</td>\n",
       "      <td>1</td>\n",
       "      <td>0</td>\n",
       "    </tr>\n",
       "  </tbody>\n",
       "</table>\n",
       "</div>"
      ],
      "text/plain": [
       "  level  total_xp  req_xp  attribute_points  combat_points  civic_points\n",
       "0     1         0    2000                 0              0             0\n",
       "1     2      2000    6000                 2              1             1\n",
       "2     3      8000   12000                 2              1             0\n",
       "3     4     20000   20000                 2              1             1\n",
       "4     5     40000   30000                 2              1             0"
      ]
     },
     "execution_count": 13,
     "metadata": {},
     "output_type": "execute_result"
    }
   ],
   "source": [
    "cp.head()"
   ]
  }
 ],
 "metadata": {
  "kernelspec": {
   "display_name": "Python 3",
   "language": "python",
   "name": "python3"
  },
  "language_info": {
   "codemirror_mode": {
    "name": "ipython",
    "version": 3
   },
   "file_extension": ".py",
   "mimetype": "text/x-python",
   "name": "python",
   "nbconvert_exporter": "python",
   "pygments_lexer": "ipython3",
   "version": "3.8.5"
  }
 },
 "nbformat": 4,
 "nbformat_minor": 4
}
