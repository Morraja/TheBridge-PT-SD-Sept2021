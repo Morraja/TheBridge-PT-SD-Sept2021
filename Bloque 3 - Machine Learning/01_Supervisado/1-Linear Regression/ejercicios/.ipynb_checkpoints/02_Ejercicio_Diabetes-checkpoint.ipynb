{
 "cells": [
  {
   "cell_type": "markdown",
   "metadata": {
    "id": "W0OtVb5B1TQl"
   },
   "source": [
    "# Ejercicio 2: Regresión lineal con diabetes\n",
    "\n",
    "Uno de los datasets que tiene sklearn para practicar nuestras técnicas de Machine Learning, está relacionado con la diabetes. Lo bueno de estos datasets es que ya suelen estar preparados y limpios para trabajar con ellos, además de incluir numerosas utilidades como información de sus propias variables."
   ]
  },
  {
   "cell_type": "markdown",
   "metadata": {
    "id": "fWmsqmLW1TQm"
   },
   "source": [
    "Lo primero que deberemos de hacer es cargar el dataset, para lo cual podemos hacer lo sigueinte:"
   ]
  },
  {
   "cell_type": "code",
   "execution_count": 12,
   "metadata": {
    "id": "AfEHsQb51TQn"
   },
   "outputs": [],
   "source": [
    "from sklearn.datasets import load_diabetes\n",
    "diabetes = load_diabetes()"
   ]
  },
  {
   "cell_type": "markdown",
   "metadata": {
    "id": "3ZcJUMYR1TQq"
   },
   "source": [
    "Si le echamos un vistazo a lo que acabamos de cargar, observaremos que diabetes es un diccionario, donde tenemos tanto los datos de entrada al modelo (en forma de matriz), las etiquetas de estos datos e información útil como una descripción del propio dataset."
   ]
  },
  {
   "cell_type": "code",
   "execution_count": null,
   "metadata": {
    "id": "fBHVqmj21TQq"
   },
   "outputs": [],
   "source": []
  },
  {
   "cell_type": "markdown",
   "metadata": {
    "id": "8VoqURQ91TQs"
   },
   "source": [
    "#### ¿Qué es ese key llamado 'DESCR'?\n",
    "\n",
    "Por lo visto, el dataset tiene su propia descripción. Imprime por pantalla la descripción del dataset haciendo uso de la clave \"DESCR\" del diccionario de diabetes. Usa la función ``print`` para que se formatee bien lo que veas por pantalla:\n",
    "\n",
    "*Tip: Lee lo que imprimas*"
   ]
  },
  {
   "cell_type": "code",
   "execution_count": null,
   "metadata": {
    "id": "d1g9Qp_d1TQt"
   },
   "outputs": [],
   "source": []
  },
  {
   "cell_type": "markdown",
   "metadata": {
    "id": "O6k5D9QE1TQv"
   },
   "source": [
    "#### Basándote en la descripción que acabas de leer, responde:\n",
    "\n",
    "1. ¿Cuántos atributos tenemos en el dataset? ¿ Qué significan?\n",
    "\n",
    "1. ¿Cuál es la relación entre `diabetes['data']` y `diabetes['target']`?\n",
    "\n",
    "1. ¿Cuántos registros tenemos en los datos?"
   ]
  },
  {
   "cell_type": "code",
   "execution_count": null,
   "metadata": {
    "id": "t_wDCcuA1TQv"
   },
   "outputs": [],
   "source": []
  },
  {
   "cell_type": "markdown",
   "metadata": {
    "id": "_fnxxzud1TQy"
   },
   "source": [
    "#### Bien, ahora explora qué tenemos en ``data``, así como en el ``target``\n",
    "\n",
    "Scikit-learn está diseñado en su mayoría para recibir arrays bidimensionales de Numpy como entrada (aunque también puede aceptar dataframes de Pandas). Inspecciona la forma de `data` y `target`. Confirma que se corresponden con la descripción que se comenta anteriormente"
   ]
  },
  {
   "cell_type": "code",
   "execution_count": null,
   "metadata": {},
   "outputs": [],
   "source": []
  },
  {
   "cell_type": "markdown",
   "metadata": {
    "id": "HKrj3jpE1TQ0"
   },
   "source": [
    "## Entrando en acción: Construyendo el modelo"
   ]
  },
  {
   "cell_type": "markdown",
   "metadata": {
    "id": "lCMo9-2n1TQ1"
   },
   "source": [
    "Los datos ya se han dividido en variables de predicción (*data*) y respuesta (*target*). Dada esta información, aplica lo que has aprendido anteriormente sobre la regresión lineal, utilizando el algoritmo al conjunto de datos de diabetes.\n",
    "\n",
    "#### Comienza por importar el regresor lineal de `linear_model` de `sklearn`. "
   ]
  },
  {
   "cell_type": "code",
   "execution_count": null,
   "metadata": {
    "id": "bpw0BAL61TQ1"
   },
   "outputs": [],
   "source": []
  },
  {
   "cell_type": "markdown",
   "metadata": {
    "id": "ELTuxR4-1TQ3"
   },
   "source": [
    "#### Crea una nueva instancia del modelo de regresión lineal que te acabas de importar y llámalo `diabetes_model`."
   ]
  },
  {
   "cell_type": "code",
   "execution_count": null,
   "metadata": {
    "id": "FiKLuOV31TQ4"
   },
   "outputs": [],
   "source": []
  },
  {
   "cell_type": "markdown",
   "metadata": {
    "id": "pMegGI9b1TQ6"
   },
   "source": [
    "#### Ahora, separa en train y test\n",
    "\n",
    "Los nombres de las variables serán `diabetes_data_train`, `diabetes_target_train`, `diabetes_data_test`, y `diabetes_target_test`, respectivamente. Usa los 20 últimos registros para test y el resto para train. No es lo que se suele hacer, salvo que haya una marcada componente temporal, pero esta vez lo haremos así.\n",
    "\n",
    "Repito, no hay que separar aleatoriamente."
   ]
  },
  {
   "cell_type": "code",
   "execution_count": null,
   "metadata": {
    "id": "f5bYajfX1TQ6"
   },
   "outputs": [],
   "source": []
  },
  {
   "cell_type": "code",
   "execution_count": null,
   "metadata": {},
   "outputs": [],
   "source": []
  },
  {
   "cell_type": "markdown",
   "metadata": {
    "id": "4D-zl19K1TQ8"
   },
   "source": [
    "Haz un ``fit`` de los datos de entrenamiento y su etiqueta sobre el modelo que estás creando: `diabetes_model`. Imprime el término independiente y los coeficientes del modelo:"
   ]
  },
  {
   "cell_type": "code",
   "execution_count": null,
   "metadata": {
    "id": "oqeWpyWb1TQ8"
   },
   "outputs": [],
   "source": []
  },
  {
   "cell_type": "code",
   "execution_count": null,
   "metadata": {},
   "outputs": [],
   "source": []
  },
  {
   "cell_type": "markdown",
   "metadata": {
    "id": "7_Sll_FC1TQ-"
   },
   "source": [
    "#### Inspeccionando los resultados\n",
    "\n",
    "De los resultados que deberías haber obtenido algo que coincidiera con:\n",
    "\n",
    "- La intersección es un número flotante.\n",
    "- Los coeficientes son una matriz que contiene 10 números flotantes.\n",
    "\n",
    "Este es el modelo de regresión lineal ajustado al conjunto de datos de entrenamiento.\n",
    "\n",
    "#### Usando el modelo de regresión lineal ajustado que te has creado, ¿podrías predecir el target de `diabetes_data_test`?\n",
    "\n",
    "Haz la predicción de esos 20 registros y represéntalos en una gráfica frente a los valores reales. Créate una lista con las diferencias de cada predicción con su valor real y compara ambos conjuntos de datos."
   ]
  },
  {
   "cell_type": "code",
   "execution_count": null,
   "metadata": {
    "id": "c7YMpP_D1TRC"
   },
   "outputs": [],
   "source": [
    "\n"
   ]
  },
  {
   "cell_type": "code",
   "execution_count": null,
   "metadata": {},
   "outputs": [],
   "source": []
  },
  {
   "cell_type": "markdown",
   "metadata": {
    "id": "6UON_L4F1TRD"
   },
   "source": [
    "#### Finalmente, calcula las métricas, tanto en test como en train. ¿Se parecen? Saca los indicadores MAE, RMSE y R-squared"
   ]
  },
  {
   "cell_type": "code",
   "execution_count": null,
   "metadata": {
    "id": "YYXM9mm91TRE"
   },
   "outputs": [],
   "source": []
  },
  {
   "cell_type": "code",
   "execution_count": null,
   "metadata": {},
   "outputs": [],
   "source": []
  }
 ],
 "metadata": {
  "colab": {
   "name": "Linear_regression_diabetes.ipynb",
   "provenance": []
  },
  "kernelspec": {
   "display_name": "Python 3",
   "language": "python",
   "name": "python3"
  },
  "language_info": {
   "codemirror_mode": {
    "name": "ipython",
    "version": 3
   },
   "file_extension": ".py",
   "mimetype": "text/x-python",
   "name": "python",
   "nbconvert_exporter": "python",
   "pygments_lexer": "ipython3",
   "version": "3.8.3"
  }
 },
 "nbformat": 4,
 "nbformat_minor": 4
}
