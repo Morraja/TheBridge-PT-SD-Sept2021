{
 "cells": [
  {
   "cell_type": "markdown",
   "metadata": {},
   "source": [
    "## Árboles de decisión con el dataset de clasificación de adultos"
   ]
  },
  {
   "cell_type": "markdown",
   "metadata": {},
   "source": [
    "#### Descripción de los datos:"
   ]
  },
  {
   "cell_type": "markdown",
   "metadata": {},
   "source": [
    "En este notebook vamos a ver otro ejemplo del uso de los árboles de decisión. En este caso, trabajaremos con un dataset que clasifica demográficamente a una serie de individuos en base a lo que ellos ingresan al año, en concreto, si es más de 50,000$/año o no."
   ]
  },
  {
   "cell_type": "markdown",
   "metadata": {},
   "source": [
    "El dataset está compuesto por las siguientes variables, donde podemos hacer una división en categóricas y continuas. Veamos los valores y la definición de cada una de ellas:\n",
    "\n",
    "**Variables categóricas**\n",
    "\n",
    " - **workclass**: Categoría del trabajo que desempeña.\n",
    " \n",
    " Valores: Private, Self-emp-not-inc, Self-emp-inc, Federal-gov, Local-gov, State-gov, Without-pay, Never-worked.\n",
    "\n",
    "\n",
    " - **education**: Nivel de estudios\n",
    " \n",
    " Valores: Bachelors, Some-college, 11th, HS-grad, Prof-school, Assoc-acdm, Assoc-voc, 9th, 7th-8th, 12th, Masters, 1st-4th, 10th, Doctorate, 5th-6th, Preschool.\n",
    " \n",
    " - **marital-status**: estado civil\n",
    " \n",
    " Valores: Married-civ-spouse, Divorced, Never-married, Separated, Widowed, Married-spouse-absent, Married-AF-spouse.\n",
    "\n",
    " - **occupation**: Puesto de trabajo.\n",
    " \n",
    " Valores: Tech-support, Craft-repair, Other-service, Sales, Exec-managerial, Prof-specialty, Handlers-cleaners, Machine-op-inspct, Adm-clerical, Farming-fishing, Transport-moving, Priv-house-serv, Protective-serv, Armed-Forces.\n",
    " \n",
    " - **relationship**: Relación familiar.\n",
    " \n",
    " Valores: Wife, Own-child, Husband, Not-in-family, Other-relative, Unmarried. Individual's relation in a family\n",
    "\n",
    " - **race**: Raza del individuo.\n",
    " \n",
    " Valores: White, Asian-Pac-Islander, Amer-Indian-Eskimo, Other, Black. Race of Individual\n",
    "\n",
    " - **sex**: Género.\n",
    " \n",
    " Valores: Female, Male.\n",
    "\n",
    " - **native-country**: país de nacimiento.\n",
    " \n",
    " Valores: United-States, Cambodia, England, Puerto-Rico, Canada, Germany, Outlying-US(Guam-USVI-etc), India, Japan, Greece, South, China, Cuba, Iran, Honduras, Philippines, Italy, Poland, Jamaica, Vietnam, Mexico, Portugal, Ireland, France, Dominican-Republic, Laos, Ecuador, Taiwan, Haiti, Columbia, Hungary, Guatemala, Nicaragua, Scotland, Thailand, Yugoslavia, El-Salvador, Trinadad&Tobago, Peru, Hong, Holand-Netherlands.\n",
    " \n",
    "\n",
    "**Variables continuas**\n",
    "\n",
    " - Age: Edad del individuo.\n",
    "\n",
    " - fnlwgt: Peso final. Los pesos en los archivos CPS se controlan con estimaciones independientes de la población civil no interinstitucional de los Estados Unidos. Estos son preparados mensualmente por la Population Division en la Census Bureau.\n",
    "\n",
    " - Capital-gain: Sin descripción.\n",
    "\n",
    " - Capital-loss: Sin descripción.\n",
    "\n",
    " - Hours-per-week: horas de trabajo a la semana"
   ]
  },
  {
   "cell_type": "markdown",
   "metadata": {},
   "source": [
    "**Target**\n",
    "\n",
    " - Ganancias anuales. Los valores deberían de ser binarios para poder realizar nuestra clasificación en >50K/año y no"
   ]
  },
  {
   "cell_type": "markdown",
   "metadata": {},
   "source": [
    "#### 1. Leemos los datos de train y test\n",
    "\n",
    "En este caso, los datos que nos dan ya están divididos en train y test, así que los cargamos como nos han indicado. Ahora, ya no deberemos hacer el train_test_split.\n",
    "\n",
    "Lee los ficheros \"adult_train.csv\" y \"adult_test.csv\", dentro de la carpeta \"data\":"
   ]
  },
  {
   "cell_type": "code",
   "execution_count": null,
   "metadata": {},
   "outputs": [],
   "source": []
  },
  {
   "cell_type": "markdown",
   "metadata": {},
   "source": [
    "#### 2. Convierte el Target en numérico\n",
    "\n",
    "Codifica la salida en unos y ceros, en función de que cobre más de 50K (1) o no (0)\n"
   ]
  },
  {
   "cell_type": "code",
   "execution_count": null,
   "metadata": {},
   "outputs": [],
   "source": []
  },
  {
   "cell_type": "markdown",
   "metadata": {},
   "source": [
    "#### 3. Primer análisis\n",
    "\n",
    "1. Obten los estadísticos principales del dataset que estamos estudiando\n",
    "2. Calcula la distribución básica de los valores de cada variable categórica (¿cuántos tengo de cada clase?)\n",
    "3. Representa una serie de histogramas de cada feature del dataset para ver cómo se distribuyen gráficamente"
   ]
  },
  {
   "cell_type": "code",
   "execution_count": null,
   "metadata": {},
   "outputs": [],
   "source": []
  },
  {
   "cell_type": "markdown",
   "metadata": {},
   "source": [
    "#### 4. Comprueba los tipos\n",
    "1. Comprueba los tipos de las variables de train y test. ¿Observas alguna diferencia?\n",
    "2. Si encuentras alguna, soluciónala\n",
    "3. Convierte a numéricas todas aquellas variables susceptibles de serlo y que no lo son en el dataset"
   ]
  },
  {
   "cell_type": "code",
   "execution_count": null,
   "metadata": {},
   "outputs": [],
   "source": []
  },
  {
   "cell_type": "markdown",
   "metadata": {},
   "source": [
    "#### 5. Valores nulos\n",
    "1. Rellena todos los nulos de las variables numéricas con su mediana\n",
    "2. Rellena todos los nulos de las variables categóricas con su moda"
   ]
  },
  {
   "cell_type": "code",
   "execution_count": null,
   "metadata": {},
   "outputs": [],
   "source": []
  },
  {
   "cell_type": "markdown",
   "metadata": {},
   "source": [
    "#### 6. Convierte las variables categóricas\n",
    "\n",
    "Ahora que ya hemos llenado todas las categóricas con valores no nulos, codifica cada una de ellas con OHE para que puedan ser utilizadas por el algoritmo"
   ]
  },
  {
   "cell_type": "code",
   "execution_count": null,
   "metadata": {},
   "outputs": [],
   "source": []
  },
  {
   "cell_type": "markdown",
   "metadata": {},
   "source": [
    "#### 7. Comprueba cualquier tipo de incosistencia entre train y test"
   ]
  },
  {
   "cell_type": "code",
   "execution_count": null,
   "metadata": {},
   "outputs": [],
   "source": []
  },
  {
   "cell_type": "markdown",
   "metadata": {},
   "source": [
    "#### 8. Separa las muestras entre los datos de entrada y las etiquetas de predicción para usar un algoritmo"
   ]
  },
  {
   "cell_type": "code",
   "execution_count": null,
   "metadata": {},
   "outputs": [],
   "source": []
  },
  {
   "cell_type": "markdown",
   "metadata": {},
   "source": [
    "#### 9. Modela"
   ]
  },
  {
   "cell_type": "markdown",
   "metadata": {},
   "source": [
    "Entrena un Clasificador basado en Árboles de Decisión con una profundidad máxima de 3, y evalúa la precisión del algoritmo con los datos de test. PAra poder reproducir los datos, utiliza un parámetro ``random_state=42``"
   ]
  },
  {
   "cell_type": "code",
   "execution_count": null,
   "metadata": {},
   "outputs": [],
   "source": []
  },
  {
   "cell_type": "markdown",
   "metadata": {},
   "source": [
    "Haz algunas predicciones sobre los datos de test y comprueba si has acertado o no"
   ]
  },
  {
   "cell_type": "code",
   "execution_count": null,
   "metadata": {},
   "outputs": [],
   "source": []
  },
  {
   "cell_type": "markdown",
   "metadata": {},
   "source": [
    "Intenta entender el comportamiento del algoritmo dibujando el equema de división de los nodos y splits:"
   ]
  },
  {
   "cell_type": "code",
   "execution_count": null,
   "metadata": {},
   "outputs": [],
   "source": []
  },
  {
   "cell_type": "markdown",
   "metadata": {},
   "source": [
    "#### 10. Obtén la importancia de las variables"
   ]
  },
  {
   "cell_type": "code",
   "execution_count": null,
   "metadata": {},
   "outputs": [],
   "source": []
  },
  {
   "cell_type": "markdown",
   "metadata": {},
   "source": [
    "#### 11. Compara con la regresión logística\n",
    "\n",
    "Calcula el score que has obtenido con el árbol de decisión y compáralo con un modelo de regresión logística. Para ello, crea y entrena un nuevo modelo"
   ]
  },
  {
   "cell_type": "code",
   "execution_count": null,
   "metadata": {},
   "outputs": [],
   "source": []
  },
  {
   "cell_type": "code",
   "execution_count": null,
   "metadata": {},
   "outputs": [],
   "source": []
  },
  {
   "cell_type": "markdown",
   "metadata": {},
   "source": [
    "#### 10. Prueba a variar diferentes parámetros\n",
    "\n",
    "A diferencia de una regresión lineal, donde los parámetros están muy acotados, en los árboles de decisión existe una gran variedad de grados de libertad, lo que se refleja en los diferentes parámetros que los definen. Si vamos a su documentación, podremos observar la catidad de ellos que se pueden modificar.\n",
    "\n",
    "Prueba a jugar con los sigueintes: splitter, max_depth, min_samples_split, min_samples_leaf, max_features... Lee su definición para entender qué van a hacer, aunque la mayoría de veces no vamos a poder preveer cómo vana a actuar, y mucho menos combinados unos con otros. Por eso solemos dejar que el propio ordenador vaya probando diferentes combinaciones con el GridSearchCV, el cual puedes utilizar en este apartado, una vez hayas probado a jugar con los parámetros y cómo afectan a tu modelo"
   ]
  },
  {
   "cell_type": "code",
   "execution_count": null,
   "metadata": {},
   "outputs": [],
   "source": []
  },
  {
   "cell_type": "code",
   "execution_count": null,
   "metadata": {},
   "outputs": [],
   "source": []
  },
  {
   "cell_type": "code",
   "execution_count": null,
   "metadata": {},
   "outputs": [],
   "source": []
  }
 ],
 "metadata": {
  "kernelspec": {
   "display_name": "Python 3",
   "language": "python",
   "name": "python3"
  },
  "language_info": {
   "codemirror_mode": {
    "name": "ipython",
    "version": 3
   },
   "file_extension": ".py",
   "mimetype": "text/x-python",
   "name": "python",
   "nbconvert_exporter": "python",
   "pygments_lexer": "ipython3",
   "version": "3.8.3"
  }
 },
 "nbformat": 4,
 "nbformat_minor": 4
}
