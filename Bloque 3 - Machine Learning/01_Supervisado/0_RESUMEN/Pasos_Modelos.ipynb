{
 "cells": [
  {
   "cell_type": "markdown",
   "metadata": {},
   "source": [
    "# Resumen Machine Learning\n",
    "\n",
    "En este notebook resumimos cómo usar los diferentes algoritmos de ML, así como alguna cosita más que pueda ayudarnos.\n",
    "\n",
    "*Nota: Este resumen está abierto a sugerencias ;)*"
   ]
  },
  {
   "cell_type": "markdown",
   "metadata": {},
   "source": [
    "## Índice:\n",
    "\n",
    "<!-- 1. <a style='font-size:16pt' href='#Basic_EDA'>Basic EDA</a> -->\n",
    "1. [Basic EDA](#Basic_EDA)\n",
    "    1. [Generación de puntos](#Generacion_de_puntos)\n",
    "    2. [Gráfico de líneas](#Grafico_de_lineas)\n",
    "    3. [Gráfico de dispersión](#Grafico_de_dispersion)\n",
    "    4. [Matriz de correlación](#Matriz_de_correlacion)\n",
    "1. [Mínimo tratamiento de datos](#Minimo_Tratamiento_de_Datos)\n",
    "    1. [Mapear](#Mapear)\n",
    "    2. [One Hot Encoding (dummies)](#One_Hot_Encoding)\n",
    "    3. [Escalado](#Escalado)\n",
    "1. [Separación Train/Test](#Separacion_Train_Test)\n",
    "    1. [Tratamiento aplicado a la separación train/test](#Separacion_Tratamiento)\n",
    "2. [Algoritmos Supervisados](#Algoritmos_Supervisados)\n",
    "    1. [Regresión](#Regresion)\n",
    "        1. [Regresión Lineal](#Regresion_Lineal)\n",
    "        2. [Regularización](#Regularizacion)\n",
    "            1. [Ridge](#Ridge)\n",
    "            2. [Lasso](#Lasso)\n",
    "            3. [Elastic Net](#Elastic_Net)\n",
    "        3. [Árboles de decisión](#Regresion_Arboles_de_decision)\n",
    "        4. [Support Vector Regressor (SVR)](#Support_Vector_Regressor)\n",
    "            1. [SVR Lineal](#SVR_Lineal)\n",
    "            1. [SVR con kernel](#SVR_kernel)\n",
    "    2. [Clasificación](#Clasificacion)\n",
    "        1. [Regresión Logística](#Regresion_Logistica)\n",
    "        2. [Árboles de decisión](#Clasificacion_Arboles_de_decision)\n",
    "        3. [K Nearest Neighbors](#Clasificacion_KNN)\n",
    "        4. [Support Vector Classifier (SVC)](#Support_Vector_Classifier)\n",
    "            1. [SVC Lineal](#SVC_Lineal)\n",
    "            1. [SVC con kernel](#SVC_kernel)\n",
    "1. [Métricas](#Metricas)\n",
    "    1. [Regresión](#Metricas_Regresion)\n",
    "        1. [MAE](#Metricas_MAE)\n",
    "        2. [MSE](#Metricas_MSE)\n",
    "        3. [RMSE](#Metricas_RMSE)\n",
    "        4. [$R^2$](#Metricas_R2)\n",
    "    2. [Clasificación](#Metricas_Clasificacion)\n",
    "        1. [Matriz de confusión](#Metricas_Matriz_Confusion)\n",
    "        2. [Porcentaje de acierto (Accuracy)](#Metricas_Accuracy)\n",
    "        3. [Precision](#Metricas_Precision)\n",
    "        4. [Recall](#Metricas_Recall)\n",
    "        6. [F1](#Metricas_F1)\n",
    "        7. [AUC y Curva ROC](#Metricas_AUC)\n",
    "1. [Ejemplos](#Ejemplos)\n",
    "    1. [Regresión](#Ejemplos_Regresion)\n",
    "        1. [Regresión Lineal](#Ejemplos_Regresion_Lineal)\n",
    "        2. [Regularización](#Ejemplos_Regularizacion)\n",
    "            1. [Ridge](#Ejemplos_Ridge)\n",
    "            1. [Lasso](#Ejemplos_Lasso)\n",
    "            1. [Elastic Net](#Ejemplos_Elastic_Net)\n",
    "        3. [Árboles de decisión](#Ejemplos_Regresion_Arboles_de_decision)\n",
    "        4. [Support Vector Regressor (SVR)](#Ejemplos_Support_Vector_Regressor)\n",
    "            1. [SVR Lineal](#Ejemplos_SVR_Lineal)\n",
    "            1. [SVR con kernel](#Ejemplos_SVR_kernel)\n",
    "    2. [Clasificación](#Ejemplos_Clasificacion)\n",
    "        1. [Regresión Logística](#Ejemplos_Regresion_Logistica)\n",
    "        2. [Árboles de decisión](#Ejemplos_Clasificacion_Arboles_de_decision)\n",
    "        3. [K Nearest Neighbors](#Ejemplos_Clasificacion_KNN)\n",
    "        4. [Support Vector Classifier (SVC)](#Ejemplos_Support_Vector_Classifier)\n",
    "            1. [SVC Lineal](#Ejemplos_SVC_Lineal)\n",
    "            1. [SVC con kernel](#Ejemplos_SVC_kernel)\n"
   ]
  },
  {
   "cell_type": "code",
   "execution_count": 952,
   "metadata": {},
   "outputs": [],
   "source": [
    "# Cosas básicas para ejecutar el notebook\n",
    "import numpy as np\n",
    "import pandas as pd"
   ]
  },
  {
   "cell_type": "code",
   "execution_count": 953,
   "metadata": {},
   "outputs": [
    {
     "data": {
      "text/html": [
       "<div>\n",
       "<style scoped>\n",
       "    .dataframe tbody tr th:only-of-type {\n",
       "        vertical-align: middle;\n",
       "    }\n",
       "\n",
       "    .dataframe tbody tr th {\n",
       "        vertical-align: top;\n",
       "    }\n",
       "\n",
       "    .dataframe thead th {\n",
       "        text-align: right;\n",
       "    }\n",
       "</style>\n",
       "<table border=\"1\" class=\"dataframe\">\n",
       "  <thead>\n",
       "    <tr style=\"text-align: right;\">\n",
       "      <th></th>\n",
       "      <th>num_1</th>\n",
       "      <th>cat_1</th>\n",
       "      <th>num_2</th>\n",
       "      <th>num_3</th>\n",
       "      <th>num_4</th>\n",
       "    </tr>\n",
       "  </thead>\n",
       "  <tbody>\n",
       "    <tr>\n",
       "      <th>0</th>\n",
       "      <td>0.771321</td>\n",
       "      <td>A</td>\n",
       "      <td>0</td>\n",
       "      <td>0.771321</td>\n",
       "      <td>0</td>\n",
       "    </tr>\n",
       "    <tr>\n",
       "      <th>1</th>\n",
       "      <td>0.020752</td>\n",
       "      <td>A</td>\n",
       "      <td>44</td>\n",
       "      <td>76.189382</td>\n",
       "      <td>1</td>\n",
       "    </tr>\n",
       "    <tr>\n",
       "      <th>2</th>\n",
       "      <td>0.633648</td>\n",
       "      <td>B</td>\n",
       "      <td>68</td>\n",
       "      <td>42.832232</td>\n",
       "      <td>1</td>\n",
       "    </tr>\n",
       "    <tr>\n",
       "      <th>3</th>\n",
       "      <td>0.748804</td>\n",
       "      <td>B</td>\n",
       "      <td>14</td>\n",
       "      <td>1.456194</td>\n",
       "      <td>0</td>\n",
       "    </tr>\n",
       "    <tr>\n",
       "      <th>4</th>\n",
       "      <td>0.498507</td>\n",
       "      <td>A</td>\n",
       "      <td>4</td>\n",
       "      <td>0.892068</td>\n",
       "      <td>0</td>\n",
       "    </tr>\n",
       "    <tr>\n",
       "      <th>...</th>\n",
       "      <td>...</td>\n",
       "      <td>...</td>\n",
       "      <td>...</td>\n",
       "      <td>...</td>\n",
       "      <td>...</td>\n",
       "    </tr>\n",
       "    <tr>\n",
       "      <th>95</th>\n",
       "      <td>0.495049</td>\n",
       "      <td>D</td>\n",
       "      <td>92</td>\n",
       "      <td>97.804162</td>\n",
       "      <td>1</td>\n",
       "    </tr>\n",
       "    <tr>\n",
       "      <th>96</th>\n",
       "      <td>0.977081</td>\n",
       "      <td>C</td>\n",
       "      <td>19</td>\n",
       "      <td>27.436795</td>\n",
       "      <td>0</td>\n",
       "    </tr>\n",
       "    <tr>\n",
       "      <th>97</th>\n",
       "      <td>0.440774</td>\n",
       "      <td>A</td>\n",
       "      <td>0</td>\n",
       "      <td>0.440774</td>\n",
       "      <td>0</td>\n",
       "    </tr>\n",
       "    <tr>\n",
       "      <th>98</th>\n",
       "      <td>0.318273</td>\n",
       "      <td>B</td>\n",
       "      <td>7</td>\n",
       "      <td>9.717485</td>\n",
       "      <td>0</td>\n",
       "    </tr>\n",
       "    <tr>\n",
       "      <th>99</th>\n",
       "      <td>0.519797</td>\n",
       "      <td>C</td>\n",
       "      <td>93</td>\n",
       "      <td>148.067891</td>\n",
       "      <td>1</td>\n",
       "    </tr>\n",
       "  </tbody>\n",
       "</table>\n",
       "<p>100 rows × 5 columns</p>\n",
       "</div>"
      ],
      "text/plain": [
       "       num_1 cat_1  num_2       num_3  num_4\n",
       "0   0.771321     A      0    0.771321      0\n",
       "1   0.020752     A     44   76.189382      1\n",
       "2   0.633648     B     68   42.832232      1\n",
       "3   0.748804     B     14    1.456194      0\n",
       "4   0.498507     A      4    0.892068      0\n",
       "..       ...   ...    ...         ...    ...\n",
       "95  0.495049     D     92   97.804162      1\n",
       "96  0.977081     C     19   27.436795      0\n",
       "97  0.440774     A      0    0.440774      0\n",
       "98  0.318273     B      7    9.717485      0\n",
       "99  0.519797     C     93  148.067891      1\n",
       "\n",
       "[100 rows x 5 columns]"
      ]
     },
     "execution_count": 953,
     "metadata": {},
     "output_type": "execute_result"
    }
   ],
   "source": [
    "# Para ayudarnos a lo largo de las demostraciones, vamos a ayudarnos del siguiente DataFrame:\n",
    "np.random.seed(10)\n",
    "df = pd.DataFrame({'num_1': np.random.rand(100),\n",
    "                   'cat_1': np.random.choice(['A', 'B', 'C', 'D'], size=100),\n",
    "                   'num_2': np.random.randint(100, size=100)\n",
    "                  })\n",
    "df['num_3'] = df['num_1'] + 2*df['num_2']*np.random.rand(100)\n",
    "df['num_4'] = (df['num_3'] + np.random.randint(-40, 40, size=100) > 50).astype(int)\n",
    "df"
   ]
  },
  {
   "cell_type": "markdown",
   "metadata": {},
   "source": [
    "<a id='Basic_EDA'></a>\n",
    "## 1. Basic EDA\n",
    "\n",
    "Lo primero que debemos hacer es un buen análisis de datos. Como esto es un resumen, simplemente voy a dejarte algunas funciones básicas de representación. Nada del otro mundo."
   ]
  },
  {
   "cell_type": "markdown",
   "metadata": {},
   "source": [
    "Tras haber visto algo tan elemental como la generación, pasaremos a ver las gráficas más básicas\n",
    "\n",
    "<a id='Generacion_de_puntos'></a>\n",
    "### 1.1 Generación de puntos"
   ]
  },
  {
   "cell_type": "code",
   "execution_count": 954,
   "metadata": {},
   "outputs": [
    {
     "data": {
      "text/plain": [
       "array([ 0.,  1.,  2.,  3.,  4.,  5.,  6.,  7.,  8.,  9., 10.])"
      ]
     },
     "execution_count": 954,
     "metadata": {},
     "output_type": "execute_result"
    }
   ],
   "source": [
    "# Punto inicial, punto final y cuántos puntos quieres en total:\n",
    "punto_inicial = 0\n",
    "punto_final = 10\n",
    "n_puntos = 11\n",
    "x = np.linspace(punto_inicial, punto_final, n_puntos)\n",
    "x"
   ]
  },
  {
   "cell_type": "code",
   "execution_count": 955,
   "metadata": {},
   "outputs": [
    {
     "data": {
      "text/plain": [
       "array([0, 2, 4, 6, 8])"
      ]
     },
     "execution_count": 955,
     "metadata": {},
     "output_type": "execute_result"
    }
   ],
   "source": [
    "# Punto inicial, punto final (al que no se va a llegar) y distancia entre puntos:\n",
    "punto_inical = 0\n",
    "punto_final = 10\n",
    "paso_numeros = 2\n",
    "x = np.arange(punto_inicial, punto_final, paso_numeros)\n",
    "x"
   ]
  },
  {
   "cell_type": "markdown",
   "metadata": {},
   "source": [
    "Tras haber visto algo tan elemental como la generación, pasaremos a ver las gráficas más básicas\n",
    "\n",
    "<a id='Grafico_de_lineas'></a>\n",
    "### 1.2 Gráfico de líneas"
   ]
  },
  {
   "cell_type": "code",
   "execution_count": 956,
   "metadata": {},
   "outputs": [
    {
     "data": {
      "image/png": "[encoded data removed]",
      "text/plain": [
       "<Figure size 432x288 with 1 Axes>"
      ]
     },
     "metadata": {
      "needs_background": "light"
     },
     "output_type": "display_data"
    }
   ],
   "source": [
    "# Generamos puntos para los ejes X e Y (tú tendrás otras variables, claro).\n",
    "# Por ejemplo, vamos a representar la función x^2 frente a x**2 + ((x**1.5)*np.sin(x))\n",
    "x = np.linspace(0, 100, 1001)\n",
    "y = x**2\n",
    "y2 = x**2 + ((x**1.5)*np.sin(x))\n",
    "\n",
    "# Importamos la librería así (hacer siempre al principio del notebook, al importar el resto de cosas):\n",
    "import matplotlib.pyplot as plt\n",
    "%matplotlib inline\n",
    "\n",
    "# Y representamos:\n",
    "plt.plot(x, y, color='blue', label='x^2')\n",
    "plt.plot(x, y2, color='red', label='x^2 + ((x^1.5)*np.sin(x))')\n",
    "\n",
    "# Añadimos rejilla:\n",
    "plt.grid();\n",
    "# Añadimos leyenda:\n",
    "plt.legend();"
   ]
  },
  {
   "cell_type": "markdown",
   "metadata": {},
   "source": [
    "<a id='Grafico_de_dispersion'></a>\n",
    "### 1.3 Gráfico de dispersión"
   ]
  },
  {
   "cell_type": "code",
   "execution_count": 957,
   "metadata": {},
   "outputs": [
    {
     "data": {
      "image/png": "[encoded data removed]",
      "text/plain": [
       "<Figure size 432x288 with 1 Axes>"
      ]
     },
     "metadata": {
      "needs_background": "light"
     },
     "output_type": "display_data"
    }
   ],
   "source": [
    "# Generamos puntos para los ejes X e Y (tú tendrás otras variables, claro).\n",
    "# Por ejemplo, vamos a representar la función x^2 frente a x**2 + ((x**1.5)*np.sin(x))\n",
    "x = np.linspace(0, 100, 51)\n",
    "y = x**2\n",
    "y2 = x**2 + ((x**1.5)*np.sin(x))\n",
    "\n",
    "# Importamos la librería así (hacer siempre al principio del notebook, al importar el resto de cosas):\n",
    "import matplotlib.pyplot as plt\n",
    "%matplotlib inline\n",
    "\n",
    "# Y representamos:\n",
    "plt.scatter(x, y, marker='.', color='blue', label='x^2')\n",
    "plt.scatter(x, y2, marker='.', color='red', label='x^2 + ((x^1.5)*np.sin(x))')\n",
    "\n",
    "# Añadimos rejilla:\n",
    "plt.grid();\n",
    "# Añadimos leyenda:\n",
    "plt.legend();"
   ]
  },
  {
   "cell_type": "markdown",
   "metadata": {},
   "source": [
    "<a id='Matriz_de_correlacion'></a>\n",
    "### 1.4 Matriz de correlación\n",
    "\n",
    "Otra de las visualizaciones que nos pueden ser de mucha utilidad es la matriz de correlación, ya que nos indicará la relación lineal entre las diferentes variables que tenemos.\n",
    "\n",
    "Recuerda: Si está cerca de 1 o de -1 tendrá mucha relación lineal (ya sea positiva, es decir, que crezcan en el mismo sentido; o negativa, es decir, que cuando una crece la otra decrece). En cambio, si está cercana a 0, significará que no hay nada de relación.\n",
    "\n",
    "Para considerar que están fuertemente correlacionadas se suele poner el umbral en ``valor > 0.7`` o ``valor < -0.7``."
   ]
  },
  {
   "cell_type": "code",
   "execution_count": 958,
   "metadata": {},
   "outputs": [
    {
     "data": {
      "text/plain": [
       "<matplotlib.axes._subplots.AxesSubplot at 0x2fdb5f33d90>"
      ]
     },
     "execution_count": 958,
     "metadata": {},
     "output_type": "execute_result"
    },
    {
     "data": {
      "image/png": "[encoded data removed]",
      "text/plain": [
       "<Figure size 432x288 with 2 Axes>"
      ]
     },
     "metadata": {
      "needs_background": "light"
     },
     "output_type": "display_data"
    }
   ],
   "source": [
    "# Vamos a crearnos un DataFrame con datos generados ahora mismo, aunque tú ya tendrás un DataFrame con sus datos y todo)\n",
    "x = np.linspace(0, 100, 51)\n",
    "df_ejemplo = pd.DataFrame({'x': x, 'y': x**2, 'y2': -x * np.random.rand(len(x)), 'y3': x**2 * ((x**1.5)*np.sin(x))})\n",
    "\n",
    "# Importamos la librería seaborn:\n",
    "import seaborn as sns\n",
    "\n",
    "# Nos creamos la matriz de correlación:\n",
    "matriz_correlacion = df_ejemplo.corr()\n",
    "\n",
    "# Y representamos con u mapa de calor:\n",
    "sns.heatmap(matriz_correlacion, annot=True, square=True, vmin=-1, vmax=1)"
   ]
  },
  {
   "cell_type": "markdown",
   "metadata": {},
   "source": [
    "<a id='Minimo_Tratamiento_de_Datos'></a>\n",
    "## 2. Mínimo tratamiento de datos\n",
    "\n",
    "Antes de continuar, lo primero que se debe de hacer es convertir las variables a numéricas para que podamos utilizarlas en los modelos."
   ]
  },
  {
   "cell_type": "markdown",
   "metadata": {},
   "source": [
    "<a id='Conversion_de_categoricas'></a>\n",
    "### 2.1 Conversión de categóricas\n",
    "\n",
    "Básicamente, el modelo no entiende letras, solo números. ASí que tenemos que convertir las palabras a números. Tenemos 2 opciones: \"mapear\" (cambiar las palabras por números, siendo el mismo número para la misma palabra) o crearse variables \"dummy\" (crearse una columna por cada valor que pueda tomar la variable):"
   ]
  },
  {
   "cell_type": "markdown",
   "metadata": {},
   "source": [
    "<a id='Mapear'></a>\n",
    "#### 2.1.1 Mapear\n",
    "\n",
    "Idea: sacamos los valores distintos de esa variable categórica. Le asignamos un número distinto a cada palabra. Sustituimos las palabras por los números que hemos deicidido antes.\n",
    "\n",
    "Problema: estamos asignando un orden a las palabras, por lo que puede no resultar la mejor idea, ya que si estamos convirtiendo, por ejemplo, colores, no tendría mucho sentido decir que un ``verde`` es mejor que un ``morado``, y que este sea peor que un ``azul``."
   ]
  },
  {
   "cell_type": "code",
   "execution_count": 959,
   "metadata": {},
   "outputs": [
    {
     "data": {
      "text/plain": [
       "array(['A', 'B', 'D', 'C'], dtype=object)"
      ]
     },
     "execution_count": 959,
     "metadata": {},
     "output_type": "execute_result"
    }
   ],
   "source": [
    "# Seleccionamos variable a mapear:\n",
    "# En este caso, será df['cat_1']\n",
    "\n",
    "# Hacemos una copia para no cambiar el df para el resto de ejercicios:\n",
    "df_ejemplo = df.copy()\n",
    "\n",
    "# Y vemos sus valores distintos:\n",
    "df_ejemplo['cat_1'].unique()"
   ]
  },
  {
   "cell_type": "code",
   "execution_count": 960,
   "metadata": {},
   "outputs": [
    {
     "data": {
      "text/html": [
       "<div>\n",
       "<style scoped>\n",
       "    .dataframe tbody tr th:only-of-type {\n",
       "        vertical-align: middle;\n",
       "    }\n",
       "\n",
       "    .dataframe tbody tr th {\n",
       "        vertical-align: top;\n",
       "    }\n",
       "\n",
       "    .dataframe thead th {\n",
       "        text-align: right;\n",
       "    }\n",
       "</style>\n",
       "<table border=\"1\" class=\"dataframe\">\n",
       "  <thead>\n",
       "    <tr style=\"text-align: right;\">\n",
       "      <th></th>\n",
       "      <th>cat_1</th>\n",
       "      <th>num_cat_1</th>\n",
       "    </tr>\n",
       "  </thead>\n",
       "  <tbody>\n",
       "    <tr>\n",
       "      <th>0</th>\n",
       "      <td>A</td>\n",
       "      <td>0</td>\n",
       "    </tr>\n",
       "    <tr>\n",
       "      <th>1</th>\n",
       "      <td>A</td>\n",
       "      <td>0</td>\n",
       "    </tr>\n",
       "    <tr>\n",
       "      <th>2</th>\n",
       "      <td>B</td>\n",
       "      <td>1</td>\n",
       "    </tr>\n",
       "    <tr>\n",
       "      <th>3</th>\n",
       "      <td>B</td>\n",
       "      <td>1</td>\n",
       "    </tr>\n",
       "    <tr>\n",
       "      <th>4</th>\n",
       "      <td>A</td>\n",
       "      <td>0</td>\n",
       "    </tr>\n",
       "    <tr>\n",
       "      <th>...</th>\n",
       "      <td>...</td>\n",
       "      <td>...</td>\n",
       "    </tr>\n",
       "    <tr>\n",
       "      <th>95</th>\n",
       "      <td>D</td>\n",
       "      <td>3</td>\n",
       "    </tr>\n",
       "    <tr>\n",
       "      <th>96</th>\n",
       "      <td>C</td>\n",
       "      <td>2</td>\n",
       "    </tr>\n",
       "    <tr>\n",
       "      <th>97</th>\n",
       "      <td>A</td>\n",
       "      <td>0</td>\n",
       "    </tr>\n",
       "    <tr>\n",
       "      <th>98</th>\n",
       "      <td>B</td>\n",
       "      <td>1</td>\n",
       "    </tr>\n",
       "    <tr>\n",
       "      <th>99</th>\n",
       "      <td>C</td>\n",
       "      <td>2</td>\n",
       "    </tr>\n",
       "  </tbody>\n",
       "</table>\n",
       "<p>100 rows × 2 columns</p>\n",
       "</div>"
      ],
      "text/plain": [
       "   cat_1  num_cat_1\n",
       "0      A          0\n",
       "1      A          0\n",
       "2      B          1\n",
       "3      B          1\n",
       "4      A          0\n",
       "..   ...        ...\n",
       "95     D          3\n",
       "96     C          2\n",
       "97     A          0\n",
       "98     B          1\n",
       "99     C          2\n",
       "\n",
       "[100 rows x 2 columns]"
      ]
     },
     "execution_count": 960,
     "metadata": {},
     "output_type": "execute_result"
    }
   ],
   "source": [
    "# Nos creamos un diccionario para hacer la conversión:\n",
    "map_cat_1 = {\n",
    "    'A': 0,\n",
    "    'B': 1,\n",
    "    'C': 2,\n",
    "    'D': 3\n",
    "}\n",
    "\n",
    "# Y aplicamos el mapeo, guardándolo en una nueva variable:\n",
    "# df_ejemplo['cat_1'] = df_ejemplo['cat_1'].map(map_cat_1)\n",
    "df_ejemplo['num_cat_1'] = df_ejemplo['cat_1'].map(map_cat_1)\n",
    "\n",
    "# Comprobamos:\n",
    "df_ejemplo[['cat_1', 'num_cat_1']]"
   ]
  },
  {
   "cell_type": "code",
   "execution_count": 961,
   "metadata": {},
   "outputs": [
    {
     "data": {
      "text/html": [
       "<div>\n",
       "<style scoped>\n",
       "    .dataframe tbody tr th:only-of-type {\n",
       "        vertical-align: middle;\n",
       "    }\n",
       "\n",
       "    .dataframe tbody tr th {\n",
       "        vertical-align: top;\n",
       "    }\n",
       "\n",
       "    .dataframe thead th {\n",
       "        text-align: right;\n",
       "    }\n",
       "</style>\n",
       "<table border=\"1\" class=\"dataframe\">\n",
       "  <thead>\n",
       "    <tr style=\"text-align: right;\">\n",
       "      <th></th>\n",
       "      <th>num_1</th>\n",
       "      <th>num_2</th>\n",
       "      <th>num_3</th>\n",
       "      <th>num_4</th>\n",
       "      <th>num_cat_1</th>\n",
       "    </tr>\n",
       "  </thead>\n",
       "  <tbody>\n",
       "    <tr>\n",
       "      <th>0</th>\n",
       "      <td>0.771321</td>\n",
       "      <td>0</td>\n",
       "      <td>0.771321</td>\n",
       "      <td>0</td>\n",
       "      <td>0</td>\n",
       "    </tr>\n",
       "    <tr>\n",
       "      <th>1</th>\n",
       "      <td>0.020752</td>\n",
       "      <td>44</td>\n",
       "      <td>76.189382</td>\n",
       "      <td>1</td>\n",
       "      <td>0</td>\n",
       "    </tr>\n",
       "    <tr>\n",
       "      <th>2</th>\n",
       "      <td>0.633648</td>\n",
       "      <td>68</td>\n",
       "      <td>42.832232</td>\n",
       "      <td>1</td>\n",
       "      <td>1</td>\n",
       "    </tr>\n",
       "    <tr>\n",
       "      <th>3</th>\n",
       "      <td>0.748804</td>\n",
       "      <td>14</td>\n",
       "      <td>1.456194</td>\n",
       "      <td>0</td>\n",
       "      <td>1</td>\n",
       "    </tr>\n",
       "    <tr>\n",
       "      <th>4</th>\n",
       "      <td>0.498507</td>\n",
       "      <td>4</td>\n",
       "      <td>0.892068</td>\n",
       "      <td>0</td>\n",
       "      <td>0</td>\n",
       "    </tr>\n",
       "    <tr>\n",
       "      <th>...</th>\n",
       "      <td>...</td>\n",
       "      <td>...</td>\n",
       "      <td>...</td>\n",
       "      <td>...</td>\n",
       "      <td>...</td>\n",
       "    </tr>\n",
       "    <tr>\n",
       "      <th>95</th>\n",
       "      <td>0.495049</td>\n",
       "      <td>92</td>\n",
       "      <td>97.804162</td>\n",
       "      <td>1</td>\n",
       "      <td>3</td>\n",
       "    </tr>\n",
       "    <tr>\n",
       "      <th>96</th>\n",
       "      <td>0.977081</td>\n",
       "      <td>19</td>\n",
       "      <td>27.436795</td>\n",
       "      <td>0</td>\n",
       "      <td>2</td>\n",
       "    </tr>\n",
       "    <tr>\n",
       "      <th>97</th>\n",
       "      <td>0.440774</td>\n",
       "      <td>0</td>\n",
       "      <td>0.440774</td>\n",
       "      <td>0</td>\n",
       "      <td>0</td>\n",
       "    </tr>\n",
       "    <tr>\n",
       "      <th>98</th>\n",
       "      <td>0.318273</td>\n",
       "      <td>7</td>\n",
       "      <td>9.717485</td>\n",
       "      <td>0</td>\n",
       "      <td>1</td>\n",
       "    </tr>\n",
       "    <tr>\n",
       "      <th>99</th>\n",
       "      <td>0.519797</td>\n",
       "      <td>93</td>\n",
       "      <td>148.067891</td>\n",
       "      <td>1</td>\n",
       "      <td>2</td>\n",
       "    </tr>\n",
       "  </tbody>\n",
       "</table>\n",
       "<p>100 rows × 5 columns</p>\n",
       "</div>"
      ],
      "text/plain": [
       "       num_1  num_2       num_3  num_4  num_cat_1\n",
       "0   0.771321      0    0.771321      0          0\n",
       "1   0.020752     44   76.189382      1          0\n",
       "2   0.633648     68   42.832232      1          1\n",
       "3   0.748804     14    1.456194      0          1\n",
       "4   0.498507      4    0.892068      0          0\n",
       "..       ...    ...         ...    ...        ...\n",
       "95  0.495049     92   97.804162      1          3\n",
       "96  0.977081     19   27.436795      0          2\n",
       "97  0.440774      0    0.440774      0          0\n",
       "98  0.318273      7    9.717485      0          1\n",
       "99  0.519797     93  148.067891      1          2\n",
       "\n",
       "[100 rows x 5 columns]"
      ]
     },
     "execution_count": 961,
     "metadata": {},
     "output_type": "execute_result"
    }
   ],
   "source": [
    "# Y nos eliminamos la anterior:\n",
    "df_ejemplo = df_ejemplo.drop('cat_1', axis=1)\n",
    "\n",
    "# Mostramos nuestro nuevo dataframe:\n",
    "df_ejemplo"
   ]
  },
  {
   "cell_type": "markdown",
   "metadata": {},
   "source": [
    "<a id='One_Hot_Encoding'></a>\n",
    "#### 2.1.2 One Hot Encoding (dummies)\n",
    "\n",
    "Idea: nos creamos una nueva columna por cada valor diferente de la/s variable/s categóricas. La función se encarga de convertir todas aquellas categóricas, eliminando las categóricas originales y manteniendo las numéricas originales. Se encarga de todo por nosotros.\n",
    "\n",
    "*IMPORTANTE*: Cuando queramos aplicarlo a un proyecto, debemos de tener en cuenta si es train o test, [aquí](#Separacion_Tratamiento)."
   ]
  },
  {
   "cell_type": "code",
   "execution_count": 962,
   "metadata": {},
   "outputs": [
    {
     "data": {
      "text/html": [
       "<div>\n",
       "<style scoped>\n",
       "    .dataframe tbody tr th:only-of-type {\n",
       "        vertical-align: middle;\n",
       "    }\n",
       "\n",
       "    .dataframe tbody tr th {\n",
       "        vertical-align: top;\n",
       "    }\n",
       "\n",
       "    .dataframe thead th {\n",
       "        text-align: right;\n",
       "    }\n",
       "</style>\n",
       "<table border=\"1\" class=\"dataframe\">\n",
       "  <thead>\n",
       "    <tr style=\"text-align: right;\">\n",
       "      <th></th>\n",
       "      <th>num_1</th>\n",
       "      <th>num_2</th>\n",
       "      <th>num_3</th>\n",
       "      <th>num_4</th>\n",
       "      <th>cat_1_A</th>\n",
       "      <th>cat_1_B</th>\n",
       "      <th>cat_1_C</th>\n",
       "      <th>cat_1_D</th>\n",
       "    </tr>\n",
       "  </thead>\n",
       "  <tbody>\n",
       "    <tr>\n",
       "      <th>0</th>\n",
       "      <td>0.771321</td>\n",
       "      <td>0</td>\n",
       "      <td>0.771321</td>\n",
       "      <td>0</td>\n",
       "      <td>1</td>\n",
       "      <td>0</td>\n",
       "      <td>0</td>\n",
       "      <td>0</td>\n",
       "    </tr>\n",
       "    <tr>\n",
       "      <th>1</th>\n",
       "      <td>0.020752</td>\n",
       "      <td>44</td>\n",
       "      <td>76.189382</td>\n",
       "      <td>1</td>\n",
       "      <td>1</td>\n",
       "      <td>0</td>\n",
       "      <td>0</td>\n",
       "      <td>0</td>\n",
       "    </tr>\n",
       "    <tr>\n",
       "      <th>2</th>\n",
       "      <td>0.633648</td>\n",
       "      <td>68</td>\n",
       "      <td>42.832232</td>\n",
       "      <td>1</td>\n",
       "      <td>0</td>\n",
       "      <td>1</td>\n",
       "      <td>0</td>\n",
       "      <td>0</td>\n",
       "    </tr>\n",
       "    <tr>\n",
       "      <th>3</th>\n",
       "      <td>0.748804</td>\n",
       "      <td>14</td>\n",
       "      <td>1.456194</td>\n",
       "      <td>0</td>\n",
       "      <td>0</td>\n",
       "      <td>1</td>\n",
       "      <td>0</td>\n",
       "      <td>0</td>\n",
       "    </tr>\n",
       "    <tr>\n",
       "      <th>4</th>\n",
       "      <td>0.498507</td>\n",
       "      <td>4</td>\n",
       "      <td>0.892068</td>\n",
       "      <td>0</td>\n",
       "      <td>1</td>\n",
       "      <td>0</td>\n",
       "      <td>0</td>\n",
       "      <td>0</td>\n",
       "    </tr>\n",
       "    <tr>\n",
       "      <th>...</th>\n",
       "      <td>...</td>\n",
       "      <td>...</td>\n",
       "      <td>...</td>\n",
       "      <td>...</td>\n",
       "      <td>...</td>\n",
       "      <td>...</td>\n",
       "      <td>...</td>\n",
       "      <td>...</td>\n",
       "    </tr>\n",
       "    <tr>\n",
       "      <th>95</th>\n",
       "      <td>0.495049</td>\n",
       "      <td>92</td>\n",
       "      <td>97.804162</td>\n",
       "      <td>1</td>\n",
       "      <td>0</td>\n",
       "      <td>0</td>\n",
       "      <td>0</td>\n",
       "      <td>1</td>\n",
       "    </tr>\n",
       "    <tr>\n",
       "      <th>96</th>\n",
       "      <td>0.977081</td>\n",
       "      <td>19</td>\n",
       "      <td>27.436795</td>\n",
       "      <td>0</td>\n",
       "      <td>0</td>\n",
       "      <td>0</td>\n",
       "      <td>1</td>\n",
       "      <td>0</td>\n",
       "    </tr>\n",
       "    <tr>\n",
       "      <th>97</th>\n",
       "      <td>0.440774</td>\n",
       "      <td>0</td>\n",
       "      <td>0.440774</td>\n",
       "      <td>0</td>\n",
       "      <td>1</td>\n",
       "      <td>0</td>\n",
       "      <td>0</td>\n",
       "      <td>0</td>\n",
       "    </tr>\n",
       "    <tr>\n",
       "      <th>98</th>\n",
       "      <td>0.318273</td>\n",
       "      <td>7</td>\n",
       "      <td>9.717485</td>\n",
       "      <td>0</td>\n",
       "      <td>0</td>\n",
       "      <td>1</td>\n",
       "      <td>0</td>\n",
       "      <td>0</td>\n",
       "    </tr>\n",
       "    <tr>\n",
       "      <th>99</th>\n",
       "      <td>0.519797</td>\n",
       "      <td>93</td>\n",
       "      <td>148.067891</td>\n",
       "      <td>1</td>\n",
       "      <td>0</td>\n",
       "      <td>0</td>\n",
       "      <td>1</td>\n",
       "      <td>0</td>\n",
       "    </tr>\n",
       "  </tbody>\n",
       "</table>\n",
       "<p>100 rows × 8 columns</p>\n",
       "</div>"
      ],
      "text/plain": [
       "       num_1  num_2       num_3  num_4  cat_1_A  cat_1_B  cat_1_C  cat_1_D\n",
       "0   0.771321      0    0.771321      0        1        0        0        0\n",
       "1   0.020752     44   76.189382      1        1        0        0        0\n",
       "2   0.633648     68   42.832232      1        0        1        0        0\n",
       "3   0.748804     14    1.456194      0        0        1        0        0\n",
       "4   0.498507      4    0.892068      0        1        0        0        0\n",
       "..       ...    ...         ...    ...      ...      ...      ...      ...\n",
       "95  0.495049     92   97.804162      1        0        0        0        1\n",
       "96  0.977081     19   27.436795      0        0        0        1        0\n",
       "97  0.440774      0    0.440774      0        1        0        0        0\n",
       "98  0.318273      7    9.717485      0        0        1        0        0\n",
       "99  0.519797     93  148.067891      1        0        0        1        0\n",
       "\n",
       "[100 rows x 8 columns]"
      ]
     },
     "execution_count": 962,
     "metadata": {},
     "output_type": "execute_result"
    }
   ],
   "source": [
    "# Hacemos una copia para no cambiar el df para el resto de ejercicios:\n",
    "df_ejemplo = df.copy()\n",
    "\n",
    "# Hacemos su conversión:\n",
    "df_ejemplo = pd.get_dummies(df_ejemplo)\n",
    "\n",
    "# Mostramos:\n",
    "df_ejemplo"
   ]
  },
  {
   "cell_type": "markdown",
   "metadata": {},
   "source": [
    "<a id='Escalado'></a>\n",
    "#### 2.1.3 Escalado\n",
    "\n",
    "Idea: reducir todas las variables al mismo rango. La función se encarga de quitar la media y escalar a la varianza unidad.\n",
    "\n",
    "Para utilizarlo, necesitamos un DataFrame con variables numéricas. Al transformar, nos devolverá un array de 2D (no es un DataFrame, pero guarda la misma estructura que el DataFrame original).\n",
    "\n",
    "*Nota: Es opcional pero ÚTIL en la mayoría de modelos, salvo árboles de decisión, que no le afecta*\n",
    "\n",
    "*IMPORTANTE*: Cuando queramos aplicarlo a un proyecto, debemos de tener en cuenta si es train o test, [aquí](#Separacion_Tratamiento)."
   ]
  },
  {
   "cell_type": "code",
   "execution_count": 963,
   "metadata": {},
   "outputs": [
    {
     "data": {
      "text/plain": [
       "array([[ 1.03998617, -1.58196146, -1.05751615, -0.81649658],\n",
       "       [-1.68958688, -0.03995206,  0.65839203,  1.22474487],\n",
       "       [ 0.53931661,  0.80114397, -0.10054828,  1.22474487],\n",
       "       [ 0.95810007, -1.09132211, -1.04193394, -0.81649658],\n",
       "       [ 0.04785215, -1.44177879, -1.05476891, -0.81649658],\n",
       "       [-0.947543  , -1.37168745, -1.01954319, -0.81649658],\n",
       "       [-1.04476502, -0.1100434 , -0.93862485, -0.81649658],\n",
       "       [ 1.00074671,  0.97637231, -0.20248362, -0.81649658],\n",
       "       [-1.15005409, -0.03995206,  0.75793002,  1.22474487],\n",
       "       [-1.4437919 ,  1.57214867,  0.80199938, -0.81649658],\n",
       "       [ 0.72737474, -0.25022607, -0.83431642, -0.81649658],\n",
       "       [ 1.70212508, -0.8810481 , -0.31630897,  1.22474487],\n",
       "       [-1.75069638, -1.26655045, -0.90974029, -0.81649658],\n",
       "       [ 0.09762094, -0.18013473, -1.0189406 , -0.81649658],\n",
       "       [ 1.19018193, -1.02123077, -0.43274995,  1.22474487],\n",
       "       [ 0.46250219,  1.04646365, -0.12501762, -0.81649658],\n",
       "       [ 0.85973327, -0.2151804 ,  0.19977268,  1.22474487],\n",
       "       [-0.70359706,  0.45068729, -0.12946065, -0.81649658],\n",
       "       [ 1.57258961,  1.25673766,  1.87349328,  1.22474487],\n",
       "       [ 0.83362366, -0.2151804 ,  0.44009761,  1.22474487],\n",
       "       [ 0.20800162,  0.13527628,  0.13718162,  1.22474487],\n",
       "       [-1.24802893,  1.81746835,  1.39590959,  1.22474487],\n",
       "       [-0.4073366 , -1.19645911, -1.00524946, -0.81649658],\n",
       "       [ 0.68654871,  1.15160066,  0.28063886,  1.22474487],\n",
       "       [-0.15825208,  1.18664632,  0.47625192,  1.22474487],\n",
       "       [-0.18668788, -0.84600243, -0.57668875, -0.81649658],\n",
       "       [ 0.48156167,  0.83618964,  1.7389191 ,  1.22474487],\n",
       "       [ 0.10106115,  0.10023061, -0.40767405, -0.81649658],\n",
       "       [ 0.60022706,  0.52077863,  0.02211183, -0.81649658],\n",
       "       [ 0.42072731,  0.45068729,  1.03223736,  1.22474487],\n",
       "       [ 1.16327867, -1.12636777, -0.81286257, -0.81649658],\n",
       "       [ 0.13200528, -1.47682446, -1.03796013, -0.81649658],\n",
       "       [ 1.53940409, -0.49554575,  0.1308789 , -0.81649658],\n",
       "       [-0.60409761,  1.08150932,  0.90090751,  1.22474487],\n",
       "       [-1.43608384,  1.46701167, -0.83527793, -0.81649658],\n",
       "       [-0.6715071 , -0.9861851 , -0.30323075, -0.81649658],\n",
       "       [-1.35053106, -0.56563708, -0.77056764, -0.81649658],\n",
       "       [ 1.24858822,  0.83618964,  0.87381059,  1.22474487],\n",
       "       [-1.59450835,  0.17032195, -0.23666565,  1.22474487],\n",
       "       [ 0.51254674,  0.20536762,  0.80218551,  1.22474487],\n",
       "       [ 0.22633696, -0.8810481 , -0.49147624, -0.81649658],\n",
       "       [ 1.21442411, -1.40673312, -0.86958204, -0.81649658],\n",
       "       [-1.04154775,  0.87123531, -0.15237371, -0.81649658],\n",
       "       [ 1.35102958,  0.5558243 , -0.29281083, -0.81649658],\n",
       "       [-0.48620921, -1.02123077, -0.62946108,  1.22474487],\n",
       "       [ 0.97935209,  1.01141798,  2.10235305,  1.22474487],\n",
       "       [-0.68873893, -1.44177879, -0.93959252, -0.81649658],\n",
       "       [ 1.44953316, -0.81095676, -0.79126472, -0.81649658],\n",
       "       [-0.58127549, -0.91609377, -0.9618907 , -0.81649658],\n",
       "       [-1.16494604,  1.39692033,  0.70295747,  1.22474487],\n",
       "       [-0.33755436,  0.97637231,  2.17198324,  1.22474487],\n",
       "       [-1.4251701 , -0.35536308,  0.01096892, -0.81649658],\n",
       "       [ 1.22103799, -0.35536308, -0.74860046, -0.81649658],\n",
       "       [-1.21536444, -1.19645911, -1.04823121, -0.81649658],\n",
       "       [-0.36815622, -0.14508907,  0.71098396,  1.22474487],\n",
       "       [ 1.66891268,  0.31050462,  1.05630029,  1.22474487],\n",
       "       [ 1.82661615,  1.29178333,  2.03657709,  1.22474487],\n",
       "       [-0.10562442, -0.91609377, -0.23131986, -0.81649658],\n",
       "       [ 1.23928386, -0.14508907,  0.06114256,  1.22474487],\n",
       "       [-0.85088936,  1.25673766,  2.36183886,  1.22474487],\n",
       "       [ 0.40739052,  0.5558243 , -0.65408202,  1.22474487],\n",
       "       [ 1.51824912, -1.23150478, -1.00266763, -0.81649658],\n",
       "       [ 0.17895762, -0.32031741, -0.45346732, -0.81649658],\n",
       "       [ 0.38131454, -1.58196146, -1.06163697, -0.81649658],\n",
       "       [-1.62219998, -0.53059142, -0.63577497, -0.81649658],\n",
       "       [-0.46610161,  0.59086997,  0.73311284, -0.81649658],\n",
       "       [-1.47552814,  1.39692033, -1.03758818, -0.81649658],\n",
       "       [-0.65419704, -0.46050008, -0.27676238, -0.81649658],\n",
       "       [-0.56233688,  1.25673766,  0.17736091,  1.22474487],\n",
       "       [ 1.04911295, -1.12636777, -0.52623208, -0.81649658],\n",
       "       [-1.61973635,  0.76609831,  1.79383551,  1.22474487],\n",
       "       [-0.20313225, -0.49554575, -0.52344304, -0.81649658],\n",
       "       [-0.61976882, -0.46050008, -0.49110299, -0.81649658],\n",
       "       [ 0.54965534,  1.78242268,  2.85907143,  1.22474487],\n",
       "       [-0.50550354, -0.25022607, -0.96547253, -0.81649658],\n",
       "       [-1.60832393, -0.28527174, -0.39157004, -0.81649658],\n",
       "       [ 1.43490899,  1.18664632, -0.58708927, -0.81649658],\n",
       "       [ 1.01060164,  0.48573296, -0.82421057, -0.81649658],\n",
       "       [ 1.42829558, -0.8810481 , -0.34161805, -0.81649658],\n",
       "       [-0.24671063, -0.49554575, -0.63592846, -0.81649658],\n",
       "       [ 0.43723276,  1.53710301,  1.30405014,  1.22474487],\n",
       "       [ 0.10225538, -1.58196146, -1.06338284, -0.81649658],\n",
       "       [ 0.40908157,  1.78242268,  2.7861667 ,  1.22474487],\n",
       "       [-0.81146227, -0.70581976, -0.3854552 , -0.81649658],\n",
       "       [-0.67088431,  0.62591563,  0.7814843 ,  1.22474487],\n",
       "       [-1.67268423,  0.48573296, -0.92245585, -0.81649658],\n",
       "       [-0.66291545, -1.51187012, -1.04109656, -0.81649658],\n",
       "       [-0.88470409, -0.53059142, -0.12520411,  1.22474487],\n",
       "       [ 0.26267471, -0.9861851 , -0.91615238, -0.81649658],\n",
       "       [ 0.29150928,  0.48573296,  1.09365995,  1.22474487],\n",
       "       [-0.03715423,  0.87123531,  0.57540826,  1.22474487],\n",
       "       [-0.70024438,  0.62591563,  1.10254329,  1.22474487],\n",
       "       [-1.53139482,  1.431966  , -0.37785628, -0.81649658],\n",
       "       [ 1.79459041, -0.56563708, -0.94376832, -0.81649658],\n",
       "       [-0.52964853,  0.90628098,  0.49013099, -0.81649658],\n",
       "       [ 0.03527515,  1.64224001,  1.15017048,  1.22474487],\n",
       "       [ 1.78826834, -0.91609377, -0.45082454, -0.81649658],\n",
       "       [-0.16210458, -1.58196146, -1.06503674, -0.81649658],\n",
       "       [-0.60760076, -1.33664178, -0.85397343, -0.81649658],\n",
       "       [ 0.12527683,  1.67728568,  2.29376847,  1.22474487]])"
      ]
     },
     "execution_count": 963,
     "metadata": {},
     "output_type": "execute_result"
    }
   ],
   "source": [
    "# DataFrame numérico:\n",
    "df_ejemplo = df.copy()\n",
    "df_ejemplo = df_ejemplo[['num_1', 'num_2', 'num_3', 'num_4']]\n",
    "\n",
    "# Importamos el objeto:\n",
    "from sklearn.preprocessing import StandardScaler\n",
    "\n",
    "# Nos creamos el objeto:\n",
    "scaler = StandardScaler()\n",
    "\n",
    "# Entrenamos:\n",
    "scaler.fit(df_ejemplo)\n",
    "\n",
    "# Y transformamos:\n",
    "df_ejemplo = scaler.transform(df_ejemplo)\n",
    "\n",
    "# Mostramos:\n",
    "df_ejemplo"
   ]
  },
  {
   "cell_type": "markdown",
   "metadata": {},
   "source": [
    "<a id='Separacion_Train_Test'></a>\n",
    "## 3. Separación Train/Test\n",
    "\n",
    "Tras convertir nuestras variables, antes de utilizar los modelos, es bueno separar en train y test. ¿Por qué? Porque si entreno sobre train y pruebo los patrones extraídos sobre test, me sirve para comprobar si he generalizado bien. Si no lo hiciésemos, puede que esté \"aprendiendo demasiado\" de los datos, y cuando vaya a predecir algo de verdad, pues devuelva valores erróneos, haciendo que nuestro modelo no sirva para casi nada."
   ]
  },
  {
   "cell_type": "code",
   "execution_count": 964,
   "metadata": {},
   "outputs": [],
   "source": [
    "# Nos copiamos el df para no modificarlo, y lo convertimos para tener solo variables numéricas:\n",
    "df_ejemplo = df.copy()\n",
    "df_ejemplo = pd.get_dummies(df_ejemplo)\n",
    "\n",
    "# Importamos objeto a utilizar:\n",
    "from sklearn.model_selection import train_test_split\n",
    "\n",
    "# Separamos las variables que podemos utilizar para predecir de la que queremos predecir:\n",
    "y_col = 'num_3' # vamos a predecir 'num_3'\n",
    "X_cols = [col for col in df_ejemplo.columns if col != y_col]\n",
    "\n",
    "X = df_ejemplo[X_cols]\n",
    "y = df_ejemplo[y_col]\n",
    "\n",
    "# Y lo utilizamos:\n",
    "X_train, X_test, y_train, y_test = train_test_split(X, y, test_size=0.3)\n",
    "\n",
    "# Ahora ya podemos acceder a las variables de train/test:\n",
    "#    X_train: variables predictoras con las que entrenar el modelo\n",
    "#    y_train: variable a predecir (etiquetas de los datos) con la que entrenar el modelo para que extraiga sus patornes en base a X_train\n",
    "#    X_test: variables predictoras con las que probar el modelo\n",
    "#    y_test: variable a predecir con la que probar el modelo"
   ]
  },
  {
   "cell_type": "markdown",
   "metadata": {},
   "source": [
    "<a id='Separacion_Tratamiento'></a>\n",
    "### 3.1 Tratamiento aplicado a la separación train/test\n",
    "\n",
    "Si queremos aplicar cualquier tratamiento de datos al modelo, como puede ser el relleno de nulos, escalado o conversión de variables categóricas, es necesario hacerlo de forma ordenada. En primer lugar, se tiene que hacer el tratamiento sobre ``train``, y luego aplicarlo sobre ``test``, ya que no podemos utilizar nada de información de test sobre train, pues de hacerlo estaríamos haciendo trampa.\n",
    "\n",
    "Los objetos de ``sklearn`` para el tratamiento de datos, como el escalado, están pensados para este tipo de casos: entrenamos sobre train para que extraiga los valores necesarios para su cáculo (como la media y la desviación típica, en el caso del escalado) y transformamos sobre train y sobre test (sí, será con los valores que hemos sacado de train).\n",
    "\n",
    "A continuación, se presenta un ejemplo de tratamiento de datos donde aplicamos conversión de variables y escalado"
   ]
  },
  {
   "cell_type": "code",
   "execution_count": 971,
   "metadata": {},
   "outputs": [],
   "source": [
    "# Nos copiamos el df para no modificarlo, y lo convertimos para tener solo variables numéricas:\n",
    "df_ejemplo = df.copy()\n",
    "\n",
    "# Importamos los objetos a utilizar:\n",
    "from sklearn.model_selection import train_test_split\n",
    "from sklearn.preprocessing import StandardScaler\n",
    "\n",
    "# Separamos las variables que podemos utilizar para predecir de la que queremos predecir:\n",
    "y_col = 'num_3' # vamos a predecir 'num_3'\n",
    "X_cols = [col for col in df_ejemplo.columns if col != y_col]\n",
    "\n",
    "X = df_ejemplo[X_cols]\n",
    "y = df_ejemplo[y_col]\n",
    "\n",
    "# Y lo utilizamos para separar los datos:\n",
    "X_train, X_test, y_train, y_test = train_test_split(X, y, test_size=0.3)\n",
    "\n",
    "# Convertimos las variables categóricas:\n",
    "# Tratamiento categóricas:\n",
    "X_train = pd.get_dummies(X_train)\n",
    "X_test = pd.get_dummies(X_test)\n",
    "\n",
    "for col in X_train.columns:\n",
    "    if col not in X_test.columns:\n",
    "        X_test[col] = 0\n",
    "        \n",
    "X_test = X_test[X_train.columns]\n",
    "\n",
    "# Nos creamos el objeto para escalar:\n",
    "scaler = StandardScaler()\n",
    "\n",
    "# Entrenamos con train:\n",
    "scaler.fit(X_train)\n",
    "\n",
    "# Y transformamos:\n",
    "# En train:\n",
    "X_train_scaled = scaler.transform(X_train)\n",
    "# Y en test:\n",
    "X_test_scaled = scaler.transform(X_test)\n",
    "\n",
    "# # Mostramos:\n",
    "# X_train_scaled"
   ]
  },
  {
   "cell_type": "code",
   "execution_count": 972,
   "metadata": {},
   "outputs": [
    {
     "data": {
      "text/html": [
       "<div>\n",
       "<style scoped>\n",
       "    .dataframe tbody tr th:only-of-type {\n",
       "        vertical-align: middle;\n",
       "    }\n",
       "\n",
       "    .dataframe tbody tr th {\n",
       "        vertical-align: top;\n",
       "    }\n",
       "\n",
       "    .dataframe thead th {\n",
       "        text-align: right;\n",
       "    }\n",
       "</style>\n",
       "<table border=\"1\" class=\"dataframe\">\n",
       "  <thead>\n",
       "    <tr style=\"text-align: right;\">\n",
       "      <th></th>\n",
       "      <th>num_1</th>\n",
       "      <th>num_2</th>\n",
       "      <th>num_4</th>\n",
       "      <th>cat_1_A</th>\n",
       "      <th>cat_1_B</th>\n",
       "      <th>cat_1_C</th>\n",
       "      <th>cat_1_D</th>\n",
       "    </tr>\n",
       "  </thead>\n",
       "  <tbody>\n",
       "    <tr>\n",
       "      <th>0</th>\n",
       "      <td>-0.538155</td>\n",
       "      <td>0.942555</td>\n",
       "      <td>-0.816497</td>\n",
       "      <td>-0.522233</td>\n",
       "      <td>-0.544331</td>\n",
       "      <td>-0.654654</td>\n",
       "      <td>1.699673</td>\n",
       "    </tr>\n",
       "    <tr>\n",
       "      <th>1</th>\n",
       "      <td>-0.215667</td>\n",
       "      <td>-0.436313</td>\n",
       "      <td>-0.816497</td>\n",
       "      <td>1.914854</td>\n",
       "      <td>-0.544331</td>\n",
       "      <td>-0.654654</td>\n",
       "      <td>-0.588348</td>\n",
       "    </tr>\n",
       "    <tr>\n",
       "      <th>2</th>\n",
       "      <td>-1.247672</td>\n",
       "      <td>1.838819</td>\n",
       "      <td>1.224745</td>\n",
       "      <td>-0.522233</td>\n",
       "      <td>1.837117</td>\n",
       "      <td>-0.654654</td>\n",
       "      <td>-0.588348</td>\n",
       "    </tr>\n",
       "    <tr>\n",
       "      <th>3</th>\n",
       "      <td>-0.175146</td>\n",
       "      <td>-1.504936</td>\n",
       "      <td>-0.816497</td>\n",
       "      <td>1.914854</td>\n",
       "      <td>-0.544331</td>\n",
       "      <td>-0.654654</td>\n",
       "      <td>-0.588348</td>\n",
       "    </tr>\n",
       "    <tr>\n",
       "      <th>4</th>\n",
       "      <td>0.834085</td>\n",
       "      <td>-0.160540</td>\n",
       "      <td>1.224745</td>\n",
       "      <td>-0.522233</td>\n",
       "      <td>-0.544331</td>\n",
       "      <td>1.527525</td>\n",
       "      <td>-0.588348</td>\n",
       "    </tr>\n",
       "    <tr>\n",
       "      <th>...</th>\n",
       "      <td>...</td>\n",
       "      <td>...</td>\n",
       "      <td>...</td>\n",
       "      <td>...</td>\n",
       "      <td>...</td>\n",
       "      <td>...</td>\n",
       "      <td>...</td>\n",
       "    </tr>\n",
       "    <tr>\n",
       "      <th>65</th>\n",
       "      <td>0.931238</td>\n",
       "      <td>-1.022332</td>\n",
       "      <td>-0.816497</td>\n",
       "      <td>-0.522233</td>\n",
       "      <td>1.837117</td>\n",
       "      <td>-0.654654</td>\n",
       "      <td>-0.588348</td>\n",
       "    </tr>\n",
       "    <tr>\n",
       "      <th>66</th>\n",
       "      <td>0.400495</td>\n",
       "      <td>0.494423</td>\n",
       "      <td>1.224745</td>\n",
       "      <td>-0.522233</td>\n",
       "      <td>-0.544331</td>\n",
       "      <td>1.527525</td>\n",
       "      <td>-0.588348</td>\n",
       "    </tr>\n",
       "    <tr>\n",
       "      <th>67</th>\n",
       "      <td>0.115335</td>\n",
       "      <td>-1.401521</td>\n",
       "      <td>-0.816497</td>\n",
       "      <td>-0.522233</td>\n",
       "      <td>-0.544331</td>\n",
       "      <td>-0.654654</td>\n",
       "      <td>1.699673</td>\n",
       "    </tr>\n",
       "    <tr>\n",
       "      <th>68</th>\n",
       "      <td>1.666084</td>\n",
       "      <td>-0.815502</td>\n",
       "      <td>1.224745</td>\n",
       "      <td>-0.522233</td>\n",
       "      <td>1.837117</td>\n",
       "      <td>-0.654654</td>\n",
       "      <td>-0.588348</td>\n",
       "    </tr>\n",
       "    <tr>\n",
       "      <th>69</th>\n",
       "      <td>-1.441020</td>\n",
       "      <td>1.597517</td>\n",
       "      <td>-0.816497</td>\n",
       "      <td>-0.522233</td>\n",
       "      <td>-0.544331</td>\n",
       "      <td>-0.654654</td>\n",
       "      <td>1.699673</td>\n",
       "    </tr>\n",
       "  </tbody>\n",
       "</table>\n",
       "<p>70 rows × 7 columns</p>\n",
       "</div>"
      ],
      "text/plain": [
       "       num_1     num_2     num_4   cat_1_A   cat_1_B   cat_1_C   cat_1_D\n",
       "0  -0.538155  0.942555 -0.816497 -0.522233 -0.544331 -0.654654  1.699673\n",
       "1  -0.215667 -0.436313 -0.816497  1.914854 -0.544331 -0.654654 -0.588348\n",
       "2  -1.247672  1.838819  1.224745 -0.522233  1.837117 -0.654654 -0.588348\n",
       "3  -0.175146 -1.504936 -0.816497  1.914854 -0.544331 -0.654654 -0.588348\n",
       "4   0.834085 -0.160540  1.224745 -0.522233 -0.544331  1.527525 -0.588348\n",
       "..       ...       ...       ...       ...       ...       ...       ...\n",
       "65  0.931238 -1.022332 -0.816497 -0.522233  1.837117 -0.654654 -0.588348\n",
       "66  0.400495  0.494423  1.224745 -0.522233 -0.544331  1.527525 -0.588348\n",
       "67  0.115335 -1.401521 -0.816497 -0.522233 -0.544331 -0.654654  1.699673\n",
       "68  1.666084 -0.815502  1.224745 -0.522233  1.837117 -0.654654 -0.588348\n",
       "69 -1.441020  1.597517 -0.816497 -0.522233 -0.544331 -0.654654  1.699673\n",
       "\n",
       "[70 rows x 7 columns]"
      ]
     },
     "execution_count": 972,
     "metadata": {},
     "output_type": "execute_result"
    }
   ],
   "source": [
    "# OJO: Lo que nos devuelve el scaler son arrays de numpy. Nos sirve para utilizarlo en el modelo, pero por si quisiéramos tratarlos después,\n",
    "#podemos volver a convertirlos a DataFrame, ya que tienen el mismo orden:\n",
    "X_train_scaled_df = pd.DataFrame(X_train_scaled, columns = X_train.columns)\n",
    "X_train_scaled_df = pd.DataFrame(X_train_scaled, columns = X_train.columns)\n",
    "\n",
    "# Mostramos:\n",
    "X_train_scaled_df"
   ]
  },
  {
   "cell_type": "markdown",
   "metadata": {},
   "source": [
    "<a id='Algoritmos_Supervisados'></a>\n",
    "## 4. Algoritmos Supervisados\n"
   ]
  },
  {
   "cell_type": "markdown",
   "metadata": {},
   "source": [
    "<a id='Regresion'></a>\n",
    "### 4.1 Regresión\n",
    "\n",
    "Los algoritmos de regresión nos servirán para predecir valores numéricos. Por ejemplo, predecir cuánto cuesta un producto, cuántas personas van a asistir a un evento, cuánto cobrará una persona... Son valores numéricos, con sus decimales y todo lo que ello supone.\n",
    "\n",
    "Antes de nada, tenemos que decidir qué vamos a predecir y separar los datos en train y test. En este caso, predeciremos 'num_3', que es numérica:"
   ]
  },
  {
   "cell_type": "code",
   "execution_count": 791,
   "metadata": {},
   "outputs": [],
   "source": [
    "# Nos copiamos el df para no modificarlo, y lo convertimos para tener solo variables numéricas:\n",
    "df_ejemplo = df.copy()\n",
    "df_ejemplo = pd.get_dummies(df_ejemplo)\n",
    "\n",
    "# Primero debemos separar en train y test (tal como hemos visto antes):\n",
    "from sklearn.model_selection import train_test_split\n",
    "\n",
    "y_col = 'num_3' # vamos a predecir 'num_3'\n",
    "X_cols = [col for col in df_ejemplo.columns if col != y_col]\n",
    "X = df_ejemplo[X_cols]\n",
    "y = df_ejemplo[y_col]\n",
    "\n",
    "X_train, X_test, y_train, y_test = train_test_split(X, y, test_size=0.3)"
   ]
  },
  {
   "cell_type": "markdown",
   "metadata": {},
   "source": [
    "<a id='Regresion_Lineal'></a>\n",
    "#### 4.1.1 Regresión Lineal"
   ]
  },
  {
   "cell_type": "code",
   "execution_count": 792,
   "metadata": {},
   "outputs": [
    {
     "data": {
      "text/plain": [
       "0.5705002078458175"
      ]
     },
     "execution_count": 792,
     "metadata": {},
     "output_type": "execute_result"
    }
   ],
   "source": [
    "# Importamos el objeto:\n",
    "from sklearn.linear_model import LinearRegression\n",
    "\n",
    "# Creamos el modelo:\n",
    "model = LinearRegression()\n",
    "\n",
    "# Entrenamos:\n",
    "model.fit(X_train, y_train)\n",
    "\n",
    "# Ahora ya podemos calcular el score (por defecto, R^2):\n",
    "model.score(X_test, y_test)"
   ]
  },
  {
   "cell_type": "code",
   "execution_count": 793,
   "metadata": {},
   "outputs": [
    {
     "data": {
      "text/plain": [
       "array([43.25908124])"
      ]
     },
     "execution_count": 793,
     "metadata": {},
     "output_type": "execute_result"
    }
   ],
   "source": [
    "# También podemos predecir, siempre y cuando le pasemos objetos con la misma estructura que lo que hemos utilizado para entrenar:\n",
    "model.predict([[0.303063, 2, 1, 0, 0, 0, 0]])"
   ]
  },
  {
   "cell_type": "markdown",
   "metadata": {},
   "source": [
    "<a id='Arbol_de'></a>\n",
    "#### 4.1.2 Regularización\n",
    "\n",
    "Podemos aplicar penalizaciones a las regresiones lineales para generalizar más:"
   ]
  },
  {
   "cell_type": "markdown",
   "metadata": {},
   "source": [
    "<a id='Ridge'></a>\n",
    "##### 4.1.2.1 Ridge"
   ]
  },
  {
   "cell_type": "code",
   "execution_count": 794,
   "metadata": {},
   "outputs": [
    {
     "data": {
      "text/plain": [
       "0.5960317493589804"
      ]
     },
     "execution_count": 794,
     "metadata": {},
     "output_type": "execute_result"
    }
   ],
   "source": [
    "# Importamos el objeto:\n",
    "from sklearn.linear_model import Ridge\n",
    "\n",
    "# Creamos el modelo:\n",
    "model = Ridge(alpha = 1)\n",
    "\n",
    "# Entrenamos:\n",
    "model.fit(X_train, y_train)\n",
    "\n",
    "# Ahora ya podemos calcular el score (por defecto, R^2):\n",
    "model.score(X_test, y_test)"
   ]
  },
  {
   "cell_type": "code",
   "execution_count": 795,
   "metadata": {},
   "outputs": [
    {
     "data": {
      "text/plain": [
       "array([40.16921112])"
      ]
     },
     "execution_count": 795,
     "metadata": {},
     "output_type": "execute_result"
    }
   ],
   "source": [
    "# También podemos predecir, siempre y cuando le pasemos objetos con la misma estructura que lo que hemos utilizado para entrenar:\n",
    "model.predict([[0.303063, 2, 1, 0, 0, 0, 0]])"
   ]
  },
  {
   "cell_type": "markdown",
   "metadata": {},
   "source": [
    "<a id='Lasso'></a>\n",
    "##### 4.1.2.2 Lasso"
   ]
  },
  {
   "cell_type": "code",
   "execution_count": 796,
   "metadata": {},
   "outputs": [
    {
     "data": {
      "text/plain": [
       "0.6564114172218355"
      ]
     },
     "execution_count": 796,
     "metadata": {},
     "output_type": "execute_result"
    }
   ],
   "source": [
    "# Importamos el objeto:\n",
    "from sklearn.linear_model import Lasso\n",
    "\n",
    "# Creamos el modelo:\n",
    "model = Lasso(alpha = 1)\n",
    "\n",
    "# Entrenamos:\n",
    "model.fit(X_train, y_train)\n",
    "\n",
    "# Ahora ya podemos calcular el score (por defecto, R^2):\n",
    "model.score(X_test, y_test)"
   ]
  },
  {
   "cell_type": "code",
   "execution_count": 797,
   "metadata": {},
   "outputs": [
    {
     "data": {
      "text/plain": [
       "array([42.915571])"
      ]
     },
     "execution_count": 797,
     "metadata": {},
     "output_type": "execute_result"
    }
   ],
   "source": [
    "# También podemos predecir, siempre y cuando le pasemos objetos con la misma estructura que lo que hemos utilizado para entrenar:\n",
    "model.predict([[0.303063, 2, 1, 0, 0, 0, 0]])"
   ]
  },
  {
   "cell_type": "markdown",
   "metadata": {},
   "source": [
    "<a id='Elastic_Net'></a>\n",
    "##### 4.1.2.3 Elastic Net\n",
    "\n",
    "``l1_ratio``"
   ]
  },
  {
   "cell_type": "code",
   "execution_count": 798,
   "metadata": {},
   "outputs": [
    {
     "data": {
      "text/plain": [
       "0.6733902122113493"
      ]
     },
     "execution_count": 798,
     "metadata": {},
     "output_type": "execute_result"
    }
   ],
   "source": [
    "# Importamos el objeto:\n",
    "from sklearn.linear_model import ElasticNet\n",
    "\n",
    "# Creamos el modelo:\n",
    "model = ElasticNet(alpha = 1.5, l1_ratio=1)\n",
    "\n",
    "# Entrenamos:\n",
    "model.fit(X_train, y_train)\n",
    "\n",
    "# Ahora ya podemos calcular el score (por defecto, R^2):\n",
    "model.score(X_test, y_test)"
   ]
  },
  {
   "cell_type": "code",
   "execution_count": 799,
   "metadata": {},
   "outputs": [
    {
     "data": {
      "text/plain": [
       "array([39.68020729])"
      ]
     },
     "execution_count": 799,
     "metadata": {},
     "output_type": "execute_result"
    }
   ],
   "source": [
    "# También podemos predecir, siempre y cuando le pasemos objetos con la misma estructura que lo que hemos utilizado para entrenar:\n",
    "model.predict([[0.303063, 2, 1, 0, 0, 0, 0]])"
   ]
  },
  {
   "cell_type": "markdown",
   "metadata": {},
   "source": [
    "<a id='Regresion_Arboles_de_decision'></a>\n",
    "#### 4.1.3 Árboles de decisión (Regresión)"
   ]
  },
  {
   "cell_type": "code",
   "execution_count": 800,
   "metadata": {},
   "outputs": [
    {
     "data": {
      "text/plain": [
       "0.4647189251483341"
      ]
     },
     "execution_count": 800,
     "metadata": {},
     "output_type": "execute_result"
    }
   ],
   "source": [
    "# Importamos el objeto:\n",
    "from sklearn.tree import DecisionTreeRegressor\n",
    "\n",
    "# Creamos el modelo:\n",
    "model = DecisionTreeRegressor(max_depth=3)\n",
    "\n",
    "# Entrenamos:\n",
    "model.fit(X_train, y_train)\n",
    "\n",
    "# Ahora ya podemos calcular el score (por defecto, R^2):\n",
    "model.score(X_test, y_test)"
   ]
  },
  {
   "cell_type": "code",
   "execution_count": 801,
   "metadata": {},
   "outputs": [
    {
     "data": {
      "text/plain": [
       "array([23.90826374])"
      ]
     },
     "execution_count": 801,
     "metadata": {},
     "output_type": "execute_result"
    }
   ],
   "source": [
    "# También podemos predecir, siempre y cuando le pasemos objetos con la misma estructura que lo que hemos utilizado para entrenar:\n",
    "model.predict([[0.303063, 2, 1, 0, 0, 0, 0]])"
   ]
  },
  {
   "cell_type": "markdown",
   "metadata": {},
   "source": [
    "<a id='Support_Vector_Regressor'></a>\n",
    "#### 4.1.4 Support Vector Regressor (SVR)"
   ]
  },
  {
   "cell_type": "markdown",
   "metadata": {},
   "source": [
    "<a id='SVR_Lineal'></a>\n",
    "##### 4.1.4.1 SVR Lineal"
   ]
  },
  {
   "cell_type": "code",
   "execution_count": 802,
   "metadata": {},
   "outputs": [
    {
     "name": "stderr",
     "output_type": "stream",
     "text": [
      "C:\\Users\\TheBridge\\anaconda3\\lib\\site-packages\\sklearn\\svm\\_base.py:976: ConvergenceWarning: Liblinear failed to converge, increase the number of iterations.\n",
      "  warnings.warn(\"Liblinear failed to converge, increase \"\n"
     ]
    },
    {
     "data": {
      "text/plain": [
       "0.6145150582044128"
      ]
     },
     "execution_count": 802,
     "metadata": {},
     "output_type": "execute_result"
    }
   ],
   "source": [
    "# Importamos el objeto:\n",
    "from sklearn.svm import LinearSVR\n",
    "\n",
    "# Creamos el modelo:\n",
    "model = LinearSVR(epsilon=10)\n",
    "\n",
    "# Entrenamos:\n",
    "model.fit(X_train, y_train)\n",
    "\n",
    "# Ahora ya podemos calcular el score (por defecto, R^2):\n",
    "model.score(X_test, y_test)"
   ]
  },
  {
   "cell_type": "code",
   "execution_count": 803,
   "metadata": {},
   "outputs": [
    {
     "data": {
      "text/plain": [
       "array([11.74912537])"
      ]
     },
     "execution_count": 803,
     "metadata": {},
     "output_type": "execute_result"
    }
   ],
   "source": [
    "# También podemos predecir, siempre y cuando le pasemos objetos con la misma estructura que lo que hemos utilizado para entrenar:\n",
    "model.predict([[0.303063, 2, 1, 0, 0, 0, 0]])"
   ]
  },
  {
   "cell_type": "markdown",
   "metadata": {},
   "source": [
    "<a id='SVR_kernel'></a>\n",
    "##### 4.1.4.2 SVR con kernel"
   ]
  },
  {
   "cell_type": "code",
   "execution_count": 804,
   "metadata": {},
   "outputs": [
    {
     "data": {
      "text/plain": [
       "0.4432993871099392"
      ]
     },
     "execution_count": 804,
     "metadata": {},
     "output_type": "execute_result"
    }
   ],
   "source": [
    "# Importamos el objeto:\n",
    "from sklearn.svm import SVR\n",
    "\n",
    "# Creamos el modelo:\n",
    "model = SVR(kernel='poly', epsilon=10)\n",
    "\n",
    "# Entrenamos:\n",
    "model.fit(X_train, y_train)\n",
    "\n",
    "# Ahora ya podemos calcular el score (por defecto, R^2):\n",
    "model.score(X_test, y_test)"
   ]
  },
  {
   "cell_type": "code",
   "execution_count": 805,
   "metadata": {},
   "outputs": [
    {
     "data": {
      "text/plain": [
       "array([17.18644878])"
      ]
     },
     "execution_count": 805,
     "metadata": {},
     "output_type": "execute_result"
    }
   ],
   "source": [
    "# También podemos predecir, siempre y cuando le pasemos objetos con la misma estructura que lo que hemos utilizado para entrenar:\n",
    "model.predict([[0.303063, 2, 1, 0, 0, 0, 0]])"
   ]
  },
  {
   "cell_type": "markdown",
   "metadata": {},
   "source": [
    "<a id='Clasificacion'></a>\n",
    "### 4.2 Clasificación\n",
    "\n",
    "Los algoritmos de clasificación nos servirán para predecir valores finitos de una variable, es decir, clases. Por ejemplo, predecir a qué conjunto de la población pertenece un individuo (niño, adolescente, adulto o jubilado), predecir si una persona comprará un producto o no, predecir si una persona es diestra o zurda... Son valores finitos que indican categorías. Normalmente, no tienen relación de orden entre ellas.\n",
    "\n",
    "Antes de nada, al igual que antes, tenemos que decidir qué vamos a predecir y separar los datos en train y test. En este caso, predeciremos 'num_4', que es una variable que solo toma 2 valores (1/0). Pese a ser números como tal, hacen referencia a una clase u otra:"
   ]
  },
  {
   "cell_type": "code",
   "execution_count": 806,
   "metadata": {},
   "outputs": [],
   "source": [
    "# Nos copiamos el df para no modificarlo, y lo convertimos para tener solo variables numéricas:\n",
    "df_ejemplo = df.copy()\n",
    "df_ejemplo = pd.get_dummies(df_ejemplo)\n",
    "\n",
    "# Primero debemos separar en train y test (tal como hemos visto antes):\n",
    "from sklearn.model_selection import train_test_split\n",
    "\n",
    "y_col = 'num_4' # vamos a predecir 'num_4'\n",
    "X_cols = [col for col in df_ejemplo.columns if col != y_col]\n",
    "X = df_ejemplo[X_cols]\n",
    "y = df_ejemplo[y_col]\n",
    "\n",
    "X_train, X_test, y_train, y_test = train_test_split(X, y, test_size=0.3)"
   ]
  },
  {
   "cell_type": "markdown",
   "metadata": {},
   "source": [
    "<a id='Regresion_Logistica'></a>\n",
    "#### 4.2.1 Regresión Logística"
   ]
  },
  {
   "cell_type": "code",
   "execution_count": 807,
   "metadata": {},
   "outputs": [
    {
     "data": {
      "text/plain": [
       "0.8666666666666667"
      ]
     },
     "execution_count": 807,
     "metadata": {},
     "output_type": "execute_result"
    }
   ],
   "source": [
    "# Importamos el objeto:\n",
    "from sklearn.linear_model import LogisticRegression\n",
    "\n",
    "# Creamos el modelo:\n",
    "model = LogisticRegression()\n",
    "\n",
    "# Entrenamos:\n",
    "model.fit(X_train, y_train)\n",
    "\n",
    "# Ahora ya podemos calcular el score (por defecto, accuracy):\n",
    "model.score(X_test, y_test)"
   ]
  },
  {
   "cell_type": "code",
   "execution_count": 808,
   "metadata": {},
   "outputs": [
    {
     "data": {
      "text/plain": [
       "array([0])"
      ]
     },
     "execution_count": 808,
     "metadata": {},
     "output_type": "execute_result"
    }
   ],
   "source": [
    "# También podemos predecir, siempre y cuando le pasemos objetos con la misma estructura que lo que hemos utilizado para entrenar:\n",
    "model.predict([[0.303063, 2, 1, 0, 0, 0, 1]])"
   ]
  },
  {
   "cell_type": "code",
   "execution_count": 809,
   "metadata": {},
   "outputs": [
    {
     "data": {
      "text/plain": [
       "array([[0.98435879, 0.01564121]])"
      ]
     },
     "execution_count": 809,
     "metadata": {},
     "output_type": "execute_result"
    }
   ],
   "source": [
    "# En el caso de los modelos de clasificación, podemos obtener no solo el valor predicho sino la probabilidad de que sea ese valor para el algoritmo:\n",
    "model.predict_proba([[0.303063, 2, 1, 0, 0, 0, 1]])"
   ]
  },
  {
   "cell_type": "markdown",
   "metadata": {},
   "source": [
    "<a id='Clasificacion_Arboles_de_decision'></a>\n",
    "#### 4.2.2 Árboles de decisión"
   ]
  },
  {
   "cell_type": "code",
   "execution_count": 810,
   "metadata": {},
   "outputs": [
    {
     "data": {
      "text/plain": [
       "0.9"
      ]
     },
     "execution_count": 810,
     "metadata": {},
     "output_type": "execute_result"
    }
   ],
   "source": [
    "### Importamos el objeto:\n",
    "from sklearn.tree import DecisionTreeClassifier\n",
    "\n",
    "# Creamos el modelo:\n",
    "model = DecisionTreeClassifier(max_depth=2)\n",
    "\n",
    "# Entrenamos:\n",
    "model.fit(X_train, y_train)\n",
    "\n",
    "# Ahora ya podemos calcular el score (por defecto, accuracy):\n",
    "model.score(X_test, y_test)"
   ]
  },
  {
   "cell_type": "code",
   "execution_count": 811,
   "metadata": {},
   "outputs": [
    {
     "data": {
      "text/plain": [
       "array([0])"
      ]
     },
     "execution_count": 811,
     "metadata": {},
     "output_type": "execute_result"
    }
   ],
   "source": [
    "# También podemos predecir, siempre y cuando le pasemos objetos con la misma estructura que lo que hemos utilizado para entrenar:\n",
    "model.predict([[0.303063, 2, 1, 0, 0, 0, 1]])"
   ]
  },
  {
   "cell_type": "code",
   "execution_count": 812,
   "metadata": {},
   "outputs": [
    {
     "data": {
      "text/plain": [
       "array([[0.96666667, 0.03333333]])"
      ]
     },
     "execution_count": 812,
     "metadata": {},
     "output_type": "execute_result"
    }
   ],
   "source": [
    "# En el caso de los modelos de clasificación, podemos obtener no solo el valor predicho sino la probabilidad de que sea ese valor para el algoritmo:\n",
    "model.predict_proba([[0.303063, 2, 1, 0, 0, 0, 1]])"
   ]
  },
  {
   "cell_type": "markdown",
   "metadata": {},
   "source": [
    "<a id='Clasificacion_KNN'></a>\n",
    "#### 4.2.3 K Nearest Neighbor (KNN)"
   ]
  },
  {
   "cell_type": "code",
   "execution_count": 813,
   "metadata": {},
   "outputs": [
    {
     "data": {
      "text/plain": [
       "0.9"
      ]
     },
     "execution_count": 813,
     "metadata": {},
     "output_type": "execute_result"
    }
   ],
   "source": [
    "### Importamos el objeto:\n",
    "from sklearn.neighbors import KNeighborsClassifier\n",
    "\n",
    "# Creamos el modelo:\n",
    "model = KNeighborsClassifier(n_neighbors=5)\n",
    "\n",
    "# Entrenamos:\n",
    "model.fit(X_train, y_train)\n",
    "\n",
    "# Ahora ya podemos calcular el score (por defecto, accuracy):\n",
    "model.score(X_test, y_test)"
   ]
  },
  {
   "cell_type": "code",
   "execution_count": 814,
   "metadata": {},
   "outputs": [
    {
     "data": {
      "text/plain": [
       "array([0])"
      ]
     },
     "execution_count": 814,
     "metadata": {},
     "output_type": "execute_result"
    }
   ],
   "source": [
    "# También podemos predecir, siempre y cuando le pasemos objetos con la misma estructura que lo que hemos utilizado para entrenar:\n",
    "model.predict([[0.303063, 2, 1, 0, 0, 0, 1]])"
   ]
  },
  {
   "cell_type": "code",
   "execution_count": 815,
   "metadata": {},
   "outputs": [
    {
     "data": {
      "text/plain": [
       "array([[1., 0.]])"
      ]
     },
     "execution_count": 815,
     "metadata": {},
     "output_type": "execute_result"
    }
   ],
   "source": [
    "# En el caso de los modelos de clasificación, podemos obtener no solo el valor predicho sino la probabilidad de que sea ese valor para el algoritmo:\n",
    "model.predict_proba([[0.303063, 2, 1, 0, 0, 0, 1]])"
   ]
  },
  {
   "cell_type": "markdown",
   "metadata": {},
   "source": [
    "Pues con esto, ya podemos utilizar nuestros modelos:"
   ]
  },
  {
   "cell_type": "markdown",
   "metadata": {},
   "source": [
    "<a id='Support_Vector_Classifier'></a>\n",
    "#### 4.2.4 Support Vector Classifier (SVC)"
   ]
  },
  {
   "cell_type": "markdown",
   "metadata": {},
   "source": [
    "<a id='SVC_Lineal'></a>\n",
    "##### 4.2.4.1 SVC Lineal"
   ]
  },
  {
   "cell_type": "code",
   "execution_count": 816,
   "metadata": {},
   "outputs": [
    {
     "name": "stderr",
     "output_type": "stream",
     "text": [
      "C:\\Users\\TheBridge\\anaconda3\\lib\\site-packages\\sklearn\\svm\\_base.py:976: ConvergenceWarning: Liblinear failed to converge, increase the number of iterations.\n",
      "  warnings.warn(\"Liblinear failed to converge, increase \"\n"
     ]
    },
    {
     "data": {
      "text/plain": [
       "0.7666666666666667"
      ]
     },
     "execution_count": 816,
     "metadata": {},
     "output_type": "execute_result"
    }
   ],
   "source": [
    "# Importamos el objeto:\n",
    "from sklearn.svm import LinearSVC\n",
    "\n",
    "# Creamos el modelo:\n",
    "model = LinearSVC(C=10)\n",
    "\n",
    "# Entrenamos:\n",
    "model.fit(X_train, y_train)\n",
    "\n",
    "# Ahora ya podemos calcular el score (por defecto, R^2):\n",
    "model.score(X_test, y_test)"
   ]
  },
  {
   "cell_type": "code",
   "execution_count": 817,
   "metadata": {},
   "outputs": [
    {
     "data": {
      "text/plain": [
       "array([0])"
      ]
     },
     "execution_count": 817,
     "metadata": {},
     "output_type": "execute_result"
    }
   ],
   "source": [
    "# También podemos predecir, siempre y cuando le pasemos objetos con la misma estructura que lo que hemos utilizado para entrenar:\n",
    "model.predict([[0.303063, 2, 1, 0, 0, 0, 1]])"
   ]
  },
  {
   "cell_type": "code",
   "execution_count": 818,
   "metadata": {},
   "outputs": [],
   "source": [
    "# Este modelo no tiene predict_proba"
   ]
  },
  {
   "cell_type": "markdown",
   "metadata": {},
   "source": [
    "<a id='SVC_kernel'></a>\n",
    "##### 4.2.4.2 SVR con kernel"
   ]
  },
  {
   "cell_type": "code",
   "execution_count": 819,
   "metadata": {},
   "outputs": [
    {
     "data": {
      "text/plain": [
       "0.9"
      ]
     },
     "execution_count": 819,
     "metadata": {},
     "output_type": "execute_result"
    }
   ],
   "source": [
    "# Importamos el objeto:\n",
    "from sklearn.svm import SVC\n",
    "\n",
    "# Creamos el modelo:\n",
    "model = SVC(kernel='poly', C=10)\n",
    "\n",
    "# Entrenamos:\n",
    "model.fit(X_train, y_train)\n",
    "\n",
    "# Ahora ya podemos calcular el score (por defecto, R^2):\n",
    "model.score(X_test, y_test)"
   ]
  },
  {
   "cell_type": "code",
   "execution_count": 820,
   "metadata": {},
   "outputs": [
    {
     "data": {
      "text/plain": [
       "array([0])"
      ]
     },
     "execution_count": 820,
     "metadata": {},
     "output_type": "execute_result"
    }
   ],
   "source": [
    "# También podemos predecir, siempre y cuando le pasemos objetos con la misma estructura que lo que hemos utilizado para entrenar:\n",
    "model.predict([[0.303063, 2, 1, 0, 0, 0, 0]])"
   ]
  },
  {
   "cell_type": "code",
   "execution_count": 821,
   "metadata": {},
   "outputs": [],
   "source": [
    "# Este modelo no tiene predict_proba"
   ]
  },
  {
   "cell_type": "markdown",
   "metadata": {},
   "source": [
    "<a id='Metricas'></a>\n",
    "## 5. Métricas\n",
    "\n",
    "En función del tipo de problema, regresión o clasificación, tendremos unas métricas u otras.\n",
    "\n",
    "*IMPORTANTE*: Las métricas dependen de la distribución de la variable objetivo:\n",
    " - Regresión: si tenemos muchos datos en torno cierta región, puede que los adivinemos muy bien a costa de fallar otros por bastante y que apenas se note en el resultado final.\n",
    " - Calsificación: el desbalanceo en clasificación es mucho menos evidente, y podemos pensar que está bien, pero si tenemos muchos de una clase, podemos decir que todos son de esa clase y obtener unas métricas altísimas, ya que estaríamos acertando la mayoría pero no sabríamos diferenciar una de otra."
   ]
  },
  {
   "cell_type": "markdown",
   "metadata": {},
   "source": [
    "<a id='Metricas_Regresion'></a>\n",
    "### 5.1 Regresión\n",
    "\n",
    "Las métricas de regresión se basan en calcular errores de los valores predichos frente a los reales."
   ]
  },
  {
   "cell_type": "code",
   "execution_count": 822,
   "metadata": {},
   "outputs": [
    {
     "data": {
      "text/plain": [
       "LinearRegression()"
      ]
     },
     "execution_count": 822,
     "metadata": {},
     "output_type": "execute_result"
    }
   ],
   "source": [
    "# Para evaluar las métricas de regresión, utilizaremos los resultados de un algoritmo de regresión:\n",
    "y_col = 'num_3' # vamos a predecir 'num_3'\n",
    "X_cols = [col for col in df_ejemplo.columns if col != y_col]\n",
    "X = df_ejemplo[X_cols]\n",
    "y = df_ejemplo[y_col]\n",
    "\n",
    "X_train, X_test, y_train, y_test = train_test_split(X, y, test_size=0.3)\n",
    "\n",
    "model = LinearRegression()\n",
    "model.fit(X_train, y_train)"
   ]
  },
  {
   "cell_type": "markdown",
   "metadata": {},
   "source": [
    "<a id='Metricas_MAE'></a>\n",
    "#### 5.1.1 MAE (Mean Absolute Error)"
   ]
  },
  {
   "cell_type": "code",
   "execution_count": 823,
   "metadata": {},
   "outputs": [
    {
     "data": {
      "text/plain": [
       "19.2841736808978"
      ]
     },
     "execution_count": 823,
     "metadata": {},
     "output_type": "execute_result"
    }
   ],
   "source": [
    "### Importamos el objeto:\n",
    "from sklearn.metrics import mean_absolute_error\n",
    "\n",
    "# Calculamos la métrica:\n",
    "mae = mean_absolute_error(y_test, model.predict(X_test))\n",
    "\n",
    "mae"
   ]
  },
  {
   "cell_type": "markdown",
   "metadata": {},
   "source": [
    "<a id='Metricas_MSE'></a>\n",
    "#### 5.1.2 MSE (Mean Squared Error)"
   ]
  },
  {
   "cell_type": "code",
   "execution_count": 824,
   "metadata": {},
   "outputs": [
    {
     "data": {
      "text/plain": [
       "666.0032375615858"
      ]
     },
     "execution_count": 824,
     "metadata": {},
     "output_type": "execute_result"
    }
   ],
   "source": [
    "### Importamos el objeto:\n",
    "from sklearn.metrics import mean_squared_error\n",
    "\n",
    "# Calculamos la métrica:\n",
    "mse = mean_squared_error(y_test, model.predict(X_test))\n",
    "\n",
    "mse"
   ]
  },
  {
   "cell_type": "markdown",
   "metadata": {},
   "source": [
    "<a id='Metricas_RMSE'></a>\n",
    "#### 5.1.3 RMSE (Root Mean Squared Error)"
   ]
  },
  {
   "cell_type": "code",
   "execution_count": 825,
   "metadata": {},
   "outputs": [
    {
     "data": {
      "text/plain": [
       "25.807038527533255"
      ]
     },
     "execution_count": 825,
     "metadata": {},
     "output_type": "execute_result"
    }
   ],
   "source": [
    "### Importamos el objeto:\n",
    "from sklearn.metrics import mean_absolute_error\n",
    "\n",
    "# Calculamos la métrica:\n",
    "rmse = mean_squared_error(y_test, model.predict(X_test))**(1/2)\n",
    "\n",
    "rmse"
   ]
  },
  {
   "cell_type": "markdown",
   "metadata": {},
   "source": [
    "Dependiendo de la magnitud de las unidades que estemos utilizando, en este caso las ``y``, este valor nos permitirá conocer si es bueno o mal. Ejemplo: si nos sale 20 y la ``y`` se mueve entorno a 50.000, es un error pequeño. En cambio, si se mueve en torno a 20, pues... tenemos problemas. "
   ]
  },
  {
   "cell_type": "markdown",
   "metadata": {},
   "source": [
    "<a id='Metricas_R2'></a>\n",
    "#### 5.1.4 $R^2$"
   ]
  },
  {
   "cell_type": "code",
   "execution_count": 826,
   "metadata": {},
   "outputs": [
    {
     "data": {
      "text/plain": [
       "0.6851649437566469"
      ]
     },
     "execution_count": 826,
     "metadata": {},
     "output_type": "execute_result"
    }
   ],
   "source": [
    "### Importamos el objeto:\n",
    "from sklearn.metrics import r2_score\n",
    "\n",
    "# Calculamos la métrica:\n",
    "r_2 = r2_score(y_test, model.predict(X_test))\n",
    "\n",
    "r_2"
   ]
  },
  {
   "cell_type": "markdown",
   "metadata": {},
   "source": [
    "<a id='Metricas_Clasificacion'></a>\n",
    "### 5.2 Clasificación\n",
    "\n",
    "Las métricas de clasificación se basan en calcular la matriz de confusión, donde se reflejan los aciertos frente a los fallos, ya que ahora no hay una distancia de error, sino que o aciertas la clase o fallas.\n",
    "\n",
    "En este apartado es especialmente interesante el caso en el que tengamos desbalanceos, pues"
   ]
  },
  {
   "cell_type": "code",
   "execution_count": 827,
   "metadata": {},
   "outputs": [
    {
     "name": "stderr",
     "output_type": "stream",
     "text": [
      "C:\\Users\\TheBridge\\anaconda3\\lib\\site-packages\\sklearn\\linear_model\\_logistic.py:762: ConvergenceWarning: lbfgs failed to converge (status=1):\n",
      "STOP: TOTAL NO. of ITERATIONS REACHED LIMIT.\n",
      "\n",
      "Increase the number of iterations (max_iter) or scale the data as shown in:\n",
      "    https://scikit-learn.org/stable/modules/preprocessing.html\n",
      "Please also refer to the documentation for alternative solver options:\n",
      "    https://scikit-learn.org/stable/modules/linear_model.html#logistic-regression\n",
      "  n_iter_i = _check_optimize_result(\n"
     ]
    },
    {
     "data": {
      "text/plain": [
       "LogisticRegression(random_state=42)"
      ]
     },
     "execution_count": 827,
     "metadata": {},
     "output_type": "execute_result"
    }
   ],
   "source": [
    "# Nos copiamos el df para no modificarlo, y lo convertimos para tener solo variables numéricas:\n",
    "df_ejemplo = df.copy()\n",
    "df_ejemplo = pd.get_dummies(df_ejemplo)\n",
    "\n",
    "# Primero debemos separar en train y test (tal como hemos visto antes):\n",
    "from sklearn.model_selection import train_test_split\n",
    "\n",
    "y_col = 'num_4' # vamos a predecir 'num_4'\n",
    "X_cols = [col for col in df_ejemplo.columns if col != y_col]\n",
    "X = df_ejemplo[X_cols]\n",
    "y = df_ejemplo[y_col]\n",
    "\n",
    "X_train, X_test, y_train, y_test = train_test_split(X, y, test_size=0.3, random_state=42)\n",
    "\n",
    "model = LogisticRegression(random_state=42)\n",
    "model.fit(X_train, y_train)"
   ]
  },
  {
   "cell_type": "markdown",
   "metadata": {},
   "source": [
    "<a id='Metricas_Matriz_Confusion'></a>\n",
    "#### 5.2.1 Matriz de confusión"
   ]
  },
  {
   "cell_type": "code",
   "execution_count": 828,
   "metadata": {},
   "outputs": [
    {
     "data": {
      "text/plain": [
       "<matplotlib.axes._subplots.AxesSubplot at 0x2fdb5f998b0>"
      ]
     },
     "execution_count": 828,
     "metadata": {},
     "output_type": "execute_result"
    },
    {
     "data": {
      "image/png": "[encoded data removed]",
      "text/plain": [
       "<Figure size 432x288 with 2 Axes>"
      ]
     },
     "metadata": {
      "needs_background": "light"
     },
     "output_type": "display_data"
    }
   ],
   "source": [
    "### Importamos el objeto:\n",
    "from sklearn.metrics import confusion_matrix\n",
    "import seaborn as sns\n",
    "\n",
    "# Calculamos la métrica:\n",
    "cm = confusion_matrix(y_test, model.predict(X_test))\n",
    "\n",
    "sns.heatmap(cm, annot=True)"
   ]
  },
  {
   "cell_type": "markdown",
   "metadata": {},
   "source": [
    "<a id='Metricas_Accuracy'></a>\n",
    "#### 5.2.2 Accuracy (Porcentaje de acierto)"
   ]
  },
  {
   "cell_type": "code",
   "execution_count": 829,
   "metadata": {},
   "outputs": [
    {
     "data": {
      "text/plain": [
       "0.9"
      ]
     },
     "execution_count": 829,
     "metadata": {},
     "output_type": "execute_result"
    }
   ],
   "source": [
    "### Importamos el objeto:\n",
    "from sklearn.metrics import accuracy_score\n",
    "\n",
    "# Calculamos la métrica:\n",
    "acu = accuracy_score(y_test, model.predict(X_test))\n",
    "\n",
    "acu"
   ]
  },
  {
   "cell_type": "markdown",
   "metadata": {},
   "source": [
    "<a id='Metricas_Precision'></a>\n",
    "#### 5.2.3 Precision"
   ]
  },
  {
   "cell_type": "code",
   "execution_count": 830,
   "metadata": {},
   "outputs": [
    {
     "data": {
      "text/plain": [
       "0.8333333333333334"
      ]
     },
     "execution_count": 830,
     "metadata": {},
     "output_type": "execute_result"
    }
   ],
   "source": [
    "### Importamos el objeto:\n",
    "from sklearn.metrics import precision_score\n",
    "\n",
    "# Calculamos la métrica:\n",
    "precision = precision_score(y_test, model.predict(X_test))\n",
    "\n",
    "precision"
   ]
  },
  {
   "cell_type": "markdown",
   "metadata": {},
   "source": [
    "<a id='Metricas_Recall'></a>\n",
    "#### 5.2.4 Recall"
   ]
  },
  {
   "cell_type": "code",
   "execution_count": 831,
   "metadata": {},
   "outputs": [
    {
     "data": {
      "text/plain": [
       "0.9090909090909091"
      ]
     },
     "execution_count": 831,
     "metadata": {},
     "output_type": "execute_result"
    }
   ],
   "source": [
    "### Importamos el objeto:\n",
    "from sklearn.metrics import recall_score\n",
    "\n",
    "# Calculamos la métrica:\n",
    "recall = recall_score(y_test, model.predict(X_test))\n",
    "\n",
    "recall"
   ]
  },
  {
   "cell_type": "markdown",
   "metadata": {},
   "source": [
    "<a id='Metricas_F1'></a>\n",
    "#### 5.2.5 F1-score"
   ]
  },
  {
   "cell_type": "code",
   "execution_count": 832,
   "metadata": {},
   "outputs": [
    {
     "data": {
      "text/plain": [
       "0.8695652173913043"
      ]
     },
     "execution_count": 832,
     "metadata": {},
     "output_type": "execute_result"
    }
   ],
   "source": [
    "### Importamos el objeto:\n",
    "from sklearn.metrics import f1_score\n",
    "\n",
    "# Calculamos la métrica:\n",
    "f1 = f1_score(y_test, model.predict(X_test))\n",
    "\n",
    "f1"
   ]
  },
  {
   "cell_type": "markdown",
   "metadata": {},
   "source": [
    "<a id='Metricas_AUC'></a>\n",
    "#### 5.2.5 AUC y Curva ROC"
   ]
  },
  {
   "cell_type": "code",
   "execution_count": 833,
   "metadata": {},
   "outputs": [
    {
     "data": {
      "text/plain": [
       "0.9019138755980862"
      ]
     },
     "execution_count": 833,
     "metadata": {},
     "output_type": "execute_result"
    }
   ],
   "source": [
    "### Importamos el objeto:\n",
    "from sklearn.metrics import roc_auc_score, plot_roc_curve\n",
    "\n",
    "# Calculamos la métrica:\n",
    "auc = roc_auc_score(y_test, model.predict(X_test))\n",
    "\n",
    "auc"
   ]
  },
  {
   "cell_type": "code",
   "execution_count": 834,
   "metadata": {},
   "outputs": [
    {
     "data": {
      "text/plain": [
       "<sklearn.metrics._plot.roc_curve.RocCurveDisplay at 0x2fdb60a7490>"
      ]
     },
     "execution_count": 834,
     "metadata": {},
     "output_type": "execute_result"
    },
    {
     "data": {
      "image/png": "[encoded data removed]",
      "text/plain": [
       "<Figure size 432x288 with 1 Axes>"
      ]
     },
     "metadata": {
      "needs_background": "light"
     },
     "output_type": "display_data"
    }
   ],
   "source": [
    "plot_roc_curve(model, X_test, y_test)"
   ]
  },
  {
   "cell_type": "code",
   "execution_count": 835,
   "metadata": {},
   "outputs": [
    {
     "data": {
      "image/png": "[encoded data removed]",
      "text/plain": [
       "<Figure size 432x288 with 1 Axes>"
      ]
     },
     "metadata": {
      "needs_background": "light"
     },
     "output_type": "display_data"
    }
   ],
   "source": [
    "### Importamos el objeto:\n",
    "from sklearn.metrics import roc_curve\n",
    "\n",
    "# Calculamos la métrica:\n",
    "fpr, tpr, thresholds = roc_curve(y_test, model.predict_proba(X_test)[:, 1])\n",
    "\n",
    "plt.plot(np.linspace(0, 1, 50), np.linspace(0, 1, 50), 'red')\n",
    "plt.plot(fpr, tpr)\n",
    "plt.grid();"
   ]
  },
  {
   "cell_type": "markdown",
   "metadata": {},
   "source": [
    "<a id='Ejemplos'></a>\n",
    "## 6. Ejemplos\n",
    "\n",
    "Este apartado vas a ser tú quien lo complete. Vas a disponer de un apartado para cada uno de los modelos que hemos visto. Tendremos un dataset para regresión y otro de clasificación."
   ]
  },
  {
   "cell_type": "markdown",
   "metadata": {},
   "source": [
    "<a id='Ejemplos_Regresion'></a>\n",
    "### 6.1 Regresión\n",
    "\n",
    "En este caso, utilizaremos el dataset del Titanic e intentaremos predecir el precio del billete (``Fare``):"
   ]
  },
  {
   "cell_type": "markdown",
   "metadata": {},
   "source": [
    "Antes de nada, transforma los datos y divídelos en train/test:"
   ]
  },
  {
   "cell_type": "code",
   "execution_count": 1079,
   "metadata": {},
   "outputs": [],
   "source": [
    "# Importamos librerías:\n",
    "import pandas as pd\n",
    "import numpy as np\n",
    "from sklearn.model_selection import train_test_split\n",
    "\n",
    "# Leemos df del csv:\n",
    "df = pd.read_csv(\"0_RESUMEN/data/titanic.csv\", sep='\\t')\n",
    "\n",
    "# Seleccionamos las columnas que nos interesan y separamos en train/test:\n",
    "y_col = 'Fare' # vamos a predecir 'Fare'\n",
    "X_cols = [col for col in df.columns if col not in ['PassengerId', 'Name', 'Ticket', 'Cabin', y_col]]\n",
    "X = df[X_cols]\n",
    "y = df[y_col]\n",
    "\n",
    "X_train, X_test, y_train, y_test = train_test_split(X, y, test_size=0.3)\n",
    "\n",
    "# Vamos a rellenar los nulos con las modas de train, para lo que podemos sacar un diccionario con las modas antes de convertir:\n",
    "modas = {col: val for col, val in zip(X_train.columns, X_train.mode().values[0])}\n",
    "\n",
    "# Convertimos:\n",
    "X_train = X_train.fillna(modas)\n",
    "X_test = X_test.fillna(modas)\n",
    "\n",
    "# Convertimos las variables categóricas:\n",
    "cat_cols = ['Pclass', 'SibSp', 'Parch', 'Sex', 'Embarked']\n",
    "# Tratamiento categóricas:\n",
    "X_train = pd.get_dummies(X_train, columns=cat_cols)\n",
    "X_test = pd.get_dummies(X_test, columns=cat_cols)\n",
    "\n",
    "for col in X_train.columns:\n",
    "    if col not in X_test.columns:\n",
    "        X_test[col] = 0\n",
    "        \n",
    "X_test = X_test[X_train.columns]\n",
    "\n",
    "# Nos creamos el objeto para escalar:\n",
    "scaler = StandardScaler()\n",
    "\n",
    "# Entrenamos con train:\n",
    "scaler.fit(X_train)\n",
    "\n",
    "# Y transformamos:\n",
    "# En train:\n",
    "X_train_scaled = scaler.transform(X_train)\n",
    "# Y en test:\n",
    "X_test_scaled = scaler.transform(X_test)"
   ]
  },
  {
   "cell_type": "markdown",
   "metadata": {},
   "source": [
    "<a id='Ejemplos_Regresion_Lineal'></a>\n",
    "#### 6.1.1 Regresión Lineal"
   ]
  },
  {
   "cell_type": "code",
   "execution_count": 1080,
   "metadata": {},
   "outputs": [
    {
     "name": "stdout",
     "output_type": "stream",
     "text": [
      "Train (R^2): 0.668119510699658\n",
      "Test (R^2): 0.3731378883534461\n"
     ]
    }
   ],
   "source": [
    "# Importamos el objeto:\n",
    "from sklearn.linear_model import LinearRegression\n",
    "\n",
    "# Creamos el modelo:\n",
    "model = LinearRegression()\n",
    "\n",
    "# Entrenamos:\n",
    "model.fit(X_train_scaled, y_train)\n",
    "\n",
    "# Ahora ya podemos calcular el score (por defecto, R^2):\n",
    "train_score = model.score(X_train_scaled, y_train)\n",
    "test_score = model.score(X_test_scaled, y_test)\n",
    "\n",
    "print(f\"Train (R^2): {train_score}\")\n",
    "print(f\"Test (R^2): {test_score}\")"
   ]
  },
  {
   "cell_type": "markdown",
   "metadata": {},
   "source": [
    "<a id='Ejemplos_Regularizacion'></a>\n",
    "#### 6.1.2 Regularización"
   ]
  },
  {
   "cell_type": "markdown",
   "metadata": {},
   "source": [
    "<a id='Ejemplos_Ridge'></a>\n",
    "##### 6.1.2.1 Ridge"
   ]
  },
  {
   "cell_type": "code",
   "execution_count": 1097,
   "metadata": {},
   "outputs": [
    {
     "name": "stdout",
     "output_type": "stream",
     "text": [
      "Train (R^2): 0.6680431403225132\n",
      "Test (R^2): 0.374834575679182\n"
     ]
    }
   ],
   "source": [
    "# Importamos el objeto:\n",
    "from sklearn.linear_model import Ridge\n",
    "\n",
    "# Creamos el modelo:\n",
    "model = Ridge(alpha=1.5)\n",
    "\n",
    "# Entrenamos:\n",
    "model.fit(X_train_scaled, y_train)\n",
    "\n",
    "# Ahora ya podemos calcular el score (por defecto, R^2):\n",
    "train_score = model.score(X_train_scaled, y_train)\n",
    "test_score = model.score(X_test_scaled, y_test)\n",
    "\n",
    "print(f\"Train (R^2): {train_score}\")\n",
    "print(f\"Test (R^2): {test_score}\")"
   ]
  },
  {
   "cell_type": "markdown",
   "metadata": {},
   "source": [
    "<a id='Ejemplos_Lasso'></a>\n",
    "##### 6.1.2.2 Lasso"
   ]
  },
  {
   "cell_type": "code",
   "execution_count": 1109,
   "metadata": {},
   "outputs": [
    {
     "name": "stdout",
     "output_type": "stream",
     "text": [
      "Train (R^2): 0.6524498168276089\n",
      "Test (R^2): 0.37452205733986454\n"
     ]
    }
   ],
   "source": [
    "# Importamos el objeto:\n",
    "from sklearn.linear_model import Lasso\n",
    "\n",
    "# Creamos el modelo:\n",
    "model = Lasso(alpha=1.75)\n",
    "\n",
    "# Entrenamos:\n",
    "model.fit(X_train_scaled, y_train)\n",
    "\n",
    "# Ahora ya podemos calcular el score (por defecto, R^2):\n",
    "train_score = model.score(X_train_scaled, y_train)\n",
    "test_score = model.score(X_test_scaled, y_test)\n",
    "\n",
    "print(f\"Train (R^2): {train_score}\")\n",
    "print(f\"Test (R^2): {test_score}\")"
   ]
  },
  {
   "cell_type": "markdown",
   "metadata": {},
   "source": [
    "<a id='Ejemplos_Elastic_Net'></a>\n",
    "##### 6.1.2.3 Elastic Net"
   ]
  },
  {
   "cell_type": "code",
   "execution_count": 1112,
   "metadata": {},
   "outputs": [
    {
     "name": "stdout",
     "output_type": "stream",
     "text": [
      "Train (R^2): 0.6265479890025998\n",
      "Test (R^2): 0.3810600195106405\n"
     ]
    }
   ],
   "source": [
    "# Importamos el objeto:\n",
    "from sklearn.linear_model import ElasticNet\n",
    "\n",
    "# Creamos el modelo:\n",
    "model = ElasticNet(alpha=1.75, l1_ratio=0.85)\n",
    "\n",
    "# Entrenamos:\n",
    "model.fit(X_train_scaled, y_train)\n",
    "\n",
    "# Ahora ya podemos calcular el score (por defecto, R^2):\n",
    "train_score = model.score(X_train_scaled, y_train)\n",
    "test_score = model.score(X_test_scaled, y_test)\n",
    "\n",
    "print(f\"Train (R^2): {train_score}\")\n",
    "print(f\"Test (R^2): {test_score}\")"
   ]
  },
  {
   "cell_type": "markdown",
   "metadata": {},
   "source": [
    "<a id='Ejemplos_Regresion_Arboles_de_decision'></a>\n",
    "#### 6.1.3 Árboles de decisión (Regresión)"
   ]
  },
  {
   "cell_type": "code",
   "execution_count": 1134,
   "metadata": {},
   "outputs": [
    {
     "name": "stdout",
     "output_type": "stream",
     "text": [
      "Train (R^2): 0.3969494915517149\n",
      "Test (R^2): 0.43086277141639007\n"
     ]
    }
   ],
   "source": [
    "# Importamos el objeto:\n",
    "from sklearn.tree import DecisionTreeRegressor\n",
    "\n",
    "# Creamos el modelo:\n",
    "model = DecisionTreeRegressor(max_depth=1)\n",
    "\n",
    "# Entrenamos:\n",
    "model.fit(X_train_scaled, y_train)\n",
    "\n",
    "# Ahora ya podemos calcular el score (por defecto, R^2):\n",
    "train_score = model.score(X_train_scaled, y_train)\n",
    "test_score = model.score(X_test_scaled, y_test)\n",
    "\n",
    "print(f\"Train (R^2): {train_score}\")\n",
    "print(f\"Test (R^2): {test_score}\")"
   ]
  },
  {
   "cell_type": "markdown",
   "metadata": {},
   "source": [
    "<a id='Ejemplos_Support_Vector_Regressor'></a>\n",
    "#### 6.1.4 Support Vector Regressor (SVR)"
   ]
  },
  {
   "cell_type": "markdown",
   "metadata": {},
   "source": [
    "<a id='Ejemplos_SVR_Lineal'></a>\n",
    "##### 6.1.4.1 SVR Lineal"
   ]
  },
  {
   "cell_type": "code",
   "execution_count": 1215,
   "metadata": {},
   "outputs": [
    {
     "name": "stdout",
     "output_type": "stream",
     "text": [
      "Train (R^2): 0.4057255580867013\n",
      "Test (R^2): 0.3645595007710828\n"
     ]
    },
    {
     "name": "stderr",
     "output_type": "stream",
     "text": [
      "C:\\Users\\TheBridge\\anaconda3\\lib\\site-packages\\sklearn\\svm\\_base.py:976: ConvergenceWarning: Liblinear failed to converge, increase the number of iterations.\n",
      "  warnings.warn(\"Liblinear failed to converge, increase \"\n"
     ]
    }
   ],
   "source": [
    "# Importamos el objeto:\n",
    "from sklearn.svm import LinearSVR\n",
    "\n",
    "# Creamos el modelo:\n",
    "model = LinearSVR(C=1500)\n",
    "\n",
    "# Entrenamos:\n",
    "model.fit(X_train_scaled, y_train)\n",
    "\n",
    "# Ahora ya podemos calcular el score (por defecto, R^2):\n",
    "train_score = model.score(X_train_scaled, y_train)\n",
    "test_score = model.score(X_test_scaled, y_test)\n",
    "\n",
    "print(f\"Train (R^2): {train_score}\")\n",
    "print(f\"Test (R^2): {test_score}\")"
   ]
  },
  {
   "cell_type": "markdown",
   "metadata": {},
   "source": [
    "<a id='Ejemplos_SVR_kernel'></a>\n",
    "##### 6.1.4.2 SVR con kernel"
   ]
  },
  {
   "cell_type": "code",
   "execution_count": 1148,
   "metadata": {},
   "outputs": [
    {
     "name": "stdout",
     "output_type": "stream",
     "text": [
      "Train (R^2): 0.6852575139950674\n",
      "Test (R^2): 0.34423969324149495\n"
     ]
    }
   ],
   "source": [
    "# Importamos el objeto:\n",
    "from sklearn.svm import SVR\n",
    "\n",
    "# Creamos el modelo:\n",
    "model = SVR(C=80, epsilon=0.05)\n",
    "\n",
    "# Entrenamos:\n",
    "model.fit(X_train_scaled, y_train)\n",
    "\n",
    "# Ahora ya podemos calcular el score (por defecto, R^2):\n",
    "train_score = model.score(X_train_scaled, y_train)\n",
    "test_score = model.score(X_test_scaled, y_test)\n",
    "\n",
    "print(f\"Train (R^2): {train_score}\")\n",
    "print(f\"Test (R^2): {test_score}\")"
   ]
  },
  {
   "cell_type": "markdown",
   "metadata": {},
   "source": [
    "<a id='Ejemplos_Clasificacion'></a>\n",
    "### 6.2 Clasificación\n",
    "\n",
    "En este caso, vamos a basarnos en el mismo dataset, el del Titanic, pero vamos a predecir el tipo de embarque de los pasajeros (``Embarked``):"
   ]
  },
  {
   "cell_type": "markdown",
   "metadata": {},
   "source": [
    "Al igual que antes, transforma los datos y divídelos en train/test:"
   ]
  },
  {
   "cell_type": "code",
   "execution_count": 1224,
   "metadata": {},
   "outputs": [],
   "source": [
    "# Importamos librerías:\n",
    "import pandas as pd\n",
    "import numpy as np\n",
    "from sklearn.model_selection import train_test_split\n",
    "\n",
    "# Leemos df del csv:\n",
    "df = pd.read_csv(\"0_RESUMEN/data/titanic.csv\", sep='\\t')\n",
    "\n",
    "# Quitamos aquellas que no tenemos target:\n",
    "df = df.dropna(subset=['Embarked'])\n",
    "\n",
    "# Seleccionamos las columnas que nos interesan y separamos en train/test:\n",
    "y_col = 'Embarked' # vamos a predecir 'Fare'\n",
    "X_cols = [col for col in df.columns if col not in ['PassengerId', 'Name', 'Ticket', 'Cabin', y_col]]\n",
    "X = df[X_cols]\n",
    "y = df[y_col]\n",
    "\n",
    "X_train, X_test, y_train, y_test = train_test_split(X, y, test_size=0.3)\n",
    "\n",
    "# Vamos a rellenar los nulos con las modas de train, para lo que podemos sacar un diccionario con las modas antes de convertir:\n",
    "modas = {col: val for col, val in zip(X_train.columns, X_train.mode().values[0])}\n",
    "\n",
    "# Convertimos:\n",
    "X_train = X_train.fillna(modas)\n",
    "X_test = X_test.fillna(modas)\n",
    "\n",
    "# Convertimos las variables categóricas:\n",
    "cat_cols = ['Pclass', 'SibSp', 'Parch', 'Sex']\n",
    "# Tratamiento categóricas:\n",
    "X_train = pd.get_dummies(X_train, columns=cat_cols)\n",
    "X_test = pd.get_dummies(X_test, columns=cat_cols)\n",
    "\n",
    "for col in X_train.columns:\n",
    "    if col not in X_test.columns:\n",
    "        X_test[col] = 0\n",
    "        \n",
    "X_test = X_test[X_train.columns]\n",
    "\n",
    "# Nos creamos el objeto para escalar:\n",
    "scaler = StandardScaler()\n",
    "\n",
    "# Entrenamos con train:\n",
    "scaler.fit(X_train)\n",
    "\n",
    "# Y transformamos:\n",
    "# En train:\n",
    "X_train_scaled = scaler.transform(X_train)\n",
    "# Y en test:\n",
    "X_test_scaled = scaler.transform(X_test)"
   ]
  },
  {
   "cell_type": "markdown",
   "metadata": {},
   "source": [
    "<a id='Ejemplos_Regresion_Logistica'></a>\n",
    "#### 6.2.1 Regresión Logística"
   ]
  },
  {
   "cell_type": "code",
   "execution_count": 1226,
   "metadata": {},
   "outputs": [
    {
     "name": "stdout",
     "output_type": "stream",
     "text": [
      "Train (accuracy): 0.7037037037037037\n",
      "Test (accuracy): 0.6808510638297872\n"
     ]
    }
   ],
   "source": [
    "# Importamos el objeto:\n",
    "from sklearn.linear_model import LogisticRegression\n",
    "\n",
    "# Creamos el modelo:\n",
    "model = LogisticRegression()\n",
    "\n",
    "# Entrenamos:\n",
    "model.fit(X_train_scaled, y_train)\n",
    "\n",
    "# Ahora ya podemos calcular el score (por defecto, R^2):\n",
    "train_score = model.score(X_train_scaled, y_train)\n",
    "test_score = model.score(X_test_scaled, y_test)\n",
    "\n",
    "print(f\"Train (accuracy): {train_score}\")\n",
    "print(f\"Test (accuracy): {test_score}\")"
   ]
  },
  {
   "cell_type": "markdown",
   "metadata": {},
   "source": [
    "<a id='Ejemplos_Clasificacion_Arboles_de_decision'></a>\n",
    "#### 6.2.2 Árboles de decisión"
   ]
  },
  {
   "cell_type": "code",
   "execution_count": 1232,
   "metadata": {},
   "outputs": [
    {
     "name": "stdout",
     "output_type": "stream",
     "text": [
      "Train (accuracy): 0.8148148148148148\n",
      "Test (accuracy): 0.7021276595744681\n"
     ]
    }
   ],
   "source": [
    "# Importamos el objeto:\n",
    "from sklearn.tree import DecisionTreeClassifier\n",
    "\n",
    "# Creamos el modelo:\n",
    "model = DecisionTreeClassifier(max_depth=4)\n",
    "\n",
    "# Entrenamos:\n",
    "model.fit(X_train_scaled, y_train)\n",
    "\n",
    "# Ahora ya podemos calcular el score (por defecto, R^2):\n",
    "train_score = model.score(X_train_scaled, y_train)\n",
    "test_score = model.score(X_test_scaled, y_test)\n",
    "\n",
    "print(f\"Train (accuracy): {train_score}\")\n",
    "print(f\"Test (accuracy): {test_score}\")"
   ]
  },
  {
   "cell_type": "markdown",
   "metadata": {},
   "source": [
    "<a id='Ejemplos_Clasificacion_KNN'></a>\n",
    "#### 6.2.3 K Nearest Neighbor (KNN)"
   ]
  },
  {
   "cell_type": "code",
   "execution_count": 1248,
   "metadata": {},
   "outputs": [
    {
     "name": "stdout",
     "output_type": "stream",
     "text": [
      "Train (accuracy): 0.75\n",
      "Test (accuracy): 0.7021276595744681\n"
     ]
    }
   ],
   "source": [
    "# Importamos el objeto:\n",
    "from sklearn.neighbors import KNeighborsClassifier\n",
    "\n",
    "# Creamos el modelo:\n",
    "model = KNeighborsClassifier(n_neighbors=5)\n",
    "\n",
    "# Entrenamos:\n",
    "model.fit(X_train_scaled, y_train)\n",
    "\n",
    "# Ahora ya podemos calcular el score (por defecto, R^2):\n",
    "train_score = model.score(X_train_scaled, y_train)\n",
    "test_score = model.score(X_test_scaled, y_test)\n",
    "\n",
    "print(f\"Train (accuracy): {train_score}\")\n",
    "print(f\"Test (accuracy): {test_score}\")"
   ]
  },
  {
   "cell_type": "markdown",
   "metadata": {},
   "source": [
    "<a id='Ejemplos_Support_Vector_Classifier'></a>\n",
    "#### 6.2.4 Support Vector Classifier (SVC)"
   ]
  },
  {
   "cell_type": "markdown",
   "metadata": {},
   "source": [
    "<a id='Ejemplos_SVC_Lineal'></a>\n",
    "##### 6.2.4.1 SVC Lineal"
   ]
  },
  {
   "cell_type": "code",
   "execution_count": 1255,
   "metadata": {},
   "outputs": [
    {
     "name": "stdout",
     "output_type": "stream",
     "text": [
      "Train (accuracy): 0.7222222222222222\n",
      "Test (accuracy): 0.723404255319149\n"
     ]
    }
   ],
   "source": [
    "# Importamos el objeto:\n",
    "from sklearn.svm import LinearSVC\n",
    "\n",
    "# Creamos el modelo:\n",
    "model = LinearSVC(C=0.005)\n",
    "\n",
    "# Entrenamos:\n",
    "model.fit(X_train_scaled, y_train)\n",
    "\n",
    "# Ahora ya podemos calcular el score (por defecto, R^2):\n",
    "train_score = model.score(X_train_scaled, y_train)\n",
    "test_score = model.score(X_test_scaled, y_test)\n",
    "\n",
    "print(f\"Train (accuracy): {train_score}\")\n",
    "print(f\"Test (accuracy): {test_score}\")"
   ]
  },
  {
   "cell_type": "markdown",
   "metadata": {},
   "source": [
    "<a id='Ejemplos_SVC_kernel'></a>\n",
    "##### 6.2.4.2 SVC con kernel"
   ]
  },
  {
   "cell_type": "code",
   "execution_count": 1281,
   "metadata": {},
   "outputs": [
    {
     "name": "stdout",
     "output_type": "stream",
     "text": [
      "Train (accuracy): 0.7407407407407407\n",
      "Test (accuracy): 0.723404255319149\n"
     ]
    }
   ],
   "source": [
    "# Importamos el objeto:\n",
    "from sklearn.svm import SVC\n",
    "\n",
    "# Creamos el modelo:\n",
    "model = SVC(C=1.75)\n",
    "\n",
    "# Entrenamos:\n",
    "model.fit(X_train_scaled, y_train)\n",
    "\n",
    "# Ahora ya podemos calcular el score (por defecto, R^2):\n",
    "train_score = model.score(X_train_scaled, y_train)\n",
    "test_score = model.score(X_test_scaled, y_test)\n",
    "\n",
    "print(f\"Train (accuracy): {train_score}\")\n",
    "print(f\"Test (accuracy): {test_score}\")"
   ]
  },
  {
   "cell_type": "code",
   "execution_count": null,
   "metadata": {},
   "outputs": [],
   "source": []
  }
 ],
 "metadata": {
  "kernelspec": {
   "display_name": "Python 3",
   "language": "python",
   "name": "python3"
  },
  "language_info": {
   "codemirror_mode": {
    "name": "ipython",
    "version": 3
   },
   "file_extension": ".py",
   "mimetype": "text/x-python",
   "name": "python",
   "nbconvert_exporter": "python",
   "pygments_lexer": "ipython3",
   "version": "3.8.3"
  }
 },
 "nbformat": 4,
 "nbformat_minor": 4
}
