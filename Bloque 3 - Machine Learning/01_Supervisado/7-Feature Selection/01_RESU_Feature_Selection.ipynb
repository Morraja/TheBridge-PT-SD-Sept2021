{
 "cells": [
  {
   "cell_type": "markdown",
   "metadata": {},
   "source": [
    "# Selección de variables (Feature Selection)\n",
    "\n",
    "En este notebook veremos los métodos más utilizados para seleccionar variables de nuestro dataframe que nos ayude a focalizar el problema. Pero, ¿por qué seleccionar variables, dónde queda eso de que necesitamos datos y cuantos más datos mejor? Pues sí y no, porque obtendremos mejores resultados cuanta más información **útil** dispongamos para extraer patrones.\n",
    "\n",
    "Existen dos razones principales por las que hacer selección de variables:\n",
    " - **Reducir complejidad coputacional.** Cuantos menos datos tengamos, menor carga tendrá que soportar el modelo, por lo que podrá realizar los cálculos mucho más rápido, y necesitaremos menores recursos para implementarlo.\n",
    " - **Reducir overfitting.** Algunos algoritmos se ven afectados por las variables que no aportan información para predecir la variable objetivo, ya que generan ruido y favorecen que el resultado sea menos preciso, pues el algoritmo no es capaz de detectar que no es información útil y hacen overfitting con estas variables"
   ]
  },
  {
   "cell_type": "markdown",
   "metadata": {},
   "source": [
    "Como hemos visto en la teoría, tenemos diferentes tipos de reducción de variables. Podemos diferenciar 3 tipos diferentes:\n",
    "\n",
    " - **Supervisado**: buscamos extraer la información comparando con la varaible objetivo.\n",
    " - **No supervisadoo**: como no tenemos variable objetivo, solo podemos buscar relaciones entre las propias variables\n",
    " - **Reducción de dimensionalidad**: buscamos reducir variables creándonos otras que sean combinaciones de las originales. Lo que buscamos aquí consiste en sacar la información mínima necesaria de las variables que tenemos para crearnos un conjunto de menos variables que las originales. Dentro de estos métodos entra nuestro amigo PCA, sobre el cual volveremos mucho más adelante.\n",
    " \n",
    "En este notebook veremos los 2 primeros, que son los que más vamos a utilizar, y que no suponen la pérdida de las variables originales. Para facilitar el seguimiento del notebook, se ha decidido dividirlo con el siguiente formato:\n",
    " - Selección basada en estadísticos (no supervisado y supervisado)\n",
    " - Selección basada en modelo (Solo supervisado):\n",
    "   - Intrínseco\n",
    "   - Wrapper\n"
   ]
  },
  {
   "cell_type": "markdown",
   "metadata": {},
   "source": [
    "## Selección basada en estadísticos\n",
    "\n",
    "La primera opción que se nos viene a la cabeza a la hora de reducir variables, es la eliminación de aquellas varaibles que no presentan cambios, es decir, las constantes, ya que no aportan absolutamente nada de información. Partiendo de esta premisa, es razonable asumir que las características con baja varianza son peores que aquellas con alta varianza. Por lo tanto, se puede considerar que las características con variación por debajo de un cierto umbral no serán útiles para nuestro modelo."
   ]
  },
  {
   "cell_type": "markdown",
   "metadata": {},
   "source": [
    "### Basado en estadísticos: No supervisado\n",
    "\n",
    "Para ello, nos vamos a basar en el objeto de ``sklearn`` llamado ``VarainceThreshold``, y es que para casi todo lo que te puedas imaginar hay un objeto de ``sklearn``. Su tilización será exactamente igual que los que hemos visto hasta la fecha: ``fit`` con los datos y posterior ``transform`` (o ``fit_transform`` directamente). Cuando lo creamos, podemos indicar el umbral que queremos utilizar para mantener o no una variable en nuestro dataset.\n",
    "\n",
    "Además, utilizaremos la función ``make_classification``, que nos generará automáticamente un dataset aleatorio con un target binario.\n",
    "\n",
    "Para comprobar el funcionamiento del objeto, utilizaremos el atributo ``shape``, que nos indicará cuántas filas (las mismas siempre) y columnas tiene la salida, pudiendo comprobar que se reducen las columnas."
   ]
  },
  {
   "cell_type": "code",
   "execution_count": 2,
   "metadata": {
    "ExecuteTime": {
     "end_time": "2020-11-19T10:10:17.058096Z",
     "start_time": "2020-11-19T10:10:13.843481Z"
    }
   },
   "outputs": [
    {
     "data": {
      "text/plain": [
       "(100, 20)"
      ]
     },
     "execution_count": 2,
     "metadata": {},
     "output_type": "execute_result"
    }
   ],
   "source": [
    "from sklearn.feature_selection import VarianceThreshold\n",
    "from sklearn.datasets import make_classification\n",
    "\n",
    "x_data_generated, y_data_generated = make_classification()\n",
    "x_data_generated.shape"
   ]
  },
  {
   "cell_type": "code",
   "execution_count": 3,
   "metadata": {
    "ExecuteTime": {
     "end_time": "2020-11-19T10:10:17.825065Z",
     "start_time": "2020-11-19T10:10:17.818065Z"
    }
   },
   "outputs": [
    {
     "data": {
      "text/plain": [
       "(100, 18)"
      ]
     },
     "execution_count": 3,
     "metadata": {},
     "output_type": "execute_result"
    }
   ],
   "source": [
    "# Empezamos con un umbral relativamente bajo, 0.7, lo que significa que se eliminarán aquellas variables que tengan una varainza de 0.7 o inferior:\n",
    "umbral = 0.7\n",
    "\n",
    "VarianceThreshold(umbral).fit_transform(x_data_generated).shape"
   ]
  },
  {
   "cell_type": "code",
   "execution_count": 4,
   "metadata": {
    "ExecuteTime": {
     "end_time": "2020-11-19T10:10:18.837626Z",
     "start_time": "2020-11-19T10:10:18.833589Z"
    }
   },
   "outputs": [
    {
     "data": {
      "text/plain": [
       "(100, 18)"
      ]
     },
     "execution_count": 4,
     "metadata": {},
     "output_type": "execute_result"
    }
   ],
   "source": [
    "# Subiendo el umbral de varianza, nos vamos quedando con las variables que varían más, es decir, con aquellas que más información nos aportan:\n",
    "umbral = 0.8\n",
    "\n",
    "VarianceThreshold(umbral).fit_transform(x_data_generated).shape"
   ]
  },
  {
   "cell_type": "code",
   "execution_count": 5,
   "metadata": {
    "ExecuteTime": {
     "end_time": "2020-11-19T10:10:20.212419Z",
     "start_time": "2020-11-19T10:10:20.207432Z"
    }
   },
   "outputs": [
    {
     "data": {
      "text/plain": [
       "(100, 15)"
      ]
     },
     "execution_count": 5,
     "metadata": {},
     "output_type": "execute_result"
    }
   ],
   "source": [
    "umbral = 0.9\n",
    "\n",
    "VarianceThreshold(umbral).fit_transform(x_data_generated).shape"
   ]
  },
  {
   "cell_type": "markdown",
   "metadata": {
    "heading_collapsed": true
   },
   "source": [
    "### Basado en estadísticos: Supervisado\n",
    "\n",
    "Además de lo que acabamos de ver para el caso \"No supervisado\", cuando disponemos de un objetivo podemos aplicar otras técnicas. En este caso, lo que vamos a hacer es utilizar la función ``f_classif``, que nos devuelve la relación de cada varaible con el objetivo. En el caso de clasificación utilizamos ``f_classif``, mientras que para los modelos de regresión utilizaremos ``f_rregression``.\n",
    "\n",
    "Si te fijas en el código, utilizaremos este objeto como argumento de otro objeto: ``SelectKBest``, que es un objeto que, dada una función de scoring (como es ``f_classif``) y un valor entero ``k``, me devolverá únicamente las ``k`` varaibles con mayor score en base a esa funciónd e scoring. En el ejemplo, nos quedaremos con las 5 variables que mayor relación tienen con el objetivo.\n",
    "\n",
    "Por si te interesa, existen otras funciones de scoring, como son ``mutual_info_classif`` o ``mutual_info_regression``.\n",
    "\n",
    "Además, utilizaremos la función ``cross_val_score`` para validar los resultados. Lo que hace esta función es evaluar un modelo haciendo *cross validation* sobre un conjunto de datos, buscando minimizar el error (el valor negativo es porque internamente busca maximizar algo, y queremos que el error sea mínimo)."
   ]
  },
  {
   "cell_type": "code",
   "execution_count": 6,
   "metadata": {
    "ExecuteTime": {
     "end_time": "2020-11-19T10:10:22.132032Z",
     "start_time": "2020-11-19T10:10:22.121062Z"
    },
    "hidden": true
   },
   "outputs": [],
   "source": [
    "from sklearn.feature_selection import SelectKBest, f_classif\n",
    "from sklearn.linear_model import LogisticRegression\n",
    "from sklearn.model_selection import cross_val_score\n",
    "\n",
    "x_data_kbest = SelectKBest(f_classif, k=5).fit_transform(x_data_generated, y_data_generated)\n",
    "x_data_varth = VarianceThreshold(.9).fit_transform(x_data_generated)"
   ]
  },
  {
   "cell_type": "markdown",
   "metadata": {},
   "source": [
    "Ahora vamos a comprobar si realmente mejora nuestro modelo o no. Para ello, utilizaremos el mimsmo modelo en todos, que en este caso será una regresión logística:"
   ]
  },
  {
   "cell_type": "code",
   "execution_count": 7,
   "metadata": {
    "ExecuteTime": {
     "end_time": "2020-11-19T10:10:24.915747Z",
     "start_time": "2020-11-19T10:10:24.911758Z"
    },
    "hidden": true
   },
   "outputs": [],
   "source": [
    "logit = LogisticRegression(solver='lbfgs', random_state=17)"
   ]
  },
  {
   "cell_type": "code",
   "execution_count": 8,
   "metadata": {
    "ExecuteTime": {
     "end_time": "2020-11-19T10:10:25.414124Z",
     "start_time": "2020-11-19T10:10:25.386181Z"
    },
    "hidden": true
   },
   "outputs": [
    {
     "data": {
      "text/plain": [
       "-0.25200045497449886"
      ]
     },
     "execution_count": 8,
     "metadata": {},
     "output_type": "execute_result"
    }
   ],
   "source": [
    "cross_val_score(logit, x_data_generated, y_data_generated, \n",
    "                scoring='neg_log_loss', cv=5).mean()"
   ]
  },
  {
   "cell_type": "code",
   "execution_count": 9,
   "metadata": {
    "ExecuteTime": {
     "end_time": "2020-11-19T10:10:25.923503Z",
     "start_time": "2020-11-19T10:10:25.907511Z"
    },
    "hidden": true
   },
   "outputs": [
    {
     "data": {
      "text/plain": [
       "-0.21056685727321672"
      ]
     },
     "execution_count": 9,
     "metadata": {},
     "output_type": "execute_result"
    }
   ],
   "source": [
    "cross_val_score(logit, x_data_kbest, y_data_generated, \n",
    "                scoring='neg_log_loss', cv=5).mean()"
   ]
  },
  {
   "cell_type": "code",
   "execution_count": 10,
   "metadata": {
    "ExecuteTime": {
     "end_time": "2020-11-19T10:10:26.516993Z",
     "start_time": "2020-11-19T10:10:26.500038Z"
    },
    "hidden": true
   },
   "outputs": [
    {
     "data": {
      "text/plain": [
       "-0.24344334581500177"
      ]
     },
     "execution_count": 10,
     "metadata": {},
     "output_type": "execute_result"
    }
   ],
   "source": [
    "cross_val_score(logit, x_data_varth, y_data_generated, \n",
    "                scoring='neg_log_loss', cv=5).mean()"
   ]
  },
  {
   "cell_type": "markdown",
   "metadata": {
    "hidden": true
   },
   "source": [
    "Como puedes observar, el valor se aproxima más a 0 cuando utilizamos nuestra selección de variables, lo que nos hace suponer que esto realmente funciona, auqnue para comprobarlo deberíamos utilizar un caso real, y no siempre nos va a resultar de utilidad."
   ]
  },
  {
   "cell_type": "markdown",
   "metadata": {},
   "source": [
    "### EJERCICIO\n",
    "\n",
    "Prueba la selección de variables que acabamos de ver con el conjunto de datos del Titanic. En este caso, intenta predecir si se trata de un hombre o de una mujer. Para ello, créate 1 modelo (el que quieras) y ejecútalo con las diferentes combinaciones, haciendo uso de la función ``cross_val_score``, por lo que no será necesario que dividas en train y test:"
   ]
  },
  {
   "cell_type": "code",
   "execution_count": 11,
   "metadata": {},
   "outputs": [],
   "source": [
    "import pandas as pd\n",
    "\n",
    "df = pd.read_csv(\"../../../data/titanic.csv\", sep='\\t')"
   ]
  },
  {
   "cell_type": "code",
   "execution_count": 12,
   "metadata": {},
   "outputs": [
    {
     "name": "stdout",
     "output_type": "stream",
     "text": [
      "Survived      int64\n",
      "Pclass        int64\n",
      "Age         float64\n",
      "SibSp         int64\n",
      "Parch         int64\n",
      "Embarked     object\n",
      "Sex          object\n",
      "dtype: object\n"
     ]
    }
   ],
   "source": [
    "from sklearn.tree import DecisionTreeClassifier\n",
    "\n",
    "X_cols = ['Survived', 'Pclass', 'Age', 'SibSp', 'Parch', 'Embarked']\n",
    "y_col = 'Sex'\n",
    "df = df[X_cols + [y_col]]\n",
    "df['Age'] = df['Age'].fillna(0)\n",
    "df['Embarked'] = df['Embarked'].fillna('')\n",
    "print(df.dtypes)\n",
    "\n",
    "X = pd.get_dummies(df[X_cols])\n",
    "Y = df[y_col]\n",
    "\n",
    "X_kbest = SelectKBest(f_classif, k=3).fit_transform(X, Y)\n",
    "X_varth = VarianceThreshold(.7).fit_transform(X)"
   ]
  },
  {
   "cell_type": "code",
   "execution_count": 13,
   "metadata": {},
   "outputs": [
    {
     "data": {
      "text/plain": [
       "(156, 3)"
      ]
     },
     "execution_count": 13,
     "metadata": {},
     "output_type": "execute_result"
    }
   ],
   "source": [
    "X_varth.shape"
   ]
  },
  {
   "cell_type": "code",
   "execution_count": 14,
   "metadata": {},
   "outputs": [],
   "source": [
    "model = DecisionTreeClassifier(max_depth=3)"
   ]
  },
  {
   "cell_type": "code",
   "execution_count": 16,
   "metadata": {
    "ExecuteTime": {
     "end_time": "2020-11-19T10:10:25.414124Z",
     "start_time": "2020-11-19T10:10:25.386181Z"
    },
    "hidden": true
   },
   "outputs": [
    {
     "data": {
      "text/plain": [
       "0.7824596774193548"
      ]
     },
     "execution_count": 16,
     "metadata": {},
     "output_type": "execute_result"
    }
   ],
   "source": [
    "cross_val_score(model, X, Y, scoring='accuracy', cv=5).mean()"
   ]
  },
  {
   "cell_type": "code",
   "execution_count": 20,
   "metadata": {
    "ExecuteTime": {
     "end_time": "2020-11-19T10:10:25.923503Z",
     "start_time": "2020-11-19T10:10:25.907511Z"
    },
    "hidden": true
   },
   "outputs": [
    {
     "data": {
      "text/plain": [
       "0.8012096774193548"
      ]
     },
     "execution_count": 20,
     "metadata": {},
     "output_type": "execute_result"
    }
   ],
   "source": [
    "cross_val_score(model, X_kbest, Y, scoring='accuracy', cv=5).mean()"
   ]
  },
  {
   "cell_type": "code",
   "execution_count": 19,
   "metadata": {
    "ExecuteTime": {
     "end_time": "2020-11-19T10:10:26.516993Z",
     "start_time": "2020-11-19T10:10:26.500038Z"
    },
    "hidden": true
   },
   "outputs": [
    {
     "data": {
      "text/plain": [
       "0.6284274193548386"
      ]
     },
     "execution_count": 19,
     "metadata": {},
     "output_type": "execute_result"
    }
   ],
   "source": [
    "cross_val_score(model, X_varth, Y, scoring='accuracy', cv=5).mean()"
   ]
  },
  {
   "cell_type": "code",
   "execution_count": null,
   "metadata": {},
   "outputs": [],
   "source": []
  },
  {
   "cell_type": "markdown",
   "metadata": {},
   "source": [
    "## Selección basada en modelo\n",
    "\n",
    "Otro enfoque que se suele dar a este probleam consiste en utilizar algún modelo de referencia para la selección de variables, basando en la imprtancia de estas en la toma de decisiones del modelo. Se suelen utilizar dos tipos de modelos: alguno basado en árboles como los árboles de decisión o un modelo lineal con regularización Lasso, para que sea propenso a eliminar aquellos pesos de las variables menos importantes.\n",
    "\n",
    "La premisa es clara: si las varaibles no aportan nada de información a un modelo simple, no es necesario arrastrarlas a uno más complejo."
   ]
  },
  {
   "cell_type": "markdown",
   "metadata": {},
   "source": [
    "### Supervisado intrínseco\n",
    "\n",
    "Para esta implementación, nos vamos a ayudar del objeto ``SelectFromModel``, que recibirá como un modelo como parámetro ``estimator`` y nos devolverá las variables más relevantes para dicho modelo.\n",
    "\n",
    "Además, utilizaremos un objeto que nos servirá de enlace con el próximo notebook: ``make_pipeline``. Este objeto nos permitirá enlazar más de un objeto de ``sklearn`` para pasárselo a nuestro ``cross_val_score`` y que podemos evaluarlo de forma directa, sin tener que hacer cosas \"por fuera\". Como veremos en el próximo notebook, estos \"pipelines\" nos serán de mucha utilidad.\n",
    "\n",
    "Finalmente, comprobamos cómo funcionan diferentes algoritmos: *LogisticRegression*, *DecisionTreeClassifier* y *DecisionTreeClassifier* con selección de variables:"
   ]
  },
  {
   "cell_type": "code",
   "execution_count": 26,
   "metadata": {
    "ExecuteTime": {
     "end_time": "2020-11-19T10:10:29.773202Z",
     "start_time": "2020-11-19T10:10:29.554472Z"
    }
   },
   "outputs": [
    {
     "name": "stdout",
     "output_type": "stream",
     "text": [
      "-0.16306275850824994\n",
      "-2.7631181035414594\n",
      "-0.1780273414861167\n"
     ]
    }
   ],
   "source": [
    "# Synthetic example\n",
    "\n",
    "from sklearn.datasets import make_classification\n",
    "from sklearn.tree import DecisionTreeClassifier\n",
    "from sklearn.feature_selection import SelectFromModel\n",
    "from sklearn.model_selection import cross_val_score\n",
    "from sklearn.pipeline import make_pipeline\n",
    "\n",
    "x_data_generated, y_data_generated = make_classification()\n",
    "\n",
    "clf = DecisionTreeClassifier(max_depth=10, random_state=17)\n",
    "pipe = make_pipeline(SelectFromModel(estimator=clf), logit)\n",
    "\n",
    "print(cross_val_score(logit, x_data_generated, y_data_generated, scoring='neg_log_loss', cv=5).mean())\n",
    "print(cross_val_score(clf, x_data_generated, y_data_generated, scoring='neg_log_loss', cv=5).mean())\n",
    "print(cross_val_score(pipe, x_data_generated, y_data_generated, scoring='neg_log_loss', cv=5).mean())"
   ]
  },
  {
   "cell_type": "markdown",
   "metadata": {},
   "source": [
    "Como puedes observar, en este caso nos mejora el modelo de regresión logística basándose en las mejores varaibles seleccionadas por el árbol de decisión, que por sí solo no es precisamente bueno. Sin embargo, esto no siempre es así, dependerá mucho de los datos, como todo en este mundo, auqnue por lo general suele mejorar más veces de las que empeora los resultados. Además, el número de variables modificará enormemente este resultado.\n",
    "\n",
    "Por otra parte, podemos aplicar la estandarización a nuestros datos para ver si mejoran los resultados:"
   ]
  },
  {
   "cell_type": "code",
   "execution_count": 27,
   "metadata": {
    "ExecuteTime": {
     "end_time": "2020-11-19T10:12:40.084628Z",
     "start_time": "2020-11-19T10:12:39.986914Z"
    }
   },
   "outputs": [
    {
     "name": "stdout",
     "output_type": "stream",
     "text": [
      "LR + selection:  -0.19112417902348622\n",
      "LR:  -0.17459386179109018\n",
      "DT:  -2.7631181035414594\n"
     ]
    }
   ],
   "source": [
    "from sklearn.preprocessing import StandardScaler\n",
    "\n",
    "x_data = x_data_generated\n",
    "y_data = y_data_generated\n",
    "\n",
    "pipe1 = make_pipeline(StandardScaler(), SelectFromModel(estimator=clf), logit)\n",
    "\n",
    "pipe2 = make_pipeline(StandardScaler(), logit)\n",
    "\n",
    "print('LR + selection: ', cross_val_score(pipe1, x_data_generated, y_data_generated, scoring='neg_log_loss', cv=5).mean())\n",
    "print('LR: ', cross_val_score(pipe2, x_data_generated, y_data_generated, scoring='neg_log_loss', cv=5).mean())\n",
    "print('DT: ', cross_val_score(clf, x_data_generated, y_data_generated, scoring='neg_log_loss', cv=5).mean())"
   ]
  },
  {
   "cell_type": "markdown",
   "metadata": {},
   "source": [
    "En este caso, y contra lo que podíamos imaginar, los resultados empeoran, poniendo de manifiesto que no siempre podemos anticiparnos a lo que va a pasar, que necesitamos probar y probar."
   ]
  },
  {
   "cell_type": "markdown",
   "metadata": {},
   "source": [
    "### EJERCICIO\n",
    "\n",
    "Utiliza el DataFrame que te dejo a continuación para trabajar los conceptos que acabamos de ver. Prueba los 2 modelos de clasificación que te apetezcan y compáralos entre sí y con sus versiones basadas en selección de variables con estimador basado en Árbol de decisión y Regresión Logística, así como con y sin estandarización. Es decir, deberías terminar con un total de 10 modelos:\n",
    " - Modelo A\n",
    " - Modelo B\n",
    " - Modelo A con selección de variables basado en RL\n",
    " - Modelo A con selección de variables basado en DT\n",
    " - Modelo B con selección de variables basado en RL\n",
    " - Modelo B con selección de variables basado en DT\n",
    " - Modelo A con selección de variables basado en RL y escalado\n",
    " - Modelo A con selección de variables basado en DT y escalado\n",
    " - Modelo B con selección de variables basado en RL y escalado\n",
    " - Modelo B con selección de variables basado en DT y escalado"
   ]
  },
  {
   "cell_type": "code",
   "execution_count": 48,
   "metadata": {},
   "outputs": [],
   "source": [
    "import pandas as pd\n",
    "\n",
    "df = pd.read_csv(\"../../../data/vgsales.csv\")\n",
    "\n",
    "def get_platform(x):\n",
    "    if x in ['DS', 'Wii', 'GBA', 'GC', '3DS', 'N64']:\n",
    "        return 'Nintendo'\n",
    "    elif x in ['PS2', 'PS3', 'PS', 'PSP', 'PS4', 'PSV', 'SNES']:\n",
    "        return 'Sony'\n",
    "    elif x in ['X360', 'PC', 'XB', 'XOne']:\n",
    "        return 'Microsoft'\n",
    "    else:\n",
    "        return ''\n",
    "df['Platform'] = df['Platform'].apply(lambda x: get_platform(x))\n",
    "\n",
    "df = df[df['Platform'] != '']\n",
    "df = df[df['Publisher'].isin(df['Publisher'].value_counts()[:20].index)]"
   ]
  },
  {
   "cell_type": "code",
   "execution_count": 49,
   "metadata": {},
   "outputs": [],
   "source": [
    "for col in ['NA_Sales', 'JP_Sales', 'Other_Sales']:\n",
    "    df[col + '_global'] = df[col]/df['Global_Sales']"
   ]
  },
  {
   "cell_type": "code",
   "execution_count": 50,
   "metadata": {},
   "outputs": [],
   "source": [
    "for col in ['NA_Sales', 'JP_Sales', 'Other_Sales']:\n",
    "    df[col + '_genre'] = df.groupby('Genre').apply(lambda x: x[col]/x[col].sum()).reset_index()[col]"
   ]
  },
  {
   "cell_type": "code",
   "execution_count": 53,
   "metadata": {},
   "outputs": [
    {
     "name": "stdout",
     "output_type": "stream",
     "text": [
      "LR: 0.6567996637023186\n",
      "LR + Select LR: 0.6510008479919984\n",
      "LR + Select DT: 0.6213147499873164\n",
      "DT: 0.6492234470995533\n",
      "DT + Select LR: 0.566058721633943\n",
      "DT + Select DT: 0.64961709899763\n"
     ]
    }
   ],
   "source": [
    "X_cols = ['Year', 'Genre', 'Publisher', 'NA_Sales', 'JP_Sales', 'Other_Sales', 'Global_Sales', \n",
    "          'NA_Sales_global', 'JP_Sales_global', 'Other_Sales_global', 'Global_Sales', \n",
    "          'NA_Sales_genre', 'JP_Sales_genre', 'Other_Sales_genre', 'Global_Sales']\n",
    "y_col = 'Platform'\n",
    "\n",
    "X = pd.get_dummies(df[X_cols]).fillna(0)\n",
    "y = df[y_col]\n",
    "\n",
    "dt = DecisionTreeClassifier(max_depth=5)\n",
    "lg = LogisticRegression(max_iter = 1000)\n",
    "\n",
    "pipe_ejercicio = make_pipeline(StandardScaler(), lg)\n",
    "pipe_ejercicio_2 = make_pipeline(StandardScaler(), SelectFromModel(estimator=lg), lg)\n",
    "pipe_ejercicio_3 = make_pipeline(StandardScaler(), SelectFromModel(estimator=dt), lg)\n",
    "pipe_ejercicio_4 = make_pipeline(StandardScaler(), dt)\n",
    "pipe_ejercicio_5 = make_pipeline(StandardScaler(), SelectFromModel(estimator=lg), dt)\n",
    "pipe_ejercicio_6 = make_pipeline(StandardScaler(), SelectFromModel(estimator=dt), dt)\n",
    "\n",
    "print(f\"LR: {cross_val_score(pipe_ejercicio, X, y, scoring='accuracy', cv=5).mean()}\")\n",
    "print(f\"LR + Select LR: {cross_val_score(pipe_ejercicio_2, X, y, scoring='accuracy', cv=5).mean()}\")\n",
    "print(f\"LR + Select DT: {cross_val_score(pipe_ejercicio_3, X, y, scoring='accuracy', cv=5).mean()}\")\n",
    "print(f\"DT: {cross_val_score(pipe_ejercicio_4, X, y, scoring='accuracy', cv=5).mean()}\")\n",
    "print(f\"DT + Select LR: {cross_val_score(pipe_ejercicio_5, X, y, scoring='accuracy', cv=5).mean()}\")\n",
    "print(f\"DT + Select DT: {cross_val_score(pipe_ejercicio_6, X, y, scoring='accuracy', cv=5).mean()}\")"
   ]
  },
  {
   "cell_type": "markdown",
   "metadata": {},
   "source": [
    "### Supervisado wrapper\n",
    "\n",
    "Por último, vamos a utilizar otro método que suele emplearse muy a menudo: la selección de variables de forma recursiva. Para ello, nos basaremos en el objeto de ``sklearn`` llamado ``RFE``, que recibe como parámetros el modelo a utilizar para evaluar la importancia de las variables (``estimator``), el número de variables que seleccionar (``n_features_to_select``) y el número de variables que eliminar en cada iteración (``step``).\n",
    "\n",
    "En este caso, vamos a probar el ejemplo sobre el dataset de dígitos, y obtendremos las variables más importantes, que en este caso serán los píxeles. No hace falta que entiendas la mayoría del código, solamente quédate con la parte donde se utiliza el RFE, que es el objeto que nos permitirá reducir las variables de forma recursiva:"
   ]
  },
  {
   "cell_type": "code",
   "execution_count": 236,
   "metadata": {
    "ExecuteTime": {
     "end_time": "2020-11-19T10:36:46.595134Z",
     "start_time": "2020-11-19T10:36:36.919545Z"
    }
   },
   "outputs": [
    {
     "data": {
      "image/png": "[encoded data removed]",
      "text/plain": [
       "<Figure size 288x288 with 2 Axes>"
      ]
     },
     "metadata": {
      "needs_background": "light"
     },
     "output_type": "display_data"
    }
   ],
   "source": [
    "from sklearn.svm import SVC\n",
    "from sklearn.datasets import load_digits\n",
    "from sklearn.feature_selection import RFE\n",
    "import matplotlib.pyplot as plt\n",
    "\n",
    "# Cargamos los datos en \"X\" e \"y\":\n",
    "digits = load_digits()\n",
    "X = digits.images.reshape((len(digits.images), -1))\n",
    "y = digits.target\n",
    "\n",
    "# Creamos el objeto RFE y lo utilizamos para rankear la importancia de cada pixel:\n",
    "svc = SVC(kernel=\"linear\", C=1)\n",
    "rfe = RFE(estimator=svc, n_features_to_select=1, step=1)\n",
    "rfe.fit(X, y)\n",
    "ranking = rfe.ranking_.reshape(digits.images[0].shape)\n",
    "\n",
    "# Graficamos este ranking:\n",
    "plt.matshow(ranking, cmap=plt.cm.Blues)\n",
    "plt.colorbar()\n",
    "plt.title(\"Pixels más importantes según RFE\")\n",
    "plt.show()"
   ]
  },
  {
   "cell_type": "code",
   "execution_count": 237,
   "metadata": {
    "ExecuteTime": {
     "end_time": "2020-11-19T10:42:05.336475Z",
     "start_time": "2020-11-19T10:41:59.409990Z"
    }
   },
   "outputs": [
    {
     "data": {
      "text/plain": [
       "(1797, 10)"
      ]
     },
     "execution_count": 237,
     "metadata": {},
     "output_type": "execute_result"
    }
   ],
   "source": [
    "svc = SVC(kernel=\"linear\", C=1)\n",
    "rfe = RFE(estimator=svc, n_features_to_select=10, step=1)\n",
    "rfe.fit_transform(X, y).shape"
   ]
  },
  {
   "cell_type": "code",
   "execution_count": 238,
   "metadata": {},
   "outputs": [
    {
     "data": {
      "text/plain": [
       "(1797, 64)"
      ]
     },
     "execution_count": 238,
     "metadata": {},
     "output_type": "execute_result"
    }
   ],
   "source": [
    "X.shape"
   ]
  },
  {
   "cell_type": "markdown",
   "metadata": {},
   "source": [
    "### EJERCICIO\n",
    "\n",
    "Vuelve a leer el DataFrame del Titanic y crea un modelo que sea capaz de predecir si una persona ha sobrevivido o no. Para ello, realiza lo siguiente:\n",
    " 1. Modelo regresión logística\n",
    " 2. Modelo regresión logística con estandarización\n",
    " 3. Modelo regresión logística con selección de varaibles basado en varianza\n",
    " 4. Modelo regresión logística con selección de variables basado en árbol de decisión\n",
    " 5. Modelo regresión logística con selección de variables basado en árbol de decisión y escalado\n",
    " 6. Modelo regresión logística con selección de variables basado en RFE\n",
    " 7. Modelo regresión logística con selección de variables basado en RFE y escalado "
   ]
  },
  {
   "cell_type": "code",
   "execution_count": null,
   "metadata": {},
   "outputs": [],
   "source": []
  },
  {
   "cell_type": "code",
   "execution_count": null,
   "metadata": {},
   "outputs": [],
   "source": []
  }
 ],
 "metadata": {
  "kernelspec": {
   "display_name": "Python 3",
   "language": "python",
   "name": "python3"
  },
  "language_info": {
   "codemirror_mode": {
    "name": "ipython",
    "version": 3
   },
   "file_extension": ".py",
   "mimetype": "text/x-python",
   "name": "python",
   "nbconvert_exporter": "python",
   "pygments_lexer": "ipython3",
   "version": "3.8.3"
  },
  "nbTranslate": {
   "displayLangs": [
    "*"
   ],
   "hotkey": "alt-t",
   "langInMainMenu": true,
   "sourceLang": "en",
   "targetLang": "fr",
   "useGoogleTranslate": true
  },
  "toc": {
   "nav_menu": {},
   "number_sections": true,
   "sideBar": true,
   "skip_h1_title": false,
   "title_cell": "Table of Contents",
   "title_sidebar": "Contents",
   "toc_cell": false,
   "toc_position": {},
   "toc_section_display": true,
   "toc_window_display": false
  },
  "varInspector": {
   "cols": {
    "lenName": 16,
    "lenType": 16,
    "lenVar": 40
   },
   "kernels_config": {
    "python": {
     "delete_cmd_postfix": "",
     "delete_cmd_prefix": "del ",
     "library": "var_list.py",
     "varRefreshCmd": "print(var_dic_list())"
    },
    "r": {
     "delete_cmd_postfix": ") ",
     "delete_cmd_prefix": "rm(",
     "library": "var_list.r",
     "varRefreshCmd": "cat(var_dic_list()) "
    }
   },
   "types_to_exclude": [
    "module",
    "function",
    "builtin_function_or_method",
    "instance",
    "_Feature"
   ],
   "window_display": false
  }
 },
 "nbformat": 4,
 "nbformat_minor": 4
}
