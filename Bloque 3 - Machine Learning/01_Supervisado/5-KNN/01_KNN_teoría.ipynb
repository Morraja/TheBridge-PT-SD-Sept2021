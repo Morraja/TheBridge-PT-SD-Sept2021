{
 "cells": [
  {
   "cell_type": "markdown",
   "metadata": {},
   "source": [
    "## Algoritmo KNN\n",
    "\n",
    "El algoritmo KNN (K Nearest Neighbors) trata de buscar los K puntos más cercanos a un punto concreto para poder inferir su valor."
   ]
  },
  {
   "cell_type": "code",
   "execution_count": 217,
   "metadata": {},
   "outputs": [],
   "source": [
    "import matplotlib.pyplot as plt\n",
    "import pandas as pd\n",
    "import seaborn as sns\n",
    "from sklearn.neighbors import KNeighborsClassifier"
   ]
  },
  {
   "cell_type": "markdown",
   "metadata": {},
   "source": [
    "### Ejemplo\n",
    "\n",
    "Imaginemos que seleccionamos 5 personas aleatorias y apuntamos su altura, peso y género (Hombre o mujer). Apuntamos sus datos en una libreta que tengamos a mano (o notebook) y los analizamos (creamos un DataFrame):"
   ]
  },
  {
   "cell_type": "code",
   "execution_count": 227,
   "metadata": {},
   "outputs": [],
   "source": [
    "data = {'Masa': [50, 80, 90, 45, 60, 40, 30],\n",
    "        'Altura': [1.48, 1.82, 1.85, 1.55, 1.60, 2.00, 2.10],\n",
    "        'Genero': ['m', 'h', 'h', 'm', 'm', 'z', 'z']}\n",
    "\n",
    "df = pd.DataFrame(data)"
   ]
  },
  {
   "cell_type": "markdown",
   "metadata": {},
   "source": [
    "Ahora, veamos los datos de la mejor forma posible, con un gráfico de dispersión:"
   ]
  },
  {
   "cell_type": "code",
   "execution_count": 231,
   "metadata": {},
   "outputs": [
    {
     "data": {
      "image/png": "[encoded data removed]",
      "text/plain": [
       "<Figure size 432x288 with 1 Axes>"
      ]
     },
     "metadata": {
      "needs_background": "light"
     },
     "output_type": "display_data"
    }
   ],
   "source": [
    "ax = plt.axes()\n",
    "\n",
    "ax.scatter(df.loc[df['Genero'] == 'h', 'Masa'],\n",
    "           df.loc[df['Genero'] == 'h', 'Altura'],\n",
    "           c=\"red\",\n",
    "           label=\"Hombre\")\n",
    "ax.scatter(df.loc[df['Genero'] == 'm', 'Masa'],\n",
    "           df.loc[df['Genero'] == 'm', 'Altura'],\n",
    "           c=\"blue\",\n",
    "           label=\"Mujer\")\n",
    "ax.scatter(df.loc[df['Genero'] == 'z', 'Masa'],\n",
    "           df.loc[df['Genero'] == 'z', 'Altura'],\n",
    "           c=\"green\",\n",
    "           label=\"??\")\n",
    "\n",
    "plt.xlabel(\"Masa\")\n",
    "plt.ylabel(\"Altura\")\n",
    "ax.legend()\n",
    "plt.grid()\n",
    "plt.show()"
   ]
  },
  {
   "cell_type": "markdown",
   "metadata": {},
   "source": [
    "Si nos dieran datos de una sexta persona, pero no nos dieran su género, ¿Podríamos adivinarlo de alguna forma? Pintemos los datos:"
   ]
  },
  {
   "cell_type": "code",
   "execution_count": 232,
   "metadata": {},
   "outputs": [
    {
     "data": {
      "image/png": "[encoded data removed]",
      "text/plain": [
       "<Figure size 432x288 with 1 Axes>"
      ]
     },
     "metadata": {
      "needs_background": "light"
     },
     "output_type": "display_data"
    }
   ],
   "source": [
    "punto_nuevo = {'Masa': [70],\n",
    "               'Altura': [1.82]}\n",
    "\n",
    "\n",
    "punto_nuevo = pd.DataFrame(punto_nuevo)\n",
    "\n",
    "ax = plt.axes()\n",
    "\n",
    "ax.scatter(df.loc[df['Genero'] == 'h', 'Masa'],\n",
    "           df.loc[df['Genero'] == 'h', 'Altura'],\n",
    "           c=\"red\",\n",
    "           label=\"Hombre\")\n",
    "\n",
    "ax.scatter(df.loc[df['Genero'] == 'm', 'Masa'],\n",
    "           df.loc[df['Genero'] == 'm', 'Altura'],\n",
    "           c=\"blue\",\n",
    "           label=\"Mujer\")\n",
    "\n",
    "ax.scatter(punto_nuevo['Masa'],\n",
    "           punto_nuevo['Altura'],\n",
    "           c=\"black\",\n",
    "          label='?')\n",
    "plt.xlabel(\"Masa\")\n",
    "plt.ylabel(\"Altura\")\n",
    "ax.legend()\n",
    "plt.grid()"
   ]
  },
  {
   "cell_type": "markdown",
   "metadata": {},
   "source": [
    "Dirías que es 'Hombre', ¿verdad? ¿Cómo lo has racionado?\n",
    "\n",
    "Si tu pensamiento es como el de la mayoría, habrás hecho (aunque sea de manera inconsciente) la diferencia entre ambos grupos. Al estar más cerca del grupo formado por los puntos que sabemos que son 'Hombres', decidimos que es 'Hombre'. Pues esto es lo que hace el algoritmo KNN, calcula la distancia de los puntos entre sí y decide a qué grupo pertenece, solo que en vez de utilizar todos los datos posibles, utiliza los K vecinos más próximos."
   ]
  },
  {
   "cell_type": "code",
   "execution_count": 235,
   "metadata": {},
   "outputs": [
    {
     "name": "stdout",
     "output_type": "stream",
     "text": [
      "(7, 1)\n",
      "['m']\n"
     ]
    },
    {
     "name": "stderr",
     "output_type": "stream",
     "text": [
      "<ipython-input-235-ece87006bfb6>:7: DataConversionWarning: A column-vector y was passed when a 1d array was expected. Please change the shape of y to (n_samples, ), for example using ravel().\n",
      "  knn.fit(X, y)\n"
     ]
    }
   ],
   "source": [
    "from sklearn.neighbors import KNeighborsClassifier\n",
    "\n",
    "knn = KNeighborsClassifier(n_neighbors=5)\n",
    "X = df[['Masa', 'Altura']]\n",
    "y = df[['Genero']]\n",
    "\n",
    "knn.fit(X, y)\n",
    "\n",
    "print(y.shape)\n",
    "\n",
    "prediccion = knn.predict(punto_nuevo)\n",
    "print(prediccion)"
   ]
  },
  {
   "cell_type": "markdown",
   "metadata": {},
   "source": [
    "Si quieres más información, puedes verlo en [documentación](https://scikit-learn.org/stable/modules/neighbors.html#nearest-neighbors-classification).\n",
    "\n",
    "\n",
    "### EJERCICIO\n",
    "\n",
    "Vamos a practicar un poco más. Lee el dataset de Anuncios en redes sociales y crea un modelo de predicción con los diferentes algortimos que hemos visto, sabiendo que nuestro objetivo será predecir si el usuario compra (``Purchased = 1``) o no.\n",
    "\n",
    "1. ¿Se trata de un problema de regresión o de clasificación?\n",
    "2. Adapta todas las variables que tengan que se adaptadas.\n",
    "3. Divide el dataset en train y test, con un 30% de datos para test, y utilizando una semilla = 42.\n",
    "3. Prueba el modelo lineal que hemos visto para ese tipo de problemas (LinearRegression o LogisticRegression)\n",
    "4. Ahora, utiliza el modelo acorde basado en árboles de decisión\n",
    "5. Finalmente, utiliza el modelo que acabamos de estudiar y compara los resultados\n"
   ]
  },
  {
   "cell_type": "code",
   "execution_count": 212,
   "metadata": {},
   "outputs": [
    {
     "data": {
      "text/html": [
       "<div>\n",
       "<style scoped>\n",
       "    .dataframe tbody tr th:only-of-type {\n",
       "        vertical-align: middle;\n",
       "    }\n",
       "\n",
       "    .dataframe tbody tr th {\n",
       "        vertical-align: top;\n",
       "    }\n",
       "\n",
       "    .dataframe thead th {\n",
       "        text-align: right;\n",
       "    }\n",
       "</style>\n",
       "<table border=\"1\" class=\"dataframe\">\n",
       "  <thead>\n",
       "    <tr style=\"text-align: right;\">\n",
       "      <th></th>\n",
       "      <th>Masa</th>\n",
       "      <th>Altura</th>\n",
       "      <th>Genero</th>\n",
       "    </tr>\n",
       "  </thead>\n",
       "  <tbody>\n",
       "    <tr>\n",
       "      <th>0</th>\n",
       "      <td>50</td>\n",
       "      <td>1.48</td>\n",
       "      <td>m</td>\n",
       "    </tr>\n",
       "    <tr>\n",
       "      <th>1</th>\n",
       "      <td>80</td>\n",
       "      <td>1.82</td>\n",
       "      <td>h</td>\n",
       "    </tr>\n",
       "    <tr>\n",
       "      <th>2</th>\n",
       "      <td>90</td>\n",
       "      <td>1.85</td>\n",
       "      <td>h</td>\n",
       "    </tr>\n",
       "    <tr>\n",
       "      <th>3</th>\n",
       "      <td>45</td>\n",
       "      <td>1.55</td>\n",
       "      <td>m</td>\n",
       "    </tr>\n",
       "    <tr>\n",
       "      <th>4</th>\n",
       "      <td>60</td>\n",
       "      <td>1.60</td>\n",
       "      <td>m</td>\n",
       "    </tr>\n",
       "  </tbody>\n",
       "</table>\n",
       "</div>"
      ],
      "text/plain": [
       "   Masa  Altura Genero\n",
       "0    50    1.48      m\n",
       "1    80    1.82      h\n",
       "2    90    1.85      h\n",
       "3    45    1.55      m\n",
       "4    60    1.60      m"
      ]
     },
     "execution_count": 212,
     "metadata": {},
     "output_type": "execute_result"
    }
   ],
   "source": [
    "df = pd.read_csv(\"Social_Network_Ads.csv\")\n",
    "df['Gender'] = (df['Gender']=='Female').astype(int)\n",
    "df"
   ]
  },
  {
   "cell_type": "code",
   "execution_count": 213,
   "metadata": {},
   "outputs": [],
   "source": [
    "X_cols = ['Gender', 'Age', 'EstimatedSalary']\n",
    "Y_cols = 'Purchased'"
   ]
  },
  {
   "cell_type": "code",
   "execution_count": 214,
   "metadata": {},
   "outputs": [],
   "source": [
    "df['Sal_Age'] = df['EstimatedSalary']/df['Age']\n",
    "mean_sal_age = df.groupby(['Age'])['EstimatedSalary'].mean()\n",
    "mean_sal_g = df.groupby(['Gender'])['EstimatedSalary'].mean()"
   ]
  },
  {
   "cell_type": "code",
   "execution_count": 215,
   "metadata": {},
   "outputs": [],
   "source": [
    "# df.merge(mean_sal_age, on='Age')"
   ]
  },
  {
   "cell_type": "code",
   "execution_count": 216,
   "metadata": {},
   "outputs": [],
   "source": [
    "import sklearn\n",
    "from sklearn.tree import DecisionTreeClassifier\n",
    "\n",
    "clf = DecisionTreeClassifier(max_depth=3)\n",
    "clf.fit(X_)\n",
    "\n",
    "# linear_model.LogisticRegression"
   ]
  },
  {
   "cell_type": "code",
   "execution_count": 196,
   "metadata": {},
   "outputs": [
    {
     "data": {
      "text/plain": [
       "sklearn.linear_model._logistic.LogisticRegression"
      ]
     },
     "execution_count": 196,
     "metadata": {},
     "output_type": "execute_result"
    }
   ],
   "source": [
    "linear_model.LogisticRegression"
   ]
  },
  {
   "cell_type": "markdown",
   "metadata": {},
   "source": [
    "6. Imagina que en lugar de los datos que hemos visto, nos dieran los datos sin la edad. Elimina las variables 'Age' y 'User ID', y vuelve a probar los modelos, ¿cuál es el mejor algoritmo ahora?"
   ]
  },
  {
   "cell_type": "code",
   "execution_count": 241,
   "metadata": {},
   "outputs": [
    {
     "name": "stdout",
     "output_type": "stream",
     "text": [
      "reglog\n",
      " accuracy_train: 0.6571428571428571\n",
      " accuracy_test: 0.6083333333333333\n",
      "tree\n",
      " accuracy_train: 0.9333333333333333\n",
      " accuracy_train: 0.9071428571428571\n",
      "knn\n",
      " accuracy_train: 0.8\n",
      " accuracy_test: 0.75\n"
     ]
    }
   ],
   "source": [
    "import numpy as np\n",
    "\n",
    "df = pd.read_csv(\"Social_Network_Ads.csv\")\n",
    "df_2 = pd.get_dummies(df.copy())\n",
    "\n",
    "knn = KNeighborsClassifier(n_neighbors=3)\n",
    "y =df_2['Purchased']\n",
    "X = df_2[['Age', 'EstimatedSalary','Gender_Female']]\n",
    "X_train, X_test, y_train, y_test = train_test_split(X, y, test_size=0.3, random_state = 42)\n",
    "\n",
    "# REGRESIÓN LOGÍSTICA\n",
    "print(\"reglog\")\n",
    "log_model = linear_model.LogisticRegression(multi_class='ovr')\n",
    "# Lo entrenamos:\n",
    "log_model.fit(X_train, y_train)\n",
    "predict_probab = log_model.predict_proba(X)\n",
    "np.round(predict_probab, 2)\n",
    "print(f\" accuracy_train:\" , log_model.score(X_train, y_train))\n",
    "print(f\" accuracy_test:\" , log_model.score(X_test, y_test))# accuracy\n",
    "\n",
    "# ARBOL DE DECISIÓN\n",
    "print(\"tree\")\n",
    "from sklearn.tree import DecisionTreeClassifier\n",
    "tree_clf = DecisionTreeClassifier(max_depth=3, random_state=42)\n",
    "tree_clf.fit(X_train, y_train)\n",
    "print(f\" accuracy_train:\" , tree_clf.score(X_test,y_test))\n",
    "print(f\" accuracy_train:\" , tree_clf.score(X_train,y_train))\n",
    "\n",
    "# KNN\n",
    "print(\"knn\")\n",
    "from sklearn.neighbors import KNeighborsClassifier\n",
    "knn = KNeighborsClassifier(n_neighbors=30)\n",
    "knn_model = knn.fit(X_train, y_train)\n",
    "print(f\" accuracy_train:\" , knn_model.score(X_train, y_train))\n",
    "print(f\" accuracy_test:\" , knn_model.score(X_test, y_test))# accuracy"
   ]
  },
  {
   "cell_type": "markdown",
   "metadata": {},
   "source": [
    "7. ¿Y si las columnas que tuviera fueran 'Gender' y 'Age', que parece que serán las más fáciles de conseguir en un entorno real?"
   ]
  },
  {
   "cell_type": "code",
   "execution_count": null,
   "metadata": {},
   "outputs": [],
   "source": []
  },
  {
   "cell_type": "markdown",
   "metadata": {},
   "source": [
    "Finalmente, también podríamos crearnos un iterador para encontrar la mejor K:"
   ]
  },
  {
   "cell_type": "code",
   "execution_count": 280,
   "metadata": {},
   "outputs": [],
   "source": [
    "best_k = 1\n",
    "best_score = 0\n",
    "\n",
    "for k in range(1, 281):\n",
    "    knn = KNeighborsClassifier(n_neighbors=k)\n",
    "    knn_model = knn.fit(X_train, y_train)\n",
    "    knn_score = knn_model.score(X_test, y_test)\n",
    "    if knn_score > best_score:\n",
    "        best_score = knn_score\n",
    "        best_k = k"
   ]
  },
  {
   "cell_type": "code",
   "execution_count": 281,
   "metadata": {},
   "outputs": [
    {
     "data": {
      "text/plain": [
       "(5, 0.8166666666666667)"
      ]
     },
     "execution_count": 281,
     "metadata": {},
     "output_type": "execute_result"
    }
   ],
   "source": [
    "best_k, best_score"
   ]
  },
  {
   "cell_type": "code",
   "execution_count": null,
   "metadata": {},
   "outputs": [],
   "source": []
  },
  {
   "cell_type": "code",
   "execution_count": 269,
   "metadata": {},
   "outputs": [],
   "source": [
    "df = pd.DataFrame(columns=['k', 'score'])\n",
    "\n",
    "for k in range(1, 281):\n",
    "    knn = KNeighborsClassifier(n_neighbors=k)\n",
    "    knn_model = knn.fit(X_train, y_train)\n",
    "#     print(f\" accuracy_test:\" , knn_model.score(X_test, y_test))\n",
    "    df_aux = pd.DataFrame({'k': k, 'score': knn_model.score(X_test, y_test)}, index=[k-1])\n",
    "    df = df.append(df_aux)\n",
    "    "
   ]
  },
  {
   "cell_type": "code",
   "execution_count": 274,
   "metadata": {},
   "outputs": [
    {
     "data": {
      "text/html": [
       "<div>\n",
       "<style scoped>\n",
       "    .dataframe tbody tr th:only-of-type {\n",
       "        vertical-align: middle;\n",
       "    }\n",
       "\n",
       "    .dataframe tbody tr th {\n",
       "        vertical-align: top;\n",
       "    }\n",
       "\n",
       "    .dataframe thead th {\n",
       "        text-align: right;\n",
       "    }\n",
       "</style>\n",
       "<table border=\"1\" class=\"dataframe\">\n",
       "  <thead>\n",
       "    <tr style=\"text-align: right;\">\n",
       "      <th></th>\n",
       "      <th>k</th>\n",
       "      <th>score</th>\n",
       "    </tr>\n",
       "  </thead>\n",
       "  <tbody>\n",
       "    <tr>\n",
       "      <th>4</th>\n",
       "      <td>5</td>\n",
       "      <td>0.816667</td>\n",
       "    </tr>\n",
       "    <tr>\n",
       "      <th>8</th>\n",
       "      <td>9</td>\n",
       "      <td>0.800000</td>\n",
       "    </tr>\n",
       "    <tr>\n",
       "      <th>0</th>\n",
       "      <td>1</td>\n",
       "      <td>0.791667</td>\n",
       "    </tr>\n",
       "    <tr>\n",
       "      <th>2</th>\n",
       "      <td>3</td>\n",
       "      <td>0.791667</td>\n",
       "    </tr>\n",
       "    <tr>\n",
       "      <th>6</th>\n",
       "      <td>7</td>\n",
       "      <td>0.791667</td>\n",
       "    </tr>\n",
       "    <tr>\n",
       "      <th>...</th>\n",
       "      <td>...</td>\n",
       "      <td>...</td>\n",
       "    </tr>\n",
       "    <tr>\n",
       "      <th>178</th>\n",
       "      <td>179</td>\n",
       "      <td>0.608333</td>\n",
       "    </tr>\n",
       "    <tr>\n",
       "      <th>179</th>\n",
       "      <td>180</td>\n",
       "      <td>0.608333</td>\n",
       "    </tr>\n",
       "    <tr>\n",
       "      <th>180</th>\n",
       "      <td>181</td>\n",
       "      <td>0.608333</td>\n",
       "    </tr>\n",
       "    <tr>\n",
       "      <th>181</th>\n",
       "      <td>182</td>\n",
       "      <td>0.608333</td>\n",
       "    </tr>\n",
       "    <tr>\n",
       "      <th>279</th>\n",
       "      <td>280</td>\n",
       "      <td>0.608333</td>\n",
       "    </tr>\n",
       "  </tbody>\n",
       "</table>\n",
       "<p>280 rows × 2 columns</p>\n",
       "</div>"
      ],
      "text/plain": [
       "       k     score\n",
       "4      5  0.816667\n",
       "8      9  0.800000\n",
       "0      1  0.791667\n",
       "2      3  0.791667\n",
       "6      7  0.791667\n",
       "..   ...       ...\n",
       "178  179  0.608333\n",
       "179  180  0.608333\n",
       "180  181  0.608333\n",
       "181  182  0.608333\n",
       "279  280  0.608333\n",
       "\n",
       "[280 rows x 2 columns]"
      ]
     },
     "execution_count": 274,
     "metadata": {},
     "output_type": "execute_result"
    }
   ],
   "source": [
    "df.sort_values(by='score', ascending=False)"
   ]
  },
  {
   "cell_type": "code",
   "execution_count": 275,
   "metadata": {},
   "outputs": [],
   "source": [
    "list_k = []\n",
    "list_score = []\n",
    "\n",
    "for k in range(1, 281):\n",
    "    knn = KNeighborsClassifier(n_neighbors=k)\n",
    "    knn_model = knn.fit(X_train, y_train)\n",
    "#     print(f\" accuracy_test:\" , knn_model.score(X_test, y_test))\n",
    "    list_k.append(k)\n",
    "    list_score.append(knn_model.score(X_test, y_test))\n",
    "    "
   ]
  },
  {
   "cell_type": "code",
   "execution_count": 279,
   "metadata": {},
   "outputs": [
    {
     "data": {
      "text/html": [
       "<div>\n",
       "<style scoped>\n",
       "    .dataframe tbody tr th:only-of-type {\n",
       "        vertical-align: middle;\n",
       "    }\n",
       "\n",
       "    .dataframe tbody tr th {\n",
       "        vertical-align: top;\n",
       "    }\n",
       "\n",
       "    .dataframe thead th {\n",
       "        text-align: right;\n",
       "    }\n",
       "</style>\n",
       "<table border=\"1\" class=\"dataframe\">\n",
       "  <thead>\n",
       "    <tr style=\"text-align: right;\">\n",
       "      <th></th>\n",
       "      <th>k</th>\n",
       "      <th>score</th>\n",
       "    </tr>\n",
       "  </thead>\n",
       "  <tbody>\n",
       "    <tr>\n",
       "      <th>0</th>\n",
       "      <td>1</td>\n",
       "      <td>0.791667</td>\n",
       "    </tr>\n",
       "    <tr>\n",
       "      <th>1</th>\n",
       "      <td>2</td>\n",
       "      <td>0.758333</td>\n",
       "    </tr>\n",
       "    <tr>\n",
       "      <th>2</th>\n",
       "      <td>3</td>\n",
       "      <td>0.791667</td>\n",
       "    </tr>\n",
       "    <tr>\n",
       "      <th>3</th>\n",
       "      <td>4</td>\n",
       "      <td>0.766667</td>\n",
       "    </tr>\n",
       "    <tr>\n",
       "      <th>4</th>\n",
       "      <td>5</td>\n",
       "      <td>0.816667</td>\n",
       "    </tr>\n",
       "    <tr>\n",
       "      <th>...</th>\n",
       "      <td>...</td>\n",
       "      <td>...</td>\n",
       "    </tr>\n",
       "    <tr>\n",
       "      <th>275</th>\n",
       "      <td>276</td>\n",
       "      <td>0.608333</td>\n",
       "    </tr>\n",
       "    <tr>\n",
       "      <th>276</th>\n",
       "      <td>277</td>\n",
       "      <td>0.608333</td>\n",
       "    </tr>\n",
       "    <tr>\n",
       "      <th>277</th>\n",
       "      <td>278</td>\n",
       "      <td>0.608333</td>\n",
       "    </tr>\n",
       "    <tr>\n",
       "      <th>278</th>\n",
       "      <td>279</td>\n",
       "      <td>0.608333</td>\n",
       "    </tr>\n",
       "    <tr>\n",
       "      <th>279</th>\n",
       "      <td>280</td>\n",
       "      <td>0.608333</td>\n",
       "    </tr>\n",
       "  </tbody>\n",
       "</table>\n",
       "<p>280 rows × 2 columns</p>\n",
       "</div>"
      ],
      "text/plain": [
       "       k     score\n",
       "0      1  0.791667\n",
       "1      2  0.758333\n",
       "2      3  0.791667\n",
       "3      4  0.766667\n",
       "4      5  0.816667\n",
       "..   ...       ...\n",
       "275  276  0.608333\n",
       "276  277  0.608333\n",
       "277  278  0.608333\n",
       "278  279  0.608333\n",
       "279  280  0.608333\n",
       "\n",
       "[280 rows x 2 columns]"
      ]
     },
     "execution_count": 279,
     "metadata": {},
     "output_type": "execute_result"
    }
   ],
   "source": [
    "pd.DataFrame({'k': list_k, 'score': list_score})"
   ]
  }
 ],
 "metadata": {
  "kernelspec": {
   "display_name": "Python 3",
   "language": "python",
   "name": "python3"
  },
  "language_info": {
   "codemirror_mode": {
    "name": "ipython",
    "version": 3
   },
   "file_extension": ".py",
   "mimetype": "text/x-python",
   "name": "python",
   "nbconvert_exporter": "python",
   "pygments_lexer": "ipython3",
   "version": "3.8.3"
  }
 },
 "nbformat": 4,
 "nbformat_minor": 4
}
