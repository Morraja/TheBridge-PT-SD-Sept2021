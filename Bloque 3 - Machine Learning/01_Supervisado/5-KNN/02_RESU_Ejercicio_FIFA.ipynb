{
 "cells": [
  {
   "cell_type": "markdown",
   "metadata": {},
   "source": [
    "# Ejercicio FIFA\n",
    "\n",
    "## Diestros vs Zurdos\n",
    "\n",
    "¿Te acuerdas del famoso problema de los diestros y los zurdos? Como vimos, con un algoritmo lineal no era posible predecir demasiado bien si un jugador era zurdo o diestro. Con el modelo basado en árboles de decisión, mejorábamos nuestro porcentaje de acierto (con los datos equilibrados).\n",
    "\n",
    "1. Implementa el caso con un modelo KNN. ¿Conseguirás un mejor score (con datos balanceados) que con el modelo basado en árboles de decisión? Puedes crear todas las variables que quieras, al igual que hemos hecho para los otros modelos:"
   ]
  },
  {
   "cell_type": "code",
   "execution_count": 2,
   "metadata": {},
   "outputs": [],
   "source": [
    "import pandas as pd\n",
    "import numpy as np\n",
    "from sklearn.model_selection import train_test_split\n",
    "from sklearn.neighbors import KNeighborsClassifier"
   ]
  },
  {
   "cell_type": "code",
   "execution_count": 3,
   "metadata": {},
   "outputs": [
    {
     "name": "stdout",
     "output_type": "stream",
     "text": [
      "Train: 0.768176778076984\n",
      "Test: 0.7544345898004434\n"
     ]
    }
   ],
   "source": [
    "df = pd.read_csv(\"../../../data/FIFA20.csv\")\n",
    "\n",
    "df['año'] = df['dob'].apply(lambda x: int(x[0:4]))\n",
    "df['mes'] = df['dob'].apply(lambda x: int(x[5:7]))\n",
    "df['dia'] = df['dob'].apply(lambda x: int(x[8:10]))\n",
    "\n",
    "df = df.dropna(subset=[\"team_position\"])\n",
    "\n",
    "df['money_pos'] = df.groupby(\"team_position\").apply(lambda x: x['value_eur']/x['value_eur'].mean()).values\n",
    "\n",
    "def position(x):\n",
    "    x = str(x)\n",
    "    if x[0] == 'R' and x not in ['RES']:\n",
    "        return 'R'\n",
    "    elif x[0] == 'L':\n",
    "        return 'L'\n",
    "    else:\n",
    "        return ''\n",
    "\n",
    "df['team_position'] = df['team_position'].apply(lambda x: position(x))\n",
    "\n",
    "feature_cols = ['overall', 'potential', 'value_eur', 'año', 'mes', 'money_pos', 'team_position', 'dia']\n",
    "pred_col = 'preferred_foot'\n",
    "\n",
    "X = pd.get_dummies(df[feature_cols])\n",
    "Y = df[pred_col]\n",
    "\n",
    "X_train, X_test, Y_train, Y_test = train_test_split(X, Y, test_size=.3, random_state=42)\n",
    "\n",
    "knn = KNeighborsClassifier(n_neighbors=11)\n",
    "knn.fit(X_train, Y_train)\n",
    "\n",
    "print(f\"Train: {knn.score(X_train, Y_train)}\")\n",
    "print(f\"Test: {knn.score(X_test, Y_test)}\")"
   ]
  },
  {
   "cell_type": "code",
   "execution_count": 4,
   "metadata": {},
   "outputs": [],
   "source": [
    "best = 0\n",
    "best_i=0\n",
    "\n",
    "for k in range(1, 51, 2):\n",
    "    knn = KNeighborsClassifier(n_neighbors=k)\n",
    "    knn.fit(X_train, Y_train)\n",
    "    new_score = knn.score(X_test, Y_test)\n",
    "    \n",
    "    if new_score > best:\n",
    "        best = new_score\n",
    "        best_i = k\n",
    "    "
   ]
  },
  {
   "cell_type": "code",
   "execution_count": 5,
   "metadata": {},
   "outputs": [
    {
     "data": {
      "text/plain": [
       "18038"
      ]
     },
     "execution_count": 5,
     "metadata": {},
     "output_type": "execute_result"
    }
   ],
   "source": [
    "len(df)"
   ]
  },
  {
   "cell_type": "code",
   "execution_count": 6,
   "metadata": {},
   "outputs": [
    {
     "data": {
      "text/plain": [
       "0.7682926829268293"
      ]
     },
     "execution_count": 6,
     "metadata": {},
     "output_type": "execute_result"
    }
   ],
   "source": [
    "best"
   ]
  },
  {
   "cell_type": "markdown",
   "metadata": {},
   "source": [
    "Parece bueno, pero tenemos unos datos desbalanceados, así que veamos cómo funciona de verdad:"
   ]
  },
  {
   "cell_type": "code",
   "execution_count": 364,
   "metadata": {},
   "outputs": [
    {
     "name": "stdout",
     "output_type": "stream",
     "text": [
      "Train: 0.709639564124057\n",
      "Test: 0.5733281188893234\n"
     ]
    }
   ],
   "source": [
    "df = pd.read_csv(\"../../../data/FIFA20.csv\")\n",
    "\n",
    "df['año'] = df['dob'].apply(lambda x: int(x[0:4]))\n",
    "df['mes'] = df['dob'].apply(lambda x: int(x[5:7]))\n",
    "df['dia'] = df['dob'].apply(lambda x: int(x[8:10]))\n",
    "\n",
    "df = df.dropna(subset=[\"team_position\"])\n",
    "\n",
    "# En clase hemos hecho la separación de otra forma, sin embargo, también podemos utilizar el método 'sample(n)' para seleccionar registros aleatorios:\n",
    "df_zurdos = df[df['preferred_foot'] == 'Left']\n",
    "df_diestros = df[df['preferred_foot'] == 'Right'].sample(len(df_zurdos))\n",
    "\n",
    "# Lo ordenamos por index para que no estén ordenados por pierna, ya que originalmente estaban desordenados:\n",
    "df = df_zurdos.append(df_diestros).sort_index()\n",
    "\n",
    "df['money_pos'] = df.groupby(\"team_position\").apply(lambda x: x['value_eur']/x['value_eur'].mean()).values\n",
    "df['money_ovr'] = df.groupby(\"overall\").apply(lambda x: x['value_eur']/x['value_eur'].mean()).values\n",
    "df['money_pot'] = df.groupby(\"potential\").apply(lambda x: x['value_eur']/x['value_eur'].mean()).values\n",
    "df['wage_pos'] = df.groupby(\"team_position\").apply(lambda x: x['wage_eur']/x['wage_eur'].mean()).values\n",
    "df['wage_ovr'] = df.groupby(\"overall\").apply(lambda x: x['wage_eur']/x['wage_eur'].mean()).values\n",
    "df['wage_pot'] = df.groupby(\"potential\").apply(lambda x: x['wage_eur']/x['wage_eur'].mean()).values\n",
    "\n",
    "df = df.fillna(0)\n",
    "\n",
    "def position(x):\n",
    "    x = str(x)\n",
    "    if x[0] == 'R' and x not in ['RES']:\n",
    "        return 'R'\n",
    "    elif x[0] == 'L':\n",
    "        return 'L'\n",
    "    else:\n",
    "        return ''\n",
    "\n",
    "df['team_position2'] = df['team_position'].apply(lambda x: position(x))\n",
    "\n",
    "feature_cols = ['team_position', 'money_pos']\n",
    "pred_col = 'preferred_foot'\n",
    "\n",
    "X = pd.get_dummies(df[feature_cols])\n",
    "Y = df[pred_col]\n",
    "\n",
    "X_train, X_test, Y_train, Y_test = train_test_split(X, Y, test_size=.3, random_state=42)\n",
    "\n",
    "knn = KNeighborsClassifier(n_neighbors=3)\n",
    "knn.fit(X_train, Y_train)\n",
    "\n",
    "print(f\"Train: {knn.score(X_train, Y_train)}\")\n",
    "print(f\"Test: {knn.score(X_test, Y_test)}\")"
   ]
  }
 ],
 "metadata": {
  "kernelspec": {
   "display_name": "Python 3",
   "language": "python",
   "name": "python3"
  },
  "language_info": {
   "codemirror_mode": {
    "name": "ipython",
    "version": 3
   },
   "file_extension": ".py",
   "mimetype": "text/x-python",
   "name": "python",
   "nbconvert_exporter": "python",
   "pygments_lexer": "ipython3",
   "version": "3.8.3"
  }
 },
 "nbformat": 4,
 "nbformat_minor": 4
}
