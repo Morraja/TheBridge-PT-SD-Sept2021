{
 "cells": [
  {
   "cell_type": "markdown",
   "metadata": {},
   "source": [
    "# Ejercicio FIFA\n",
    "\n",
    "## Diestros vs Zurdos\n",
    "\n",
    "¿Te acuerdas del famoso problema de los diestros y los zurdos? Como vimos, con un algoritmo lineal no era posible predecir demasiado bien si un jugador era zurdo o diestro. Con el modelo basado en árboles de decisión, mejorábamos nuestro porcentaje de acierto (con los datos equilibrados).\n",
    "\n",
    "1. Implementa el caso con un modelo KNN. ¿Conseguirás un mejor score (con datos balanceados) que con el modelo basado en árboles de decisión? Puedes crear todas las variables que quieras, al igual que hemos hecho para los otros modelos:"
   ]
  },
  {
   "cell_type": "code",
   "execution_count": 19,
   "metadata": {},
   "outputs": [],
   "source": [
    "import pandas as pd\n",
    "import numpy as np\n",
    "from sklearn.model_selection import train_test_split\n",
    "from sklearn.neighbors import KNeighborsClassifier"
   ]
  },
  {
   "cell_type": "code",
   "execution_count": 33,
   "metadata": {},
   "outputs": [],
   "source": [
    "df = pd.read_csv(\"../../../data/FIFA20.csv\")\n",
    "\n",
    "df['año'] = df['dob'].apply(lambda x: int(x[0:4]))\n",
    "df['mes'] = df['dob'].apply(lambda x: int(x[5:7]))\n",
    "df['dia'] = df['dob'].apply(lambda x: int(x[8:10]))\n",
    "\n",
    "df = df.dropna(subset=[\"team_position\"])\n",
    "\n",
    "df['money_pos'] = df.groupby(\"team_position\").apply(lambda x: x['value_eur']/x['value_eur'].mean()).values\n",
    "\n",
    "def position(x):\n",
    "    x = str(x)\n",
    "    if x[0] == 'R' and x not in ['RES']:\n",
    "        return 'R'\n",
    "    elif x[0] == 'L':\n",
    "        return 'L'\n",
    "    else:\n",
    "        return ''\n",
    "\n",
    "df['team_position'] = df['team_position'].apply(lambda x: position(x))\n"
   ]
  },
  {
   "cell_type": "code",
   "execution_count": null,
   "metadata": {},
   "outputs": [],
   "source": []
  }
 ],
 "metadata": {
  "kernelspec": {
   "display_name": "Python 3",
   "language": "python",
   "name": "python3"
  },
  "language_info": {
   "codemirror_mode": {
    "name": "ipython",
    "version": 3
   },
   "file_extension": ".py",
   "mimetype": "text/x-python",
   "name": "python",
   "nbconvert_exporter": "python",
   "pygments_lexer": "ipython3",
   "version": "3.8.3"
  }
 },
 "nbformat": 4,
 "nbformat_minor": 4
}
