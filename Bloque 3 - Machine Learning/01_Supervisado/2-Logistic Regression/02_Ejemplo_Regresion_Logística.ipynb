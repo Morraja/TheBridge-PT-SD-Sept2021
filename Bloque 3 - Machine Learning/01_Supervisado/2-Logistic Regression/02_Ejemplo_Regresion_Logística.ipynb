{
 "cells": [
  {
   "cell_type": "markdown",
   "metadata": {},
   "source": [
    "# Ejemplo de Regresión Logística: usuarios PC\n",
    "\n",
    "Realizaremos un ejercicio de ejemplo para comprender cómo funciona este algoritmo. En este caso, utilizaremos un dataset en el que almacenaremos distintas características de las sesiones de usuarios de Windows, MAC y Linux, e intentaremos predecir a cuál de los S.O. pertenece un nuevo usuario en función de estos parámetros.\n",
    "\n",
    "Para ello, empezamos importando librerías, que cada día tenemos más:"
   ]
  },
  {
   "cell_type": "code",
   "execution_count": 332,
   "metadata": {},
   "outputs": [],
   "source": [
    "import pandas as pd\n",
    "import numpy as np\n",
    "from sklearn import linear_model\n",
    "from sklearn import model_selection\n",
    "from sklearn.metrics import classification_report\n",
    "from sklearn.metrics import confusion_matrix\n",
    "from sklearn.metrics import accuracy_score, recall_score, precision_score, f1_score\n",
    "import matplotlib.pyplot as plt\n",
    "import seaborn as sns\n",
    "%matplotlib inline"
   ]
  },
  {
   "cell_type": "markdown",
   "metadata": {},
   "source": [
    "## Cargamos los datos\n",
    "\n",
    "Lo primero es cargar los datos, ya que sin ellos poco podemos predecir:"
   ]
  },
  {
   "cell_type": "code",
   "execution_count": 264,
   "metadata": {
    "collapsed": false,
    "jupyter": {
     "outputs_hidden": false
    }
   },
   "outputs": [
    {
     "data": {
      "text/html": [
       "<div>\n",
       "<style scoped>\n",
       "    .dataframe tbody tr th:only-of-type {\n",
       "        vertical-align: middle;\n",
       "    }\n",
       "\n",
       "    .dataframe tbody tr th {\n",
       "        vertical-align: top;\n",
       "    }\n",
       "\n",
       "    .dataframe thead th {\n",
       "        text-align: right;\n",
       "    }\n",
       "</style>\n",
       "<table border=\"1\" class=\"dataframe\">\n",
       "  <thead>\n",
       "    <tr style=\"text-align: right;\">\n",
       "      <th></th>\n",
       "      <th>duracion</th>\n",
       "      <th>paginas</th>\n",
       "      <th>acciones</th>\n",
       "      <th>valor</th>\n",
       "      <th>clase</th>\n",
       "    </tr>\n",
       "  </thead>\n",
       "  <tbody>\n",
       "    <tr>\n",
       "      <th>0</th>\n",
       "      <td>7.0</td>\n",
       "      <td>2</td>\n",
       "      <td>4</td>\n",
       "      <td>8</td>\n",
       "      <td>2</td>\n",
       "    </tr>\n",
       "    <tr>\n",
       "      <th>1</th>\n",
       "      <td>21.0</td>\n",
       "      <td>2</td>\n",
       "      <td>6</td>\n",
       "      <td>6</td>\n",
       "      <td>2</td>\n",
       "    </tr>\n",
       "    <tr>\n",
       "      <th>2</th>\n",
       "      <td>57.0</td>\n",
       "      <td>2</td>\n",
       "      <td>4</td>\n",
       "      <td>4</td>\n",
       "      <td>2</td>\n",
       "    </tr>\n",
       "    <tr>\n",
       "      <th>3</th>\n",
       "      <td>101.0</td>\n",
       "      <td>3</td>\n",
       "      <td>6</td>\n",
       "      <td>12</td>\n",
       "      <td>2</td>\n",
       "    </tr>\n",
       "    <tr>\n",
       "      <th>4</th>\n",
       "      <td>109.0</td>\n",
       "      <td>2</td>\n",
       "      <td>6</td>\n",
       "      <td>12</td>\n",
       "      <td>2</td>\n",
       "    </tr>\n",
       "    <tr>\n",
       "      <th>...</th>\n",
       "      <td>...</td>\n",
       "      <td>...</td>\n",
       "      <td>...</td>\n",
       "      <td>...</td>\n",
       "      <td>...</td>\n",
       "    </tr>\n",
       "    <tr>\n",
       "      <th>165</th>\n",
       "      <td>13.0</td>\n",
       "      <td>1</td>\n",
       "      <td>7</td>\n",
       "      <td>42</td>\n",
       "      <td>0</td>\n",
       "    </tr>\n",
       "    <tr>\n",
       "      <th>166</th>\n",
       "      <td>12.0</td>\n",
       "      <td>1</td>\n",
       "      <td>2</td>\n",
       "      <td>6</td>\n",
       "      <td>0</td>\n",
       "    </tr>\n",
       "    <tr>\n",
       "      <th>167</th>\n",
       "      <td>13.0</td>\n",
       "      <td>1</td>\n",
       "      <td>3</td>\n",
       "      <td>9</td>\n",
       "      <td>0</td>\n",
       "    </tr>\n",
       "    <tr>\n",
       "      <th>168</th>\n",
       "      <td>13.0</td>\n",
       "      <td>1</td>\n",
       "      <td>7</td>\n",
       "      <td>28</td>\n",
       "      <td>0</td>\n",
       "    </tr>\n",
       "    <tr>\n",
       "      <th>169</th>\n",
       "      <td>12.0</td>\n",
       "      <td>1</td>\n",
       "      <td>6</td>\n",
       "      <td>18</td>\n",
       "      <td>0</td>\n",
       "    </tr>\n",
       "  </tbody>\n",
       "</table>\n",
       "<p>170 rows × 5 columns</p>\n",
       "</div>"
      ],
      "text/plain": [
       "     duracion  paginas  acciones  valor  clase\n",
       "0         7.0        2         4      8      2\n",
       "1        21.0        2         6      6      2\n",
       "2        57.0        2         4      4      2\n",
       "3       101.0        3         6     12      2\n",
       "4       109.0        2         6     12      2\n",
       "..        ...      ...       ...    ...    ...\n",
       "165      13.0        1         7     42      0\n",
       "166      12.0        1         2      6      0\n",
       "167      13.0        1         3      9      0\n",
       "168      13.0        1         7     28      0\n",
       "169      12.0        1         6     18      0\n",
       "\n",
       "[170 rows x 5 columns]"
      ]
     },
     "execution_count": 264,
     "metadata": {},
     "output_type": "execute_result"
    }
   ],
   "source": [
    "dataframe = pd.read_csv(\"data/usuarios_win_mac_lin.csv\")\n",
    "dataframe.head()\n",
    "dataframe"
   ]
  },
  {
   "cell_type": "markdown",
   "metadata": {},
   "source": [
    "## Análisis exploratorio\n",
    "\n",
    "Tras ello, lo suyo es hacer un poco de EDA básico. En un proyecto real, tendríamos que estudiarlo más a fondo, pero en este caso, como estamos ante un ejemplo, no profundizaremos en demasía.\n",
    "\n",
    "Empezaremos haciendo un conteo de los valores tanto de las páginas (que es una variable de la que queremos conocer qué valores toma) como los de la clase (que será el target que estamos intentando predecir), para ver cómo se distribuyen:"
   ]
  },
  {
   "cell_type": "code",
   "execution_count": 265,
   "metadata": {},
   "outputs": [
    {
     "data": {
      "text/plain": [
       "1    80\n",
       "2    55\n",
       "3    11\n",
       "4    10\n",
       "5     7\n",
       "6     4\n",
       "9     2\n",
       "7     1\n",
       "Name: paginas, dtype: int64"
      ]
     },
     "execution_count": 265,
     "metadata": {},
     "output_type": "execute_result"
    }
   ],
   "source": [
    "dataframe.paginas.value_counts()"
   ]
  },
  {
   "cell_type": "code",
   "execution_count": 266,
   "metadata": {},
   "outputs": [
    {
     "data": {
      "text/plain": [
       "0    86\n",
       "2    44\n",
       "1    40\n",
       "Name: clase, dtype: int64"
      ]
     },
     "execution_count": 266,
     "metadata": {},
     "output_type": "execute_result"
    }
   ],
   "source": [
    "dataframe['clase'].value_counts()"
   ]
  },
  {
   "cell_type": "markdown",
   "metadata": {},
   "source": [
    "Luego, el típico ``describe`` para caracterizar los datos a grandes rasgos:"
   ]
  },
  {
   "cell_type": "code",
   "execution_count": 267,
   "metadata": {
    "collapsed": false,
    "jupyter": {
     "outputs_hidden": false
    }
   },
   "outputs": [
    {
     "data": {
      "text/html": [
       "<div>\n",
       "<style scoped>\n",
       "    .dataframe tbody tr th:only-of-type {\n",
       "        vertical-align: middle;\n",
       "    }\n",
       "\n",
       "    .dataframe tbody tr th {\n",
       "        vertical-align: top;\n",
       "    }\n",
       "\n",
       "    .dataframe thead th {\n",
       "        text-align: right;\n",
       "    }\n",
       "</style>\n",
       "<table border=\"1\" class=\"dataframe\">\n",
       "  <thead>\n",
       "    <tr style=\"text-align: right;\">\n",
       "      <th></th>\n",
       "      <th>duracion</th>\n",
       "      <th>paginas</th>\n",
       "      <th>acciones</th>\n",
       "      <th>valor</th>\n",
       "      <th>clase</th>\n",
       "    </tr>\n",
       "  </thead>\n",
       "  <tbody>\n",
       "    <tr>\n",
       "      <th>count</th>\n",
       "      <td>170.000000</td>\n",
       "      <td>170.000000</td>\n",
       "      <td>170.000000</td>\n",
       "      <td>170.000000</td>\n",
       "      <td>170.000000</td>\n",
       "    </tr>\n",
       "    <tr>\n",
       "      <th>mean</th>\n",
       "      <td>111.075729</td>\n",
       "      <td>2.041176</td>\n",
       "      <td>8.723529</td>\n",
       "      <td>32.676471</td>\n",
       "      <td>0.752941</td>\n",
       "    </tr>\n",
       "    <tr>\n",
       "      <th>std</th>\n",
       "      <td>202.453200</td>\n",
       "      <td>1.500911</td>\n",
       "      <td>9.136054</td>\n",
       "      <td>44.751993</td>\n",
       "      <td>0.841327</td>\n",
       "    </tr>\n",
       "    <tr>\n",
       "      <th>min</th>\n",
       "      <td>1.000000</td>\n",
       "      <td>1.000000</td>\n",
       "      <td>1.000000</td>\n",
       "      <td>1.000000</td>\n",
       "      <td>0.000000</td>\n",
       "    </tr>\n",
       "    <tr>\n",
       "      <th>25%</th>\n",
       "      <td>11.000000</td>\n",
       "      <td>1.000000</td>\n",
       "      <td>3.000000</td>\n",
       "      <td>8.000000</td>\n",
       "      <td>0.000000</td>\n",
       "    </tr>\n",
       "    <tr>\n",
       "      <th>50%</th>\n",
       "      <td>13.000000</td>\n",
       "      <td>2.000000</td>\n",
       "      <td>6.000000</td>\n",
       "      <td>20.000000</td>\n",
       "      <td>0.000000</td>\n",
       "    </tr>\n",
       "    <tr>\n",
       "      <th>75%</th>\n",
       "      <td>108.000000</td>\n",
       "      <td>2.000000</td>\n",
       "      <td>10.000000</td>\n",
       "      <td>36.000000</td>\n",
       "      <td>2.000000</td>\n",
       "    </tr>\n",
       "    <tr>\n",
       "      <th>max</th>\n",
       "      <td>898.000000</td>\n",
       "      <td>9.000000</td>\n",
       "      <td>63.000000</td>\n",
       "      <td>378.000000</td>\n",
       "      <td>2.000000</td>\n",
       "    </tr>\n",
       "  </tbody>\n",
       "</table>\n",
       "</div>"
      ],
      "text/plain": [
       "         duracion     paginas    acciones       valor       clase\n",
       "count  170.000000  170.000000  170.000000  170.000000  170.000000\n",
       "mean   111.075729    2.041176    8.723529   32.676471    0.752941\n",
       "std    202.453200    1.500911    9.136054   44.751993    0.841327\n",
       "min      1.000000    1.000000    1.000000    1.000000    0.000000\n",
       "25%     11.000000    1.000000    3.000000    8.000000    0.000000\n",
       "50%     13.000000    2.000000    6.000000   20.000000    0.000000\n",
       "75%    108.000000    2.000000   10.000000   36.000000    2.000000\n",
       "max    898.000000    9.000000   63.000000  378.000000    2.000000"
      ]
     },
     "execution_count": 267,
     "metadata": {},
     "output_type": "execute_result"
    }
   ],
   "source": [
    "dataframe.describe()"
   ]
  },
  {
   "cell_type": "markdown",
   "metadata": {},
   "source": [
    "## Visualizamos los datos\n",
    "\n",
    "También haremos un par de gráficas interesantes para completar el EDA. En ellas, podremos ver tanto la distribución (mediante histograma) como la relación entre cada una de las variables (con un correlograma):"
   ]
  },
  {
   "cell_type": "code",
   "execution_count": 268,
   "metadata": {},
   "outputs": [
    {
     "data": {
      "image/png": "[encoded data removed]",
      "text/plain": [
       "<Figure size 432x288 with 4 Axes>"
      ]
     },
     "metadata": {
      "needs_background": "light"
     },
     "output_type": "display_data"
    }
   ],
   "source": [
    "dataframe.drop(['clase'], 1).hist()\n",
    "plt.show()"
   ]
  },
  {
   "cell_type": "code",
   "execution_count": 269,
   "metadata": {},
   "outputs": [
    {
     "data": {
      "image/png": "[encoded data removed]",
      "text/plain": [
       "<Figure size 1194.38x1152 with 20 Axes>"
      ]
     },
     "metadata": {
      "needs_background": "light"
     },
     "output_type": "display_data"
    }
   ],
   "source": [
    "sns.pairplot(dataframe.dropna(),\n",
    "            hue='clase',\n",
    "            height=4,\n",
    "            vars=[\"duracion\", \"paginas\",\"acciones\",\"valor\"],\n",
    "            kind='reg'); # \"reg\" de regresión lineal"
   ]
  },
  {
   "cell_type": "markdown",
   "metadata": {},
   "source": [
    "De todas estas gráficas, tomarán especial interés las correspondientes a la variable target, es decir, la 'clase'.\n",
    "\n",
    "## Creamos el modelo\n",
    "\n",
    "Una vez analizados (brevemente) los datos, pasamos a la creación del modelo. Para ello, utilizaremos los datos sin la variable target (clase):"
   ]
  },
  {
   "cell_type": "code",
   "execution_count": 270,
   "metadata": {},
   "outputs": [
    {
     "data": {
      "text/html": [
       "<div>\n",
       "<style scoped>\n",
       "    .dataframe tbody tr th:only-of-type {\n",
       "        vertical-align: middle;\n",
       "    }\n",
       "\n",
       "    .dataframe tbody tr th {\n",
       "        vertical-align: top;\n",
       "    }\n",
       "\n",
       "    .dataframe thead th {\n",
       "        text-align: right;\n",
       "    }\n",
       "</style>\n",
       "<table border=\"1\" class=\"dataframe\">\n",
       "  <thead>\n",
       "    <tr style=\"text-align: right;\">\n",
       "      <th></th>\n",
       "      <th>duracion</th>\n",
       "      <th>paginas</th>\n",
       "      <th>acciones</th>\n",
       "      <th>valor</th>\n",
       "    </tr>\n",
       "  </thead>\n",
       "  <tbody>\n",
       "    <tr>\n",
       "      <th>0</th>\n",
       "      <td>7.0</td>\n",
       "      <td>2</td>\n",
       "      <td>4</td>\n",
       "      <td>8</td>\n",
       "    </tr>\n",
       "    <tr>\n",
       "      <th>1</th>\n",
       "      <td>21.0</td>\n",
       "      <td>2</td>\n",
       "      <td>6</td>\n",
       "      <td>6</td>\n",
       "    </tr>\n",
       "    <tr>\n",
       "      <th>2</th>\n",
       "      <td>57.0</td>\n",
       "      <td>2</td>\n",
       "      <td>4</td>\n",
       "      <td>4</td>\n",
       "    </tr>\n",
       "    <tr>\n",
       "      <th>3</th>\n",
       "      <td>101.0</td>\n",
       "      <td>3</td>\n",
       "      <td>6</td>\n",
       "      <td>12</td>\n",
       "    </tr>\n",
       "    <tr>\n",
       "      <th>4</th>\n",
       "      <td>109.0</td>\n",
       "      <td>2</td>\n",
       "      <td>6</td>\n",
       "      <td>12</td>\n",
       "    </tr>\n",
       "    <tr>\n",
       "      <th>...</th>\n",
       "      <td>...</td>\n",
       "      <td>...</td>\n",
       "      <td>...</td>\n",
       "      <td>...</td>\n",
       "    </tr>\n",
       "    <tr>\n",
       "      <th>165</th>\n",
       "      <td>13.0</td>\n",
       "      <td>1</td>\n",
       "      <td>7</td>\n",
       "      <td>42</td>\n",
       "    </tr>\n",
       "    <tr>\n",
       "      <th>166</th>\n",
       "      <td>12.0</td>\n",
       "      <td>1</td>\n",
       "      <td>2</td>\n",
       "      <td>6</td>\n",
       "    </tr>\n",
       "    <tr>\n",
       "      <th>167</th>\n",
       "      <td>13.0</td>\n",
       "      <td>1</td>\n",
       "      <td>3</td>\n",
       "      <td>9</td>\n",
       "    </tr>\n",
       "    <tr>\n",
       "      <th>168</th>\n",
       "      <td>13.0</td>\n",
       "      <td>1</td>\n",
       "      <td>7</td>\n",
       "      <td>28</td>\n",
       "    </tr>\n",
       "    <tr>\n",
       "      <th>169</th>\n",
       "      <td>12.0</td>\n",
       "      <td>1</td>\n",
       "      <td>6</td>\n",
       "      <td>18</td>\n",
       "    </tr>\n",
       "  </tbody>\n",
       "</table>\n",
       "<p>170 rows × 4 columns</p>\n",
       "</div>"
      ],
      "text/plain": [
       "     duracion  paginas  acciones  valor\n",
       "0         7.0        2         4      8\n",
       "1        21.0        2         6      6\n",
       "2        57.0        2         4      4\n",
       "3       101.0        3         6     12\n",
       "4       109.0        2         6     12\n",
       "..        ...      ...       ...    ...\n",
       "165      13.0        1         7     42\n",
       "166      12.0        1         2      6\n",
       "167      13.0        1         3      9\n",
       "168      13.0        1         7     28\n",
       "169      12.0        1         6     18\n",
       "\n",
       "[170 rows x 4 columns]"
      ]
     },
     "execution_count": 270,
     "metadata": {},
     "output_type": "execute_result"
    }
   ],
   "source": [
    "dataframe.drop(['clase'], 1)"
   ]
  },
  {
   "cell_type": "code",
   "execution_count": 271,
   "metadata": {
    "collapsed": false,
    "jupyter": {
     "outputs_hidden": false
    }
   },
   "outputs": [
    {
     "data": {
      "text/plain": [
       "(170, 4)"
      ]
     },
     "execution_count": 271,
     "metadata": {},
     "output_type": "execute_result"
    }
   ],
   "source": [
    "# En este caso no dividimos en train_test, pues estamos ante un ejemplo básico para entender el problema. Separamos directamente en variables \n",
    "# predictoras (X) y variable a predecir (y):\n",
    "X = dataframe.drop(['clase'], axis=1)\n",
    "y = dataframe['clase']\n",
    "X.shape"
   ]
  },
  {
   "cell_type": "code",
   "execution_count": 272,
   "metadata": {},
   "outputs": [
    {
     "data": {
      "text/plain": [
       "LogisticRegression(multi_class='ovr')"
      ]
     },
     "execution_count": 272,
     "metadata": {},
     "output_type": "execute_result"
    }
   ],
   "source": [
    "# Creamos modelo:\n",
    "model = linear_model.LogisticRegression(multi_class='ovr')\n",
    "\n",
    "# Lo entrenamos:\n",
    "model.fit(X, y)"
   ]
  },
  {
   "cell_type": "code",
   "execution_count": 273,
   "metadata": {},
   "outputs": [
    {
     "data": {
      "text/html": [
       "<div>\n",
       "<style scoped>\n",
       "    .dataframe tbody tr th:only-of-type {\n",
       "        vertical-align: middle;\n",
       "    }\n",
       "\n",
       "    .dataframe tbody tr th {\n",
       "        vertical-align: top;\n",
       "    }\n",
       "\n",
       "    .dataframe thead th {\n",
       "        text-align: right;\n",
       "    }\n",
       "</style>\n",
       "<table border=\"1\" class=\"dataframe\">\n",
       "  <thead>\n",
       "    <tr style=\"text-align: right;\">\n",
       "      <th></th>\n",
       "      <th>duracion</th>\n",
       "      <th>paginas</th>\n",
       "      <th>acciones</th>\n",
       "      <th>valor</th>\n",
       "    </tr>\n",
       "  </thead>\n",
       "  <tbody>\n",
       "    <tr>\n",
       "      <th>0</th>\n",
       "      <td>7.0</td>\n",
       "      <td>2</td>\n",
       "      <td>4</td>\n",
       "      <td>8</td>\n",
       "    </tr>\n",
       "    <tr>\n",
       "      <th>1</th>\n",
       "      <td>21.0</td>\n",
       "      <td>2</td>\n",
       "      <td>6</td>\n",
       "      <td>6</td>\n",
       "    </tr>\n",
       "    <tr>\n",
       "      <th>2</th>\n",
       "      <td>57.0</td>\n",
       "      <td>2</td>\n",
       "      <td>4</td>\n",
       "      <td>4</td>\n",
       "    </tr>\n",
       "    <tr>\n",
       "      <th>3</th>\n",
       "      <td>101.0</td>\n",
       "      <td>3</td>\n",
       "      <td>6</td>\n",
       "      <td>12</td>\n",
       "    </tr>\n",
       "    <tr>\n",
       "      <th>4</th>\n",
       "      <td>109.0</td>\n",
       "      <td>2</td>\n",
       "      <td>6</td>\n",
       "      <td>12</td>\n",
       "    </tr>\n",
       "    <tr>\n",
       "      <th>...</th>\n",
       "      <td>...</td>\n",
       "      <td>...</td>\n",
       "      <td>...</td>\n",
       "      <td>...</td>\n",
       "    </tr>\n",
       "    <tr>\n",
       "      <th>165</th>\n",
       "      <td>13.0</td>\n",
       "      <td>1</td>\n",
       "      <td>7</td>\n",
       "      <td>42</td>\n",
       "    </tr>\n",
       "    <tr>\n",
       "      <th>166</th>\n",
       "      <td>12.0</td>\n",
       "      <td>1</td>\n",
       "      <td>2</td>\n",
       "      <td>6</td>\n",
       "    </tr>\n",
       "    <tr>\n",
       "      <th>167</th>\n",
       "      <td>13.0</td>\n",
       "      <td>1</td>\n",
       "      <td>3</td>\n",
       "      <td>9</td>\n",
       "    </tr>\n",
       "    <tr>\n",
       "      <th>168</th>\n",
       "      <td>13.0</td>\n",
       "      <td>1</td>\n",
       "      <td>7</td>\n",
       "      <td>28</td>\n",
       "    </tr>\n",
       "    <tr>\n",
       "      <th>169</th>\n",
       "      <td>12.0</td>\n",
       "      <td>1</td>\n",
       "      <td>6</td>\n",
       "      <td>18</td>\n",
       "    </tr>\n",
       "  </tbody>\n",
       "</table>\n",
       "<p>170 rows × 4 columns</p>\n",
       "</div>"
      ],
      "text/plain": [
       "     duracion  paginas  acciones  valor\n",
       "0         7.0        2         4      8\n",
       "1        21.0        2         6      6\n",
       "2        57.0        2         4      4\n",
       "3       101.0        3         6     12\n",
       "4       109.0        2         6     12\n",
       "..        ...      ...       ...    ...\n",
       "165      13.0        1         7     42\n",
       "166      12.0        1         2      6\n",
       "167      13.0        1         3      9\n",
       "168      13.0        1         7     28\n",
       "169      12.0        1         6     18\n",
       "\n",
       "[170 rows x 4 columns]"
      ]
     },
     "execution_count": 273,
     "metadata": {},
     "output_type": "execute_result"
    }
   ],
   "source": [
    "X"
   ]
  },
  {
   "cell_type": "code",
   "execution_count": 274,
   "metadata": {
    "collapsed": true,
    "jupyter": {
     "outputs_hidden": true
    }
   },
   "outputs": [
    {
     "data": {
      "text/plain": [
       "array([[0.33, 0.13, 0.54],\n",
       "       [0.34, 0.05, 0.61],\n",
       "       [0.25, 0.1 , 0.65],\n",
       "       [0.28, 0.12, 0.6 ],\n",
       "       [0.38, 0.12, 0.5 ],\n",
       "       [0.32, 0.07, 0.61],\n",
       "       [0.15, 0.22, 0.64],\n",
       "       [0.33, 0.13, 0.54],\n",
       "       [0.21, 0.17, 0.61],\n",
       "       [0.26, 0.09, 0.65],\n",
       "       [0.25, 0.15, 0.6 ],\n",
       "       [0.39, 0.07, 0.54],\n",
       "       [0.21, 0.1 , 0.68],\n",
       "       [0.18, 0.05, 0.78],\n",
       "       [0.05, 0.31, 0.64],\n",
       "       [0.33, 0.13, 0.53],\n",
       "       [0.13, 0.09, 0.78],\n",
       "       [0.63, 0.34, 0.03],\n",
       "       [0.58, 0.42, 0.  ],\n",
       "       [0.75, 0.25, 0.  ],\n",
       "       [0.72, 0.28, 0.  ],\n",
       "       [0.4 , 0.6 , 0.  ],\n",
       "       [0.85, 0.15, 0.  ],\n",
       "       [0.4 , 0.6 , 0.  ],\n",
       "       [0.82, 0.18, 0.  ],\n",
       "       [0.35, 0.65, 0.  ],\n",
       "       [0.07, 0.93, 0.  ],\n",
       "       [0.76, 0.24, 0.  ],\n",
       "       [0.35, 0.55, 0.1 ],\n",
       "       [0.58, 0.42, 0.  ],\n",
       "       [0.26, 0.74, 0.  ],\n",
       "       [0.14, 0.86, 0.  ],\n",
       "       [0.21, 0.79, 0.  ],\n",
       "       [0.15, 0.85, 0.  ],\n",
       "       [0.71, 0.29, 0.  ],\n",
       "       [0.2 , 0.14, 0.66],\n",
       "       [0.22, 0.17, 0.6 ],\n",
       "       [0.2 , 0.04, 0.76],\n",
       "       [0.01, 0.43, 0.56],\n",
       "       [0.11, 0.08, 0.81],\n",
       "       [0.84, 0.16, 0.  ],\n",
       "       [0.61, 0.39, 0.  ],\n",
       "       [0.5 , 0.5 , 0.  ],\n",
       "       [0.39, 0.61, 0.  ],\n",
       "       [0.69, 0.31, 0.  ],\n",
       "       [0.22, 0.78, 0.  ],\n",
       "       [0.63, 0.37, 0.  ],\n",
       "       [0.43, 0.57, 0.  ],\n",
       "       [0.78, 0.22, 0.  ],\n",
       "       [0.99, 0.01, 0.01],\n",
       "       [0.74, 0.26, 0.  ],\n",
       "       [0.79, 0.21, 0.  ],\n",
       "       [0.98, 0.02, 0.  ],\n",
       "       [0.99, 0.  , 0.  ],\n",
       "       [0.93, 0.07, 0.  ],\n",
       "       [0.99, 0.01, 0.  ],\n",
       "       [0.69, 0.31, 0.  ],\n",
       "       [0.98, 0.02, 0.  ],\n",
       "       [0.74, 0.25, 0.  ],\n",
       "       [0.71, 0.29, 0.  ],\n",
       "       [0.25, 0.33, 0.42],\n",
       "       [0.71, 0.29, 0.  ],\n",
       "       [0.71, 0.29, 0.  ],\n",
       "       [0.23, 0.33, 0.43],\n",
       "       [0.9 , 0.1 , 0.  ],\n",
       "       [0.7 , 0.3 , 0.  ],\n",
       "       [0.91, 0.03, 0.07],\n",
       "       [0.26, 0.74, 0.  ],\n",
       "       [0.65, 0.35, 0.  ],\n",
       "       [0.45, 0.55, 0.  ],\n",
       "       [0.95, 0.05, 0.  ],\n",
       "       [0.56, 0.44, 0.  ],\n",
       "       [0.32, 0.1 , 0.58],\n",
       "       [0.51, 0.49, 0.  ],\n",
       "       [1.  , 0.  , 0.  ],\n",
       "       [0.45, 0.55, 0.  ],\n",
       "       [0.05, 0.93, 0.01],\n",
       "       [0.55, 0.45, 0.  ],\n",
       "       [0.77, 0.04, 0.19],\n",
       "       [0.96, 0.04, 0.  ],\n",
       "       [1.  , 0.  , 0.  ],\n",
       "       [1.  , 0.  , 0.  ],\n",
       "       [0.93, 0.07, 0.  ],\n",
       "       [0.99, 0.01, 0.  ],\n",
       "       [0.67, 0.02, 0.32],\n",
       "       [1.  , 0.  , 0.  ],\n",
       "       [0.21, 0.18, 0.61],\n",
       "       [0.41, 0.59, 0.  ],\n",
       "       [0.76, 0.24, 0.  ],\n",
       "       [0.97, 0.03, 0.  ],\n",
       "       [0.99, 0.01, 0.  ],\n",
       "       [0.92, 0.08, 0.  ],\n",
       "       [0.41, 0.59, 0.  ],\n",
       "       [0.94, 0.06, 0.  ],\n",
       "       [0.76, 0.24, 0.  ],\n",
       "       [0.36, 0.15, 0.49],\n",
       "       [0.47, 0.53, 0.  ],\n",
       "       [0.29, 0.17, 0.54],\n",
       "       [0.49, 0.51, 0.  ],\n",
       "       [0.72, 0.27, 0.01],\n",
       "       [0.76, 0.24, 0.  ],\n",
       "       [0.54, 0.46, 0.  ],\n",
       "       [0.62, 0.38, 0.  ],\n",
       "       [0.72, 0.28, 0.  ],\n",
       "       [0.63, 0.37, 0.  ],\n",
       "       [0.55, 0.45, 0.  ],\n",
       "       [0.76, 0.24, 0.  ],\n",
       "       [0.81, 0.19, 0.  ],\n",
       "       [0.76, 0.24, 0.  ],\n",
       "       [0.49, 0.51, 0.  ],\n",
       "       [0.26, 0.13, 0.61],\n",
       "       [0.3 , 0.1 , 0.6 ],\n",
       "       [0.22, 0.17, 0.6 ],\n",
       "       [0.26, 0.13, 0.61],\n",
       "       [0.36, 0.15, 0.49],\n",
       "       [0.36, 0.15, 0.49],\n",
       "       [0.29, 0.17, 0.54],\n",
       "       [0.29, 0.17, 0.54],\n",
       "       [0.3 , 0.1 , 0.6 ],\n",
       "       [0.3 , 0.1 , 0.6 ],\n",
       "       [0.36, 0.15, 0.49],\n",
       "       [0.36, 0.15, 0.49],\n",
       "       [0.26, 0.13, 0.61],\n",
       "       [0.3 , 0.1 , 0.6 ],\n",
       "       [0.3 , 0.1 , 0.6 ],\n",
       "       [0.29, 0.17, 0.54],\n",
       "       [0.22, 0.17, 0.6 ],\n",
       "       [0.3 , 0.1 , 0.6 ],\n",
       "       [0.22, 0.17, 0.6 ],\n",
       "       [0.24, 0.19, 0.57],\n",
       "       [0.66, 0.34, 0.  ],\n",
       "       [0.72, 0.28, 0.  ],\n",
       "       [0.68, 0.32, 0.  ],\n",
       "       [0.72, 0.27, 0.01],\n",
       "       [0.91, 0.09, 0.  ],\n",
       "       [0.87, 0.05, 0.09],\n",
       "       [0.75, 0.07, 0.18],\n",
       "       [0.64, 0.36, 0.  ],\n",
       "       [0.56, 0.41, 0.03],\n",
       "       [0.79, 0.21, 0.  ],\n",
       "       [0.55, 0.45, 0.  ],\n",
       "       [0.52, 0.48, 0.  ],\n",
       "       [0.82, 0.18, 0.  ],\n",
       "       [0.47, 0.3 , 0.23],\n",
       "       [0.87, 0.13, 0.  ],\n",
       "       [0.28, 0.25, 0.47],\n",
       "       [0.87, 0.13, 0.  ],\n",
       "       [0.77, 0.23, 0.  ],\n",
       "       [0.66, 0.34, 0.  ],\n",
       "       [0.47, 0.3 , 0.23],\n",
       "       [0.63, 0.37, 0.  ],\n",
       "       [0.36, 0.15, 0.49],\n",
       "       [0.9 , 0.1 , 0.  ],\n",
       "       [0.74, 0.26, 0.  ],\n",
       "       [0.55, 0.45, 0.  ],\n",
       "       [0.24, 0.2 , 0.57],\n",
       "       [0.37, 0.34, 0.29],\n",
       "       [0.77, 0.23, 0.  ],\n",
       "       [0.87, 0.13, 0.  ],\n",
       "       [0.58, 0.42, 0.  ],\n",
       "       [0.59, 0.41, 0.  ],\n",
       "       [0.69, 0.31, 0.  ],\n",
       "       [0.58, 0.42, 0.  ],\n",
       "       [0.72, 0.28, 0.  ],\n",
       "       [0.43, 0.13, 0.44],\n",
       "       [0.64, 0.36, 0.  ],\n",
       "       [0.47, 0.3 , 0.23],\n",
       "       [0.63, 0.31, 0.06],\n",
       "       [0.79, 0.21, 0.  ],\n",
       "       [0.81, 0.19, 0.  ]])"
      ]
     },
     "execution_count": 274,
     "metadata": {},
     "output_type": "execute_result"
    }
   ],
   "source": [
    "predict_probab = model.predict_proba(X)\n",
    "np.round(predict_probab, 2)"
   ]
  },
  {
   "cell_type": "markdown",
   "metadata": {},
   "source": [
    "Como puedes ver, hemos utilizado el parámetro ``max_iter``. Esto es debido a que, por defecto, el modelo no convergía al realizar el Descenso de Gradiente. También podemos variar el parámetro ``multi_class`` para decidir qué método utilizar para el multiclase, lo que también puede hacer que converja.\n",
    "\n",
    "Bueno, volviendo al problema, hagamos las predicciones:"
   ]
  },
  {
   "cell_type": "code",
   "execution_count": 276,
   "metadata": {},
   "outputs": [
    {
     "data": {
      "text/plain": [
       "array([2, 2, 2, 2, 2, 2, 2, 2, 2, 2, 2, 2, 2, 2, 2, 2, 2, 0, 0, 0, 0, 1,\n",
       "       0, 1, 0, 1, 1, 0, 1, 0, 1, 1, 1, 1, 0, 2, 2, 2, 2, 2, 0, 0, 0, 1,\n",
       "       0, 1, 0, 1, 0, 0, 0, 0, 0, 0, 0, 0, 0, 0, 0, 0, 2, 0, 0, 2, 0, 0,\n",
       "       0, 1, 0, 1, 0, 0, 2, 0, 0, 1, 1, 0, 0, 0, 0, 0, 0, 0, 0, 0, 2, 1,\n",
       "       0, 0, 0, 0, 1, 0, 0, 2, 1, 2, 1, 0, 0, 0, 0, 0, 0, 0, 0, 0, 0, 1,\n",
       "       2, 2, 2, 2, 2, 2, 2, 2, 2, 2, 2, 2, 2, 2, 2, 2, 2, 2, 2, 2, 0, 0,\n",
       "       0, 0, 0, 0, 0, 0, 0, 0, 0, 0, 0, 0, 0, 2, 0, 0, 0, 0, 0, 2, 0, 0,\n",
       "       0, 2, 0, 0, 0, 0, 0, 0, 0, 0, 2, 0, 0, 0, 0, 0], dtype=int64)"
      ]
     },
     "execution_count": 276,
     "metadata": {},
     "output_type": "execute_result"
    }
   ],
   "source": [
    "predictions = model.predict(X)\n",
    "predictions"
   ]
  },
  {
   "cell_type": "code",
   "execution_count": 277,
   "metadata": {
    "collapsed": true,
    "jupyter": {
     "outputs_hidden": true
    }
   },
   "outputs": [
    {
     "data": {
      "text/plain": [
       "array([[0.33, 0.13, 0.54],\n",
       "       [0.34, 0.05, 0.61],\n",
       "       [0.25, 0.1 , 0.65],\n",
       "       [0.28, 0.12, 0.6 ],\n",
       "       [0.38, 0.12, 0.5 ],\n",
       "       [0.32, 0.07, 0.61],\n",
       "       [0.15, 0.22, 0.64],\n",
       "       [0.33, 0.13, 0.54],\n",
       "       [0.21, 0.17, 0.61],\n",
       "       [0.26, 0.09, 0.65],\n",
       "       [0.25, 0.15, 0.6 ],\n",
       "       [0.39, 0.07, 0.54],\n",
       "       [0.21, 0.1 , 0.68],\n",
       "       [0.18, 0.05, 0.78],\n",
       "       [0.05, 0.31, 0.64],\n",
       "       [0.33, 0.13, 0.53],\n",
       "       [0.13, 0.09, 0.78],\n",
       "       [0.63, 0.34, 0.03],\n",
       "       [0.58, 0.42, 0.  ],\n",
       "       [0.75, 0.25, 0.  ],\n",
       "       [0.72, 0.28, 0.  ],\n",
       "       [0.4 , 0.6 , 0.  ],\n",
       "       [0.85, 0.15, 0.  ],\n",
       "       [0.4 , 0.6 , 0.  ],\n",
       "       [0.82, 0.18, 0.  ],\n",
       "       [0.35, 0.65, 0.  ],\n",
       "       [0.07, 0.93, 0.  ],\n",
       "       [0.76, 0.24, 0.  ],\n",
       "       [0.35, 0.55, 0.1 ],\n",
       "       [0.58, 0.42, 0.  ],\n",
       "       [0.26, 0.74, 0.  ],\n",
       "       [0.14, 0.86, 0.  ],\n",
       "       [0.21, 0.79, 0.  ],\n",
       "       [0.15, 0.85, 0.  ],\n",
       "       [0.71, 0.29, 0.  ],\n",
       "       [0.2 , 0.14, 0.66],\n",
       "       [0.22, 0.17, 0.6 ],\n",
       "       [0.2 , 0.04, 0.76],\n",
       "       [0.01, 0.43, 0.56],\n",
       "       [0.11, 0.08, 0.81],\n",
       "       [0.84, 0.16, 0.  ],\n",
       "       [0.61, 0.39, 0.  ],\n",
       "       [0.5 , 0.5 , 0.  ],\n",
       "       [0.39, 0.61, 0.  ],\n",
       "       [0.69, 0.31, 0.  ],\n",
       "       [0.22, 0.78, 0.  ],\n",
       "       [0.63, 0.37, 0.  ],\n",
       "       [0.43, 0.57, 0.  ],\n",
       "       [0.78, 0.22, 0.  ],\n",
       "       [0.99, 0.01, 0.01],\n",
       "       [0.74, 0.26, 0.  ],\n",
       "       [0.79, 0.21, 0.  ],\n",
       "       [0.98, 0.02, 0.  ],\n",
       "       [0.99, 0.  , 0.  ],\n",
       "       [0.93, 0.07, 0.  ],\n",
       "       [0.99, 0.01, 0.  ],\n",
       "       [0.69, 0.31, 0.  ],\n",
       "       [0.98, 0.02, 0.  ],\n",
       "       [0.74, 0.25, 0.  ],\n",
       "       [0.71, 0.29, 0.  ],\n",
       "       [0.25, 0.33, 0.42],\n",
       "       [0.71, 0.29, 0.  ],\n",
       "       [0.71, 0.29, 0.  ],\n",
       "       [0.23, 0.33, 0.43],\n",
       "       [0.9 , 0.1 , 0.  ],\n",
       "       [0.7 , 0.3 , 0.  ],\n",
       "       [0.91, 0.03, 0.07],\n",
       "       [0.26, 0.74, 0.  ],\n",
       "       [0.65, 0.35, 0.  ],\n",
       "       [0.45, 0.55, 0.  ],\n",
       "       [0.95, 0.05, 0.  ],\n",
       "       [0.56, 0.44, 0.  ],\n",
       "       [0.32, 0.1 , 0.58],\n",
       "       [0.51, 0.49, 0.  ],\n",
       "       [1.  , 0.  , 0.  ],\n",
       "       [0.45, 0.55, 0.  ],\n",
       "       [0.05, 0.93, 0.01],\n",
       "       [0.55, 0.45, 0.  ],\n",
       "       [0.77, 0.04, 0.19],\n",
       "       [0.96, 0.04, 0.  ],\n",
       "       [1.  , 0.  , 0.  ],\n",
       "       [1.  , 0.  , 0.  ],\n",
       "       [0.93, 0.07, 0.  ],\n",
       "       [0.99, 0.01, 0.  ],\n",
       "       [0.67, 0.02, 0.32],\n",
       "       [1.  , 0.  , 0.  ],\n",
       "       [0.21, 0.18, 0.61],\n",
       "       [0.41, 0.59, 0.  ],\n",
       "       [0.76, 0.24, 0.  ],\n",
       "       [0.97, 0.03, 0.  ],\n",
       "       [0.99, 0.01, 0.  ],\n",
       "       [0.92, 0.08, 0.  ],\n",
       "       [0.41, 0.59, 0.  ],\n",
       "       [0.94, 0.06, 0.  ],\n",
       "       [0.76, 0.24, 0.  ],\n",
       "       [0.36, 0.15, 0.49],\n",
       "       [0.47, 0.53, 0.  ],\n",
       "       [0.29, 0.17, 0.54],\n",
       "       [0.49, 0.51, 0.  ],\n",
       "       [0.72, 0.27, 0.01],\n",
       "       [0.76, 0.24, 0.  ],\n",
       "       [0.54, 0.46, 0.  ],\n",
       "       [0.62, 0.38, 0.  ],\n",
       "       [0.72, 0.28, 0.  ],\n",
       "       [0.63, 0.37, 0.  ],\n",
       "       [0.55, 0.45, 0.  ],\n",
       "       [0.76, 0.24, 0.  ],\n",
       "       [0.81, 0.19, 0.  ],\n",
       "       [0.76, 0.24, 0.  ],\n",
       "       [0.49, 0.51, 0.  ],\n",
       "       [0.26, 0.13, 0.61],\n",
       "       [0.3 , 0.1 , 0.6 ],\n",
       "       [0.22, 0.17, 0.6 ],\n",
       "       [0.26, 0.13, 0.61],\n",
       "       [0.36, 0.15, 0.49],\n",
       "       [0.36, 0.15, 0.49],\n",
       "       [0.29, 0.17, 0.54],\n",
       "       [0.29, 0.17, 0.54],\n",
       "       [0.3 , 0.1 , 0.6 ],\n",
       "       [0.3 , 0.1 , 0.6 ],\n",
       "       [0.36, 0.15, 0.49],\n",
       "       [0.36, 0.15, 0.49],\n",
       "       [0.26, 0.13, 0.61],\n",
       "       [0.3 , 0.1 , 0.6 ],\n",
       "       [0.3 , 0.1 , 0.6 ],\n",
       "       [0.29, 0.17, 0.54],\n",
       "       [0.22, 0.17, 0.6 ],\n",
       "       [0.3 , 0.1 , 0.6 ],\n",
       "       [0.22, 0.17, 0.6 ],\n",
       "       [0.24, 0.19, 0.57],\n",
       "       [0.66, 0.34, 0.  ],\n",
       "       [0.72, 0.28, 0.  ],\n",
       "       [0.68, 0.32, 0.  ],\n",
       "       [0.72, 0.27, 0.01],\n",
       "       [0.91, 0.09, 0.  ],\n",
       "       [0.87, 0.05, 0.09],\n",
       "       [0.75, 0.07, 0.18],\n",
       "       [0.64, 0.36, 0.  ],\n",
       "       [0.56, 0.41, 0.03],\n",
       "       [0.79, 0.21, 0.  ],\n",
       "       [0.55, 0.45, 0.  ],\n",
       "       [0.52, 0.48, 0.  ],\n",
       "       [0.82, 0.18, 0.  ],\n",
       "       [0.47, 0.3 , 0.23],\n",
       "       [0.87, 0.13, 0.  ],\n",
       "       [0.28, 0.25, 0.47],\n",
       "       [0.87, 0.13, 0.  ],\n",
       "       [0.77, 0.23, 0.  ],\n",
       "       [0.66, 0.34, 0.  ],\n",
       "       [0.47, 0.3 , 0.23],\n",
       "       [0.63, 0.37, 0.  ],\n",
       "       [0.36, 0.15, 0.49],\n",
       "       [0.9 , 0.1 , 0.  ],\n",
       "       [0.74, 0.26, 0.  ],\n",
       "       [0.55, 0.45, 0.  ],\n",
       "       [0.24, 0.2 , 0.57],\n",
       "       [0.37, 0.34, 0.29],\n",
       "       [0.77, 0.23, 0.  ],\n",
       "       [0.87, 0.13, 0.  ],\n",
       "       [0.58, 0.42, 0.  ],\n",
       "       [0.59, 0.41, 0.  ],\n",
       "       [0.69, 0.31, 0.  ],\n",
       "       [0.58, 0.42, 0.  ],\n",
       "       [0.72, 0.28, 0.  ],\n",
       "       [0.43, 0.13, 0.44],\n",
       "       [0.64, 0.36, 0.  ],\n",
       "       [0.47, 0.3 , 0.23],\n",
       "       [0.63, 0.31, 0.06],\n",
       "       [0.79, 0.21, 0.  ],\n",
       "       [0.81, 0.19, 0.  ]])"
      ]
     },
     "execution_count": 277,
     "metadata": {},
     "output_type": "execute_result"
    }
   ],
   "source": [
    "predict_probab = model.predict_proba(X)\n",
    "np.round(predict_probab, 2)"
   ]
  },
  {
   "cell_type": "code",
   "execution_count": 278,
   "metadata": {
    "collapsed": false,
    "jupyter": {
     "outputs_hidden": false
    }
   },
   "outputs": [
    {
     "data": {
      "text/plain": [
       "0.7705882352941177"
      ]
     },
     "execution_count": 278,
     "metadata": {},
     "output_type": "execute_result"
    }
   ],
   "source": [
    "model.score(X, y) # accuracy"
   ]
  },
  {
   "cell_type": "markdown",
   "metadata": {},
   "source": [
    "## EJERCICIO\n",
    "\n",
    "1. El método ``model.score()`` nos devuelve el accuracy del modelo basado en los resultados de la predicción. Calcula el accuracy por tu cuenta y comprueba que realmente se cumple"
   ]
  },
  {
   "cell_type": "code",
   "execution_count": 31,
   "metadata": {},
   "outputs": [
    {
     "data": {
      "text/plain": [
       "0.7764705882352941"
      ]
     },
     "execution_count": 31,
     "metadata": {},
     "output_type": "execute_result"
    }
   ],
   "source": [
    "# ACCURACY - nivel de acierto suma de acierto/total casos\n",
    "dif = y - predictions\n",
    "aciertos = (dif == 0).sum()\n",
    "accuracy = (aciertos/len(dif))\n",
    "accuracy"
   ]
  },
  {
   "cell_type": "code",
   "execution_count": null,
   "metadata": {},
   "outputs": [],
   "source": []
  },
  {
   "cell_type": "markdown",
   "metadata": {},
   "source": [
    "## Cómo presentar los resultados\n",
    "\n",
    "Para hacer el reporte de los resultados, podemos ayudarnos de la matriz de confusión, que en los casos multiclase se suele agradecer, ya que resume muy bien qué está haciendo nuestro algoritmo:"
   ]
  },
  {
   "cell_type": "code",
   "execution_count": 279,
   "metadata": {},
   "outputs": [
    {
     "data": {
      "text/plain": [
       "array([[72,  6,  8],\n",
       "       [25, 15,  0],\n",
       "       [ 0,  0, 44]], dtype=int64)"
      ]
     },
     "execution_count": 279,
     "metadata": {},
     "output_type": "execute_result"
    }
   ],
   "source": [
    "c_matrix = confusion_matrix(y, predictions)\n",
    "c_matrix"
   ]
  },
  {
   "cell_type": "code",
   "execution_count": 280,
   "metadata": {},
   "outputs": [
    {
     "data": {
      "image/png": "[encoded data removed]",
      "text/plain": [
       "<Figure size 432x288 with 2 Axes>"
      ]
     },
     "metadata": {
      "needs_background": "light"
     },
     "output_type": "display_data"
    }
   ],
   "source": [
    "import seaborn as sns\n",
    "sns.heatmap(c_matrix, annot=True);"
   ]
  },
  {
   "cell_type": "code",
   "execution_count": 40,
   "metadata": {},
   "outputs": [
    {
     "data": {
      "image/png": "[encoded data removed]",
      "text/plain": [
       "<Figure size 432x288 with 2 Axes>"
      ]
     },
     "metadata": {
      "needs_background": "light"
     },
     "output_type": "display_data"
    }
   ],
   "source": [
    "sns.heatmap(c_matrix/np.sum(c_matrix), annot=True, \n",
    "            fmt='.2%', cmap='Blues');"
   ]
  },
  {
   "cell_type": "markdown",
   "metadata": {},
   "source": [
    "El accuracy también puede ser calculado con la función accuracy_score, del módulo sklearn.metrics (que ya hemos importado al principio). Del mismo modo que obtenemos el porcentaje de acierto, podemos obtener el de error.\n",
    "\n",
    "Cabe destacar que, para saber si un algoritmo de clasificación es bueno o no, debemos compararlo con el caso aleatorio. Es decir, para saber si un clasificador binario es útil, o sería mejor utilizar una moneda a cara o cruz, lo que tendremos que hacer será comprobar el accuracy con 0,5%.\n",
    "  - En caso de ser superior, será bueno. Bueno, realmente será bueno si es notablemente superior a 0,5% y no es debido a la aleatoriedad (que dependiendo de las muestras varíe de media en torno al 50%).\n",
    "  - En caso de ser inferior, ¿qué opinas? Si tenemos un porcentaje por debajo del 0,5%, el resultado será que fallamos más de lo que acertamos, lo cual es peor que jugárnosla aleatoriamente. Sin embargo, la realidad ante esta situación puede ser vista de otro modo, ya que si tenemos un algritmo que tiene una precisión notablemente inferior al 50% y nos damos cuenta (porque igual es un buen algoritmo pero estamos fallando en algún cambio de signo o algo simple), podríamos añadir un último paso en el que seleccionáramos lo contrario, y así tendríamos un porcentaje superior a ese 50%.\n",
    "  - Si nos mantenemos en torno al 50%, el resultado es prácticamente aleatorio, así que no nos serviría de mucho nuetro algoritmo y deberíamos repensar las cosas.\n",
    "\n",
    "\n",
    "Por otra parte, si nos encontramos ante un clasificador de ``N`` clases, la cosa no es exactamente igual, ya que entran más opciones en juego. La comparación, en lugar de con 50% será con $\\frac{1}{N}$. Además, ahora no podemos utilizar la inversa, ya que no existe ese concepto extendido a más de 2 clases.\n",
    "\n",
    "De este modo, si nos encontramos ante un clasificador de 3 clases, como el que tenemos en este ejemplo, la probabilidad con la que tendríamos que compararlo sería 33%. Si tenemos un accuracy considerablemente superior, tendríamos un buen clasificador, mientras que si obtneemos un resultado que varía poco respecto a esta cifra, deberemos replantearnos el problema.\n",
    "\n"
   ]
  },
  {
   "cell_type": "code",
   "execution_count": 283,
   "metadata": {
    "tags": []
   },
   "outputs": [
    {
     "name": "stdout",
     "output_type": "stream",
     "text": [
      "Acierto: 77.06 %\n",
      "Error: 22.94 %\n"
     ]
    }
   ],
   "source": [
    "acierto = accuracy_score(y, predictions)\n",
    "\n",
    "error = 1 - acierto\n",
    "print(\"Acierto:\", round(acierto*100, 2), \"%\")\n",
    "print(\"Error:\", round(error*100, 2), \"%\")"
   ]
  },
  {
   "cell_type": "markdown",
   "metadata": {},
   "source": [
    "### EJERCICIO\n",
    "\n",
    "1. Implementa en funciones las siguientes métricas definidas en clase (tomando como parámetros las $y$ reales y las predichas):\n",
    "    - Precision\n",
    "    - Recall\n",
    "    - F1-Score\n",
    "    \n",
    "    \n",
    "2. Lee el dataset de Futbolistas y, en función de los atributos numéricos (incluyendo los que puedas extraer de dob, si quieres), intenta predecir si un jugador es diestro o zurdo. Para evaluar el modelo, utiliza tanto en accuracy como los 3 métodos que acabas de crear.\n",
    "\n",
    "3. Prueba a convertir los \"Diestros\" en 1 y los \"Zurdos\" en 0 (o viceversa) y prueba a lanzar un modelo lineal a ver qué resultados saca. Compruébalo con el R^2. Después, pon un umbral de decisión en 0.5 y comprueba el accuracy.\n",
    "\n",
    "4. Vuelve a realizar los cálculos para el modelo de regresión lineal pero validando sus resultados con ua división train-test del 0.3"
   ]
  },
  {
   "cell_type": "code",
   "execution_count": 645,
   "metadata": {},
   "outputs": [],
   "source": [
    "# 1.\n",
    "df = pd.read_csv(\"../../../data/FIFA20.csv\")\n",
    "\n",
    "from sklearn.metrics import precision_score\n"
   ]
  },
  {
   "cell_type": "code",
   "execution_count": 646,
   "metadata": {},
   "outputs": [
    {
     "data": {
      "text/plain": [
       "['overall', 'potential', 'value_eur', 'wage_eur', 'año', 'mes']"
      ]
     },
     "execution_count": 646,
     "metadata": {},
     "output_type": "execute_result"
    }
   ],
   "source": [
    "feature_cols = ['overall', 'potential', 'value_eur', 'wage_eur']\n",
    "pred_col = 'preferred_foot'\n",
    "# df = df[feature_cols+[pred_col]\n",
    "\n",
    "df['año'] = df['dob'].apply(lambda x: int(x[0:4]))\n",
    "df['mes'] = df['dob'].apply(lambda x: int(x[5:7]))\n",
    "\n",
    "feature_cols.append('año')\n",
    "feature_cols.append('mes')\n",
    "\n",
    "feature_cols"
   ]
  },
  {
   "cell_type": "code",
   "execution_count": 668,
   "metadata": {},
   "outputs": [
    {
     "data": {
      "text/plain": [
       "0        1\n",
       "1        0\n",
       "2        0\n",
       "3        0\n",
       "4        0\n",
       "        ..\n",
       "18273    0\n",
       "18274    0\n",
       "18275    0\n",
       "18276    0\n",
       "18277    0\n",
       "Name: preferred_foot, Length: 18278, dtype: int64"
      ]
     },
     "execution_count": 668,
     "metadata": {},
     "output_type": "execute_result"
    }
   ],
   "source": [
    "# Forma 1:\n",
    "def f(x):\n",
    "    if x == 'Left':\n",
    "        return 1\n",
    "    elif x == 'Right':\n",
    "        return 0\n",
    "    else:\n",
    "        return 2\n",
    "\n",
    "\n",
    "y.apply(lambda x: f(x))\n",
    "\n",
    "# Forma 2:\n",
    "y.apply(lambda x: map_lr[x])"
   ]
  },
  {
   "cell_type": "code",
   "execution_count": 666,
   "metadata": {},
   "outputs": [
    {
     "data": {
      "text/plain": [
       "0        1\n",
       "1        0\n",
       "2        0\n",
       "3        0\n",
       "4        0\n",
       "        ..\n",
       "18273    0\n",
       "18274    0\n",
       "18275    0\n",
       "18276    0\n",
       "18277    0\n",
       "Name: preferred_foot, Length: 18278, dtype: int64"
      ]
     },
     "execution_count": 666,
     "metadata": {},
     "output_type": "execute_result"
    }
   ],
   "source": [
    "y.apply(lambda x: map_lr[x])"
   ]
  },
  {
   "cell_type": "code",
   "execution_count": 647,
   "metadata": {},
   "outputs": [],
   "source": [
    "map_lr = {'Left': 1, 'Right': 0}\n",
    "map_rl = {'Left': 0, 'Right': 1}"
   ]
  },
  {
   "cell_type": "code",
   "execution_count": 648,
   "metadata": {},
   "outputs": [
    {
     "name": "stdout",
     "output_type": "stream",
     "text": [
      "0.7611380334531812\n",
      "0.7698760029175784\n"
     ]
    }
   ],
   "source": [
    "X = df[feature_cols]\n",
    "y = df[pred_col]\n",
    "\n",
    "X_train, X_test, y_train, y_test = model_selection.train_test_split(X, y, test_size=0.3, random_state=seed)\n",
    "\n",
    "model = linear_model.LogisticRegression(max_iter=1000)\n",
    "\n",
    "# Lo entrenamos:\n",
    "model.fit(X_train, y_train)\n",
    "\n",
    "# Predecimos sobre train:\n",
    "print(model.score(X_train, y_train))\n",
    "\n",
    "# Predecimos sobre test:\n",
    "print(model.score(X_test, y_test))"
   ]
  },
  {
   "cell_type": "code",
   "execution_count": 656,
   "metadata": {},
   "outputs": [
    {
     "data": {
      "text/plain": [
       "Right    12794\n",
       "dtype: int64"
      ]
     },
     "execution_count": 656,
     "metadata": {},
     "output_type": "execute_result"
    }
   ],
   "source": [
    "pd.Series(model.predict(X_train)).value_counts()"
   ]
  },
  {
   "cell_type": "code",
   "execution_count": 638,
   "metadata": {},
   "outputs": [],
   "source": [
    "# pd.DataFrame(df[df['preferred_foot']=='Left']['team_position'].value_counts()).join(pd.DataFrame(df[df['preferred_foot']=='Right']['team_position'].value_counts()), lsuffix='Left', rsuffix='Right')"
   ]
  },
  {
   "cell_type": "code",
   "execution_count": 639,
   "metadata": {},
   "outputs": [
    {
     "data": {
      "image/png": "[encoded data removed]",
      "text/plain": [
       "<Figure size 432x288 with 2 Axes>"
      ]
     },
     "metadata": {
      "needs_background": "light"
     },
     "output_type": "display_data"
    }
   ],
   "source": [
    "# 2.\n",
    "c_matrix = confusion_matrix(y_test, model.predict(X_test))\n",
    "sns.heatmap(c_matrix, annot=True, fmt='');"
   ]
  },
  {
   "cell_type": "markdown",
   "metadata": {},
   "source": [
    "Otras métricas:"
   ]
  },
  {
   "cell_type": "code",
   "execution_count": 640,
   "metadata": {},
   "outputs": [
    {
     "name": "stdout",
     "output_type": "stream",
     "text": [
      "Precision: 0.0\n",
      "Recall: 0.0\n",
      "F1-score: 0.0\n"
     ]
    },
    {
     "name": "stderr",
     "output_type": "stream",
     "text": [
      "C:\\Users\\TheBridge\\anaconda3\\lib\\site-packages\\sklearn\\metrics\\_classification.py:1221: UndefinedMetricWarning: Precision is ill-defined and being set to 0.0 due to no predicted samples. Use `zero_division` parameter to control this behavior.\n",
      "  _warn_prf(average, modifier, msg_start, len(result))\n"
     ]
    }
   ],
   "source": [
    "print(f\"Precision: {precision_score(y_test, model.predict(X_test))}\")\n",
    "print(f\"Recall: {recall_score(y_test, model.predict(X_test))}\")\n",
    "print(f\"F1-score: {f1_score(y_test, model.predict(X_test))}\")"
   ]
  },
  {
   "cell_type": "code",
   "execution_count": 657,
   "metadata": {
    "collapsed": true,
    "jupyter": {
     "outputs_hidden": true
    }
   },
   "outputs": [
    {
     "name": "stderr",
     "output_type": "stream",
     "text": [
      "C:\\Users\\TheBridge\\anaconda3\\lib\\site-packages\\statsmodels\\discrete\\discrete_model.py:436: RuntimeWarning: invalid value encountered in greater_equal\n",
      "  not np.all((self.endog >= 0) & (self.endog <= 1))):\n",
      "C:\\Users\\TheBridge\\anaconda3\\lib\\site-packages\\statsmodels\\discrete\\discrete_model.py:436: RuntimeWarning: invalid value encountered in less_equal\n",
      "  not np.all((self.endog >= 0) & (self.endog <= 1))):\n"
     ]
    },
    {
     "ename": "ValueError",
     "evalue": "endog must be in the unit interval.",
     "output_type": "error",
     "traceback": [
      "\u001b[1;31m---------------------------------------------------------------------------\u001b[0m",
      "\u001b[1;31mValueError\u001b[0m                                Traceback (most recent call last)",
      "\u001b[1;32m<ipython-input-657-51a2cb77d14c>\u001b[0m in \u001b[0;36m<module>\u001b[1;34m\u001b[0m\n\u001b[0;32m      3\u001b[0m \u001b[0my_train\u001b[0m \u001b[1;33m=\u001b[0m \u001b[0my_train\u001b[0m\u001b[1;33m.\u001b[0m\u001b[0mmap\u001b[0m\u001b[1;33m(\u001b[0m\u001b[0mmap_lf\u001b[0m\u001b[1;33m)\u001b[0m\u001b[1;33m\u001b[0m\u001b[1;33m\u001b[0m\u001b[0m\n\u001b[0;32m      4\u001b[0m \u001b[1;33m\u001b[0m\u001b[0m\n\u001b[1;32m----> 5\u001b[1;33m \u001b[0mlog_model\u001b[0m \u001b[1;33m=\u001b[0m \u001b[0msm\u001b[0m\u001b[1;33m.\u001b[0m\u001b[0mLogit\u001b[0m\u001b[1;33m(\u001b[0m\u001b[0my_train\u001b[0m\u001b[1;33m,\u001b[0m \u001b[0mX_train\u001b[0m\u001b[1;33m)\u001b[0m\u001b[1;33m.\u001b[0m\u001b[0mfit\u001b[0m\u001b[1;33m(\u001b[0m\u001b[1;33m)\u001b[0m\u001b[1;33m\u001b[0m\u001b[1;33m\u001b[0m\u001b[0m\n\u001b[0m",
      "\u001b[1;32m~\\anaconda3\\lib\\site-packages\\statsmodels\\discrete\\discrete_model.py\u001b[0m in \u001b[0;36m__init__\u001b[1;34m(self, endog, exog, **kwargs)\u001b[0m\n\u001b[0;32m    435\u001b[0m         if (not issubclass(self.__class__, MultinomialModel) and\n\u001b[0;32m    436\u001b[0m                 not np.all((self.endog >= 0) & (self.endog <= 1))):\n\u001b[1;32m--> 437\u001b[1;33m             \u001b[1;32mraise\u001b[0m \u001b[0mValueError\u001b[0m\u001b[1;33m(\u001b[0m\u001b[1;34m\"endog must be in the unit interval.\"\u001b[0m\u001b[1;33m)\u001b[0m\u001b[1;33m\u001b[0m\u001b[1;33m\u001b[0m\u001b[0m\n\u001b[0m\u001b[0;32m    438\u001b[0m \u001b[1;33m\u001b[0m\u001b[0m\n\u001b[0;32m    439\u001b[0m \u001b[1;33m\u001b[0m\u001b[0m\n",
      "\u001b[1;31mValueError\u001b[0m: endog must be in the unit interval."
     ]
    }
   ],
   "source": [
    "import statsmodels.api as sm\n",
    "\n",
    "y_train = y_train.map(map_lf)\n",
    "\n",
    "log_model = sm.Logit(y_train, X_train).fit()\n"
   ]
  },
  {
   "cell_type": "code",
   "execution_count": 658,
   "metadata": {},
   "outputs": [
    {
     "data": {
      "text/plain": [
       "mes    0.54352\n",
       "dtype: float64"
      ]
     },
     "execution_count": 658,
     "metadata": {},
     "output_type": "execute_result"
    }
   ],
   "source": [
    "# Extraer la variable que más probablemente no afecte al resultado final:\n",
    "log_model.pvalues[log_model.pvalues == max(log_model.pvalues)]"
   ]
  },
  {
   "cell_type": "code",
   "execution_count": 659,
   "metadata": {},
   "outputs": [
    {
     "data": {
      "text/plain": [
       "overall      2.764512e-02\n",
       "potential    3.810451e-03\n",
       "value_eur    7.463532e-02\n",
       "wage_eur     3.548442e-01\n",
       "año          1.354434e-16\n",
       "mes          5.435199e-01\n",
       "dtype: float64"
      ]
     },
     "execution_count": 659,
     "metadata": {},
     "output_type": "execute_result"
    }
   ],
   "source": [
    "log_model.pvalues"
   ]
  },
  {
   "cell_type": "code",
   "execution_count": 560,
   "metadata": {},
   "outputs": [],
   "source": []
  },
  {
   "cell_type": "code",
   "execution_count": 615,
   "metadata": {},
   "outputs": [
    {
     "name": "stdout",
     "output_type": "stream",
     "text": [
      "0.585277088502895\n",
      "0.5665766113469702\n"
     ]
    }
   ],
   "source": [
    "df = pd.read_csv(\"../../../data/FIFA20.csv\")\n",
    "\n",
    "# Probando a qudarme con menos muestras:\n",
    "right_footed = df[df['preferred_foot'] == 'Right']\n",
    "left_footed = df[df['preferred_foot'] == 'Left']\n",
    "\n",
    "# Elegimos aleatoriamente los registros de los diestros:\n",
    "resized_right_footed = np.random.choice(right_footed.index, size=len(left_footed), replace=False)\n",
    "\n",
    "# Filtramos para quedarnos con esa selección:\n",
    "right_footed = right_footed.loc[resized_right_footed]\n",
    "\n",
    "# Creamos df:\n",
    "df = right_footed.append(left_footed)\n",
    "\n",
    "feature_cols = ['overall', 'potential', 'value_eur', 'wage_eur', 'team_position']\n",
    "pred_col = 'preferred_foot'\n",
    "# df = df[feature_cols+[pred_col]\n",
    "\n",
    "df['año'] = df['dob'].apply(lambda x: int(x[0:4]))\n",
    "df['mes'] = df['dob'].apply(lambda x: int(x[5:7]))\n",
    "\n",
    "feature_cols.append('año')\n",
    "feature_cols.append('mes')\n",
    "\n",
    "def position(x):\n",
    "    x = str(x)\n",
    "    if x[0] == 'R' and x not in ['RES']:\n",
    "        return 'R'\n",
    "    elif x[0] == 'L':\n",
    "        return 'L'\n",
    "    else:\n",
    "        return ''\n",
    "\n",
    "df['team_position'] = df['team_position'].apply(lambda x: position(x))\n",
    "\n",
    "# Añadimos get_dummies de posición:\n",
    "posicion_dummies = pd.get_dummies(df['team_position'], prefix='position')\n",
    "df = df.join(posicion_dummies)\n",
    "\n",
    "# X = df[feature_cols + list(posicion_dummies.columns)].drop(\"team_position\", axis=1)\n",
    "X = df[list(posicion_dummies.columns)]\n",
    "y = df[pred_col].map(map_lr)\n",
    "\n",
    "X_train, X_test, y_train, y_test = model_selection.train_test_split(X, y, test_size=0.3, random_state=seed)\n",
    "\n",
    "\n",
    "# model = linear_model.LinearRegression()\n",
    "\n",
    "# # Lo entrenamos:\n",
    "# model.fit(X_train, y_train)\n",
    "\n",
    "# model.score(X_test, y_test)\n",
    "\n",
    "\n",
    "model = linear_model.LogisticRegression(max_iter=1000)\n",
    "\n",
    "# Lo entrenamos:\n",
    "model.fit(X_train, y_train)\n",
    "\n",
    "# Predecimos sobre train:\n",
    "print(model.score(X_train, y_train))\n",
    "\n",
    "# Predecimos sobre test:\n",
    "print(model.score(X_test, y_test))"
   ]
  },
  {
   "cell_type": "code",
   "execution_count": 616,
   "metadata": {},
   "outputs": [
    {
     "data": {
      "text/html": [
       "<div>\n",
       "<style scoped>\n",
       "    .dataframe tbody tr th:only-of-type {\n",
       "        vertical-align: middle;\n",
       "    }\n",
       "\n",
       "    .dataframe tbody tr th {\n",
       "        vertical-align: top;\n",
       "    }\n",
       "\n",
       "    .dataframe thead th {\n",
       "        text-align: right;\n",
       "    }\n",
       "</style>\n",
       "<table border=\"1\" class=\"dataframe\">\n",
       "  <thead>\n",
       "    <tr style=\"text-align: right;\">\n",
       "      <th></th>\n",
       "      <th>team_positionLeft</th>\n",
       "      <th>team_positionRight</th>\n",
       "    </tr>\n",
       "  </thead>\n",
       "  <tbody>\n",
       "    <tr>\n",
       "      <th></th>\n",
       "      <td>2831</td>\n",
       "      <td>3106</td>\n",
       "    </tr>\n",
       "    <tr>\n",
       "      <th>L</th>\n",
       "      <td>1162</td>\n",
       "      <td>474</td>\n",
       "    </tr>\n",
       "    <tr>\n",
       "      <th>R</th>\n",
       "      <td>325</td>\n",
       "      <td>738</td>\n",
       "    </tr>\n",
       "  </tbody>\n",
       "</table>\n",
       "</div>"
      ],
      "text/plain": [
       "   team_positionLeft  team_positionRight\n",
       "                2831                3106\n",
       "L               1162                 474\n",
       "R                325                 738"
      ]
     },
     "execution_count": 616,
     "metadata": {},
     "output_type": "execute_result"
    }
   ],
   "source": [
    "pd.DataFrame(df[df['preferred_foot']=='Left']['team_position'].value_counts()).join(pd.DataFrame(df[df['preferred_foot']=='Right']['team_position'].value_counts()), lsuffix='Left', rsuffix='Right')"
   ]
  },
  {
   "cell_type": "code",
   "execution_count": null,
   "metadata": {},
   "outputs": [],
   "source": []
  },
  {
   "cell_type": "code",
   "execution_count": 4,
   "metadata": {},
   "outputs": [],
   "source": [
    "# 3.\n"
   ]
  },
  {
   "cell_type": "code",
   "execution_count": 5,
   "metadata": {},
   "outputs": [],
   "source": [
    "# 4.\n"
   ]
  },
  {
   "cell_type": "markdown",
   "metadata": {},
   "source": [
    "### EJERCICIO\n",
    "\n",
    "1. Lee el dataset de Pokemon e intenta predecir el \"Type 1\" del pokémon ne base a sus estadísticas numéricas. Evalúa los resultados del modelo.\n",
    "\n",
    "2. Realiza lo mismo pero con división train-test de 25%-75%\n",
    "\n",
    "EXTRA: Intenta sacar la predicción del modelo con los 3 más probables y calcula su accuracy, siendo 1 si está entre los 3 más probables y 0 si no."
   ]
  },
  {
   "cell_type": "code",
   "execution_count": 695,
   "metadata": {},
   "outputs": [
    {
     "name": "stdout",
     "output_type": "stream",
     "text": [
      "0.5333333333333333\n",
      "0.3225806451612903\n"
     ]
    },
    {
     "name": "stderr",
     "output_type": "stream",
     "text": [
      "C:\\Users\\TheBridge\\anaconda3\\lib\\site-packages\\sklearn\\linear_model\\_logistic.py:762: ConvergenceWarning: lbfgs failed to converge (status=1):\n",
      "STOP: TOTAL NO. of ITERATIONS REACHED LIMIT.\n",
      "\n",
      "Increase the number of iterations (max_iter) or scale the data as shown in:\n",
      "    https://scikit-learn.org/stable/modules/preprocessing.html\n",
      "Please also refer to the documentation for alternative solver options:\n",
      "    https://scikit-learn.org/stable/modules/linear_model.html#logistic-regression\n",
      "  n_iter_i = _check_optimize_result(\n"
     ]
    }
   ],
   "source": [
    "# 1.\n",
    "seed = 10\n",
    "df = pd.read_csv(\"../../../data/Pokemon.csv\", encoding='latin1')\n",
    "df\n",
    "\n",
    "cols = ['Total', 'HP', 'Attack', 'Defense', 'Sp. Atk', 'Sp. Def', 'Speed', 'Stage']\n",
    "\n",
    "X = df[cols]\n",
    "y = df['Type 1']\n",
    "\n",
    "X_train, X_test, y_train, y_test = model_selection.train_test_split(X, y, test_size=0.2, random_state=seed)\n",
    "\n",
    "model = linear_model.LogisticRegression(max_iter=2000)\n",
    "\n",
    "# Lo entrenamos:\n",
    "model.fit(X_train, y_train)\n",
    "\n",
    "# Predecimos sobre train:\n",
    "print(model.score(X_train, y_train))\n",
    "\n",
    "# Predecimos sobre test:\n",
    "print(model.score(X_test, y_test))"
   ]
  },
  {
   "cell_type": "code",
   "execution_count": 673,
   "metadata": {},
   "outputs": [
    {
     "data": {
      "image/png": "[encoded data removed]",
      "text/plain": [
       "<Figure size 720x720 with 2 Axes>"
      ]
     },
     "metadata": {
      "needs_background": "light"
     },
     "output_type": "display_data"
    }
   ],
   "source": [
    "# 2.\n",
    "c_matrix = confusion_matrix(y_test, model.predict(X_test))\n",
    "plt.figure(figsize=(10, 10))\n",
    "sns.heatmap(c_matrix, annot=True, fmt='');"
   ]
  },
  {
   "cell_type": "code",
   "execution_count": 698,
   "metadata": {
    "collapsed": true,
    "jupyter": {
     "outputs_hidden": true
    }
   },
   "outputs": [
    {
     "name": "stderr",
     "output_type": "stream",
     "text": [
      "C:\\Users\\TheBridge\\anaconda3\\lib\\site-packages\\sklearn\\linear_model\\_logistic.py:762: ConvergenceWarning: lbfgs failed to converge (status=1):\n",
      "STOP: TOTAL NO. of ITERATIONS REACHED LIMIT.\n",
      "\n",
      "Increase the number of iterations (max_iter) or scale the data as shown in:\n",
      "    https://scikit-learn.org/stable/modules/preprocessing.html\n",
      "Please also refer to the documentation for alternative solver options:\n",
      "    https://scikit-learn.org/stable/modules/linear_model.html#logistic-regression\n",
      "  n_iter_i = _check_optimize_result(\n",
      "C:\\Users\\TheBridge\\anaconda3\\lib\\site-packages\\sklearn\\linear_model\\_logistic.py:762: ConvergenceWarning: lbfgs failed to converge (status=1):\n",
      "STOP: TOTAL NO. of ITERATIONS REACHED LIMIT.\n",
      "\n",
      "Increase the number of iterations (max_iter) or scale the data as shown in:\n",
      "    https://scikit-learn.org/stable/modules/preprocessing.html\n",
      "Please also refer to the documentation for alternative solver options:\n",
      "    https://scikit-learn.org/stable/modules/linear_model.html#logistic-regression\n",
      "  n_iter_i = _check_optimize_result(\n",
      "C:\\Users\\TheBridge\\anaconda3\\lib\\site-packages\\sklearn\\linear_model\\_logistic.py:762: ConvergenceWarning: lbfgs failed to converge (status=1):\n",
      "STOP: TOTAL NO. of ITERATIONS REACHED LIMIT.\n",
      "\n",
      "Increase the number of iterations (max_iter) or scale the data as shown in:\n",
      "    https://scikit-learn.org/stable/modules/preprocessing.html\n",
      "Please also refer to the documentation for alternative solver options:\n",
      "    https://scikit-learn.org/stable/modules/linear_model.html#logistic-regression\n",
      "  n_iter_i = _check_optimize_result(\n",
      "C:\\Users\\TheBridge\\anaconda3\\lib\\site-packages\\sklearn\\linear_model\\_logistic.py:762: ConvergenceWarning: lbfgs failed to converge (status=1):\n",
      "STOP: TOTAL NO. of ITERATIONS REACHED LIMIT.\n",
      "\n",
      "Increase the number of iterations (max_iter) or scale the data as shown in:\n",
      "    https://scikit-learn.org/stable/modules/preprocessing.html\n",
      "Please also refer to the documentation for alternative solver options:\n",
      "    https://scikit-learn.org/stable/modules/linear_model.html#logistic-regression\n",
      "  n_iter_i = _check_optimize_result(\n",
      "C:\\Users\\TheBridge\\anaconda3\\lib\\site-packages\\sklearn\\linear_model\\_logistic.py:762: ConvergenceWarning: lbfgs failed to converge (status=1):\n",
      "STOP: TOTAL NO. of ITERATIONS REACHED LIMIT.\n",
      "\n",
      "Increase the number of iterations (max_iter) or scale the data as shown in:\n",
      "    https://scikit-learn.org/stable/modules/preprocessing.html\n",
      "Please also refer to the documentation for alternative solver options:\n",
      "    https://scikit-learn.org/stable/modules/linear_model.html#logistic-regression\n",
      "  n_iter_i = _check_optimize_result(\n",
      "C:\\Users\\TheBridge\\anaconda3\\lib\\site-packages\\sklearn\\linear_model\\_logistic.py:762: ConvergenceWarning: lbfgs failed to converge (status=1):\n",
      "STOP: TOTAL NO. of ITERATIONS REACHED LIMIT.\n",
      "\n",
      "Increase the number of iterations (max_iter) or scale the data as shown in:\n",
      "    https://scikit-learn.org/stable/modules/preprocessing.html\n",
      "Please also refer to the documentation for alternative solver options:\n",
      "    https://scikit-learn.org/stable/modules/linear_model.html#logistic-regression\n",
      "  n_iter_i = _check_optimize_result(\n",
      "C:\\Users\\TheBridge\\anaconda3\\lib\\site-packages\\sklearn\\linear_model\\_logistic.py:762: ConvergenceWarning: lbfgs failed to converge (status=1):\n",
      "STOP: TOTAL NO. of ITERATIONS REACHED LIMIT.\n",
      "\n",
      "Increase the number of iterations (max_iter) or scale the data as shown in:\n",
      "    https://scikit-learn.org/stable/modules/preprocessing.html\n",
      "Please also refer to the documentation for alternative solver options:\n",
      "    https://scikit-learn.org/stable/modules/linear_model.html#logistic-regression\n",
      "  n_iter_i = _check_optimize_result(\n",
      "C:\\Users\\TheBridge\\anaconda3\\lib\\site-packages\\sklearn\\linear_model\\_logistic.py:762: ConvergenceWarning: lbfgs failed to converge (status=1):\n",
      "STOP: TOTAL NO. of ITERATIONS REACHED LIMIT.\n",
      "\n",
      "Increase the number of iterations (max_iter) or scale the data as shown in:\n",
      "    https://scikit-learn.org/stable/modules/preprocessing.html\n",
      "Please also refer to the documentation for alternative solver options:\n",
      "    https://scikit-learn.org/stable/modules/linear_model.html#logistic-regression\n",
      "  n_iter_i = _check_optimize_result(\n",
      "C:\\Users\\TheBridge\\anaconda3\\lib\\site-packages\\sklearn\\linear_model\\_logistic.py:762: ConvergenceWarning: lbfgs failed to converge (status=1):\n",
      "STOP: TOTAL NO. of ITERATIONS REACHED LIMIT.\n",
      "\n",
      "Increase the number of iterations (max_iter) or scale the data as shown in:\n",
      "    https://scikit-learn.org/stable/modules/preprocessing.html\n",
      "Please also refer to the documentation for alternative solver options:\n",
      "    https://scikit-learn.org/stable/modules/linear_model.html#logistic-regression\n",
      "  n_iter_i = _check_optimize_result(\n",
      "C:\\Users\\TheBridge\\anaconda3\\lib\\site-packages\\sklearn\\linear_model\\_logistic.py:762: ConvergenceWarning: lbfgs failed to converge (status=1):\n",
      "STOP: TOTAL NO. of ITERATIONS REACHED LIMIT.\n",
      "\n",
      "Increase the number of iterations (max_iter) or scale the data as shown in:\n",
      "    https://scikit-learn.org/stable/modules/preprocessing.html\n",
      "Please also refer to the documentation for alternative solver options:\n",
      "    https://scikit-learn.org/stable/modules/linear_model.html#logistic-regression\n",
      "  n_iter_i = _check_optimize_result(\n"
     ]
    }
   ],
   "source": [
    "name='Logistic Regression'\n",
    "k = 10\n",
    "\n",
    "model = linear_model.LogisticRegression(max_iter=2000);\n",
    "\n",
    "kfold = model_selection.KFold(n_splits=k) #Parte los datos en 10 trozos para usar validación cruzada / cross validation\n",
    "cv_results = model_selection.cross_val_score(model, X_train, y_train, cv=kfold, scoring='accuracy')"
   ]
  },
  {
   "cell_type": "code",
   "execution_count": 700,
   "metadata": {},
   "outputs": [
    {
     "name": "stdout",
     "output_type": "stream",
     "text": [
      "[0.25       0.33333333 0.33333333 0.33333333 0.08333333 0.33333333\n",
      " 0.25       0.33333333 0.33333333 0.25      ]\n",
      "Logistic Regression: 0.283333 (0.076376)\n"
     ]
    }
   ],
   "source": [
    "msg = \"%s: %f (%f)\" % (name, cv_results.mean(), cv_results.std())\n",
    "print(cv_results)\n",
    "print(msg)"
   ]
  },
  {
   "cell_type": "code",
   "execution_count": null,
   "metadata": {},
   "outputs": [],
   "source": []
  },
  {
   "cell_type": "markdown",
   "metadata": {},
   "source": [
    "# Clasificación de nuevos registros\n",
    "\n",
    "Evidentemente, una vez tenemos el modelo, podemos predecir para nuevos registros:"
   ]
  },
  {
   "cell_type": "code",
   "execution_count": 43,
   "metadata": {
    "collapsed": false,
    "jupyter": {
     "outputs_hidden": false
    }
   },
   "outputs": [
    {
     "data": {
      "text/plain": [
       "array([2], dtype=int64)"
      ]
     },
     "execution_count": 43,
     "metadata": {},
     "output_type": "execute_result"
    }
   ],
   "source": [
    "X_new = pd.DataFrame({'duracion': [10], 'paginas': [3], 'acciones': [5], 'valor': [9]})\n",
    "model.predict(X_new)"
   ]
  },
  {
   "cell_type": "markdown",
   "metadata": {},
   "source": [
    "# Adicional: Validación del Modelo\n",
    "\n",
    "Vovlamos al caso principal del notebook, donde evaluábamos si un usuario tenía un SO Windows, Mac o Linux, en base a sus sesiones.\n",
    "\n",
    "Si evaluamos el modelo para una separación concreta de datos, obtendremos lo siguiente:"
   ]
  },
  {
   "cell_type": "code",
   "execution_count": 718,
   "metadata": {},
   "outputs": [
    {
     "data": {
      "text/plain": [
       "0.803921568627451"
      ]
     },
     "execution_count": 718,
     "metadata": {},
     "output_type": "execute_result"
    }
   ],
   "source": [
    "dataframe = pd.read_csv(\"data/usuarios_win_mac_lin.csv\")\n",
    "\n",
    "X = dataframe.drop(['clase'], axis=1)\n",
    "y = dataframe['clase']\n",
    "\n",
    "seed = 79\n",
    "X_train, X_test, y_train, y_test = model_selection.train_test_split(X, y, test_size=0.3, random_state=seed)\n",
    "\n",
    "model = linear_model.LogisticRegression(max_iter=1000)\n",
    "\n",
    "# Lo entrenamos:\n",
    "model.fit(X_train, y_train)\n",
    "\n",
    "# Predecimos sobre test:\n",
    "model.score(X_test, y_test)"
   ]
  },
  {
   "cell_type": "markdown",
   "metadata": {},
   "source": [
    "Del mismo modo, si repetimos el experimento para otra división de train-test (por ejemplo, cogiendo otra semilla), los resultados pueden variar:"
   ]
  },
  {
   "cell_type": "code",
   "execution_count": 719,
   "metadata": {},
   "outputs": [
    {
     "data": {
      "text/plain": [
       "0.5882352941176471"
      ]
     },
     "execution_count": 719,
     "metadata": {},
     "output_type": "execute_result"
    }
   ],
   "source": [
    "seed = 382\n",
    "X_train, X_test, y_train, y_test = model_selection.train_test_split(X, y, test_size=0.3, random_state=seed)\n",
    "\n",
    "model = linear_model.LogisticRegression(max_iter=1000)\n",
    "\n",
    "# Lo entrenamos:\n",
    "model.fit(X_train, y_train)\n",
    "\n",
    "# Predecimos sobre test:\n",
    "model.score(X_test, y_test)"
   ]
  },
  {
   "cell_type": "markdown",
   "metadata": {},
   "source": [
    "En este caso, hemos buscado situaciones extremas, pero esto puede ocurrir en mayor o menor medida con nuestros datos, sobre todo si tenemos pocas muestras. Por lo tanto, podemos decir que nuestro resultado de test depende mucho de cómo hayamos elegido los datos, es decir, tiene overfitting pues depende mucho de qué datos hayamos elegido para train. Si no están lo suficientemente aleatorizados, se podrían extraer patrnes que no se cumplan de forma general y obtener resultados de test muy variantes.\n",
    "\n",
    "Para minimizar esto, surge la validación cruzada que, como hemos visto en clase, consiste en coger nuestro train y dividirlo a su vez en múltiples train y test, de modo que se evalúen varias posibilidades y podamos obtenr un rango variante de valores. Con la validación cruzada, podemos obtener varios valores de nuestros test y así poder promediar tanto el porcentaje de acierto como la desviación de este y así obtener una idea de si nuestro algoritmo es bueno o es muy dependiente de los datos de entrada.\n",
    "\n",
    "En el futuro, veremos que es una técnica ideal para comparar diferentes algoritmos.\n",
    "\n",
    "Por ejemplo, escojamos un K de 10 (valor típico) para hacer esa validación cruzada:"
   ]
  },
  {
   "cell_type": "code",
   "execution_count": 720,
   "metadata": {},
   "outputs": [
    {
     "name": "stdout",
     "output_type": "stream",
     "text": [
      "[0.58333333 0.66666667 0.75       0.75       0.66666667 0.75\n",
      " 0.91666667 1.         0.91666667 0.72727273]\n",
      "Logistic Regression: 0.772727 (0.124528)\n"
     ]
    }
   ],
   "source": [
    "name='Logistic Regression'\n",
    "k = 10\n",
    "\n",
    "model = linear_model.LogisticRegression(max_iter=1000)\n",
    "\n",
    "kfold = model_selection.KFold(n_splits=k) #Parte los datos en 10 trozos para usar validación cruzada / cross validation\n",
    "cv_results = model_selection.cross_val_score(model, X_train, y_train, cv=kfold, scoring='accuracy')\n",
    "\n",
    "msg = \"%s: %f (%f)\" % (name, cv_results.mean(), cv_results.std())\n",
    "print(cv_results)\n",
    "print(msg)"
   ]
  },
  {
   "cell_type": "markdown",
   "metadata": {},
   "source": [
    "De hecho, si represetnamos unas cuantas combinaciones de nuestros datos para predecir, obtenemos lo que no viene a dar el CV:"
   ]
  },
  {
   "cell_type": "code",
   "execution_count": 141,
   "metadata": {},
   "outputs": [],
   "source": [
    "score_list = []\n",
    "\n",
    "for i in range(1, 4000):\n",
    "    X_train, X_test, y_train, y_test = model_selection.train_test_split(X, y, test_size=0.3, random_state=seed)\n",
    "    model.fit(X_train, y_train)\n",
    "    score_list += [model.score(X_test, y_test)]"
   ]
  },
  {
   "cell_type": "code",
   "execution_count": 721,
   "metadata": {},
   "outputs": [
    {
     "data": {
      "text/plain": [
       "<matplotlib.axes._subplots.AxesSubplot at 0x1d5748274c0>"
      ]
     },
     "execution_count": 721,
     "metadata": {},
     "output_type": "execute_result"
    },
    {
     "data": {
      "image/png": "[encoded data removed]",
      "text/plain": [
       "<Figure size 432x288 with 1 Axes>"
      ]
     },
     "metadata": {
      "needs_background": "light"
     },
     "output_type": "display_data"
    }
   ],
   "source": [
    "pd.Series(score_list).hist()"
   ]
  },
  {
   "cell_type": "markdown",
   "metadata": {},
   "source": [
    "¿Y para qué nos servirá esto?\n",
    "\n",
    "Pues principalmente para saber dónde estamos realmente y no dejarnos engañar por las ilusiones que puede dar cierta selección de datos. Así como separar train-test nos permite evitar en cierta parte el overfitting debido a que estábamos exponiéndonos demasiado a nuestros datos y no estábamos evaluando cómo generalizaríamos, hacer la validación cruzada nos reduce aún más este efecto, pues buscamos ver cómo se comporta simulando varios escenarios.\n",
    "\n",
    "Existe una versión del cross validation que es la más \"bestia\" de todas, ya que no hace una separación de 10 o 5 folds, sino que lo hace de 1 vs el resto, de modo que entrenamos en modelo un total de n veces para una muestra de n elementos. Se llama [Leave One Out](https://scikit-learn.org/stable/modules/generated/sklearn.model_selection.LeaveOneOut.html)"
   ]
  },
  {
   "cell_type": "code",
   "execution_count": 144,
   "metadata": {},
   "outputs": [
    {
     "data": {
      "text/plain": [
       "119"
      ]
     },
     "execution_count": 144,
     "metadata": {},
     "output_type": "execute_result"
    }
   ],
   "source": [
    " import numpy as np\n",
    "from sklearn.model_selection import LeaveOneOut\n",
    "\n",
    "loo = LeaveOneOut()\n",
    "loo.get_n_splits(X_train)"
   ]
  },
  {
   "cell_type": "code",
   "execution_count": 146,
   "metadata": {},
   "outputs": [],
   "source": [
    "cv_results = model_selection.cross_val_score(model, X_train, y_train, cv=loo, scoring='accuracy')"
   ]
  },
  {
   "cell_type": "code",
   "execution_count": 147,
   "metadata": {},
   "outputs": [
    {
     "name": "stdout",
     "output_type": "stream",
     "text": [
      "[1. 1. 0. 1. 1. 0. 1. 1. 1. 1. 1. 1. 1. 1. 0. 0. 1. 1. 1. 1. 1. 1. 1. 1.\n",
      " 1. 1. 1. 1. 0. 1. 1. 1. 1. 1. 1. 1. 0. 1. 1. 1. 1. 1. 1. 1. 1. 1. 1. 1.\n",
      " 1. 1. 0. 0. 1. 0. 1. 1. 0. 0. 0. 1. 0. 1. 1. 1. 1. 0. 0. 1. 1. 1. 0. 1.\n",
      " 0. 0. 0. 1. 1. 0. 1. 0. 1. 1. 1. 1. 0. 0. 1. 0. 1. 1. 1. 1. 1. 1. 1. 1.\n",
      " 1. 1. 1. 1. 1. 1. 1. 1. 1. 1. 0. 1. 1. 1. 1. 1. 1. 1. 1. 0. 1. 0. 1.]\n",
      "Logistic Regression: 0.773109 (0.418821)\n"
     ]
    }
   ],
   "source": [
    "msg = \"%s: %f (%f)\" % (name, cv_results.mean(), cv_results.std())\n",
    "print(cv_results)\n",
    "print(msg)"
   ]
  },
  {
   "cell_type": "markdown",
   "metadata": {},
   "source": [
    "### EJERCICIO\n",
    "\n",
    "1. Prueba a evaluar los modelos vistos en este notebook con cross validation. Realiza modificaciones sobre nuestro modelo para intentar obtener un algoritmo que nos permita obtener mejores resultados en base a ello (prueba a quitar variables para que no nos afecte tanto la selección del set de entrenamiento/test). Si no ves que mejore quitando ninguna variable, mantendremos los datos que tenemos:"
   ]
  },
  {
   "cell_type": "code",
   "execution_count": null,
   "metadata": {},
   "outputs": [],
   "source": []
  },
  {
   "cell_type": "code",
   "execution_count": null,
   "metadata": {},
   "outputs": [],
   "source": []
  },
  {
   "cell_type": "code",
   "execution_count": 201,
   "metadata": {},
   "outputs": [
    {
     "ename": "TypeError",
     "evalue": "type numpy.ndarray doesn't define __round__ method",
     "output_type": "error",
     "traceback": [
      "\u001b[1;31m---------------------------------------------------------------------------\u001b[0m",
      "\u001b[1;31mTypeError\u001b[0m                                 Traceback (most recent call last)",
      "\u001b[1;32m<ipython-input-201-57872bc83cfe>\u001b[0m in \u001b[0;36m<module>\u001b[1;34m\u001b[0m\n\u001b[1;32m----> 1\u001b[1;33m \u001b[0mf\u001b[0m\u001b[1;33m(\u001b[0m\u001b[1;36m0.02\u001b[0m\u001b[1;33m)\u001b[0m\u001b[1;33m\u001b[0m\u001b[1;33m\u001b[0m\u001b[0m\n\u001b[0m",
      "\u001b[1;32m<ipython-input-199-e7117fa6d06b>\u001b[0m in \u001b[0;36mf\u001b[1;34m(x)\u001b[0m\n\u001b[0;32m      5\u001b[0m         \u001b[1;32mreturn\u001b[0m \u001b[0mround\u001b[0m\u001b[1;33m(\u001b[0m\u001b[0mnp\u001b[0m\u001b[1;33m.\u001b[0m\u001b[0mrandom\u001b[0m\u001b[1;33m.\u001b[0m\u001b[0mrand\u001b[0m\u001b[1;33m(\u001b[0m\u001b[1;36m1\u001b[0m\u001b[1;33m)\u001b[0m\u001b[1;33m*\u001b[0m\u001b[1;36m0.75\u001b[0m\u001b[1;33m)\u001b[0m\u001b[1;33m\u001b[0m\u001b[1;33m\u001b[0m\u001b[0m\n\u001b[0;32m      6\u001b[0m     \u001b[1;32melse\u001b[0m\u001b[1;33m:\u001b[0m\u001b[1;33m\u001b[0m\u001b[1;33m\u001b[0m\u001b[0m\n\u001b[1;32m----> 7\u001b[1;33m         \u001b[1;32mreturn\u001b[0m \u001b[0mround\u001b[0m\u001b[1;33m(\u001b[0m\u001b[1;36m1\u001b[0m\u001b[1;33m-\u001b[0m\u001b[0mnp\u001b[0m\u001b[1;33m.\u001b[0m\u001b[0mrandom\u001b[0m\u001b[1;33m.\u001b[0m\u001b[0mrand\u001b[0m\u001b[1;33m(\u001b[0m\u001b[1;36m1\u001b[0m\u001b[1;33m)\u001b[0m\u001b[1;33m*\u001b[0m\u001b[1;36m0.75\u001b[0m\u001b[1;33m)\u001b[0m\u001b[1;33m\u001b[0m\u001b[1;33m\u001b[0m\u001b[0m\n\u001b[0m\u001b[0;32m      8\u001b[0m \u001b[1;33m\u001b[0m\u001b[0m\n\u001b[0;32m      9\u001b[0m \u001b[0mf_vect\u001b[0m \u001b[1;33m=\u001b[0m \u001b[0mnp\u001b[0m\u001b[1;33m.\u001b[0m\u001b[0mvectorize\u001b[0m\u001b[1;33m(\u001b[0m\u001b[0mf\u001b[0m\u001b[1;33m)\u001b[0m\u001b[1;33m\u001b[0m\u001b[1;33m\u001b[0m\u001b[0m\n",
      "\u001b[1;31mTypeError\u001b[0m: type numpy.ndarray doesn't define __round__ method"
     ]
    }
   ],
   "source": [
    "f(0.02)"
   ]
  },
  {
   "cell_type": "code",
   "execution_count": 153,
   "metadata": {},
   "outputs": [
    {
     "data": {
      "text/plain": [
       "array([[-0.00333827, -0.48139104, -0.61665228,  0.42919681],\n",
       "       [-0.00194951,  0.15050475, -1.04565541,  0.48340466],\n",
       "       [ 0.00528778,  0.33088629,  1.66230768, -0.91260147]])"
      ]
     },
     "execution_count": 153,
     "metadata": {},
     "output_type": "execute_result"
    }
   ],
   "source": [
    "model.coef_"
   ]
  },
  {
   "cell_type": "code",
   "execution_count": 226,
   "metadata": {},
   "outputs": [],
   "source": [
    "x = np.arange(0, 2000)\n",
    "ruido = 0.75\n",
    "\n",
    "def f(x):\n",
    "    if x<1000:\n",
    "        return np.round(np.random.rand(1)*ruido)\n",
    "    else:\n",
    "        return np.round(1-np.random.rand(1)*ruido)\n",
    "    \n",
    "f_vect = np.vectorize(f)\n",
    "\n",
    "X = pd.DataFrame(x)\n",
    "y = pd.Series(f_vect(x))"
   ]
  },
  {
   "cell_type": "code",
   "execution_count": 227,
   "metadata": {},
   "outputs": [
    {
     "data": {
      "text/plain": [
       "LogisticRegression()"
      ]
     },
     "execution_count": 227,
     "metadata": {},
     "output_type": "execute_result"
    }
   ],
   "source": [
    "mm = linear_model.LogisticRegression()\n",
    "mm.fit(X, y)"
   ]
  },
  {
   "cell_type": "code",
   "execution_count": 228,
   "metadata": {},
   "outputs": [
    {
     "data": {
      "text/plain": [
       "0.6605"
      ]
     },
     "execution_count": 228,
     "metadata": {},
     "output_type": "execute_result"
    }
   ],
   "source": [
    "mm.score(X, y)"
   ]
  },
  {
   "cell_type": "code",
   "execution_count": 229,
   "metadata": {},
   "outputs": [
    {
     "data": {
      "text/plain": [
       "array([0., 0., 0., ..., 1., 1., 1.])"
      ]
     },
     "execution_count": 229,
     "metadata": {},
     "output_type": "execute_result"
    }
   ],
   "source": [
    "mm.predict(X)"
   ]
  },
  {
   "cell_type": "code",
   "execution_count": 230,
   "metadata": {},
   "outputs": [
    {
     "data": {
      "text/plain": [
       "array([[0.75244154, 0.24755846],\n",
       "       [0.75224327, 0.24775673],\n",
       "       [0.75204489, 0.24795511],\n",
       "       ...,\n",
       "       [0.26631832, 0.73368168],\n",
       "       [0.26611044, 0.73388956],\n",
       "       [0.26590268, 0.73409732]])"
      ]
     },
     "execution_count": 230,
     "metadata": {},
     "output_type": "execute_result"
    }
   ],
   "source": [
    "mm.predict_proba(X)"
   ]
  },
  {
   "cell_type": "markdown",
   "metadata": {},
   "source": [
    "## Curva ROC"
   ]
  },
  {
   "cell_type": "code",
   "execution_count": 150,
   "metadata": {},
   "outputs": [
    {
     "data": {
      "text/html": [
       "<div>\n",
       "<style scoped>\n",
       "    .dataframe tbody tr th:only-of-type {\n",
       "        vertical-align: middle;\n",
       "    }\n",
       "\n",
       "    .dataframe tbody tr th {\n",
       "        vertical-align: top;\n",
       "    }\n",
       "\n",
       "    .dataframe thead th {\n",
       "        text-align: right;\n",
       "    }\n",
       "</style>\n",
       "<table border=\"1\" class=\"dataframe\">\n",
       "  <thead>\n",
       "    <tr style=\"text-align: right;\">\n",
       "      <th></th>\n",
       "      <th>duracion</th>\n",
       "      <th>paginas</th>\n",
       "      <th>acciones</th>\n",
       "      <th>valor</th>\n",
       "    </tr>\n",
       "  </thead>\n",
       "  <tbody>\n",
       "    <tr>\n",
       "      <th>37</th>\n",
       "      <td>739.000</td>\n",
       "      <td>5</td>\n",
       "      <td>15</td>\n",
       "      <td>15</td>\n",
       "    </tr>\n",
       "    <tr>\n",
       "      <th>35</th>\n",
       "      <td>2.000</td>\n",
       "      <td>2</td>\n",
       "      <td>2</td>\n",
       "      <td>2</td>\n",
       "    </tr>\n",
       "    <tr>\n",
       "      <th>24</th>\n",
       "      <td>208.000</td>\n",
       "      <td>2</td>\n",
       "      <td>10</td>\n",
       "      <td>30</td>\n",
       "    </tr>\n",
       "    <tr>\n",
       "      <th>71</th>\n",
       "      <td>319.000</td>\n",
       "      <td>1</td>\n",
       "      <td>7</td>\n",
       "      <td>28</td>\n",
       "    </tr>\n",
       "    <tr>\n",
       "      <th>169</th>\n",
       "      <td>12.000</td>\n",
       "      <td>1</td>\n",
       "      <td>6</td>\n",
       "      <td>18</td>\n",
       "    </tr>\n",
       "    <tr>\n",
       "      <th>...</th>\n",
       "      <td>...</td>\n",
       "      <td>...</td>\n",
       "      <td>...</td>\n",
       "      <td>...</td>\n",
       "    </tr>\n",
       "    <tr>\n",
       "      <th>132</th>\n",
       "      <td>12.000</td>\n",
       "      <td>1</td>\n",
       "      <td>4</td>\n",
       "      <td>16</td>\n",
       "    </tr>\n",
       "    <tr>\n",
       "      <th>48</th>\n",
       "      <td>1.294</td>\n",
       "      <td>2</td>\n",
       "      <td>6</td>\n",
       "      <td>18</td>\n",
       "    </tr>\n",
       "    <tr>\n",
       "      <th>38</th>\n",
       "      <td>898.000</td>\n",
       "      <td>2</td>\n",
       "      <td>2</td>\n",
       "      <td>2</td>\n",
       "    </tr>\n",
       "    <tr>\n",
       "      <th>86</th>\n",
       "      <td>15.000</td>\n",
       "      <td>2</td>\n",
       "      <td>2</td>\n",
       "      <td>4</td>\n",
       "    </tr>\n",
       "    <tr>\n",
       "      <th>152</th>\n",
       "      <td>13.000</td>\n",
       "      <td>1</td>\n",
       "      <td>9</td>\n",
       "      <td>27</td>\n",
       "    </tr>\n",
       "  </tbody>\n",
       "</table>\n",
       "<p>119 rows × 4 columns</p>\n",
       "</div>"
      ],
      "text/plain": [
       "     duracion  paginas  acciones  valor\n",
       "37    739.000        5        15     15\n",
       "35      2.000        2         2      2\n",
       "24    208.000        2        10     30\n",
       "71    319.000        1         7     28\n",
       "169    12.000        1         6     18\n",
       "..        ...      ...       ...    ...\n",
       "132    12.000        1         4     16\n",
       "48      1.294        2         6     18\n",
       "38    898.000        2         2      2\n",
       "86     15.000        2         2      4\n",
       "152    13.000        1         9     27\n",
       "\n",
       "[119 rows x 4 columns]"
      ]
     },
     "execution_count": 150,
     "metadata": {},
     "output_type": "execute_result"
    }
   ],
   "source": [
    "# ROC = TPR/FPR"
   ]
  }
 ],
 "metadata": {
  "kernelspec": {
   "display_name": "Python 3",
   "language": "python",
   "name": "python3"
  },
  "language_info": {
   "codemirror_mode": {
    "name": "ipython",
    "version": 3
   },
   "file_extension": ".py",
   "mimetype": "text/x-python",
   "name": "python",
   "nbconvert_exporter": "python",
   "pygments_lexer": "ipython3",
   "version": "3.8.3"
  }
 },
 "nbformat": 4,
 "nbformat_minor": 4
}
