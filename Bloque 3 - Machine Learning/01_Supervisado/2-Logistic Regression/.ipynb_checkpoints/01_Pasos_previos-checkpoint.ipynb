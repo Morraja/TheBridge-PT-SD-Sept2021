{
 "cells": [
  {
   "cell_type": "markdown",
   "metadata": {},
   "source": [
    "# Pasos previos para la Regresión logística\n",
    "\n",
    "En este notebook descubriremos en qué se basa la regresión logística y haremos una primera toma de contacto con los conceptos más básicos que la rodean, que nos permitirán llegar a ella desde la regresión lineal."
   ]
  },
  {
   "cell_type": "markdown",
   "metadata": {},
   "source": [
    "### Tablas de frecuencias\n",
    "\n",
    "En primer lugar, tenemos que hablar de las tablas de frecuencias, que nos permiten agrupar los valores de una columna en función de cierta variable.\n",
    "\n",
    "En notebooks anteriores, hemos realizado unas cuantas veces un ``value_counts()`` de cualquier series, lo que nos devolvía un conteo de las veces que se daba cierto valor en una columna. Pues con las tablas de contingencia podremos obtener esto en función de otra variable, es decir, es como si hiciéramos un 'value_counts' haciendo un 'groupby'.\n",
    "\n",
    "Veamos un ejemplo con un dataset de compras en función del género del cliente:"
   ]
  },
  {
   "cell_type": "code",
   "execution_count": 7,
   "metadata": {},
   "outputs": [],
   "source": [
    "import pandas as pd"
   ]
  },
  {
   "cell_type": "code",
   "execution_count": 8,
   "metadata": {},
   "outputs": [
    {
     "data": {
      "text/html": [
       "<div>\n",
       "<style scoped>\n",
       "    .dataframe tbody tr th:only-of-type {\n",
       "        vertical-align: middle;\n",
       "    }\n",
       "\n",
       "    .dataframe tbody tr th {\n",
       "        vertical-align: top;\n",
       "    }\n",
       "\n",
       "    .dataframe thead th {\n",
       "        text-align: right;\n",
       "    }\n",
       "</style>\n",
       "<table border=\"1\" class=\"dataframe\">\n",
       "  <thead>\n",
       "    <tr style=\"text-align: right;\">\n",
       "      <th></th>\n",
       "      <th>Gender</th>\n",
       "      <th>Purchase</th>\n",
       "    </tr>\n",
       "  </thead>\n",
       "  <tbody>\n",
       "    <tr>\n",
       "      <th>0</th>\n",
       "      <td>Female</td>\n",
       "      <td>Yes</td>\n",
       "    </tr>\n",
       "    <tr>\n",
       "      <th>1</th>\n",
       "      <td>Female</td>\n",
       "      <td>Yes</td>\n",
       "    </tr>\n",
       "    <tr>\n",
       "      <th>2</th>\n",
       "      <td>Female</td>\n",
       "      <td>No</td>\n",
       "    </tr>\n",
       "    <tr>\n",
       "      <th>3</th>\n",
       "      <td>Male</td>\n",
       "      <td>No</td>\n",
       "    </tr>\n",
       "    <tr>\n",
       "      <th>4</th>\n",
       "      <td>Male</td>\n",
       "      <td>Yes</td>\n",
       "    </tr>\n",
       "  </tbody>\n",
       "</table>\n",
       "</div>"
      ],
      "text/plain": [
       "   Gender Purchase\n",
       "0  Female      Yes\n",
       "1  Female      Yes\n",
       "2  Female       No\n",
       "3    Male       No\n",
       "4    Male      Yes"
      ]
     },
     "execution_count": 8,
     "metadata": {},
     "output_type": "execute_result"
    }
   ],
   "source": [
    "df = pd.read_csv(\"data/Gender Purchase.csv\")\n",
    "df.head()"
   ]
  },
  {
   "cell_type": "markdown",
   "metadata": {},
   "source": [
    "Como puedes ver, tenemos 2 variables: Género y si ha comprado o no. Con ``value_counts`` podríamos ver las veces que un cliente ha comprado o no, pero no podríamos tener en cuenta su género directamente. Con el método ``pd.crosstab()`` podemos hacerlo directamente:"
   ]
  },
  {
   "cell_type": "code",
   "execution_count": 6,
   "metadata": {},
   "outputs": [
    {
     "data": {
      "text/plain": [
       "(511, 2)"
      ]
     },
     "execution_count": 6,
     "metadata": {},
     "output_type": "execute_result"
    }
   ],
   "source": [
    "df.shape"
   ]
  },
  {
   "cell_type": "code",
   "execution_count": 85,
   "metadata": {},
   "outputs": [
    {
     "data": {
      "text/html": [
       "<div>\n",
       "<style scoped>\n",
       "    .dataframe tbody tr th:only-of-type {\n",
       "        vertical-align: middle;\n",
       "    }\n",
       "\n",
       "    .dataframe tbody tr th {\n",
       "        vertical-align: top;\n",
       "    }\n",
       "\n",
       "    .dataframe thead th {\n",
       "        text-align: right;\n",
       "    }\n",
       "</style>\n",
       "<table border=\"1\" class=\"dataframe\">\n",
       "  <thead>\n",
       "    <tr style=\"text-align: right;\">\n",
       "      <th>Purchase</th>\n",
       "      <th>No</th>\n",
       "      <th>Yes</th>\n",
       "    </tr>\n",
       "    <tr>\n",
       "      <th>Gender</th>\n",
       "      <th></th>\n",
       "      <th></th>\n",
       "    </tr>\n",
       "  </thead>\n",
       "  <tbody>\n",
       "    <tr>\n",
       "      <th>Female</th>\n",
       "      <td>106</td>\n",
       "      <td>159</td>\n",
       "    </tr>\n",
       "    <tr>\n",
       "      <th>Male</th>\n",
       "      <td>125</td>\n",
       "      <td>121</td>\n",
       "    </tr>\n",
       "  </tbody>\n",
       "</table>\n",
       "</div>"
      ],
      "text/plain": [
       "Purchase   No  Yes\n",
       "Gender            \n",
       "Female    106  159\n",
       "Male      125  121"
      ]
     },
     "execution_count": 85,
     "metadata": {},
     "output_type": "execute_result"
    }
   ],
   "source": [
    "tabla_contingencia = pd.crosstab(df[\"Gender\"], df[\"Purchase\"])\n",
    "tabla_contingencia"
   ]
  },
  {
   "cell_type": "markdown",
   "metadata": {},
   "source": [
    "Muy bien, ya tenemos cuántos clientes mujer han comprado y cuántos no, así como de hombres. Si queremos completar la información de la tabla con los totales, podemos utilizar el argumento ``margins``:"
   ]
  },
  {
   "cell_type": "code",
   "execution_count": 82,
   "metadata": {},
   "outputs": [
    {
     "data": {
      "text/html": [
       "<div>\n",
       "<style scoped>\n",
       "    .dataframe tbody tr th:only-of-type {\n",
       "        vertical-align: middle;\n",
       "    }\n",
       "\n",
       "    .dataframe tbody tr th {\n",
       "        vertical-align: top;\n",
       "    }\n",
       "\n",
       "    .dataframe thead th {\n",
       "        text-align: right;\n",
       "    }\n",
       "</style>\n",
       "<table border=\"1\" class=\"dataframe\">\n",
       "  <thead>\n",
       "    <tr style=\"text-align: right;\">\n",
       "      <th>Purchase</th>\n",
       "      <th>No</th>\n",
       "      <th>Yes</th>\n",
       "      <th>All</th>\n",
       "    </tr>\n",
       "    <tr>\n",
       "      <th>Gender</th>\n",
       "      <th></th>\n",
       "      <th></th>\n",
       "      <th></th>\n",
       "    </tr>\n",
       "  </thead>\n",
       "  <tbody>\n",
       "    <tr>\n",
       "      <th>Female</th>\n",
       "      <td>106</td>\n",
       "      <td>159</td>\n",
       "      <td>265</td>\n",
       "    </tr>\n",
       "    <tr>\n",
       "      <th>Male</th>\n",
       "      <td>125</td>\n",
       "      <td>121</td>\n",
       "      <td>246</td>\n",
       "    </tr>\n",
       "    <tr>\n",
       "      <th>All</th>\n",
       "      <td>231</td>\n",
       "      <td>280</td>\n",
       "      <td>511</td>\n",
       "    </tr>\n",
       "  </tbody>\n",
       "</table>\n",
       "</div>"
      ],
      "text/plain": [
       "Purchase   No  Yes  All\n",
       "Gender                 \n",
       "Female    106  159  265\n",
       "Male      125  121  246\n",
       "All       231  280  511"
      ]
     },
     "execution_count": 82,
     "metadata": {},
     "output_type": "execute_result"
    }
   ],
   "source": [
    "pd.crosstab(df[\"Gender\"], df[\"Purchase\"], margins=True)"
   ]
  },
  {
   "cell_type": "markdown",
   "metadata": {},
   "source": [
    "Pero lo que ahora nos interesa es obtener las probabilidades condicionadas al género, lo cuál podemos hacer del siguiente modo:"
   ]
  },
  {
   "cell_type": "code",
   "execution_count": 86,
   "metadata": {},
   "outputs": [
    {
     "data": {
      "text/html": [
       "<div>\n",
       "<style scoped>\n",
       "    .dataframe tbody tr th:only-of-type {\n",
       "        vertical-align: middle;\n",
       "    }\n",
       "\n",
       "    .dataframe tbody tr th {\n",
       "        vertical-align: top;\n",
       "    }\n",
       "\n",
       "    .dataframe thead th {\n",
       "        text-align: right;\n",
       "    }\n",
       "</style>\n",
       "<table border=\"1\" class=\"dataframe\">\n",
       "  <thead>\n",
       "    <tr style=\"text-align: right;\">\n",
       "      <th>Purchase</th>\n",
       "      <th>No</th>\n",
       "      <th>Yes</th>\n",
       "    </tr>\n",
       "    <tr>\n",
       "      <th>Gender</th>\n",
       "      <th></th>\n",
       "      <th></th>\n",
       "    </tr>\n",
       "  </thead>\n",
       "  <tbody>\n",
       "    <tr>\n",
       "      <th>Female</th>\n",
       "      <td>0.40000</td>\n",
       "      <td>0.60000</td>\n",
       "    </tr>\n",
       "    <tr>\n",
       "      <th>Male</th>\n",
       "      <td>0.50813</td>\n",
       "      <td>0.49187</td>\n",
       "    </tr>\n",
       "  </tbody>\n",
       "</table>\n",
       "</div>"
      ],
      "text/plain": [
       "Purchase       No      Yes\n",
       "Gender                    \n",
       "Female    0.40000  0.60000\n",
       "Male      0.50813  0.49187"
      ]
     },
     "execution_count": 86,
     "metadata": {},
     "output_type": "execute_result"
    }
   ],
   "source": [
    "tabla_contingencia_prob = tabla_contingencia.copy()\n",
    "totales = tabla_contingencia.sum(axis=1)\n",
    "for i in range(len(totales)):\n",
    "    tabla_contingencia_prob.iloc[i] = tabla_contingencia.iloc[i]/totales.iloc[i]\n",
    "tabla_contingencia_prob"
   ]
  },
  {
   "cell_type": "markdown",
   "metadata": {},
   "source": [
    "Otra opción más directa es la siguiente (que es un poco distinta a lo que hemos visto, pero es muy compacta en este caso):"
   ]
  },
  {
   "cell_type": "code",
   "execution_count": 66,
   "metadata": {},
   "outputs": [
    {
     "data": {
      "text/html": [
       "<div>\n",
       "<style scoped>\n",
       "    .dataframe tbody tr th:only-of-type {\n",
       "        vertical-align: middle;\n",
       "    }\n",
       "\n",
       "    .dataframe tbody tr th {\n",
       "        vertical-align: top;\n",
       "    }\n",
       "\n",
       "    .dataframe thead th {\n",
       "        text-align: right;\n",
       "    }\n",
       "</style>\n",
       "<table border=\"1\" class=\"dataframe\">\n",
       "  <thead>\n",
       "    <tr style=\"text-align: right;\">\n",
       "      <th>Purchase</th>\n",
       "      <th>No</th>\n",
       "      <th>Yes</th>\n",
       "    </tr>\n",
       "    <tr>\n",
       "      <th>Gender</th>\n",
       "      <th></th>\n",
       "      <th></th>\n",
       "    </tr>\n",
       "  </thead>\n",
       "  <tbody>\n",
       "    <tr>\n",
       "      <th>Female</th>\n",
       "      <td>0.40000</td>\n",
       "      <td>0.60000</td>\n",
       "    </tr>\n",
       "    <tr>\n",
       "      <th>Male</th>\n",
       "      <td>0.50813</td>\n",
       "      <td>0.49187</td>\n",
       "    </tr>\n",
       "  </tbody>\n",
       "</table>\n",
       "</div>"
      ],
      "text/plain": [
       "Purchase       No      Yes\n",
       "Gender                    \n",
       "Female    0.40000  0.60000\n",
       "Male      0.50813  0.49187"
      ]
     },
     "execution_count": 66,
     "metadata": {},
     "output_type": "execute_result"
    }
   ],
   "source": [
    "tabla_contingencia.div(tabla_contingencia.sum(axis=1), axis=0)"
   ]
  },
  {
   "cell_type": "markdown",
   "metadata": {},
   "source": [
    "Bueno, ¿y para qué hemos hecho todo esto? Todo tiene su explicación, necesitamos repasar qué es la probabilidad condicionada para entender la regresión logística."
   ]
  },
  {
   "cell_type": "markdown",
   "metadata": {},
   "source": [
    "### La probabilidad condicional\n",
    "\n",
    "*En este apartado utilizaremos muchas fórmulas matemáticas, por lo que, en lugar de usar imágenes que puede que no se vean bien, nos ayudaremos de los siguientes módulos para poder representarlas:*"
   ]
  },
  {
   "cell_type": "code",
   "execution_count": 67,
   "metadata": {},
   "outputs": [],
   "source": [
    "from IPython.display import display, Math, Latex"
   ]
  },
  {
   "cell_type": "markdown",
   "metadata": {},
   "source": [
    "La probabilidad condicional, como explicamos en su día, nos permite conocer la probabilidad de un suceso, sabiendo si se dan o no ciertas condiciones en torno a él.\n",
    "\n",
    "En este caso, nos pueden surgir preguntas como las siguientes (totalmente diferentes):\n",
    "\n",
    "* ¿Cuál es la probabilidad de que un cliente compre un producto sabiendo que es un hombre?\n",
    "* ¿Cuál es la probabilidad de que sabiendo que un cliente compra un producto sea mujer?\n",
    "\n",
    "Como puedes comprobar, son cosas muy distintas, ya que estamos partiendo de supuestos diferentes.\n",
    "\n",
    "\n",
    "A la primera pregunta podemos responder atendiendo a la siguiente ecuación:"
   ]
  },
  {
   "cell_type": "code",
   "execution_count": 75,
   "metadata": {},
   "outputs": [
    {
     "data": {
      "text/latex": [
       "$\\displaystyle P(Purchase|Male) = \\frac{Número\\ total\\ de\\ compras\\ hechas\\ por\\ hombres}{Número\\ total\\ de\\ hombres\\ del\\ grupo} = \\frac{Purchase\\cap Male}{Male}$"
      ],
      "text/plain": [
       "<IPython.core.display.Math object>"
      ]
     },
     "metadata": {},
     "output_type": "display_data"
    }
   ],
   "source": [
    "display(Math(r'P(Purchase|Male) = \\frac{Número\\ total\\ de\\ compras\\ hechas\\ por\\ hombres}{Número\\ total\\ de\\ hombres\\ del\\ grupo} = \\frac{Purchase\\cap Male}{Male}'))"
   ]
  },
  {
   "cell_type": "markdown",
   "metadata": {},
   "source": [
    "Analizando esta ecuación, llegamos a la conclusión de que el número de compras de un hombre lo podemos extraer de la tabla de contingencia que nos hemos creado:"
   ]
  },
  {
   "cell_type": "code",
   "execution_count": 91,
   "metadata": {},
   "outputs": [
    {
     "data": {
      "text/plain": [
       "0.491869918699187"
      ]
     },
     "execution_count": 91,
     "metadata": {},
     "output_type": "execute_result"
    }
   ],
   "source": [
    "tabla_contingencia.loc['Male', 'Yes']/tabla_contingencia.loc['Male'].sum()"
   ]
  },
  {
   "cell_type": "markdown",
   "metadata": {},
   "source": [
    "En cuanto a la segunda pregunta, podemos proceder de manera similar a la anterior, llegando a la siguiente deducción:"
   ]
  },
  {
   "cell_type": "code",
   "execution_count": 87,
   "metadata": {},
   "outputs": [
    {
     "data": {
      "text/latex": [
       "$\\displaystyle P(Female|Purchase) = \\frac{Número\\ total\\ de\\ compras\\ hechas\\ por\\ mujeres}{Número\\ total\\ de\\ compras} = \\frac{Female\\cap Purchase}{Purchase}$"
      ],
      "text/plain": [
       "<IPython.core.display.Math object>"
      ]
     },
     "metadata": {},
     "output_type": "display_data"
    }
   ],
   "source": [
    "display(Math(r'P(Female|Purchase) = \\frac{Número\\ total\\ de\\ compras\\ hechas\\ por\\ mujeres}{Número\\ total\\ de\\ compras} = \\frac{Female\\cap Purchase}{Purchase}'))"
   ]
  },
  {
   "cell_type": "markdown",
   "metadata": {},
   "source": [
    "En este caso la cuestión es distinta, ya que la condición que se da por supuesta es la de compra y no la del género, es decir, el supuesto que damos por conocido \"a priori\" ha cambiado.\n",
    "\n",
    "Ahora mismo, puede que no veamos la importancia de este hecho, pues tenemos la tabla con todos los datos y podemos calcular lo que estamos proponiendo directamente accediendo a los valores de la tabla de contingencia:"
   ]
  },
  {
   "cell_type": "code",
   "execution_count": 93,
   "metadata": {},
   "outputs": [
    {
     "data": {
      "text/plain": [
       "0.5678571428571428"
      ]
     },
     "execution_count": 93,
     "metadata": {},
     "output_type": "execute_result"
    }
   ],
   "source": [
    "tabla_contingencia.loc['Female', 'Yes']/tabla_contingencia.loc[:, 'Yes'].sum()"
   ]
  },
  {
   "cell_type": "markdown",
   "metadata": {},
   "source": [
    "Sin embargo, si no tuviéramos todos los datos, sino que tuviéramos solo probabilidades en base a uno de los hechos, el otro no sería tan directo. Por ejemplo, si considerásemos que el hecho que conocemos (entre género y compra) es el género, las probabilidades de las que dispondríamos serían las siguientes:"
   ]
  },
  {
   "cell_type": "code",
   "execution_count": 94,
   "metadata": {},
   "outputs": [
    {
     "data": {
      "text/latex": [
       "$\\displaystyle P(Purchase|Male)$"
      ],
      "text/plain": [
       "<IPython.core.display.Math object>"
      ]
     },
     "metadata": {},
     "output_type": "display_data"
    },
    {
     "name": "stdout",
     "output_type": "stream",
     "text": [
      "0.491869918699187\n"
     ]
    },
    {
     "data": {
      "text/latex": [
       "$\\displaystyle P(NO\\ Purchase|Male)$"
      ],
      "text/plain": [
       "<IPython.core.display.Math object>"
      ]
     },
     "metadata": {},
     "output_type": "display_data"
    },
    {
     "name": "stdout",
     "output_type": "stream",
     "text": [
      "0.508130081300813\n"
     ]
    },
    {
     "data": {
      "text/latex": [
       "$\\displaystyle P(Purchase|Female)$"
      ],
      "text/plain": [
       "<IPython.core.display.Math object>"
      ]
     },
     "metadata": {},
     "output_type": "display_data"
    },
    {
     "name": "stdout",
     "output_type": "stream",
     "text": [
      "0.6\n"
     ]
    },
    {
     "data": {
      "text/latex": [
       "$\\displaystyle P(NO\\ Purchase|Female)$"
      ],
      "text/plain": [
       "<IPython.core.display.Math object>"
      ]
     },
     "metadata": {},
     "output_type": "display_data"
    },
    {
     "name": "stdout",
     "output_type": "stream",
     "text": [
      "0.4\n"
     ]
    }
   ],
   "source": [
    "display(Math(r'P(Purchase|Male)'))\n",
    "print(tabla_contingencia.loc['Male', 'Yes']/tabla_contingencia.loc['Male'].sum())\n",
    "display(Math(r'P(NO\\ Purchase|Male)'))\n",
    "print(tabla_contingencia.loc['Male', 'No']/tabla_contingencia.loc['Male'].sum())\n",
    "display(Math(r'P(Purchase|Female)'))\n",
    "print(tabla_contingencia.loc['Female', 'Yes']/tabla_contingencia.loc['Female'].sum())\n",
    "display(Math(r'P(NO\\ Purchase|Female)'))\n",
    "print(tabla_contingencia.loc['Female', 'No']/tabla_contingencia.loc['Female'].sum())"
   ]
  },
  {
   "cell_type": "markdown",
   "metadata": {},
   "source": [
    "Como puedes ver, coinciden con la tabla que habíamos sacado. No es casualidad, pues lo que hemos sacado anteriormente es la tabla de probabilidades en base al género. Y son estas las probabilidades condicionadas que necesitamos para hacer nuestro modelo predictivo."
   ]
  },
  {
   "cell_type": "markdown",
   "metadata": {},
   "source": [
    "### Comparando probabilidades: Ratios\n",
    "\n",
    "El ratio de probabilidades de un suceso es el ratio de éxito de un suceso estudiado frente a los fracasos del mismo, para cada grupo analizado.\n",
    "\n",
    "Por ejemplo, basándonos en las probabilidades que hemos sacado anteriormente, donde tenemos las probabilidades en base al género, podemos definir los ratios como:"
   ]
  },
  {
   "cell_type": "code",
   "execution_count": 133,
   "metadata": {},
   "outputs": [
    {
     "data": {
      "text/latex": [
       "$\\displaystyle P_m = \\ probabilidad\\ de\\ hacer\\ compra\\ sabiendo\\ que\\ es \\ un \\ hombre$"
      ],
      "text/plain": [
       "<IPython.core.display.Math object>"
      ]
     },
     "metadata": {},
     "output_type": "display_data"
    },
    {
     "data": {
      "text/latex": [
       "$\\displaystyle P_f = \\ probabilidad\\ de\\ hacer\\ compra\\ sabiendo\\ que\\ es \\ una\\ mujer$"
      ],
      "text/plain": [
       "<IPython.core.display.Math object>"
      ]
     },
     "metadata": {},
     "output_type": "display_data"
    },
    {
     "data": {
      "text/latex": [
       "$\\displaystyle N_{m,p} = \\ número\\ de\\ hombres\\ que\\ compran$"
      ],
      "text/plain": [
       "<IPython.core.display.Math object>"
      ]
     },
     "metadata": {},
     "output_type": "display_data"
    },
    {
     "data": {
      "text/latex": [
       "$\\displaystyle N_{f,p} = \\ número\\ de\\ mujeres\\ que\\ compran$"
      ],
      "text/plain": [
       "<IPython.core.display.Math object>"
      ]
     },
     "metadata": {},
     "output_type": "display_data"
    },
    {
     "data": {
      "text/latex": [
       "$\\displaystyle N_{m,\\bar p} = \\ número\\ de\\ hombres\\ que\\ no\\ compran$"
      ],
      "text/plain": [
       "<IPython.core.display.Math object>"
      ]
     },
     "metadata": {},
     "output_type": "display_data"
    },
    {
     "data": {
      "text/latex": [
       "$\\displaystyle N_{f,\\bar p} = \\ número\\ de\\ mujeres\\ que\\ no\\ compran$"
      ],
      "text/plain": [
       "<IPython.core.display.Math object>"
      ]
     },
     "metadata": {},
     "output_type": "display_data"
    },
    {
     "data": {
      "text/latex": [
       "$\\displaystyle ratio\\in[0,+\\infty]$"
      ],
      "text/plain": [
       "<IPython.core.display.Math object>"
      ]
     },
     "metadata": {},
     "output_type": "display_data"
    },
    {
     "data": {
      "text/latex": [
       "$\\displaystyle ratio_{p,m} = \\frac{P_m}{1-P_m} = \\frac{N_{m,p}}{N_{m,\\bar p}}$"
      ],
      "text/plain": [
       "<IPython.core.display.Math object>"
      ]
     },
     "metadata": {},
     "output_type": "display_data"
    },
    {
     "data": {
      "text/latex": [
       "$\\displaystyle ratio_{p,f} = \\frac{P_F}{1-P_F} = \\frac{N_{f,p}}{N_{f,\\bar p}}$"
      ],
      "text/plain": [
       "<IPython.core.display.Math object>"
      ]
     },
     "metadata": {},
     "output_type": "display_data"
    }
   ],
   "source": [
    "display(Math(r'P_m = \\ probabilidad\\ de\\ hacer\\ compra\\ sabiendo\\ que\\ es \\ un \\ hombre'))\n",
    "\n",
    "display(Math(r'P_f = \\ probabilidad\\ de\\ hacer\\ compra\\ sabiendo\\ que\\ es \\ una\\ mujer'))\n",
    "\n",
    "display(Math(r'N_{m,p} = \\ número\\ de\\ hombres\\ que\\ compran'))\n",
    "\n",
    "display(Math(r'N_{f,p} = \\ número\\ de\\ mujeres\\ que\\ compran'))\n",
    "\n",
    "display(Math(r'N_{m,\\bar p} = \\ número\\ de\\ hombres\\ que\\ no\\ compran'))\n",
    "\n",
    "display(Math(r'N_{f,\\bar p} = \\ número\\ de\\ mujeres\\ que\\ no\\ compran'))\n",
    "\n",
    "display(Math(r'ratio\\in[0,+\\infty]'))\n",
    "\n",
    "display(Math(r'ratio_{p,m} = \\frac{P_m}{1-P_m} = \\frac{N_{m,p}}{N_{m,\\bar p}}'))\n",
    "\n",
    "display(Math(r'ratio_{p,f} = \\frac{P_F}{1-P_F} = \\frac{N_{f,p}}{N_{f,\\bar p}}'))"
   ]
  },
  {
   "cell_type": "code",
   "execution_count": 134,
   "metadata": {},
   "outputs": [],
   "source": [
    "# Probabilidad compra sabiendo hombre:\n",
    "pm = tabla_contingencia.loc['Male', 'Yes']/tabla_contingencia.loc['Male'].sum()\n",
    "\n",
    "# Probabilidad compra sabiendo mujer:\n",
    "pf = tabla_contingencia.loc['Female', 'Yes']/tabla_contingencia.loc['Female'].sum()\n",
    "\n",
    "# Ratio hombres:\n",
    "ratio_m = pm/(1-pm)\n",
    "## Equivalente a :\n",
    "# tabla_contingencia.loc['Male', 'Yes']/tabla_contingencia.loc['Male', 'No']\n",
    "\n",
    "# Ratio mujeres:\n",
    "ratio_f = pf/(1-pf)\n",
    "## Equivalente a :\n",
    "# tabla_contingencia.loc['Female', 'Yes']/tabla_contingencia.loc['Female', 'No']"
   ]
  },
  {
   "cell_type": "code",
   "execution_count": 135,
   "metadata": {},
   "outputs": [
    {
     "data": {
      "text/plain": [
       "0.9680000000000002"
      ]
     },
     "execution_count": 135,
     "metadata": {},
     "output_type": "execute_result"
    }
   ],
   "source": [
    "ratio_m"
   ]
  },
  {
   "cell_type": "code",
   "execution_count": 136,
   "metadata": {},
   "outputs": [
    {
     "data": {
      "text/plain": [
       "1.4999999999999998"
      ]
     },
     "execution_count": 136,
     "metadata": {},
     "output_type": "execute_result"
    }
   ],
   "source": [
    "ratio_f"
   ]
  },
  {
   "cell_type": "markdown",
   "metadata": {},
   "source": [
    "En este caso, comparando los ratios, vemos que es superior para las mujeres que para los hombres, por lo que podemos deducir que las mujeres son más propensas a comprar que los hombres, tienen más probabilidades de realizar la compra que los hombres, tienen más éxito.\n",
    "\n",
    "Bien, pues podemos extraer ciertos ``bullets`` en función del valor del raito que no tenemos que perder de vista, ya que serán fundamentales para entender la regresión logística:\n",
    "\n",
    "* <span style=\"color: rgb(0, 222, 0);\"><b>ratio > 1</b></span> 🡆 $P(éxito) > P(fracaso)$, donde si $↑ ratio → ↑ P(éxito)$\n",
    "* <span style=\"color: rgb(0, 0, 222);\"><b>ratio = 1</b></span> 🡆 $P(éxito) = P(fracaso)$\n",
    "* <span style=\"color: rgb(222, 0, 0);\"><b>ratio < 1</b></span> 🡆 $P(éxito) < P(fracaso)$, donde si $↓ ratio → ↓ P(éxito)$\n",
    "    \n",
    "    \n",
    "También podríamos hacer el cociente de probabilidades, que será haciendo la división de un ratio entre el otro, el cual, evidentemente, será mayor que 1 si el que ponemos en el numerador es mayor que el que ponemos en el denominador, lo que significará que el experimento que domina será el primero."
   ]
  },
  {
   "cell_type": "code",
   "execution_count": 137,
   "metadata": {},
   "outputs": [
    {
     "data": {
      "text/plain": [
       "0.6453333333333335"
      ]
     },
     "execution_count": 137,
     "metadata": {},
     "output_type": "execute_result"
    }
   ],
   "source": [
    "# Ratio global para hombres:\n",
    "ratio_global_m = ratio_m / ratio_f\n",
    "ratio_global_m"
   ]
  },
  {
   "cell_type": "code",
   "execution_count": 138,
   "metadata": {},
   "outputs": [
    {
     "data": {
      "text/plain": [
       "1.5495867768595035"
      ]
     },
     "execution_count": 138,
     "metadata": {},
     "output_type": "execute_result"
    }
   ],
   "source": [
    "# Ratio global para hombres:\n",
    "ratio_global_f = ratio_f / ratio_m\n",
    "ratio_global_f"
   ]
  },
  {
   "cell_type": "code",
   "execution_count": 139,
   "metadata": {},
   "outputs": [
    {
     "data": {
      "text/plain": [
       "1.5495867768595037"
      ]
     },
     "execution_count": 139,
     "metadata": {},
     "output_type": "execute_result"
    }
   ],
   "source": [
    "1/ratio_global"
   ]
  },
  {
   "cell_type": "markdown",
   "metadata": {},
   "source": [
    "### Llegando a nuestro destino: relación entre la regresión lineal y la regresión logística\n",
    "\n",
    "Si recordáis lo que hemos visto en los notebooks anteriores, la expresión de la regresión lineal viene dada por la siguiente fórmula:"
   ]
  },
  {
   "cell_type": "code",
   "execution_count": 142,
   "metadata": {},
   "outputs": [
    {
     "data": {
      "text/latex": [
       "$\\displaystyle y = \\alpha + \\beta \\cdot x$"
      ],
      "text/plain": [
       "<IPython.core.display.Math object>"
      ]
     },
     "metadata": {},
     "output_type": "display_data"
    },
    {
     "data": {
      "text/latex": [
       "$\\displaystyle (x,y)\\in[-\\infty, +\\infty]^2$"
      ],
      "text/plain": [
       "<IPython.core.display.Math object>"
      ]
     },
     "metadata": {},
     "output_type": "display_data"
    }
   ],
   "source": [
    "display(Math(r'y = \\alpha + \\beta \\cdot x'))\n",
    "display(Math(r'(x,y)\\in[-\\infty, +\\infty]^2'))"
   ]
  },
  {
   "cell_type": "markdown",
   "metadata": {},
   "source": [
    "Donde ``x`` e ``y`` eran variables continuas definidas en $(-\\inf, +\\inf)$\n",
    "\n",
    "Sin embargo, cuando nos ponemos a pensar en la regresión logística, las cosas cambian. En primer lugar, como lo que busco ya no es un número sino una clase (en este ejemplo, pensemos en un decisor binario), la salida de mi sistema tiene que ser $0$ o $1$, no me valen medias tintas.\n",
    "\n",
    "Por lo tanto, podríamos definir y como:\n",
    "\n",
    "$Y \\in \\{0, 1\\}$\n",
    "\n",
    "Pero, ¿cómo puedo obtener yo eso? Bueno, para esto podríamos definir un parámetro ``P`` definido como un valor comprendido entre 0 y 1:\n",
    "\n",
    "$P \\in [0, 1]$\n",
    "\n",
    "Este parámetro ``P`` hará referencia a una probabilidad, que como sabemos varía en los márgenes que acabamos de definir. El cálculo de este parámetro será el punto base de la regresión logística. Pero, ¿cómo lo calculamos? Pues muy sencillo, aquí es donde entra la regresión lineal (muahahaha).\n",
    "\n",
    "Podemos definir la probabilidad como sigue:\n",
    "\n",
    "$P = \\alpha + \\beta * X$\n",
    "\n",
    "Además, ``P`` no será una probabilidad cualquiera, no. Ya que nos la hemos creado que sea más guay que el resto. ``P`` va a ser una probabilidad que dependa de un parámetro ``X``. Es más, vamos a definir a ``P`` como la probabilidad condicionada de éxito o fracaso a la presencia de la variable ``X``. ¿Por qué hacemos esto? Bueno, como ya estamos limitando mucho a ``P``, vamos a dejar al menos alguien pueda ser libre, así que ``X`` estará definido en:\n",
    "\n",
    "$X \\in (-\\infty, +\\infty)$\n",
    "\n",
    "\n",
    "Vamos a dar un paso más, en vez de ``P``, vamos a hacer que sea el cociente de probabilidades de ``P`` el que esté definido de forma lineal, es decir:\n",
    "\n",
    "$\\frac{P}{1-P} = \\alpha + \\beta\\cdot X\\in [0,+\\infty)$\n",
    "\n",
    "Por lo que ahora, ya hemos reducido ese $(-\\infty,+\\infty)$ de ``X`` a la mitad positiva. ¡Casi lo tenemos!\n",
    "\n",
    "Bueno, pues si has podido llegar hasta aquí, ahora te v a explotar la cabeza, ¿qué pasaría si aplicamos la función logaritmo sobre algo que va entre 0 e infinito?\n",
    "\n",
    "Pues te lo creas o no, las características principales de los logaritmos hacen que se cumpla lo siguiente:\n",
    "\n",
    "$\\begin{cases}\\frac{P}{1-P}\\in[0,1]\\Rightarrow ln(\\frac{P}{1-P})\\in(-\\infty,0]\\\\ \\frac{P}{1-P}\\in[1,+\\infty)\\Rightarrow ln(\\frac{P}{1-P})\\in[0, \\infty)\\end{cases}$\n",
    "\n",
    "Lo que equivale a que:\n",
    "\n",
    "$\\begin{cases}P\\in[0,\\frac{1}{2}]\\Rightarrow ln(\\frac{P}{1-P})\\in(-\\infty,0]\\\\ P\\in[\\frac{1}{2},1]\\Rightarrow ln(\\frac{P}{1-P})\\in[0, \\infty)\\end{cases}$\n",
    "\n",
    "\n",
    "Ahora sí parece que van saliendo las cosas, ya que hemos conseguido igualar los rangos de ambos lados de la igualdad.\n",
    "\n",
    "Finalmente, nos quedaría poner las cosas bonitas:\n",
    "\n",
    "$ ln(\\frac{P}{1-P}) = \\alpha + \\beta\\cdot X$\n",
    "\n",
    "$\\frac{P}{1-P} = e^{\\alpha + \\beta\\cdot X}$\n",
    "\n",
    "$P = \\frac{e^{\\alpha+\\beta\\cdot X}}{1+e^{\\alpha+\\beta\\cdot X}}$\n",
    "\n",
    "Llegando a la típica ecuación que define una regresión logística:\n",
    "\n",
    "<center>$P = \\frac{1}{1+e^{-(\\alpha+\\beta\\cdot X)}}$</center>\n",
    "\n",
    "donde podemos observar que:\n",
    "\n",
    "\n",
    "* <span style=\"color: rgb(0, 222, 0);\"><b>$a + bX > 0.5$ </b></span> 🡆 $P → 1$\n",
    "* <span style=\"color: rgb(0, 0, 222);\"><b>$a + bX = 0.5$</b></span> 🡆 $P = 0,5$\n",
    "* <span style=\"color: rgb(222, 0, 0);\"><b>$a + bX < 0.5$ </b></span> 🡆 $P → 0$\n",
    "\n",
    "¿Te recuerda a algo?\n",
    "\n",
    "\n",
    "\n"
   ]
  },
  {
   "cell_type": "markdown",
   "metadata": {},
   "source": [
    "Vamos a hacer una gráfica para a=0 y b=1 para ver cómo es esta función:"
   ]
  },
  {
   "cell_type": "code",
   "execution_count": 153,
   "metadata": {},
   "outputs": [
    {
     "data": {
      "image/png": "[encoded data removed]",
      "text/plain": [
       "<Figure size 432x288 with 1 Axes>"
      ]
     },
     "metadata": {
      "needs_background": "light"
     },
     "output_type": "display_data"
    }
   ],
   "source": [
    "import matplotlib.pyplot as plt\n",
    "import numpy as np\n",
    "\n",
    "x = np.linspace(-10, 10, 1000)\n",
    "a = 0\n",
    "b = 1\n",
    "f = a + b*x\n",
    "P = 1/(1+np.exp(-f))\n",
    "\n",
    "plt.plot(x, P)\n",
    "plt.grid()"
   ]
  },
  {
   "cell_type": "markdown",
   "metadata": {},
   "source": [
    "### Extra: ¿Y si quiero hacer una regresión logística múltiple?\n",
    "\n",
    "Finalmente, si quisiéramos saber cómo podríamos desarrollarlo para llegar a la regresión logística múltiple, no sería demasiado complicado (para nosotros, que no lo vamos a demostrar). Simplemente, aplicando sumatorios podríamos llegar a lo siguiente:\n",
    "\n",
    "<center>$P = \\frac{1}{1+e^{-(\\alpha+\\sum_{i=1}^n\\beta_i\\cdot x_i)}}$</center>"
   ]
  },
  {
   "cell_type": "code",
   "execution_count": null,
   "metadata": {},
   "outputs": [],
   "source": []
  }
 ],
 "metadata": {
  "kernelspec": {
   "display_name": "Python 3",
   "language": "python",
   "name": "python3"
  },
  "language_info": {
   "codemirror_mode": {
    "name": "ipython",
    "version": 3
   },
   "file_extension": ".py",
   "mimetype": "text/x-python",
   "name": "python",
   "nbconvert_exporter": "python",
   "pygments_lexer": "ipython3",
   "version": "3.8.3"
  }
 },
 "nbformat": 4,
 "nbformat_minor": 4
}
