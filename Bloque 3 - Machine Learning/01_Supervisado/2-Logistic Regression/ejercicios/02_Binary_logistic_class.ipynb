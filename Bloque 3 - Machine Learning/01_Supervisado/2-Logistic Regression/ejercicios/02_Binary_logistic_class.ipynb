{
 "cells": [
  {
   "cell_type": "markdown",
   "metadata": {},
   "source": [
    "## Ejercicio: Clasificación binaria\n",
    "\n",
    "\n",
    "En este ejercicio vas a trabajar con un clasificador binario. Para ello utilizarás el dataset utilizado en el ejercicio 1, \"usuarios_win_mac_lin.csv\", que es un dataset en el que nos encontraremos  datos de navegación de usuarios dentro de una web (páginas, duración...) y tendremos que predecir desde qué sistema operativo viene el usuario.\n",
    "\n",
    "Para que sea un problema binario, dado que hay 3 clases, nos vamos a quitar una de ellas. **Elimina del dataframe todas las filas que pertenezcan a la clase \"1\"** para quedarnos solo con 2 clases diferentes.\n",
    "\n",
    "- Compáralo con lo que obteníamos en el ejercicio 1: ¿Se mejora la precisión del algoritmo con dos clases vs regresión lineal, es decir, acertamos más con 3 o con 2 clases? ¿Por qué?\n",
    "\n",
    "- Grafica la curva ROC del algoritmo.\n",
    "\n",
    "*Nota: LogisticRegression() es una clase que tiene varios parámetros de entrada. Investiga (toca, modifica, prueba) las variables y comenta si hay alguna de ellas que, modificándola, mejore el porcentaje de acierto del problema.*\n",
    "\n",
    "https://scikit-learn.org/stable/modules/generated/sklearn.linear_model.LogisticRegression.html\n"
   ]
  },
  {
   "cell_type": "code",
   "execution_count": 1,
   "metadata": {},
   "outputs": [],
   "source": [
    "import pandas as pd\n",
    "import numpy as np\n",
    "import matplotlib.pyplot as plt\n",
    "import seaborn as sns\n",
    "\n",
    "from sklearn.linear_model import LogisticRegression\n",
    "from sklearn.model_selection import train_test_split\n",
    "from sklearn.metrics import accuracy_score, confusion_matrix"
   ]
  },
  {
   "cell_type": "code",
   "execution_count": 2,
   "metadata": {},
   "outputs": [],
   "source": [
    "df = pd.read_csv(\"data/usuarios_win_mac_lin.csv\")"
   ]
  },
  {
   "cell_type": "code",
   "execution_count": null,
   "metadata": {},
   "outputs": [],
   "source": []
  }
 ],
 "metadata": {
  "kernelspec": {
   "display_name": "Python 3",
   "language": "python",
   "name": "python3"
  },
  "language_info": {
   "codemirror_mode": {
    "name": "ipython",
    "version": 3
   },
   "file_extension": ".py",
   "mimetype": "text/x-python",
   "name": "python",
   "nbconvert_exporter": "python",
   "pygments_lexer": "ipython3",
   "version": "3.8.3"
  }
 },
 "nbformat": 4,
 "nbformat_minor": 4
}
