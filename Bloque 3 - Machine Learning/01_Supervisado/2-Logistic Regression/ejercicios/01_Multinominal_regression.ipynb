{
 "cells": [
  {
   "cell_type": "markdown",
   "metadata": {},
   "source": [
    "## Ejercicios: Regresión lineal vs. Regresión logística\n",
    "\n",
    "\n",
    "En el notebook \"02_Ejemplo_Regresion_Logística\", hemos visto un ejemplo multiclase. A continuación, se plantea un ejercicio que nos llevará de un problema de regresión a otro de clasificación.\n",
    "\n",
    " 1. Comienza realizando un modelo de regresión lineal como hemos visto hasta ahora con los datos que se muestran a continuación, teniendo como target la columna \"duración\". Es decir, averigua cuánto aumenta o disminuye la duración cuando se aumenta una unidad los valores de las demás columnas.\n",
    "\n",
    "  - ¿Qué acierto tiene? (score)\n",
    "  - ¿Cuál es el RMSE? ¿Dirías que es un valor alto?\n",
    "  - Viendo la matriz de correlación, ¿tienen coherencia los resultados de la regresión?\n",
    "  - ¿Es la regresión un buen método para este dataset?\n"
   ]
  },
  {
   "cell_type": "code",
   "execution_count": 1,
   "metadata": {},
   "outputs": [],
   "source": [
    "import pandas as pd\n",
    "import numpy as np\n",
    "import matplotlib.pyplot as plt\n",
    "import seaborn as sns\n",
    "\n",
    "from sklearn.linear_model import LinearRegression\n",
    "from sklearn.model_selection import train_test_split\n",
    "from sklearn.metrics import mean_squared_error "
   ]
  },
  {
   "cell_type": "code",
   "execution_count": 2,
   "metadata": {},
   "outputs": [],
   "source": [
    "df = pd.read_csv('data/usuarios_win_mac_lin.csv')\n"
   ]
  },
  {
   "cell_type": "code",
   "execution_count": 18,
   "metadata": {},
   "outputs": [
    {
     "data": {
      "text/plain": [
       "True     92\n",
       "False    78\n",
       "Name: duracion, dtype: int64"
      ]
     },
     "execution_count": 18,
     "metadata": {},
     "output_type": "execute_result"
    }
   ],
   "source": [
    "df['duracion'].apply(lambda x: x>12).value_counts()"
   ]
  },
  {
   "cell_type": "code",
   "execution_count": 30,
   "metadata": {},
   "outputs": [
    {
     "data": {
      "text/plain": [
       "2    82\n",
       "3    66\n",
       "1    22\n",
       "Name: clase_dur, dtype: int64"
      ]
     },
     "execution_count": 30,
     "metadata": {},
     "output_type": "execute_result"
    }
   ],
   "source": [
    "df['clase_dur'] = df['duracion'].apply(lambda x: int(x//10) if x <20 else 11)\n",
    "df['clase_dur'] = df['duracion'].apply(lambda x: 1 if x<= 10 else 2 if x<= 20 else 3)\n",
    "df['clase_dur'].value_counts()"
   ]
  },
  {
   "cell_type": "code",
   "execution_count": null,
   "metadata": {},
   "outputs": [],
   "source": []
  },
  {
   "cell_type": "markdown",
   "metadata": {},
   "source": [
    "\n",
    " 2. Pasemos ahora a un problema de clasificación binaria. Trata el dataset para asignar la clase en función de la duración: si la duración es <= 12, pertenecerá a la clase \"1\", si no, pertenecerá a la clase \"2\". Crea ahora un modelo de regresión logística para predecir a qué clase pertenece y calcula:\n",
    "\n",
    "  - ¿Estamos ante un problema con datos balanceados o desbalanceados?\n",
    "  - Utiliza las diferentes métricas que hemos visto en clase para medir el algoritmo.\n",
    "  - Aprovechando que estamos ante un caso binario, realiza la gráfica de la curva ROC para ver cómo es el performance del algoritmo.\n",
    "  - Compara los resultados obtenidos con los que obtendrías si al sistema lineal le añadieras un umbral de decisión al final en base a la división que hemos hecho previamente\n"
   ]
  },
  {
   "cell_type": "code",
   "execution_count": null,
   "metadata": {},
   "outputs": [],
   "source": []
  },
  {
   "cell_type": "code",
   "execution_count": null,
   "metadata": {},
   "outputs": [],
   "source": []
  },
  {
   "cell_type": "markdown",
   "metadata": {},
   "source": [
    " 3. Pasemos ahora al problema de clasificación multiclase. Trata el dataset para asignar 3 clases en función de la duración: si la duración es <= 10, pertenecerá a la clase \"1\", si no, si es <= 20 pertenecerá a la clase \"2\", y si no, a la clase \"3\". Crea ahora un modelo de regresión logística para predecir a qué clase pertenece y calcula:\n",
    "\n",
    "  - ¿Estamos ante un problema con datos balanceados o desbalanceados?\n",
    "  - Elige una métrica apropiada y calcula qué acierto tiene.\n",
    "  - Compara los resultados obtenidos con los que obtendrías si al sistema lineal le añadieras un umbral de decisión al final en base a la división que hemos hecho previamente"
   ]
  },
  {
   "cell_type": "code",
   "execution_count": null,
   "metadata": {},
   "outputs": [],
   "source": []
  }
 ],
 "metadata": {
  "kernelspec": {
   "display_name": "Python 3",
   "language": "python",
   "name": "python3"
  },
  "language_info": {
   "codemirror_mode": {
    "name": "ipython",
    "version": 3
   },
   "file_extension": ".py",
   "mimetype": "text/x-python",
   "name": "python",
   "nbconvert_exporter": "python",
   "pygments_lexer": "ipython3",
   "version": "3.8.3"
  }
 },
 "nbformat": 4,
 "nbformat_minor": 4
}
