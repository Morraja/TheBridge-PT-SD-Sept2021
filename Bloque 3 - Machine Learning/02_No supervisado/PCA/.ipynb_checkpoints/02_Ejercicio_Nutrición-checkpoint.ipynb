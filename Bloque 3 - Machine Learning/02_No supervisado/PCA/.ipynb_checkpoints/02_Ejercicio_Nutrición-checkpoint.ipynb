{
 "cells": [
  {
   "cell_type": "markdown",
   "metadata": {},
   "source": [
    "# Ejercicio PCA: Nutrición"
   ]
  },
  {
   "cell_type": "markdown",
   "metadata": {},
   "source": [
    "En el siguiente ejercicio vamos a anlizar algunos datos sobre ciertos alimentos. En él, trataremos de reducir un gran número de variables a otro muhco más reducido, asumiendo ciertas pérdidas de información "
   ]
  },
  {
   "cell_type": "markdown",
   "metadata": {},
   "source": [
    "### Importa las librerías necesarias\n",
    "\n",
    "Puedes comenzar por las básicas, e ir rellenando según vayas necesitando más:"
   ]
  },
  {
   "cell_type": "code",
   "execution_count": null,
   "metadata": {},
   "outputs": [],
   "source": []
  },
  {
   "cell_type": "markdown",
   "metadata": {},
   "source": [
    "### Importa los datos\n",
    "\n",
    "Los datos que utilizaremos en este ejercicio son los que tienes en el fichero ``nndb_flat.csv``. Observa las columnas que tiene, así como su tipo."
   ]
  },
  {
   "cell_type": "code",
   "execution_count": null,
   "metadata": {},
   "outputs": [],
   "source": []
  },
  {
   "cell_type": "markdown",
   "metadata": {},
   "source": [
    "### Analiza las correlaciones de las variables\n",
    "\n",
    "¿Qué pasa con las columnas USRDA?"
   ]
  },
  {
   "cell_type": "code",
   "execution_count": null,
   "metadata": {},
   "outputs": [],
   "source": []
  },
  {
   "cell_type": "markdown",
   "metadata": {},
   "source": [
    "### Columnas redundantes\n",
    "\n",
    "Si te fijas, podemos ver que algunas de las columnas \"_USRDA\" son redundantes. ¿Podríamos prescindir de ellas? En caso afirmativo, elimínalas."
   ]
  },
  {
   "cell_type": "code",
   "execution_count": null,
   "metadata": {},
   "outputs": [],
   "source": []
  },
  {
   "cell_type": "markdown",
   "metadata": {},
   "source": [
    "### Columnas no numéricas\n",
    "\n",
    "Como hemos comprobado en uno de los apartados anteriores, no todas nuestras columnas son numéricas. Sin embargo, para aplicar el PCA sí que era necesario que lo fueran. Así que tenemos 2 opciones: tratar estas variables o eliminarlas.\n",
    "\n",
    "Por lo general, convertir una categórica a numérica no le suele sentar muy bien a los algoritmos no supervisados, y menos aún si tienen pocos valores diferentes. Podrías convertir la variables, aplicar el PCA y obtener un resultado, pero no sería de gran utilidad.\n",
    "\n",
    "Lo que se suele hacer es separar las variables categóricas y mantenerlas o aplicarles otro tratamiento (como hacer una selección de variables). También existen algunos métodos más avanzados que intentan replicar el PCA con variables categóricas, como es el MCA (en realidad no es una generalización del PCA, pero así podemos entenderlo mejor). En este caso, no entraremos a algo tan complejo, pero te dejo el enlace a unas presentaciones de la Universidad de Alicante donde se explica [este concepto](https://rua.ua.es/dspace/bitstream/10045/72567/4/Analisis-multivariante-MCA.pdf). También puedes acceder al siguiente [repositorio de github](https://github.com/MaxHalford/prince#correspondence-analysis-ca), donde se implementa este método para Python.\n",
    "\n",
    "Para simplificar, como nos estamos centrando en el PCA, vamos a descartar las variables categóricas:"
   ]
  },
  {
   "cell_type": "code",
   "execution_count": null,
   "metadata": {},
   "outputs": [],
   "source": []
  },
  {
   "cell_type": "markdown",
   "metadata": {},
   "source": [
    "### Los datos ya tienen otra pinta\n",
    "\n",
    "Sin embargo, para conseguir mejores resultados, tenemos que escalar los datos. Y esto no suele ser algo opcional. Convierte las variables para que tengan media 0 y varianza unidad."
   ]
  },
  {
   "cell_type": "code",
   "execution_count": null,
   "metadata": {},
   "outputs": [],
   "source": []
  },
  {
   "cell_type": "markdown",
   "metadata": {},
   "source": [
    "### Poniendo en práctica nuestro PCA\n",
    "\n",
    "Ahora que tenemos las variables preparadas, es hora del PCA.\n",
    "\n",
    "Analiza las variables y cómo se distribuye la varianza explicada a lo largo de las columnas. ¿Podría reducir significativamente el número de variables manteniendo, al menos, un 80% de la varianza total? ¿Con cuántas variables me quedaría?\n",
    "\n",
    "Representa la varianza explicada en función del número de variables.\n",
    "\n",
    "*NOTA*: De momento, vamos a hacerlo sin separar train y test."
   ]
  },
  {
   "cell_type": "code",
   "execution_count": 12,
   "metadata": {},
   "outputs": [],
   "source": []
  },
  {
   "cell_type": "markdown",
   "metadata": {},
   "source": [
    "Quédate con las 5 variables más importantes y calcula su varianza explicada:"
   ]
  },
  {
   "cell_type": "code",
   "execution_count": null,
   "metadata": {},
   "outputs": [],
   "source": []
  },
  {
   "cell_type": "markdown",
   "metadata": {},
   "source": [
    "### Para esas 5 nuevas componentes, ¿qué grupo de comida tiene los valores más altos en cada una?\n",
    "\n",
    "Analiza los grupos de comida en base a las nuevas componentes:"
   ]
  },
  {
   "cell_type": "code",
   "execution_count": null,
   "metadata": {},
   "outputs": [],
   "source": []
  },
  {
   "cell_type": "markdown",
   "metadata": {},
   "source": [
    "### Prediciendo valores\n",
    "\n",
    "Imagínate ahora que queremos realizar un modelo de predicción de los gramos de grasa:\n",
    "\n",
    "1. Realiza un modelo de regresión para predecir este valor con tantas variables como quieras (puedes utilizar pipelines y GridSearchCV para encontrar valores óptimos)\n",
    "\n",
    "*NOTA*: Ahora sí que separaremos entre train y test, y tomaremos las mismas columnas con las que nos hemos quedado durante el análisis anterior."
   ]
  },
  {
   "cell_type": "code",
   "execution_count": null,
   "metadata": {},
   "outputs": [],
   "source": []
  },
  {
   "cell_type": "markdown",
   "metadata": {},
   "source": [
    "2. Repite ahora los pasos anteriores y créate 10 variables (con PCA sobre aquellas numéricas que no son el target) para predecir de nuevo este valor (también puedes utilizar pipelines y GridSearchCV). ¿Puedes mejorar el resultado anterior? ¿Cuánto has tardado esta vez?\n",
    "\n",
    "Para las comparaciones de score, utiliza el RMSE.\n",
    "\n",
    "*NOTA*: Ahora sí que separaremos entre train y test antes de aplicar el PCA, y tomaremos las mismas columnas con las que nos hemos quedado durante el análisis anterior."
   ]
  },
  {
   "cell_type": "code",
   "execution_count": null,
   "metadata": {},
   "outputs": [],
   "source": []
  },
  {
   "cell_type": "code",
   "execution_count": null,
   "metadata": {},
   "outputs": [],
   "source": []
  }
 ],
 "metadata": {
  "kernelspec": {
   "display_name": "Python 3",
   "language": "python",
   "name": "python3"
  },
  "language_info": {
   "codemirror_mode": {
    "name": "ipython",
    "version": 3
   },
   "file_extension": ".py",
   "mimetype": "text/x-python",
   "name": "python",
   "nbconvert_exporter": "python",
   "pygments_lexer": "ipython3",
   "version": "3.8.3"
  }
 },
 "nbformat": 4,
 "nbformat_minor": 4
}
