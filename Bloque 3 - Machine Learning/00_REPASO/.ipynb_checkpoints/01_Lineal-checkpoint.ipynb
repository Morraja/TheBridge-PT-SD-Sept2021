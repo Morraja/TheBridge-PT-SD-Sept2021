{
 "cells": [
  {
   "cell_type": "markdown",
   "metadata": {},
   "source": [
    "## Ejercicio Repaso Modelo lineal\n",
    "\n",
    "Partiendo del siguiente DataFrame (``df``), donde todas las variables son numéricas: \n",
    "1. Crea un modelo de regresión lineal para predecir ``target``, dividiendo train/test como 80/20\n",
    "2. Utiliza un GridSearchCV para probar los diferentes modelos de penalización que hemos visto, y quédate con la combinación de parámetros + modelo que mejor resultado te devuelva. Puedes probar solamente modificando el modelo, o podrías crear un pipeline con cada uno añadiendo más cosas, como un selector de variables o un escalado (este es muy importante)\n",
    "3. Prueba a crearte nuevas variables para mejorar el score que te devuelva. Hazlo sobre 1 para reducir complejidad y timepo de cómputo del ejercicio\n",
    "4. Si te fijas, la variable ``sex`` toma solo 2 valores diferentes. Convierte esta variable a un valor binario y utiliza el DataFrame (sin las variables nuevas de 3) para predecir este valor. Recuerda que ahora estarás ante un modelo de clasificación\n",
    "5. Vuelve a crear variables extra para mejorar el score de clasificación"
   ]
  },
  {
   "cell_type": "code",
   "execution_count": 1,
   "metadata": {},
   "outputs": [],
   "source": [
    "import pandas as pd\n",
    "from sklearn.datasets import load_diabetes"
   ]
  },
  {
   "cell_type": "code",
   "execution_count": 2,
   "metadata": {},
   "outputs": [],
   "source": [
    "diabetes = load_diabetes()\n",
    "X = pd.DataFrame(diabetes['data'], columns=diabetes['feature_names'])\n",
    "y = pd.DataFrame({'target': diabetes['target']})\n",
    "\n",
    "df = X.join(y)\n",
    "\n",
    "X = df.drop('target', axis=1)\n",
    "y = df['target']"
   ]
  },
  {
   "cell_type": "code",
   "execution_count": 3,
   "metadata": {},
   "outputs": [],
   "source": [
    "from sklearn.model_selection import train_test_split, GridSearchCV\n",
    "from sklearn.linear_model import LinearRegression, Ridge, Lasso, ElasticNet\n",
    "from sklearn.svm import SVR\n",
    "from sklearn.preprocessing import StandardScaler\n",
    "from sklearn.pipeline import Pipeline\n",
    "from sklearn.metrics import mean_squared_error\n",
    "import numpy as np\n",
    "import matplotlib.pyplot as plt"
   ]
  },
  {
   "cell_type": "code",
   "execution_count": 4,
   "metadata": {},
   "outputs": [],
   "source": [
    "X_train, X_test, y_train, y_test = train_test_split(X, y, test_size=0.2, random_state=42)"
   ]
  },
  {
   "cell_type": "code",
   "execution_count": 7,
   "metadata": {},
   "outputs": [],
   "source": [
    "pipe_1=Pipeline([('scaler', StandardScaler()), ('model', SVR())])\n",
    "pipe_2=Pipeline([('scaler', StandardScaler()), ('model', Ridge())])\n",
    "pipe_3=Pipeline([('scaler', StandardScaler()), ('model', Lasso())])\n",
    "pipe_4=Pipeline([('scaler', StandardScaler()), ('model', ElasticNet())])\n",
    "\n",
    "params_1 = {\n",
    "    'model__kernel': ['linear', 'poly', 'rbf'],\n",
    "    'model__C': [0.1, 0.5, 0.8, 1]\n",
    "}\n",
    "params_2 = {\n",
    "    'model__alpha': [0.1, 0.5, 0.8, 1]\n",
    "}\n",
    "params_3 = {\n",
    "    'model__alpha': [0.1, 0.5, 0.8, 1]\n",
    "}\n",
    "params_4 = {\n",
    "    'model__alpha': [0.1, 0.5, 0.8, 1],\n",
    "    'model__l1_ratio': [0.1, 0.5, 0.8, 1]\n",
    "}\n",
    "\n",
    "gs_svr = GridSearchCV(pipe_1,\n",
    "                         params_1,\n",
    "                         cv = 10,\n",
    "                         scoring='accuracy',\n",
    "                         n_jobs=-1,\n",
    "                         verbose=1)\n",
    "\n",
    "gs_ridge = GridSearchCV(pipe_2,\n",
    "                         params_2,\n",
    "                         cv = 10,\n",
    "                         scoring='accuracy',\n",
    "                         n_jobs=-1,\n",
    "                         verbose=1)\n",
    "\n",
    "gs_lasso = GridSearchCV(pipe_3,\n",
    "                         params_3,\n",
    "                         cv = 10,\n",
    "                         scoring='accuracy',\n",
    "                         n_jobs=-1,\n",
    "                         verbose=1)\n",
    "\n",
    "gs_enet = GridSearchCV(pipe_4,\n",
    "                         params_4,\n",
    "                         cv = 10,\n",
    "                         scoring='accuracy',\n",
    "                         n_jobs=-1,\n",
    "                         verbose=1)\n",
    "\n",
    "grids = {'gs_svr': gs_svr,\n",
    "         'gs_ridge': gs_ridge,\n",
    "         'gs_lasso': gs_lasso,\n",
    "         'gs_enet': gs_enet}"
   ]
  },
  {
   "cell_type": "code",
   "execution_count": 8,
   "metadata": {},
   "outputs": [
    {
     "name": "stdout",
     "output_type": "stream",
     "text": [
      "Calculando gs_svr\n",
      "Fitting 10 folds for each of 12 candidates, totalling 120 fits\n"
     ]
    },
    {
     "name": "stderr",
     "output_type": "stream",
     "text": [
      "D:\\Users\\costa\\anaconda3\\lib\\site-packages\\sklearn\\model_selection\\_search.py:918: UserWarning: One or more of the test scores are non-finite: [nan nan nan nan nan nan nan nan nan nan nan nan]\n",
      "  warnings.warn(\n",
      "D:\\Users\\costa\\anaconda3\\lib\\site-packages\\sklearn\\model_selection\\_search.py:918: UserWarning: One or more of the test scores are non-finite: [nan nan nan nan]\n",
      "  warnings.warn(\n",
      "D:\\Users\\costa\\anaconda3\\lib\\site-packages\\sklearn\\model_selection\\_search.py:918: UserWarning: One or more of the test scores are non-finite: [nan nan nan nan]\n",
      "  warnings.warn(\n"
     ]
    },
    {
     "name": "stdout",
     "output_type": "stream",
     "text": [
      "Calculando gs_ridge\n",
      "Fitting 10 folds for each of 4 candidates, totalling 40 fits\n",
      "Calculando gs_lasso\n",
      "Fitting 10 folds for each of 4 candidates, totalling 40 fits\n",
      "Calculando gs_enet\n",
      "Fitting 10 folds for each of 16 candidates, totalling 160 fits\n"
     ]
    },
    {
     "name": "stderr",
     "output_type": "stream",
     "text": [
      "D:\\Users\\costa\\anaconda3\\lib\\site-packages\\sklearn\\model_selection\\_search.py:918: UserWarning: One or more of the test scores are non-finite: [nan nan nan nan nan nan nan nan nan nan nan nan nan nan nan nan]\n",
      "  warnings.warn(\n"
     ]
    }
   ],
   "source": [
    "for nombre, grid_search in grids.items():\n",
    "    print(f\"Calculando {nombre}\")\n",
    "    grid_search.fit(X_train, y_train)"
   ]
  },
  {
   "cell_type": "code",
   "execution_count": 9,
   "metadata": {},
   "outputs": [
    {
     "data": {
      "text/plain": [
       "[('gs_svr', nan), ('gs_ridge', nan), ('gs_lasso', nan), ('gs_enet', nan)]"
      ]
     },
     "execution_count": 9,
     "metadata": {},
     "output_type": "execute_result"
    }
   ],
   "source": [
    "l = []\n",
    "for i, j in grids.items():\n",
    "    l.append((i, j.best_score_))\n",
    "l"
   ]
  },
  {
   "cell_type": "code",
   "execution_count": 16,
   "metadata": {},
   "outputs": [
    {
     "data": {
      "text/html": [
       "<div>\n",
       "<style scoped>\n",
       "    .dataframe tbody tr th:only-of-type {\n",
       "        vertical-align: middle;\n",
       "    }\n",
       "\n",
       "    .dataframe tbody tr th {\n",
       "        vertical-align: top;\n",
       "    }\n",
       "\n",
       "    .dataframe thead th {\n",
       "        text-align: right;\n",
       "    }\n",
       "</style>\n",
       "<table border=\"1\" class=\"dataframe\">\n",
       "  <thead>\n",
       "    <tr style=\"text-align: right;\">\n",
       "      <th></th>\n",
       "      <th>target</th>\n",
       "    </tr>\n",
       "  </thead>\n",
       "  <tbody>\n",
       "    <tr>\n",
       "      <th>17</th>\n",
       "      <td>144.0</td>\n",
       "    </tr>\n",
       "    <tr>\n",
       "      <th>66</th>\n",
       "      <td>150.0</td>\n",
       "    </tr>\n",
       "    <tr>\n",
       "      <th>137</th>\n",
       "      <td>280.0</td>\n",
       "    </tr>\n",
       "    <tr>\n",
       "      <th>245</th>\n",
       "      <td>125.0</td>\n",
       "    </tr>\n",
       "    <tr>\n",
       "      <th>31</th>\n",
       "      <td>59.0</td>\n",
       "    </tr>\n",
       "    <tr>\n",
       "      <th>...</th>\n",
       "      <td>...</td>\n",
       "    </tr>\n",
       "    <tr>\n",
       "      <th>106</th>\n",
       "      <td>134.0</td>\n",
       "    </tr>\n",
       "    <tr>\n",
       "      <th>270</th>\n",
       "      <td>202.0</td>\n",
       "    </tr>\n",
       "    <tr>\n",
       "      <th>348</th>\n",
       "      <td>148.0</td>\n",
       "    </tr>\n",
       "    <tr>\n",
       "      <th>435</th>\n",
       "      <td>64.0</td>\n",
       "    </tr>\n",
       "    <tr>\n",
       "      <th>102</th>\n",
       "      <td>302.0</td>\n",
       "    </tr>\n",
       "  </tbody>\n",
       "</table>\n",
       "<p>353 rows × 1 columns</p>\n",
       "</div>"
      ],
      "text/plain": [
       "     target\n",
       "17    144.0\n",
       "66    150.0\n",
       "137   280.0\n",
       "245   125.0\n",
       "31     59.0\n",
       "..      ...\n",
       "106   134.0\n",
       "270   202.0\n",
       "348   148.0\n",
       "435    64.0\n",
       "102   302.0\n",
       "\n",
       "[353 rows x 1 columns]"
      ]
     },
     "execution_count": 16,
     "metadata": {},
     "output_type": "execute_result"
    }
   ],
   "source": [
    "y_train"
   ]
  }
 ],
 "metadata": {
  "kernelspec": {
   "display_name": "Python 3",
   "language": "python",
   "name": "python3"
  },
  "language_info": {
   "codemirror_mode": {
    "name": "ipython",
    "version": 3
   },
   "file_extension": ".py",
   "mimetype": "text/x-python",
   "name": "python",
   "nbconvert_exporter": "python",
   "pygments_lexer": "ipython3",
   "version": "3.8.5"
  }
 },
 "nbformat": 4,
 "nbformat_minor": 4
}
