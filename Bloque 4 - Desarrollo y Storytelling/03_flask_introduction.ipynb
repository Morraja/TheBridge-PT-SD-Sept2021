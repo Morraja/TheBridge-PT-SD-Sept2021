{
 "cells": [
  {
   "cell_type": "markdown",
   "metadata": {
    "id": "0e173e21"
   },
   "source": [
    "# Introducción a Flask"
   ]
  },
  {
   "cell_type": "markdown",
   "metadata": {
    "id": "1062db19"
   },
   "source": [
    "#### INDICE\n",
    "- I. Flask \"Hello World\".\n",
    "- II. Extrayendo información.\n",
    "- III. Variables en Flask. Una primera aproximación.\n",
    "- Recursos"
   ]
  },
  {
   "cell_type": "markdown",
   "metadata": {
    "id": "81a36d2a"
   },
   "source": [
    "## I. Flask \"Hello World\""
   ]
  },
  {
   "cell_type": "code",
   "execution_count": 1,
   "metadata": {
    "id": "f5143ac5"
   },
   "outputs": [
    {
     "name": "stdout",
     "output_type": "stream",
     "text": [
      " * Serving Flask app \"__main__\" (lazy loading)\n",
      " * Environment: production\n",
      "   WARNING: This is a development server. Do not use it in a production deployment.\n",
      "   Use a production WSGI server instead.\n",
      " * Debug mode: off\n"
     ]
    },
    {
     "name": "stderr",
     "output_type": "stream",
     "text": [
      " * Running on http://0.0.0.0:81/ (Press CTRL+C to quit)\n",
      "127.0.0.1 - - [23/Apr/2021 20:25:21] \"\u001b[37mGET / HTTP/1.1\u001b[0m\" 200 -\n",
      "127.0.0.1 - - [23/Apr/2021 20:25:22] \"\u001b[33mGET /favicon.ico HTTP/1.1\u001b[0m\" 404 -\n",
      "127.0.0.1 - - [23/Apr/2021 20:25:31] \"\u001b[37mGET /hw HTTP/1.1\u001b[0m\" 200 -\n",
      "127.0.0.1 - - [23/Apr/2021 20:34:54] \"\u001b[37mGET / HTTP/1.1\u001b[0m\" 200 -\n",
      "127.0.0.1 - - [23/Apr/2021 20:35:08] \"\u001b[33mGET /get_data HTTP/1.1\u001b[0m\" 404 -\n",
      "127.0.0.1 - - [23/Apr/2021 20:35:30] \"\u001b[37mGET /hw HTTP/1.1\u001b[0m\" 200 -\n",
      "127.0.0.1 - - [23/Apr/2021 20:35:35] \"\u001b[33mGET /get_data HTTP/1.1\u001b[0m\" 404 -\n",
      "127.0.0.1 - - [23/Apr/2021 20:36:20] \"\u001b[33mGET /get_data HTTP/1.1\u001b[0m\" 404 -\n"
     ]
    }
   ],
   "source": [
    "from flask import Flask\n",
    "\n",
    "app = Flask(__name__)\n",
    "\n",
    "@app.route('/')\n",
    "def index():\n",
    "    return 'Web App with Python Flask!'\n",
    "\n",
    "@app.route(\"/hw\")\n",
    "def helloworld():\n",
    "    return \"Hello World Flask\"\n",
    "\n",
    "app.run(host='0.0.0.0', port=81)"
   ]
  },
  {
   "cell_type": "markdown",
   "metadata": {
    "id": "8acf28db"
   },
   "source": [
    "## II. Extrayendo información"
   ]
  },
  {
   "cell_type": "code",
   "execution_count": 6,
   "metadata": {
    "id": "537bc220",
    "outputId": "ca993ac1-5f39-4f9a-e6fd-3afc690a2ab1"
   },
   "outputs": [
    {
     "name": "stdout",
     "output_type": "stream",
     "text": [
      " * Serving Flask app \"__main__\" (lazy loading)\n",
      " * Environment: production\n",
      "   WARNING: This is a development server. Do not use it in a production deployment.\n",
      "   Use a production WSGI server instead.\n",
      " * Debug mode: off\n"
     ]
    },
    {
     "name": "stderr",
     "output_type": "stream",
     "text": [
      " * Running on http://localhost:81/ (Press CTRL+C to quit)\n",
      "127.0.0.1 - - [23/Apr/2021 20:42:04] \"\u001b[33mGET /user/schema HTTP/1.1\u001b[0m\" 404 -\n"
     ]
    }
   ],
   "source": [
    "import json\n",
    "from flask import Flask\n",
    "\n",
    "app = Flask(__name__)\n",
    "\n",
    "@app.route('/')\n",
    "def index():\n",
    "    return 'Web App with Python Flask!'\n",
    "\n",
    "@app.route(\"/hw\")\n",
    "def helloworld():\n",
    "    return \"Hello World Flask\"\n",
    "\n",
    "@app.route(\"/get_data\")\n",
    "def get_data():\n",
    "    data = {\n",
    "        \"name\": \"Iron Man\",\n",
    "        \"job\": \"Avenger\"\n",
    "    }\n",
    "    return json.dump(data)\n",
    "\n",
    "app.run(host='localhost', port=81)"
   ]
  },
  {
   "cell_type": "markdown",
   "metadata": {
    "id": "f9ba916a"
   },
   "source": [
    "## III. Variables en Flask. Una primera aproximación."
   ]
  },
  {
   "cell_type": "code",
   "execution_count": null,
   "metadata": {
    "id": "05400771"
   },
   "outputs": [
    {
     "name": "stdout",
     "output_type": "stream",
     "text": [
      " * Serving Flask app \"__main__\" (lazy loading)\n",
      " * Environment: production\n",
      "   WARNING: This is a development server. Do not use it in a production deployment.\n",
      "   Use a production WSGI server instead.\n",
      " * Debug mode: off\n"
     ]
    },
    {
     "name": "stderr",
     "output_type": "stream",
     "text": [
      " * Running on http://0.0.0.0:81/ (Press CTRL+C to quit)\n",
      "127.0.0.1 - - [23/Apr/2021 20:42:18] \"\u001b[33mGET /user/schema HTTP/1.1\u001b[0m\" 404 -\n",
      "127.0.0.1 - - [23/Apr/2021 20:42:32] \"\u001b[37mGET /user/schema HTTP/1.1\u001b[0m\" 200 -\n",
      "127.0.0.1 - - [23/Apr/2021 20:42:37] \"\u001b[37mGET /user/test HTTP/1.1\u001b[0m\" 200 -\n"
     ]
    }
   ],
   "source": [
    "import json\n",
    "from flask import Flask\n",
    "from markupsafe import escape\n",
    "\n",
    "app = Flask(__name__)\n",
    "\n",
    "@app.route('/')\n",
    "def index():\n",
    "    return 'Web App with Python Flask!'\n",
    "\n",
    "@app.route(\"/hw\")\n",
    "def helloworld():\n",
    "    return \"Hello World Flask\"\n",
    "\n",
    "@app.route(\"/get_data\")\n",
    "def get_data():\n",
    "    data = {\n",
    "        \"name\": \"Iron Man\",\n",
    "        \"job\": \"Avenger\"\n",
    "    }\n",
    "    return json.dumps(data)\n",
    "\n",
    "@app.route('/user/<username>')\n",
    "def show_user_profile(username):\n",
    "    return 'User %s' % escape(username)\n",
    "\n",
    "app.run(host='0.0.0.0', port=81)"
   ]
  },
  {
   "cell_type": "markdown",
   "metadata": {
    "id": "0484724e"
   },
   "source": [
    "## Recursos"
   ]
  },
  {
   "cell_type": "markdown",
   "metadata": {
    "id": "d16668f2"
   },
   "source": [
    "- [Flask Quickstart](https://flask.palletsprojects.com/en/1.1.x/quickstart/)\n",
    "- [Flask + Docker](https://medium.com/@ackonrichard/how-to-deploy-machine-learning-models-using-flask-docker-and-google-cloud-platform-gcp-6e7bf1b339d5)\n",
    "- [Create Api With Flask](https://programminghistorian.org/en/lessons/creating-apis-with-python-and-flask)"
   ]
  },
  {
   "cell_type": "code",
   "execution_count": null,
   "metadata": {
    "id": "cf2be40d"
   },
   "outputs": [],
   "source": []
  }
 ],
 "metadata": {
  "colab": {
   "name": "03_flask_introduction.ipynb",
   "provenance": []
  },
  "kernelspec": {
   "display_name": "Python 3",
   "language": "python",
   "name": "python3"
  },
  "language_info": {
   "codemirror_mode": {
    "name": "ipython",
    "version": 3
   },
   "file_extension": ".py",
   "mimetype": "text/x-python",
   "name": "python",
   "nbconvert_exporter": "python",
   "pygments_lexer": "ipython3",
   "version": "3.8.5"
  }
 },
 "nbformat": 4,
 "nbformat_minor": 5
}
