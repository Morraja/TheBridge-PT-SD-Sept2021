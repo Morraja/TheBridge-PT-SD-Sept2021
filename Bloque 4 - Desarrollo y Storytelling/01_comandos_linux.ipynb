{
  "nbformat": 4,
  "nbformat_minor": 5,
  "metadata": {
    "kernelspec": {
      "display_name": "Python 3",
      "language": "python",
      "name": "python3"
    },
    "language_info": {
      "codemirror_mode": {
        "name": "ipython",
        "version": 3
      },
      "file_extension": ".py",
      "mimetype": "text/x-python",
      "name": "python",
      "nbconvert_exporter": "python",
      "pygments_lexer": "ipython3",
      "version": "3.8.8"
    },
    "colab": {
      "name": "01_comandos_linux.ipynb",
      "provenance": []
    }
  },
  "cells": [
    {
      "cell_type": "markdown",
      "metadata": {
        "id": "d101da21"
      },
      "source": [
        "# Comandos principales de Linux\n",
        "> *conjunto (pequeño) de comandos básicos para un científico de datos*\n",
        "____"
      ],
      "id": "d101da21"
    },
    {
      "cell_type": "markdown",
      "metadata": {
        "id": "eec16cdf"
      },
      "source": [
        "**Indice**\n",
        "\n",
        "- **I. Moviéndonos por carpetas.**\n",
        "- **II. Creando carpetas/archivos.**\n",
        "- **III. Descargando archivos.**\n",
        "- **IV. Inspeccionando archivos.**\n",
        "- **V. Buscando archivos.**\n",
        "- **VI. Pipes y filtros.**\n",
        "- **VII. Viendo procesos activos.**\n",
        "- **VIII. Copiar y pegar desde terminal.**\n",
        "- **Recursos.**\n",
        "- **Ejercicio.**"
      ],
      "id": "eec16cdf"
    },
    {
      "cell_type": "markdown",
      "metadata": {
        "id": "4e4159c1"
      },
      "source": [
        " "
      ],
      "id": "4e4159c1"
    },
    {
      "cell_type": "markdown",
      "metadata": {
        "id": "3309e295"
      },
      "source": [
        "Para quien no disponga de un terminal linux como subsistema en windows o un mac o un sistema operativo basado en linux puede dirigirse a esta consola online para hacer probar los comandos y realizar los ejercicios [consola online](https://cocalc.com/doc/terminal.html)"
      ],
      "id": "3309e295"
    },
    {
      "cell_type": "markdown",
      "metadata": {
        "id": "358382bf"
      },
      "source": [
        "## I. Moviendonos por carpetas"
      ],
      "id": "358382bf"
    },
    {
      "cell_type": "markdown",
      "metadata": {
        "id": "408aa8b8"
      },
      "source": [
        "**cd**: El comando cd (change directory) se usa para movernos entre carpetas como si navegáramos por las carpetas de nuestro ordenador.\n",
        "```console\n",
        "cd ./Documents : Nos movemos a la carpeta Documents desde el directorio actual, si es que existe esa carpeta en ese directorio.\n",
        "cd .. : Volvemos a la ruta previa a la que estamos.\n",
        "```"
      ],
      "id": "408aa8b8"
    },
    {
      "cell_type": "markdown",
      "metadata": {
        "id": "900cc3cd"
      },
      "source": [
        "**ls**: El comando ls o list se usa para listar todos los elementos que se tienen en una ruta. Este comando acepta variables, las más usadas son:\n",
        "```console\n",
        "- ls : De esta manera podemos ver lo que hay bajo la ruta.\n",
        "- ls -l : Nos muestra lo que hay además de información de permisos, fecha de creación, propietario del archivo, tipos de archivo y tamaño.\n",
        "- ls -a : Nos muestra además los archivos ocultos.\n",
        "- ls -lh : Igual que el ls -l pero en este caso nos muestra el tamaño de una forma más amigable.\n",
        "```"
      ],
      "id": "900cc3cd"
    },
    {
      "cell_type": "markdown",
      "metadata": {
        "id": "930c808e"
      },
      "source": [
        "**pwd**: El comando pwd o Print Working Directory se usa para saber sobre que carpeta estamos actuando ahora mismo.\n",
        "```console\n",
        "pwd\n",
        "```"
      ],
      "id": "930c808e"
    },
    {
      "cell_type": "markdown",
      "metadata": {
        "id": "d76362c2"
      },
      "source": [
        "## II. Creando carpetas/archivos "
      ],
      "id": "d76362c2"
    },
    {
      "cell_type": "markdown",
      "metadata": {
        "id": "373be72d"
      },
      "source": [
        "**mkdir**: Con el comando mkdir (MaKe DIRectory) estamos creando una carpeta sobre la ruta en la que nos encotramos.\n",
        "```console\n",
        "mkdir linux_commands\n",
        "```"
      ],
      "id": "373be72d"
    },
    {
      "cell_type": "markdown",
      "metadata": {
        "id": "cf6d8e2f"
      },
      "source": [
        "**touch**: Con el comando touch podemos crear archivos vacíos.\n",
        "```console\n",
        "touch file\n",
        "touch file.txt\n",
        "touch file.csv\n",
        "touch ../previous_file.txt\n",
        "```"
      ],
      "id": "cf6d8e2f"
    },
    {
      "cell_type": "markdown",
      "metadata": {
        "id": "2d2f7668"
      },
      "source": [
        "**vi**: Con el comando estamos abriendo un editor de texto dentro de la terminal con el que podemos abrir, crear o editar archivos. *Cuando trabajas con máquinas externas, como podría ser el cloud, donde no tienes un IDE como podría ser SPIDER, la única manera que tienes para editar un archivo de python por ejemplo es con esta herramienta.*\n",
        "- Dentro del editor pulsando \"i\" (insert) podemos empezar a escribir.\n",
        "- Una vez hemos acabado pulsamos \"Esc\" para salir del modo escritura.\n",
        "- Para guardar un archivo escribimos \":w\".\n",
        "- Para guardar y salir de un archivo \":wq\".\n",
        "- Para salir sin guardar los cambios \":q!\".\n",
        "\n",
        "[Más información útil](https://www.guru99.com/the-vi-editor.html)"
      ],
      "id": "2d2f7668"
    },
    {
      "cell_type": "markdown",
      "metadata": {
        "id": "1f895fa5"
      },
      "source": [
        "## III. Descargando archivos"
      ],
      "id": "1f895fa5"
    },
    {
      "cell_type": "markdown",
      "metadata": {
        "id": "a9d0c9e2"
      },
      "source": [
        "**wget**: Con este comando nos podemos descargar archivos sobre una ruta:\n",
        "```console\n",
        "wget https://raw.githubusercontent.com/uiuc-cse/data-fa14/gh-pages/data/iris.csv\n",
        "```"
      ],
      "id": "a9d0c9e2"
    },
    {
      "cell_type": "markdown",
      "metadata": {
        "id": "ac99e3eb"
      },
      "source": [
        "## IV. Inspeccionando archivos"
      ],
      "id": "ac99e3eb"
    },
    {
      "cell_type": "markdown",
      "metadata": {
        "id": "07af3d8d"
      },
      "source": [
        "**cat**: Este comando nos muestra por terminal el archivo entero.\n",
        "```console\n",
        "cat iris.csv\n",
        "```"
      ],
      "id": "07af3d8d"
    },
    {
      "cell_type": "markdown",
      "metadata": {
        "id": "6e8a72f9"
      },
      "source": [
        "**head/tail**: Estos comandos son para mostrarnos las n primeras/últimas filas del archivo.\n",
        "```console\n",
        "head iris.csv\n",
        "head -n 10 iris.csv\n",
        "```"
      ],
      "id": "6e8a72f9"
    },
    {
      "cell_type": "markdown",
      "metadata": {
        "id": "ebf19570"
      },
      "source": [
        "**wc**: Con el comando wordcount podemos contar el número de líneas, y palabras entre otras cosas de un archivo.\n",
        "```console\n",
        "wc iris.csv\n",
        "```"
      ],
      "id": "ebf19570"
    },
    {
      "cell_type": "markdown",
      "metadata": {
        "id": "a4749b11"
      },
      "source": [
        "## V. Buscando archivos"
      ],
      "id": "a4749b11"
    },
    {
      "cell_type": "markdown",
      "metadata": {
        "id": "e33dd417"
      },
      "source": [
        "**find**: Con este comando podemos buscar cualquier archivo dentro de nuestro ordenador o de cualquier máquina externa dando un nombre de archivo.\n",
        "```console\n",
        "find . -name \"sololinux\" : Esto busca archivos que se llamen \"sololinux\"\n",
        "find . -name \"\\*.csv\" : Esto busca archivos que sean csv\n",
        "```"
      ],
      "id": "e33dd417"
    },
    {
      "cell_type": "markdown",
      "metadata": {
        "id": "728cef43"
      },
      "source": [
        "## VI. Pipes y filtros"
      ],
      "id": "728cef43"
    },
    {
      "cell_type": "markdown",
      "metadata": {
        "id": "65f09d71"
      },
      "source": [
        "Una funcionalidad interesante es la posibilidad de conectar procesos mediante los que se denominan pipes o tuberías:\n",
        "```console\n",
        "cat iris.csv | grep setosa\n",
        "```\n",
        "\n",
        "El pipe corresponde a la tecla \"|\" mientras que con el comando **grep** estamos creando un filtro sobre el archivo que previamente estamos leyendo para coger solo aquellas líneas donde aparezcan la palabra setosa en este caso."
      ],
      "id": "65f09d71"
    },
    {
      "cell_type": "markdown",
      "metadata": {
        "id": "492c3b60"
      },
      "source": [
        "## VII. Viendo procesos activos"
      ],
      "id": "492c3b60"
    },
    {
      "cell_type": "markdown",
      "metadata": {
        "id": "9601b2a1"
      },
      "source": [
        "**ps**: Con este comando podemos ver todos los procesos activos que tenemos en nuestro ordenador.\n",
        "```console\n",
        "ps -ef\n",
        "```\n",
        "\n",
        "con el comando **kill -9** puedes matar el proceso asociado a ese número.\n",
        "```console\n",
        "kill -9 #process\n",
        "```"
      ],
      "id": "9601b2a1"
    },
    {
      "cell_type": "markdown",
      "metadata": {
        "id": "8f08c1e3"
      },
      "source": [
        "## VIII. Copiar y pegar desde terminal"
      ],
      "id": "8f08c1e3"
    },
    {
      "cell_type": "markdown",
      "metadata": {
        "id": "a936295a"
      },
      "source": [
        "**cp**: Con el comando copy podemos copiar archivos de una ruta a otra.\n",
        "```console\n",
        "cp ./iris.csv ../iris_copied.csv\n",
        "```"
      ],
      "id": "a936295a"
    },
    {
      "cell_type": "markdown",
      "metadata": {
        "id": "979c242f"
      },
      "source": [
        "**mv**: Con el comando move podemos mover archivos de lado, lo que sería cortar y copiar, se usa tambien para renombrar un archivo.\n",
        "```console\n",
        "mv iris.csv iris2.csv\n",
        "```"
      ],
      "id": "979c242f"
    },
    {
      "cell_type": "markdown",
      "metadata": {
        "id": "facd075b"
      },
      "source": [
        "**rm**: Con el comando remove podemos eliminar un archivo o eliminar una carpeta.\n",
        "```console\n",
        "rm ./iris.csv\n",
        "\n",
        "rm -r nombre_carpeta\n",
        "```"
      ],
      "id": "facd075b"
    },
    {
      "cell_type": "markdown",
      "metadata": {
        "id": "3fc4c767"
      },
      "source": [
        "## Recursos"
      ],
      "id": "3fc4c767"
    },
    {
      "cell_type": "markdown",
      "metadata": {
        "id": "36c0cd57"
      },
      "source": [
        "[Comandos útiles](https://www.hostinger.es/tutoriales/linux-comandos)\n",
        "\n",
        "[Comandos útiles 2](https://www.howtogeek.com/412055/37-important-linux-commands-you-should-know/)"
      ],
      "id": "36c0cd57"
    },
    {
      "cell_type": "markdown",
      "metadata": {
        "id": "37adc303"
      },
      "source": [
        "## Ejercicios"
      ],
      "id": "37adc303"
    },
    {
      "cell_type": "markdown",
      "metadata": {
        "id": "35030748"
      },
      "source": [
        "**1.** Crea sobre la carpeta que prefieras una nueva carpeta que se llame *pruebas_linux* y entra dentro de esta.\n",
        "\n",
        "**2.** Crean un archivo dentro de esa carpeta que se llame configuracion.txt y añade las siguientes líneas:\n",
        "```console\n",
        "name: your_name\n",
        "job_status: your_job_status\n",
        "```\n",
        "\n",
        "**3.** Muestra solo la primera línea del archivo.\n",
        "\n",
        "**4.** Descarga lo siguiente sobre la carpeta *pruebas_linux*:\n",
        "```console\n",
        "https://raw.githubusercontent.com/franciscocanon-thebridge/bootcamp_thebridge_PTSep20/main/Bloque%203%20-%20Machine%20Learning/01_Supervisado/9-Ensemble/data/temps.csv\n",
        "```\n",
        "\n",
        "**5.** ¿Cuántas filas tiene el archivo descargado?\n",
        "\n",
        "**6.** Crea una nueva carpeta con el nombre *datos* y copia el archivo *temps.csv* a la nueva carpeta con el nombre de *temporadas.csv*.\n",
        "\n",
        "**7.** Elimina el archivo *temps.csv*.\n",
        "\n",
        "**8.** ¿Cuántas líneas hay en el archivo *temporadas.csv* que tengan la palabra **Fri**?\n",
        "\n",
        "**9.** Abre una consola de python sobre la terminal escribiendo:\n",
        "```console\n",
        "python\n",
        "```\n",
        "luego abre otra consola y mata el proceso de python abierto anteriormente."
      ],
      "id": "35030748"
    },
    {
      "cell_type": "code",
      "metadata": {
        "id": "a6b0ded8"
      },
      "source": [
        ""
      ],
      "id": "a6b0ded8",
      "execution_count": null,
      "outputs": []
    }
  ]
}