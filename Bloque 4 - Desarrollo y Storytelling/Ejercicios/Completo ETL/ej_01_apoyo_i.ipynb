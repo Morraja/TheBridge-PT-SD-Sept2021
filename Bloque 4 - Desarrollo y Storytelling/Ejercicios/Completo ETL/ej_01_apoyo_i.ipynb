{
 "cells": [
  {
   "cell_type": "markdown",
   "metadata": {
    "id": "yR_fHez9GVIp"
   },
   "source": [
    "# Apoyo a la solución del ejercicio 1 de ETL\n",
    "___"
   ]
  },
  {
   "cell_type": "markdown",
   "metadata": {
    "id": "kWdkJJecGVIw"
   },
   "source": [
    "Lo primero que necesitamos saber es como obtener lo que se pide, en este caso nos vamos a centrar en el primer punto de hombres y mujeres activos/as al año. Para ello vamos a contar las personas activas en cada año lo cual necesitamos una lista con los años de vida de la empresa y la información de cuantas persona activas había en los respectivos años."
   ]
  },
  {
   "cell_type": "markdown",
   "metadata": {
    "id": "o9P5aVo_GVIw"
   },
   "source": [
    "#### 1. Importamos librerías"
   ]
  },
  {
   "cell_type": "code",
   "execution_count": null,
   "metadata": {
    "id": "CCsWodwMGVIx"
   },
   "outputs": [],
   "source": [
    "import pandas as pd\n",
    "import seaborn as sns"
   ]
  },
  {
   "cell_type": "markdown",
   "metadata": {
    "id": "ywMvturCGVIx"
   },
   "source": [
    "#### 2. Cargamos los datos\n",
    "\n",
    "En este caso vamos a poder encontrar los datos de sexo y año de contratación y extinción de contrato en los csv's datos_personales y datos_laborales respectivamente"
   ]
  },
  {
   "cell_type": "code",
   "execution_count": null,
   "metadata": {
    "id": "EnSB52pvGVIx"
   },
   "outputs": [],
   "source": [
    "path = \"./datos/\""
   ]
  },
  {
   "cell_type": "code",
   "execution_count": null,
   "metadata": {
    "id": "gC2rH2ARGVIy"
   },
   "outputs": [],
   "source": [
    "df_pers = pd.read_csv(path + \"datos_personales.csv\")\n",
    "df_lab = pd.read_csv(path + \"datos_laborales.csv\")"
   ]
  },
  {
   "cell_type": "markdown",
   "metadata": {
    "id": "k6dDugfQGVIy"
   },
   "source": [
    "#### 3. Nos quedamos solo con lo importante"
   ]
  },
  {
   "cell_type": "code",
   "execution_count": null,
   "metadata": {
    "id": "SByffFexGVIy",
    "outputId": "35f0bf55-674e-4a1c-c2c7-d222fada87bd"
   },
   "outputs": [
    {
     "data": {
      "text/html": [
       "<div>\n",
       "<style scoped>\n",
       "    .dataframe tbody tr th:only-of-type {\n",
       "        vertical-align: middle;\n",
       "    }\n",
       "\n",
       "    .dataframe tbody tr th {\n",
       "        vertical-align: top;\n",
       "    }\n",
       "\n",
       "    .dataframe thead th {\n",
       "        text-align: right;\n",
       "    }\n",
       "</style>\n",
       "<table border=\"1\" class=\"dataframe\">\n",
       "  <thead>\n",
       "    <tr style=\"text-align: right;\">\n",
       "      <th></th>\n",
       "      <th>EmpID</th>\n",
       "      <th>DateofHire</th>\n",
       "      <th>DateofTermination</th>\n",
       "    </tr>\n",
       "  </thead>\n",
       "  <tbody>\n",
       "    <tr>\n",
       "      <th>0</th>\n",
       "      <td>10026</td>\n",
       "      <td>7/5/2011</td>\n",
       "      <td>NaN</td>\n",
       "    </tr>\n",
       "    <tr>\n",
       "      <th>1</th>\n",
       "      <td>10084</td>\n",
       "      <td>3/30/2015</td>\n",
       "      <td>6/16/2016</td>\n",
       "    </tr>\n",
       "    <tr>\n",
       "      <th>2</th>\n",
       "      <td>10196</td>\n",
       "      <td>7/5/2011</td>\n",
       "      <td>9/24/2012</td>\n",
       "    </tr>\n",
       "  </tbody>\n",
       "</table>\n",
       "</div>"
      ],
      "text/plain": [
       "   EmpID DateofHire DateofTermination\n",
       "0  10026   7/5/2011               NaN\n",
       "1  10084  3/30/2015         6/16/2016\n",
       "2  10196   7/5/2011         9/24/2012"
      ]
     },
     "execution_count": 19,
     "metadata": {
      "tags": []
     },
     "output_type": "execute_result"
    }
   ],
   "source": [
    "df_lab = df_lab[[\"EmpID\", \"DateofHire\", \"DateofTermination\"]]\n",
    "df_lab.head(3)"
   ]
  },
  {
   "cell_type": "code",
   "execution_count": null,
   "metadata": {
    "id": "K3GqZ5sxGVIz",
    "outputId": "6114777f-6617-4f3b-fe47-5e43be7c76ad"
   },
   "outputs": [
    {
     "data": {
      "text/html": [
       "<div>\n",
       "<style scoped>\n",
       "    .dataframe tbody tr th:only-of-type {\n",
       "        vertical-align: middle;\n",
       "    }\n",
       "\n",
       "    .dataframe tbody tr th {\n",
       "        vertical-align: top;\n",
       "    }\n",
       "\n",
       "    .dataframe thead th {\n",
       "        text-align: right;\n",
       "    }\n",
       "</style>\n",
       "<table border=\"1\" class=\"dataframe\">\n",
       "  <thead>\n",
       "    <tr style=\"text-align: right;\">\n",
       "      <th></th>\n",
       "      <th>EmpID</th>\n",
       "      <th>Sex</th>\n",
       "    </tr>\n",
       "  </thead>\n",
       "  <tbody>\n",
       "    <tr>\n",
       "      <th>0</th>\n",
       "      <td>10026</td>\n",
       "      <td>M</td>\n",
       "    </tr>\n",
       "    <tr>\n",
       "      <th>1</th>\n",
       "      <td>10084</td>\n",
       "      <td>M</td>\n",
       "    </tr>\n",
       "    <tr>\n",
       "      <th>2</th>\n",
       "      <td>10196</td>\n",
       "      <td>F</td>\n",
       "    </tr>\n",
       "  </tbody>\n",
       "</table>\n",
       "</div>"
      ],
      "text/plain": [
       "   EmpID Sex\n",
       "0  10026  M \n",
       "1  10084  M \n",
       "2  10196   F"
      ]
     },
     "execution_count": 20,
     "metadata": {
      "tags": []
     },
     "output_type": "execute_result"
    }
   ],
   "source": [
    "df_pers = df_pers[[\"EmpID\", \"Sex\"]]\n",
    "df_pers.head(3)"
   ]
  },
  {
   "cell_type": "markdown",
   "metadata": {
    "id": "CTtfp59IGVIz"
   },
   "source": [
    "Ahora que tenemos solo lo que vamos a necesitar vamos a unir todo en un dataframe"
   ]
  },
  {
   "cell_type": "code",
   "execution_count": null,
   "metadata": {
    "id": "hWn0lamSGVIz",
    "outputId": "0e4d75e1-5173-4191-9675-d210e9572d7a"
   },
   "outputs": [
    {
     "data": {
      "text/html": [
       "<div>\n",
       "<style scoped>\n",
       "    .dataframe tbody tr th:only-of-type {\n",
       "        vertical-align: middle;\n",
       "    }\n",
       "\n",
       "    .dataframe tbody tr th {\n",
       "        vertical-align: top;\n",
       "    }\n",
       "\n",
       "    .dataframe thead th {\n",
       "        text-align: right;\n",
       "    }\n",
       "</style>\n",
       "<table border=\"1\" class=\"dataframe\">\n",
       "  <thead>\n",
       "    <tr style=\"text-align: right;\">\n",
       "      <th></th>\n",
       "      <th>EmpID</th>\n",
       "      <th>DateofHire</th>\n",
       "      <th>DateofTermination</th>\n",
       "      <th>Sex</th>\n",
       "    </tr>\n",
       "  </thead>\n",
       "  <tbody>\n",
       "    <tr>\n",
       "      <th>0</th>\n",
       "      <td>10026</td>\n",
       "      <td>7/5/2011</td>\n",
       "      <td>NaN</td>\n",
       "      <td>M</td>\n",
       "    </tr>\n",
       "    <tr>\n",
       "      <th>1</th>\n",
       "      <td>10084</td>\n",
       "      <td>3/30/2015</td>\n",
       "      <td>6/16/2016</td>\n",
       "      <td>M</td>\n",
       "    </tr>\n",
       "    <tr>\n",
       "      <th>2</th>\n",
       "      <td>10196</td>\n",
       "      <td>7/5/2011</td>\n",
       "      <td>9/24/2012</td>\n",
       "      <td>F</td>\n",
       "    </tr>\n",
       "  </tbody>\n",
       "</table>\n",
       "</div>"
      ],
      "text/plain": [
       "   EmpID DateofHire DateofTermination Sex\n",
       "0  10026   7/5/2011               NaN  M \n",
       "1  10084  3/30/2015         6/16/2016  M \n",
       "2  10196   7/5/2011         9/24/2012   F"
      ]
     },
     "execution_count": 21,
     "metadata": {
      "tags": []
     },
     "output_type": "execute_result"
    }
   ],
   "source": [
    "df_tot = pd.merge(df_lab, df_pers, on=\"EmpID\", how=\"inner\")\n",
    "df_tot.head(3)"
   ]
  },
  {
   "cell_type": "markdown",
   "metadata": {
    "id": "hn4orGRaGVI0"
   },
   "source": [
    "#### 4. Extraemos la información del año"
   ]
  },
  {
   "cell_type": "code",
   "execution_count": null,
   "metadata": {
    "id": "Y7G86gMOGVI0",
    "outputId": "be9c3206-1e2a-48cc-9e9d-b54d797fff40"
   },
   "outputs": [
    {
     "data": {
      "text/html": [
       "<div>\n",
       "<style scoped>\n",
       "    .dataframe tbody tr th:only-of-type {\n",
       "        vertical-align: middle;\n",
       "    }\n",
       "\n",
       "    .dataframe tbody tr th {\n",
       "        vertical-align: top;\n",
       "    }\n",
       "\n",
       "    .dataframe thead th {\n",
       "        text-align: right;\n",
       "    }\n",
       "</style>\n",
       "<table border=\"1\" class=\"dataframe\">\n",
       "  <thead>\n",
       "    <tr style=\"text-align: right;\">\n",
       "      <th></th>\n",
       "      <th>EmpID</th>\n",
       "      <th>DateofHire</th>\n",
       "      <th>DateofTermination</th>\n",
       "      <th>Sex</th>\n",
       "      <th>year_hire</th>\n",
       "      <th>year_term</th>\n",
       "    </tr>\n",
       "  </thead>\n",
       "  <tbody>\n",
       "    <tr>\n",
       "      <th>0</th>\n",
       "      <td>10026</td>\n",
       "      <td>7/5/2011</td>\n",
       "      <td>NaN</td>\n",
       "      <td>M</td>\n",
       "      <td>2011</td>\n",
       "      <td>2018</td>\n",
       "    </tr>\n",
       "    <tr>\n",
       "      <th>1</th>\n",
       "      <td>10084</td>\n",
       "      <td>3/30/2015</td>\n",
       "      <td>6/16/2016</td>\n",
       "      <td>M</td>\n",
       "      <td>2015</td>\n",
       "      <td>2016</td>\n",
       "    </tr>\n",
       "    <tr>\n",
       "      <th>2</th>\n",
       "      <td>10196</td>\n",
       "      <td>7/5/2011</td>\n",
       "      <td>9/24/2012</td>\n",
       "      <td>F</td>\n",
       "      <td>2011</td>\n",
       "      <td>2012</td>\n",
       "    </tr>\n",
       "  </tbody>\n",
       "</table>\n",
       "</div>"
      ],
      "text/plain": [
       "   EmpID DateofHire DateofTermination Sex  year_hire  year_term\n",
       "0  10026   7/5/2011               NaN  M        2011       2018\n",
       "1  10084  3/30/2015         6/16/2016  M        2015       2016\n",
       "2  10196   7/5/2011         9/24/2012   F       2011       2012"
      ]
     },
     "execution_count": 22,
     "metadata": {
      "tags": []
     },
     "output_type": "execute_result"
    }
   ],
   "source": [
    "df_tot[\"year_hire\"] = df_tot[\"DateofHire\"].str.split(\"/\").str[-1]\n",
    "df_tot[\"year_term\"] = df_tot[\"DateofTermination\"].str.split(\"/\").str[-1]\n",
    "\n",
    "# Además cambio la columna a tipo entero con el fin de manejar números.\n",
    "df_tot[\"year_hire\"] = df_tot[\"year_hire\"].astype(int)\n",
    "\n",
    "# Dado que en year_term tenemos NaN los rellenamos con el año máximo de contratación\n",
    "# TODO: De hacer ese fillna se puede derivar un error el cual no vamos a tener en\n",
    "#    consideración para facilitar el ejercicio pero hay que controlar las suposiciones que \n",
    "#    se realizan y porque se realizan.\n",
    "df_tot[\"year_term\"].fillna(df_tot[\"year_hire\"].max(), inplace=True)\n",
    "df_tot[\"year_term\"] = df_tot[\"year_term\"].astype(int)\n",
    "\n",
    "df_tot.head(3)"
   ]
  },
  {
   "cell_type": "code",
   "execution_count": null,
   "metadata": {
    "id": "FG3b06PBGVI0",
    "outputId": "4e25c377-a948-45e6-e5af-cc1aff28f59f"
   },
   "outputs": [
    {
     "data": {
      "text/html": [
       "<div>\n",
       "<style scoped>\n",
       "    .dataframe tbody tr th:only-of-type {\n",
       "        vertical-align: middle;\n",
       "    }\n",
       "\n",
       "    .dataframe tbody tr th {\n",
       "        vertical-align: top;\n",
       "    }\n",
       "\n",
       "    .dataframe thead th {\n",
       "        text-align: right;\n",
       "    }\n",
       "</style>\n",
       "<table border=\"1\" class=\"dataframe\">\n",
       "  <thead>\n",
       "    <tr style=\"text-align: right;\">\n",
       "      <th></th>\n",
       "      <th>EmpID</th>\n",
       "      <th>year_hire</th>\n",
       "      <th>year_term</th>\n",
       "      <th>Sex</th>\n",
       "    </tr>\n",
       "  </thead>\n",
       "  <tbody>\n",
       "    <tr>\n",
       "      <th>0</th>\n",
       "      <td>10026</td>\n",
       "      <td>2011</td>\n",
       "      <td>2018</td>\n",
       "      <td>M</td>\n",
       "    </tr>\n",
       "    <tr>\n",
       "      <th>1</th>\n",
       "      <td>10084</td>\n",
       "      <td>2015</td>\n",
       "      <td>2016</td>\n",
       "      <td>M</td>\n",
       "    </tr>\n",
       "    <tr>\n",
       "      <th>2</th>\n",
       "      <td>10196</td>\n",
       "      <td>2011</td>\n",
       "      <td>2012</td>\n",
       "      <td>F</td>\n",
       "    </tr>\n",
       "  </tbody>\n",
       "</table>\n",
       "</div>"
      ],
      "text/plain": [
       "   EmpID  year_hire  year_term Sex\n",
       "0  10026       2011       2018  M \n",
       "1  10084       2015       2016  M \n",
       "2  10196       2011       2012   F"
      ]
     },
     "execution_count": 23,
     "metadata": {
      "tags": []
     },
     "output_type": "execute_result"
    }
   ],
   "source": [
    "# Nos vamos a quedar de nuevo solo con las columnas que nos interesan\n",
    "df_tot = df_tot[[\"EmpID\", \"year_hire\", \"year_term\", \"Sex\"]]\n",
    "df_tot.head(3)"
   ]
  },
  {
   "cell_type": "markdown",
   "metadata": {
    "id": "nh1vNV3rGVI0"
   },
   "source": [
    "#### 5. Obtenemos el rango de años"
   ]
  },
  {
   "cell_type": "code",
   "execution_count": null,
   "metadata": {
    "id": "XlGBkBk9GVI1",
    "outputId": "dc54015f-bc13-4cc5-f87b-839aa6017231"
   },
   "outputs": [
    {
     "data": {
      "text/plain": [
       "array([2011, 2015, 2008, 2012, 2014, 2013, 2009, 2016, 2010, 2018, 2017,\n",
       "       2007, 2006])"
      ]
     },
     "execution_count": 24,
     "metadata": {
      "tags": []
     },
     "output_type": "execute_result"
    }
   ],
   "source": [
    "# Sobre este rango de años vamos a calcular la evolución.\n",
    "# TODO: Aquí hay un posible error que tampoco vamos a considerar, como en \n",
    "#    la celda anterior. ¿Sabríais cual es?\n",
    "hiring_years = df_tot[\"year_hire\"].unique()\n",
    "hiring_years"
   ]
  },
  {
   "cell_type": "markdown",
   "metadata": {
    "id": "XCLyX7Y6GVI1"
   },
   "source": [
    "#### 6. Contar personas"
   ]
  },
  {
   "cell_type": "markdown",
   "metadata": {
    "id": "BdBjGgDUGVI1"
   },
   "source": [
    "Esto es solo una manera, puede haber muchas otras maneras no consideréis esto como la verdad absoluta.\n",
    "\n",
    "El proceso que busco es contar mujeres y hombres por año que estén contratados. Esto lo vamos a realizar mediante máscaras sobre un dataframe donde consideramos que una persona está activa en un año dado siempre y cuando **su fecha de contratación sea menor o igual que la fecha en curso y además la fecha de fin de contrato sea mayor que la fecha en curso**."
   ]
  },
  {
   "cell_type": "code",
   "execution_count": null,
   "metadata": {
    "id": "HLr2PYq3GVI1",
    "outputId": "d122d685-dd20-4d4d-83ae-3051b2a71ef2"
   },
   "outputs": [
    {
     "data": {
      "text/plain": [
       "{2011: {'F': 64, 'M ': 37},\n",
       " 2015: {'F': 126, 'M ': 103},\n",
       " 2008: {'F': 3, 'M ': 3},\n",
       " 2012: {'F': 82, 'M ': 56},\n",
       " 2014: {'F': 121, 'M ': 95},\n",
       " 2013: {'F': 98, 'M ': 71},\n",
       " 2009: {'F': 8, 'M ': 5},\n",
       " 2016: {'F': 124, 'M ': 97},\n",
       " 2010: {'F': 13, 'M ': 8},\n",
       " 2018: {},\n",
       " 2017: {'F': 122, 'M ': 97},\n",
       " 2007: {'M ': 3},\n",
       " 2006: {'M ': 1}}"
      ]
     },
     "execution_count": 25,
     "metadata": {
      "tags": []
     },
     "output_type": "execute_result"
    }
   ],
   "source": [
    "igualdad_info = dict()\n",
    "for year in hiring_years:\n",
    "    igualdad_info[year] = df_tot[(df_tot[\"year_hire\"] <= year) & (df_tot[\"year_term\"] > year)] \\\n",
    "                            .groupby([\"Sex\"])[\"EmpID\"].count().to_dict()\n",
    "igualdad_info"
   ]
  },
  {
   "cell_type": "markdown",
   "metadata": {
    "id": "HIlkka4DGVI1"
   },
   "source": [
    "Ahora vamos a darle un formato de dataframe"
   ]
  },
  {
   "cell_type": "code",
   "execution_count": null,
   "metadata": {
    "id": "mOyH9PFgGVI2"
   },
   "outputs": [],
   "source": [
    "igualdad = pd.DataFrame(igualdad_info).unstack()  # Mediante esto obtendríamos una Serie\n",
    "igualdad.index.set_names([\"year\", \"sex\"], inplace=True)  # Con esto renombramos el multi-indice\n",
    "igualdad = igualdad.reset_index()  # Con esto estaríamos convirtiendo a DataFrame\n",
    "igualdad.rename(columns={0: \"total\"}, inplace=True)  # Con esto estamos renombrando la columna de total de personas\n",
    "igualdad.fillna(0, inplace=True)  # Con esto estamos rellenando los posible vacíos"
   ]
  },
  {
   "cell_type": "code",
   "execution_count": null,
   "metadata": {
    "id": "4GYXvz8SGVI2",
    "outputId": "3eb624ee-c0f0-43eb-a475-870a8f44b0ca"
   },
   "outputs": [
    {
     "data": {
      "text/html": [
       "<div>\n",
       "<style scoped>\n",
       "    .dataframe tbody tr th:only-of-type {\n",
       "        vertical-align: middle;\n",
       "    }\n",
       "\n",
       "    .dataframe tbody tr th {\n",
       "        vertical-align: top;\n",
       "    }\n",
       "\n",
       "    .dataframe thead th {\n",
       "        text-align: right;\n",
       "    }\n",
       "</style>\n",
       "<table border=\"1\" class=\"dataframe\">\n",
       "  <thead>\n",
       "    <tr style=\"text-align: right;\">\n",
       "      <th></th>\n",
       "      <th>year</th>\n",
       "      <th>sex</th>\n",
       "      <th>total</th>\n",
       "    </tr>\n",
       "  </thead>\n",
       "  <tbody>\n",
       "    <tr>\n",
       "      <th>0</th>\n",
       "      <td>2011</td>\n",
       "      <td>F</td>\n",
       "      <td>64.0</td>\n",
       "    </tr>\n",
       "    <tr>\n",
       "      <th>1</th>\n",
       "      <td>2011</td>\n",
       "      <td>M</td>\n",
       "      <td>37.0</td>\n",
       "    </tr>\n",
       "    <tr>\n",
       "      <th>2</th>\n",
       "      <td>2015</td>\n",
       "      <td>F</td>\n",
       "      <td>126.0</td>\n",
       "    </tr>\n",
       "    <tr>\n",
       "      <th>3</th>\n",
       "      <td>2015</td>\n",
       "      <td>M</td>\n",
       "      <td>103.0</td>\n",
       "    </tr>\n",
       "    <tr>\n",
       "      <th>4</th>\n",
       "      <td>2008</td>\n",
       "      <td>F</td>\n",
       "      <td>3.0</td>\n",
       "    </tr>\n",
       "  </tbody>\n",
       "</table>\n",
       "</div>"
      ],
      "text/plain": [
       "   year sex  total\n",
       "0  2011   F   64.0\n",
       "1  2011  M    37.0\n",
       "2  2015   F  126.0\n",
       "3  2015  M   103.0\n",
       "4  2008   F    3.0"
      ]
     },
     "execution_count": 28,
     "metadata": {
      "tags": []
     },
     "output_type": "execute_result"
    }
   ],
   "source": [
    "igualdad.head(3)"
   ]
  },
  {
   "cell_type": "markdown",
   "metadata": {
    "id": "WMRtxOd-GVI2"
   },
   "source": [
    "Finalmente para añadir la información percentual vamos a agrupar unir y dividir"
   ]
  },
  {
   "cell_type": "code",
   "execution_count": null,
   "metadata": {
    "id": "ZJcdsbgKGVI3",
    "outputId": "08c44c57-aa4a-431e-d35d-ead5639f509d"
   },
   "outputs": [
    {
     "data": {
      "text/html": [
       "<div>\n",
       "<style scoped>\n",
       "    .dataframe tbody tr th:only-of-type {\n",
       "        vertical-align: middle;\n",
       "    }\n",
       "\n",
       "    .dataframe tbody tr th {\n",
       "        vertical-align: top;\n",
       "    }\n",
       "\n",
       "    .dataframe thead th {\n",
       "        text-align: right;\n",
       "    }\n",
       "</style>\n",
       "<table border=\"1\" class=\"dataframe\">\n",
       "  <thead>\n",
       "    <tr style=\"text-align: right;\">\n",
       "      <th></th>\n",
       "      <th>year</th>\n",
       "      <th>total</th>\n",
       "    </tr>\n",
       "  </thead>\n",
       "  <tbody>\n",
       "    <tr>\n",
       "      <th>0</th>\n",
       "      <td>2006</td>\n",
       "      <td>1.0</td>\n",
       "    </tr>\n",
       "    <tr>\n",
       "      <th>1</th>\n",
       "      <td>2007</td>\n",
       "      <td>3.0</td>\n",
       "    </tr>\n",
       "    <tr>\n",
       "      <th>2</th>\n",
       "      <td>2008</td>\n",
       "      <td>6.0</td>\n",
       "    </tr>\n",
       "  </tbody>\n",
       "</table>\n",
       "</div>"
      ],
      "text/plain": [
       "   year  total\n",
       "0  2006    1.0\n",
       "1  2007    3.0\n",
       "2  2008    6.0"
      ]
     },
     "execution_count": 29,
     "metadata": {
      "tags": []
     },
     "output_type": "execute_result"
    }
   ],
   "source": [
    "df_grp = igualdad.groupby(\"year\", as_index=False)[\"total\"].sum()\n",
    "df_grp.head(3)"
   ]
  },
  {
   "cell_type": "code",
   "execution_count": null,
   "metadata": {
    "id": "CqZxXCSVGVI3",
    "outputId": "e4329639-4e47-4e77-c866-2e5964dd424f"
   },
   "outputs": [
    {
     "data": {
      "text/html": [
       "<div>\n",
       "<style scoped>\n",
       "    .dataframe tbody tr th:only-of-type {\n",
       "        vertical-align: middle;\n",
       "    }\n",
       "\n",
       "    .dataframe tbody tr th {\n",
       "        vertical-align: top;\n",
       "    }\n",
       "\n",
       "    .dataframe thead th {\n",
       "        text-align: right;\n",
       "    }\n",
       "</style>\n",
       "<table border=\"1\" class=\"dataframe\">\n",
       "  <thead>\n",
       "    <tr style=\"text-align: right;\">\n",
       "      <th></th>\n",
       "      <th>year</th>\n",
       "      <th>sex</th>\n",
       "      <th>total_sex</th>\n",
       "      <th>total_year</th>\n",
       "    </tr>\n",
       "  </thead>\n",
       "  <tbody>\n",
       "    <tr>\n",
       "      <th>0</th>\n",
       "      <td>2011</td>\n",
       "      <td>F</td>\n",
       "      <td>64.0</td>\n",
       "      <td>101.0</td>\n",
       "    </tr>\n",
       "    <tr>\n",
       "      <th>1</th>\n",
       "      <td>2011</td>\n",
       "      <td>M</td>\n",
       "      <td>37.0</td>\n",
       "      <td>101.0</td>\n",
       "    </tr>\n",
       "    <tr>\n",
       "      <th>2</th>\n",
       "      <td>2015</td>\n",
       "      <td>F</td>\n",
       "      <td>126.0</td>\n",
       "      <td>229.0</td>\n",
       "    </tr>\n",
       "  </tbody>\n",
       "</table>\n",
       "</div>"
      ],
      "text/plain": [
       "   year sex  total_sex  total_year\n",
       "0  2011   F       64.0       101.0\n",
       "1  2011  M        37.0       101.0\n",
       "2  2015   F      126.0       229.0"
      ]
     },
     "execution_count": 32,
     "metadata": {
      "tags": []
     },
     "output_type": "execute_result"
    }
   ],
   "source": [
    "df_ig = pd.merge(igualdad, df_grp, on=\"year\", how=\"inner\", suffixes=(\"_sex\", \"_year\"))\n",
    "df_ig.head(3)"
   ]
  },
  {
   "cell_type": "code",
   "execution_count": null,
   "metadata": {
    "id": "QfIhm-joGVI3",
    "outputId": "8448845b-031c-4d68-c912-852b340dd2c9"
   },
   "outputs": [
    {
     "data": {
      "text/html": [
       "<div>\n",
       "<style scoped>\n",
       "    .dataframe tbody tr th:only-of-type {\n",
       "        vertical-align: middle;\n",
       "    }\n",
       "\n",
       "    .dataframe tbody tr th {\n",
       "        vertical-align: top;\n",
       "    }\n",
       "\n",
       "    .dataframe thead th {\n",
       "        text-align: right;\n",
       "    }\n",
       "</style>\n",
       "<table border=\"1\" class=\"dataframe\">\n",
       "  <thead>\n",
       "    <tr style=\"text-align: right;\">\n",
       "      <th></th>\n",
       "      <th>year</th>\n",
       "      <th>sex</th>\n",
       "      <th>total_sex</th>\n",
       "      <th>total_year</th>\n",
       "      <th>percent</th>\n",
       "    </tr>\n",
       "  </thead>\n",
       "  <tbody>\n",
       "    <tr>\n",
       "      <th>0</th>\n",
       "      <td>2011</td>\n",
       "      <td>F</td>\n",
       "      <td>64.0</td>\n",
       "      <td>101.0</td>\n",
       "      <td>63.37</td>\n",
       "    </tr>\n",
       "    <tr>\n",
       "      <th>1</th>\n",
       "      <td>2011</td>\n",
       "      <td>M</td>\n",
       "      <td>37.0</td>\n",
       "      <td>101.0</td>\n",
       "      <td>36.63</td>\n",
       "    </tr>\n",
       "    <tr>\n",
       "      <th>2</th>\n",
       "      <td>2015</td>\n",
       "      <td>F</td>\n",
       "      <td>126.0</td>\n",
       "      <td>229.0</td>\n",
       "      <td>55.02</td>\n",
       "    </tr>\n",
       "  </tbody>\n",
       "</table>\n",
       "</div>"
      ],
      "text/plain": [
       "   year sex  total_sex  total_year  percent\n",
       "0  2011   F       64.0       101.0    63.37\n",
       "1  2011  M        37.0       101.0    36.63\n",
       "2  2015   F      126.0       229.0    55.02"
      ]
     },
     "execution_count": 35,
     "metadata": {
      "tags": []
     },
     "output_type": "execute_result"
    }
   ],
   "source": [
    "df_ig[\"percent\"] = (100 * df_ig[\"total_sex\"] / df_ig[\"total_year\"]).round(2)\n",
    "df_ig.head(3)"
   ]
  },
  {
   "cell_type": "code",
   "execution_count": null,
   "metadata": {
    "id": "ge0uwwApGVI3",
    "outputId": "b0cd8049-523a-4f9c-bbd2-611189a41da4"
   },
   "outputs": [
    {
     "data": {
      "image/png": "[encoded data removed]",
      "text/plain": [
       "<Figure size 432x288 with 1 Axes>"
      ]
     },
     "metadata": {
      "needs_background": "light",
      "tags": []
     },
     "output_type": "display_data"
    }
   ],
   "source": [
    "sns.scatterplot(data=df_ig, x=\"year\", y=\"percent\", hue=\"sex\")\n",
    "sns.lineplot(x=hiring_years, y=[50] * len(hiring_years), color=\"red\");"
   ]
  },
  {
   "cell_type": "markdown",
   "metadata": {
    "id": "q6RO325sGVI3"
   },
   "source": [
    "---\n",
    "\n",
    "Una vez que sabemos el proceso con el cual obtenemos el resultado llega el momento de escribirlo en una API que se pueda consumir."
   ]
  },
  {
   "cell_type": "code",
   "execution_count": null,
   "metadata": {
    "id": "4Jy1tJ0eGVI4"
   },
   "outputs": [],
   "source": []
  }
 ],
 "metadata": {
  "colab": {
   "name": "ej_01_apoyo_i.ipynb",
   "provenance": []
  },
  "kernelspec": {
   "display_name": "Python 3",
   "language": "python",
   "name": "python3"
  },
  "language_info": {
   "codemirror_mode": {
    "name": "ipython",
    "version": 3
   },
   "file_extension": ".py",
   "mimetype": "text/x-python",
   "name": "python",
   "nbconvert_exporter": "python",
   "pygments_lexer": "ipython3",
   "version": "3.8.5"
  }
 },
 "nbformat": 4,
 "nbformat_minor": 4
}
