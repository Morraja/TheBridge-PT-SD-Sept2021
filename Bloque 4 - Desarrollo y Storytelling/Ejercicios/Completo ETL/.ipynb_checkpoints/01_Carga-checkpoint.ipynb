{
 "cells": [
  {
   "cell_type": "code",
   "execution_count": 3,
   "metadata": {},
   "outputs": [],
   "source": [
    "import json\n",
    "import random\n",
    "import requests\n",
    "\n",
    "import pandas as pd\n",
    "import numpy as np"
   ]
  },
  {
   "cell_type": "code",
   "execution_count": 19,
   "metadata": {},
   "outputs": [],
   "source": [
    "# Esta es la dirección donde tenemos alojada la API que acabamos de crear\n",
    "url = \"http://127.0.0.1:5000/\""
   ]
  },
  {
   "cell_type": "code",
   "execution_count": 26,
   "metadata": {},
   "outputs": [],
   "source": [
    "#Leo los csv\n",
    "df_lab = pd.read_csv(\"./datos/datos_laborales.csv\")\n",
    "df_pers = pd.read_csv(\"./datos/datos_personales.csv\")\n",
    "df_desemp = pd.read_csv(\"./datos/datos_desempenio.csv\") \n"
   ]
  },
  {
   "cell_type": "code",
   "execution_count": 32,
   "metadata": {},
   "outputs": [],
   "source": [
    "#Transoformo los dataframe a json y luego creo un dicionario y meto los tres dataframe y lo transformo todo a Json\n",
    "js1 = df_lab.to_json(orient = 'table')\n",
    "js2 = df_pers.to_json(orient = 'table')\n",
    "js3 = df_desemp.to_json(orient = 'table')\n",
    "Dict_paso={}\n",
    "Dict_paso={'lab': js1, 'pers': js2, 'desemp': js3}\n",
    "data_dic = json.dumps(Dict_paso)\n"
   ]
  },
  {
   "cell_type": "code",
   "execution_count": 34,
   "metadata": {},
   "outputs": [
    {
     "name": "stdout",
     "output_type": "stream",
     "text": [
      "True\n"
     ]
    }
   ],
   "source": [
    "#creo la llamada a la api y le mando a la api los datos\n",
    "headers = {\n",
    "    \"content-type\": \"application/json\",\n",
    "    \"Accept-Charset\": \"UTF-8\"\n",
    "}\n",
    "\n",
    "r = requests.post(url + \"api/\", data=data_dic, headers=headers)\n",
    "print(r.text)"
   ]
  },
  {
   "cell_type": "code",
   "execution_count": null,
   "metadata": {},
   "outputs": [],
   "source": []
  },
  {
   "cell_type": "code",
   "execution_count": null,
   "metadata": {},
   "outputs": [],
   "source": []
  }
 ],
 "metadata": {
  "kernelspec": {
   "display_name": "Python 3",
   "language": "python",
   "name": "python3"
  },
  "language_info": {
   "codemirror_mode": {
    "name": "ipython",
    "version": 3
   },
   "file_extension": ".py",
   "mimetype": "text/x-python",
   "name": "python",
   "nbconvert_exporter": "python",
   "pygments_lexer": "ipython3",
   "version": "3.8.5"
  }
 },
 "nbformat": 4,
 "nbformat_minor": 4
}
