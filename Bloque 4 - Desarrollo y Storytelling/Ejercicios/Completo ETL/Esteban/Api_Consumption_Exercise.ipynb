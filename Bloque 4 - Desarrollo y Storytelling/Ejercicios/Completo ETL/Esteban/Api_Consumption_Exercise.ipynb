{
 "cells": [
  {
   "cell_type": "markdown",
   "id": "0327a2da",
   "metadata": {},
   "source": [
    "# Solucion al notebook de consumo"
   ]
  },
  {
   "cell_type": "code",
   "execution_count": 62,
   "id": "9b78b444",
   "metadata": {},
   "outputs": [],
   "source": [
    "import requests\n",
    "import pandas as pd\n",
    "import seaborn as sns\n",
    "import json"
   ]
  },
  {
   "cell_type": "markdown",
   "id": "19f2cbe9",
   "metadata": {},
   "source": [
    "## 1. Establecemos cual es la ruta donde se aloja la API"
   ]
  },
  {
   "cell_type": "code",
   "execution_count": 8,
   "id": "21a08663",
   "metadata": {},
   "outputs": [],
   "source": [
    "url = \"http://localhost:9090/\""
   ]
  },
  {
   "cell_type": "markdown",
   "id": "43c1f7ba",
   "metadata": {},
   "source": [
    "## 2. Cargamos los datos"
   ]
  },
  {
   "cell_type": "code",
   "execution_count": 9,
   "id": "17b262fd",
   "metadata": {},
   "outputs": [],
   "source": [
    "path = \"./datos/\"\n",
    "\n",
    "df_pers = pd.read_csv(path + \"datos_personales.csv\")\n",
    "df_lab = pd.read_csv(path + \"datos_laborales.csv\")"
   ]
  },
  {
   "cell_type": "markdown",
   "id": "d175548b",
   "metadata": {},
   "source": [
    "Los datos ahora los tenemos que escribir en el formato adecuado para poder pasarlos a través de la red."
   ]
  },
  {
   "cell_type": "code",
   "execution_count": 10,
   "id": "cf1a9df4",
   "metadata": {},
   "outputs": [],
   "source": [
    "inputs = {\n",
    "    'datos_laborales': df_lab.to_json(),\n",
    "    'datos_personales': df_pers.to_json()\n",
    "}"
   ]
  },
  {
   "cell_type": "markdown",
   "id": "c41203fb",
   "metadata": {},
   "source": [
    "## 3. Enviamos la petición"
   ]
  },
  {
   "cell_type": "code",
   "execution_count": 55,
   "id": "b7d23020",
   "metadata": {},
   "outputs": [],
   "source": [
    "headers = {\n",
    "    \"content-type\": \"application/json\",\n",
    "    \"Accept-Charset\": \"UTF-8\"\n",
    "}\n",
    "\n",
    "response = requests.post(url + \"etl/\", data=json.dumps(inputs), headers=headers)"
   ]
  },
  {
   "cell_type": "code",
   "execution_count": 56,
   "id": "1c1177cb",
   "metadata": {},
   "outputs": [
    {
     "data": {
      "text/plain": [
       "<Response [200]>"
      ]
     },
     "execution_count": 56,
     "metadata": {},
     "output_type": "execute_result"
    }
   ],
   "source": [
    "response"
   ]
  },
  {
   "cell_type": "markdown",
   "id": "160c8cf1",
   "metadata": {},
   "source": [
    "## 4. Procesamos la respuesta de la peticion"
   ]
  },
  {
   "cell_type": "markdown",
   "id": "80406f66",
   "metadata": {},
   "source": [
    "Como la respuesta de la peticion esta en un formato que no es a"
   ]
  },
  {
   "cell_type": "code",
   "execution_count": 61,
   "id": "749d5aaf",
   "metadata": {},
   "outputs": [],
   "source": [
    "df = pd.read_json(json.loads(response.text).get(\"resultado\"))\n",
    "hiring_years = df[\"year\"].unique()"
   ]
  },
  {
   "cell_type": "code",
   "execution_count": 66,
   "id": "5b2a600f",
   "metadata": {},
   "outputs": [
    {
     "data": {
      "image/png": "[encoded data removed]",
      "text/plain": [
       "<Figure size 432x288 with 1 Axes>"
      ]
     },
     "metadata": {
      "needs_background": "light"
     },
     "output_type": "display_data"
    }
   ],
   "source": [
    "sns.scatterplot(data=df, x=\"year\", y=\"percent\", hue=\"sex\")\n",
    "sns.lineplot(x=hiring_years, y=[50] * len(hiring_years), color=\"red\");"
   ]
  },
  {
   "cell_type": "code",
   "execution_count": 64,
   "id": "87abf88c",
   "metadata": {},
   "outputs": [],
   "source": []
  },
  {
   "cell_type": "code",
   "execution_count": 65,
   "id": "7800da47",
   "metadata": {},
   "outputs": [
    {
     "data": {
      "image/png": "[encoded data removed]",
      "text/plain": [
       "<Figure size 432x288 with 1 Axes>"
      ]
     },
     "metadata": {
      "needs_background": "light"
     },
     "output_type": "display_data"
    }
   ],
   "source": [
    "sns.lineplot(x=hiring_years, y=[50] * len(hiring_years), color=\"red\");"
   ]
  },
  {
   "cell_type": "code",
   "execution_count": null,
   "id": "dec46af7",
   "metadata": {},
   "outputs": [],
   "source": []
  }
 ],
 "metadata": {
  "kernelspec": {
   "display_name": "Python 3",
   "language": "python",
   "name": "python3"
  },
  "language_info": {
   "codemirror_mode": {
    "name": "ipython",
    "version": 3
   },
   "file_extension": ".py",
   "mimetype": "text/x-python",
   "name": "python",
   "nbconvert_exporter": "python",
   "pygments_lexer": "ipython3",
   "version": "3.8.8"
  }
 },
 "nbformat": 4,
 "nbformat_minor": 5
}
