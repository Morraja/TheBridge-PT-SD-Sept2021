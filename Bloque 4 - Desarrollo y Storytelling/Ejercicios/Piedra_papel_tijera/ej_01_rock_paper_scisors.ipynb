{
  "nbformat": 4,
  "nbformat_minor": 5,
  "metadata": {
    "kernelspec": {
      "display_name": "Python 3",
      "language": "python",
      "name": "python3"
    },
    "language_info": {
      "codemirror_mode": {
        "name": "ipython",
        "version": 3
      },
      "file_extension": ".py",
      "mimetype": "text/x-python",
      "name": "python",
      "nbconvert_exporter": "python",
      "pygments_lexer": "ipython3",
      "version": "3.8.5"
    },
    "colab": {
      "name": "ej_01_rock_paper_scisors.ipynb",
      "provenance": []
    }
  },
  "cells": [
    {
      "cell_type": "markdown",
      "metadata": {
        "id": "DYqvTjHo1P6V"
      },
      "source": [
        "# Piedra Papel o Tijaras 1, 2 y ..."
      ],
      "id": "DYqvTjHo1P6V"
    },
    {
      "cell_type": "markdown",
      "metadata": {
        "id": "EgEAt3IJ1P6c"
      },
      "source": [
        "Programar el juego de piedra papel y tijeras haciendo uso de un entorno de programación como [Atom](https://atom.io/) o [PyCharm](https://www.jetbrains.com/pycharm/).\n",
        "\n",
        "Las reglas son sencillas:\n",
        "1. Piedra gana a tijeras.\n",
        "2. Tijeras gana a papel.\n",
        "3. Papel gana a piedra.\n",
        "\n",
        "Además vamos a implementar \n",
        "- Si hay empate: Se sigue jugando hasta desempatar.\n",
        "- Si perdemos: Se muestra un mensaje de derrota y se acaba el juego.\n",
        "- Si ganamos: Se muestra un mensaje de victoria y se acaba el juego.\n",
        "\n",
        "---\n",
        "\n",
        "**NOTA:** La elección de las opciones por parte de la máquina debe ser aleatoria.\n",
        "\n",
        "<sup>*</sup> Aplica lo aprendido de creación de entornos virtuales. Y aquitectura de código."
      ],
      "id": "EgEAt3IJ1P6c"
    },
    {
      "cell_type": "code",
      "metadata": {
        "id": "l4x4_7aG1P6d"
      },
      "source": [
        ""
      ],
      "id": "l4x4_7aG1P6d",
      "execution_count": null,
      "outputs": []
    }
  ]
}