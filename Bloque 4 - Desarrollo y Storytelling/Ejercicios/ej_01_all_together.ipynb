{
 "cells": [
  {
   "cell_type": "markdown",
   "metadata": {
    "id": "c1df4100"
   },
   "source": [
    "# Proceso ETL"
   ]
  },
  {
   "cell_type": "markdown",
   "metadata": {
    "id": "3a460cf7"
   },
   "source": [
    "La persona encargada de recursos humanos de una empresa quiere ver cómo ha evolucionado la igualdad de género en la empresa a través de los años. Además quiere llevar un control cada 4 meses de cómo va evolucionando.\n",
    "\n",
    "Como somos unos cracks en esto de la ciencia de datos nos piden que hagamos el siguiente estudio:\n",
    "- Porcentage de hombres y mujeres activos y activas por año.\n",
    "- Evolución del salario medio de hombres y mujeres que se encuentren en activo por año.\n",
    "- Añadir una métrica que nos ayude a visualizar como ha variado la empresa a través de los años.\n",
    "\n",
    "**INPUTS**\n",
    "\n",
    "Vamos a disponer de los siguientes archivos:\n",
    "```console\n",
    "./datos/datos_desempenio.csv\n",
    "./datos/datos_laborales.csv\n",
    "./datos/datos_personales.csv\n",
    "```\n",
    "\n",
    "El significado de cada columna se encuentra en [RRHH-Description](https://rpubs.com/rhuebner/hr_codebook_v14)\n",
    "\n",
    "**OUTPUTS**\n",
    "\n",
    "Nos piden que saquemos un csv por cada estudio para que luego presentemos en un Jupyter Notebook los datos con gráficos.\n",
    "\n",
    "**OPCIONAL**\n",
    "Estos ejercicios opcionales son para la parte de las gráficas.\n",
    "- ¿Puedes calcular el crecimiento anual de las contrataciones de mujeres y hombres? *Growth Factor*\n",
    "---\n",
    "\n",
    "**NOTAS**\n",
    "\n",
    "- Utiliza lo aprendido de entornos virtuales.\n",
    "- Pasos recomendados:\n",
    "    * Primero: Explora los datos en un Notebook para elaborar el plan de ejecución.\n",
    "    * Segundo: Teniendo claro el plan de ejecución, crea una API para implementarlo pasandole los tres archivos por separado o uno con toda la información conjunta.\n",
    "    * Tercero: Crea un notebook de ejecución de la API y además añade las gráficas que se piden."
   ]
  },
  {
   "cell_type": "code",
   "execution_count": null,
   "metadata": {
    "id": "6be772eb"
   },
   "outputs": [],
   "source": []
  }
 ],
 "metadata": {
  "colab": {
   "name": "ej_01_all_together.ipynb",
   "provenance": []
  },
  "kernelspec": {
   "display_name": "Python 3",
   "language": "python",
   "name": "python3"
  },
  "language_info": {
   "codemirror_mode": {
    "name": "ipython",
    "version": 3
   },
   "file_extension": ".py",
   "mimetype": "text/x-python",
   "name": "python",
   "nbconvert_exporter": "python",
   "pygments_lexer": "ipython3",
   "version": "3.8.5"
  }
 },
 "nbformat": 4,
 "nbformat_minor": 5
}
