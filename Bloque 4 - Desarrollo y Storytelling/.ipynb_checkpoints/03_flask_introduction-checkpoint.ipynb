{
  "nbformat": 4,
  "nbformat_minor": 5,
  "metadata": {
    "kernelspec": {
      "display_name": "Python 3",
      "language": "python",
      "name": "python3"
    },
    "language_info": {
      "codemirror_mode": {
        "name": "ipython",
        "version": 3
      },
      "file_extension": ".py",
      "mimetype": "text/x-python",
      "name": "python",
      "nbconvert_exporter": "python",
      "pygments_lexer": "ipython3",
      "version": "3.8.8"
    },
    "colab": {
      "name": "03_flask_introduction.ipynb",
      "provenance": []
    }
  },
  "cells": [
    {
      "cell_type": "markdown",
      "metadata": {
        "id": "0e173e21"
      },
      "source": [
        "# Introducción a Flask"
      ],
      "id": "0e173e21"
    },
    {
      "cell_type": "markdown",
      "metadata": {
        "id": "1062db19"
      },
      "source": [
        "#### INDICE\n",
        "- I. Flask \"Hello World\".\n",
        "- II. Extrayendo información.\n",
        "- III. Variables en Flask. Una primera aproximación.\n",
        "- Recursos"
      ],
      "id": "1062db19"
    },
    {
      "cell_type": "markdown",
      "metadata": {
        "id": "81a36d2a"
      },
      "source": [
        "## I. Flask \"Hello World\""
      ],
      "id": "81a36d2a"
    },
    {
      "cell_type": "code",
      "metadata": {
        "id": "f5143ac5"
      },
      "source": [
        "from flask import Flask\n",
        "\n",
        "app = Flask(__name__)\n",
        "\n",
        "@app.route('/')\n",
        "def index():\n",
        "    return 'Web App with Python Flask!'\n",
        "\n",
        "@app.route(\"/hw\")\n",
        "def helloworld():\n",
        "    return \"Hello World Flask\"\n",
        "\n",
        "app.run(host='0.0.0.0', port=81)"
      ],
      "id": "f5143ac5",
      "execution_count": null,
      "outputs": []
    },
    {
      "cell_type": "markdown",
      "metadata": {
        "id": "8acf28db"
      },
      "source": [
        "## II. Extrayendo información"
      ],
      "id": "8acf28db"
    },
    {
      "cell_type": "code",
      "metadata": {
        "id": "537bc220",
        "outputId": "abe5e568-39ae-420d-f7b4-b50b4d47e42b"
      },
      "source": [
        "import json\n",
        "from flask import Flask\n",
        "\n",
        "app = Flask(__name__)\n",
        "\n",
        "@app.route('/')\n",
        "def index():\n",
        "    return 'Web App with Python Flask!'\n",
        "\n",
        "@app.route(\"/hw\")\n",
        "def helloworld():\n",
        "    return \"Hello World Flask\"\n",
        "\n",
        "@app.route(\"/get_data\")\n",
        "def get_data():\n",
        "    data = {\n",
        "        \"name\": \"Iron Man\",\n",
        "        \"job\": \"Avenger\"\n",
        "    }\n",
        "    return json.dumps(data)\n",
        "\n",
        "app.run(host='0.0.0.0', port=81)"
      ],
      "id": "537bc220",
      "execution_count": null,
      "outputs": [
        {
          "output_type": "stream",
          "text": [
            " * Serving Flask app \"__main__\" (lazy loading)\n",
            " * Environment: production\n",
            "   WARNING: This is a development server. Do not use it in a production deployment.\n",
            "   Use a production WSGI server instead.\n",
            " * Debug mode: off\n"
          ],
          "name": "stdout"
        },
        {
          "output_type": "stream",
          "text": [
            " * Running on http://0.0.0.0:81/ (Press CTRL+C to quit)\n",
            "127.0.0.1 - - [15/Apr/2021 15:34:48] \"\u001b[37mGET /user/esan HTTP/1.1\u001b[0m\" 200 -\n",
            "127.0.0.1 - - [15/Apr/2021 15:34:58] \"\u001b[37mGET /user/javi HTTP/1.1\u001b[0m\" 200 -\n"
          ],
          "name": "stderr"
        }
      ]
    },
    {
      "cell_type": "markdown",
      "metadata": {
        "id": "f9ba916a"
      },
      "source": [
        "## III. Variables en Flask. Una primera aproximación."
      ],
      "id": "f9ba916a"
    },
    {
      "cell_type": "code",
      "metadata": {
        "id": "05400771"
      },
      "source": [
        "import json\n",
        "from flask import Flask\n",
        "from markupsafe import escape\n",
        "\n",
        "app = Flask(__name__)\n",
        "\n",
        "@app.route('/')\n",
        "def index():\n",
        "    return 'Web App with Python Flask!'\n",
        "\n",
        "@app.route(\"/hw\")\n",
        "def helloworld():\n",
        "    return \"Hello World Flask\"\n",
        "\n",
        "@app.route(\"/get_data\")\n",
        "def get_data():\n",
        "    data = {\n",
        "        \"name\": \"Iron Man\",\n",
        "        \"job\": \"Avenger\"\n",
        "    }\n",
        "    return json.dumps(data)\n",
        "\n",
        "@app.route('/user/<username>')\n",
        "def show_user_profile(username):\n",
        "    return 'User %s' % escape(username)\n",
        "\n",
        "app.run(host='0.0.0.0', port=81)"
      ],
      "id": "05400771",
      "execution_count": null,
      "outputs": []
    },
    {
      "cell_type": "markdown",
      "metadata": {
        "id": "0484724e"
      },
      "source": [
        "## Recursos"
      ],
      "id": "0484724e"
    },
    {
      "cell_type": "markdown",
      "metadata": {
        "id": "d16668f2"
      },
      "source": [
        "- [Flask Quickstart](https://flask.palletsprojects.com/en/1.1.x/quickstart/)\n",
        "- [Flask + Docker](https://medium.com/@ackonrichard/how-to-deploy-machine-learning-models-using-flask-docker-and-google-cloud-platform-gcp-6e7bf1b339d5)\n",
        "- [Create Api With Flask](https://programminghistorian.org/en/lessons/creating-apis-with-python-and-flask)"
      ],
      "id": "d16668f2"
    },
    {
      "cell_type": "code",
      "metadata": {
        "id": "cf2be40d"
      },
      "source": [
        ""
      ],
      "id": "cf2be40d",
      "execution_count": null,
      "outputs": []
    }
  ]
}