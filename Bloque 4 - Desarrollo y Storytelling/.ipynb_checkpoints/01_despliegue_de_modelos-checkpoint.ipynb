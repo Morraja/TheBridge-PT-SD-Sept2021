{
  "nbformat": 4,
  "nbformat_minor": 5,
  "metadata": {
    "kernelspec": {
      "display_name": "Python 3",
      "language": "python",
      "name": "python3"
    },
    "language_info": {
      "codemirror_mode": {
        "name": "ipython",
        "version": 3
      },
      "file_extension": ".py",
      "mimetype": "text/x-python",
      "name": "python",
      "nbconvert_exporter": "python",
      "pygments_lexer": "ipython3",
      "version": "3.8.8"
    },
    "colab": {
      "name": "01_despliegue_de_modelos.ipynb",
      "provenance": []
    }
  },
  "cells": [
    {
      "cell_type": "markdown",
      "metadata": {
        "id": "5c42f3a2"
      },
      "source": [
        "# Despliegue De Modelos"
      ],
      "id": "5c42f3a2"
    },
    {
      "cell_type": "markdown",
      "metadata": {
        "id": "40cc3efe"
      },
      "source": [
        "#### INDICE\n",
        "\n",
        "- I. Introducción.\n",
        "- II. Tipos de despliegue.\n",
        "- III. A tener en cuenta."
      ],
      "id": "40cc3efe"
    },
    {
      "cell_type": "markdown",
      "metadata": {
        "id": "e3cf6cb7"
      },
      "source": [
        "## I. Introducción"
      ],
      "id": "e3cf6cb7"
    },
    {
      "cell_type": "markdown",
      "metadata": {
        "id": "b271eb42"
      },
      "source": [
        "### ¿Cómo es el proceso de desarrollo?"
      ],
      "id": "b271eb42"
    },
    {
      "cell_type": "markdown",
      "metadata": {
        "id": "c673112a"
      },
      "source": [
        "Cuando estamos desarrollando un proyecto de ciencia de datos, podemos caer en la tentación de que el trabajo es con notebooks es buscar datos, es estandarizar y sacar un modelo. Pero esto no es cierto; todo ello es muy importante pero igual de importante es saber **¿cómo se va a usar el modelo?** Es muy importante saber que es lo que se necesita realmente para no caer en la tentación de hacer algo muy complejo que luego no se vaya a poder o no se vaya a saber usar. **Si tienes un modelo de DL muy bueno que luego es imposible poner en producción, es como tener un tío un Graná' que ni tienes tío ni tienes ná**. Por ello es muy importante tener en cuenta una serie de requisitios cuando nos enfrascamos en un proyecto de ciencia de datos."
      ],
      "id": "c673112a"
    },
    {
      "cell_type": "markdown",
      "metadata": {
        "id": "f7b6c0f2"
      },
      "source": [
        "### ¿Qué stack tecnológico estamos usando?"
      ],
      "id": "f7b6c0f2"
    },
    {
      "cell_type": "markdown",
      "metadata": {
        "id": "8cc810d9"
      },
      "source": [
        "Como es obvio necesitaremos un lenguaje de programación pero además necesitaremos una metodología de **gestion de tareas**, y una serie de herramientas que nos ayuden con la **puesta en producción**."
      ],
      "id": "8cc810d9"
    },
    {
      "cell_type": "markdown",
      "metadata": {
        "id": "e3df12f3"
      },
      "source": [
        "## II. Tipos de despliegue"
      ],
      "id": "e3df12f3"
    },
    {
      "cell_type": "markdown",
      "metadata": {
        "id": "f5b9a192"
      },
      "source": [
        "En función de lo que queramos construir podemos tener diferentes formas de poner modelos en producción:\n",
        "\n",
        "- **Batch Prediction**: O predicciones por lotes, esto es que a medida que vayamos teniendo nuevos datos vamos a ir prediciendo los resultados.\n",
        "\n",
        "- **Web Service**: Podemos disponer de un servicio web bajo demanda (API, aplicación web, ...) donde un usuario tiene a disposición una serie de herramientas predefinidas.\n",
        "\n",
        "- **Real Time Analytics**: Análisis en tiempo real. Sobre todo para proyectos de estadística descriptiva. Un ejemplo de ello es saber cómo de concurrido está el tráfico.\n",
        "\n",
        "- **On Premise Software**: O crear paquetes de software. Esto es crear aplicaciones propias o crear una librería de python o lanzar procesos en contenedores.\n",
        "\n",
        "- **Cloud**: Uso de servicios en cloud para poner en producción el modelo. Un ejemplo de AWS es CodeCommit, CodePipeline, SageMaker, EC2."
      ],
      "id": "f5b9a192"
    },
    {
      "cell_type": "markdown",
      "metadata": {
        "id": "b13755cd"
      },
      "source": [
        "## III. A tener en cuenta"
      ],
      "id": "b13755cd"
    },
    {
      "cell_type": "markdown",
      "metadata": {
        "id": "f9b6ea20"
      },
      "source": [
        "Una cosa es que tu modelo, o incluso tu proyecto, te funcione muy bien **en local y bajo tu propio conocimiento** y otra cosa muy diferente es que funcione para las personas a las que va dirigido y en los entornos adecuados, por ello hay que tener una serie de puntos a tener en cuenta:\n",
        "\n",
        "- **Reproducibilidad**: El producto (el modelo, la app o lo que sea) debe ser reproducible en diferentes entornos y nos ceñirnos solo a que funcione en nuestro ordenador. Imagináos por un momento que todo el modelo de predicción de una empresa de ayudas a PYMES se encuentre en el ordenador de un trabajador y este falla, se estropea o el trabajador se marcha, tendríamos un gran problema dado que si eso se pierde habría que empezar de 0. Por ello es muy importante que el producto se pueda reproducir en diferentes entornos.\n",
        "\n",
        "- **Automatizado**: Todo nuestro producto debe quedar automatizado lo máximo posible, esto quiere decir que hay que separar lo que son variables de configuración del producto de variables de entrada del producto y no tener nada \"Hard-codeado\". Debemos evitar al máximo el fallo humano y dejar que las tareas tediosas las realize el ordenador, que para eso está.\n",
        "\n",
        "- **Extensible y modular**: Esto es muy importante en pro al mantenimiento del producto. Hay que tratar de escribir la cantidad de líneas de código necesarias para evitar la duplicidad de código además de separar al máximo las características o funciones que realiza el producto con el fin de sea facil de mejorar y de añadir nuevas funcionalidades. Esto pasa por tener una estructura de código adecuada, funciones o clases que sean de tratamiento de datos en un archivo, las que sean de pipeline en otro, etc.\n",
        "\n",
        "- **Escalable**: El producto debe ser escalable, esto es que sea fácil de aumentar el número de peticiones. Por ejemplo, nuestro producto puede funcionar muy bien cuando lo consumen 100 usuarios todos los días, pero ¿que pasa cuando lo consumen 1000 o 10000? ¿sigue funcionando igual de bien? Estas preguntas se solucionan escribiendo código con buen rendimiento o aumentando la capacidad de las bases de datos o las máquinas donde se ejecuta el proceso.\n",
        "\n",
        "- **Tests**: En un proyecto de machine learning es si cabe más importante tener unos test de producto adecuados y bien estructurados dado que no solo tenemos que testear código, si no que tenemos que testear modelos, datos y código. Esto es muy útil cuando estás trabajando en un cambio y quieres saber si ese cambio afecta a procesos que estaban funcionando, deberíamos de ejecutar los tests y si todo sigue funcionando igual de bien es que el cambio no ha variado nada de lo que estaba funcionando.\n",
        "\n",
        "- **Mantenimiento**: Un buen mantenimiento del producto se consigue añadiendo:\n",
        "    - Logs: Conteo generales, tiempo de ejecución, etc.\n",
        "    - Documentación de código: Clases o funciones correctamente documentadas y lo más sencillas posibles, añadiendo comentarios para favorecer el entendimiento de lo que hace. Por muy buenos programadores que seamos es más fácil leer prosa que código.\n",
        "    - Documentación de la app: Tener una documentación de lo que hace el producto y de como lo hace es muy importante sobre todo de cara a los usuarios.\n",
        "    - Correcta escritura de código: Esto es un punto conflictivo porque cada uno escribe como cree que es mejor, pero siempre hay que trata de tener una misma convención, para ello nos podemos ayudar con librerías como [Mypy](https://mypy.readthedocs.io/en/stable/), [Black](https://pypi.org/project/black/), [Pylint](https://www.pylint.org/), [Librerías para control de código mantenible](https://opensource.com/article/18/7/7-python-libraries-more-maintainable-code).\n",
        "    - Buen control de versiones de producto."
      ],
      "id": "f9b6ea20"
    },
    {
      "cell_type": "code",
      "metadata": {
        "id": "e6a37dc0"
      },
      "source": [
        ""
      ],
      "id": "e6a37dc0",
      "execution_count": null,
      "outputs": []
    }
  ]
}