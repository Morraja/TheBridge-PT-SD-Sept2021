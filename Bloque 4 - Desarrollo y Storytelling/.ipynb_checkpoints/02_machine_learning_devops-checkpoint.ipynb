{
  "nbformat": 4,
  "nbformat_minor": 5,
  "metadata": {
    "kernelspec": {
      "display_name": "Python 3",
      "language": "python",
      "name": "python3"
    },
    "language_info": {
      "codemirror_mode": {
        "name": "ipython",
        "version": 3
      },
      "file_extension": ".py",
      "mimetype": "text/x-python",
      "name": "python",
      "nbconvert_exporter": "python",
      "pygments_lexer": "ipython3",
      "version": "3.8.8"
    },
    "colab": {
      "name": "02_machine_learning_devops.ipynb",
      "provenance": []
    }
  },
  "cells": [
    {
      "cell_type": "markdown",
      "metadata": {
        "id": "9acfa09c"
      },
      "source": [
        "# Machine Learning DevOps"
      ],
      "id": "9acfa09c"
    },
    {
      "cell_type": "markdown",
      "metadata": {
        "id": "14cc3811"
      },
      "source": [
        "Este notebook es un resumen del siguiente artículo: [Martin Fowler CD4ML](https://martinfowler.com/articles/cd4ml.html)"
      ],
      "id": "14cc3811"
    },
    {
      "cell_type": "markdown",
      "metadata": {
        "id": "76c6efeb"
      },
      "source": [
        "#### INDICE\n",
        "\n",
        "- I. Introducción.\n",
        "- II. Principios.\n",
        "- III. Machine learning ejemplo de app.\n",
        "- IV. Machine learning pipeline.\n",
        "- V. Cómo consumir los modelos.\n",
        "- VI. Testear productos de machine learning.\n",
        "- VII. Monitorización de modelos en producción.\n",
        "- Recursos."
      ],
      "id": "76c6efeb"
    },
    {
      "cell_type": "markdown",
      "metadata": {
        "id": "49f805fc"
      },
      "source": [
        "# I. Introducción"
      ],
      "id": "49f805fc"
    },
    {
      "cell_type": "markdown",
      "metadata": {
        "id": "07caca85"
      },
      "source": [
        "Un proyecto de software de Machine Learning es en muchos aspectos comparable con un proyecto de software tradicional. Sin embargo hay una complejidad añadida al proyecto de ML, **tiene más ejes sobre los que prestar atención.**\n",
        "\n",
        "En un proyecto de software tradicional hay que lidiar solo con lo relacionado al código, sin embargo para un proyecto de machine learning tenemos:\n",
        "- **Código**: Donde hay que tener en cuenta configuraciones, bugs, necesidades de negocio, etc.\n",
        "- **Datos**: El esquema de los datos, la volumetría de los datos, la variación con respecto al tiempo, etc.\n",
        "- **Modelo**: Algoritmos, métricas, experimentos, etc.\n",
        "\n",
        "Esto hace que un proyecto de ML sea más complejo de testear."
      ],
      "id": "07caca85"
    },
    {
      "cell_type": "markdown",
      "metadata": {
        "id": "5f85e3ec"
      },
      "source": [
        "## II. Principios"
      ],
      "id": "5f85e3ec"
    },
    {
      "cell_type": "markdown",
      "metadata": {
        "id": "6f321c39"
      },
      "source": [
        "Para ser lo más riguroso posible a la hora de trabajar en un proyecto de estas características debemos de tener el cuenta lo siguiente:\n",
        "\n",
        "- Afrontar el problema con lo que nos aporta el DevOps tradicional. Control de versiones, desarrollos, etc.\n",
        "- Que cada equipo se dedique a la parte que corresponde.\n",
        "- Producir software basado en código, datos y modelos.\n",
        "- Buscar acabar el proyecto paso a paso, con cambios pequeños que permitan adaptarse rápido a posibles cambios en contraposición con acabar algo completo de inicio a fin. \"Metodología Agile\".\n",
        "- En cada puesta a producción buscar que el producto esté testeado y sea fiable. Test unitarios de aplicación, código, modelo y datos."
      ],
      "id": "6f321c39"
    },
    {
      "cell_type": "markdown",
      "metadata": {
        "id": "caeaccff"
      },
      "source": [
        "<div>\n",
        "<img src=\"./images/devops.png\" width=\"500\"/>\n",
        "</div>"
      ],
      "id": "caeaccff"
    },
    {
      "cell_type": "markdown",
      "metadata": {
        "id": "bbae4a07"
      },
      "source": [
        "## III. Machine learning ejemplo de app"
      ],
      "id": "bbae4a07"
    },
    {
      "cell_type": "markdown",
      "metadata": {
        "id": "8c23d03b"
      },
      "source": [
        "<div>\n",
        "<img src=\"./images/ml-app.png\" width=\"900\"/>\n",
        "</div>"
      ],
      "id": "8c23d03b"
    },
    {
      "cell_type": "markdown",
      "metadata": {
        "id": "7d5239e8"
      },
      "source": [
        "De aquí podemos ver las diferentes partes que puede tener un ejemplo de aplicación de machine learning y como diferentes perfiles profesionales se dedican a diferentes partes."
      ],
      "id": "7d5239e8"
    },
    {
      "cell_type": "markdown",
      "metadata": {
        "id": "64c735ca"
      },
      "source": [
        "## IV. Machine learning pipeline"
      ],
      "id": "64c735ca"
    },
    {
      "cell_type": "markdown",
      "metadata": {
        "id": "ec02cfba"
      },
      "source": [
        "<div>\n",
        "<img src=\"./images/ml-pipe.png\" width=\"900\"/>\n",
        "</div>"
      ],
      "id": "ec02cfba"
    },
    {
      "cell_type": "markdown",
      "metadata": {
        "id": "73869b15"
      },
      "source": [
        "De esta imagen podemos ver lo que sería el pipeline de trabajo de un proyecto de machine learning.\n",
        "\n",
        "1. Extracción de datos: csv, bases de datos, webscrapping, etc.\n",
        "2. Split de datos en train, test, validación de la manera más idónea.\n",
        "3. Evaluar los diferentes modelos para extraer uno y monitorizar sus métricas.\n",
        "\n",
        "Herramienta para monitorizar modelos: [MLFlow](https://mlflow.org/)\n",
        "\n",
        "Herramiento de control de versiones para ciencia de datos (alternativa a git): [dvc](https://dvc.org/)"
      ],
      "id": "73869b15"
    },
    {
      "cell_type": "markdown",
      "metadata": {
        "id": "67f63158"
      },
      "source": [
        "## V. Cómo consumir los modelos"
      ],
      "id": "67f63158"
    },
    {
      "cell_type": "markdown",
      "metadata": {
        "id": "f581dbe0"
      },
      "source": [
        "Existen diferentes formas de consumir modelos cada una con una finalidad y con sus ventajas e inconvenientes, vamos a ver las principales:"
      ],
      "id": "f581dbe0"
    },
    {
      "cell_type": "markdown",
      "metadata": {
        "id": "c8b93db8"
      },
      "source": [
        "- **Modelo Embebido**: Esta forma de consumir un modelo es creandolo por fuera del producto y añadiéndolo a una carpeta dentro del proyecto como una parte más del mismo. **Pros**: Es una manera muy sencilla de consumir el modelo. Rápido el proceso de predicción. **Contras**: El versionado de modelo y de código no se diferencian, cada vez que cambias algo en alguna de las partes cambias la versión de todo el producto. Producto pesado en tamaño por el tamaño del modelo guardado."
      ],
      "id": "c8b93db8"
    },
    {
      "cell_type": "markdown",
      "metadata": {
        "id": "412cef95"
      },
      "source": [
        "- **Modelo como servicio**: Esta manera de consumir un modelo requiere de dos partes, una primera donde creas el servicio de consumo (vía API) donde puedes añadir características como el de entrenar el modelo previamente. Y otra segunda parte donde conectas tu proyecto con ese servicio para pedirle que te prediga los resultados. **Pros**: Separas las versiones de modelo con las versiones de código. **Contras**: Hay que tener en cuenta que en la aplicación hay que añadir la conexión a la API. Posible delay en el tiempo de respuesta de la conexión por lo que la predicción va a ser más lenta."
      ],
      "id": "412cef95"
    },
    {
      "cell_type": "markdown",
      "metadata": {
        "id": "3ea0b49d"
      },
      "source": [
        "- **Modelo como datos**: Esta manera de consumir los modelos es estática, es decir cuando llegan datos nuevos el modelo los predice y lo que nos devuelve es el resultado que es lo que vemos. **Pros**: El proyecto queda más simple. **Contras**: No podemos interaccionar con el modelo dado que queda oculto para los ojos de un usuario."
      ],
      "id": "3ea0b49d"
    },
    {
      "cell_type": "markdown",
      "metadata": {
        "id": "d0072cc9"
      },
      "source": [
        "## VI. Testear productos de machine learning"
      ],
      "id": "d0072cc9"
    },
    {
      "cell_type": "markdown",
      "metadata": {
        "id": "aa0cd347"
      },
      "source": [
        "Hay que tener en cuenta las tres patas de las que hemos hablado previamente y testearlas:\n",
        "- Datos: Validar el esquema, validar rangos de las columnas, escalas, si usamos OneHotEncoder validarlo, posibles outliers, etc.\n",
        "- Validar las componentes del código: Si nos conectamos a una API o a una base de datos hay que validar la conexión y tener capturados posibles errores.\n",
        "- Calidad del modelo: Monitorizar ratios de error, matrices de confusión, curva ROC, métricas, etc.\n",
        "- Analizar el bias del modelo."
      ],
      "id": "aa0cd347"
    },
    {
      "cell_type": "markdown",
      "metadata": {
        "id": "a8346007"
      },
      "source": [
        "<div>\n",
        "<img src=\"./images/ml-test.png\" width=\"800\"/>\n",
        "</div>"
      ],
      "id": "a8346007"
    },
    {
      "cell_type": "markdown",
      "metadata": {
        "id": "9ed3f8a1"
      },
      "source": [
        "## VII. Monitorización de modelos en producción"
      ],
      "id": "9ed3f8a1"
    },
    {
      "cell_type": "markdown",
      "metadata": {
        "id": "c36dbf28"
      },
      "source": [
        "- Monitorizar datos de inputs.\n",
        "- Monitorizar los outputs y la interpretabilidad de estos: Necesario para identificar sobre-entrenamiento y para arrojar luz sobre cómo está funcionando el modelo por dentro.\n",
        "- Monitorizar las posibles decisiones con los outputs: Comprobar cómo iría el problema de negocio si se sigue al pie de la letra el modelo."
      ],
      "id": "c36dbf28"
    },
    {
      "cell_type": "markdown",
      "metadata": {
        "id": "6b3c6389"
      },
      "source": [
        "Posibles herramientas para la monitorización: [Kibana](https://www.elastic.co/es/kibana?ultron=B-Stack-Trials-EMEA-S-Exact&gambit=Elasticsearch-Kibana&blade=adwords-s&hulk=cpc&Device=c&thor=kibana&gclid=Cj0KCQjwyN-DBhCDARIsAFOELTmgYiM0f5EOyrm8ryl-522E8BKGE8OY9ffpB6chEYFLCndqIYdsJIcaAgAWEALw_wcB), [ElasticSearch](https://www.elastic.co/es/about/free-and-open?ultron=fao-believes-in-open-adcopy&gambit=Elasticsearch-Core&blade=adwords-s&hulk=cpc&Device=c&thor=elasticsearch&gclid=Cj0KCQjwyN-DBhCDARIsAFOELTlpdScI-tVXlRa9aslXdgyK4GzD1w3NrbEigO7KWTToknS9FX4ak2YaAq6-EALw_wcB), [Fluentd](https://www.fluentd.org/).\n",
        "\n",
        "WorkShop para practicar: [cd4ml](https://github.com/ThoughtWorksInc/cd4ml-workshop)"
      ],
      "id": "6b3c6389"
    },
    {
      "cell_type": "markdown",
      "metadata": {
        "id": "24d861cc"
      },
      "source": [
        "## Recursos"
      ],
      "id": "24d861cc"
    },
    {
      "cell_type": "markdown",
      "metadata": {
        "id": "8ef1ae23"
      },
      "source": [
        "Lectura del archivo **rules_of_ml.pdf**"
      ],
      "id": "8ef1ae23"
    },
    {
      "cell_type": "code",
      "metadata": {
        "id": "eb61aafc"
      },
      "source": [
        ""
      ],
      "id": "eb61aafc",
      "execution_count": null,
      "outputs": []
    }
  ]
}