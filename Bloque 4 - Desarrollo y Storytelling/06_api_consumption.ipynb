{
 "cells": [
  {
   "cell_type": "markdown",
   "metadata": {
    "id": "c3b30a71"
   },
   "source": [
    "# Consumo de la API"
   ]
  },
  {
   "cell_type": "markdown",
   "metadata": {
    "id": "39b4332f"
   },
   "source": [
    "#### INDICE\n",
    "- I. Establecemos URL.\n",
    "- II. Añadimos los datos que queremos predecir.\n",
    "- III. Nos conectamos a la API.\n",
    "- Recursos."
   ]
  },
  {
   "cell_type": "code",
   "execution_count": null,
   "metadata": {
    "id": "2a4f206c"
   },
   "outputs": [],
   "source": [
    "import json\n",
    "import random\n",
    "import requests\n",
    "\n",
    "import numpy as np"
   ]
  },
  {
   "cell_type": "markdown",
   "metadata": {
    "id": "2b6c9820"
   },
   "source": [
    "## I. Establecemos URL"
   ]
  },
  {
   "cell_type": "code",
   "execution_count": null,
   "metadata": {
    "id": "fdfb111a"
   },
   "outputs": [],
   "source": [
    "# Esta es la dirección donde tenemos alojada la API que acabamos de crear\n",
    "url = \"http://localhost:8181/\""
   ]
  },
  {
   "cell_type": "markdown",
   "metadata": {
    "id": "56d2925b"
   },
   "source": [
    "## II. Añadimos los datos que queremos predecir"
   ]
  },
  {
   "cell_type": "code",
   "execution_count": null,
   "metadata": {
    "id": "91062e8a",
    "outputId": "025cb2ce-89a0-43bb-bc6b-de396a3b549d"
   },
   "outputs": [
    {
     "data": {
      "text/plain": [
       "[[14.34, 1.68, 2.7, 40.0, 100.0, 2.8, 1.31, 0.53, 2.7, 10.0, 0.1, 1.2, 400.0]]"
      ]
     },
     "execution_count": 22,
     "metadata": {
      "tags": []
     },
     "output_type": "execute_result"
    }
   ],
   "source": [
    "data = [\n",
    "    [14.34, 1.68, 2.7, 25.0, 98.0, 2.8, 1.31, 0.53, 2.7, 13.0, 0.57, 1.96, 660.0]\n",
    "]\n",
    "data"
   ]
  },
  {
   "cell_type": "code",
   "execution_count": null,
   "metadata": {
    "id": "1831a011",
    "outputId": "9160f621-0ccd-42ba-c8dc-74c33c3b1200"
   },
   "outputs": [
    {
     "data": {
      "text/plain": [
       "'[[14.34, 1.68, 2.7, 40.0, 100.0, 2.8, 1.31, 0.53, 2.7, 10.0, 0.1, 1.2, 400.0]]'"
      ]
     },
     "execution_count": 23,
     "metadata": {
      "tags": []
     },
     "output_type": "execute_result"
    }
   ],
   "source": [
    "# Es necesario que transformemos nuestros datos en json para que sean consumibles por la API, dado que se pasan por red.\n",
    "j_data = json.dumps(data)\n",
    "j_data"
   ]
  },
  {
   "cell_type": "markdown",
   "metadata": {
    "id": "d131dffd"
   },
   "source": [
    "## III. Nos conectamos a la API"
   ]
  },
  {
   "cell_type": "code",
   "execution_count": null,
   "metadata": {
    "id": "9339d92b",
    "outputId": "ab8d2081-308a-40be-c4c4-55bbb0ec2a24"
   },
   "outputs": [
    {
     "data": {
      "text/plain": [
       "'everything ok here'"
      ]
     },
     "execution_count": 24,
     "metadata": {
      "tags": []
     },
     "output_type": "execute_result"
    }
   ],
   "source": [
    "requests.get(url + \"health\").text"
   ]
  },
  {
   "cell_type": "code",
   "execution_count": null,
   "metadata": {
    "collapsed": true,
    "id": "9949a72c",
    "jupyter": {
     "outputs_hidden": true
    },
    "outputId": "b54698b1-08d6-44b3-af22-d09da47cb214"
   },
   "outputs": [
    {
     "data": {
      "text/plain": [
       "[30.149143945214085,\n",
       " 29.146223829892282,\n",
       " 32.20974572045972,\n",
       " 30.07301355574298,\n",
       " 30.78971300695316,\n",
       " 30.042727962580116,\n",
       " 29.71816114337355,\n",
       " 30.82853819697487,\n",
       " 29.070350239223114,\n",
       " 30.218757812126327,\n",
       " 28.223043407979766,\n",
       " 30.828931346230977,\n",
       " 27.94438062654251]"
      ]
     },
     "execution_count": 39,
     "metadata": {
      "tags": []
     },
     "output_type": "execute_result"
    }
   ],
   "source": [
    "list(np.random.normal(0, 1, 13) + random.randint(1, 100))"
   ]
  },
  {
   "cell_type": "code",
   "execution_count": null,
   "metadata": {
    "collapsed": true,
    "id": "5c201220",
    "jupyter": {
     "outputs_hidden": true
    },
    "outputId": "882a571a-15e1-4704-84bb-dc068c2f8555"
   },
   "outputs": [
    {
     "name": "stdout",
     "output_type": "stream",
     "text": [
      "\"[0.]\"\n",
      "\n",
      "\"[1.]\"\n",
      "\n",
      "\"[0.]\"\n",
      "\n",
      "\"[1.]\"\n",
      "\n",
      "\"[0.]\"\n",
      "\n",
      "\"[0.]\"\n",
      "\n",
      "\"[0.]\"\n",
      "\n",
      "\"[0.]\"\n",
      "\n",
      "\"[0.]\"\n",
      "\n",
      "\"[1.]\"\n",
      "\n",
      "\"[0.]\"\n",
      "\n",
      "\"[1.]\"\n",
      "\n",
      "\"[0.]\"\n",
      "\n",
      "\"[0.]\"\n",
      "\n",
      "\"[0.]\"\n",
      "\n",
      "\"[0.]\"\n",
      "\n",
      "\"[0.]\"\n",
      "\n",
      "\"[2.]\"\n",
      "\n",
      "\"[0.]\"\n",
      "\n",
      "\"[0.]\"\n",
      "\n",
      "\"[0.]\"\n",
      "\n",
      "\"[1.]\"\n",
      "\n",
      "\"[0.]\"\n",
      "\n",
      "\"[1.]\"\n",
      "\n",
      "\"[0.]\"\n",
      "\n",
      "\"[1.]\"\n",
      "\n",
      "\"[0.]\"\n",
      "\n",
      "\"[0.]\"\n",
      "\n",
      "\"[0.]\"\n",
      "\n",
      "\"[0.]\"\n",
      "\n",
      "\"[0.]\"\n",
      "\n",
      "\"[0.]\"\n",
      "\n",
      "\"[0.]\"\n",
      "\n",
      "\"[0.]\"\n",
      "\n",
      "\"[0.]\"\n",
      "\n",
      "\"[0.]\"\n",
      "\n",
      "\"[0.]\"\n",
      "\n",
      "\"[0.]\"\n",
      "\n",
      "\"[2.]\"\n",
      "\n",
      "\"[1.]\"\n",
      "\n",
      "\"[0.]\"\n",
      "\n",
      "\"[1.]\"\n",
      "\n",
      "\"[0.]\"\n",
      "\n",
      "\"[0.]\"\n",
      "\n",
      "\"[0.]\"\n",
      "\n",
      "\"[0.]\"\n",
      "\n",
      "\"[0.]\"\n",
      "\n",
      "\"[0.]\"\n",
      "\n",
      "\"[0.]\"\n",
      "\n",
      "\"[0.]\"\n",
      "\n",
      "\"[0.]\"\n",
      "\n",
      "\"[0.]\"\n",
      "\n",
      "\"[0.]\"\n",
      "\n",
      "\"[0.]\"\n",
      "\n",
      "\"[0.]\"\n",
      "\n",
      "\"[0.]\"\n",
      "\n",
      "\"[0.]\"\n",
      "\n",
      "\"[0.]\"\n",
      "\n",
      "\"[0.]\"\n",
      "\n",
      "\"[1.]\"\n",
      "\n",
      "\"[0.]\"\n",
      "\n",
      "\"[0.]\"\n",
      "\n",
      "\"[0.]\"\n",
      "\n",
      "\"[1.]\"\n",
      "\n",
      "\"[0.]\"\n",
      "\n",
      "\"[0.]\"\n",
      "\n",
      "\"[0.]\"\n",
      "\n",
      "\"[0.]\"\n",
      "\n",
      "\"[1.]\"\n",
      "\n",
      "\"[0.]\"\n",
      "\n",
      "\"[0.]\"\n",
      "\n",
      "\"[0.]\"\n",
      "\n",
      "\"[0.]\"\n",
      "\n",
      "\"[0.]\"\n",
      "\n",
      "\"[0.]\"\n",
      "\n",
      "\"[0.]\"\n",
      "\n",
      "\"[0.]\"\n",
      "\n",
      "\"[0.]\"\n",
      "\n",
      "\"[0.]\"\n",
      "\n",
      "\"[0.]\"\n",
      "\n",
      "\"[0.]\"\n",
      "\n",
      "\"[1.]\"\n",
      "\n",
      "\"[0.]\"\n",
      "\n",
      "\"[1.]\"\n",
      "\n",
      "\"[0.]\"\n",
      "\n",
      "\"[0.]\"\n",
      "\n",
      "\"[0.]\"\n",
      "\n",
      "\"[0.]\"\n",
      "\n",
      "\"[0.]\"\n",
      "\n",
      "\"[0.]\"\n",
      "\n",
      "\"[0.]\"\n",
      "\n",
      "\"[1.]\"\n",
      "\n",
      "\"[0.]\"\n",
      "\n",
      "\"[0.]\"\n",
      "\n",
      "\"[1.]\"\n",
      "\n",
      "\"[0.]\"\n",
      "\n",
      "\"[0.]\"\n",
      "\n",
      "\"[0.]\"\n",
      "\n",
      "\"[1.]\"\n",
      "\n",
      "\"[0.]\"\n",
      "\n"
     ]
    }
   ],
   "source": [
    "headers = {\n",
    "    \"content-type\": \"application/json\",\n",
    "    \"Accept-Charset\": \"UTF-8\"\n",
    "}\n",
    "data = []\n",
    "for _ in range(100):\n",
    "    data.append(list(np.random.normal(0, 1, 13) + random.randint(1, 100)))\n",
    "    \n",
    "\n",
    "for d in data:\n",
    "    dj = json.dumps([d])\n",
    "    r = requests.post(url + \"api/\", data=dj, headers=headers)\n",
    "    print(r.text)"
   ]
  },
  {
   "cell_type": "code",
   "execution_count": null,
   "metadata": {
    "id": "6e155161",
    "outputId": "f897ca89-2ade-4df9-cbfb-a63921da099d"
   },
   "outputs": [
    {
     "name": "stdout",
     "output_type": "stream",
     "text": [
      "<Response [200]> \"[2.]\"\n",
      "\n"
     ]
    }
   ],
   "source": [
    "print(r, r.text)"
   ]
  },
  {
   "cell_type": "markdown",
   "metadata": {
    "id": "2932e1de"
   },
   "source": [
    "## Recursos"
   ]
  },
  {
   "cell_type": "markdown",
   "metadata": {
    "id": "0d23e2a1"
   },
   "source": [
    "- [Mega Tutorial Flask](https://blog.miguelgrinberg.com/post/the-flask-mega-tutorial-part-i-hello-world)\n",
    "- [Deploying ML Models UDEMY Course](https://www.udemy.com/course/deployment-of-machine-learning-models/)\n",
    "- [Resources: \"Deploying ML Models UDEMY Course\"](https://github.com/trainindata/deploying-machine-learning-models)"
   ]
  },
  {
   "cell_type": "code",
   "execution_count": null,
   "metadata": {
    "id": "21ba63eb"
   },
   "outputs": [],
   "source": []
  }
 ],
 "metadata": {
  "colab": {
   "name": "06_api_consumption.ipynb",
   "provenance": []
  },
  "kernelspec": {
   "display_name": "Python 3",
   "language": "python",
   "name": "python3"
  },
  "language_info": {
   "codemirror_mode": {
    "name": "ipython",
    "version": 3
   },
   "file_extension": ".py",
   "mimetype": "text/x-python",
   "name": "python",
   "nbconvert_exporter": "python",
   "pygments_lexer": "ipython3",
   "version": "3.8.5"
  }
 },
 "nbformat": 4,
 "nbformat_minor": 5
}
