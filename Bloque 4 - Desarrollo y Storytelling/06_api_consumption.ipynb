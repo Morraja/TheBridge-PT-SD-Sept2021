{
  "nbformat": 4,
  "nbformat_minor": 5,
  "metadata": {
    "kernelspec": {
      "display_name": "Python 3",
      "language": "python",
      "name": "python3"
    },
    "language_info": {
      "codemirror_mode": {
        "name": "ipython",
        "version": 3
      },
      "file_extension": ".py",
      "mimetype": "text/x-python",
      "name": "python",
      "nbconvert_exporter": "python",
      "pygments_lexer": "ipython3",
      "version": "3.8.8"
    },
    "colab": {
      "name": "06_api_consumption.ipynb",
      "provenance": []
    }
  },
  "cells": [
    {
      "cell_type": "markdown",
      "metadata": {
        "id": "c3b30a71"
      },
      "source": [
        "# Consumo de la API"
      ],
      "id": "c3b30a71"
    },
    {
      "cell_type": "markdown",
      "metadata": {
        "id": "39b4332f"
      },
      "source": [
        "#### INDICE\n",
        "- I. Establecemos URL.\n",
        "- II. Añadimos los datos que queremos predecir.\n",
        "- III. Nos conectamos a la API.\n",
        "- Recursos."
      ],
      "id": "39b4332f"
    },
    {
      "cell_type": "code",
      "metadata": {
        "id": "2a4f206c"
      },
      "source": [
        "import json\n",
        "import random\n",
        "import requests\n",
        "\n",
        "import numpy as np"
      ],
      "id": "2a4f206c",
      "execution_count": null,
      "outputs": []
    },
    {
      "cell_type": "markdown",
      "metadata": {
        "id": "2b6c9820"
      },
      "source": [
        "## I. Establecemos URL"
      ],
      "id": "2b6c9820"
    },
    {
      "cell_type": "code",
      "metadata": {
        "id": "fdfb111a"
      },
      "source": [
        "# Esta es la dirección donde tenemos alojada la API que acabamos de crear\n",
        "url = \"http://localhost:8181/\""
      ],
      "id": "fdfb111a",
      "execution_count": null,
      "outputs": []
    },
    {
      "cell_type": "markdown",
      "metadata": {
        "id": "56d2925b"
      },
      "source": [
        "## II. Añadimos los datos que queremos predecir"
      ],
      "id": "56d2925b"
    },
    {
      "cell_type": "code",
      "metadata": {
        "id": "91062e8a",
        "outputId": "8eabb917-367c-4500-cbe6-98a9a6e96cef"
      },
      "source": [
        "data = [\n",
        "    [14.34, 1.68, 2.7, 25.0, 98.0, 2.8, 1.31, 0.53, 2.7, 13.0, 0.57, 1.96, 660.0]\n",
        "]\n",
        "data"
      ],
      "id": "91062e8a",
      "execution_count": null,
      "outputs": [
        {
          "output_type": "execute_result",
          "data": {
            "text/plain": [
              "[[14.34, 1.68, 2.7, 40.0, 100.0, 2.8, 1.31, 0.53, 2.7, 10.0, 0.1, 1.2, 400.0]]"
            ]
          },
          "metadata": {
            "tags": []
          },
          "execution_count": 22
        }
      ]
    },
    {
      "cell_type": "code",
      "metadata": {
        "id": "1831a011",
        "outputId": "22f23df9-0b7c-44bf-cb11-34a82439e378"
      },
      "source": [
        "# Es necesario que transformemos nuestros datos en json para que sean consumibles por la API, dado que se pasan por red.\n",
        "j_data = json.dumps(data)\n",
        "j_data"
      ],
      "id": "1831a011",
      "execution_count": null,
      "outputs": [
        {
          "output_type": "execute_result",
          "data": {
            "text/plain": [
              "'[[14.34, 1.68, 2.7, 40.0, 100.0, 2.8, 1.31, 0.53, 2.7, 10.0, 0.1, 1.2, 400.0]]'"
            ]
          },
          "metadata": {
            "tags": []
          },
          "execution_count": 23
        }
      ]
    },
    {
      "cell_type": "markdown",
      "metadata": {
        "id": "d131dffd"
      },
      "source": [
        "## III. Nos conectamos a la API"
      ],
      "id": "d131dffd"
    },
    {
      "cell_type": "code",
      "metadata": {
        "id": "9339d92b",
        "outputId": "aa7eee1b-5185-44d8-e539-dfb0939423a5"
      },
      "source": [
        "requests.get(url + \"health\").text"
      ],
      "id": "9339d92b",
      "execution_count": null,
      "outputs": [
        {
          "output_type": "execute_result",
          "data": {
            "text/plain": [
              "'everything ok here'"
            ]
          },
          "metadata": {
            "tags": []
          },
          "execution_count": 24
        }
      ]
    },
    {
      "cell_type": "code",
      "metadata": {
        "id": "9949a72c",
        "outputId": "6dc92c61-9bb5-44dc-df90-eee1d773e75e"
      },
      "source": [
        "list(np.random.normal(0, 1, 13) + random.randint(1, 100))"
      ],
      "id": "9949a72c",
      "execution_count": null,
      "outputs": [
        {
          "output_type": "execute_result",
          "data": {
            "text/plain": [
              "[30.149143945214085,\n",
              " 29.146223829892282,\n",
              " 32.20974572045972,\n",
              " 30.07301355574298,\n",
              " 30.78971300695316,\n",
              " 30.042727962580116,\n",
              " 29.71816114337355,\n",
              " 30.82853819697487,\n",
              " 29.070350239223114,\n",
              " 30.218757812126327,\n",
              " 28.223043407979766,\n",
              " 30.828931346230977,\n",
              " 27.94438062654251]"
            ]
          },
          "metadata": {
            "tags": []
          },
          "execution_count": 39
        }
      ]
    },
    {
      "cell_type": "code",
      "metadata": {
        "id": "5c201220",
        "outputId": "3cf5d6d2-caaa-4f4c-e15d-43e380a5b45f"
      },
      "source": [
        "headers = {\n",
        "    \"content-type\": \"application/json\",\n",
        "    \"Accept-Charset\": \"UTF-8\"\n",
        "}\n",
        "data = []\n",
        "for _ in range(100):\n",
        "    data.append(list(np.random.normal(0, 1, 13) + random.randint(1, 100)))\n",
        "    \n",
        "\n",
        "for d in data:\n",
        "    dj = json.dumps([d])\n",
        "    r = requests.post(url + \"api/\", data=dj, headers=headers)\n",
        "    print(r.text)"
      ],
      "id": "5c201220",
      "execution_count": null,
      "outputs": [
        {
          "output_type": "stream",
          "text": [
            "\"[0.]\"\n",
            "\n",
            "\"[1.]\"\n",
            "\n",
            "\"[0.]\"\n",
            "\n",
            "\"[1.]\"\n",
            "\n",
            "\"[0.]\"\n",
            "\n",
            "\"[0.]\"\n",
            "\n",
            "\"[0.]\"\n",
            "\n",
            "\"[0.]\"\n",
            "\n",
            "\"[0.]\"\n",
            "\n",
            "\"[1.]\"\n",
            "\n",
            "\"[0.]\"\n",
            "\n",
            "\"[1.]\"\n",
            "\n",
            "\"[0.]\"\n",
            "\n",
            "\"[0.]\"\n",
            "\n",
            "\"[0.]\"\n",
            "\n",
            "\"[0.]\"\n",
            "\n",
            "\"[0.]\"\n",
            "\n",
            "\"[2.]\"\n",
            "\n",
            "\"[0.]\"\n",
            "\n",
            "\"[0.]\"\n",
            "\n",
            "\"[0.]\"\n",
            "\n",
            "\"[1.]\"\n",
            "\n",
            "\"[0.]\"\n",
            "\n",
            "\"[1.]\"\n",
            "\n",
            "\"[0.]\"\n",
            "\n",
            "\"[1.]\"\n",
            "\n",
            "\"[0.]\"\n",
            "\n",
            "\"[0.]\"\n",
            "\n",
            "\"[0.]\"\n",
            "\n",
            "\"[0.]\"\n",
            "\n",
            "\"[0.]\"\n",
            "\n",
            "\"[0.]\"\n",
            "\n",
            "\"[0.]\"\n",
            "\n",
            "\"[0.]\"\n",
            "\n",
            "\"[0.]\"\n",
            "\n",
            "\"[0.]\"\n",
            "\n",
            "\"[0.]\"\n",
            "\n",
            "\"[0.]\"\n",
            "\n",
            "\"[2.]\"\n",
            "\n",
            "\"[1.]\"\n",
            "\n",
            "\"[0.]\"\n",
            "\n",
            "\"[1.]\"\n",
            "\n",
            "\"[0.]\"\n",
            "\n",
            "\"[0.]\"\n",
            "\n",
            "\"[0.]\"\n",
            "\n",
            "\"[0.]\"\n",
            "\n",
            "\"[0.]\"\n",
            "\n",
            "\"[0.]\"\n",
            "\n",
            "\"[0.]\"\n",
            "\n",
            "\"[0.]\"\n",
            "\n",
            "\"[0.]\"\n",
            "\n",
            "\"[0.]\"\n",
            "\n",
            "\"[0.]\"\n",
            "\n",
            "\"[0.]\"\n",
            "\n",
            "\"[0.]\"\n",
            "\n",
            "\"[0.]\"\n",
            "\n",
            "\"[0.]\"\n",
            "\n",
            "\"[0.]\"\n",
            "\n",
            "\"[0.]\"\n",
            "\n",
            "\"[1.]\"\n",
            "\n",
            "\"[0.]\"\n",
            "\n",
            "\"[0.]\"\n",
            "\n",
            "\"[0.]\"\n",
            "\n",
            "\"[1.]\"\n",
            "\n",
            "\"[0.]\"\n",
            "\n",
            "\"[0.]\"\n",
            "\n",
            "\"[0.]\"\n",
            "\n",
            "\"[0.]\"\n",
            "\n",
            "\"[1.]\"\n",
            "\n",
            "\"[0.]\"\n",
            "\n",
            "\"[0.]\"\n",
            "\n",
            "\"[0.]\"\n",
            "\n",
            "\"[0.]\"\n",
            "\n",
            "\"[0.]\"\n",
            "\n",
            "\"[0.]\"\n",
            "\n",
            "\"[0.]\"\n",
            "\n",
            "\"[0.]\"\n",
            "\n",
            "\"[0.]\"\n",
            "\n",
            "\"[0.]\"\n",
            "\n",
            "\"[0.]\"\n",
            "\n",
            "\"[0.]\"\n",
            "\n",
            "\"[1.]\"\n",
            "\n",
            "\"[0.]\"\n",
            "\n",
            "\"[1.]\"\n",
            "\n",
            "\"[0.]\"\n",
            "\n",
            "\"[0.]\"\n",
            "\n",
            "\"[0.]\"\n",
            "\n",
            "\"[0.]\"\n",
            "\n",
            "\"[0.]\"\n",
            "\n",
            "\"[0.]\"\n",
            "\n",
            "\"[0.]\"\n",
            "\n",
            "\"[1.]\"\n",
            "\n",
            "\"[0.]\"\n",
            "\n",
            "\"[0.]\"\n",
            "\n",
            "\"[1.]\"\n",
            "\n",
            "\"[0.]\"\n",
            "\n",
            "\"[0.]\"\n",
            "\n",
            "\"[0.]\"\n",
            "\n",
            "\"[1.]\"\n",
            "\n",
            "\"[0.]\"\n",
            "\n"
          ],
          "name": "stdout"
        }
      ]
    },
    {
      "cell_type": "code",
      "metadata": {
        "id": "6e155161",
        "outputId": "19829a47-93f7-4c11-922f-799ad15eaead"
      },
      "source": [
        "print(r, r.text)"
      ],
      "id": "6e155161",
      "execution_count": null,
      "outputs": [
        {
          "output_type": "stream",
          "text": [
            "<Response [200]> \"[2.]\"\n",
            "\n"
          ],
          "name": "stdout"
        }
      ]
    },
    {
      "cell_type": "markdown",
      "metadata": {
        "id": "2932e1de"
      },
      "source": [
        "## Recursos"
      ],
      "id": "2932e1de"
    },
    {
      "cell_type": "markdown",
      "metadata": {
        "id": "0d23e2a1"
      },
      "source": [
        "- [Mega Tutorial Flask](https://blog.miguelgrinberg.com/post/the-flask-mega-tutorial-part-i-hello-world)\n",
        "- [Deploying ML Models UDEMY Course](https://www.udemy.com/course/deployment-of-machine-learning-models/)\n",
        "- [Resources: \"Deploying ML Models UDEMY Course\"](https://github.com/trainindata/deploying-machine-learning-models)"
      ],
      "id": "0d23e2a1"
    },
    {
      "cell_type": "code",
      "metadata": {
        "id": "21ba63eb"
      },
      "source": [
        ""
      ],
      "id": "21ba63eb",
      "execution_count": null,
      "outputs": []
    }
  ]
}